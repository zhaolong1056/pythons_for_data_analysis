{
 "cells": [
  {
   "cell_type": "markdown",
   "metadata": {},
   "source": [
    "## 数据结构和序列"
   ]
  },
  {
   "cell_type": "markdown",
   "metadata": {},
   "source": [
    "### 元组"
   ]
  },
  {
   "cell_type": "markdown",
   "metadata": {},
   "source": [
    "元组\n",
    "- 一种**长度固定，不可变**的Python对象**序列**\n",
    "- 创建元组\n",
    "    -  简单的方式：**逗号**分隔序列值\n",
    "    -  正式的方式： 用**圆括号**将逗号分隔的序列值括起来\n",
    "    -  构造函数 `touple`将任意序列或迭代器转换为元组\n",
    "    - 当只有一个元素的时候，必须添加一个逗号，否则被处理成了字符串或数值\n",
    "- 元组属于序列，支持切片和索引操作\n",
    "- 元组是不可变的，元组一旦创建，各个位置上的元素无法修改\n",
    "    - 但是，元组中存储的对象可能是可变的，如列表。可以进行**内部修改**\n",
    "- 元组的运算\n",
    "    - `+` 连接两个元组，创建更长的元组\n",
    "    - `*` 元组乘以整数，生成含有多份拷贝的元组\n",
    "    - 注意：对象本身没有被复制，只是**指向他们的引用进行了复制**"
   ]
  },
  {
   "cell_type": "code",
   "execution_count": 2,
   "metadata": {
    "ExecuteTime": {
     "end_time": "2020-11-10T04:04:51.116199Z",
     "start_time": "2020-11-10T04:04:51.101209Z"
    }
   },
   "outputs": [
    {
     "data": {
      "text/plain": [
       "((4, 5, 6), tuple)"
      ]
     },
     "execution_count": 2,
     "metadata": {},
     "output_type": "execute_result"
    }
   ],
   "source": [
    "tup = 4, 5,6 \n",
    "tup, type(tup)"
   ]
  },
  {
   "cell_type": "code",
   "execution_count": 3,
   "metadata": {
    "ExecuteTime": {
     "end_time": "2020-11-10T04:06:23.299810Z",
     "start_time": "2020-11-10T04:06:23.291815Z"
    }
   },
   "outputs": [
    {
     "data": {
      "text/plain": [
       "(([1, 2, 3], '中国'), tuple)"
      ]
     },
     "execution_count": 3,
     "metadata": {},
     "output_type": "execute_result"
    }
   ],
   "source": [
    "nested_tup = [1,2,3], '中国'\n",
    "nested_tup, type(nested_tup)"
   ]
  },
  {
   "cell_type": "code",
   "execution_count": 4,
   "metadata": {
    "ExecuteTime": {
     "end_time": "2020-11-10T04:06:37.380139Z",
     "start_time": "2020-11-10T04:06:37.371131Z"
    }
   },
   "outputs": [
    {
     "data": {
      "text/plain": [
       "('中', '国')"
      ]
     },
     "execution_count": 4,
     "metadata": {},
     "output_type": "execute_result"
    }
   ],
   "source": [
    "tuple(\"中国\")"
   ]
  },
  {
   "cell_type": "code",
   "execution_count": 5,
   "metadata": {
    "ExecuteTime": {
     "end_time": "2020-11-10T04:06:54.755241Z",
     "start_time": "2020-11-10T04:06:54.741245Z"
    }
   },
   "outputs": [
    {
     "data": {
      "text/plain": [
       "'中'"
      ]
     },
     "execution_count": 5,
     "metadata": {},
     "output_type": "execute_result"
    }
   ],
   "source": [
    "tuple(\"中国\")[0]"
   ]
  },
  {
   "cell_type": "markdown",
   "metadata": {},
   "source": [
    "![对象本身没有被复制，只是指向他们的引用进行了复制](https://gitee.com/zhao_long/image-store/raw/master/img/20201110120947.png)"
   ]
  },
  {
   "cell_type": "code",
   "execution_count": 6,
   "metadata": {
    "ExecuteTime": {
     "end_time": "2020-11-10T04:11:01.132369Z",
     "start_time": "2020-11-10T04:11:01.123374Z"
    }
   },
   "outputs": [
    {
     "data": {
      "text/plain": [
       "('foo', [1, 2], True)"
      ]
     },
     "execution_count": 6,
     "metadata": {},
     "output_type": "execute_result"
    }
   ],
   "source": [
    "tup = tuple(['foo',[1,2],True])\n",
    "tup"
   ]
  },
  {
   "cell_type": "code",
   "execution_count": 7,
   "metadata": {
    "ExecuteTime": {
     "end_time": "2020-11-10T04:11:10.734631Z",
     "start_time": "2020-11-10T04:11:10.524098Z"
    }
   },
   "outputs": [
    {
     "ename": "TypeError",
     "evalue": "'tuple' object does not support item assignment",
     "output_type": "error",
     "traceback": [
      "\u001b[1;31m---------------------------------------------------------------------------\u001b[0m",
      "\u001b[1;31mTypeError\u001b[0m                                 Traceback (most recent call last)",
      "\u001b[1;32m<ipython-input-7-ce7cc6ef864f>\u001b[0m in \u001b[0;36m<module>\u001b[1;34m\u001b[0m\n\u001b[1;32m----> 1\u001b[1;33m \u001b[0mtup\u001b[0m\u001b[1;33m[\u001b[0m\u001b[1;36m1\u001b[0m\u001b[1;33m]\u001b[0m \u001b[1;33m=\u001b[0m \u001b[1;33m[\u001b[0m\u001b[1;36m1\u001b[0m\u001b[1;33m,\u001b[0m\u001b[1;36m2\u001b[0m\u001b[1;33m,\u001b[0m\u001b[1;36m3\u001b[0m\u001b[1;33m,\u001b[0m\u001b[1;36m4\u001b[0m\u001b[1;33m]\u001b[0m\u001b[1;33m\u001b[0m\u001b[1;33m\u001b[0m\u001b[0m\n\u001b[0m",
      "\u001b[1;31mTypeError\u001b[0m: 'tuple' object does not support item assignment"
     ]
    }
   ],
   "source": [
    "tup[1] = [1,2,3,4]"
   ]
  },
  {
   "cell_type": "code",
   "execution_count": 8,
   "metadata": {
    "ExecuteTime": {
     "end_time": "2020-11-10T04:11:30.440338Z",
     "start_time": "2020-11-10T04:11:30.427347Z"
    }
   },
   "outputs": [
    {
     "data": {
      "text/plain": [
       "3017973461184"
      ]
     },
     "execution_count": 8,
     "metadata": {},
     "output_type": "execute_result"
    }
   ],
   "source": [
    "id(tup[1])"
   ]
  },
  {
   "cell_type": "code",
   "execution_count": 9,
   "metadata": {
    "ExecuteTime": {
     "end_time": "2020-11-10T04:11:47.316112Z",
     "start_time": "2020-11-10T04:11:47.299122Z"
    }
   },
   "outputs": [
    {
     "data": {
      "text/plain": [
       "3017973461184"
      ]
     },
     "execution_count": 9,
     "metadata": {},
     "output_type": "execute_result"
    }
   ],
   "source": [
    "tup[1].append(100)\n",
    "id(tup[1])"
   ]
  },
  {
   "cell_type": "code",
   "execution_count": 10,
   "metadata": {
    "ExecuteTime": {
     "end_time": "2020-11-10T04:11:52.634162Z",
     "start_time": "2020-11-10T04:11:52.620172Z"
    }
   },
   "outputs": [
    {
     "data": {
      "text/plain": [
       "('foo', [1, 2, 100], True)"
      ]
     },
     "execution_count": 10,
     "metadata": {},
     "output_type": "execute_result"
    }
   ],
   "source": [
    "tup"
   ]
  },
  {
   "cell_type": "markdown",
   "metadata": {},
   "source": [
    "元组拆包\n",
    "- 将元组型的表达式赋值给变量时，Python会**对等边的表达式进行拆包**\n",
    "- **等号左右两边的变量或元素必须对应**\n",
    "- 嵌套的元素也可以拆包，但是对应的变量也必须是嵌套形式\n",
    "- 常用场景\n",
    "    1. 交还变量名\n",
    "    2. 遍历元组或列表组成的序列\n",
    "-  使用`*rest`获取从起始位置的一些元素，剩余的元素放到rest中，rest一般使用`_`，忽略不用"
   ]
  },
  {
   "cell_type": "code",
   "execution_count": 12,
   "metadata": {
    "ExecuteTime": {
     "end_time": "2020-11-10T04:20:51.787121Z",
     "start_time": "2020-11-10T04:20:51.778126Z"
    }
   },
   "outputs": [
    {
     "data": {
      "text/plain": [
       "(4, 5, 6)"
      ]
     },
     "execution_count": 12,
     "metadata": {},
     "output_type": "execute_result"
    }
   ],
   "source": [
    "tup = 4, 5, 6\n",
    "a,b,c = tup\n",
    "a,b,c"
   ]
  },
  {
   "cell_type": "code",
   "execution_count": 14,
   "metadata": {
    "ExecuteTime": {
     "end_time": "2020-11-10T04:21:07.388179Z",
     "start_time": "2020-11-10T04:21:07.378170Z"
    }
   },
   "outputs": [
    {
     "data": {
      "text/plain": [
       "7"
      ]
     },
     "execution_count": 14,
     "metadata": {},
     "output_type": "execute_result"
    }
   ],
   "source": [
    "tup = 4, 5, (6, 7)\n",
    "a,b,(c,d) = tup \n",
    "d"
   ]
  },
  {
   "cell_type": "code",
   "execution_count": 15,
   "metadata": {
    "ExecuteTime": {
     "end_time": "2020-11-10T04:21:31.927678Z",
     "start_time": "2020-11-10T04:21:31.913688Z"
    }
   },
   "outputs": [],
   "source": [
    "a , b = 100, -1"
   ]
  },
  {
   "cell_type": "code",
   "execution_count": 16,
   "metadata": {
    "ExecuteTime": {
     "end_time": "2020-11-10T04:21:43.057096Z",
     "start_time": "2020-11-10T04:21:43.043091Z"
    }
   },
   "outputs": [
    {
     "data": {
      "text/plain": [
       "(100, -1)"
      ]
     },
     "execution_count": 16,
     "metadata": {},
     "output_type": "execute_result"
    }
   ],
   "source": [
    "b, a = a, b \n",
    "b,a"
   ]
  },
  {
   "cell_type": "code",
   "execution_count": 18,
   "metadata": {
    "ExecuteTime": {
     "end_time": "2020-11-10T04:23:12.926844Z",
     "start_time": "2020-11-10T04:23:12.911853Z"
    }
   },
   "outputs": [
    {
     "data": {
      "text/plain": [
       "1"
      ]
     },
     "execution_count": 18,
     "metadata": {},
     "output_type": "execute_result"
    }
   ],
   "source": [
    "tup = (1,2,3,4,5,6,7)\n",
    "a, *rest = tup\n",
    "a"
   ]
  },
  {
   "cell_type": "code",
   "execution_count": 19,
   "metadata": {
    "ExecuteTime": {
     "end_time": "2020-11-10T04:23:21.462916Z",
     "start_time": "2020-11-10T04:23:21.451920Z"
    }
   },
   "outputs": [
    {
     "data": {
      "text/plain": [
       "[2, 3, 4, 5, 6, 7]"
      ]
     },
     "execution_count": 19,
     "metadata": {},
     "output_type": "execute_result"
    }
   ],
   "source": [
    "rest"
   ]
  },
  {
   "cell_type": "code",
   "execution_count": 20,
   "metadata": {
    "ExecuteTime": {
     "end_time": "2020-11-10T04:23:59.424546Z",
     "start_time": "2020-11-10T04:23:59.403185Z"
    }
   },
   "outputs": [
    {
     "name": "stdout",
     "output_type": "stream",
     "text": [
      "1\n",
      "4\n",
      "7\n"
     ]
    }
   ],
   "source": [
    "for a,b,c in [(1,2,3),(4,5,6), (7,8,9)]: print(a)"
   ]
  },
  {
   "cell_type": "markdown",
   "metadata": {},
   "source": [
    "元组的方法\n",
    "- 元组是不可变的对象，实例方法很少，常用的就是`count`,计量某个数值在元组中出现的次数"
   ]
  },
  {
   "cell_type": "code",
   "execution_count": 21,
   "metadata": {
    "ExecuteTime": {
     "end_time": "2020-11-10T04:29:07.919523Z",
     "start_time": "2020-11-10T04:29:07.913527Z"
    }
   },
   "outputs": [
    {
     "data": {
      "text/plain": [
       "3"
      ]
     },
     "execution_count": 21,
     "metadata": {},
     "output_type": "execute_result"
    }
   ],
   "source": [
    "a = (1,2,2,2,3,3,3,3,3,4,4,4)\n",
    "a.count(2)"
   ]
  },
  {
   "cell_type": "markdown",
   "metadata": {},
   "source": [
    "###  列表"
   ]
  },
  {
   "cell_type": "markdown",
   "metadata": {},
   "source": [
    "- 长度可变，内容也可以被修改\n",
    "- 使用`[]`或构造函数`list`来定义\n",
    "- 和元组非常相似\n",
    "- `list`函数**在数据处理中常用于将迭代器或者生成器转化为列表**"
   ]
  },
  {
   "cell_type": "code",
   "execution_count": 23,
   "metadata": {
    "ExecuteTime": {
     "end_time": "2020-11-10T04:31:57.071578Z",
     "start_time": "2020-11-10T04:31:57.058076Z"
    }
   },
   "outputs": [
    {
     "data": {
      "text/plain": [
       "[1, 2, 3, None]"
      ]
     },
     "execution_count": 23,
     "metadata": {},
     "output_type": "execute_result"
    }
   ],
   "source": [
    "a_list = [1,2,3,None]\n",
    "a_list"
   ]
  },
  {
   "cell_type": "code",
   "execution_count": 24,
   "metadata": {
    "ExecuteTime": {
     "end_time": "2020-11-10T04:32:37.859058Z",
     "start_time": "2020-11-10T04:32:37.850063Z"
    }
   },
   "outputs": [
    {
     "data": {
      "text/plain": [
       "['foo', 'bar', 'baz']"
      ]
     },
     "execution_count": 24,
     "metadata": {},
     "output_type": "execute_result"
    }
   ],
   "source": [
    "tup = ('foo', 'bar', 'baz')\n",
    "b_list = list(tup)\n",
    "b_list"
   ]
  },
  {
   "cell_type": "code",
   "execution_count": 25,
   "metadata": {
    "ExecuteTime": {
     "end_time": "2020-11-10T04:35:14.645825Z",
     "start_time": "2020-11-10T04:35:14.632833Z"
    }
   },
   "outputs": [
    {
     "data": {
      "text/plain": [
       "['foo', 'foos', 'baz']"
      ]
     },
     "execution_count": 25,
     "metadata": {},
     "output_type": "execute_result"
    }
   ],
   "source": [
    "b_list[1] = 'foos'\n",
    "b_list"
   ]
  },
  {
   "cell_type": "code",
   "execution_count": 26,
   "metadata": {
    "ExecuteTime": {
     "end_time": "2020-11-10T04:41:52.351797Z",
     "start_time": "2020-11-10T04:41:52.334796Z"
    }
   },
   "outputs": [
    {
     "data": {
      "text/plain": [
       "range(0, 100)"
      ]
     },
     "execution_count": 26,
     "metadata": {},
     "output_type": "execute_result"
    }
   ],
   "source": [
    "gen = range(100)\n",
    "gen"
   ]
  },
  {
   "cell_type": "code",
   "execution_count": 28,
   "metadata": {
    "ExecuteTime": {
     "end_time": "2020-11-10T04:42:09.753986Z",
     "start_time": "2020-11-10T04:42:09.734996Z"
    }
   },
   "outputs": [
    {
     "data": {
      "text/plain": [
       "[0, 1]"
      ]
     },
     "execution_count": 28,
     "metadata": {},
     "output_type": "execute_result"
    }
   ],
   "source": [
    "list(gen)[:2]"
   ]
  },
  {
   "cell_type": "markdown",
   "metadata": {},
   "source": [
    "增加和删除元素\n",
    "- append: 将元素添加到列表末尾\n",
    "- insert：将元组插入到指定的列表位置\n",
    "- pop：将特定位置的元素移除并返回\n",
    "- remove： 将定位第一个符合条件的值并移除它\n",
    "- in：检查一个值是否在列表中"
   ]
  },
  {
   "cell_type": "code",
   "execution_count": 29,
   "metadata": {
    "ExecuteTime": {
     "end_time": "2020-11-10T05:14:28.991816Z",
     "start_time": "2020-11-10T05:14:28.976828Z"
    }
   },
   "outputs": [
    {
     "data": {
      "text/plain": [
       "['foo', 'foos', 'baz', 'drwa']"
      ]
     },
     "execution_count": 29,
     "metadata": {},
     "output_type": "execute_result"
    }
   ],
   "source": [
    "b_list.append('drwa')\n",
    "b_list"
   ]
  },
  {
   "cell_type": "code",
   "execution_count": 34,
   "metadata": {
    "ExecuteTime": {
     "end_time": "2020-11-10T05:15:51.783094Z",
     "start_time": "2020-11-10T05:15:51.769101Z"
    }
   },
   "outputs": [
    {
     "data": {
      "text/plain": [
       "['foo', 'red', 'baz', 'drwa']"
      ]
     },
     "execution_count": 34,
     "metadata": {},
     "output_type": "execute_result"
    }
   ],
   "source": [
    "b_list.insert(1, 'red')\n",
    "b_list"
   ]
  },
  {
   "cell_type": "code",
   "execution_count": 31,
   "metadata": {
    "ExecuteTime": {
     "end_time": "2020-11-10T05:15:09.406034Z",
     "start_time": "2020-11-10T05:15:09.394042Z"
    }
   },
   "outputs": [
    {
     "data": {
      "text/plain": [
       "'foos'"
      ]
     },
     "execution_count": 31,
     "metadata": {},
     "output_type": "execute_result"
    }
   ],
   "source": [
    "b_list.pop(2)"
   ]
  },
  {
   "cell_type": "code",
   "execution_count": 35,
   "metadata": {
    "ExecuteTime": {
     "end_time": "2020-11-10T05:15:54.043775Z",
     "start_time": "2020-11-10T05:15:54.024527Z"
    }
   },
   "outputs": [
    {
     "data": {
      "text/plain": [
       "['foo', 'baz', 'drwa']"
      ]
     },
     "execution_count": 35,
     "metadata": {},
     "output_type": "execute_result"
    }
   ],
   "source": [
    "b_list.remove('red')\n",
    "b_list"
   ]
  },
  {
   "cell_type": "code",
   "execution_count": 36,
   "metadata": {
    "ExecuteTime": {
     "end_time": "2020-11-10T05:16:34.980296Z",
     "start_time": "2020-11-10T05:16:34.969300Z"
    }
   },
   "outputs": [
    {
     "data": {
      "text/plain": [
       "['foo', 'red', 'red', 'baz', 'drwa']"
      ]
     },
     "execution_count": 36,
     "metadata": {},
     "output_type": "execute_result"
    }
   ],
   "source": [
    "b_list.insert(1, 'red')\n",
    "b_list.insert(1, 'red')\n",
    "b_list.insert(1, 'red')\n",
    "b_list.remove('red')\n",
    "b_list"
   ]
  },
  {
   "cell_type": "code",
   "execution_count": 37,
   "metadata": {
    "ExecuteTime": {
     "end_time": "2020-11-10T05:16:56.547948Z",
     "start_time": "2020-11-10T05:16:56.528958Z"
    }
   },
   "outputs": [
    {
     "data": {
      "text/plain": [
       "True"
      ]
     },
     "execution_count": 37,
     "metadata": {},
     "output_type": "execute_result"
    }
   ],
   "source": [
    "'red' in b_list"
   ]
  },
  {
   "cell_type": "markdown",
   "metadata": {},
   "source": [
    "连接和联合列表\n",
    "- `+`: 连接列表: **创建新的List**\n",
    "- 如果已经存在一个列表，可以使用`extend`方法向该列表**添加多个元素**"
   ]
  },
  {
   "cell_type": "code",
   "execution_count": 38,
   "metadata": {
    "ExecuteTime": {
     "end_time": "2020-11-10T05:24:04.003828Z",
     "start_time": "2020-11-10T05:24:03.992833Z"
    }
   },
   "outputs": [
    {
     "data": {
      "text/plain": [
       "[4, None, 'foo', 7, 8, [2, 3]]"
      ]
     },
     "execution_count": 38,
     "metadata": {},
     "output_type": "execute_result"
    }
   ],
   "source": [
    "x = [4, None, 'foo']\n",
    "x.extend([7,8,[2,3]])\n",
    "x"
   ]
  },
  {
   "cell_type": "code",
   "execution_count": 39,
   "metadata": {
    "ExecuteTime": {
     "end_time": "2020-11-10T05:24:50.069246Z",
     "start_time": "2020-11-10T05:24:50.057258Z"
    }
   },
   "outputs": [
    {
     "data": {
      "text/plain": [
       "[4, None, 'foo', 7, 8, [2, 3]]"
      ]
     },
     "execution_count": 39,
     "metadata": {},
     "output_type": "execute_result"
    }
   ],
   "source": [
    "[4, None, 'foo'] + [7,8,[2,3]]"
   ]
  },
  {
   "cell_type": "code",
   "execution_count": null,
   "metadata": {},
   "outputs": [],
   "source": [
    "everything = []\n",
    "for chunk in list_of_lists:\n",
    "    everything.extendx(chunk)"
   ]
  },
  {
   "cell_type": "code",
   "execution_count": null,
   "metadata": {},
   "outputs": [],
   "source": [
    "# ❌ 耗费资源\n",
    "everything = []\n",
    "for chunk in list_of_lists:\n",
    "    everything = everything + chunk"
   ]
  },
  {
   "cell_type": "markdown",
   "metadata": {},
   "source": [
    "sort函数\n",
    "- 对列表进行**就地排序**，而不产生新的列表\n",
    "- 参数`key`:二级排序---- 一个**用于生成排序值的函数**"
   ]
  },
  {
   "cell_type": "code",
   "execution_count": 40,
   "metadata": {
    "ExecuteTime": {
     "end_time": "2020-11-10T05:28:42.987285Z",
     "start_time": "2020-11-10T05:28:42.972295Z"
    }
   },
   "outputs": [],
   "source": [
    "a = [5,9,0,-1,2]\n",
    "a.sort()"
   ]
  },
  {
   "cell_type": "code",
   "execution_count": 41,
   "metadata": {
    "ExecuteTime": {
     "end_time": "2020-11-10T05:28:45.966363Z",
     "start_time": "2020-11-10T05:28:45.960366Z"
    }
   },
   "outputs": [
    {
     "data": {
      "text/plain": [
       "[-1, 0, 2, 5, 9]"
      ]
     },
     "execution_count": 41,
     "metadata": {},
     "output_type": "execute_result"
    }
   ],
   "source": [
    "a"
   ]
  },
  {
   "cell_type": "code",
   "execution_count": 42,
   "metadata": {
    "ExecuteTime": {
     "end_time": "2020-11-10T05:29:33.191672Z",
     "start_time": "2020-11-10T05:29:33.176680Z"
    }
   },
   "outputs": [
    {
     "data": {
      "text/plain": [
       "['and', 'big', 'green', 'or', 'small']"
      ]
     },
     "execution_count": 42,
     "metadata": {},
     "output_type": "execute_result"
    }
   ],
   "source": [
    "b = ['small', 'big', 'green', 'and', 'or']\n",
    "b.sort()\n",
    "b"
   ]
  },
  {
   "cell_type": "code",
   "execution_count": 43,
   "metadata": {
    "ExecuteTime": {
     "end_time": "2020-11-10T05:29:42.372045Z",
     "start_time": "2020-11-10T05:29:42.360040Z"
    }
   },
   "outputs": [
    {
     "data": {
      "text/plain": [
       "['or', 'and', 'big', 'green', 'small']"
      ]
     },
     "execution_count": 43,
     "metadata": {},
     "output_type": "execute_result"
    }
   ],
   "source": [
    "b.sort(key=len)\n",
    "b"
   ]
  },
  {
   "cell_type": "markdown",
   "metadata": {},
   "source": [
    "二元搜索和已排序列表的维护\n",
    "- 内建的`bisect`模块实现了**二元搜索和已排序列表的插值**\n",
    "- `bisect.bisect`找到应当插入的位置\n",
    "- `bisect.insort`:将元素插入到正确的位置"
   ]
  },
  {
   "cell_type": "code",
   "execution_count": 44,
   "metadata": {
    "ExecuteTime": {
     "end_time": "2020-11-10T05:32:15.062639Z",
     "start_time": "2020-11-10T05:32:15.054647Z"
    }
   },
   "outputs": [],
   "source": [
    "c = [1,2,2,2,2,3,3,3,3,4,4,4,4,9]"
   ]
  },
  {
   "cell_type": "code",
   "execution_count": 45,
   "metadata": {
    "ExecuteTime": {
     "end_time": "2020-11-10T05:32:38.348328Z",
     "start_time": "2020-11-10T05:32:38.343330Z"
    }
   },
   "outputs": [
    {
     "data": {
      "text/plain": [
       "5"
      ]
     },
     "execution_count": 45,
     "metadata": {},
     "output_type": "execute_result"
    }
   ],
   "source": [
    "import bisect\n",
    "bisect.bisect(c, 2)"
   ]
  },
  {
   "cell_type": "code",
   "execution_count": 47,
   "metadata": {
    "ExecuteTime": {
     "end_time": "2020-11-10T05:32:53.063915Z",
     "start_time": "2020-11-10T05:32:53.048925Z"
    }
   },
   "outputs": [
    {
     "data": {
      "text/plain": [
       "1"
      ]
     },
     "execution_count": 47,
     "metadata": {},
     "output_type": "execute_result"
    }
   ],
   "source": [
    "bisect.bisect(c, 1)"
   ]
  },
  {
   "cell_type": "code",
   "execution_count": 49,
   "metadata": {
    "ExecuteTime": {
     "end_time": "2020-11-10T05:33:09.904932Z",
     "start_time": "2020-11-10T05:33:09.894935Z"
    }
   },
   "outputs": [
    {
     "data": {
      "text/plain": [
       "[1, 1, 1, 2, 2, 2, 2, 3, 3, 3, 3, 4, 4, 4, 4, 9]"
      ]
     },
     "execution_count": 49,
     "metadata": {},
     "output_type": "execute_result"
    }
   ],
   "source": [
    "bisect.insort(c, 1)\n",
    "c"
   ]
  },
  {
   "cell_type": "markdown",
   "metadata": {},
   "source": [
    "切片\n",
    "- 通过切片可以对大多数序列类型**选取其子集**， 基本形式 `start:stop`\n",
    "- **可以将序列的切片赋值给其他变量，是通过切片创建了新的list对象，赋值给变量**\n",
    "- 切片可以将序列赋值给变量\n",
    "- 通过切片可以直接操作序列\n",
    "- 给列表的切片赋值时，必须是list"
   ]
  },
  {
   "cell_type": "code",
   "execution_count": 50,
   "metadata": {
    "ExecuteTime": {
     "end_time": "2020-11-10T05:37:24.312921Z",
     "start_time": "2020-11-10T05:37:24.297949Z"
    }
   },
   "outputs": [
    {
     "data": {
      "text/plain": [
       "[1, 2, 3, 4, 5]"
      ]
     },
     "execution_count": 50,
     "metadata": {},
     "output_type": "execute_result"
    }
   ],
   "source": [
    "d = [1,2,3,4,5]\n",
    "d"
   ]
  },
  {
   "cell_type": "code",
   "execution_count": 51,
   "metadata": {
    "ExecuteTime": {
     "end_time": "2020-11-10T05:37:33.793325Z",
     "start_time": "2020-11-10T05:37:33.776336Z"
    }
   },
   "outputs": [
    {
     "data": {
      "text/plain": [
       "[2, 3, 4]"
      ]
     },
     "execution_count": 51,
     "metadata": {},
     "output_type": "execute_result"
    }
   ],
   "source": [
    "e = d[1:4]\n",
    "e"
   ]
  },
  {
   "cell_type": "code",
   "execution_count": 52,
   "metadata": {
    "ExecuteTime": {
     "end_time": "2020-11-10T05:38:33.109060Z",
     "start_time": "2020-11-10T05:38:33.103064Z"
    }
   },
   "outputs": [
    {
     "data": {
      "text/plain": [
       "([2, 199, 4], [1, 2, 3, 4, 5])"
      ]
     },
     "execution_count": 52,
     "metadata": {},
     "output_type": "execute_result"
    }
   ],
   "source": [
    "e[1] = 199\n",
    "e, d"
   ]
  },
  {
   "cell_type": "markdown",
   "metadata": {
    "ExecuteTime": {
     "end_time": "2020-11-10T05:40:51.172572Z",
     "start_time": "2020-11-10T05:40:51.117604Z"
    }
   },
   "source": [
    "![可以将序列的切片赋值给其他变量，是通过切片创建了新的list对象，赋值给变量](https://gitee.com/zhao_long/image-store/raw/master/img/20201110134022.gif)"
   ]
  },
  {
   "cell_type": "code",
   "execution_count": 58,
   "metadata": {
    "ExecuteTime": {
     "end_time": "2020-11-10T05:41:58.438923Z",
     "start_time": "2020-11-10T05:41:58.429926Z"
    }
   },
   "outputs": [
    {
     "data": {
      "text/plain": [
       "[4]"
      ]
     },
     "execution_count": 58,
     "metadata": {},
     "output_type": "execute_result"
    }
   ],
   "source": [
    "d[3:4]"
   ]
  },
  {
   "cell_type": "code",
   "execution_count": 59,
   "metadata": {
    "ExecuteTime": {
     "end_time": "2020-11-10T05:42:02.981583Z",
     "start_time": "2020-11-10T05:42:02.964593Z"
    }
   },
   "outputs": [
    {
     "data": {
      "text/plain": [
       "[1, 2, 3, 100, 200, 300, 5]"
      ]
     },
     "execution_count": 59,
     "metadata": {},
     "output_type": "execute_result"
    }
   ],
   "source": [
    "d[3:4] = [100,200,300]\n",
    "d"
   ]
  },
  {
   "cell_type": "markdown",
   "metadata": {},
   "source": [
    "![使用切片的赋值修改序列](https://gitee.com/zhao_long/image-store/raw/master/img/20201110134430.gif)"
   ]
  },
  {
   "cell_type": "code",
   "execution_count": 61,
   "metadata": {
    "ExecuteTime": {
     "end_time": "2020-11-10T05:54:38.449755Z",
     "start_time": "2020-11-10T05:54:38.435750Z"
    }
   },
   "outputs": [
    {
     "data": {
      "text/plain": [
       "[3, 100, 200, 300, 5]"
      ]
     },
     "execution_count": 61,
     "metadata": {},
     "output_type": "execute_result"
    }
   ],
   "source": [
    "d[2:]"
   ]
  },
  {
   "cell_type": "code",
   "execution_count": 62,
   "metadata": {
    "ExecuteTime": {
     "end_time": "2020-11-10T05:54:45.072490Z",
     "start_time": "2020-11-10T05:54:45.059409Z"
    }
   },
   "outputs": [
    {
     "data": {
      "text/plain": [
       "[300, 5]"
      ]
     },
     "execution_count": 62,
     "metadata": {},
     "output_type": "execute_result"
    }
   ],
   "source": [
    "d[-2:]"
   ]
  },
  {
   "cell_type": "code",
   "execution_count": 63,
   "metadata": {
    "ExecuteTime": {
     "end_time": "2020-11-10T05:55:05.358649Z",
     "start_time": "2020-11-10T05:55:05.339660Z"
    }
   },
   "outputs": [
    {
     "data": {
      "text/plain": [
       "[300]"
      ]
     },
     "execution_count": 63,
     "metadata": {},
     "output_type": "execute_result"
    }
   ],
   "source": [
    "d[-2:-1]"
   ]
  },
  {
   "cell_type": "code",
   "execution_count": 64,
   "metadata": {
    "ExecuteTime": {
     "end_time": "2020-11-10T05:56:37.713540Z",
     "start_time": "2020-11-10T05:56:37.701550Z"
    }
   },
   "outputs": [
    {
     "data": {
      "text/plain": [
       "[5, 300, 200, 100, 3, 2, 1]"
      ]
     },
     "execution_count": 64,
     "metadata": {},
     "output_type": "execute_result"
    }
   ],
   "source": [
    "d[::-1]"
   ]
  },
  {
   "cell_type": "markdown",
   "metadata": {},
   "source": [
    "## 内建序列函数"
   ]
  },
  {
   "cell_type": "markdown",
   "metadata": {},
   "source": [
    "### enumerate\n",
    "遍历一个序列的**同时追踪当前元素的索引**很常见，Python内置了`enumerate`函数，**返回`(i, value)`元组的序列**\n",
    "- i 元素的索引\n",
    "- value 元素\n",
    "- 当需要**对数据建立索引时**，有效的模式选择：使用`enumerate`构造一个**字典**，*将序列值(假设是唯一的)映射到索引位置上*"
   ]
  },
  {
   "cell_type": "code",
   "execution_count": null,
   "metadata": {},
   "outputs": [],
   "source": [
    "# 常规的方式\n",
    "i = 0\n",
    "for value in collectios:\n",
    "    # TODO\n",
    "    i += 1"
   ]
  },
  {
   "cell_type": "code",
   "execution_count": null,
   "metadata": {},
   "outputs": [],
   "source": [
    "#enumerate函数\n",
    "for i, value in enumerate(collections):\n",
    "    do something with value "
   ]
  },
  {
   "cell_type": "code",
   "execution_count": 68,
   "metadata": {
    "ExecuteTime": {
     "end_time": "2020-11-10T07:57:38.483852Z",
     "start_time": "2020-11-10T07:57:38.475857Z"
    }
   },
   "outputs": [
    {
     "data": {
      "text/plain": [
       "[(0, '张三'), (1, '李四'), (2, '王五')]"
      ]
     },
     "execution_count": 68,
     "metadata": {},
     "output_type": "execute_result"
    }
   ],
   "source": [
    "some_list = ['张三', '李四', '王五']\n",
    "list(enumerate(some_list) )   "
   ]
  },
  {
   "cell_type": "code",
   "execution_count": 66,
   "metadata": {
    "ExecuteTime": {
     "end_time": "2020-11-10T07:54:43.785128Z",
     "start_time": "2020-11-10T07:54:43.769123Z"
    }
   },
   "outputs": [],
   "source": [
    "mapping = {}\n",
    "for i, value in enumerate(some_list):\n",
    "    mapping[value] = i"
   ]
  },
  {
   "cell_type": "code",
   "execution_count": 67,
   "metadata": {
    "ExecuteTime": {
     "end_time": "2020-11-10T07:54:48.042088Z",
     "start_time": "2020-11-10T07:54:48.033095Z"
    }
   },
   "outputs": [
    {
     "data": {
      "text/plain": [
       "{'张三': 0, '李四': 1, '王五': 2}"
      ]
     },
     "execution_count": 67,
     "metadata": {},
     "output_type": "execute_result"
    }
   ],
   "source": [
    "mapping"
   ]
  },
  {
   "cell_type": "markdown",
   "metadata": {},
   "source": [
    "![enumerate探索](https://gitee.com/zhao_long/image-store/raw/master/img/20201110160018.gif)"
   ]
  },
  {
   "cell_type": "markdown",
   "metadata": {},
   "source": [
    "### sort\n",
    "- 和列表的sort方法类似\n",
    "- 返回一个根据任意序列中的元素**新建**的已排序列表"
   ]
  },
  {
   "cell_type": "code",
   "execution_count": 69,
   "metadata": {
    "ExecuteTime": {
     "end_time": "2020-11-10T08:02:55.616305Z",
     "start_time": "2020-11-10T08:02:55.597300Z"
    }
   },
   "outputs": [],
   "source": [
    "some_list = ['张三', '李四', '王五']"
   ]
  },
  {
   "cell_type": "code",
   "execution_count": 71,
   "metadata": {
    "ExecuteTime": {
     "end_time": "2020-11-10T08:03:14.716258Z",
     "start_time": "2020-11-10T08:03:14.696266Z"
    }
   },
   "outputs": [
    {
     "data": {
      "text/plain": [
       "['王五', '李四', '张三']"
      ]
     },
     "execution_count": 71,
     "metadata": {},
     "output_type": "execute_result"
    }
   ],
   "source": [
    "sorted(some_list, reverse=True)"
   ]
  },
  {
   "cell_type": "code",
   "execution_count": 72,
   "metadata": {
    "ExecuteTime": {
     "end_time": "2020-11-10T08:03:21.110225Z",
     "start_time": "2020-11-10T08:03:21.102234Z"
    }
   },
   "outputs": [
    {
     "data": {
      "text/plain": [
       "['张三', '李四', '王五']"
      ]
     },
     "execution_count": 72,
     "metadata": {},
     "output_type": "execute_result"
    }
   ],
   "source": [
    "some_list"
   ]
  },
  {
   "cell_type": "markdown",
   "metadata": {},
   "source": [
    "### zip\n",
    "\n",
    "- 将列表，元组或其他序列的**元素进行匹配/配对**，新建一个**包含已配对元素组成的元组的列表**\n",
    "- 可以处理任意长度的序列，生成长度**默认由最短的序列决定**\n",
    "- 常用场景： 同时遍历多个序列，有时候会和`enumerate`同时使用\n",
    "- 构建坐标\n",
    "- 🐖 但是给定一个已配对的列表时，zip函数有一种机智的方法去**拆分**序列, `zip(*list)` 也叫做`unzip` \n",
    "    - 另一种理解方式：**将行的列表转换为列的列表**\n",
    "    - 也可以看做是**zip配对的反向操作**"
   ]
  },
  {
   "cell_type": "code",
   "execution_count": 73,
   "metadata": {
    "ExecuteTime": {
     "end_time": "2020-11-10T08:09:29.688626Z",
     "start_time": "2020-11-10T08:09:29.682631Z"
    }
   },
   "outputs": [],
   "source": [
    "seq1 = ['foo', 'bar', 'baz']\n",
    "seq2= ['one', 'two', 'three']"
   ]
  },
  {
   "cell_type": "code",
   "execution_count": 75,
   "metadata": {
    "ExecuteTime": {
     "end_time": "2020-11-10T08:09:49.019756Z",
     "start_time": "2020-11-10T08:09:49.000756Z"
    }
   },
   "outputs": [
    {
     "data": {
      "text/plain": [
       "<zip at 0x2bead27c740>"
      ]
     },
     "execution_count": 75,
     "metadata": {},
     "output_type": "execute_result"
    }
   ],
   "source": [
    "zipped = zip(seq1, seq2)\n",
    "zipped"
   ]
  },
  {
   "cell_type": "code",
   "execution_count": 76,
   "metadata": {
    "ExecuteTime": {
     "end_time": "2020-11-10T08:10:04.347066Z",
     "start_time": "2020-11-10T08:10:04.328082Z"
    }
   },
   "outputs": [
    {
     "data": {
      "text/plain": [
       "[('foo', 'one'), ('bar', 'two'), ('baz', 'three')]"
      ]
     },
     "execution_count": 76,
     "metadata": {},
     "output_type": "execute_result"
    }
   ],
   "source": [
    "list(zipped)"
   ]
  },
  {
   "cell_type": "code",
   "execution_count": 77,
   "metadata": {
    "ExecuteTime": {
     "end_time": "2020-11-10T08:10:46.570837Z",
     "start_time": "2020-11-10T08:10:46.562843Z"
    }
   },
   "outputs": [
    {
     "data": {
      "text/plain": [
       "[('foo', 'one', True), ('bar', 'two', False)]"
      ]
     },
     "execution_count": 77,
     "metadata": {},
     "output_type": "execute_result"
    }
   ],
   "source": [
    "seq3 = [True, False]\n",
    "list(zip(seq1, seq2, seq3))"
   ]
  },
  {
   "cell_type": "code",
   "execution_count": 82,
   "metadata": {
    "ExecuteTime": {
     "end_time": "2020-11-10T08:12:30.682605Z",
     "start_time": "2020-11-10T08:12:30.675612Z"
    }
   },
   "outputs": [
    {
     "name": "stdout",
     "output_type": "stream",
     "text": [
      "0:foo,one\n",
      "1:bar,two\n",
      "2:baz,three\n"
     ]
    }
   ],
   "source": [
    "for i ,(a, b) in enumerate(zip(seq1, seq2)):\n",
    "    print('{0}:{1},{2}'.format(i, a, b))"
   ]
  },
  {
   "cell_type": "code",
   "execution_count": 85,
   "metadata": {
    "ExecuteTime": {
     "end_time": "2020-11-10T08:13:00.462814Z",
     "start_time": "2020-11-10T08:13:00.459816Z"
    }
   },
   "outputs": [],
   "source": [
    "zipped = zip(seq1, seq2)"
   ]
  },
  {
   "cell_type": "code",
   "execution_count": 86,
   "metadata": {
    "ExecuteTime": {
     "end_time": "2020-11-10T08:13:31.180054Z",
     "start_time": "2020-11-10T08:13:31.171045Z"
    }
   },
   "outputs": [
    {
     "data": {
      "text/plain": [
       "[('foo', 'one'), ('bar', 'two'), ('baz', 'three')]"
      ]
     },
     "execution_count": 86,
     "metadata": {},
     "output_type": "execute_result"
    }
   ],
   "source": [
    "zipped_list = list(zipped)\n",
    "zipped_list"
   ]
  },
  {
   "cell_type": "code",
   "execution_count": 88,
   "metadata": {
    "ExecuteTime": {
     "end_time": "2020-11-10T08:14:20.418472Z",
     "start_time": "2020-11-10T08:14:20.411473Z"
    }
   },
   "outputs": [],
   "source": [
    "a, b = zip(*zipped_list)"
   ]
  },
  {
   "cell_type": "code",
   "execution_count": 89,
   "metadata": {
    "ExecuteTime": {
     "end_time": "2020-11-10T08:14:24.545831Z",
     "start_time": "2020-11-10T08:14:24.540834Z"
    }
   },
   "outputs": [
    {
     "data": {
      "text/plain": [
       "('foo', 'bar', 'baz')"
      ]
     },
     "execution_count": 89,
     "metadata": {},
     "output_type": "execute_result"
    }
   ],
   "source": [
    "a"
   ]
  },
  {
   "cell_type": "code",
   "execution_count": 90,
   "metadata": {
    "ExecuteTime": {
     "end_time": "2020-11-10T08:14:30.926247Z",
     "start_time": "2020-11-10T08:14:30.916243Z"
    }
   },
   "outputs": [
    {
     "data": {
      "text/plain": [
       "('one', 'two', 'three')"
      ]
     },
     "execution_count": 90,
     "metadata": {},
     "output_type": "execute_result"
    }
   ],
   "source": [
    "b"
   ]
  },
  {
   "cell_type": "markdown",
   "metadata": {},
   "source": [
    "### reversed\n",
    "\n",
    "`reversed`函数将序列的元素**倒序排序**\n",
    "- `reversed`是一个**生成器**，没有实例化的话，不会产生倒叙的序列"
   ]
  },
  {
   "cell_type": "code",
   "execution_count": 92,
   "metadata": {
    "ExecuteTime": {
     "end_time": "2020-11-10T08:22:47.694389Z",
     "start_time": "2020-11-10T08:22:47.680385Z"
    }
   },
   "outputs": [
    {
     "data": {
      "text/plain": [
       "[0, 1, 2, 3, 4, 5, 6, 7, 8, 9]"
      ]
     },
     "execution_count": 92,
     "metadata": {},
     "output_type": "execute_result"
    }
   ],
   "source": [
    "some_list = list(range(10))\n",
    "some_list"
   ]
  },
  {
   "cell_type": "code",
   "execution_count": 94,
   "metadata": {
    "ExecuteTime": {
     "end_time": "2020-11-10T08:22:57.398885Z",
     "start_time": "2020-11-10T08:22:57.392888Z"
    }
   },
   "outputs": [
    {
     "data": {
      "text/plain": [
       "<list_reverseiterator at 0x2beade88130>"
      ]
     },
     "execution_count": 94,
     "metadata": {},
     "output_type": "execute_result"
    }
   ],
   "source": [
    "reversed(some_list)"
   ]
  },
  {
   "cell_type": "code",
   "execution_count": 96,
   "metadata": {
    "ExecuteTime": {
     "end_time": "2020-11-10T08:23:07.995910Z",
     "start_time": "2020-11-10T08:23:07.975919Z"
    }
   },
   "outputs": [
    {
     "data": {
      "text/plain": [
       "[9, 8, 7, 6, 5, 4, 3, 2, 1, 0]"
      ]
     },
     "execution_count": 96,
     "metadata": {},
     "output_type": "execute_result"
    }
   ],
   "source": [
    "list(reversed(some_list))"
   ]
  },
  {
   "cell_type": "markdown",
   "metadata": {},
   "source": [
    "## 字典"
   ]
  },
  {
   "cell_type": "markdown",
   "metadata": {},
   "source": [
    "- dict 是Python内建数据结构中最重要的\n",
    "- 更为常用的名字是 **哈希表/关联数组**\n",
    "- **拥有灵活尺寸的键值对集合**\n",
    "- 键值对并没有特定的顺序，即便有，也是添加的顺序"
   ]
  },
  {
   "cell_type": "code",
   "execution_count": 97,
   "metadata": {
    "ExecuteTime": {
     "end_time": "2020-11-10T09:07:19.707143Z",
     "start_time": "2020-11-10T09:07:19.685156Z"
    }
   },
   "outputs": [
    {
     "data": {
      "text/plain": [
       "{'a': 'some value', 'b': [1, 2, 3, 4, 5]}"
      ]
     },
     "execution_count": 97,
     "metadata": {},
     "output_type": "execute_result"
    }
   ],
   "source": [
    "empty_dict = {}\n",
    "d1 = {'a': 'some value', 'b': [1,2,3,4,5]}\n",
    "d1"
   ]
  },
  {
   "cell_type": "code",
   "execution_count": 98,
   "metadata": {
    "ExecuteTime": {
     "end_time": "2020-11-10T09:07:59.007087Z",
     "start_time": "2020-11-10T09:07:58.999093Z"
    }
   },
   "outputs": [
    {
     "data": {
      "text/plain": [
       "{'a': 'some value', 'b': [1, 2, 3, 4, 5], 7: 'an integer'}"
      ]
     },
     "execution_count": 98,
     "metadata": {},
     "output_type": "execute_result"
    }
   ],
   "source": [
    "# 添加键值对\n",
    "d1[7] = 'an integer'\n",
    "d1"
   ]
  },
  {
   "cell_type": "markdown",
   "metadata": {},
   "source": [
    "创建\n",
    "- `{}`创建字典，键值对之间用逗号分隔\n",
    "- 创建空字典直接使用`{}`,之后使用[key]方法添加值\n",
    "- 构造函数`dict`\n",
    "    -  参数可以是**包含两元组的列表**\n",
    "    -  或者逗号分隔的`key=value`"
   ]
  },
  {
   "cell_type": "markdown",
   "metadata": {},
   "source": [
    "操作\n",
    "- `in`： 检查字典中是否含有键\n",
    "- `del`： 直接删除对应的key-value\n",
    "- `pop`: 删除的时候返回被删的值,参数 键\n",
    "- `dict[key]=value`: 访问，插入，设值字典中的元素\n",
    "- `keys`和`values`: 返回字典的键，值的**迭代器**\n",
    "- `update`: 将两个字典合并，当两个字典中拥有相同的键，则会被**覆盖**"
   ]
  },
  {
   "cell_type": "code",
   "execution_count": 99,
   "metadata": {
    "ExecuteTime": {
     "end_time": "2020-11-10T09:08:34.267810Z",
     "start_time": "2020-11-10T09:08:34.256818Z"
    }
   },
   "outputs": [
    {
     "data": {
      "text/plain": [
       "True"
      ]
     },
     "execution_count": 99,
     "metadata": {},
     "output_type": "execute_result"
    }
   ],
   "source": [
    "7 in d1"
   ]
  },
  {
   "cell_type": "code",
   "execution_count": 100,
   "metadata": {
    "ExecuteTime": {
     "end_time": "2020-11-10T09:09:14.137271Z",
     "start_time": "2020-11-10T09:09:14.128281Z"
    }
   },
   "outputs": [
    {
     "data": {
      "text/plain": [
       "{'a': 'some value',\n",
       " 'b': [1, 2, 3, 4, 5],\n",
       " 7: 'an integer',\n",
       " 5: 'some value',\n",
       " 'dummy': 'another value'}"
      ]
     },
     "execution_count": 100,
     "metadata": {},
     "output_type": "execute_result"
    }
   ],
   "source": [
    "d1[5] = 'some value'\n",
    "d1['dummy'] = 'another value'\n",
    "d1"
   ]
  },
  {
   "cell_type": "code",
   "execution_count": 101,
   "metadata": {
    "ExecuteTime": {
     "end_time": "2020-11-10T09:09:49.622152Z",
     "start_time": "2020-11-10T09:09:49.608144Z"
    }
   },
   "outputs": [
    {
     "data": {
      "text/plain": [
       "{'a': 'some value',\n",
       " 'b': [1, 2, 3, 4, 5],\n",
       " 7: 'an integer',\n",
       " 'dummy': 'another value'}"
      ]
     },
     "execution_count": 101,
     "metadata": {},
     "output_type": "execute_result"
    }
   ],
   "source": [
    "del d1[5]\n",
    "d1"
   ]
  },
  {
   "cell_type": "code",
   "execution_count": 102,
   "metadata": {
    "ExecuteTime": {
     "end_time": "2020-11-10T09:10:32.312178Z",
     "start_time": "2020-11-10T09:10:32.303183Z"
    }
   },
   "outputs": [
    {
     "data": {
      "text/plain": [
       "'another value'"
      ]
     },
     "execution_count": 102,
     "metadata": {},
     "output_type": "execute_result"
    }
   ],
   "source": [
    "d1.pop('dummy')"
   ]
  },
  {
   "cell_type": "code",
   "execution_count": 103,
   "metadata": {
    "ExecuteTime": {
     "end_time": "2020-11-10T09:10:40.724322Z",
     "start_time": "2020-11-10T09:10:40.712205Z"
    }
   },
   "outputs": [
    {
     "data": {
      "text/plain": [
       "{'a': 'some value', 'b': [1, 2, 3, 4, 5], 7: 'an integer'}"
      ]
     },
     "execution_count": 103,
     "metadata": {},
     "output_type": "execute_result"
    }
   ],
   "source": [
    "d1"
   ]
  },
  {
   "cell_type": "code",
   "execution_count": 104,
   "metadata": {
    "ExecuteTime": {
     "end_time": "2020-11-10T09:10:58.870342Z",
     "start_time": "2020-11-10T09:10:58.860333Z"
    }
   },
   "outputs": [
    {
     "data": {
      "text/plain": [
       "dict_keys(['a', 'b', 7])"
      ]
     },
     "execution_count": 104,
     "metadata": {},
     "output_type": "execute_result"
    }
   ],
   "source": [
    "d1.keys()"
   ]
  },
  {
   "cell_type": "code",
   "execution_count": 105,
   "metadata": {
    "ExecuteTime": {
     "end_time": "2020-11-10T09:11:08.525183Z",
     "start_time": "2020-11-10T09:11:08.519191Z"
    }
   },
   "outputs": [
    {
     "data": {
      "text/plain": [
       "dict_values(['some value', [1, 2, 3, 4, 5], 'an integer'])"
      ]
     },
     "execution_count": 105,
     "metadata": {},
     "output_type": "execute_result"
    }
   ],
   "source": [
    "d1.values()"
   ]
  },
  {
   "cell_type": "code",
   "execution_count": 106,
   "metadata": {
    "ExecuteTime": {
     "end_time": "2020-11-10T09:11:57.369552Z",
     "start_time": "2020-11-10T09:11:57.359553Z"
    }
   },
   "outputs": [],
   "source": [
    "d1.update({7: 123456, 9:1000000})"
   ]
  },
  {
   "cell_type": "code",
   "execution_count": 107,
   "metadata": {
    "ExecuteTime": {
     "end_time": "2020-11-10T09:12:02.828747Z",
     "start_time": "2020-11-10T09:12:02.807761Z"
    }
   },
   "outputs": [
    {
     "data": {
      "text/plain": [
       "{'a': 'some value', 'b': [1, 2, 3, 4, 5], 7: 123456, 9: 1000000}"
      ]
     },
     "execution_count": 107,
     "metadata": {},
     "output_type": "execute_result"
    }
   ],
   "source": [
    "d1"
   ]
  },
  {
   "cell_type": "markdown",
   "metadata": {},
   "source": [
    "### 从序列生成字典\n",
    "- 通常情况下，**将两个序列进行配对**\n",
    "- 但是，字典本质上就是`2-元组`的集合,可以接受一个`2-元组`的列表作为参数"
   ]
  },
  {
   "cell_type": "code",
   "execution_count": null,
   "metadata": {},
   "outputs": [],
   "source": [
    "mapping = {}\n",
    "for k, v in zip(key_list, value_list):\n",
    "    mapping[k] = v"
   ]
  },
  {
   "cell_type": "code",
   "execution_count": 108,
   "metadata": {
    "ExecuteTime": {
     "end_time": "2020-11-10T09:15:33.598826Z",
     "start_time": "2020-11-10T09:15:33.591831Z"
    }
   },
   "outputs": [
    {
     "data": {
      "text/plain": [
       "{0: 4, 1: 3, 2: 2, 3: 1, 4: 0}"
      ]
     },
     "execution_count": 108,
     "metadata": {},
     "output_type": "execute_result"
    }
   ],
   "source": [
    "mapping = dict(zip(range(5), reversed(range(5))))\n",
    "mapping"
   ]
  },
  {
   "cell_type": "markdown",
   "metadata": {},
   "source": [
    "### 默认值"
   ]
  },
  {
   "cell_type": "markdown",
   "metadata": {},
   "source": [
    "当字典不存在键时，读取键，会报异常"
   ]
  },
  {
   "cell_type": "code",
   "execution_count": 109,
   "metadata": {
    "ExecuteTime": {
     "end_time": "2020-11-10T09:16:39.965243Z",
     "start_time": "2020-11-10T09:16:39.952249Z"
    }
   },
   "outputs": [
    {
     "ename": "KeyError",
     "evalue": "10",
     "output_type": "error",
     "traceback": [
      "\u001b[1;31m---------------------------------------------------------------------------\u001b[0m",
      "\u001b[1;31mKeyError\u001b[0m                                  Traceback (most recent call last)",
      "\u001b[1;32m<ipython-input-109-fa03d1fadc57>\u001b[0m in \u001b[0;36m<module>\u001b[1;34m\u001b[0m\n\u001b[1;32m----> 1\u001b[1;33m \u001b[0mmapping\u001b[0m\u001b[1;33m[\u001b[0m\u001b[1;36m10\u001b[0m\u001b[1;33m]\u001b[0m\u001b[1;33m\u001b[0m\u001b[1;33m\u001b[0m\u001b[0m\n\u001b[0m",
      "\u001b[1;31mKeyError\u001b[0m: 10"
     ]
    }
   ],
   "source": [
    "mapping[10] # KeyError: 10"
   ]
  },
  {
   "cell_type": "code",
   "execution_count": null,
   "metadata": {},
   "outputs": [],
   "source": [
    "if key in some_dict:\n",
    "    value = some_dict[key]\n",
    "else:\n",
    "    value = default_value"
   ]
  },
  {
   "cell_type": "markdown",
   "metadata": {},
   "source": [
    "字典的`get`/`pop`方法提供这样的功能\n",
    "- `value = some_dict.get(key, defalut_value)`\n",
    "- 但是\n",
    "    -  `get` 当不设置默认值时，，默认值是`None`\n",
    "    -   `pop` 不设置默认值时，没有该键时，报错"
   ]
  },
  {
   "cell_type": "code",
   "execution_count": 110,
   "metadata": {
    "ExecuteTime": {
     "end_time": "2020-11-10T09:20:03.073674Z",
     "start_time": "2020-11-10T09:20:03.055679Z"
    }
   },
   "outputs": [
    {
     "data": {
      "text/plain": [
       "'该键不存在'"
      ]
     },
     "execution_count": 110,
     "metadata": {},
     "output_type": "execute_result"
    }
   ],
   "source": [
    "mapping.get(10, '该键不存在')"
   ]
  },
  {
   "cell_type": "code",
   "execution_count": 111,
   "metadata": {
    "ExecuteTime": {
     "end_time": "2020-11-10T09:20:08.747238Z",
     "start_time": "2020-11-10T09:20:08.736243Z"
    }
   },
   "outputs": [
    {
     "data": {
      "text/plain": [
       "{0: 4, 1: 3, 2: 2, 3: 1, 4: 0}"
      ]
     },
     "execution_count": 111,
     "metadata": {},
     "output_type": "execute_result"
    }
   ],
   "source": [
    "mapping"
   ]
  },
  {
   "cell_type": "code",
   "execution_count": 113,
   "metadata": {
    "ExecuteTime": {
     "end_time": "2020-11-10T09:21:03.486955Z",
     "start_time": "2020-11-10T09:21:03.478962Z"
    }
   },
   "outputs": [],
   "source": [
    "mapping.get(10)"
   ]
  },
  {
   "cell_type": "code",
   "execution_count": 112,
   "metadata": {
    "ExecuteTime": {
     "end_time": "2020-11-10T09:20:27.091533Z",
     "start_time": "2020-11-10T09:20:27.072545Z"
    }
   },
   "outputs": [
    {
     "data": {
      "text/plain": [
       "'该键不存在'"
      ]
     },
     "execution_count": 112,
     "metadata": {},
     "output_type": "execute_result"
    }
   ],
   "source": [
    "mapping.pop(10, \"该键不存在\")"
   ]
  },
  {
   "cell_type": "code",
   "execution_count": 114,
   "metadata": {
    "ExecuteTime": {
     "end_time": "2020-11-10T09:21:11.867865Z",
     "start_time": "2020-11-10T09:21:11.846878Z"
    }
   },
   "outputs": [
    {
     "ename": "KeyError",
     "evalue": "10",
     "output_type": "error",
     "traceback": [
      "\u001b[1;31m---------------------------------------------------------------------------\u001b[0m",
      "\u001b[1;31mKeyError\u001b[0m                                  Traceback (most recent call last)",
      "\u001b[1;32m<ipython-input-114-8546ae347cfc>\u001b[0m in \u001b[0;36m<module>\u001b[1;34m\u001b[0m\n\u001b[1;32m----> 1\u001b[1;33m \u001b[0mmapping\u001b[0m\u001b[1;33m.\u001b[0m\u001b[0mpop\u001b[0m\u001b[1;33m(\u001b[0m\u001b[1;36m10\u001b[0m\u001b[1;33m)\u001b[0m\u001b[1;33m\u001b[0m\u001b[1;33m\u001b[0m\u001b[0m\n\u001b[0m",
      "\u001b[1;31mKeyError\u001b[0m: 10"
     ]
    }
   ],
   "source": [
    "mapping.pop(10)"
   ]
  },
  {
   "cell_type": "code",
   "execution_count": 115,
   "metadata": {
    "ExecuteTime": {
     "end_time": "2020-11-10T09:26:26.630053Z",
     "start_time": "2020-11-10T09:26:26.615063Z"
    }
   },
   "outputs": [
    {
     "data": {
      "text/plain": [
       "{'a': ['apple', 'atom'], 'b': ['bat', 'bar', 'book']}"
      ]
     },
     "execution_count": 115,
     "metadata": {},
     "output_type": "execute_result"
    }
   ],
   "source": [
    "words = ['apple', 'bat', 'bar', 'atom', 'book']\n",
    "\n",
    "by_latter = {}\n",
    "for word in words:\n",
    "    letter = word[0]\n",
    "    if letter not in by_latter:\n",
    "        by_latter[letter] = [word]\n",
    "    else:\n",
    "        by_latter[letter].append(word)\n",
    "by_latter"
   ]
  },
  {
   "cell_type": "markdown",
   "metadata": {},
   "source": [
    "`setdefalut`:实现上面的功能\n",
    "- 当存在键时，返回对应的值\n",
    "- 当不存键时，在字典中添加`[key=defaultvalue]`键值对，返回`defaultvalue`"
   ]
  },
  {
   "cell_type": "code",
   "execution_count": 116,
   "metadata": {
    "ExecuteTime": {
     "end_time": "2020-11-10T09:29:54.112255Z",
     "start_time": "2020-11-10T09:29:54.095266Z"
    }
   },
   "outputs": [
    {
     "data": {
      "text/plain": [
       "{'a': ['apple', 'atom'], 'b': ['bat', 'bar', 'book']}"
      ]
     },
     "execution_count": 116,
     "metadata": {},
     "output_type": "execute_result"
    }
   ],
   "source": [
    "words = ['apple', 'bat', 'bar', 'atom', 'book']\n",
    "\n",
    "by_latter = {}\n",
    "\n",
    "for word in words:\n",
    "    letter = word[0]\n",
    "    by_latter.setdefault(letter, []).append(word)\n",
    "by_latter"
   ]
  },
  {
   "cell_type": "code",
   "execution_count": 117,
   "metadata": {
    "ExecuteTime": {
     "end_time": "2020-11-10T09:44:02.012761Z",
     "start_time": "2020-11-10T09:44:01.998758Z"
    }
   },
   "outputs": [
    {
     "data": {
      "text/plain": [
       "{0: 4, 1: 3, 2: 2, 3: 1, 4: 0}"
      ]
     },
     "execution_count": 117,
     "metadata": {},
     "output_type": "execute_result"
    }
   ],
   "source": [
    "mapping"
   ]
  },
  {
   "cell_type": "code",
   "execution_count": 118,
   "metadata": {
    "ExecuteTime": {
     "end_time": "2020-11-10T09:44:13.901868Z",
     "start_time": "2020-11-10T09:44:13.885880Z"
    }
   },
   "outputs": [
    {
     "data": {
      "text/plain": [
       "[]"
      ]
     },
     "execution_count": 118,
     "metadata": {},
     "output_type": "execute_result"
    }
   ],
   "source": [
    "mapping.setdefault(100, [])"
   ]
  },
  {
   "cell_type": "code",
   "execution_count": 119,
   "metadata": {
    "ExecuteTime": {
     "end_time": "2020-11-10T09:44:18.174381Z",
     "start_time": "2020-11-10T09:44:18.158389Z"
    }
   },
   "outputs": [
    {
     "data": {
      "text/plain": [
       "{0: 4, 1: 3, 2: 2, 3: 1, 4: 0, 100: []}"
      ]
     },
     "execution_count": 119,
     "metadata": {},
     "output_type": "execute_result"
    }
   ],
   "source": [
    "mapping"
   ]
  },
  {
   "cell_type": "markdown",
   "metadata": {},
   "source": [
    "内建的集合模块有一个`defaultdict`类,使得上面的更加简单\n",
    "- 想要生成符合要求的字典，可以向字典中传入**类型或能在各位置生成默认值的函数**"
   ]
  },
  {
   "cell_type": "code",
   "execution_count": 120,
   "metadata": {
    "ExecuteTime": {
     "end_time": "2020-11-10T09:46:16.948466Z",
     "start_time": "2020-11-10T09:46:16.941473Z"
    }
   },
   "outputs": [],
   "source": [
    "from collections import defaultdict"
   ]
  },
  {
   "cell_type": "code",
   "execution_count": 121,
   "metadata": {
    "ExecuteTime": {
     "end_time": "2020-11-10T09:46:27.196626Z",
     "start_time": "2020-11-10T09:46:27.179619Z"
    }
   },
   "outputs": [],
   "source": [
    "by_latter = defaultdict(list)"
   ]
  },
  {
   "cell_type": "code",
   "execution_count": 122,
   "metadata": {
    "ExecuteTime": {
     "end_time": "2020-11-10T09:46:30.932257Z",
     "start_time": "2020-11-10T09:46:30.925261Z"
    }
   },
   "outputs": [
    {
     "data": {
      "text/plain": [
       "defaultdict(list, {})"
      ]
     },
     "execution_count": 122,
     "metadata": {},
     "output_type": "execute_result"
    }
   ],
   "source": [
    "by_latter"
   ]
  },
  {
   "cell_type": "code",
   "execution_count": 123,
   "metadata": {
    "ExecuteTime": {
     "end_time": "2020-11-10T09:47:03.612943Z",
     "start_time": "2020-11-10T09:47:03.595955Z"
    }
   },
   "outputs": [
    {
     "data": {
      "text/plain": [
       "[]"
      ]
     },
     "execution_count": 123,
     "metadata": {},
     "output_type": "execute_result"
    }
   ],
   "source": [
    "by_latter[100]"
   ]
  },
  {
   "cell_type": "code",
   "execution_count": 124,
   "metadata": {
    "ExecuteTime": {
     "end_time": "2020-11-10T09:47:07.046745Z",
     "start_time": "2020-11-10T09:47:07.027758Z"
    }
   },
   "outputs": [
    {
     "data": {
      "text/plain": [
       "defaultdict(list, {100: []})"
      ]
     },
     "execution_count": 124,
     "metadata": {},
     "output_type": "execute_result"
    }
   ],
   "source": [
    "by_latter"
   ]
  },
  {
   "cell_type": "code",
   "execution_count": 125,
   "metadata": {
    "ExecuteTime": {
     "end_time": "2020-11-10T09:50:37.019507Z",
     "start_time": "2020-11-10T09:50:37.000503Z"
    }
   },
   "outputs": [
    {
     "data": {
      "text/plain": [
       "defaultdict(list, {'a': ['apple', 'atom'], 'b': ['bat', 'bar', 'book']})"
      ]
     },
     "execution_count": 125,
     "metadata": {},
     "output_type": "execute_result"
    }
   ],
   "source": [
    "words = ['apple', 'bat', 'bar', 'atom', 'book']\n",
    "\n",
    "by_latter = defaultdict(list)\n",
    "for word in words:\n",
    "    letter = word[0]\n",
    "    by_latter[letter].append(word)\n",
    "by_latter"
   ]
  },
  {
   "cell_type": "markdown",
   "metadata": {},
   "source": [
    "### 有效的字典键类型\n",
    "- 字典的值可以是任何Python对象\n",
    "- 但是**键必须是不可变对象**， 比如标量类型或元组（元组中的对象必须是不可变的）\n",
    "- **哈希化**：通过`hash`函数检查一个对象是否可以哈希化"
   ]
  },
  {
   "cell_type": "code",
   "execution_count": 126,
   "metadata": {
    "ExecuteTime": {
     "end_time": "2020-11-10T09:54:10.224607Z",
     "start_time": "2020-11-10T09:54:10.204521Z"
    }
   },
   "outputs": [
    {
     "data": {
      "text/plain": [
       "-3428593945362118081"
      ]
     },
     "execution_count": 126,
     "metadata": {},
     "output_type": "execute_result"
    }
   ],
   "source": [
    "hash('string')"
   ]
  },
  {
   "cell_type": "code",
   "execution_count": 127,
   "metadata": {
    "ExecuteTime": {
     "end_time": "2020-11-10T09:54:19.846126Z",
     "start_time": "2020-11-10T09:54:19.827134Z"
    }
   },
   "outputs": [
    {
     "ename": "TypeError",
     "evalue": "unhashable type: 'list'",
     "output_type": "error",
     "traceback": [
      "\u001b[1;31m---------------------------------------------------------------------------\u001b[0m",
      "\u001b[1;31mTypeError\u001b[0m                                 Traceback (most recent call last)",
      "\u001b[1;32m<ipython-input-127-35e31e935e9e>\u001b[0m in \u001b[0;36m<module>\u001b[1;34m\u001b[0m\n\u001b[1;32m----> 1\u001b[1;33m \u001b[0mhash\u001b[0m\u001b[1;33m(\u001b[0m\u001b[1;33m[\u001b[0m\u001b[1;36m1\u001b[0m\u001b[1;33m,\u001b[0m\u001b[1;36m2\u001b[0m\u001b[1;33m,\u001b[0m\u001b[1;36m3\u001b[0m\u001b[1;33m]\u001b[0m\u001b[1;33m)\u001b[0m\u001b[1;33m\u001b[0m\u001b[1;33m\u001b[0m\u001b[0m\n\u001b[0m",
      "\u001b[1;31mTypeError\u001b[0m: unhashable type: 'list'"
     ]
    }
   ],
   "source": [
    "hash([1,2,3]) # TypeError: unhashable type: 'list'"
   ]
  },
  {
   "cell_type": "code",
   "execution_count": 128,
   "metadata": {
    "ExecuteTime": {
     "end_time": "2020-11-10T09:54:35.231139Z",
     "start_time": "2020-11-10T09:54:35.204160Z"
    }
   },
   "outputs": [
    {
     "ename": "TypeError",
     "evalue": "unhashable type: 'list'",
     "output_type": "error",
     "traceback": [
      "\u001b[1;31m---------------------------------------------------------------------------\u001b[0m",
      "\u001b[1;31mTypeError\u001b[0m                                 Traceback (most recent call last)",
      "\u001b[1;32m<ipython-input-128-3592f53cc22b>\u001b[0m in \u001b[0;36m<module>\u001b[1;34m\u001b[0m\n\u001b[1;32m----> 1\u001b[1;33m \u001b[0mhash\u001b[0m\u001b[1;33m(\u001b[0m\u001b[1;33m(\u001b[0m\u001b[1;36m1\u001b[0m\u001b[1;33m,\u001b[0m\u001b[1;36m2\u001b[0m\u001b[1;33m,\u001b[0m\u001b[1;36m3\u001b[0m\u001b[1;33m,\u001b[0m\u001b[1;33m[\u001b[0m\u001b[1;36m1\u001b[0m\u001b[1;33m,\u001b[0m\u001b[1;36m2\u001b[0m\u001b[1;33m]\u001b[0m\u001b[1;33m)\u001b[0m\u001b[1;33m)\u001b[0m\u001b[1;33m\u001b[0m\u001b[1;33m\u001b[0m\u001b[0m\n\u001b[0m",
      "\u001b[1;31mTypeError\u001b[0m: unhashable type: 'list'"
     ]
    }
   ],
   "source": [
    "hash((1,2,3,[1,2]))"
   ]
  },
  {
   "cell_type": "code",
   "execution_count": 131,
   "metadata": {
    "ExecuteTime": {
     "end_time": "2020-11-10T09:54:54.882118Z",
     "start_time": "2020-11-10T09:54:54.868113Z"
    }
   },
   "outputs": [
    {
     "data": {
      "text/plain": [
       "3525164641510781594"
      ]
     },
     "execution_count": 131,
     "metadata": {},
     "output_type": "execute_result"
    }
   ],
   "source": [
    "hash((1,2,3,(1,2)))"
   ]
  },
  {
   "cell_type": "markdown",
   "metadata": {},
   "source": [
    "将列表作为键\n",
    "- 将其转换为元组，元组只要它内部元素都可以哈希化，自己也就可以哈细化"
   ]
  },
  {
   "cell_type": "markdown",
   "metadata": {},
   "source": [
    "## 集合"
   ]
  },
  {
   "cell_type": "markdown",
   "metadata": {},
   "source": [
    "集合是一种**无序且元素唯一**的容器\n",
    "- 可以认为集合也像字典，但是只有键没有值\n",
    "- 集合有两种创建方式\n",
    "    1. set函数\n",
    "    2. 字面值与大括号的语法，但是不能用于创建空集合\n",
    "    - `{}`表示空字典"
   ]
  },
  {
   "cell_type": "code",
   "execution_count": 132,
   "metadata": {
    "ExecuteTime": {
     "end_time": "2020-11-10T11:15:32.025781Z",
     "start_time": "2020-11-10T11:15:32.012788Z"
    }
   },
   "outputs": [
    {
     "data": {
      "text/plain": [
       "{1, 2, 3, 23}"
      ]
     },
     "execution_count": 132,
     "metadata": {},
     "output_type": "execute_result"
    }
   ],
   "source": [
    "set([1,1,1,2,2,23,3,])"
   ]
  },
  {
   "cell_type": "markdown",
   "metadata": {},
   "source": [
    "集合**支持数学上的集合操作**，例如交集，差集，对称差集，联合等"
   ]
  },
  {
   "cell_type": "markdown",
   "metadata": {},
   "source": [
    "所有的逻辑集合运算都有对应的操作，**允许用操作的结果代替操作左边的集合内容**"
   ]
  },
  {
   "cell_type": "code",
   "execution_count": 133,
   "metadata": {
    "ExecuteTime": {
     "end_time": "2020-11-10T11:18:29.595115Z",
     "start_time": "2020-11-10T11:18:29.585106Z"
    }
   },
   "outputs": [],
   "source": [
    "a = set([1,2,3,4,5])\n",
    "b = {3,4,5,6,7,8}"
   ]
  },
  {
   "cell_type": "code",
   "execution_count": 134,
   "metadata": {
    "ExecuteTime": {
     "end_time": "2020-11-10T11:18:36.027164Z",
     "start_time": "2020-11-10T11:18:36.016173Z"
    }
   },
   "outputs": [
    {
     "data": {
      "text/plain": [
       "{1, 2, 3, 4, 5, 6, 7, 8}"
      ]
     },
     "execution_count": 134,
     "metadata": {},
     "output_type": "execute_result"
    }
   ],
   "source": [
    "a.union(b)"
   ]
  },
  {
   "cell_type": "code",
   "execution_count": 135,
   "metadata": {
    "ExecuteTime": {
     "end_time": "2020-11-10T11:18:48.324072Z",
     "start_time": "2020-11-10T11:18:48.305085Z"
    }
   },
   "outputs": [
    {
     "data": {
      "text/plain": [
       "{3, 4, 5}"
      ]
     },
     "execution_count": 135,
     "metadata": {},
     "output_type": "execute_result"
    }
   ],
   "source": [
    "a.intersection(b)"
   ]
  },
  {
   "cell_type": "code",
   "execution_count": 136,
   "metadata": {
    "ExecuteTime": {
     "end_time": "2020-11-10T11:19:06.163963Z",
     "start_time": "2020-11-10T11:19:06.153967Z"
    }
   },
   "outputs": [
    {
     "data": {
      "text/plain": [
       "{1, 2}"
      ]
     },
     "execution_count": 136,
     "metadata": {},
     "output_type": "execute_result"
    }
   ],
   "source": [
    "a.difference(b)"
   ]
  },
  {
   "cell_type": "code",
   "execution_count": 137,
   "metadata": {
    "ExecuteTime": {
     "end_time": "2020-11-10T11:19:19.288963Z",
     "start_time": "2020-11-10T11:19:19.270956Z"
    }
   },
   "outputs": [
    {
     "data": {
      "text/plain": [
       "{1, 2, 6, 7, 8}"
      ]
     },
     "execution_count": 137,
     "metadata": {},
     "output_type": "execute_result"
    }
   ],
   "source": [
    "a.symmetric_difference(b)"
   ]
  },
  {
   "cell_type": "code",
   "execution_count": 139,
   "metadata": {
    "ExecuteTime": {
     "end_time": "2020-11-10T11:22:44.403495Z",
     "start_time": "2020-11-10T11:22:44.392480Z"
    }
   },
   "outputs": [
    {
     "data": {
      "text/plain": [
       "{3, 4, 5}"
      ]
     },
     "execution_count": 139,
     "metadata": {},
     "output_type": "execute_result"
    }
   ],
   "source": [
    "c = a.copy()\n",
    "c.intersection_update(b)\n",
    "c"
   ]
  },
  {
   "cell_type": "markdown",
   "metadata": {},
   "source": [
    "**集合的元素必须是不可变的，如果想要包含列表型的元素，必须先转换为元组**"
   ]
  },
  {
   "cell_type": "code",
   "execution_count": 140,
   "metadata": {
    "ExecuteTime": {
     "end_time": "2020-11-10T11:25:00.324151Z",
     "start_time": "2020-11-10T11:25:00.303161Z"
    }
   },
   "outputs": [
    {
     "ename": "TypeError",
     "evalue": "unhashable type: 'list'",
     "output_type": "error",
     "traceback": [
      "\u001b[1;31m---------------------------------------------------------------------------\u001b[0m",
      "\u001b[1;31mTypeError\u001b[0m                                 Traceback (most recent call last)",
      "\u001b[1;32m<ipython-input-140-f1f47fcbd8be>\u001b[0m in \u001b[0;36m<module>\u001b[1;34m\u001b[0m\n\u001b[0;32m      1\u001b[0m \u001b[0mmy_data\u001b[0m \u001b[1;33m=\u001b[0m \u001b[1;33m[\u001b[0m\u001b[1;36m1\u001b[0m\u001b[1;33m,\u001b[0m\u001b[1;36m2\u001b[0m\u001b[1;33m,\u001b[0m\u001b[1;36m3\u001b[0m\u001b[1;33m,\u001b[0m\u001b[1;36m4\u001b[0m\u001b[1;33m]\u001b[0m\u001b[1;33m\u001b[0m\u001b[1;33m\u001b[0m\u001b[0m\n\u001b[1;32m----> 2\u001b[1;33m \u001b[0mmy_set\u001b[0m \u001b[1;33m=\u001b[0m \u001b[1;33m{\u001b[0m\u001b[0mmy_data\u001b[0m\u001b[1;33m}\u001b[0m\u001b[1;33m\u001b[0m\u001b[1;33m\u001b[0m\u001b[0m\n\u001b[0m",
      "\u001b[1;31mTypeError\u001b[0m: unhashable type: 'list'"
     ]
    }
   ],
   "source": [
    "my_data = [1,2,3,4]\n",
    "my_set = {my_data}"
   ]
  },
  {
   "cell_type": "code",
   "execution_count": 142,
   "metadata": {
    "ExecuteTime": {
     "end_time": "2020-11-10T11:25:23.555705Z",
     "start_time": "2020-11-10T11:25:23.545699Z"
    }
   },
   "outputs": [
    {
     "data": {
      "text/plain": [
       "{((1, 2, 3, 4),)}"
      ]
     },
     "execution_count": 142,
     "metadata": {},
     "output_type": "execute_result"
    }
   ],
   "source": [
    "my_data = {tuple(my_data)}\n",
    "my_data"
   ]
  },
  {
   "cell_type": "markdown",
   "metadata": {},
   "source": [
    "**仅当两个集合的内容一模一样时，两个集合才相等**， 元素相同，顺序无关"
   ]
  },
  {
   "cell_type": "code",
   "execution_count": 143,
   "metadata": {
    "ExecuteTime": {
     "end_time": "2020-11-10T11:26:34.676229Z",
     "start_time": "2020-11-10T11:26:34.662233Z"
    }
   },
   "outputs": [
    {
     "data": {
      "text/plain": [
       "True"
      ]
     },
     "execution_count": 143,
     "metadata": {},
     "output_type": "execute_result"
    }
   ],
   "source": [
    "{1,2,3} == {3,2,1}"
   ]
  },
  {
   "cell_type": "markdown",
   "metadata": {},
   "source": [
    "## 列表，集合和字典的推导式"
   ]
  },
  {
   "cell_type": "markdown",
   "metadata": {},
   "source": [
    "> 列表推导式是最受欢迎的Python语言特性之一"
   ]
  },
  {
   "cell_type": "markdown",
   "metadata": {},
   "source": [
    "**允许过滤一个容器的元素，用一种简明的表达式转换传递给过滤器的元素，从而生成一个新的列表**\n",
    "- `[expr for val in collection if condition]`\n",
    "- 过滤条件是可以忽略的，只保留表达式"
   ]
  },
  {
   "cell_type": "code",
   "execution_count": null,
   "metadata": {},
   "outputs": [],
   "source": [
    "result = []\n",
    "for val in collection:\n",
    "    if codition:\n",
    "        result.appendp(val)"
   ]
  },
  {
   "cell_type": "code",
   "execution_count": 144,
   "metadata": {
    "ExecuteTime": {
     "end_time": "2020-11-10T11:39:51.163441Z",
     "start_time": "2020-11-10T11:39:51.146450Z"
    }
   },
   "outputs": [
    {
     "data": {
      "text/plain": [
       "['BAT', 'CAR', 'DOVE', 'PYTHON']"
      ]
     },
     "execution_count": 144,
     "metadata": {},
     "output_type": "execute_result"
    }
   ],
   "source": [
    "strings = ['a', 'as', 'bat', 'car', 'dove', 'python']\n",
    "[x.upper() for x in strings if len(x) > 2]"
   ]
  },
  {
   "cell_type": "markdown",
   "metadata": {},
   "source": [
    "集合和字典的推导式是列表推导式的**自然扩展**，用相似的方式生成集合和字典\n",
    "- {key_exp: value_exp for for val in collection if condition }\n",
    "- {exp for for val in collection if condition }"
   ]
  },
  {
   "cell_type": "code",
   "execution_count": 145,
   "metadata": {
    "ExecuteTime": {
     "end_time": "2020-11-10T11:41:56.929709Z",
     "start_time": "2020-11-10T11:41:56.910720Z"
    }
   },
   "outputs": [
    {
     "data": {
      "text/plain": [
       "{1, 2, 3, 4, 6}"
      ]
     },
     "execution_count": 145,
     "metadata": {},
     "output_type": "execute_result"
    }
   ],
   "source": [
    "{len(x) for x in strings}"
   ]
  },
  {
   "cell_type": "code",
   "execution_count": 151,
   "metadata": {
    "ExecuteTime": {
     "end_time": "2020-11-10T11:47:18.313586Z",
     "start_time": "2020-11-10T11:47:18.293595Z"
    }
   },
   "outputs": [
    {
     "data": {
      "text/plain": [
       "{0: 'a', 1: 'as', 2: 'bat', 3: 'car', 4: 'dove', 5: 'python'}"
      ]
     },
     "execution_count": 151,
     "metadata": {},
     "output_type": "execute_result"
    }
   ],
   "source": [
    "{x: val  for x, val  in enumerate(strings)}"
   ]
  },
  {
   "cell_type": "markdown",
   "metadata": {},
   "source": [
    "`map`函数可以简化这种表达，但是结构比较单一，没有推导式灵活"
   ]
  },
  {
   "cell_type": "code",
   "execution_count": 148,
   "metadata": {
    "ExecuteTime": {
     "end_time": "2020-11-10T11:43:10.820784Z",
     "start_time": "2020-11-10T11:43:10.814787Z"
    }
   },
   "outputs": [
    {
     "data": {
      "text/plain": [
       "{1, 2, 3, 4, 6}"
      ]
     },
     "execution_count": 148,
     "metadata": {},
     "output_type": "execute_result"
    }
   ],
   "source": [
    "set(map(len, strings))"
   ]
  },
  {
   "cell_type": "markdown",
   "metadata": {},
   "source": [
    "### 嵌套列表推导式"
   ]
  },
  {
   "cell_type": "markdown",
   "metadata": {},
   "source": [
    "嵌套列表推导式对应嵌套的For循环，**列表推导式的for循环部分是根据嵌套的顺序排列的，所有的过滤条件像之前一样放在尾部**"
   ]
  },
  {
   "cell_type": "code",
   "execution_count": 152,
   "metadata": {
    "ExecuteTime": {
     "end_time": "2020-11-10T12:07:48.081218Z",
     "start_time": "2020-11-10T12:07:48.063282Z"
    }
   },
   "outputs": [],
   "source": [
    "some_tuples = [(1,2,3), (4,5,6), (7,8,9)]\n",
    "flattened = [x for tup in some_tuples for x in tup]"
   ]
  },
  {
   "cell_type": "code",
   "execution_count": 153,
   "metadata": {
    "ExecuteTime": {
     "end_time": "2020-11-10T12:07:53.398579Z",
     "start_time": "2020-11-10T12:07:53.392583Z"
    }
   },
   "outputs": [
    {
     "data": {
      "text/plain": [
       "[1, 2, 3, 4, 5, 6, 7, 8, 9]"
      ]
     },
     "execution_count": 153,
     "metadata": {},
     "output_type": "execute_result"
    }
   ],
   "source": [
    "flattened"
   ]
  },
  {
   "cell_type": "code",
   "execution_count": 156,
   "metadata": {
    "ExecuteTime": {
     "end_time": "2020-11-10T12:12:17.254876Z",
     "start_time": "2020-11-10T12:12:17.241881Z"
    }
   },
   "outputs": [
    {
     "data": {
      "text/plain": [
       "[(1, 2, 3), (4, 5, 6), (7, 8, 9)]"
      ]
     },
     "execution_count": 156,
     "metadata": {},
     "output_type": "execute_result"
    }
   ],
   "source": [
    "some_tuples"
   ]
  },
  {
   "cell_type": "code",
   "execution_count": 157,
   "metadata": {
    "ExecuteTime": {
     "end_time": "2020-11-10T12:12:28.705649Z",
     "start_time": "2020-11-10T12:12:28.692658Z"
    }
   },
   "outputs": [
    {
     "data": {
      "text/plain": [
       "[(1, 2, 3), (4, 5, 6), (7, 8, 9)]"
      ]
     },
     "execution_count": 157,
     "metadata": {},
     "output_type": "execute_result"
    }
   ],
   "source": [
    "[tup for tup in some_tuples]"
   ]
  },
  {
   "cell_type": "code",
   "execution_count": 161,
   "metadata": {
    "ExecuteTime": {
     "end_time": "2020-11-10T12:13:06.042624Z",
     "start_time": "2020-11-10T12:13:06.033615Z"
    }
   },
   "outputs": [
    {
     "data": {
      "text/plain": [
       "[[1, 2, 3], [4, 5, 6], [7, 8, 9]]"
      ]
     },
     "execution_count": 161,
     "metadata": {},
     "output_type": "execute_result"
    }
   ],
   "source": [
    "[ [ x for x in tup] for tup in some_tuples ]"
   ]
  },
  {
   "cell_type": "markdown",
   "metadata": {},
   "source": [
    "**嵌套推导式的语法要和列表推导式中的列表推导式区分开**"
   ]
  },
  {
   "cell_type": "markdown",
   "metadata": {},
   "source": [
    "## 函数"
   ]
  },
  {
   "cell_type": "markdown",
   "metadata": {},
   "source": [
    "函数是Python中最重要，最基础的**代码组织和代码复用方式**\n",
    "- 需要多次复制相同或者相似的代码，就非常值得编写一个可复用的函数\n",
    "- 通过**一组Python语句一个函数名**，形成的函数使得代码更具有可读性"
   ]
  },
  {
   "cell_type": "markdown",
   "metadata": {},
   "source": [
    "函数声明使用关键字`def`，函数返回时使用关键字`return`\n",
    "- 可以有多条`return`语句\n",
    "- Python达到函数结尾时，依然没有遇到`return`语句,就会自动返回`None`"
   ]
  },
  {
   "cell_type": "markdown",
   "metadata": {},
   "source": [
    "每个函数都可以有**位置参数**和**关键字参数**\n",
    "- 关键字参数常用于**指定默认值或可选参数**\n",
    "- 主要限制： **关键字参数必须跟在位置参数后**\n",
    "- 可以**按照任意顺序指定关键字参数**\n",
    "- 也可以使用关键字参数向位置参数传参"
   ]
  },
  {
   "cell_type": "code",
   "execution_count": 162,
   "metadata": {
    "ExecuteTime": {
     "end_time": "2020-11-10T13:01:37.356348Z",
     "start_time": "2020-11-10T13:01:37.338359Z"
    }
   },
   "outputs": [],
   "source": [
    "def my_function(x, y, z=1.5):\n",
    "    if z > 1:\n",
    "        return z * (x+y)\n",
    "    else:\n",
    "        return z / (x + y)"
   ]
  },
  {
   "cell_type": "code",
   "execution_count": 163,
   "metadata": {
    "ExecuteTime": {
     "end_time": "2020-11-10T13:01:52.680550Z",
     "start_time": "2020-11-10T13:01:52.673557Z"
    }
   },
   "outputs": [
    {
     "data": {
      "text/plain": [
       "0.5"
      ]
     },
     "execution_count": 163,
     "metadata": {},
     "output_type": "execute_result"
    }
   ],
   "source": [
    "my_function(1,1,1)"
   ]
  },
  {
   "cell_type": "code",
   "execution_count": 164,
   "metadata": {
    "ExecuteTime": {
     "end_time": "2020-11-10T13:02:02.976779Z",
     "start_time": "2020-11-10T13:02:02.963779Z"
    }
   },
   "outputs": [
    {
     "ename": "SyntaxError",
     "evalue": "positional argument follows keyword argument (<ipython-input-164-45a10c024717>, line 1)",
     "output_type": "error",
     "traceback": [
      "\u001b[1;36m  File \u001b[1;32m\"<ipython-input-164-45a10c024717>\"\u001b[1;36m, line \u001b[1;32m1\u001b[0m\n\u001b[1;33m    my_function(z=10, 1,1)\u001b[0m\n\u001b[1;37m                      ^\u001b[0m\n\u001b[1;31mSyntaxError\u001b[0m\u001b[1;31m:\u001b[0m positional argument follows keyword argument\n"
     ]
    }
   ],
   "source": [
    "my_function(z=10, 1,1) # positional argument follows keyword argument"
   ]
  },
  {
   "cell_type": "code",
   "execution_count": 165,
   "metadata": {
    "ExecuteTime": {
     "end_time": "2020-11-10T13:02:58.906408Z",
     "start_time": "2020-11-10T13:02:58.892673Z"
    }
   },
   "outputs": [
    {
     "data": {
      "text/plain": [
       "900"
      ]
     },
     "execution_count": 165,
     "metadata": {},
     "output_type": "execute_result"
    }
   ],
   "source": [
    "my_function(x=10, y=20,z=30)"
   ]
  },
  {
   "cell_type": "markdown",
   "metadata": {},
   "source": [
    "### 命名空间，作用域， 本地函数"
   ]
  },
  {
   "cell_type": "markdown",
   "metadata": {},
   "source": [
    "函数有两种连接变量的方式： 全局和本地"
   ]
  },
  {
   "cell_type": "markdown",
   "metadata": {},
   "source": [
    "Python中更贴切的**描述变量作用域的名称是命名空间**\n",
    "- 函数内部，任意变量都是默认分配到本地命名空间\n",
    "    - 本地命名空间是在函数调用时生成的，并立即由函数的参数填充\n",
    "    - 当函数执行结束后，本地命名空间就会被销毁\n",
    "- 修改函数外部的变量时需要添加`global`关键字，告诉编译器使用的是全局变量，不需要创建本地变量"
   ]
  },
  {
   "cell_type": "code",
   "execution_count": 171,
   "metadata": {
    "ExecuteTime": {
     "end_time": "2020-11-10T13:10:10.425196Z",
     "start_time": "2020-11-10T13:10:10.404169Z"
    }
   },
   "outputs": [
    {
     "data": {
      "text/plain": [
       "{1, 2, 3, 4, 5}"
      ]
     },
     "execution_count": 171,
     "metadata": {},
     "output_type": "execute_result"
    }
   ],
   "source": [
    "a"
   ]
  },
  {
   "cell_type": "code",
   "execution_count": 174,
   "metadata": {
    "ExecuteTime": {
     "end_time": "2020-11-10T13:10:26.673282Z",
     "start_time": "2020-11-10T13:10:26.667284Z"
    }
   },
   "outputs": [],
   "source": [
    "def func():\n",
    "    ab = []\n",
    "    for i in range(4): ab.append(i)\n",
    "func()"
   ]
  },
  {
   "cell_type": "code",
   "execution_count": 175,
   "metadata": {
    "ExecuteTime": {
     "end_time": "2020-11-10T13:10:28.597154Z",
     "start_time": "2020-11-10T13:10:28.585164Z"
    },
    "scrolled": true
   },
   "outputs": [
    {
     "ename": "NameError",
     "evalue": "name 'ab' is not defined",
     "output_type": "error",
     "traceback": [
      "\u001b[1;31m---------------------------------------------------------------------------\u001b[0m",
      "\u001b[1;31mNameError\u001b[0m                                 Traceback (most recent call last)",
      "\u001b[1;32m<ipython-input-175-5277cbb45a15>\u001b[0m in \u001b[0;36m<module>\u001b[1;34m\u001b[0m\n\u001b[1;32m----> 1\u001b[1;33m \u001b[0mab\u001b[0m\u001b[1;33m\u001b[0m\u001b[1;33m\u001b[0m\u001b[0m\n\u001b[0m",
      "\u001b[1;31mNameError\u001b[0m: name 'ab' is not defined"
     ]
    }
   ],
   "source": [
    "ab"
   ]
  },
  {
   "cell_type": "code",
   "execution_count": 176,
   "metadata": {
    "ExecuteTime": {
     "end_time": "2020-11-10T13:10:52.007034Z",
     "start_time": "2020-11-10T13:10:51.997041Z"
    }
   },
   "outputs": [
    {
     "data": {
      "text/plain": [
       "['a', 'b']"
      ]
     },
     "execution_count": 176,
     "metadata": {},
     "output_type": "execute_result"
    }
   ],
   "source": [
    "ab = ['a', 'b']\n",
    "func()\n",
    "ab"
   ]
  },
  {
   "cell_type": "code",
   "execution_count": 177,
   "metadata": {
    "ExecuteTime": {
     "end_time": "2020-11-10T13:11:59.577853Z",
     "start_time": "2020-11-10T13:11:59.570858Z"
    }
   },
   "outputs": [],
   "source": [
    "def func():\n",
    "    global ab\n",
    "    for i in range(4): ab.append(i)\n",
    "func()"
   ]
  },
  {
   "cell_type": "code",
   "execution_count": 178,
   "metadata": {
    "ExecuteTime": {
     "end_time": "2020-11-10T13:12:03.749121Z",
     "start_time": "2020-11-10T13:12:03.729876Z"
    }
   },
   "outputs": [
    {
     "data": {
      "text/plain": [
       "['a', 'b', 0, 1, 2, 3]"
      ]
     },
     "execution_count": 178,
     "metadata": {},
     "output_type": "execute_result"
    }
   ],
   "source": [
    "ab"
   ]
  },
  {
   "cell_type": "markdown",
   "metadata": {},
   "source": [
    "### 返回多个值"
   ]
  },
  {
   "cell_type": "markdown",
   "metadata": {},
   "source": [
    "Python的函数**可以一次性返回多个值**，但是其**本质上是返回了一个Python对象**，可以是元组\n",
    "- 最常见的返回多个值，是返回元组，赋值的时候进行了 **拆包**"
   ]
  },
  {
   "cell_type": "code",
   "execution_count": 180,
   "metadata": {
    "ExecuteTime": {
     "end_time": "2020-11-10T13:16:16.023905Z",
     "start_time": "2020-11-10T13:16:16.017909Z"
    }
   },
   "outputs": [],
   "source": [
    "def f():\n",
    "    a = 5; b= 6; c=7\n",
    "    return a,b,c \n",
    "\n",
    "result = f()"
   ]
  },
  {
   "cell_type": "code",
   "execution_count": 181,
   "metadata": {
    "ExecuteTime": {
     "end_time": "2020-11-10T13:16:24.203834Z",
     "start_time": "2020-11-10T13:16:24.185848Z"
    }
   },
   "outputs": [
    {
     "data": {
      "text/plain": [
       "tuple"
      ]
     },
     "execution_count": 181,
     "metadata": {},
     "output_type": "execute_result"
    }
   ],
   "source": [
    "type(result)"
   ]
  },
  {
   "cell_type": "code",
   "execution_count": 182,
   "metadata": {
    "ExecuteTime": {
     "end_time": "2020-11-10T13:16:31.965861Z",
     "start_time": "2020-11-10T13:16:31.946868Z"
    }
   },
   "outputs": [],
   "source": [
    "a,b,c = result"
   ]
  },
  {
   "cell_type": "code",
   "execution_count": 184,
   "metadata": {
    "ExecuteTime": {
     "end_time": "2020-11-10T13:18:38.140359Z",
     "start_time": "2020-11-10T13:18:38.122370Z"
    }
   },
   "outputs": [
    {
     "data": {
      "text/plain": [
       "dict"
      ]
     },
     "execution_count": 184,
     "metadata": {},
     "output_type": "execute_result"
    }
   ],
   "source": [
    "def f():\n",
    "    a = 5; b= 6; c=7\n",
    "    return {'a':a, 'b':b, 'c':c}\n",
    "\n",
    "result = f()\n",
    "type(result)"
   ]
  },
  {
   "cell_type": "markdown",
   "metadata": {},
   "source": [
    "### 函数是对象"
   ]
  },
  {
   "cell_type": "markdown",
   "metadata": {},
   "source": [
    "Python函数是对象，可以完成一些在其他语言中比较困难的操作\n",
    "- 将函数当做参数传递给其他函数"
   ]
  },
  {
   "cell_type": "code",
   "execution_count": 185,
   "metadata": {
    "ExecuteTime": {
     "end_time": "2020-11-10T13:27:51.411313Z",
     "start_time": "2020-11-10T13:27:51.406315Z"
    }
   },
   "outputs": [],
   "source": [
    "states = ['   Alabama', 'Georiga!', 'geo  ', 'lsess###', 'Wesr  tsdfs?']"
   ]
  },
  {
   "cell_type": "code",
   "execution_count": 186,
   "metadata": {
    "ExecuteTime": {
     "end_time": "2020-11-10T13:31:02.918931Z",
     "start_time": "2020-11-10T13:31:02.902938Z"
    }
   },
   "outputs": [],
   "source": [
    "import re\n",
    "\n",
    "def clean_strings(strings):\n",
    "    result = []\n",
    "    for value in strings:\n",
    "        value = value.strip()\n",
    "        value = re.sub('[!#?]', '', value)\n",
    "        value = value.title()\n",
    "        result.append(value)\n",
    "    return  result"
   ]
  },
  {
   "cell_type": "code",
   "execution_count": 187,
   "metadata": {
    "ExecuteTime": {
     "end_time": "2020-11-10T13:31:09.916074Z",
     "start_time": "2020-11-10T13:31:09.903070Z"
    }
   },
   "outputs": [
    {
     "data": {
      "text/plain": [
       "['Alabama', 'Georiga', 'Geo', 'Lsess', 'Wesr  Tsdfs']"
      ]
     },
     "execution_count": 187,
     "metadata": {},
     "output_type": "execute_result"
    }
   ],
   "source": [
    "clean_strings(states)"
   ]
  },
  {
   "cell_type": "code",
   "execution_count": 188,
   "metadata": {
    "ExecuteTime": {
     "end_time": "2020-11-10T13:33:02.549664Z",
     "start_time": "2020-11-10T13:33:02.534659Z"
    }
   },
   "outputs": [],
   "source": [
    "re.sub?"
   ]
  },
  {
   "cell_type": "code",
   "execution_count": 192,
   "metadata": {
    "ExecuteTime": {
     "end_time": "2020-11-10T13:37:08.572921Z",
     "start_time": "2020-11-10T13:37:08.565926Z"
    }
   },
   "outputs": [],
   "source": [
    "def remove_punctuation(value):\n",
    "    return  re.sub('[!#?]', '', value)\n",
    "\n",
    "clean_ops = [str.strip, remove_punctuation, str.title]\n",
    "\n",
    "def clean_strings(strings, ops):\n",
    "    result = []\n",
    "    for value in strings:\n",
    "        for func in ops:\n",
    "            value = func(value)\n",
    "        result.append(value)\n",
    "    return result\n",
    "        "
   ]
  },
  {
   "cell_type": "code",
   "execution_count": 193,
   "metadata": {
    "ExecuteTime": {
     "end_time": "2020-11-10T13:37:10.287773Z",
     "start_time": "2020-11-10T13:37:10.268781Z"
    }
   },
   "outputs": [
    {
     "data": {
      "text/plain": [
       "['Alabama', 'Georiga', 'Geo', 'Lsess', 'Wesr  Tsdfs']"
      ]
     },
     "execution_count": 193,
     "metadata": {},
     "output_type": "execute_result"
    }
   ],
   "source": [
    "clean_strings(states, clean_ops)"
   ]
  },
  {
   "cell_type": "code",
   "execution_count": 194,
   "metadata": {
    "ExecuteTime": {
     "end_time": "2020-11-10T13:39:31.293856Z",
     "start_time": "2020-11-10T13:39:31.285859Z"
    }
   },
   "outputs": [
    {
     "data": {
      "text/plain": [
       "<map at 0x2beae394400>"
      ]
     },
     "execution_count": 194,
     "metadata": {},
     "output_type": "execute_result"
    }
   ],
   "source": [
    "map(remove_punctuation, states)"
   ]
  },
  {
   "cell_type": "code",
   "execution_count": 195,
   "metadata": {
    "ExecuteTime": {
     "end_time": "2020-11-10T13:40:21.210839Z",
     "start_time": "2020-11-10T13:40:21.198847Z"
    }
   },
   "outputs": [
    {
     "data": {
      "text/plain": [
       "['Alabama', 'Georiga', 'Geo', 'Lsess', 'Wesr  Tsdfs']"
      ]
     },
     "execution_count": 195,
     "metadata": {},
     "output_type": "execute_result"
    }
   ],
   "source": [
    "result = states\n",
    "for ops in clean_ops:\n",
    "    result = list(map(ops, result))\n",
    "result"
   ]
  },
  {
   "cell_type": "markdown",
   "metadata": {},
   "source": [
    "### 匿名函数 Lambda"
   ]
  },
  {
   "cell_type": "markdown",
   "metadata": {},
   "source": [
    "Python支持匿名函数或`lambda`函数\n",
    "- 匿名函数是一种**通过单个语句生成函数的方式**\n",
    "- 其结果就是返回值 `lambda 参数 : 返回值`\n",
    "\n",
    "- 匿名函数使用关键字`lambda`定义，表示声明一个匿名函数\n",
    "- 匿名函数在数据分析中非常有用，代码量小，将它作为参数传值，比写一个完整的函数或将匿名函数赋值给本地变量更好\n",
    "- 匿名函数本身没有`__name__`属性"
   ]
  },
  {
   "cell_type": "code",
   "execution_count": null,
   "metadata": {},
   "outputs": [],
   "source": [
    "def  short_function(x):\n",
    "    return x * 2\n",
    "\n",
    "equiv_anon = lambda x: x*2"
   ]
  },
  {
   "cell_type": "code",
   "execution_count": 203,
   "metadata": {
    "ExecuteTime": {
     "end_time": "2020-11-10T13:53:53.271246Z",
     "start_time": "2020-11-10T13:53:53.252243Z"
    }
   },
   "outputs": [
    {
     "data": {
      "text/plain": [
       "{'a'}"
      ]
     },
     "execution_count": 203,
     "metadata": {},
     "output_type": "execute_result"
    }
   ],
   "source": [
    "set('aaaa')"
   ]
  },
  {
   "cell_type": "code",
   "execution_count": 196,
   "metadata": {
    "ExecuteTime": {
     "end_time": "2020-11-10T13:50:27.630423Z",
     "start_time": "2020-11-10T13:50:27.622411Z"
    }
   },
   "outputs": [],
   "source": [
    "strings = ['foo', 'card', 'bar', 'aaaa', 'abab']"
   ]
  },
  {
   "cell_type": "code",
   "execution_count": 201,
   "metadata": {
    "ExecuteTime": {
     "end_time": "2020-11-10T13:51:30.493590Z",
     "start_time": "2020-11-10T13:51:30.485596Z"
    }
   },
   "outputs": [],
   "source": [
    "strings.sort(key=lambda x: len(set(x)))"
   ]
  },
  {
   "cell_type": "code",
   "execution_count": 202,
   "metadata": {
    "ExecuteTime": {
     "end_time": "2020-11-10T13:51:34.509069Z",
     "start_time": "2020-11-10T13:51:34.501074Z"
    }
   },
   "outputs": [
    {
     "data": {
      "text/plain": [
       "['aaaa', 'foo', 'abab', 'bar', 'card']"
      ]
     },
     "execution_count": 202,
     "metadata": {},
     "output_type": "execute_result"
    }
   ],
   "source": [
    "strings"
   ]
  },
  {
   "cell_type": "markdown",
   "metadata": {},
   "source": [
    "### 柯里化： 部分参数应用"
   ]
  },
  {
   "cell_type": "markdown",
   "metadata": {},
   "source": [
    "柯里化是计算机术语，表示**通过部分参数应用的方式从已有的函数承衍生出新的函数**, `cuurid`"
   ]
  },
  {
   "cell_type": "code",
   "execution_count": 204,
   "metadata": {
    "ExecuteTime": {
     "end_time": "2020-11-11T00:31:40.044438Z",
     "start_time": "2020-11-11T00:31:40.029445Z"
    }
   },
   "outputs": [],
   "source": [
    "def add_number(x, y):\n",
    "    return x+y"
   ]
  },
  {
   "cell_type": "code",
   "execution_count": 205,
   "metadata": {
    "ExecuteTime": {
     "end_time": "2020-11-11T00:32:46.563890Z",
     "start_time": "2020-11-11T00:32:46.552911Z"
    }
   },
   "outputs": [],
   "source": [
    "# 从上面的函数中衍生出一个只有一个变量的新函数\n",
    "add_five = lambda y: add_number(5, y)"
   ]
  },
  {
   "cell_type": "markdown",
   "metadata": {},
   "source": [
    "第二个参数对于函数add_numbers就是**柯里化**\n",
    "- 我们真正做的事情就是，定义了一个新函数，新函数调用了已经存在的函数\n",
    "- 内建的`functools`模块就可以使用`pratial`函数简化这种操作"
   ]
  },
  {
   "cell_type": "code",
   "execution_count": 206,
   "metadata": {
    "ExecuteTime": {
     "end_time": "2020-11-11T00:35:04.835331Z",
     "start_time": "2020-11-11T00:35:04.825325Z"
    }
   },
   "outputs": [
    {
     "data": {
      "text/plain": [
       "functools.partial(<function add_number at 0x000002BEAD3EBD30>, 5)"
      ]
     },
     "execution_count": 206,
     "metadata": {},
     "output_type": "execute_result"
    }
   ],
   "source": [
    "from functools import partial\n",
    "add_five = partial(add_number, 5)\n",
    "add_five"
   ]
  },
  {
   "cell_type": "code",
   "execution_count": 208,
   "metadata": {
    "ExecuteTime": {
     "end_time": "2020-11-11T00:35:20.373227Z",
     "start_time": "2020-11-11T00:35:20.328252Z"
    }
   },
   "outputs": [],
   "source": [
    "add_five?? # add_five(y)"
   ]
  },
  {
   "cell_type": "markdown",
   "metadata": {},
   "source": [
    "### 生成器"
   ]
  },
  {
   "cell_type": "markdown",
   "metadata": {},
   "source": [
    "**通过一致的方式遍历序列**，例如列表中的对象或者文件中的一行行内容，这是Python的一个重要特性\n",
    "- 这个特性是通过**迭代器协议**来实现的\n",
    "- **迭代器协议是一种令对象可遍历的通用方式**"
   ]
  },
  {
   "cell_type": "code",
   "execution_count": 209,
   "metadata": {
    "ExecuteTime": {
     "end_time": "2020-11-11T00:53:22.911464Z",
     "start_time": "2020-11-11T00:53:22.903474Z"
    }
   },
   "outputs": [
    {
     "name": "stdout",
     "output_type": "stream",
     "text": [
      "a\n",
      "b\n"
     ]
    }
   ],
   "source": [
    "some_dict = {'a':1, 'b':2}\n",
    "for key in some_dict:\n",
    "    print(key)"
   ]
  },
  {
   "cell_type": "markdown",
   "metadata": {},
   "source": [
    "**迭代器就是一种用于在上下文中向Python解释器生成对象的对象**\n",
    "- 在`for`循环中，**Python解释器会首先尝试对遍历对象生成一个迭代器**\n",
    "- 大部分**以列表或列表型对象为参数的方法都可以接受任意的迭代器对象**，包含内建的max，min，sum，以及类型构造函数list，tuple"
   ]
  },
  {
   "cell_type": "code",
   "execution_count": 210,
   "metadata": {
    "ExecuteTime": {
     "end_time": "2020-11-11T00:53:57.331918Z",
     "start_time": "2020-11-11T00:53:57.322909Z"
    }
   },
   "outputs": [
    {
     "data": {
      "text/plain": [
       "<dict_keyiterator at 0x2beae031c70>"
      ]
     },
     "execution_count": 210,
     "metadata": {},
     "output_type": "execute_result"
    }
   ],
   "source": [
    "iter(some_dict)"
   ]
  },
  {
   "cell_type": "code",
   "execution_count": 211,
   "metadata": {
    "ExecuteTime": {
     "end_time": "2020-11-11T00:54:09.770889Z",
     "start_time": "2020-11-11T00:54:09.757900Z"
    }
   },
   "outputs": [
    {
     "data": {
      "text/plain": [
       "['a', 'b']"
      ]
     },
     "execution_count": 211,
     "metadata": {},
     "output_type": "execute_result"
    }
   ],
   "source": [
    "list(iter(some_dict))"
   ]
  },
  {
   "cell_type": "markdown",
   "metadata": {},
   "source": [
    "**生成器是构造可遍历对象的一种非常简洁的方式**\n",
    "- 普通函数执行并以此返回单个结果\n",
    "- 生成器“惰性”的返回一个**多结果序列**，在每一个元素产生之后暂停，知道下一个请求\n",
    "- 创建生成器，只需要在函数中将返回关键字`return`替换为`yield`关键字\n",
    "- **当实际调用生成器时，代码并不会立即执行，生成一个生成器对象**，直到请求生成器元素时，才会执行它的代码\n",
    "- **当生成器请求元素之后，该元素就不存在了**"
   ]
  },
  {
   "cell_type": "code",
   "execution_count": 212,
   "metadata": {
    "ExecuteTime": {
     "end_time": "2020-11-11T00:56:36.430030Z",
     "start_time": "2020-11-11T00:56:36.418036Z"
    }
   },
   "outputs": [],
   "source": [
    "def squares(n=10):\n",
    "    print('Generating squares from 1 to {0}'.format(n**2))\n",
    "    for i in range(1, n+1):\n",
    "        yield i**2"
   ]
  },
  {
   "cell_type": "code",
   "execution_count": 213,
   "metadata": {
    "ExecuteTime": {
     "end_time": "2020-11-11T00:56:43.195924Z",
     "start_time": "2020-11-11T00:56:43.176934Z"
    }
   },
   "outputs": [
    {
     "data": {
      "text/plain": [
       "<function __main__.squares(n=10)>"
      ]
     },
     "execution_count": 213,
     "metadata": {},
     "output_type": "execute_result"
    }
   ],
   "source": [
    "squares"
   ]
  },
  {
   "cell_type": "code",
   "execution_count": 220,
   "metadata": {
    "ExecuteTime": {
     "end_time": "2020-11-11T00:57:39.242836Z",
     "start_time": "2020-11-11T00:57:39.235839Z"
    }
   },
   "outputs": [
    {
     "data": {
      "text/plain": [
       "<generator object squares at 0x000002BEADAD82E0>"
      ]
     },
     "execution_count": 220,
     "metadata": {},
     "output_type": "execute_result"
    }
   ],
   "source": [
    "gen = squares() # generator \n",
    "gen"
   ]
  },
  {
   "cell_type": "code",
   "execution_count": 221,
   "metadata": {
    "ExecuteTime": {
     "end_time": "2020-11-11T00:57:40.866433Z",
     "start_time": "2020-11-11T00:57:40.859438Z"
    }
   },
   "outputs": [
    {
     "name": "stdout",
     "output_type": "stream",
     "text": [
      "Generating squares from 1 to 100\n",
      "1\t4\t9\t16\t25\t36\t49\t64\t81\t100\t"
     ]
    }
   ],
   "source": [
    "for i in  gen:\n",
    "    print(i, end='\\t')"
   ]
  },
  {
   "cell_type": "markdown",
   "metadata": {},
   "source": [
    "#### 生成器表达式"
   ]
  },
  {
   "cell_type": "markdown",
   "metadata": {},
   "source": [
    "**通过生成器表达式来创建生成器更为简单**。生成器表达式与列表，字典。集合的推导式很类似\n",
    "- 创建一个生成器表达式，只需要将列表推导式的中括号替换为**小括号**即可\n",
    "- 很多情况下，生成器表达式可以作为函数参数用于替代列表推导式"
   ]
  },
  {
   "cell_type": "code",
   "execution_count": 222,
   "metadata": {
    "ExecuteTime": {
     "end_time": "2020-11-11T01:03:19.898040Z",
     "start_time": "2020-11-11T01:03:19.883084Z"
    }
   },
   "outputs": [
    {
     "data": {
      "text/plain": [
       "<generator object <genexpr> at 0x000002BEADAD80B0>"
      ]
     },
     "execution_count": 222,
     "metadata": {},
     "output_type": "execute_result"
    }
   ],
   "source": [
    "gen = ( x ** 2 for x in range(10))\n",
    "gen"
   ]
  },
  {
   "cell_type": "markdown",
   "metadata": {},
   "source": [
    "- 生成器表达式创建的生成器可以使用构造函数\n",
    "- 生成器函数创建的生成器不能使用构造函数"
   ]
  },
  {
   "cell_type": "code",
   "execution_count": 223,
   "metadata": {
    "ExecuteTime": {
     "end_time": "2020-11-11T01:03:25.770516Z",
     "start_time": "2020-11-11T01:03:25.764520Z"
    }
   },
   "outputs": [
    {
     "data": {
      "text/plain": [
       "[0, 1, 4, 9, 16, 25, 36, 49, 64, 81]"
      ]
     },
     "execution_count": 223,
     "metadata": {},
     "output_type": "execute_result"
    }
   ],
   "source": [
    "list(gen)"
   ]
  },
  {
   "cell_type": "code",
   "execution_count": 225,
   "metadata": {
    "ExecuteTime": {
     "end_time": "2020-11-11T01:05:10.261474Z",
     "start_time": "2020-11-11T01:05:10.240484Z"
    }
   },
   "outputs": [
    {
     "data": {
      "text/plain": [
       "285"
      ]
     },
     "execution_count": 225,
     "metadata": {},
     "output_type": "execute_result"
    }
   ],
   "source": [
    "sum(( x ** 2 for x in range(10)))"
   ]
  },
  {
   "cell_type": "markdown",
   "metadata": {},
   "source": [
    "#### itertools模块"
   ]
  },
  {
   "cell_type": "markdown",
   "metadata": {},
   "source": [
    "标准库中的`itertools`模块是适用于大多数数据算法的**生成器集合**\n",
    "- `groupby`: 根据任意序列和一个函数，通过函数的返回值对序列中连续的元素进行分组"
   ]
  },
  {
   "cell_type": "code",
   "execution_count": 234,
   "metadata": {
    "ExecuteTime": {
     "end_time": "2020-11-11T01:13:02.792902Z",
     "start_time": "2020-11-11T01:13:02.771911Z"
    }
   },
   "outputs": [
    {
     "name": "stdout",
     "output_type": "stream",
     "text": [
      "A ['Alan', 'Adam']\n",
      "W ['Wes', 'Will']\n",
      "A ['Albert']\n",
      "S ['Steven']\n"
     ]
    }
   ],
   "source": [
    "import itertools\n",
    "first_letter = lambda x: x[0]\n",
    "names = ['Alan', 'Adam', 'Wes', 'Will', 'Albert', 'Steven']\n",
    "for letter, names in itertools.groupby(names, first_letter):\n",
    "    print(letter, list(names))   # ( x ** 2 for x in range(10))"
   ]
  },
  {
   "cell_type": "code",
   "execution_count": 244,
   "metadata": {
    "ExecuteTime": {
     "end_time": "2020-11-11T01:14:30.461114Z",
     "start_time": "2020-11-11T01:14:30.457115Z"
    }
   },
   "outputs": [],
   "source": [
    "names = ['Alan', 'Adam', 'Wes', 'Will', 'Albert', 'Steven']"
   ]
  },
  {
   "cell_type": "code",
   "execution_count": 245,
   "metadata": {
    "ExecuteTime": {
     "end_time": "2020-11-11T01:14:32.670851Z",
     "start_time": "2020-11-11T01:14:32.664855Z"
    }
   },
   "outputs": [],
   "source": [
    "comm = itertools.combinations(names, 2)"
   ]
  },
  {
   "cell_type": "code",
   "execution_count": 246,
   "metadata": {
    "ExecuteTime": {
     "end_time": "2020-11-11T01:14:34.381291Z",
     "start_time": "2020-11-11T01:14:34.375296Z"
    }
   },
   "outputs": [
    {
     "data": {
      "text/plain": [
       "[('Alan', 'Adam'),\n",
       " ('Alan', 'Wes'),\n",
       " ('Alan', 'Will'),\n",
       " ('Alan', 'Albert'),\n",
       " ('Alan', 'Steven'),\n",
       " ('Adam', 'Wes'),\n",
       " ('Adam', 'Will'),\n",
       " ('Adam', 'Albert'),\n",
       " ('Adam', 'Steven'),\n",
       " ('Wes', 'Will'),\n",
       " ('Wes', 'Albert'),\n",
       " ('Wes', 'Steven'),\n",
       " ('Will', 'Albert'),\n",
       " ('Will', 'Steven'),\n",
       " ('Albert', 'Steven')]"
      ]
     },
     "execution_count": 246,
     "metadata": {},
     "output_type": "execute_result"
    }
   ],
   "source": [
    "list(comm)"
   ]
  },
  {
   "cell_type": "code",
   "execution_count": 247,
   "metadata": {
    "ExecuteTime": {
     "end_time": "2020-11-11T01:15:02.375573Z",
     "start_time": "2020-11-11T01:15:02.365579Z"
    }
   },
   "outputs": [
    {
     "data": {
      "text/plain": [
       "[('Alan', 'Adam'),\n",
       " ('Alan', 'Wes'),\n",
       " ('Alan', 'Will'),\n",
       " ('Alan', 'Albert'),\n",
       " ('Alan', 'Steven'),\n",
       " ('Adam', 'Alan'),\n",
       " ('Adam', 'Wes'),\n",
       " ('Adam', 'Will'),\n",
       " ('Adam', 'Albert'),\n",
       " ('Adam', 'Steven'),\n",
       " ('Wes', 'Alan'),\n",
       " ('Wes', 'Adam'),\n",
       " ('Wes', 'Will'),\n",
       " ('Wes', 'Albert'),\n",
       " ('Wes', 'Steven'),\n",
       " ('Will', 'Alan'),\n",
       " ('Will', 'Adam'),\n",
       " ('Will', 'Wes'),\n",
       " ('Will', 'Albert'),\n",
       " ('Will', 'Steven'),\n",
       " ('Albert', 'Alan'),\n",
       " ('Albert', 'Adam'),\n",
       " ('Albert', 'Wes'),\n",
       " ('Albert', 'Will'),\n",
       " ('Albert', 'Steven'),\n",
       " ('Steven', 'Alan'),\n",
       " ('Steven', 'Adam'),\n",
       " ('Steven', 'Wes'),\n",
       " ('Steven', 'Will'),\n",
       " ('Steven', 'Albert')]"
      ]
     },
     "execution_count": 247,
     "metadata": {},
     "output_type": "execute_result"
    }
   ],
   "source": [
    "list(itertools.permutations(names, 2))"
   ]
  },
  {
   "cell_type": "markdown",
   "metadata": {},
   "source": [
    "### 错误和异常处理"
   ]
  },
  {
   "cell_type": "markdown",
   "metadata": {},
   "source": [
    "**优雅的处理Python的错误或异常是构建稳定程序的重要组成部分**"
   ]
  },
  {
   "cell_type": "code",
   "execution_count": 248,
   "metadata": {
    "ExecuteTime": {
     "end_time": "2020-11-11T01:38:54.414122Z",
     "start_time": "2020-11-11T01:38:54.403132Z"
    }
   },
   "outputs": [
    {
     "data": {
      "text/plain": [
       "3.1314"
      ]
     },
     "execution_count": 248,
     "metadata": {},
     "output_type": "execute_result"
    }
   ],
   "source": [
    "float('3.1314')"
   ]
  },
  {
   "cell_type": "code",
   "execution_count": 249,
   "metadata": {
    "ExecuteTime": {
     "end_time": "2020-11-11T01:39:07.821361Z",
     "start_time": "2020-11-11T01:39:07.803369Z"
    }
   },
   "outputs": [
    {
     "ename": "ValueError",
     "evalue": "could not convert string to float: 'some'",
     "output_type": "error",
     "traceback": [
      "\u001b[1;31m---------------------------------------------------------------------------\u001b[0m",
      "\u001b[1;31mValueError\u001b[0m                                Traceback (most recent call last)",
      "\u001b[1;32m<ipython-input-249-965de29dcb71>\u001b[0m in \u001b[0;36m<module>\u001b[1;34m\u001b[0m\n\u001b[1;32m----> 1\u001b[1;33m \u001b[0mfloat\u001b[0m\u001b[1;33m(\u001b[0m\u001b[1;34m'some'\u001b[0m\u001b[1;33m)\u001b[0m\u001b[1;33m\u001b[0m\u001b[1;33m\u001b[0m\u001b[0m\n\u001b[0m",
      "\u001b[1;31mValueError\u001b[0m: could not convert string to float: 'some'"
     ]
    }
   ],
   "source": [
    "float('some')"
   ]
  },
  {
   "cell_type": "code",
   "execution_count": 250,
   "metadata": {
    "ExecuteTime": {
     "end_time": "2020-11-11T01:39:19.861700Z",
     "start_time": "2020-11-11T01:39:19.836569Z"
    }
   },
   "outputs": [
    {
     "ename": "TypeError",
     "evalue": "float() argument must be a string or a number, not 'tuple'",
     "output_type": "error",
     "traceback": [
      "\u001b[1;31m---------------------------------------------------------------------------\u001b[0m",
      "\u001b[1;31mTypeError\u001b[0m                                 Traceback (most recent call last)",
      "\u001b[1;32m<ipython-input-250-cf0599772e23>\u001b[0m in \u001b[0;36m<module>\u001b[1;34m\u001b[0m\n\u001b[1;32m----> 1\u001b[1;33m \u001b[0mfloat\u001b[0m\u001b[1;33m(\u001b[0m\u001b[1;33m(\u001b[0m\u001b[1;36m1\u001b[0m\u001b[1;33m,\u001b[0m\u001b[1;36m1\u001b[0m\u001b[1;33m,\u001b[0m\u001b[1;33m)\u001b[0m\u001b[1;33m)\u001b[0m\u001b[1;33m\u001b[0m\u001b[1;33m\u001b[0m\u001b[0m\n\u001b[0m",
      "\u001b[1;31mTypeError\u001b[0m: float() argument must be a string or a number, not 'tuple'"
     ]
    }
   ],
   "source": [
    "float((1,1,))"
   ]
  },
  {
   "cell_type": "markdown",
   "metadata": {},
   "source": [
    "想要在运行失败的时候优雅的处理错误，可以使用`try/except`代码块\n",
    "- 将可以出错的代码放到`try`下\n",
    "- `except` 捕获不同的异常，并提供解决方案\n",
    "- `else` 当没有抛出异常时，执行`else`代码块\n",
    "- `finally`: 不管有没有异常，都需要执行的代码块\n",
    "- 可以在`except` **将多个异常类型写成元组的方式同时捕获多个异常**"
   ]
  },
  {
   "cell_type": "code",
   "execution_count": 251,
   "metadata": {
    "ExecuteTime": {
     "end_time": "2020-11-11T01:44:25.841028Z",
     "start_time": "2020-11-11T01:44:25.831033Z"
    }
   },
   "outputs": [],
   "source": [
    "def attemp_float(x):\n",
    "    try:\n",
    "        return float(x)\n",
    "    except (ValueError,TypeError):\n",
    "        return x\n",
    "    else :\n",
    "        print(\"没有异常\")      "
   ]
  },
  {
   "cell_type": "code",
   "execution_count": 252,
   "metadata": {
    "ExecuteTime": {
     "end_time": "2020-11-11T01:44:38.840596Z",
     "start_time": "2020-11-11T01:44:38.827921Z"
    }
   },
   "outputs": [
    {
     "data": {
      "text/plain": [
       "11.0"
      ]
     },
     "execution_count": 252,
     "metadata": {},
     "output_type": "execute_result"
    }
   ],
   "source": [
    "attemp_float('11')"
   ]
  },
  {
   "cell_type": "markdown",
   "metadata": {},
   "source": [
    "### IPython中的异常"
   ]
  },
  {
   "cell_type": "markdown",
   "metadata": {},
   "source": [
    "IPython会默认**打印出完整的调用堆栈跟踪(报错追溯)**，会将堆栈中每个错误点附近的几行上下文代码打印出"
   ]
  },
  {
   "cell_type": "markdown",
   "metadata": {},
   "source": [
    "比标准Python解释器提供更多额外的上下文是IPYthon的一大进步，可以使用`%xmode`命令来控制上下文数量，可以从普通模式`Plain`（与标准Python解释器一致）切换到`Verbose`复杂模式"
   ]
  },
  {
   "cell_type": "code",
   "execution_count": 253,
   "metadata": {
    "ExecuteTime": {
     "end_time": "2020-11-11T01:58:48.339045Z",
     "start_time": "2020-11-11T01:58:48.323068Z"
    }
   },
   "outputs": [
    {
     "ename": "AssertionError",
     "evalue": "",
     "output_type": "error",
     "traceback": [
      "\u001b[1;31m---------------------------------------------------------------------------\u001b[0m",
      "\u001b[1;31mAssertionError\u001b[0m                            Traceback (most recent call last)",
      "\u001b[1;32mD:\\study_code\\data_analysis\\pydata-book\\examples\\ipython_bug.py\u001b[0m in \u001b[0;36m<module>\u001b[1;34m\u001b[0m\n\u001b[0;32m     13\u001b[0m     \u001b[0mthrows_an_exception\u001b[0m\u001b[1;33m(\u001b[0m\u001b[1;33m)\u001b[0m\u001b[1;33m\u001b[0m\u001b[1;33m\u001b[0m\u001b[0m\n\u001b[0;32m     14\u001b[0m \u001b[1;33m\u001b[0m\u001b[0m\n\u001b[1;32m---> 15\u001b[1;33m \u001b[0mcalling_things\u001b[0m\u001b[1;33m(\u001b[0m\u001b[1;33m)\u001b[0m\u001b[1;33m\u001b[0m\u001b[1;33m\u001b[0m\u001b[0m\n\u001b[0m",
      "\u001b[1;32mD:\\study_code\\data_analysis\\pydata-book\\examples\\ipython_bug.py\u001b[0m in \u001b[0;36mcalling_things\u001b[1;34m()\u001b[0m\n\u001b[0;32m     11\u001b[0m \u001b[1;32mdef\u001b[0m \u001b[0mcalling_things\u001b[0m\u001b[1;33m(\u001b[0m\u001b[1;33m)\u001b[0m\u001b[1;33m:\u001b[0m\u001b[1;33m\u001b[0m\u001b[1;33m\u001b[0m\u001b[0m\n\u001b[0;32m     12\u001b[0m     \u001b[0mworks_fine\u001b[0m\u001b[1;33m(\u001b[0m\u001b[1;33m)\u001b[0m\u001b[1;33m\u001b[0m\u001b[1;33m\u001b[0m\u001b[0m\n\u001b[1;32m---> 13\u001b[1;33m     \u001b[0mthrows_an_exception\u001b[0m\u001b[1;33m(\u001b[0m\u001b[1;33m)\u001b[0m\u001b[1;33m\u001b[0m\u001b[1;33m\u001b[0m\u001b[0m\n\u001b[0m\u001b[0;32m     14\u001b[0m \u001b[1;33m\u001b[0m\u001b[0m\n\u001b[0;32m     15\u001b[0m \u001b[0mcalling_things\u001b[0m\u001b[1;33m(\u001b[0m\u001b[1;33m)\u001b[0m\u001b[1;33m\u001b[0m\u001b[1;33m\u001b[0m\u001b[0m\n",
      "\u001b[1;32mD:\\study_code\\data_analysis\\pydata-book\\examples\\ipython_bug.py\u001b[0m in \u001b[0;36mthrows_an_exception\u001b[1;34m()\u001b[0m\n\u001b[0;32m      7\u001b[0m     \u001b[0ma\u001b[0m \u001b[1;33m=\u001b[0m \u001b[1;36m5\u001b[0m\u001b[1;33m\u001b[0m\u001b[1;33m\u001b[0m\u001b[0m\n\u001b[0;32m      8\u001b[0m     \u001b[0mb\u001b[0m \u001b[1;33m=\u001b[0m \u001b[1;36m6\u001b[0m\u001b[1;33m\u001b[0m\u001b[1;33m\u001b[0m\u001b[0m\n\u001b[1;32m----> 9\u001b[1;33m     \u001b[1;32massert\u001b[0m\u001b[1;33m(\u001b[0m\u001b[0ma\u001b[0m \u001b[1;33m+\u001b[0m \u001b[0mb\u001b[0m \u001b[1;33m==\u001b[0m \u001b[1;36m10\u001b[0m\u001b[1;33m)\u001b[0m\u001b[1;33m\u001b[0m\u001b[1;33m\u001b[0m\u001b[0m\n\u001b[0m\u001b[0;32m     10\u001b[0m \u001b[1;33m\u001b[0m\u001b[0m\n\u001b[0;32m     11\u001b[0m \u001b[1;32mdef\u001b[0m \u001b[0mcalling_things\u001b[0m\u001b[1;33m(\u001b[0m\u001b[1;33m)\u001b[0m\u001b[1;33m:\u001b[0m\u001b[1;33m\u001b[0m\u001b[1;33m\u001b[0m\u001b[0m\n",
      "\u001b[1;31mAssertionError\u001b[0m: "
     ]
    }
   ],
   "source": [
    "%run pydata-book/examples/ipython_bug.py"
   ]
  },
  {
   "cell_type": "markdown",
   "metadata": {},
   "source": [
    "## 文件和操作系统"
   ]
  },
  {
   "cell_type": "markdown",
   "metadata": {},
   "source": [
    "Python中**处理文件非常简单**，这也是Python能够在文本和文件处理领域如此流行的原因"
   ]
  },
  {
   "cell_type": "markdown",
   "metadata": {},
   "source": [
    "打开文件进行读取和写入，需要使用内建的`open`函数和绝对，相对路径"
   ]
  },
  {
   "cell_type": "code",
   "execution_count": 258,
   "metadata": {
    "ExecuteTime": {
     "end_time": "2020-11-11T02:17:11.201003Z",
     "start_time": "2020-11-11T02:17:11.194008Z"
    },
    "scrolled": true
   },
   "outputs": [
    {
     "name": "stdout",
     "output_type": "stream",
     "text": [
      "Sue帽a el rico en su riqueza,\n",
      " que m谩s cuidados le ofrece;\n",
      " \n",
      " sue帽a el pobre que padece\n",
      " su miseria y su pobreza;\n",
      " \n",
      " sue帽a el que a medrar empieza,\n",
      " sue帽a el que afana y pretende,\n",
      " sue帽a el que agravia y ofende,\n",
      " \n",
      " y en el mundo, en conclusi贸n,\n",
      " todos sue帽an lo que son,\n",
      " aunque ninguno lo entiende.\n",
      " \n",
      " "
     ]
    }
   ],
   "source": [
    "path = 'pydata-book/examples/segismundo.txt'\n",
    "for line in open(path):\n",
    "    print(line, end=\" \")"
   ]
  },
  {
   "cell_type": "markdown",
   "metadata": {},
   "source": [
    "默认情况下，文件是以**只读`r`**模式打开的\n",
    "- 行内容会在**行结尾标识(`EOF`)完整**的情况下全部读出\n",
    "- 使用`open`创建文件对象时，在结束操作时显示地关闭文件是非常重要的，**关闭文件将会将资源释放会操作系统**"
   ]
  },
  {
   "cell_type": "code",
   "execution_count": 260,
   "metadata": {
    "ExecuteTime": {
     "end_time": "2020-11-11T02:21:17.613748Z",
     "start_time": "2020-11-11T02:21:17.607749Z"
    }
   },
   "outputs": [
    {
     "name": "stdout",
     "output_type": "stream",
     "text": [
      "<_io.TextIOWrapper name='pydata-book/examples/segismundo.txt' mode='r' encoding='cp936'>\n"
     ]
    }
   ],
   "source": [
    "with open(path) as f:\n",
    "    print(f)"
   ]
  },
  {
   "cell_type": "markdown",
   "metadata": {},
   "source": [
    "对于可读文件\n",
    "- `read`: 返回一定量的**字符**，不是字节\n",
    "    - **构成字符的内容是由文件的编码决定的**\n",
    "    - 二进制模式下打开文件的元素字节，和编码无关\n",
    "    - **通过读取的字节数推进文件句柄的位置**，但是字符的个数和原生字节的个数有编码决定，并不固定\n",
    "- `seek`：移动到指定的位置,特定的字节\n",
    "- `tell`：返回文件句柄的当前位置"
   ]
  },
  {
   "cell_type": "code",
   "execution_count": 261,
   "metadata": {
    "ExecuteTime": {
     "end_time": "2020-11-11T02:25:34.368941Z",
     "start_time": "2020-11-11T02:25:34.358947Z"
    }
   },
   "outputs": [],
   "source": [
    "f = open(path)\n",
    "fb = open(path, 'rb')"
   ]
  },
  {
   "cell_type": "code",
   "execution_count": 262,
   "metadata": {
    "ExecuteTime": {
     "end_time": "2020-11-11T02:25:43.913112Z",
     "start_time": "2020-11-11T02:25:43.908115Z"
    }
   },
   "outputs": [
    {
     "data": {
      "text/plain": [
       "'Sue帽a el r'"
      ]
     },
     "execution_count": 262,
     "metadata": {},
     "output_type": "execute_result"
    }
   ],
   "source": [
    "f.read(10) # 乱码的是两个字符  \\xc3\\xb1"
   ]
  },
  {
   "cell_type": "code",
   "execution_count": 263,
   "metadata": {
    "ExecuteTime": {
     "end_time": "2020-11-11T02:25:50.900232Z",
     "start_time": "2020-11-11T02:25:50.894115Z"
    }
   },
   "outputs": [
    {
     "data": {
      "text/plain": [
       "11"
      ]
     },
     "execution_count": 263,
     "metadata": {},
     "output_type": "execute_result"
    }
   ],
   "source": [
    "f.tell()"
   ]
  },
  {
   "cell_type": "code",
   "execution_count": 264,
   "metadata": {
    "ExecuteTime": {
     "end_time": "2020-11-11T02:26:37.124905Z",
     "start_time": "2020-11-11T02:26:37.112913Z"
    }
   },
   "outputs": [
    {
     "data": {
      "text/plain": [
       "b'Sue\\xc3\\xb1a el '"
      ]
     },
     "execution_count": 264,
     "metadata": {},
     "output_type": "execute_result"
    }
   ],
   "source": [
    "fb.read(10)"
   ]
  },
  {
   "cell_type": "code",
   "execution_count": 265,
   "metadata": {
    "ExecuteTime": {
     "end_time": "2020-11-11T02:26:43.557332Z",
     "start_time": "2020-11-11T02:26:43.538328Z"
    }
   },
   "outputs": [
    {
     "data": {
      "text/plain": [
       "10"
      ]
     },
     "execution_count": 265,
     "metadata": {},
     "output_type": "execute_result"
    }
   ],
   "source": [
    "fb.tell()"
   ]
  },
  {
   "cell_type": "code",
   "execution_count": 266,
   "metadata": {
    "ExecuteTime": {
     "end_time": "2020-11-11T02:31:02.057620Z",
     "start_time": "2020-11-11T02:31:02.045626Z"
    }
   },
   "outputs": [
    {
     "data": {
      "text/plain": [
       "'utf-8'"
      ]
     },
     "execution_count": 266,
     "metadata": {},
     "output_type": "execute_result"
    }
   ],
   "source": [
    "# 检查文件的默认编码\n",
    "import sys\n",
    "sys.getdefaultencoding()"
   ]
  },
  {
   "cell_type": "code",
   "execution_count": 267,
   "metadata": {
    "ExecuteTime": {
     "end_time": "2020-11-11T02:32:25.207336Z",
     "start_time": "2020-11-11T02:32:25.190329Z"
    }
   },
   "outputs": [
    {
     "data": {
      "text/plain": [
       "1"
      ]
     },
     "execution_count": 267,
     "metadata": {},
     "output_type": "execute_result"
    }
   ],
   "source": [
    "f.seek(1)"
   ]
  },
  {
   "cell_type": "code",
   "execution_count": 269,
   "metadata": {
    "ExecuteTime": {
     "end_time": "2020-11-11T02:32:37.890760Z",
     "start_time": "2020-11-11T02:32:37.870774Z"
    }
   },
   "outputs": [
    {
     "data": {
      "text/plain": [
       "'e帽'"
      ]
     },
     "execution_count": 269,
     "metadata": {},
     "output_type": "execute_result"
    }
   ],
   "source": [
    "f.read(2)"
   ]
  },
  {
   "cell_type": "code",
   "execution_count": 270,
   "metadata": {
    "ExecuteTime": {
     "end_time": "2020-11-11T02:32:43.628974Z",
     "start_time": "2020-11-11T02:32:43.613987Z"
    }
   },
   "outputs": [
    {
     "data": {
      "text/plain": [
       "5"
      ]
     },
     "execution_count": 270,
     "metadata": {},
     "output_type": "execute_result"
    }
   ],
   "source": [
    "f.tell()"
   ]
  },
  {
   "cell_type": "code",
   "execution_count": 271,
   "metadata": {
    "ExecuteTime": {
     "end_time": "2020-11-11T02:33:47.577757Z",
     "start_time": "2020-11-11T02:33:47.569761Z"
    }
   },
   "outputs": [],
   "source": [
    "f.close()\n",
    "fb.close()"
   ]
  },
  {
   "cell_type": "markdown",
   "metadata": {},
   "source": [
    "将文本写入文件\n",
    "- `write`: 将字符串写入文件\n",
    "- `wtitelines` 将**字符串序列**写入文件"
   ]
  },
  {
   "cell_type": "code",
   "execution_count": 275,
   "metadata": {
    "ExecuteTime": {
     "end_time": "2020-11-11T02:38:40.644408Z",
     "start_time": "2020-11-11T02:38:40.635393Z"
    }
   },
   "outputs": [],
   "source": [
    "with open('temp.txt', 'w', encoding='utf8') as f:\n",
    "    f.write(\"\\t长恨歌 \\n\")\n",
    "    f.write(\"\\t---白居易\\n\")\n",
    "    f.writelines([\"汉皇重色思倾国，御宇多年求不得 \\n\", \"杨家有女初长成，养在深闺人未识。 \\n\", \"天生丽质难自弃，一朝选在君王侧。 \\n\" ])\n",
    "    "
   ]
  },
  {
   "cell_type": "code",
   "execution_count": 277,
   "metadata": {
    "ExecuteTime": {
     "end_time": "2020-11-11T02:40:22.716690Z",
     "start_time": "2020-11-11T02:40:22.710695Z"
    }
   },
   "outputs": [
    {
     "data": {
      "text/plain": [
       "'长'"
      ]
     },
     "execution_count": 277,
     "metadata": {},
     "output_type": "execute_result"
    }
   ],
   "source": [
    "f = open('temp.txt',encoding='utf8')\n",
    "f.read(1)"
   ]
  },
  {
   "cell_type": "code",
   "execution_count": 278,
   "metadata": {
    "ExecuteTime": {
     "end_time": "2020-11-11T02:40:28.552084Z",
     "start_time": "2020-11-11T02:40:28.544088Z"
    }
   },
   "outputs": [
    {
     "data": {
      "text/plain": [
       "3"
      ]
     },
     "execution_count": 278,
     "metadata": {},
     "output_type": "execute_result"
    }
   ],
   "source": [
    "f.tell()"
   ]
  },
  {
   "cell_type": "markdown",
   "metadata": {},
   "source": [
    "### 字节与Unicode文件"
   ]
  },
  {
   "cell_type": "markdown",
   "metadata": {},
   "source": [
    "默认的Python文件行为是文本模式，意味着需要**处理字符串**， 与二进制不同，二进制模式中可以将`b`添加到文件模式中，然后进行读写\n",
    "- **`UTF-8`是一种变长的Unicode编码**，当从文件中请求一定数量的字符时，Python从文件中读取了**足够的字节，并进行解码**\n",
    "- **只有每个已编码的Unicode字符完整的情况下，才能进行解码**\n",
    "- `open`的`encoding`参数：将文件内容从Unicode编码转换为其他类型的编码"
   ]
  },
  {
   "cell_type": "code",
   "execution_count": null,
   "metadata": {},
   "outputs": [],
   "source": [
    "62.234.99.208"
   ]
  }
 ],
 "metadata": {
  "kernelspec": {
   "display_name": "Python 3",
   "language": "python",
   "name": "python3"
  },
  "language_info": {
   "codemirror_mode": {
    "name": "ipython",
    "version": 3
   },
   "file_extension": ".py",
   "mimetype": "text/x-python",
   "name": "python",
   "nbconvert_exporter": "python",
   "pygments_lexer": "ipython3",
   "version": "3.8.3"
  },
  "toc": {
   "base_numbering": 1,
   "nav_menu": {},
   "number_sections": true,
   "sideBar": true,
   "skip_h1_title": false,
   "title_cell": "Table of Contents",
   "title_sidebar": "Contents",
   "toc_cell": false,
   "toc_position": {},
   "toc_section_display": true,
   "toc_window_display": false
  },
  "varInspector": {
   "cols": {
    "lenName": 16,
    "lenType": 16,
    "lenVar": 40
   },
   "kernels_config": {
    "python": {
     "delete_cmd_postfix": "",
     "delete_cmd_prefix": "del ",
     "library": "var_list.py",
     "varRefreshCmd": "print(var_dic_list())"
    },
    "r": {
     "delete_cmd_postfix": ") ",
     "delete_cmd_prefix": "rm(",
     "library": "var_list.r",
     "varRefreshCmd": "cat(var_dic_list()) "
    }
   },
   "types_to_exclude": [
    "module",
    "function",
    "builtin_function_or_method",
    "instance",
    "_Feature"
   ],
   "window_display": false
  }
 },
 "nbformat": 4,
 "nbformat_minor": 4
}
