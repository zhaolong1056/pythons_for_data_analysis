{
 "cells": [
  {
   "cell_type": "code",
   "execution_count": 1,
   "metadata": {
    "ExecuteTime": {
     "end_time": "2020-11-17T03:29:16.926479Z",
     "start_time": "2020-11-17T03:29:12.701614Z"
    }
   },
   "outputs": [],
   "source": [
    "import pandas as pd\n",
    "from pandas import Series, DataFrame # 最常用的类"
   ]
  },
  {
   "cell_type": "code",
   "execution_count": 2,
   "metadata": {
    "ExecuteTime": {
     "end_time": "2020-11-17T03:29:18.777396Z",
     "start_time": "2020-11-17T03:29:16.929632Z"
    }
   },
   "outputs": [],
   "source": [
    "import matplotlib.pyplot as plt\n",
    "import numpy as np\n",
    "np.random.seed(12345)\n",
    "plt.rc('figure', figsize=(10, 6))\n",
    "PREVIOUS_MAX_ROWS = pd.options.display.max_rows\n",
    "pd.options.display.max_rows = 20\n",
    "np.set_printoptions(precision=4, suppress=True) # numpy 不要使用科学计数法，小数4位"
   ]
  },
  {
   "cell_type": "markdown",
   "metadata": {},
   "source": [
    "**时间序列数据**在很多领域都是**重要的结构化数据形式**。在**多个时间点**的观测或测量的数据形成了时间序列\n",
    "1. 时间序列是**固定评率的**，数据是根据相同的规则定期出现的\n",
    "2. 时间序列也可以是**不规则的**，没有固定的时间单位或单位间的偏移量"
   ]
  },
  {
   "cell_type": "markdown",
   "metadata": {},
   "source": [
    "标记和引用时间序列数据取决于应用程序\n",
    "1. **时间戳**， 具体的时刻\n",
    "2. **固定的时间区间**， 例如2020年1月，或者 2020年\n",
    "3. **时间间隔**， 由开始和结束时间戳表示，**时间区间可以被认为是间隔的特殊情况**\n",
    "4. 实验时间和消耗时间。每个时间戳是相对于特定的开始时间的时间的度量"
   ]
  },
  {
   "cell_type": "markdown",
   "metadata": {},
   "source": [
    "## 日期和时间数据的类型及工具"
   ]
  },
  {
   "cell_type": "markdown",
   "metadata": {},
   "source": [
    "Python标准库包含了日期和时间数据的类型，也包括日历相关的功能。\n",
    "- `datetime`\n",
    "    - `datetime.datetime`类被广泛使用过    \n",
    "- `time`\n",
    "- `calendar`\n"
   ]
  },
  {
   "cell_type": "code",
   "execution_count": 3,
   "metadata": {
    "ExecuteTime": {
     "end_time": "2020-11-17T05:14:52.010933Z",
     "start_time": "2020-11-17T05:14:52.007699Z"
    }
   },
   "outputs": [],
   "source": [
    "from datetime import datetime"
   ]
  },
  {
   "cell_type": "code",
   "execution_count": 4,
   "metadata": {
    "ExecuteTime": {
     "end_time": "2020-11-17T05:15:02.853713Z",
     "start_time": "2020-11-17T05:15:02.850087Z"
    }
   },
   "outputs": [],
   "source": [
    "now = datetime.now()"
   ]
  },
  {
   "cell_type": "code",
   "execution_count": 5,
   "metadata": {
    "ExecuteTime": {
     "end_time": "2020-11-17T05:23:41.321362Z",
     "start_time": "2020-11-17T05:23:41.313262Z"
    }
   },
   "outputs": [
    {
     "data": {
      "text/plain": [
       "datetime.datetime(2020, 11, 17, 13, 15, 2, 851046)"
      ]
     },
     "execution_count": 5,
     "metadata": {},
     "output_type": "execute_result"
    }
   ],
   "source": [
    "now"
   ]
  },
  {
   "cell_type": "code",
   "execution_count": 7,
   "metadata": {
    "ExecuteTime": {
     "end_time": "2020-11-17T05:24:42.671364Z",
     "start_time": "2020-11-17T05:24:42.665294Z"
    }
   },
   "outputs": [
    {
     "data": {
      "text/plain": [
       "(2020, 2, datetime.date(2020, 11, 17), datetime.time(13, 15, 2, 851046))"
      ]
     },
     "execution_count": 7,
     "metadata": {},
     "output_type": "execute_result"
    }
   ],
   "source": [
    "now.year, now.second, now.date(), now.time()"
   ]
  },
  {
   "cell_type": "code",
   "execution_count": 11,
   "metadata": {
    "ExecuteTime": {
     "end_time": "2020-11-17T05:25:49.431662Z",
     "start_time": "2020-11-17T05:25:49.426395Z"
    }
   },
   "outputs": [
    {
     "data": {
      "text/plain": [
       "datetime.timedelta(days=11269, seconds=47702, microseconds=851046)"
      ]
     },
     "execution_count": 11,
     "metadata": {},
     "output_type": "execute_result"
    }
   ],
   "source": [
    "detla = now -  datetime(1990, 1, 10)  #\n",
    "detla"
   ]
  },
  {
   "cell_type": "code",
   "execution_count": 12,
   "metadata": {
    "ExecuteTime": {
     "end_time": "2020-11-17T05:27:01.342894Z",
     "start_time": "2020-11-17T05:27:01.336430Z"
    }
   },
   "outputs": [
    {
     "data": {
      "text/plain": [
       "11269"
      ]
     },
     "execution_count": 12,
     "metadata": {},
     "output_type": "execute_result"
    }
   ],
   "source": [
    "detla.days"
   ]
  },
  {
   "cell_type": "code",
   "execution_count": 16,
   "metadata": {
    "ExecuteTime": {
     "end_time": "2020-11-17T05:27:46.847537Z",
     "start_time": "2020-11-17T05:27:46.840487Z"
    }
   },
   "outputs": [
    {
     "data": {
      "text/plain": [
       "47702"
      ]
     },
     "execution_count": 16,
     "metadata": {},
     "output_type": "execute_result"
    }
   ],
   "source": [
    "detla.seconds"
   ]
  },
  {
   "cell_type": "code",
   "execution_count": 17,
   "metadata": {
    "ExecuteTime": {
     "end_time": "2020-11-17T05:28:44.638504Z",
     "start_time": "2020-11-17T05:28:44.631972Z"
    }
   },
   "outputs": [
    {
     "data": {
      "text/plain": [
       "datetime.datetime(1990, 1, 10, 0, 0)"
      ]
     },
     "execution_count": 17,
     "metadata": {},
     "output_type": "execute_result"
    }
   ],
   "source": [
    "now - detla"
   ]
  },
  {
   "cell_type": "code",
   "execution_count": 19,
   "metadata": {
    "ExecuteTime": {
     "end_time": "2020-11-17T05:29:04.391694Z",
     "start_time": "2020-11-17T05:29:04.383553Z"
    }
   },
   "outputs": [
    {
     "data": {
      "text/plain": [
       "datetime.datetime(2020, 11, 17, 13, 15, 2, 851046)"
      ]
     },
     "execution_count": 19,
     "metadata": {},
     "output_type": "execute_result"
    }
   ],
   "source": [
    "datetime(1990, 1, 10, 0, 0) + detla"
   ]
  },
  {
   "cell_type": "markdown",
   "metadata": {},
   "source": [
    "### 字符串和datetime互相转换"
   ]
  },
  {
   "cell_type": "markdown",
   "metadata": {},
   "source": [
    "- `strftime`\n",
    "- `strptime`"
   ]
  },
  {
   "cell_type": "code",
   "execution_count": 21,
   "metadata": {
    "ExecuteTime": {
     "end_time": "2020-11-17T05:32:48.164820Z",
     "start_time": "2020-11-17T05:32:48.159761Z"
    }
   },
   "outputs": [
    {
     "data": {
      "text/plain": [
       "datetime.datetime(2020, 11, 17, 0, 0)"
      ]
     },
     "execution_count": 21,
     "metadata": {},
     "output_type": "execute_result"
    }
   ],
   "source": [
    "stamp = datetime(2020, 11, 17)\n",
    "stamp"
   ]
  },
  {
   "cell_type": "code",
   "execution_count": 22,
   "metadata": {
    "ExecuteTime": {
     "end_time": "2020-11-17T05:32:54.111480Z",
     "start_time": "2020-11-17T05:32:54.103413Z"
    }
   },
   "outputs": [
    {
     "data": {
      "text/plain": [
       "'2020-11-17 00:00:00'"
      ]
     },
     "execution_count": 22,
     "metadata": {},
     "output_type": "execute_result"
    }
   ],
   "source": [
    "str(stamp)"
   ]
  },
  {
   "cell_type": "code",
   "execution_count": 23,
   "metadata": {
    "ExecuteTime": {
     "end_time": "2020-11-17T05:33:29.051888Z",
     "start_time": "2020-11-17T05:33:29.046587Z"
    }
   },
   "outputs": [
    {
     "data": {
      "text/plain": [
       "'2020-11---17'"
      ]
     },
     "execution_count": 23,
     "metadata": {},
     "output_type": "execute_result"
    }
   ],
   "source": [
    "stamp.strftime('%Y-%m---%d')"
   ]
  },
  {
   "cell_type": "code",
   "execution_count": 24,
   "metadata": {
    "ExecuteTime": {
     "end_time": "2020-11-17T05:34:01.865622Z",
     "start_time": "2020-11-17T05:34:01.862668Z"
    }
   },
   "outputs": [],
   "source": [
    "value = '2020/05/04'"
   ]
  },
  {
   "cell_type": "code",
   "execution_count": 26,
   "metadata": {
    "ExecuteTime": {
     "end_time": "2020-11-17T05:34:51.246932Z",
     "start_time": "2020-11-17T05:34:51.238963Z"
    }
   },
   "outputs": [
    {
     "data": {
      "text/plain": [
       "datetime.datetime(2020, 5, 4, 0, 0)"
      ]
     },
     "execution_count": 26,
     "metadata": {},
     "output_type": "execute_result"
    }
   ],
   "source": [
    "datetime.strptime( value, '%Y/%m/%d')"
   ]
  },
  {
   "cell_type": "code",
   "execution_count": 34,
   "metadata": {
    "ExecuteTime": {
     "end_time": "2020-11-17T05:39:31.131825Z",
     "start_time": "2020-11-17T05:39:31.125669Z"
    }
   },
   "outputs": [],
   "source": [
    "from dateutil.parser import parse"
   ]
  },
  {
   "cell_type": "code",
   "execution_count": 35,
   "metadata": {
    "ExecuteTime": {
     "end_time": "2020-11-17T05:39:33.988029Z",
     "start_time": "2020-11-17T05:39:33.981495Z"
    }
   },
   "outputs": [
    {
     "data": {
      "text/plain": [
       "datetime.datetime(2020, 5, 4, 0, 0)"
      ]
     },
     "execution_count": 35,
     "metadata": {},
     "output_type": "execute_result"
    }
   ],
   "source": [
    "parse(value)"
   ]
  },
  {
   "cell_type": "code",
   "execution_count": 37,
   "metadata": {
    "ExecuteTime": {
     "end_time": "2020-11-17T05:40:53.582439Z",
     "start_time": "2020-11-17T05:40:53.575123Z"
    }
   },
   "outputs": [
    {
     "data": {
      "text/plain": [
       "datetime.datetime(2020, 11, 17, 0, 0)"
      ]
     },
     "execution_count": 37,
     "metadata": {},
     "output_type": "execute_result"
    }
   ],
   "source": [
    "parse('2020/17/11', dayfirst=True)"
   ]
  },
  {
   "cell_type": "code",
   "execution_count": 38,
   "metadata": {
    "ExecuteTime": {
     "end_time": "2020-11-17T05:43:31.996592Z",
     "start_time": "2020-11-17T05:43:31.982562Z"
    }
   },
   "outputs": [
    {
     "data": {
      "text/plain": [
       "DatetimeIndex(['2011-07-06 12:00:00', '2011-08-06 00:00:00'], dtype='datetime64[ns]', freq=None)"
      ]
     },
     "execution_count": 38,
     "metadata": {},
     "output_type": "execute_result"
    }
   ],
   "source": [
    "datestrs = ['2011-07-06 12:00:00', '2011-08-06 00:00:00']\n",
    "pd.to_datetime(datestrs)"
   ]
  },
  {
   "cell_type": "code",
   "execution_count": 39,
   "metadata": {
    "ExecuteTime": {
     "end_time": "2020-11-17T05:43:40.711955Z",
     "start_time": "2020-11-17T05:43:40.701556Z"
    }
   },
   "outputs": [
    {
     "data": {
      "text/plain": [
       "array([False, False,  True])"
      ]
     },
     "execution_count": 39,
     "metadata": {},
     "output_type": "execute_result"
    }
   ],
   "source": [
    "idx = pd.to_datetime(datestrs + [None])\n",
    "idx\n",
    "idx[2]\n",
    "pd.isnull(idx)"
   ]
  },
  {
   "cell_type": "markdown",
   "metadata": {},
   "source": [
    "## 时间序列基础"
   ]
  },
  {
   "cell_type": "markdown",
   "metadata": {},
   "source": [
    "`pandas`中的基础时间序列种类是由**时间戳索引的Series**，在Pandas外部则**通常表示为Python字符串或datetime对象**"
   ]
  },
  {
   "cell_type": "markdown",
   "metadata": {},
   "source": [
    "`datetime`对象可以被放入`DatetimeIndex`中"
   ]
  },
  {
   "cell_type": "markdown",
   "metadata": {},
   "source": [
    "不同索引的时间序列之间的算术运算**在日期上自动对齐**"
   ]
  },
  {
   "cell_type": "markdown",
   "metadata": {},
   "source": [
    "pandas使用NumPy的`datetime64`数据类型**在纳米级别的分辨率下存储时间戳**"
   ]
  },
  {
   "cell_type": "markdown",
   "metadata": {},
   "source": [
    "`DatetimeIndex`索引中的标量值是pandas的`TimeStamp`对象"
   ]
  },
  {
   "cell_type": "markdown",
   "metadata": {},
   "source": [
    "所有使用`datetime`对象的地方都可以使用`TimeStamp`,此外`TimeStamp`还可以**存储频率信息并了解如何进行时区转换和其他类型操作**"
   ]
  },
  {
   "cell_type": "code",
   "execution_count": 40,
   "metadata": {
    "ExecuteTime": {
     "end_time": "2020-11-17T07:16:03.295073Z",
     "start_time": "2020-11-17T07:16:03.290955Z"
    }
   },
   "outputs": [],
   "source": [
    "from datetime import datetime"
   ]
  },
  {
   "cell_type": "code",
   "execution_count": 41,
   "metadata": {
    "ExecuteTime": {
     "end_time": "2020-11-17T07:16:57.164226Z",
     "start_time": "2020-11-17T07:16:57.157056Z"
    }
   },
   "outputs": [
    {
     "data": {
      "text/plain": [
       "[datetime.datetime(2011, 1, 2, 0, 0),\n",
       " datetime.datetime(2011, 1, 5, 0, 0),\n",
       " datetime.datetime(2011, 1, 7, 0, 0),\n",
       " datetime.datetime(2011, 1, 8, 0, 0),\n",
       " datetime.datetime(2011, 1, 10, 0, 0),\n",
       " datetime.datetime(2011, 1, 12, 0, 0)]"
      ]
     },
     "execution_count": 41,
     "metadata": {},
     "output_type": "execute_result"
    }
   ],
   "source": [
    "dates = [\n",
    "    datetime(2011, 1, 2), datetime(2011, 1, 5),\n",
    "    datetime(2011, 1, 7), datetime(2011, 1, 8),\n",
    "    datetime(2011, 1, 10), datetime(2011, 1, 12)\n",
    "]\n",
    "\n",
    "dates"
   ]
  },
  {
   "cell_type": "code",
   "execution_count": 42,
   "metadata": {
    "ExecuteTime": {
     "end_time": "2020-11-17T07:17:31.192592Z",
     "start_time": "2020-11-17T07:17:31.188850Z"
    }
   },
   "outputs": [],
   "source": [
    "ts = pd.Series( np.random.randn(6), index=dates )"
   ]
  },
  {
   "cell_type": "code",
   "execution_count": 43,
   "metadata": {
    "ExecuteTime": {
     "end_time": "2020-11-17T07:17:34.181150Z",
     "start_time": "2020-11-17T07:17:34.173341Z"
    }
   },
   "outputs": [
    {
     "data": {
      "text/plain": [
       "2011-01-02   -0.204708\n",
       "2011-01-05    0.478943\n",
       "2011-01-07   -0.519439\n",
       "2011-01-08   -0.555730\n",
       "2011-01-10    1.965781\n",
       "2011-01-12    1.393406\n",
       "dtype: float64"
      ]
     },
     "execution_count": 43,
     "metadata": {},
     "output_type": "execute_result"
    }
   ],
   "source": [
    "ts"
   ]
  },
  {
   "cell_type": "code",
   "execution_count": 44,
   "metadata": {
    "ExecuteTime": {
     "end_time": "2020-11-17T07:17:39.166127Z",
     "start_time": "2020-11-17T07:17:39.157245Z"
    }
   },
   "outputs": [
    {
     "data": {
      "text/plain": [
       "DatetimeIndex(['2011-01-02', '2011-01-05', '2011-01-07', '2011-01-08',\n",
       "               '2011-01-10', '2011-01-12'],\n",
       "              dtype='datetime64[ns]', freq=None)"
      ]
     },
     "execution_count": 44,
     "metadata": {},
     "output_type": "execute_result"
    }
   ],
   "source": [
    "ts.index"
   ]
  },
  {
   "cell_type": "code",
   "execution_count": 45,
   "metadata": {
    "ExecuteTime": {
     "end_time": "2020-11-17T07:17:45.434892Z",
     "start_time": "2020-11-17T07:17:45.428755Z"
    }
   },
   "outputs": [
    {
     "data": {
      "text/plain": [
       "pandas.core.indexes.datetimes.DatetimeIndex"
      ]
     },
     "execution_count": 45,
     "metadata": {},
     "output_type": "execute_result"
    }
   ],
   "source": [
    "type(ts.index)"
   ]
  },
  {
   "cell_type": "code",
   "execution_count": 46,
   "metadata": {
    "ExecuteTime": {
     "end_time": "2020-11-17T07:18:27.338826Z",
     "start_time": "2020-11-17T07:18:27.333058Z"
    }
   },
   "outputs": [
    {
     "data": {
      "text/plain": [
       "pandas._libs.tslibs.timestamps.Timestamp"
      ]
     },
     "execution_count": 46,
     "metadata": {},
     "output_type": "execute_result"
    }
   ],
   "source": [
    "type(ts.index[0])"
   ]
  },
  {
   "cell_type": "code",
   "execution_count": 48,
   "metadata": {
    "ExecuteTime": {
     "end_time": "2020-11-17T07:19:41.912187Z",
     "start_time": "2020-11-17T07:19:41.903070Z"
    }
   },
   "outputs": [
    {
     "data": {
      "text/plain": [
       "2011-01-02    0.0\n",
       "2011-01-05    NaN\n",
       "2011-01-07    0.0\n",
       "2011-01-08    NaN\n",
       "2011-01-10    0.0\n",
       "2011-01-12    NaN\n",
       "dtype: float64"
      ]
     },
     "execution_count": 48,
     "metadata": {},
     "output_type": "execute_result"
    }
   ],
   "source": [
    "ts - ts[::2]"
   ]
  },
  {
   "cell_type": "code",
   "execution_count": 50,
   "metadata": {
    "ExecuteTime": {
     "end_time": "2020-11-17T07:19:58.018434Z",
     "start_time": "2020-11-17T07:19:58.012376Z"
    }
   },
   "outputs": [
    {
     "data": {
      "text/plain": [
       "dtype('<M8[ns]')"
      ]
     },
     "execution_count": 50,
     "metadata": {},
     "output_type": "execute_result"
    }
   ],
   "source": [
    "ts.index.dtype"
   ]
  },
  {
   "cell_type": "code",
   "execution_count": 51,
   "metadata": {
    "ExecuteTime": {
     "end_time": "2020-11-17T07:20:24.726126Z",
     "start_time": "2020-11-17T07:20:24.716991Z"
    }
   },
   "outputs": [
    {
     "data": {
      "text/plain": [
       "Timestamp('2011-01-02 00:00:00')"
      ]
     },
     "execution_count": 51,
     "metadata": {},
     "output_type": "execute_result"
    }
   ],
   "source": [
    "ts.index[0] "
   ]
  },
  {
   "cell_type": "markdown",
   "metadata": {},
   "source": [
    "### 索引，选择和子集"
   ]
  },
  {
   "cell_type": "markdown",
   "metadata": {},
   "source": [
    "当**基于 标签 进行索引好选择时**，时间序列的行为和其他的`pandas.Series` **类似**"
   ]
  },
  {
   "cell_type": "markdown",
   "metadata": {},
   "source": [
    "为了方便，可以传入一个**能解释为日期的字符串**"
   ]
  },
  {
   "cell_type": "markdown",
   "metadata": {},
   "source": [
    "😀对一个长的时间序列，可以**传递一个年份或者一个年份和月份**来轻松的**选择数据的切片**； 时间被解释为 **时间区间**"
   ]
  },
  {
   "cell_type": "markdown",
   "metadata": {},
   "source": [
    "使用`Datetime`对象进行切片也是可以的\n",
    "- 大部分的时间序列数据都是**按照时间序列进行排序的**， 可以**使用不包含在时间序列中的时间戳进行切片，以执行范围查询**"
   ]
  },
  {
   "cell_type": "markdown",
   "metadata": {},
   "source": [
    "传入**字符串的日期，datetime对象或者时间戳**进行切片，产生原时间序列的**视图**"
   ]
  },
  {
   "cell_type": "markdown",
   "metadata": {},
   "source": [
    "`truncate`方法可以**在两个日期间对Series进行切片**"
   ]
  },
  {
   "cell_type": "code",
   "execution_count": 52,
   "metadata": {
    "ExecuteTime": {
     "end_time": "2020-11-17T07:37:06.597747Z",
     "start_time": "2020-11-17T07:37:06.589732Z"
    }
   },
   "outputs": [
    {
     "data": {
      "text/plain": [
       "Timestamp('2011-01-07 00:00:00')"
      ]
     },
     "execution_count": 52,
     "metadata": {},
     "output_type": "execute_result"
    }
   ],
   "source": [
    "stamp = ts.index[2]\n",
    "stamp"
   ]
  },
  {
   "cell_type": "code",
   "execution_count": 53,
   "metadata": {
    "ExecuteTime": {
     "end_time": "2020-11-17T07:37:15.514311Z",
     "start_time": "2020-11-17T07:37:15.506849Z"
    }
   },
   "outputs": [
    {
     "data": {
      "text/plain": [
       "-0.5194387150567381"
      ]
     },
     "execution_count": 53,
     "metadata": {},
     "output_type": "execute_result"
    }
   ],
   "source": [
    "ts[stamp]"
   ]
  },
  {
   "cell_type": "code",
   "execution_count": 54,
   "metadata": {
    "ExecuteTime": {
     "end_time": "2020-11-17T07:37:33.181887Z",
     "start_time": "2020-11-17T07:37:33.169910Z"
    }
   },
   "outputs": [
    {
     "data": {
      "text/plain": [
       "1.9657805725027142"
      ]
     },
     "execution_count": 54,
     "metadata": {},
     "output_type": "execute_result"
    }
   ],
   "source": [
    "ts['1/10/2011']"
   ]
  },
  {
   "cell_type": "code",
   "execution_count": 55,
   "metadata": {
    "ExecuteTime": {
     "end_time": "2020-11-17T07:37:57.302407Z",
     "start_time": "2020-11-17T07:37:57.294259Z"
    }
   },
   "outputs": [
    {
     "data": {
      "text/plain": [
       "1.9657805725027142"
      ]
     },
     "execution_count": 55,
     "metadata": {},
     "output_type": "execute_result"
    }
   ],
   "source": [
    "ts['20110110']"
   ]
  },
  {
   "cell_type": "code",
   "execution_count": 57,
   "metadata": {
    "ExecuteTime": {
     "end_time": "2020-11-17T07:39:21.771375Z",
     "start_time": "2020-11-17T07:39:21.754915Z"
    }
   },
   "outputs": [
    {
     "data": {
      "text/plain": [
       "2000-01-01    0.092908\n",
       "2000-01-02    0.281746\n",
       "2000-01-03    0.769023\n",
       "2000-01-04    1.246435\n",
       "2000-01-05    1.007189\n",
       "                ...   \n",
       "2002-09-22    0.930944\n",
       "2002-09-23   -0.811676\n",
       "2002-09-24   -1.830156\n",
       "2002-09-25   -0.138730\n",
       "2002-09-26    0.334088\n",
       "Freq: D, Length: 1000, dtype: float64"
      ]
     },
     "execution_count": 57,
     "metadata": {},
     "output_type": "execute_result"
    }
   ],
   "source": [
    "longer_ts = pd.Series(  \n",
    "    np.random.randn(1000),\n",
    "    index = pd.date_range('1/1/2000', periods=1000)\n",
    "    \n",
    ")\n",
    "\n",
    "longer_ts"
   ]
  },
  {
   "cell_type": "code",
   "execution_count": 58,
   "metadata": {
    "ExecuteTime": {
     "end_time": "2020-11-17T07:40:16.507473Z",
     "start_time": "2020-11-17T07:40:16.490406Z"
    }
   },
   "outputs": [
    {
     "data": {
      "text/plain": [
       "2001-01-01    1.599534\n",
       "2001-01-02    0.474071\n",
       "2001-01-03    0.151326\n",
       "2001-01-04   -0.542173\n",
       "2001-01-05   -0.475496\n",
       "                ...   \n",
       "2001-12-27    0.057874\n",
       "2001-12-28   -0.433739\n",
       "2001-12-29    0.092698\n",
       "2001-12-30   -1.397820\n",
       "2001-12-31    1.457823\n",
       "Freq: D, Length: 365, dtype: float64"
      ]
     },
     "execution_count": 58,
     "metadata": {},
     "output_type": "execute_result"
    }
   ],
   "source": [
    "longer_ts['2001']"
   ]
  },
  {
   "cell_type": "code",
   "execution_count": 62,
   "metadata": {
    "ExecuteTime": {
     "end_time": "2020-11-17T07:40:48.580025Z",
     "start_time": "2020-11-17T07:40:48.571404Z"
    }
   },
   "outputs": [
    {
     "data": {
      "text/plain": [
       "2001-12-01    0.182702\n",
       "2001-12-02    0.204647\n",
       "2001-12-03   -0.265986\n",
       "2001-12-04   -0.000227\n",
       "2001-12-05    1.239452\n",
       "                ...   \n",
       "2001-12-27    0.057874\n",
       "2001-12-28   -0.433739\n",
       "2001-12-29    0.092698\n",
       "2001-12-30   -1.397820\n",
       "2001-12-31    1.457823\n",
       "Freq: D, Length: 31, dtype: float64"
      ]
     },
     "execution_count": 62,
     "metadata": {},
     "output_type": "execute_result"
    }
   ],
   "source": [
    "longer_ts['2001-12']"
   ]
  },
  {
   "cell_type": "code",
   "execution_count": 66,
   "metadata": {
    "ExecuteTime": {
     "end_time": "2020-11-17T07:43:00.076768Z",
     "start_time": "2020-11-17T07:43:00.066082Z"
    }
   },
   "outputs": [
    {
     "data": {
      "text/plain": [
       "2001-01-11   -0.916934\n",
       "2001-01-12   -0.975814\n",
       "2001-01-13    2.212303\n",
       "2001-01-14    0.073931\n",
       "2001-01-15    1.818595\n",
       "Freq: D, dtype: float64"
      ]
     },
     "execution_count": 66,
     "metadata": {},
     "output_type": "execute_result"
    }
   ],
   "source": [
    "longer_ts[datetime(2001, 1, 11):datetime(2001, 1, 15)]"
   ]
  },
  {
   "cell_type": "code",
   "execution_count": 65,
   "metadata": {
    "ExecuteTime": {
     "end_time": "2020-11-17T07:42:40.992024Z",
     "start_time": "2020-11-17T07:42:40.980205Z"
    }
   },
   "outputs": [
    {
     "data": {
      "text/plain": [
       "2000-01-01    0.092908\n",
       "2000-01-02    0.281746\n",
       "2000-01-03    0.769023\n",
       "2000-01-04    1.246435\n",
       "2000-01-05    1.007189\n",
       "                ...   \n",
       "2002-09-22    0.930944\n",
       "2002-09-23   -0.811676\n",
       "2002-09-24   -1.830156\n",
       "2002-09-25   -0.138730\n",
       "2002-09-26    0.334088\n",
       "Freq: D, Length: 1000, dtype: float64"
      ]
     },
     "execution_count": 65,
     "metadata": {},
     "output_type": "execute_result"
    }
   ],
   "source": [
    "longer_ts[datetime(1999, 1, 11):]"
   ]
  },
  {
   "cell_type": "code",
   "execution_count": 68,
   "metadata": {
    "ExecuteTime": {
     "end_time": "2020-11-17T07:45:19.823887Z",
     "start_time": "2020-11-17T07:45:19.808954Z"
    }
   },
   "outputs": [
    {
     "data": {
      "text/plain": [
       "2000-01-02    0.281746\n",
       "2000-01-03    0.769023\n",
       "2000-01-04    1.246435\n",
       "2000-01-05    1.007189\n",
       "2000-01-06   -1.296221\n",
       "                ...   \n",
       "2000-04-05   -0.562540\n",
       "2000-04-06   -0.032664\n",
       "2000-04-07   -0.929006\n",
       "2000-04-08   -0.482573\n",
       "2000-04-09   -0.036264\n",
       "Freq: D, Length: 99, dtype: float64"
      ]
     },
     "execution_count": 68,
     "metadata": {},
     "output_type": "execute_result"
    }
   ],
   "source": [
    "longer_ts[1:100]"
   ]
  },
  {
   "cell_type": "code",
   "execution_count": 70,
   "metadata": {
    "ExecuteTime": {
     "end_time": "2020-11-17T07:49:44.764339Z",
     "start_time": "2020-11-17T07:49:44.752566Z"
    }
   },
   "outputs": [
    {
     "data": {
      "text/plain": [
       "2000-01-06   -1.296221\n",
       "2000-01-07    0.274992\n",
       "2000-01-08    0.228913\n",
       "2000-01-09    1.352917\n",
       "2000-01-10    0.886429\n",
       "                ...   \n",
       "2002-09-22    0.930944\n",
       "2002-09-23   -0.811676\n",
       "2002-09-24   -1.830156\n",
       "2002-09-25   -0.138730\n",
       "2002-09-26    0.334088\n",
       "Freq: D, Length: 995, dtype: float64"
      ]
     },
     "execution_count": 70,
     "metadata": {},
     "output_type": "execute_result"
    }
   ],
   "source": [
    "longer_ts.truncate(before='2000-01-06')"
   ]
  },
  {
   "cell_type": "code",
   "execution_count": 71,
   "metadata": {
    "ExecuteTime": {
     "end_time": "2020-11-17T07:50:11.319705Z",
     "start_time": "2020-11-17T07:50:11.312353Z"
    }
   },
   "outputs": [
    {
     "data": {
      "text/plain": [
       "2000-01-01    0.092908\n",
       "2000-01-02    0.281746\n",
       "2000-01-03    0.769023\n",
       "2000-01-04    1.246435\n",
       "2000-01-05    1.007189\n",
       "2000-01-06   -1.296221\n",
       "Freq: D, dtype: float64"
      ]
     },
     "execution_count": 71,
     "metadata": {},
     "output_type": "execute_result"
    }
   ],
   "source": [
    "longer_ts.truncate(after='2000-01-06')"
   ]
  },
  {
   "cell_type": "code",
   "execution_count": 72,
   "metadata": {
    "ExecuteTime": {
     "end_time": "2020-11-17T07:53:23.567040Z",
     "start_time": "2020-11-17T07:53:23.529943Z"
    }
   },
   "outputs": [
    {
     "data": {
      "text/html": [
       "<div>\n",
       "<style scoped>\n",
       "    .dataframe tbody tr th:only-of-type {\n",
       "        vertical-align: middle;\n",
       "    }\n",
       "\n",
       "    .dataframe tbody tr th {\n",
       "        vertical-align: top;\n",
       "    }\n",
       "\n",
       "    .dataframe thead th {\n",
       "        text-align: right;\n",
       "    }\n",
       "</style>\n",
       "<table border=\"1\" class=\"dataframe\">\n",
       "  <thead>\n",
       "    <tr style=\"text-align: right;\">\n",
       "      <th></th>\n",
       "      <th>Colorado</th>\n",
       "      <th>Texas</th>\n",
       "      <th>New York</th>\n",
       "      <th>Ohio</th>\n",
       "    </tr>\n",
       "  </thead>\n",
       "  <tbody>\n",
       "    <tr>\n",
       "      <th>2000-01-05</th>\n",
       "      <td>0.488675</td>\n",
       "      <td>-0.178098</td>\n",
       "      <td>2.122315</td>\n",
       "      <td>0.061192</td>\n",
       "    </tr>\n",
       "    <tr>\n",
       "      <th>2000-01-12</th>\n",
       "      <td>0.884111</td>\n",
       "      <td>-0.608506</td>\n",
       "      <td>-0.072052</td>\n",
       "      <td>0.544066</td>\n",
       "    </tr>\n",
       "    <tr>\n",
       "      <th>2000-01-19</th>\n",
       "      <td>0.323886</td>\n",
       "      <td>-1.683325</td>\n",
       "      <td>0.526860</td>\n",
       "      <td>1.858791</td>\n",
       "    </tr>\n",
       "    <tr>\n",
       "      <th>2000-01-26</th>\n",
       "      <td>-0.548419</td>\n",
       "      <td>-0.279397</td>\n",
       "      <td>-0.021299</td>\n",
       "      <td>-0.287990</td>\n",
       "    </tr>\n",
       "    <tr>\n",
       "      <th>2000-02-02</th>\n",
       "      <td>0.089175</td>\n",
       "      <td>0.522858</td>\n",
       "      <td>0.572796</td>\n",
       "      <td>-1.760372</td>\n",
       "    </tr>\n",
       "    <tr>\n",
       "      <th>...</th>\n",
       "      <td>...</td>\n",
       "      <td>...</td>\n",
       "      <td>...</td>\n",
       "      <td>...</td>\n",
       "    </tr>\n",
       "    <tr>\n",
       "      <th>2001-10-31</th>\n",
       "      <td>-0.054630</td>\n",
       "      <td>-0.656506</td>\n",
       "      <td>-1.550087</td>\n",
       "      <td>-0.044347</td>\n",
       "    </tr>\n",
       "    <tr>\n",
       "      <th>2001-11-07</th>\n",
       "      <td>0.681470</td>\n",
       "      <td>-0.953726</td>\n",
       "      <td>-1.857016</td>\n",
       "      <td>0.449495</td>\n",
       "    </tr>\n",
       "    <tr>\n",
       "      <th>2001-11-14</th>\n",
       "      <td>-0.061732</td>\n",
       "      <td>1.233914</td>\n",
       "      <td>0.705830</td>\n",
       "      <td>-1.309077</td>\n",
       "    </tr>\n",
       "    <tr>\n",
       "      <th>2001-11-21</th>\n",
       "      <td>-1.537380</td>\n",
       "      <td>0.531551</td>\n",
       "      <td>2.047573</td>\n",
       "      <td>0.446691</td>\n",
       "    </tr>\n",
       "    <tr>\n",
       "      <th>2001-11-28</th>\n",
       "      <td>-0.223556</td>\n",
       "      <td>0.092835</td>\n",
       "      <td>0.716076</td>\n",
       "      <td>0.657198</td>\n",
       "    </tr>\n",
       "  </tbody>\n",
       "</table>\n",
       "<p>100 rows × 4 columns</p>\n",
       "</div>"
      ],
      "text/plain": [
       "            Colorado     Texas  New York      Ohio\n",
       "2000-01-05  0.488675 -0.178098  2.122315  0.061192\n",
       "2000-01-12  0.884111 -0.608506 -0.072052  0.544066\n",
       "2000-01-19  0.323886 -1.683325  0.526860  1.858791\n",
       "2000-01-26 -0.548419 -0.279397 -0.021299 -0.287990\n",
       "2000-02-02  0.089175  0.522858  0.572796 -1.760372\n",
       "...              ...       ...       ...       ...\n",
       "2001-10-31 -0.054630 -0.656506 -1.550087 -0.044347\n",
       "2001-11-07  0.681470 -0.953726 -1.857016  0.449495\n",
       "2001-11-14 -0.061732  1.233914  0.705830 -1.309077\n",
       "2001-11-21 -1.537380  0.531551  2.047573  0.446691\n",
       "2001-11-28 -0.223556  0.092835  0.716076  0.657198\n",
       "\n",
       "[100 rows x 4 columns]"
      ]
     },
     "execution_count": 72,
     "metadata": {},
     "output_type": "execute_result"
    }
   ],
   "source": [
    "dates = pd.date_range('1/1/2000', periods=100, freq='W-WED')\n",
    "long_df = pd.DataFrame(np.random.randn(100, 4),\n",
    "                       index=dates,\n",
    "                       columns=['Colorado', 'Texas',\n",
    "                                'New York', 'Ohio'])\n",
    "long_df"
   ]
  },
  {
   "cell_type": "code",
   "execution_count": 74,
   "metadata": {
    "ExecuteTime": {
     "end_time": "2020-11-17T07:54:28.098874Z",
     "start_time": "2020-11-17T07:54:28.088580Z"
    }
   },
   "outputs": [
    {
     "data": {
      "text/plain": [
       "Colorado   -0.223556\n",
       "Texas       0.092835\n",
       "New York    0.716076\n",
       "Ohio        0.657198\n",
       "Name: 2001-11-28 00:00:00, dtype: float64"
      ]
     },
     "execution_count": 74,
     "metadata": {},
     "output_type": "execute_result"
    }
   ],
   "source": [
    "long_df.loc['2001-11-28']"
   ]
  },
  {
   "cell_type": "code",
   "execution_count": 75,
   "metadata": {
    "ExecuteTime": {
     "end_time": "2020-11-17T07:54:38.646699Z",
     "start_time": "2020-11-17T07:54:38.624364Z"
    }
   },
   "outputs": [
    {
     "data": {
      "text/html": [
       "<div>\n",
       "<style scoped>\n",
       "    .dataframe tbody tr th:only-of-type {\n",
       "        vertical-align: middle;\n",
       "    }\n",
       "\n",
       "    .dataframe tbody tr th {\n",
       "        vertical-align: top;\n",
       "    }\n",
       "\n",
       "    .dataframe thead th {\n",
       "        text-align: right;\n",
       "    }\n",
       "</style>\n",
       "<table border=\"1\" class=\"dataframe\">\n",
       "  <thead>\n",
       "    <tr style=\"text-align: right;\">\n",
       "      <th></th>\n",
       "      <th>Colorado</th>\n",
       "      <th>Texas</th>\n",
       "      <th>New York</th>\n",
       "      <th>Ohio</th>\n",
       "    </tr>\n",
       "  </thead>\n",
       "  <tbody>\n",
       "    <tr>\n",
       "      <th>2001-11-07</th>\n",
       "      <td>0.681470</td>\n",
       "      <td>-0.953726</td>\n",
       "      <td>-1.857016</td>\n",
       "      <td>0.449495</td>\n",
       "    </tr>\n",
       "    <tr>\n",
       "      <th>2001-11-14</th>\n",
       "      <td>-0.061732</td>\n",
       "      <td>1.233914</td>\n",
       "      <td>0.705830</td>\n",
       "      <td>-1.309077</td>\n",
       "    </tr>\n",
       "    <tr>\n",
       "      <th>2001-11-21</th>\n",
       "      <td>-1.537380</td>\n",
       "      <td>0.531551</td>\n",
       "      <td>2.047573</td>\n",
       "      <td>0.446691</td>\n",
       "    </tr>\n",
       "    <tr>\n",
       "      <th>2001-11-28</th>\n",
       "      <td>-0.223556</td>\n",
       "      <td>0.092835</td>\n",
       "      <td>0.716076</td>\n",
       "      <td>0.657198</td>\n",
       "    </tr>\n",
       "  </tbody>\n",
       "</table>\n",
       "</div>"
      ],
      "text/plain": [
       "            Colorado     Texas  New York      Ohio\n",
       "2001-11-07  0.681470 -0.953726 -1.857016  0.449495\n",
       "2001-11-14 -0.061732  1.233914  0.705830 -1.309077\n",
       "2001-11-21 -1.537380  0.531551  2.047573  0.446691\n",
       "2001-11-28 -0.223556  0.092835  0.716076  0.657198"
      ]
     },
     "execution_count": 75,
     "metadata": {},
     "output_type": "execute_result"
    }
   ],
   "source": [
    "long_df.loc['2001-11']"
   ]
  },
  {
   "cell_type": "code",
   "execution_count": 76,
   "metadata": {
    "ExecuteTime": {
     "end_time": "2020-11-17T07:55:12.377840Z",
     "start_time": "2020-11-17T07:55:12.359697Z"
    }
   },
   "outputs": [
    {
     "data": {
      "text/html": [
       "<div>\n",
       "<style scoped>\n",
       "    .dataframe tbody tr th:only-of-type {\n",
       "        vertical-align: middle;\n",
       "    }\n",
       "\n",
       "    .dataframe tbody tr th {\n",
       "        vertical-align: top;\n",
       "    }\n",
       "\n",
       "    .dataframe thead th {\n",
       "        text-align: right;\n",
       "    }\n",
       "</style>\n",
       "<table border=\"1\" class=\"dataframe\">\n",
       "  <thead>\n",
       "    <tr style=\"text-align: right;\">\n",
       "      <th></th>\n",
       "      <th>Colorado</th>\n",
       "      <th>Texas</th>\n",
       "      <th>New York</th>\n",
       "      <th>Ohio</th>\n",
       "    </tr>\n",
       "  </thead>\n",
       "  <tbody>\n",
       "    <tr>\n",
       "      <th>2001-11-07</th>\n",
       "      <td>0.681470</td>\n",
       "      <td>-0.953726</td>\n",
       "      <td>-1.857016</td>\n",
       "      <td>0.449495</td>\n",
       "    </tr>\n",
       "    <tr>\n",
       "      <th>2001-11-14</th>\n",
       "      <td>-0.061732</td>\n",
       "      <td>1.233914</td>\n",
       "      <td>0.705830</td>\n",
       "      <td>-1.309077</td>\n",
       "    </tr>\n",
       "    <tr>\n",
       "      <th>2001-11-21</th>\n",
       "      <td>-1.537380</td>\n",
       "      <td>0.531551</td>\n",
       "      <td>2.047573</td>\n",
       "      <td>0.446691</td>\n",
       "    </tr>\n",
       "    <tr>\n",
       "      <th>2001-11-28</th>\n",
       "      <td>-0.223556</td>\n",
       "      <td>0.092835</td>\n",
       "      <td>0.716076</td>\n",
       "      <td>0.657198</td>\n",
       "    </tr>\n",
       "  </tbody>\n",
       "</table>\n",
       "</div>"
      ],
      "text/plain": [
       "            Colorado     Texas  New York      Ohio\n",
       "2001-11-07  0.681470 -0.953726 -1.857016  0.449495\n",
       "2001-11-14 -0.061732  1.233914  0.705830 -1.309077\n",
       "2001-11-21 -1.537380  0.531551  2.047573  0.446691\n",
       "2001-11-28 -0.223556  0.092835  0.716076  0.657198"
      ]
     },
     "execution_count": 76,
     "metadata": {},
     "output_type": "execute_result"
    }
   ],
   "source": [
    "long_df.truncate(before='2001-11-07')"
   ]
  },
  {
   "cell_type": "markdown",
   "metadata": {},
   "source": [
    "### 含有重复索引的时间序列"
   ]
  },
  {
   "cell_type": "markdown",
   "metadata": {},
   "source": [
    "在某些应用中，可能**有多个观察值落在特定的时间戳上**"
   ]
  },
  {
   "cell_type": "code",
   "execution_count": 77,
   "metadata": {
    "ExecuteTime": {
     "end_time": "2020-11-17T07:57:06.722267Z",
     "start_time": "2020-11-17T07:57:06.711974Z"
    }
   },
   "outputs": [
    {
     "data": {
      "text/plain": [
       "2000-01-01    0\n",
       "2000-01-02    1\n",
       "2000-01-02    2\n",
       "2000-01-02    3\n",
       "2000-01-03    4\n",
       "dtype: int64"
      ]
     },
     "execution_count": 77,
     "metadata": {},
     "output_type": "execute_result"
    }
   ],
   "source": [
    "dates = pd.DatetimeIndex(['1/1/2000', '1/2/2000', '1/2/2000',\n",
    "                          '1/2/2000', '1/3/2000'])\n",
    "dup_ts = pd.Series(np.arange(5), index=dates)\n",
    "dup_ts"
   ]
  },
  {
   "cell_type": "code",
   "execution_count": 83,
   "metadata": {
    "ExecuteTime": {
     "end_time": "2020-11-17T07:58:34.584822Z",
     "start_time": "2020-11-17T07:58:34.576078Z"
    }
   },
   "outputs": [
    {
     "data": {
      "text/plain": [
       "DatetimeIndex(['2000-01-01', '2000-01-02', '2000-01-03'], dtype='datetime64[ns]', freq=None)"
      ]
     },
     "execution_count": 83,
     "metadata": {},
     "output_type": "execute_result"
    }
   ],
   "source": [
    "dup_ts.index.unique()"
   ]
  },
  {
   "cell_type": "code",
   "execution_count": 84,
   "metadata": {
    "ExecuteTime": {
     "end_time": "2020-11-17T07:58:43.150057Z",
     "start_time": "2020-11-17T07:58:43.143569Z"
    }
   },
   "outputs": [
    {
     "data": {
      "text/plain": [
       "False"
      ]
     },
     "execution_count": 84,
     "metadata": {},
     "output_type": "execute_result"
    }
   ],
   "source": [
    "dup_ts.index.is_unique"
   ]
  },
  {
   "cell_type": "code",
   "execution_count": 85,
   "metadata": {
    "ExecuteTime": {
     "end_time": "2020-11-17T07:59:46.496552Z",
     "start_time": "2020-11-17T07:59:46.487736Z"
    }
   },
   "outputs": [
    {
     "data": {
      "text/plain": [
       "2000-01-02    1\n",
       "2000-01-02    2\n",
       "2000-01-02    3\n",
       "dtype: int64"
      ]
     },
     "execution_count": 85,
     "metadata": {},
     "output_type": "execute_result"
    }
   ],
   "source": [
    "dup_ts['2000-01-02 ']"
   ]
  },
  {
   "cell_type": "code",
   "execution_count": 87,
   "metadata": {
    "ExecuteTime": {
     "end_time": "2020-11-17T08:00:17.750856Z",
     "start_time": "2020-11-17T08:00:17.735914Z"
    }
   },
   "outputs": [
    {
     "data": {
      "text/plain": [
       "<pandas.core.groupby.generic.SeriesGroupBy object at 0x7fb81ff9bf70>"
      ]
     },
     "execution_count": 87,
     "metadata": {},
     "output_type": "execute_result"
    }
   ],
   "source": [
    "dup_ts.groupby(level=0)"
   ]
  },
  {
   "cell_type": "code",
   "execution_count": 88,
   "metadata": {
    "ExecuteTime": {
     "end_time": "2020-11-17T08:00:26.577138Z",
     "start_time": "2020-11-17T08:00:26.567300Z"
    }
   },
   "outputs": [
    {
     "data": {
      "text/plain": [
       "2000-01-01    1\n",
       "2000-01-02    3\n",
       "2000-01-03    1\n",
       "dtype: int64"
      ]
     },
     "execution_count": 88,
     "metadata": {},
     "output_type": "execute_result"
    }
   ],
   "source": [
    "dup_ts.groupby(level=0).count()"
   ]
  },
  {
   "cell_type": "markdown",
   "metadata": {},
   "source": [
    "## 日期范围，频率和移位"
   ]
  },
  {
   "cell_type": "markdown",
   "metadata": {},
   "source": [
    "`pandas`的**通用时间序列是不规则的**， 即**时间序列的频率不是固定的**， 然而，经常**有需要处理固定频率的场景**，例如每月，每天等，意味着我们甚至**需要在必须要的时候向时间序列中引入缺失值**"
   ]
  },
  {
   "cell_type": "markdown",
   "metadata": {},
   "source": [
    "`pandas`**拥有一整套标准的时间序列频率和工具用于重新采样， 推断频率以及生成固定频率的数据范围**"
   ]
  },
  {
   "cell_type": "markdown",
   "metadata": {},
   "source": [
    "在频率间转换，又被称为**重新采样**"
   ]
  },
  {
   "cell_type": "code",
   "execution_count": 89,
   "metadata": {
    "ExecuteTime": {
     "end_time": "2020-11-17T08:36:45.706014Z",
     "start_time": "2020-11-17T08:36:45.697553Z"
    }
   },
   "outputs": [
    {
     "data": {
      "text/plain": [
       "2011-01-02   -0.204708\n",
       "2011-01-05    0.478943\n",
       "2011-01-07   -0.519439\n",
       "2011-01-08   -0.555730\n",
       "2011-01-10    1.965781\n",
       "2011-01-12    1.393406\n",
       "dtype: float64"
      ]
     },
     "execution_count": 89,
     "metadata": {},
     "output_type": "execute_result"
    }
   ],
   "source": [
    "ts"
   ]
  },
  {
   "cell_type": "code",
   "execution_count": 99,
   "metadata": {
    "ExecuteTime": {
     "end_time": "2020-11-17T08:49:35.703803Z",
     "start_time": "2020-11-17T08:49:35.688219Z"
    }
   },
   "outputs": [
    {
     "data": {
      "text/plain": [
       "<pandas.core.resample.DatetimeIndexResampler object at 0x7fb8201684f0>"
      ]
     },
     "execution_count": 99,
     "metadata": {},
     "output_type": "execute_result"
    }
   ],
   "source": [
    "ts.resample('W-SUN')"
   ]
  },
  {
   "cell_type": "code",
   "execution_count": 100,
   "metadata": {
    "ExecuteTime": {
     "end_time": "2020-11-17T08:49:51.874240Z",
     "start_time": "2020-11-17T08:49:51.855769Z"
    }
   },
   "outputs": [
    {
     "data": {
      "text/plain": [
       "[(Timestamp('2011-01-02 00:00:00', freq='W-SUN'),\n",
       "  2011-01-02   -0.204708\n",
       "  dtype: float64),\n",
       " (Timestamp('2011-01-09 00:00:00', freq='W-SUN'),\n",
       "  2011-01-05    0.478943\n",
       "  2011-01-07   -0.519439\n",
       "  2011-01-08   -0.555730\n",
       "  dtype: float64),\n",
       " (Timestamp('2011-01-16 00:00:00', freq='W-SUN'),\n",
       "  2011-01-10    1.965781\n",
       "  2011-01-12    1.393406\n",
       "  dtype: float64)]"
      ]
     },
     "execution_count": 100,
     "metadata": {},
     "output_type": "execute_result"
    }
   ],
   "source": [
    "list(ts.resample('W-SUN'))"
   ]
  },
  {
   "cell_type": "markdown",
   "metadata": {},
   "source": [
    "### 生成日期范围"
   ]
  },
  {
   "cell_type": "markdown",
   "metadata": {},
   "source": [
    "`pandas.data_range`用于**根据特定的频率生成指定长度的`DatetimeIndex`**"
   ]
  },
  {
   "cell_type": "code",
   "execution_count": 110,
   "metadata": {
    "ExecuteTime": {
     "end_time": "2020-11-17T09:09:21.965164Z",
     "start_time": "2020-11-17T09:09:21.956065Z"
    }
   },
   "outputs": [],
   "source": [
    "index = pd.date_range?"
   ]
  },
  {
   "cell_type": "code",
   "execution_count": null,
   "metadata": {},
   "outputs": [],
   "source": [
    "index = pd.date_range"
   ]
  },
  {
   "cell_type": "code",
   "execution_count": null,
   "metadata": {},
   "outputs": [],
   "source": [
    "index = pd.date_range"
   ]
  },
  {
   "cell_type": "code",
   "execution_count": 92,
   "metadata": {
    "ExecuteTime": {
     "end_time": "2020-11-17T08:38:58.932043Z",
     "start_time": "2020-11-17T08:38:58.928342Z"
    }
   },
   "outputs": [],
   "source": [
    "index = pd.date_range('2012-04-01', '2012-06-01')"
   ]
  },
  {
   "cell_type": "code",
   "execution_count": 93,
   "metadata": {
    "ExecuteTime": {
     "end_time": "2020-11-17T08:39:04.831349Z",
     "start_time": "2020-11-17T08:39:04.826084Z"
    }
   },
   "outputs": [
    {
     "data": {
      "text/plain": [
       "pandas.core.indexes.datetimes.DatetimeIndex"
      ]
     },
     "execution_count": 93,
     "metadata": {},
     "output_type": "execute_result"
    }
   ],
   "source": [
    "type(index)"
   ]
  },
  {
   "cell_type": "code",
   "execution_count": 94,
   "metadata": {
    "ExecuteTime": {
     "end_time": "2020-11-17T08:39:24.991737Z",
     "start_time": "2020-11-17T08:39:24.984096Z"
    }
   },
   "outputs": [
    {
     "data": {
      "text/plain": [
       "DatetimeIndex(['2012-04-01', '2012-04-02', '2012-04-03', '2012-04-04',\n",
       "               '2012-04-05', '2012-04-06', '2012-04-07', '2012-04-08',\n",
       "               '2012-04-09', '2012-04-10', '2012-04-11', '2012-04-12',\n",
       "               '2012-04-13', '2012-04-14', '2012-04-15', '2012-04-16',\n",
       "               '2012-04-17', '2012-04-18', '2012-04-19', '2012-04-20',\n",
       "               '2012-04-21', '2012-04-22', '2012-04-23', '2012-04-24',\n",
       "               '2012-04-25', '2012-04-26', '2012-04-27', '2012-04-28',\n",
       "               '2012-04-29', '2012-04-30', '2012-05-01', '2012-05-02',\n",
       "               '2012-05-03', '2012-05-04', '2012-05-05', '2012-05-06',\n",
       "               '2012-05-07', '2012-05-08', '2012-05-09', '2012-05-10',\n",
       "               '2012-05-11', '2012-05-12', '2012-05-13', '2012-05-14',\n",
       "               '2012-05-15', '2012-05-16', '2012-05-17', '2012-05-18',\n",
       "               '2012-05-19', '2012-05-20', '2012-05-21', '2012-05-22',\n",
       "               '2012-05-23', '2012-05-24', '2012-05-25', '2012-05-26',\n",
       "               '2012-05-27', '2012-05-28', '2012-05-29', '2012-05-30',\n",
       "               '2012-05-31', '2012-06-01'],\n",
       "              dtype='datetime64[ns]', freq='D')"
      ]
     },
     "execution_count": 94,
     "metadata": {},
     "output_type": "execute_result"
    }
   ],
   "source": [
    "index"
   ]
  },
  {
   "cell_type": "code",
   "execution_count": 96,
   "metadata": {
    "ExecuteTime": {
     "end_time": "2020-11-17T08:40:46.965075Z",
     "start_time": "2020-11-17T08:40:46.954761Z"
    }
   },
   "outputs": [
    {
     "data": {
      "text/plain": [
       "DatetimeIndex(['2012-04-01', '2012-04-02', '2012-04-03', '2012-04-04',\n",
       "               '2012-04-05', '2012-04-06', '2012-04-07', '2012-04-08',\n",
       "               '2012-04-09', '2012-04-10', '2012-04-11', '2012-04-12',\n",
       "               '2012-04-13', '2012-04-14', '2012-04-15', '2012-04-16',\n",
       "               '2012-04-17', '2012-04-18', '2012-04-19', '2012-04-20'],\n",
       "              dtype='datetime64[ns]', freq='D')"
      ]
     },
     "execution_count": 96,
     "metadata": {},
     "output_type": "execute_result"
    }
   ],
   "source": [
    "pd.date_range(start='2012-04-01', periods=20)"
   ]
  },
  {
   "cell_type": "code",
   "execution_count": 97,
   "metadata": {
    "ExecuteTime": {
     "end_time": "2020-11-17T08:40:54.202052Z",
     "start_time": "2020-11-17T08:40:54.193108Z"
    }
   },
   "outputs": [
    {
     "data": {
      "text/plain": [
       "DatetimeIndex(['2012-03-13', '2012-03-14', '2012-03-15', '2012-03-16',\n",
       "               '2012-03-17', '2012-03-18', '2012-03-19', '2012-03-20',\n",
       "               '2012-03-21', '2012-03-22', '2012-03-23', '2012-03-24',\n",
       "               '2012-03-25', '2012-03-26', '2012-03-27', '2012-03-28',\n",
       "               '2012-03-29', '2012-03-30', '2012-03-31', '2012-04-01'],\n",
       "              dtype='datetime64[ns]', freq='D')"
      ]
     },
     "execution_count": 97,
     "metadata": {},
     "output_type": "execute_result"
    }
   ],
   "source": [
    "pd.date_range(end='2012-04-01', periods=20)"
   ]
  },
  {
   "cell_type": "code",
   "execution_count": 98,
   "metadata": {
    "ExecuteTime": {
     "end_time": "2020-11-17T08:42:24.025860Z",
     "start_time": "2020-11-17T08:42:24.016072Z"
    }
   },
   "outputs": [
    {
     "data": {
      "text/plain": [
       "DatetimeIndex(['2000-01-31', '2000-02-29', '2000-03-31', '2000-04-28',\n",
       "               '2000-05-31', '2000-06-30', '2000-07-31', '2000-08-31',\n",
       "               '2000-09-29', '2000-10-31', '2000-11-30', '2000-12-29'],\n",
       "              dtype='datetime64[ns]', freq='BM')"
      ]
     },
     "execution_count": 98,
     "metadata": {},
     "output_type": "execute_result"
    }
   ],
   "source": [
    "pd.date_range('2000-01-01', '2000-12-31', freq='BM')"
   ]
  },
  {
   "cell_type": "code",
   "execution_count": 101,
   "metadata": {
    "ExecuteTime": {
     "end_time": "2020-11-17T08:57:18.069443Z",
     "start_time": "2020-11-17T08:57:18.061510Z"
    }
   },
   "outputs": [
    {
     "data": {
      "text/plain": [
       "DatetimeIndex(['2000-01-01', '2000-01-02', '2000-01-03', '2000-01-04',\n",
       "               '2000-01-05'],\n",
       "              dtype='datetime64[ns]', freq='D')"
      ]
     },
     "execution_count": 101,
     "metadata": {},
     "output_type": "execute_result"
    }
   ],
   "source": [
    "pd.date_range('2000-01-01', periods=5)"
   ]
  },
  {
   "cell_type": "code",
   "execution_count": 102,
   "metadata": {
    "ExecuteTime": {
     "end_time": "2020-11-17T08:57:56.846926Z",
     "start_time": "2020-11-17T08:57:56.837814Z"
    }
   },
   "outputs": [
    {
     "data": {
      "text/plain": [
       "DatetimeIndex(['2012-05-02 12:56:31', '2012-05-03 12:56:31',\n",
       "               '2012-05-04 12:56:31', '2012-05-05 12:56:31',\n",
       "               '2012-05-06 12:56:31'],\n",
       "              dtype='datetime64[ns]', freq='D')"
      ]
     },
     "execution_count": 102,
     "metadata": {},
     "output_type": "execute_result"
    }
   ],
   "source": [
    "pd.date_range('2012-05-02 12:56:31', periods=5)"
   ]
  },
  {
   "cell_type": "code",
   "execution_count": 103,
   "metadata": {
    "ExecuteTime": {
     "end_time": "2020-11-17T08:58:04.181286Z",
     "start_time": "2020-11-17T08:58:04.173104Z"
    },
    "scrolled": true
   },
   "outputs": [
    {
     "data": {
      "text/plain": [
       "DatetimeIndex(['2012-05-02', '2012-05-03', '2012-05-04', '2012-05-05',\n",
       "               '2012-05-06'],\n",
       "              dtype='datetime64[ns]', freq='D')"
      ]
     },
     "execution_count": 103,
     "metadata": {},
     "output_type": "execute_result"
    }
   ],
   "source": [
    "pd.date_range('2012-05-02 12:56:31', periods=5, normalize=True)"
   ]
  },
  {
   "cell_type": "markdown",
   "metadata": {},
   "source": [
    "###  频率和日期偏置"
   ]
  },
  {
   "cell_type": "markdown",
   "metadata": {},
   "source": [
    "`pandas`中的频率是**由基础频率和倍数组成**"
   ]
  },
  {
   "cell_type": "markdown",
   "metadata": {},
   "source": [
    "基础频率通常会有**字符串别名**\n",
    "- `M`表示每月\n",
    "- `BM`: 月内的最后工作日\n"
   ]
  },
  {
   "cell_type": "markdown",
   "metadata": {},
   "source": [
    "对于每个基础频率，都有一个**对象可以被用于定义日期的偏置**"
   ]
  },
  {
   "cell_type": "code",
   "execution_count": 104,
   "metadata": {
    "ExecuteTime": {
     "end_time": "2020-11-17T09:05:12.703010Z",
     "start_time": "2020-11-17T09:05:12.697313Z"
    }
   },
   "outputs": [],
   "source": [
    "from pandas.tseries.offsets import Hour, Minute"
   ]
  },
  {
   "cell_type": "code",
   "execution_count": 105,
   "metadata": {
    "ExecuteTime": {
     "end_time": "2020-11-17T09:05:16.486820Z",
     "start_time": "2020-11-17T09:05:16.477011Z"
    }
   },
   "outputs": [
    {
     "data": {
      "text/plain": [
       "pandas._libs.tslibs.offsets.Hour"
      ]
     },
     "execution_count": 105,
     "metadata": {},
     "output_type": "execute_result"
    }
   ],
   "source": [
    "Hour"
   ]
  },
  {
   "cell_type": "code",
   "execution_count": 106,
   "metadata": {
    "ExecuteTime": {
     "end_time": "2020-11-17T09:05:28.338109Z",
     "start_time": "2020-11-17T09:05:28.331828Z"
    }
   },
   "outputs": [
    {
     "data": {
      "text/plain": [
       "<Hour>"
      ]
     },
     "execution_count": 106,
     "metadata": {},
     "output_type": "execute_result"
    }
   ],
   "source": [
    "hour = Hour()\n",
    "hour"
   ]
  },
  {
   "cell_type": "code",
   "execution_count": 107,
   "metadata": {
    "ExecuteTime": {
     "end_time": "2020-11-17T09:05:48.931224Z",
     "start_time": "2020-11-17T09:05:48.923986Z"
    }
   },
   "outputs": [
    {
     "data": {
      "text/plain": [
       "<4 * Hours>"
      ]
     },
     "execution_count": 107,
     "metadata": {},
     "output_type": "execute_result"
    }
   ],
   "source": [
    "four_hours = Hour(4)\n",
    "four_hours"
   ]
  },
  {
   "cell_type": "markdown",
   "metadata": {},
   "source": [
    "大多数应用中，不需要显示地创建这些对象，而是使用**字符串别名**\n",
    "- `H或4H`, **在基础评率前放置一个整数就可以生成倍数**\n",
    "- **多个偏置可以通过加法进行联合**\n",
    "- 可以直接传递**评率字符串**， `1h30min`将会**有效地转换为同等的表达式**"
   ]
  },
  {
   "cell_type": "code",
   "execution_count": 109,
   "metadata": {
    "ExecuteTime": {
     "end_time": "2020-11-17T09:09:02.804550Z",
     "start_time": "2020-11-17T09:09:02.795831Z"
    }
   },
   "outputs": [
    {
     "data": {
      "text/plain": [
       "DatetimeIndex(['2000-01-01 00:00:00', '2000-01-01 04:00:00',\n",
       "               '2000-01-01 08:00:00', '2000-01-01 12:00:00',\n",
       "               '2000-01-01 16:00:00', '2000-01-01 20:00:00',\n",
       "               '2000-01-02 00:00:00', '2000-01-02 04:00:00',\n",
       "               '2000-01-02 08:00:00', '2000-01-02 12:00:00',\n",
       "               '2000-01-02 16:00:00', '2000-01-02 20:00:00',\n",
       "               '2000-01-03 00:00:00', '2000-01-03 04:00:00',\n",
       "               '2000-01-03 08:00:00', '2000-01-03 12:00:00',\n",
       "               '2000-01-03 16:00:00', '2000-01-03 20:00:00'],\n",
       "              dtype='datetime64[ns]', freq='4H')"
      ]
     },
     "execution_count": 109,
     "metadata": {},
     "output_type": "execute_result"
    }
   ],
   "source": [
    "pd.date_range('2000-01-01', '2000-01-03 23:59',freq='4H')"
   ]
  },
  {
   "cell_type": "code",
   "execution_count": 114,
   "metadata": {
    "ExecuteTime": {
     "end_time": "2020-11-17T09:10:34.053794Z",
     "start_time": "2020-11-17T09:10:34.043568Z"
    }
   },
   "outputs": [
    {
     "data": {
      "text/plain": [
       "DatetimeIndex(['2000-01-01 00:00:00', '2000-01-01 04:30:00',\n",
       "               '2000-01-01 09:00:00', '2000-01-01 13:30:00',\n",
       "               '2000-01-01 18:00:00', '2000-01-01 22:30:00',\n",
       "               '2000-01-02 03:00:00', '2000-01-02 07:30:00',\n",
       "               '2000-01-02 12:00:00', '2000-01-02 16:30:00',\n",
       "               '2000-01-02 21:00:00', '2000-01-03 01:30:00',\n",
       "               '2000-01-03 06:00:00', '2000-01-03 10:30:00',\n",
       "               '2000-01-03 15:00:00', '2000-01-03 19:30:00'],\n",
       "              dtype='datetime64[ns]', freq='270T')"
      ]
     },
     "execution_count": 114,
     "metadata": {},
     "output_type": "execute_result"
    }
   ],
   "source": [
    "pd.date_range('2000-01-01', '2000-01-03 23:59',freq=Hour(4)+Minute(30))"
   ]
  },
  {
   "cell_type": "code",
   "execution_count": 116,
   "metadata": {
    "ExecuteTime": {
     "end_time": "2020-11-17T09:15:29.782620Z",
     "start_time": "2020-11-17T09:15:29.772763Z"
    }
   },
   "outputs": [
    {
     "data": {
      "text/plain": [
       "DatetimeIndex(['2000-01-01 00:00:00', '2000-01-01 01:30:00',\n",
       "               '2000-01-01 03:00:00', '2000-01-01 04:30:00',\n",
       "               '2000-01-01 06:00:00', '2000-01-01 07:30:00',\n",
       "               '2000-01-01 09:00:00', '2000-01-01 10:30:00',\n",
       "               '2000-01-01 12:00:00', '2000-01-01 13:30:00',\n",
       "               '2000-01-01 15:00:00', '2000-01-01 16:30:00',\n",
       "               '2000-01-01 18:00:00', '2000-01-01 19:30:00',\n",
       "               '2000-01-01 21:00:00', '2000-01-01 22:30:00',\n",
       "               '2000-01-02 00:00:00', '2000-01-02 01:30:00',\n",
       "               '2000-01-02 03:00:00', '2000-01-02 04:30:00',\n",
       "               '2000-01-02 06:00:00', '2000-01-02 07:30:00',\n",
       "               '2000-01-02 09:00:00', '2000-01-02 10:30:00',\n",
       "               '2000-01-02 12:00:00', '2000-01-02 13:30:00',\n",
       "               '2000-01-02 15:00:00', '2000-01-02 16:30:00',\n",
       "               '2000-01-02 18:00:00', '2000-01-02 19:30:00'],\n",
       "              dtype='datetime64[ns]', freq='90T')"
      ]
     },
     "execution_count": 116,
     "metadata": {},
     "output_type": "execute_result"
    }
   ],
   "source": [
    "pd.date_range('2000-01-01',freq='1h30min', periods=30)"
   ]
  },
  {
   "cell_type": "markdown",
   "metadata": {},
   "source": [
    "#### 月中某星期的日期"
   ]
  },
  {
   "cell_type": "markdown",
   "metadata": {},
   "source": [
    "“月中某星期”`week of month`的日期是一个有用的频率类， 以`WOM`开始，允许获取**每月第三个星期五**这样的日期"
   ]
  },
  {
   "cell_type": "code",
   "execution_count": 117,
   "metadata": {
    "ExecuteTime": {
     "end_time": "2020-11-17T09:18:30.974122Z",
     "start_time": "2020-11-17T09:18:30.962622Z"
    }
   },
   "outputs": [
    {
     "data": {
      "text/plain": [
       "DatetimeIndex(['2012-01-20', '2012-02-17', '2012-03-16', '2012-04-20',\n",
       "               '2012-05-18', '2012-06-15', '2012-07-20', '2012-08-17'],\n",
       "              dtype='datetime64[ns]', freq='WOM-3FRI')"
      ]
     },
     "execution_count": 117,
     "metadata": {},
     "output_type": "execute_result"
    }
   ],
   "source": [
    "pd.date_range( '2012-01-01', '2012-09-01', freq='WOM-3FRI' )"
   ]
  },
  {
   "cell_type": "markdown",
   "metadata": {},
   "source": [
    "### 移位（前向和后向）日期"
   ]
  },
  {
   "cell_type": "markdown",
   "metadata": {},
   "source": [
    "“移位”是指**将日期按照时间向前或向后移动**，Series和DataFame都有一个`shift`方法**用于进行简单的前向或后向移位，而不改变索引**"
   ]
  },
  {
   "cell_type": "code",
   "execution_count": 118,
   "metadata": {
    "ExecuteTime": {
     "end_time": "2020-11-17T09:46:32.302574Z",
     "start_time": "2020-11-17T09:46:32.291640Z"
    }
   },
   "outputs": [
    {
     "data": {
      "text/plain": [
       "2000-01-31   -0.066748\n",
       "2000-02-29    0.838639\n",
       "2000-03-31   -0.117388\n",
       "2000-04-30   -0.517795\n",
       "Freq: M, dtype: float64"
      ]
     },
     "execution_count": 118,
     "metadata": {},
     "output_type": "execute_result"
    }
   ],
   "source": [
    "ts = pd.Series(np.random.randn(4),\n",
    "               index=pd.date_range('1/1/2000', periods=4, freq='M'))\n",
    "ts"
   ]
  },
  {
   "cell_type": "code",
   "execution_count": 124,
   "metadata": {
    "ExecuteTime": {
     "end_time": "2020-11-17T09:55:00.243711Z",
     "start_time": "2020-11-17T09:55:00.235898Z"
    }
   },
   "outputs": [],
   "source": [
    "ts.shift?"
   ]
  },
  {
   "cell_type": "code",
   "execution_count": 120,
   "metadata": {
    "ExecuteTime": {
     "end_time": "2020-11-17T09:47:20.510066Z",
     "start_time": "2020-11-17T09:47:20.501733Z"
    }
   },
   "outputs": [
    {
     "data": {
      "text/plain": [
       "2000-01-31         NaN\n",
       "2000-02-29   -0.066748\n",
       "2000-03-31    0.838639\n",
       "2000-04-30   -0.117388\n",
       "Freq: M, dtype: float64"
      ]
     },
     "execution_count": 120,
     "metadata": {},
     "output_type": "execute_result"
    }
   ],
   "source": [
    "ts.shift(1)"
   ]
  },
  {
   "cell_type": "code",
   "execution_count": 122,
   "metadata": {
    "ExecuteTime": {
     "end_time": "2020-11-17T09:51:04.655259Z",
     "start_time": "2020-11-17T09:51:04.646060Z"
    }
   },
   "outputs": [
    {
     "data": {
      "text/plain": [
       "2000-01-31    0.838639\n",
       "2000-02-29   -0.117388\n",
       "2000-03-31   -0.517795\n",
       "2000-04-30         NaN\n",
       "Freq: M, dtype: float64"
      ]
     },
     "execution_count": 122,
     "metadata": {},
     "output_type": "execute_result"
    }
   ],
   "source": [
    "ts.shift(-1)"
   ]
  },
  {
   "cell_type": "code",
   "execution_count": 123,
   "metadata": {
    "ExecuteTime": {
     "end_time": "2020-11-17T09:54:39.249994Z",
     "start_time": "2020-11-17T09:54:39.242857Z"
    }
   },
   "outputs": [
    {
     "data": {
      "text/plain": [
       "2000-01-31          NaN\n",
       "2000-02-29   -13.564241\n",
       "2000-03-31    -1.139975\n",
       "2000-04-30     3.410958\n",
       "Freq: M, dtype: float64"
      ]
     },
     "execution_count": 123,
     "metadata": {},
     "output_type": "execute_result"
    }
   ],
   "source": [
    "ts / ts.shift(1) - 1"
   ]
  },
  {
   "cell_type": "code",
   "execution_count": 125,
   "metadata": {
    "ExecuteTime": {
     "end_time": "2020-11-17T09:59:10.452187Z",
     "start_time": "2020-11-17T09:59:10.444092Z"
    }
   },
   "outputs": [
    {
     "data": {
      "text/plain": [
       "2000-03-31   -0.066748\n",
       "2000-04-30    0.838639\n",
       "2000-05-31   -0.117388\n",
       "2000-06-30   -0.517795\n",
       "Freq: M, dtype: float64"
      ]
     },
     "execution_count": 125,
     "metadata": {},
     "output_type": "execute_result"
    }
   ],
   "source": [
    "ts.shift(2, freq='M')"
   ]
  },
  {
   "cell_type": "code",
   "execution_count": 126,
   "metadata": {
    "ExecuteTime": {
     "end_time": "2020-11-17T10:00:32.499065Z",
     "start_time": "2020-11-17T10:00:32.485300Z"
    }
   },
   "outputs": [
    {
     "data": {
      "text/plain": [
       "2000-02-02   -0.066748\n",
       "2000-03-02    0.838639\n",
       "2000-04-02   -0.117388\n",
       "2000-05-02   -0.517795\n",
       "dtype: float64"
      ]
     },
     "execution_count": 126,
     "metadata": {},
     "output_type": "execute_result"
    }
   ],
   "source": [
    "ts.shift(2, freq='D')"
   ]
  },
  {
   "cell_type": "code",
   "execution_count": 127,
   "metadata": {
    "ExecuteTime": {
     "end_time": "2020-11-17T10:00:40.735039Z",
     "start_time": "2020-11-17T10:00:40.724173Z"
    }
   },
   "outputs": [
    {
     "data": {
      "text/plain": [
       "2000-01-31 08:00:00   -0.066748\n",
       "2000-02-29 08:00:00    0.838639\n",
       "2000-03-31 08:00:00   -0.117388\n",
       "2000-04-30 08:00:00   -0.517795\n",
       "dtype: float64"
      ]
     },
     "execution_count": 127,
     "metadata": {},
     "output_type": "execute_result"
    }
   ],
   "source": [
    "ts.shift(2, freq='4H')"
   ]
  },
  {
   "cell_type": "markdown",
   "metadata": {},
   "source": [
    "#### 使用偏置进行移位日期"
   ]
  },
  {
   "cell_type": "markdown",
   "metadata": {},
   "source": [
    "`pandas`的日期偏置可以使用`datetime`和`timestamp`对象完成"
   ]
  },
  {
   "cell_type": "code",
   "execution_count": 128,
   "metadata": {
    "ExecuteTime": {
     "end_time": "2020-11-17T10:06:57.846182Z",
     "start_time": "2020-11-17T10:06:57.842574Z"
    }
   },
   "outputs": [],
   "source": [
    "from pandas.tseries.offsets import Day, MonthEnd"
   ]
  },
  {
   "cell_type": "code",
   "execution_count": 129,
   "metadata": {
    "ExecuteTime": {
     "end_time": "2020-11-17T10:07:18.617305Z",
     "start_time": "2020-11-17T10:07:18.609981Z"
    }
   },
   "outputs": [
    {
     "data": {
      "text/plain": [
       "datetime.datetime(2011, 11, 17, 0, 0)"
      ]
     },
     "execution_count": 129,
     "metadata": {},
     "output_type": "execute_result"
    }
   ],
   "source": [
    "now = datetime(2011, 11, 17)\n",
    "now"
   ]
  },
  {
   "cell_type": "code",
   "execution_count": 130,
   "metadata": {
    "ExecuteTime": {
     "end_time": "2020-11-17T10:07:32.752565Z",
     "start_time": "2020-11-17T10:07:32.746119Z"
    }
   },
   "outputs": [
    {
     "data": {
      "text/plain": [
       "Timestamp('2011-12-31 00:00:00')"
      ]
     },
     "execution_count": 130,
     "metadata": {},
     "output_type": "execute_result"
    }
   ],
   "source": [
    "now + MonthEnd(2)"
   ]
  },
  {
   "cell_type": "code",
   "execution_count": 132,
   "metadata": {
    "ExecuteTime": {
     "end_time": "2020-11-17T10:08:23.009243Z",
     "start_time": "2020-11-17T10:08:23.003543Z"
    }
   },
   "outputs": [
    {
     "data": {
      "text/plain": [
       "Timestamp('2012-02-25 00:00:00')"
      ]
     },
     "execution_count": 132,
     "metadata": {},
     "output_type": "execute_result"
    }
   ],
   "source": [
    "now + Day(100)"
   ]
  },
  {
   "cell_type": "code",
   "execution_count": 133,
   "metadata": {
    "ExecuteTime": {
     "end_time": "2020-11-17T10:08:55.471532Z",
     "start_time": "2020-11-17T10:08:55.466047Z"
    }
   },
   "outputs": [
    {
     "data": {
      "text/plain": [
       "Timestamp('2011-10-31 00:00:00')"
      ]
     },
     "execution_count": 133,
     "metadata": {},
     "output_type": "execute_result"
    }
   ],
   "source": [
    "MonthEnd().rollback(now)"
   ]
  },
  {
   "cell_type": "code",
   "execution_count": 134,
   "metadata": {
    "ExecuteTime": {
     "end_time": "2020-11-17T10:09:10.984423Z",
     "start_time": "2020-11-17T10:09:10.978134Z"
    }
   },
   "outputs": [
    {
     "data": {
      "text/plain": [
       "Timestamp('2011-11-30 00:00:00')"
      ]
     },
     "execution_count": 134,
     "metadata": {},
     "output_type": "execute_result"
    }
   ],
   "source": [
    "MonthEnd().rollforward(now)"
   ]
  },
  {
   "cell_type": "code",
   "execution_count": 135,
   "metadata": {
    "ExecuteTime": {
     "end_time": "2020-11-17T10:11:24.132934Z",
     "start_time": "2020-11-17T10:11:24.121109Z"
    }
   },
   "outputs": [
    {
     "data": {
      "text/plain": [
       "2000-01-15   -0.116696\n",
       "2000-01-19    2.389645\n",
       "2000-01-23   -0.932454\n",
       "2000-01-27   -0.229331\n",
       "2000-01-31   -1.140330\n",
       "2000-02-04    0.439920\n",
       "2000-02-08   -0.823758\n",
       "2000-02-12   -0.520930\n",
       "2000-02-16    0.350282\n",
       "2000-02-20    0.204395\n",
       "2000-02-24    0.133445\n",
       "2000-02-28    0.327905\n",
       "2000-03-03    0.072153\n",
       "2000-03-07    0.131678\n",
       "2000-03-11   -1.297459\n",
       "2000-03-15    0.997747\n",
       "2000-03-19    0.870955\n",
       "2000-03-23   -0.991253\n",
       "2000-03-27    0.151699\n",
       "2000-03-31    1.266151\n",
       "Freq: 4D, dtype: float64"
      ]
     },
     "execution_count": 135,
     "metadata": {},
     "output_type": "execute_result"
    }
   ],
   "source": [
    "ts = pd.Series(np.random.randn(20),\n",
    "               index=pd.date_range('1/15/2000', periods=20, freq='4d'))\n",
    "ts"
   ]
  },
  {
   "cell_type": "code",
   "execution_count": 140,
   "metadata": {
    "ExecuteTime": {
     "end_time": "2020-11-17T10:13:11.176054Z",
     "start_time": "2020-11-17T10:13:11.162346Z"
    }
   },
   "outputs": [
    {
     "data": {
      "text/plain": [
       "2000-01-31    5\n",
       "2000-02-29    7\n",
       "2000-03-31    8\n",
       "dtype: int64"
      ]
     },
     "execution_count": 140,
     "metadata": {},
     "output_type": "execute_result"
    }
   ],
   "source": [
    "ts.groupby(MonthEnd().rollforward).count()"
   ]
  },
  {
   "cell_type": "code",
   "execution_count": 141,
   "metadata": {
    "ExecuteTime": {
     "end_time": "2020-11-17T10:13:26.122376Z",
     "start_time": "2020-11-17T10:13:26.104713Z"
    }
   },
   "outputs": [
    {
     "data": {
      "text/plain": [
       "[(Timestamp('2000-01-31 00:00:00'),\n",
       "  2000-01-15   -0.116696\n",
       "  2000-01-19    2.389645\n",
       "  2000-01-23   -0.932454\n",
       "  2000-01-27   -0.229331\n",
       "  2000-01-31   -1.140330\n",
       "  Freq: 4D, dtype: float64),\n",
       " (Timestamp('2000-02-29 00:00:00'),\n",
       "  2000-02-04    0.439920\n",
       "  2000-02-08   -0.823758\n",
       "  2000-02-12   -0.520930\n",
       "  2000-02-16    0.350282\n",
       "  2000-02-20    0.204395\n",
       "  2000-02-24    0.133445\n",
       "  2000-02-28    0.327905\n",
       "  Freq: 4D, dtype: float64),\n",
       " (Timestamp('2000-03-31 00:00:00'),\n",
       "  2000-03-03    0.072153\n",
       "  2000-03-07    0.131678\n",
       "  2000-03-11   -1.297459\n",
       "  2000-03-15    0.997747\n",
       "  2000-03-19    0.870955\n",
       "  2000-03-23   -0.991253\n",
       "  2000-03-27    0.151699\n",
       "  2000-03-31    1.266151\n",
       "  Freq: 4D, dtype: float64)]"
      ]
     },
     "execution_count": 141,
     "metadata": {},
     "output_type": "execute_result"
    }
   ],
   "source": [
    "list(ts.groupby(MonthEnd().rollforward))"
   ]
  },
  {
   "cell_type": "markdown",
   "metadata": {},
   "source": [
    "## 时区处理"
   ]
  },
  {
   "cell_type": "markdown",
   "metadata": {},
   "source": [
    "处理时区通常是时间序列操作中最不愉快的部分。因此，许多时间序列用户选择 **世界协调时或UTC**\n",
    "\n",
    "- `UTC`: 是格林尼治时间的后继者，也是**目前的国际标准**\n",
    "- 时区通常被表示为 **UTC的偏置**"
   ]
  },
  {
   "cell_type": "markdown",
   "metadata": {},
   "source": [
    "中国的夏令时是每年的5月1日开始的,到每年9月30日结束。但是**已经被废止了**，**全国统一东八区**"
   ]
  },
  {
   "cell_type": "markdown",
   "metadata": {},
   "source": [
    "在夏令时期，纽约比UTC时间晚4个小时，其余时间晚5个小时"
   ]
  },
  {
   "cell_type": "markdown",
   "metadata": {},
   "source": [
    "Python语言中，时区信息来源于第三方库`pytz`, 其中公开了`Olson`数据库，这是**世界时区信息的汇编**，对于历史数据尤为重要"
   ]
  },
  {
   "cell_type": "markdown",
   "metadata": {},
   "source": [
    "**夏令时（DST）转换日期已经根据地方政府的意愿而改变多次**，在美国，DST转换时间从1900至今已经多次变更"
   ]
  },
  {
   "cell_type": "code",
   "execution_count": 142,
   "metadata": {
    "ExecuteTime": {
     "end_time": "2020-11-17T10:45:48.536506Z",
     "start_time": "2020-11-17T10:45:48.530140Z"
    }
   },
   "outputs": [],
   "source": [
    "import pytz"
   ]
  },
  {
   "cell_type": "code",
   "execution_count": 143,
   "metadata": {
    "ExecuteTime": {
     "end_time": "2020-11-17T10:46:06.309615Z",
     "start_time": "2020-11-17T10:46:01.468690Z"
    },
    "scrolled": false
   },
   "outputs": [
    {
     "data": {
      "text/plain": [
       "['Africa/Abidjan', 'Africa/Accra', 'Africa/Addis_Ababa', 'Africa/Algiers', 'Africa/Asmara', 'Africa/Bamako', 'Africa/Bangui', 'Africa/Banjul', 'Africa/Bissau', 'Africa/Blantyre', 'Africa/Brazzaville', 'Africa/Bujumbura', 'Africa/Cairo', 'Africa/Casablanca', 'Africa/Ceuta', 'Africa/Conakry', 'Africa/Dakar', 'Africa/Dar_es_Salaam', 'Africa/Djibouti', 'Africa/Douala', 'Africa/El_Aaiun', 'Africa/Freetown', 'Africa/Gaborone', 'Africa/Harare', 'Africa/Johannesburg', 'Africa/Juba', 'Africa/Kampala', 'Africa/Khartoum', 'Africa/Kigali', 'Africa/Kinshasa', 'Africa/Lagos', 'Africa/Libreville', 'Africa/Lome', 'Africa/Luanda', 'Africa/Lubumbashi', 'Africa/Lusaka', 'Africa/Malabo', 'Africa/Maputo', 'Africa/Maseru', 'Africa/Mbabane', 'Africa/Mogadishu', 'Africa/Monrovia', 'Africa/Nairobi', 'Africa/Ndjamena', 'Africa/Niamey', 'Africa/Nouakchott', 'Africa/Ouagadougou', 'Africa/Porto-Novo', 'Africa/Sao_Tome', 'Africa/Tripoli', 'Africa/Tunis', 'Africa/Windhoek', 'America/Adak', 'America/Anchorage', 'America/Anguilla', 'America/Antigua', 'America/Araguaina', 'America/Argentina/Buenos_Aires', 'America/Argentina/Catamarca', 'America/Argentina/Cordoba', 'America/Argentina/Jujuy', 'America/Argentina/La_Rioja', 'America/Argentina/Mendoza', 'America/Argentina/Rio_Gallegos', 'America/Argentina/Salta', 'America/Argentina/San_Juan', 'America/Argentina/San_Luis', 'America/Argentina/Tucuman', 'America/Argentina/Ushuaia', 'America/Aruba', 'America/Asuncion', 'America/Atikokan', 'America/Bahia', 'America/Bahia_Banderas', 'America/Barbados', 'America/Belem', 'America/Belize', 'America/Blanc-Sablon', 'America/Boa_Vista', 'America/Bogota', 'America/Boise', 'America/Cambridge_Bay', 'America/Campo_Grande', 'America/Cancun', 'America/Caracas', 'America/Cayenne', 'America/Cayman', 'America/Chicago', 'America/Chihuahua', 'America/Costa_Rica', 'America/Creston', 'America/Cuiaba', 'America/Curacao', 'America/Danmarkshavn', 'America/Dawson', 'America/Dawson_Creek', 'America/Denver', 'America/Detroit', 'America/Dominica', 'America/Edmonton', 'America/Eirunepe', 'America/El_Salvador', 'America/Fort_Nelson', 'America/Fortaleza', 'America/Glace_Bay', 'America/Goose_Bay', 'America/Grand_Turk', 'America/Grenada', 'America/Guadeloupe', 'America/Guatemala', 'America/Guayaquil', 'America/Guyana', 'America/Halifax', 'America/Havana', 'America/Hermosillo', 'America/Indiana/Indianapolis', 'America/Indiana/Knox', 'America/Indiana/Marengo', 'America/Indiana/Petersburg', 'America/Indiana/Tell_City', 'America/Indiana/Vevay', 'America/Indiana/Vincennes', 'America/Indiana/Winamac', 'America/Inuvik', 'America/Iqaluit', 'America/Jamaica', 'America/Juneau', 'America/Kentucky/Louisville', 'America/Kentucky/Monticello', 'America/Kralendijk', 'America/La_Paz', 'America/Lima', 'America/Los_Angeles', 'America/Lower_Princes', 'America/Maceio', 'America/Managua', 'America/Manaus', 'America/Marigot', 'America/Martinique', 'America/Matamoros', 'America/Mazatlan', 'America/Menominee', 'America/Merida', 'America/Metlakatla', 'America/Mexico_City', 'America/Miquelon', 'America/Moncton', 'America/Monterrey', 'America/Montevideo', 'America/Montserrat', 'America/Nassau', 'America/New_York', 'America/Nipigon', 'America/Nome', 'America/Noronha', 'America/North_Dakota/Beulah', 'America/North_Dakota/Center', 'America/North_Dakota/New_Salem', 'America/Nuuk', 'America/Ojinaga', 'America/Panama', 'America/Pangnirtung', 'America/Paramaribo', 'America/Phoenix', 'America/Port-au-Prince', 'America/Port_of_Spain', 'America/Porto_Velho', 'America/Puerto_Rico', 'America/Punta_Arenas', 'America/Rainy_River', 'America/Rankin_Inlet', 'America/Recife', 'America/Regina', 'America/Resolute', 'America/Rio_Branco', 'America/Santarem', 'America/Santiago', 'America/Santo_Domingo', 'America/Sao_Paulo', 'America/Scoresbysund', 'America/Sitka', 'America/St_Barthelemy', 'America/St_Johns', 'America/St_Kitts', 'America/St_Lucia', 'America/St_Thomas', 'America/St_Vincent', 'America/Swift_Current', 'America/Tegucigalpa', 'America/Thule', 'America/Thunder_Bay', 'America/Tijuana', 'America/Toronto', 'America/Tortola', 'America/Vancouver', 'America/Whitehorse', 'America/Winnipeg', 'America/Yakutat', 'America/Yellowknife', 'Antarctica/Casey', 'Antarctica/Davis', 'Antarctica/DumontDUrville', 'Antarctica/Macquarie', 'Antarctica/Mawson', 'Antarctica/McMurdo', 'Antarctica/Palmer', 'Antarctica/Rothera', 'Antarctica/Syowa', 'Antarctica/Troll', 'Antarctica/Vostok', 'Arctic/Longyearbyen', 'Asia/Aden', 'Asia/Almaty', 'Asia/Amman', 'Asia/Anadyr', 'Asia/Aqtau', 'Asia/Aqtobe', 'Asia/Ashgabat', 'Asia/Atyrau', 'Asia/Baghdad', 'Asia/Bahrain', 'Asia/Baku', 'Asia/Bangkok', 'Asia/Barnaul', 'Asia/Beirut', 'Asia/Bishkek', 'Asia/Brunei', 'Asia/Chita', 'Asia/Choibalsan', 'Asia/Colombo', 'Asia/Damascus', 'Asia/Dhaka', 'Asia/Dili', 'Asia/Dubai', 'Asia/Dushanbe', 'Asia/Famagusta', 'Asia/Gaza', 'Asia/Hebron', 'Asia/Ho_Chi_Minh', 'Asia/Hong_Kong', 'Asia/Hovd', 'Asia/Irkutsk', 'Asia/Jakarta', 'Asia/Jayapura', 'Asia/Jerusalem', 'Asia/Kabul', 'Asia/Kamchatka', 'Asia/Karachi', 'Asia/Kathmandu', 'Asia/Khandyga', 'Asia/Kolkata', 'Asia/Krasnoyarsk', 'Asia/Kuala_Lumpur', 'Asia/Kuching', 'Asia/Kuwait', 'Asia/Macau', 'Asia/Magadan', 'Asia/Makassar', 'Asia/Manila', 'Asia/Muscat', 'Asia/Nicosia', 'Asia/Novokuznetsk', 'Asia/Novosibirsk', 'Asia/Omsk', 'Asia/Oral', 'Asia/Phnom_Penh', 'Asia/Pontianak', 'Asia/Pyongyang', 'Asia/Qatar', 'Asia/Qostanay', 'Asia/Qyzylorda', 'Asia/Riyadh', 'Asia/Sakhalin', 'Asia/Samarkand', 'Asia/Seoul', 'Asia/Shanghai', 'Asia/Singapore', 'Asia/Srednekolymsk', 'Asia/Taipei', 'Asia/Tashkent', 'Asia/Tbilisi', 'Asia/Tehran', 'Asia/Thimphu', 'Asia/Tokyo', 'Asia/Tomsk', 'Asia/Ulaanbaatar', 'Asia/Urumqi', 'Asia/Ust-Nera', 'Asia/Vientiane', 'Asia/Vladivostok', 'Asia/Yakutsk', 'Asia/Yangon', 'Asia/Yekaterinburg', 'Asia/Yerevan', 'Atlantic/Azores', 'Atlantic/Bermuda', 'Atlantic/Canary', 'Atlantic/Cape_Verde', 'Atlantic/Faroe', 'Atlantic/Madeira', 'Atlantic/Reykjavik', 'Atlantic/South_Georgia', 'Atlantic/St_Helena', 'Atlantic/Stanley', 'Australia/Adelaide', 'Australia/Brisbane', 'Australia/Broken_Hill', 'Australia/Currie', 'Australia/Darwin', 'Australia/Eucla', 'Australia/Hobart', 'Australia/Lindeman', 'Australia/Lord_Howe', 'Australia/Melbourne', 'Australia/Perth', 'Australia/Sydney', 'Canada/Atlantic', 'Canada/Central', 'Canada/Eastern', 'Canada/Mountain', 'Canada/Newfoundland', 'Canada/Pacific', 'Europe/Amsterdam', 'Europe/Andorra', 'Europe/Astrakhan', 'Europe/Athens', 'Europe/Belgrade', 'Europe/Berlin', 'Europe/Bratislava', 'Europe/Brussels', 'Europe/Bucharest', 'Europe/Budapest', 'Europe/Busingen', 'Europe/Chisinau', 'Europe/Copenhagen', 'Europe/Dublin', 'Europe/Gibraltar', 'Europe/Guernsey', 'Europe/Helsinki', 'Europe/Isle_of_Man', 'Europe/Istanbul', 'Europe/Jersey', 'Europe/Kaliningrad', 'Europe/Kiev', 'Europe/Kirov', 'Europe/Lisbon', 'Europe/Ljubljana', 'Europe/London', 'Europe/Luxembourg', 'Europe/Madrid', 'Europe/Malta', 'Europe/Mariehamn', 'Europe/Minsk', 'Europe/Monaco', 'Europe/Moscow', 'Europe/Oslo', 'Europe/Paris', 'Europe/Podgorica', 'Europe/Prague', 'Europe/Riga', 'Europe/Rome', 'Europe/Samara', 'Europe/San_Marino', 'Europe/Sarajevo', 'Europe/Saratov', 'Europe/Simferopol', 'Europe/Skopje', 'Europe/Sofia', 'Europe/Stockholm', 'Europe/Tallinn', 'Europe/Tirane', 'Europe/Ulyanovsk', 'Europe/Uzhgorod', 'Europe/Vaduz', 'Europe/Vatican', 'Europe/Vienna', 'Europe/Vilnius', 'Europe/Volgograd', 'Europe/Warsaw', 'Europe/Zagreb', 'Europe/Zaporozhye', 'Europe/Zurich', 'GMT', 'Indian/Antananarivo', 'Indian/Chagos', 'Indian/Christmas', 'Indian/Cocos', 'Indian/Comoro', 'Indian/Kerguelen', 'Indian/Mahe', 'Indian/Maldives', 'Indian/Mauritius', 'Indian/Mayotte', 'Indian/Reunion', 'Pacific/Apia', 'Pacific/Auckland', 'Pacific/Bougainville', 'Pacific/Chatham', 'Pacific/Chuuk', 'Pacific/Easter', 'Pacific/Efate', 'Pacific/Enderbury', 'Pacific/Fakaofo', 'Pacific/Fiji', 'Pacific/Funafuti', 'Pacific/Galapagos', 'Pacific/Gambier', 'Pacific/Guadalcanal', 'Pacific/Guam', 'Pacific/Honolulu', 'Pacific/Kiritimati', 'Pacific/Kosrae', 'Pacific/Kwajalein', 'Pacific/Majuro', 'Pacific/Marquesas', 'Pacific/Midway', 'Pacific/Nauru', 'Pacific/Niue', 'Pacific/Norfolk', 'Pacific/Noumea', 'Pacific/Pago_Pago', 'Pacific/Palau', 'Pacific/Pitcairn', 'Pacific/Pohnpei', 'Pacific/Port_Moresby', 'Pacific/Rarotonga', 'Pacific/Saipan', 'Pacific/Tahiti', 'Pacific/Tarawa', 'Pacific/Tongatapu', 'Pacific/Wake', 'Pacific/Wallis', 'US/Alaska', 'US/Arizona', 'US/Central', 'US/Eastern', 'US/Hawaii', 'US/Mountain', 'US/Pacific', 'UTC']"
      ]
     },
     "execution_count": 143,
     "metadata": {},
     "output_type": "execute_result"
    }
   ],
   "source": [
    "pytz.common_timezones"
   ]
  },
  {
   "cell_type": "code",
   "execution_count": 145,
   "metadata": {
    "ExecuteTime": {
     "end_time": "2020-11-17T10:46:48.843365Z",
     "start_time": "2020-11-17T10:46:48.817148Z"
    }
   },
   "outputs": [
    {
     "data": {
      "text/plain": [
       "<DstTzInfo 'Asia/Shanghai' LMT+8:06:00 STD>"
      ]
     },
     "execution_count": 145,
     "metadata": {},
     "output_type": "execute_result"
    }
   ],
   "source": [
    "pytz.timezone('Asia/Shanghai')"
   ]
  },
  {
   "cell_type": "markdown",
   "metadata": {},
   "source": [
    "### 时区的本地化和转换"
   ]
  },
  {
   "cell_type": "markdown",
   "metadata": {},
   "source": [
    "默认情况下，pandas中的时间序列是**时区简单型的**，没有时区信息"
   ]
  },
  {
   "cell_type": "code",
   "execution_count": 146,
   "metadata": {
    "ExecuteTime": {
     "end_time": "2020-11-17T11:03:02.827605Z",
     "start_time": "2020-11-17T11:03:02.814230Z"
    }
   },
   "outputs": [
    {
     "data": {
      "text/plain": [
       "2012-03-09 09:30:00   -0.202469\n",
       "2012-03-10 09:30:00    0.050718\n",
       "2012-03-11 09:30:00    0.639869\n",
       "2012-03-12 09:30:00    0.597594\n",
       "2012-03-13 09:30:00   -0.797246\n",
       "2012-03-14 09:30:00    0.472879\n",
       "Freq: D, dtype: float64"
      ]
     },
     "execution_count": 146,
     "metadata": {},
     "output_type": "execute_result"
    }
   ],
   "source": [
    "ts = pd.Series( np.random.randn(6), index=pd.date_range('3/9/2012 9:30', freq='D', periods=6) )\n",
    "ts "
   ]
  },
  {
   "cell_type": "code",
   "execution_count": 147,
   "metadata": {
    "ExecuteTime": {
     "end_time": "2020-11-17T11:03:23.592849Z",
     "start_time": "2020-11-17T11:03:23.585354Z"
    }
   },
   "outputs": [
    {
     "data": {
      "text/plain": [
       "DatetimeIndex(['2012-03-09 09:30:00', '2012-03-10 09:30:00',\n",
       "               '2012-03-11 09:30:00', '2012-03-12 09:30:00',\n",
       "               '2012-03-13 09:30:00', '2012-03-14 09:30:00'],\n",
       "              dtype='datetime64[ns]', freq='D')"
      ]
     },
     "execution_count": 147,
     "metadata": {},
     "output_type": "execute_result"
    }
   ],
   "source": [
    "ts.index"
   ]
  },
  {
   "cell_type": "code",
   "execution_count": 148,
   "metadata": {
    "ExecuteTime": {
     "end_time": "2020-11-17T11:03:35.356455Z",
     "start_time": "2020-11-17T11:03:35.353409Z"
    }
   },
   "outputs": [],
   "source": [
    "ts.index.tz"
   ]
  },
  {
   "cell_type": "markdown",
   "metadata": {},
   "source": [
    "- `tz_localize`: 将简单时区转换为本地化时区，就是&**添加时区信息**\n",
    "- `tz_convert`: 当序列有了时区信息之后，就可以**转换为某个特定的时区**"
   ]
  },
  {
   "cell_type": "code",
   "execution_count": 151,
   "metadata": {
    "ExecuteTime": {
     "end_time": "2020-11-17T11:06:36.026094Z",
     "start_time": "2020-11-17T11:06:36.016913Z"
    }
   },
   "outputs": [
    {
     "data": {
      "text/plain": [
       "2012-03-09 09:30:00+00:00   -0.202469\n",
       "2012-03-10 09:30:00+00:00    0.050718\n",
       "2012-03-11 09:30:00+00:00    0.639869\n",
       "2012-03-12 09:30:00+00:00    0.597594\n",
       "2012-03-13 09:30:00+00:00   -0.797246\n",
       "2012-03-14 09:30:00+00:00    0.472879\n",
       "Freq: D, dtype: float64"
      ]
     },
     "execution_count": 151,
     "metadata": {},
     "output_type": "execute_result"
    }
   ],
   "source": [
    "ts.tz_localize('UTC')"
   ]
  },
  {
   "cell_type": "code",
   "execution_count": 152,
   "metadata": {
    "ExecuteTime": {
     "end_time": "2020-11-17T11:06:48.464364Z",
     "start_time": "2020-11-17T11:06:48.457088Z"
    }
   },
   "outputs": [
    {
     "data": {
      "text/plain": [
       "DatetimeIndex(['2012-03-09 09:30:00+00:00', '2012-03-10 09:30:00+00:00',\n",
       "               '2012-03-11 09:30:00+00:00', '2012-03-12 09:30:00+00:00',\n",
       "               '2012-03-13 09:30:00+00:00', '2012-03-14 09:30:00+00:00'],\n",
       "              dtype='datetime64[ns, UTC]', freq='D')"
      ]
     },
     "execution_count": 152,
     "metadata": {},
     "output_type": "execute_result"
    }
   ],
   "source": [
    "ts.tz_localize('UTC').index"
   ]
  },
  {
   "cell_type": "code",
   "execution_count": 153,
   "metadata": {
    "ExecuteTime": {
     "end_time": "2020-11-17T11:07:16.841771Z",
     "start_time": "2020-11-17T11:07:16.829008Z"
    }
   },
   "outputs": [
    {
     "data": {
      "text/plain": [
       "2012-03-09 17:30:00+08:00   -0.202469\n",
       "2012-03-10 17:30:00+08:00    0.050718\n",
       "2012-03-11 17:30:00+08:00    0.639869\n",
       "2012-03-12 17:30:00+08:00    0.597594\n",
       "2012-03-13 17:30:00+08:00   -0.797246\n",
       "2012-03-14 17:30:00+08:00    0.472879\n",
       "Freq: D, dtype: float64"
      ]
     },
     "execution_count": 153,
     "metadata": {},
     "output_type": "execute_result"
    }
   ],
   "source": [
    "ts.tz_localize('UTC').tz_convert('Asia/Shanghai')"
   ]
  },
  {
   "cell_type": "code",
   "execution_count": 154,
   "metadata": {
    "ExecuteTime": {
     "end_time": "2020-11-17T11:08:04.058175Z",
     "start_time": "2020-11-17T11:08:04.048677Z"
    }
   },
   "outputs": [
    {
     "data": {
      "text/plain": [
       "DatetimeIndex(['2012-03-09 17:30:00+08:00', '2012-03-10 17:30:00+08:00',\n",
       "               '2012-03-11 17:30:00+08:00', '2012-03-12 17:30:00+08:00',\n",
       "               '2012-03-13 17:30:00+08:00', '2012-03-14 17:30:00+08:00'],\n",
       "              dtype='datetime64[ns, Asia/Shanghai]', freq='D')"
      ]
     },
     "execution_count": 154,
     "metadata": {},
     "output_type": "execute_result"
    }
   ],
   "source": [
    "ts.tz_localize('UTC').tz_convert('Asia/Shanghai').index"
   ]
  },
  {
   "cell_type": "markdown",
   "metadata": {},
   "source": [
    "`tz_localize`和`tz_lconvart`也是`DataFrame`的方法"
   ]
  },
  {
   "cell_type": "code",
   "execution_count": 155,
   "metadata": {
    "ExecuteTime": {
     "end_time": "2020-11-17T11:22:00.595740Z",
     "start_time": "2020-11-17T11:22:00.583197Z"
    }
   },
   "outputs": [
    {
     "data": {
      "text/plain": [
       "2012-03-09 09:30:00+08:00   -0.202469\n",
       "2012-03-10 09:30:00+08:00    0.050718\n",
       "2012-03-11 09:30:00+08:00    0.639869\n",
       "2012-03-12 09:30:00+08:00    0.597594\n",
       "2012-03-13 09:30:00+08:00   -0.797246\n",
       "2012-03-14 09:30:00+08:00    0.472879\n",
       "dtype: float64"
      ]
     },
     "execution_count": 155,
     "metadata": {},
     "output_type": "execute_result"
    }
   ],
   "source": [
    "ts.tz_localize('Asia/Shanghai')"
   ]
  },
  {
   "cell_type": "code",
   "execution_count": 156,
   "metadata": {
    "ExecuteTime": {
     "end_time": "2020-11-17T11:22:15.046096Z",
     "start_time": "2020-11-17T11:22:15.038609Z"
    }
   },
   "outputs": [
    {
     "data": {
      "text/plain": [
       "2012-03-09 01:30:00+00:00   -0.202469\n",
       "2012-03-10 01:30:00+00:00    0.050718\n",
       "2012-03-11 01:30:00+00:00    0.639869\n",
       "2012-03-12 01:30:00+00:00    0.597594\n",
       "2012-03-13 01:30:00+00:00   -0.797246\n",
       "2012-03-14 01:30:00+00:00    0.472879\n",
       "dtype: float64"
      ]
     },
     "execution_count": 156,
     "metadata": {},
     "output_type": "execute_result"
    }
   ],
   "source": [
    "ts.tz_localize('Asia/Shanghai').tz_convert('UTC')"
   ]
  },
  {
   "cell_type": "markdown",
   "metadata": {},
   "source": [
    "### 时区感知时间戳对象的操作"
   ]
  },
  {
   "cell_type": "markdown",
   "metadata": {},
   "source": [
    "与时间序列和日期范围类似，单独的`TimeStamp`对象也可以**从简单时间戳本地化为时区感知时间戳**"
   ]
  },
  {
   "cell_type": "code",
   "execution_count": 157,
   "metadata": {
    "ExecuteTime": {
     "end_time": "2020-11-17T11:29:13.352015Z",
     "start_time": "2020-11-17T11:29:13.341567Z"
    }
   },
   "outputs": [
    {
     "data": {
      "text/plain": [
       "Timestamp('2011-03-12 04:00:00')"
      ]
     },
     "execution_count": 157,
     "metadata": {},
     "output_type": "execute_result"
    }
   ],
   "source": [
    "stamp = pd.Timestamp('2011-03-12 04:00')\n",
    "stamp"
   ]
  },
  {
   "cell_type": "code",
   "execution_count": 158,
   "metadata": {
    "ExecuteTime": {
     "end_time": "2020-11-17T11:29:18.722608Z",
     "start_time": "2020-11-17T11:29:18.719214Z"
    }
   },
   "outputs": [],
   "source": [
    "stamp.tz"
   ]
  },
  {
   "cell_type": "code",
   "execution_count": 159,
   "metadata": {
    "ExecuteTime": {
     "end_time": "2020-11-17T11:29:42.935575Z",
     "start_time": "2020-11-17T11:29:42.926920Z"
    }
   },
   "outputs": [
    {
     "data": {
      "text/plain": [
       "Timestamp('2011-03-12 04:00:00+0000', tz='UTC')"
      ]
     },
     "execution_count": 159,
     "metadata": {},
     "output_type": "execute_result"
    }
   ],
   "source": [
    "stamp.tz_localize('UTC')"
   ]
  },
  {
   "cell_type": "code",
   "execution_count": 162,
   "metadata": {
    "ExecuteTime": {
     "end_time": "2020-11-17T11:30:24.517825Z",
     "start_time": "2020-11-17T11:30:24.510435Z"
    }
   },
   "outputs": [
    {
     "data": {
      "text/plain": [
       "Timestamp('2011-03-12 12:00:00+0800', tz='Asia/Shanghai')"
      ]
     },
     "execution_count": 162,
     "metadata": {},
     "output_type": "execute_result"
    }
   ],
   "source": [
    "stamp.tz_localize('UTC').tz_convert('Asia/Shanghai')"
   ]
  },
  {
   "cell_type": "markdown",
   "metadata": {},
   "source": [
    "时区感知的TimeStamp对象**内部存储了一个Unix纪元(1970/01/01)至今的纳秒数量UTC时间戳数值**，**该数值在时区转换过程中是不变的**"
   ]
  },
  {
   "cell_type": "code",
   "execution_count": 163,
   "metadata": {
    "ExecuteTime": {
     "end_time": "2020-11-17T11:33:10.633469Z",
     "start_time": "2020-11-17T11:33:10.628346Z"
    }
   },
   "outputs": [
    {
     "data": {
      "text/plain": [
       "1299902400000000000"
      ]
     },
     "execution_count": 163,
     "metadata": {},
     "output_type": "execute_result"
    }
   ],
   "source": [
    "stamp.value"
   ]
  },
  {
   "cell_type": "code",
   "execution_count": 164,
   "metadata": {
    "ExecuteTime": {
     "end_time": "2020-11-17T11:33:18.850883Z",
     "start_time": "2020-11-17T11:33:18.844193Z"
    }
   },
   "outputs": [
    {
     "data": {
      "text/plain": [
       "1299902400000000000"
      ]
     },
     "execution_count": 164,
     "metadata": {},
     "output_type": "execute_result"
    }
   ],
   "source": [
    "stamp.tz_localize('UTC').value"
   ]
  },
  {
   "cell_type": "code",
   "execution_count": 165,
   "metadata": {
    "ExecuteTime": {
     "end_time": "2020-11-17T11:33:24.547347Z",
     "start_time": "2020-11-17T11:33:24.539901Z"
    }
   },
   "outputs": [
    {
     "data": {
      "text/plain": [
       "1299902400000000000"
      ]
     },
     "execution_count": 165,
     "metadata": {},
     "output_type": "execute_result"
    }
   ],
   "source": [
    "stamp.tz_localize('UTC').tz_convert('Asia/Shanghai').value"
   ]
  },
  {
   "cell_type": "markdown",
   "metadata": {},
   "source": [
    "在使用`DateOffset`进行算术运算时，`pandas`**尽可能遵从夏令时**"
   ]
  },
  {
   "cell_type": "code",
   "execution_count": 166,
   "metadata": {
    "ExecuteTime": {
     "end_time": "2020-11-17T11:35:02.532492Z",
     "start_time": "2020-11-17T11:35:02.526806Z"
    }
   },
   "outputs": [],
   "source": [
    "from pandas.tseries.offsets import Hour"
   ]
  },
  {
   "cell_type": "code",
   "execution_count": 168,
   "metadata": {
    "ExecuteTime": {
     "end_time": "2020-11-17T11:35:35.053425Z",
     "start_time": "2020-11-17T11:35:35.044947Z"
    }
   },
   "outputs": [
    {
     "data": {
      "text/plain": [
       "Timestamp('2012-03-12 01:30:00-0400', tz='US/Eastern')"
      ]
     },
     "execution_count": 168,
     "metadata": {},
     "output_type": "execute_result"
    }
   ],
   "source": [
    "stamp = pd.Timestamp('2012-03-12 01:30', tz='US/Eastern')\n",
    "stamp"
   ]
  },
  {
   "cell_type": "code",
   "execution_count": 169,
   "metadata": {
    "ExecuteTime": {
     "end_time": "2020-11-17T11:35:50.170891Z",
     "start_time": "2020-11-17T11:35:50.163944Z"
    }
   },
   "outputs": [
    {
     "data": {
      "text/plain": [
       "Timestamp('2012-03-12 02:30:00-0400', tz='US/Eastern')"
      ]
     },
     "execution_count": 169,
     "metadata": {},
     "output_type": "execute_result"
    }
   ],
   "source": [
    "stamp + Hour()"
   ]
  },
  {
   "cell_type": "code",
   "execution_count": 171,
   "metadata": {
    "ExecuteTime": {
     "end_time": "2020-11-17T11:36:55.778841Z",
     "start_time": "2020-11-17T11:36:55.772605Z"
    }
   },
   "outputs": [
    {
     "data": {
      "text/plain": [
       "Timestamp('2012-11-04 00:30:00-0400', tz='US/Eastern')"
      ]
     },
     "execution_count": 171,
     "metadata": {},
     "output_type": "execute_result"
    }
   ],
   "source": [
    "stamp = pd.Timestamp('2012-11-04 00:30', tz='US/Eastern')\n",
    "stamp\n"
   ]
  },
  {
   "cell_type": "code",
   "execution_count": 172,
   "metadata": {
    "ExecuteTime": {
     "end_time": "2020-11-17T11:36:57.840696Z",
     "start_time": "2020-11-17T11:36:57.831614Z"
    }
   },
   "outputs": [
    {
     "data": {
      "text/plain": [
       "Timestamp('2012-11-04 01:30:00-0500', tz='US/Eastern')"
      ]
     },
     "execution_count": 172,
     "metadata": {},
     "output_type": "execute_result"
    }
   ],
   "source": [
    "stamp + 2 * Hour()"
   ]
  },
  {
   "cell_type": "markdown",
   "metadata": {},
   "source": [
    "### 不同时区间的操作"
   ]
  },
  {
   "cell_type": "markdown",
   "metadata": {},
   "source": [
    "如果**两个时区不同的时间序列需要联合**， 那么结果将是`UTC`时间，由于时间戳以`UTC`格式存储， 这是一个简单操作，不需要转换"
   ]
  },
  {
   "cell_type": "code",
   "execution_count": null,
   "metadata": {},
   "outputs": [],
   "source": [
    "rng = pd.date_range('3/7/2012 9:30', periods=10, freq='B')\n",
    "ts = pd.Series(np.random.randn(len(rng)), index=rng)\n",
    "ts\n",
    "ts1 = ts[:7].tz_localize('Europe/London')\n",
    "ts2 = ts1[2:].tz_convert('Europe/Moscow')\n",
    "result = ts1 + ts2\n",
    "result.index"
   ]
  },
  {
   "cell_type": "code",
   "execution_count": 173,
   "metadata": {
    "ExecuteTime": {
     "end_time": "2020-11-17T11:45:10.783440Z",
     "start_time": "2020-11-17T11:45:10.770998Z"
    }
   },
   "outputs": [
    {
     "data": {
      "text/plain": [
       "2012-03-07 09:30:00    0.522356\n",
       "2012-03-08 09:30:00   -0.546348\n",
       "2012-03-09 09:30:00   -0.733537\n",
       "2012-03-12 09:30:00    1.302736\n",
       "2012-03-13 09:30:00    0.022199\n",
       "2012-03-14 09:30:00    0.364287\n",
       "2012-03-15 09:30:00   -0.922839\n",
       "2012-03-16 09:30:00    0.312656\n",
       "2012-03-19 09:30:00   -1.128497\n",
       "2012-03-20 09:30:00   -0.333488\n",
       "Freq: B, dtype: float64"
      ]
     },
     "execution_count": 173,
     "metadata": {},
     "output_type": "execute_result"
    }
   ],
   "source": [
    "rng = pd.date_range('3/7/2012 9:30', periods=10, freq='B')\n",
    "ts = pd.Series(np.random.randn(len(rng)), index=rng)\n",
    "ts"
   ]
  },
  {
   "cell_type": "code",
   "execution_count": 174,
   "metadata": {
    "ExecuteTime": {
     "end_time": "2020-11-17T11:45:16.027902Z",
     "start_time": "2020-11-17T11:45:16.019060Z"
    }
   },
   "outputs": [],
   "source": [
    "ts1 = ts[:7].tz_localize('Europe/London')"
   ]
  },
  {
   "cell_type": "code",
   "execution_count": 175,
   "metadata": {
    "ExecuteTime": {
     "end_time": "2020-11-17T11:45:21.465095Z",
     "start_time": "2020-11-17T11:45:21.459432Z"
    }
   },
   "outputs": [],
   "source": [
    "ts2 = ts1[2:].tz_convert('Europe/Moscow')"
   ]
  },
  {
   "cell_type": "code",
   "execution_count": 176,
   "metadata": {
    "ExecuteTime": {
     "end_time": "2020-11-17T11:45:26.713447Z",
     "start_time": "2020-11-17T11:45:26.706107Z"
    }
   },
   "outputs": [
    {
     "data": {
      "text/plain": [
       "2012-03-07 09:30:00+00:00    0.522356\n",
       "2012-03-08 09:30:00+00:00   -0.546348\n",
       "2012-03-09 09:30:00+00:00   -0.733537\n",
       "2012-03-12 09:30:00+00:00    1.302736\n",
       "2012-03-13 09:30:00+00:00    0.022199\n",
       "2012-03-14 09:30:00+00:00    0.364287\n",
       "2012-03-15 09:30:00+00:00   -0.922839\n",
       "dtype: float64"
      ]
     },
     "execution_count": 176,
     "metadata": {},
     "output_type": "execute_result"
    }
   ],
   "source": [
    "ts1"
   ]
  },
  {
   "cell_type": "code",
   "execution_count": 177,
   "metadata": {
    "ExecuteTime": {
     "end_time": "2020-11-17T11:45:30.115973Z",
     "start_time": "2020-11-17T11:45:30.106585Z"
    }
   },
   "outputs": [
    {
     "data": {
      "text/plain": [
       "2012-03-09 13:30:00+04:00   -0.733537\n",
       "2012-03-12 13:30:00+04:00    1.302736\n",
       "2012-03-13 13:30:00+04:00    0.022199\n",
       "2012-03-14 13:30:00+04:00    0.364287\n",
       "2012-03-15 13:30:00+04:00   -0.922839\n",
       "dtype: float64"
      ]
     },
     "execution_count": 177,
     "metadata": {},
     "output_type": "execute_result"
    }
   ],
   "source": [
    "ts2"
   ]
  },
  {
   "cell_type": "code",
   "execution_count": 178,
   "metadata": {
    "ExecuteTime": {
     "end_time": "2020-11-17T11:45:37.063779Z",
     "start_time": "2020-11-17T11:45:37.058787Z"
    }
   },
   "outputs": [],
   "source": [
    "result = ts1 + ts2"
   ]
  },
  {
   "cell_type": "code",
   "execution_count": 179,
   "metadata": {
    "ExecuteTime": {
     "end_time": "2020-11-17T11:45:40.930499Z",
     "start_time": "2020-11-17T11:45:40.922394Z"
    }
   },
   "outputs": [
    {
     "data": {
      "text/plain": [
       "2012-03-07 09:30:00+00:00         NaN\n",
       "2012-03-08 09:30:00+00:00         NaN\n",
       "2012-03-09 09:30:00+00:00   -1.467074\n",
       "2012-03-12 09:30:00+00:00    2.605472\n",
       "2012-03-13 09:30:00+00:00    0.044397\n",
       "2012-03-14 09:30:00+00:00    0.728575\n",
       "2012-03-15 09:30:00+00:00   -1.845677\n",
       "dtype: float64"
      ]
     },
     "execution_count": 179,
     "metadata": {},
     "output_type": "execute_result"
    }
   ],
   "source": [
    "result"
   ]
  },
  {
   "cell_type": "markdown",
   "metadata": {},
   "source": [
    "## 时间区间和区间算术"
   ]
  },
  {
   "cell_type": "markdown",
   "metadata": {},
   "source": [
    "**时间区间**表示的是**时间范围**， 例如 一些天，一些月，一些季度或者是一些年， **`Period`类表示的正是这些数据类型**， 需要一个字符串，或数字以及频率"
   ]
  },
  {
   "cell_type": "code",
   "execution_count": 180,
   "metadata": {
    "ExecuteTime": {
     "end_time": "2020-11-17T13:15:28.507702Z",
     "start_time": "2020-11-17T13:15:28.499060Z"
    }
   },
   "outputs": [],
   "source": [
    "pd.Period?"
   ]
  },
  {
   "cell_type": "code",
   "execution_count": 181,
   "metadata": {
    "ExecuteTime": {
     "end_time": "2020-11-17T13:16:56.350396Z",
     "start_time": "2020-11-17T13:16:56.342606Z"
    }
   },
   "outputs": [
    {
     "data": {
      "text/plain": [
       "Period('2007', 'A-DEC')"
      ]
     },
     "execution_count": 181,
     "metadata": {},
     "output_type": "execute_result"
    }
   ],
   "source": [
    "p = pd.Period(2007, freq='A-DEC')\n",
    "p"
   ]
  },
  {
   "cell_type": "code",
   "execution_count": 182,
   "metadata": {
    "ExecuteTime": {
     "end_time": "2020-11-17T13:18:12.468804Z",
     "start_time": "2020-11-17T13:18:12.462808Z"
    }
   },
   "outputs": [
    {
     "data": {
      "text/plain": [
       "Period('2012', 'A-DEC')"
      ]
     },
     "execution_count": 182,
     "metadata": {},
     "output_type": "execute_result"
    }
   ],
   "source": [
    "p + 5"
   ]
  },
  {
   "cell_type": "code",
   "execution_count": 183,
   "metadata": {
    "ExecuteTime": {
     "end_time": "2020-11-17T13:18:18.437642Z",
     "start_time": "2020-11-17T13:18:18.430846Z"
    }
   },
   "outputs": [
    {
     "data": {
      "text/plain": [
       "Period('2000', 'A-DEC')"
      ]
     },
     "execution_count": 183,
     "metadata": {},
     "output_type": "execute_result"
    }
   ],
   "source": [
    "p - 7"
   ]
  },
  {
   "cell_type": "markdown",
   "metadata": {},
   "source": [
    "**在时间段上增加或减去整数可以方便的根据他们的频率进行移位**"
   ]
  },
  {
   "cell_type": "code",
   "execution_count": 184,
   "metadata": {
    "ExecuteTime": {
     "end_time": "2020-11-17T13:19:30.102696Z",
     "start_time": "2020-11-17T13:19:30.094530Z"
    }
   },
   "outputs": [
    {
     "data": {
      "text/plain": [
       "<10 * YearEnds: month=12>"
      ]
     },
     "execution_count": 184,
     "metadata": {},
     "output_type": "execute_result"
    }
   ],
   "source": [
    "pd.Period(2017, freq='A-DEC') -  p\n"
   ]
  },
  {
   "cell_type": "code",
   "execution_count": 196,
   "metadata": {
    "ExecuteTime": {
     "end_time": "2020-11-17T13:27:26.786490Z",
     "start_time": "2020-11-17T13:27:26.780571Z"
    }
   },
   "outputs": [
    {
     "data": {
      "text/plain": [
       "47"
      ]
     },
     "execution_count": 196,
     "metadata": {},
     "output_type": "execute_result"
    }
   ],
   "source": [
    "pd.Period(2017, freq='A-DEC').ordinal"
   ]
  },
  {
   "cell_type": "code",
   "execution_count": 185,
   "metadata": {
    "ExecuteTime": {
     "end_time": "2020-11-17T13:20:42.296141Z",
     "start_time": "2020-11-17T13:20:42.287599Z"
    }
   },
   "outputs": [
    {
     "data": {
      "text/plain": [
       "<7 * YearEnds: month=11>"
      ]
     },
     "execution_count": 185,
     "metadata": {},
     "output_type": "execute_result"
    }
   ],
   "source": [
    "pd.Period(2007, freq='A-NOV') - pd.Period(2000, freq='A-NOV')\n"
   ]
  },
  {
   "cell_type": "code",
   "execution_count": 186,
   "metadata": {
    "ExecuteTime": {
     "end_time": "2020-11-17T13:21:26.430491Z",
     "start_time": "2020-11-17T13:21:26.422937Z"
    }
   },
   "outputs": [],
   "source": [
    "rng = pd.period_range?"
   ]
  },
  {
   "cell_type": "code",
   "execution_count": 188,
   "metadata": {
    "ExecuteTime": {
     "end_time": "2020-11-17T13:22:25.656718Z",
     "start_time": "2020-11-17T13:22:25.647768Z"
    }
   },
   "outputs": [
    {
     "data": {
      "text/plain": [
       "PeriodIndex(['2000-01', '2000-02', '2000-03', '2000-04', '2000-05', '2000-06'], dtype='period[M]', freq='M')"
      ]
     },
     "execution_count": 188,
     "metadata": {},
     "output_type": "execute_result"
    }
   ],
   "source": [
    "rng = pd.period_range('2000-01-01', '2000-06-30',  freq='M')\n",
    "rng"
   ]
  },
  {
   "cell_type": "code",
   "execution_count": 191,
   "metadata": {
    "ExecuteTime": {
     "end_time": "2020-11-17T13:22:57.340310Z",
     "start_time": "2020-11-17T13:22:57.334233Z"
    }
   },
   "outputs": [
    {
     "data": {
      "text/plain": [
       "pandas._libs.tslibs.period.Period"
      ]
     },
     "execution_count": 191,
     "metadata": {},
     "output_type": "execute_result"
    }
   ],
   "source": [
    "type(rng[1])"
   ]
  },
  {
   "cell_type": "code",
   "execution_count": 192,
   "metadata": {
    "ExecuteTime": {
     "end_time": "2020-11-17T13:23:56.215856Z",
     "start_time": "2020-11-17T13:23:56.206389Z"
    },
    "scrolled": true
   },
   "outputs": [
    {
     "data": {
      "text/plain": [
       "2000-01   -0.514551\n",
       "2000-02   -0.559782\n",
       "2000-03   -0.783408\n",
       "2000-04   -1.797685\n",
       "2000-05   -0.172670\n",
       "2000-06    0.680215\n",
       "Freq: M, dtype: float64"
      ]
     },
     "execution_count": 192,
     "metadata": {},
     "output_type": "execute_result"
    }
   ],
   "source": [
    "pd.Series( np.random.randn(len(rng)) ,index=rng)"
   ]
  },
  {
   "cell_type": "code",
   "execution_count": 194,
   "metadata": {
    "ExecuteTime": {
     "end_time": "2020-11-17T13:26:01.559598Z",
     "start_time": "2020-11-17T13:26:01.550516Z"
    }
   },
   "outputs": [
    {
     "data": {
      "text/plain": [
       "PeriodIndex(['2001Q3', '2002Q2', '2003Q1'], dtype='period[Q-DEC]', freq='Q-DEC')"
      ]
     },
     "execution_count": 194,
     "metadata": {},
     "output_type": "execute_result"
    }
   ],
   "source": [
    "values = ['2001Q3', '2002Q2', '2003Q1']\n",
    "index = pd.PeriodIndex(values, freq='Q-DEC')\n",
    "index"
   ]
  },
  {
   "cell_type": "markdown",
   "metadata": {},
   "source": [
    "### 区间频率转换"
   ]
  },
  {
   "cell_type": "markdown",
   "metadata": {},
   "source": [
    "使用`asfreq`可以**将`区间`和`PeriodIndex`对象的频率转换为其他频率**"
   ]
  },
  {
   "cell_type": "code",
   "execution_count": 197,
   "metadata": {
    "ExecuteTime": {
     "end_time": "2020-11-17T13:49:18.095976Z",
     "start_time": "2020-11-17T13:49:18.087352Z"
    }
   },
   "outputs": [
    {
     "data": {
      "text/plain": [
       "Period('2007', 'A-DEC')"
      ]
     },
     "execution_count": 197,
     "metadata": {},
     "output_type": "execute_result"
    }
   ],
   "source": [
    "p = pd.Period('2007', freq='A-DEC')\n",
    "p"
   ]
  },
  {
   "cell_type": "code",
   "execution_count": 199,
   "metadata": {
    "ExecuteTime": {
     "end_time": "2020-11-17T13:49:59.017688Z",
     "start_time": "2020-11-17T13:49:59.011033Z"
    }
   },
   "outputs": [
    {
     "data": {
      "text/plain": [
       "Period('2007-01', 'M')"
      ]
     },
     "execution_count": 199,
     "metadata": {},
     "output_type": "execute_result"
    }
   ],
   "source": [
    "p.asfreq('M', how='start')"
   ]
  },
  {
   "cell_type": "code",
   "execution_count": 200,
   "metadata": {
    "ExecuteTime": {
     "end_time": "2020-11-17T13:50:03.624263Z",
     "start_time": "2020-11-17T13:50:03.617368Z"
    }
   },
   "outputs": [
    {
     "data": {
      "text/plain": [
       "Period('2007-12', 'M')"
      ]
     },
     "execution_count": 200,
     "metadata": {},
     "output_type": "execute_result"
    }
   ],
   "source": [
    "p.asfreq('M', how='end')"
   ]
  },
  {
   "cell_type": "code",
   "execution_count": 201,
   "metadata": {
    "ExecuteTime": {
     "end_time": "2020-11-17T13:55:19.832778Z",
     "start_time": "2020-11-17T13:55:19.825747Z"
    }
   },
   "outputs": [
    {
     "data": {
      "text/plain": [
       "Period('2007', 'A-JUN')"
      ]
     },
     "execution_count": 201,
     "metadata": {},
     "output_type": "execute_result"
    }
   ],
   "source": [
    "p = pd.Period('2007', freq='A-JUN')\n",
    "p"
   ]
  },
  {
   "cell_type": "code",
   "execution_count": 202,
   "metadata": {
    "ExecuteTime": {
     "end_time": "2020-11-17T14:00:39.555289Z",
     "start_time": "2020-11-17T14:00:39.548714Z"
    }
   },
   "outputs": [
    {
     "data": {
      "text/plain": [
       "Period('2007-06', 'M')"
      ]
     },
     "execution_count": 202,
     "metadata": {},
     "output_type": "execute_result"
    }
   ],
   "source": [
    "p.asfreq('M', how='end')"
   ]
  },
  {
   "cell_type": "code",
   "execution_count": 203,
   "metadata": {
    "ExecuteTime": {
     "end_time": "2020-11-17T14:00:45.054502Z",
     "start_time": "2020-11-17T14:00:45.048933Z"
    }
   },
   "outputs": [
    {
     "data": {
      "text/plain": [
       "Period('2006-07', 'M')"
      ]
     },
     "execution_count": 203,
     "metadata": {},
     "output_type": "execute_result"
    }
   ],
   "source": [
    "p.asfreq('M', how='start')"
   ]
  },
  {
   "cell_type": "markdown",
   "metadata": {},
   "source": [
    "![属于哪一年](https://gitee.com/zhao_long/image-store/raw/master/img/20201117215808.png)"
   ]
  },
  {
   "cell_type": "markdown",
   "metadata": {},
   "source": [
    "从高频向低频转换时，**pandas根据子区间所属来决定负区间** ,有月--》年"
   ]
  },
  {
   "cell_type": "code",
   "execution_count": 204,
   "metadata": {
    "ExecuteTime": {
     "end_time": "2020-11-17T14:02:21.814960Z",
     "start_time": "2020-11-17T14:02:21.807862Z"
    }
   },
   "outputs": [
    {
     "data": {
      "text/plain": [
       "Period('2007-08', 'M')"
      ]
     },
     "execution_count": 204,
     "metadata": {},
     "output_type": "execute_result"
    }
   ],
   "source": [
    "p = pd.Period('2007-08', 'M')\n",
    "p"
   ]
  },
  {
   "cell_type": "code",
   "execution_count": 205,
   "metadata": {
    "ExecuteTime": {
     "end_time": "2020-11-17T14:02:33.222043Z",
     "start_time": "2020-11-17T14:02:33.215788Z"
    }
   },
   "outputs": [
    {
     "data": {
      "text/plain": [
       "Period('2008', 'A-JUN')"
      ]
     },
     "execution_count": 205,
     "metadata": {},
     "output_type": "execute_result"
    }
   ],
   "source": [
    "p.asfreq('A-JUN')"
   ]
  },
  {
   "cell_type": "markdown",
   "metadata": {},
   "source": [
    "![](https://gitee.com/zhao_long/image-store/raw/master/img/20201117220454.png)"
   ]
  },
  {
   "cell_type": "code",
   "execution_count": 207,
   "metadata": {
    "ExecuteTime": {
     "end_time": "2020-11-17T14:07:05.352549Z",
     "start_time": "2020-11-17T14:07:05.343494Z"
    }
   },
   "outputs": [
    {
     "data": {
      "text/plain": [
       "PeriodIndex(['2006', '2007', '2008', '2009'], dtype='period[A-DEC]', freq='A-DEC')"
      ]
     },
     "execution_count": 207,
     "metadata": {},
     "output_type": "execute_result"
    }
   ],
   "source": [
    "rng = pd.period_range('2006', '2009', freq='A-DEC')\n",
    "rng"
   ]
  },
  {
   "cell_type": "code",
   "execution_count": 208,
   "metadata": {
    "ExecuteTime": {
     "end_time": "2020-11-17T14:07:10.166724Z",
     "start_time": "2020-11-17T14:07:10.160583Z"
    }
   },
   "outputs": [
    {
     "data": {
      "text/plain": [
       "[Period('2006', 'A-DEC'),\n",
       " Period('2007', 'A-DEC'),\n",
       " Period('2008', 'A-DEC'),\n",
       " Period('2009', 'A-DEC')]"
      ]
     },
     "execution_count": 208,
     "metadata": {},
     "output_type": "execute_result"
    }
   ],
   "source": [
    "list(rng)"
   ]
  },
  {
   "cell_type": "code",
   "execution_count": 209,
   "metadata": {
    "ExecuteTime": {
     "end_time": "2020-11-17T14:07:45.023217Z",
     "start_time": "2020-11-17T14:07:45.014996Z"
    }
   },
   "outputs": [
    {
     "data": {
      "text/plain": [
       "2006    1.607578\n",
       "2007    0.200381\n",
       "2008   -0.834068\n",
       "2009   -0.302988\n",
       "Freq: A-DEC, dtype: float64"
      ]
     },
     "execution_count": 209,
     "metadata": {},
     "output_type": "execute_result"
    }
   ],
   "source": [
    "ts = pd.Series(np.random.randn(len(rng)), index=rng)\n",
    "ts"
   ]
  },
  {
   "cell_type": "code",
   "execution_count": 210,
   "metadata": {
    "ExecuteTime": {
     "end_time": "2020-11-17T14:07:58.282390Z",
     "start_time": "2020-11-17T14:07:58.271845Z"
    }
   },
   "outputs": [
    {
     "data": {
      "text/plain": [
       "2006-12    1.607578\n",
       "2007-12    0.200381\n",
       "2008-12   -0.834068\n",
       "2009-12   -0.302988\n",
       "Freq: M, dtype: float64"
      ]
     },
     "execution_count": 210,
     "metadata": {},
     "output_type": "execute_result"
    }
   ],
   "source": [
    "ts.asfreq('M')"
   ]
  },
  {
   "cell_type": "code",
   "execution_count": 211,
   "metadata": {
    "ExecuteTime": {
     "end_time": "2020-11-17T14:08:04.368293Z",
     "start_time": "2020-11-17T14:08:04.359878Z"
    }
   },
   "outputs": [
    {
     "data": {
      "text/plain": [
       "2006-12-29    1.607578\n",
       "2007-12-31    0.200381\n",
       "2008-12-31   -0.834068\n",
       "2009-12-31   -0.302988\n",
       "Freq: B, dtype: float64"
      ]
     },
     "execution_count": 211,
     "metadata": {},
     "output_type": "execute_result"
    }
   ],
   "source": [
    "ts.asfreq('B')"
   ]
  },
  {
   "cell_type": "markdown",
   "metadata": {},
   "source": [
    "### 季度区间频率"
   ]
  },
  {
   "cell_type": "markdown",
   "metadata": {},
   "source": [
    "**季度数据是会计，金融和其他领域的标准**，很多季度数据是在 **财年结尾**报告的， **通常是一年12个月中的最后一个日历日或工作日**"
   ]
  },
  {
   "cell_type": "markdown",
   "metadata": {},
   "source": [
    "由于是财年结尾，区间2012Q4有着不同的意义， pandas支持所有的可能的12个季度频率从`Q-JAN`到`Q-DEC`"
   ]
  },
  {
   "cell_type": "markdown",
   "metadata": {},
   "source": [
    "![2012Q4](https://gitee.com/zhao_long/image-store/raw/master/img/20201118082302.png)"
   ]
  },
  {
   "cell_type": "code",
   "execution_count": 212,
   "metadata": {
    "ExecuteTime": {
     "end_time": "2020-11-18T00:07:01.611879Z",
     "start_time": "2020-11-18T00:07:01.601015Z"
    }
   },
   "outputs": [
    {
     "data": {
      "text/plain": [
       "Period('2012Q4', 'Q-JAN')"
      ]
     },
     "execution_count": 212,
     "metadata": {},
     "output_type": "execute_result"
    }
   ],
   "source": [
    "p = pd.Period('2012Q4', freq='Q-JAN')\n",
    "p "
   ]
  },
  {
   "cell_type": "code",
   "execution_count": 213,
   "metadata": {
    "ExecuteTime": {
     "end_time": "2020-11-18T00:07:46.701380Z",
     "start_time": "2020-11-18T00:07:46.693088Z"
    }
   },
   "outputs": [
    {
     "data": {
      "text/plain": [
       "Period('2012-01-31', 'D')"
      ]
     },
     "execution_count": 213,
     "metadata": {},
     "output_type": "execute_result"
    }
   ],
   "source": [
    "p.asfreq('D')"
   ]
  },
  {
   "cell_type": "code",
   "execution_count": 214,
   "metadata": {
    "ExecuteTime": {
     "end_time": "2020-11-18T00:07:55.814060Z",
     "start_time": "2020-11-18T00:07:55.804484Z"
    }
   },
   "outputs": [
    {
     "data": {
      "text/plain": [
       "Period('2011-11-01', 'D')"
      ]
     },
     "execution_count": 214,
     "metadata": {},
     "output_type": "execute_result"
    }
   ],
   "source": [
    "p.asfreq('D', how='start')"
   ]
  },
  {
   "cell_type": "markdown",
   "metadata": {},
   "source": [
    "做简单的区间算术也是可行的"
   ]
  },
  {
   "cell_type": "code",
   "execution_count": 216,
   "metadata": {
    "ExecuteTime": {
     "end_time": "2020-11-18T00:11:17.410528Z",
     "start_time": "2020-11-18T00:11:17.404197Z"
    }
   },
   "outputs": [
    {
     "data": {
      "text/plain": [
       "Period('2012-01-30', 'B')"
      ]
     },
     "execution_count": 216,
     "metadata": {},
     "output_type": "execute_result"
    }
   ],
   "source": [
    "p.asfreq('B', 'e') - 1 "
   ]
  },
  {
   "cell_type": "code",
   "execution_count": 218,
   "metadata": {
    "ExecuteTime": {
     "end_time": "2020-11-18T00:11:59.264494Z",
     "start_time": "2020-11-18T00:11:59.260367Z"
    }
   },
   "outputs": [],
   "source": [
    "p4pm = (p.asfreq('B', 'e') -  1 ).asfreq('T', 's') + 16 * 60 # freq = min"
   ]
  },
  {
   "cell_type": "code",
   "execution_count": 219,
   "metadata": {
    "ExecuteTime": {
     "end_time": "2020-11-18T00:12:05.594468Z",
     "start_time": "2020-11-18T00:12:05.588466Z"
    }
   },
   "outputs": [
    {
     "data": {
      "text/plain": [
       "Period('2012-01-30 16:00', 'T')"
      ]
     },
     "execution_count": 219,
     "metadata": {},
     "output_type": "execute_result"
    }
   ],
   "source": [
    "p4pm"
   ]
  },
  {
   "cell_type": "code",
   "execution_count": 220,
   "metadata": {
    "ExecuteTime": {
     "end_time": "2020-11-18T00:13:03.882289Z",
     "start_time": "2020-11-18T00:13:03.876282Z"
    }
   },
   "outputs": [
    {
     "data": {
      "text/plain": [
       "Period('2012Q4', 'Q-JAN')"
      ]
     },
     "execution_count": 220,
     "metadata": {},
     "output_type": "execute_result"
    }
   ],
   "source": [
    "p"
   ]
  },
  {
   "cell_type": "code",
   "execution_count": 221,
   "metadata": {
    "ExecuteTime": {
     "end_time": "2020-11-18T00:13:09.650066Z",
     "start_time": "2020-11-18T00:13:09.643804Z"
    }
   },
   "outputs": [
    {
     "data": {
      "text/plain": [
       "Period('2013Q1', 'Q-JAN')"
      ]
     },
     "execution_count": 221,
     "metadata": {},
     "output_type": "execute_result"
    }
   ],
   "source": [
    "p + 1"
   ]
  },
  {
   "cell_type": "code",
   "execution_count": 222,
   "metadata": {
    "ExecuteTime": {
     "end_time": "2020-11-18T00:14:04.161717Z",
     "start_time": "2020-11-18T00:14:04.142642Z"
    }
   },
   "outputs": [
    {
     "data": {
      "text/plain": [
       "PeriodIndex(['2011Q3', '2011Q4', '2012Q1', '2012Q2', '2012Q3', '2012Q4'], dtype='period[Q-JAN]', freq='Q-JAN')"
      ]
     },
     "execution_count": 222,
     "metadata": {},
     "output_type": "execute_result"
    }
   ],
   "source": [
    "rng = pd.period_range( '2011Q3', '2012Q4', freq='Q-JAN')\n",
    "rng"
   ]
  },
  {
   "cell_type": "code",
   "execution_count": 223,
   "metadata": {
    "ExecuteTime": {
     "end_time": "2020-11-18T00:14:36.307472Z",
     "start_time": "2020-11-18T00:14:36.299639Z"
    }
   },
   "outputs": [
    {
     "data": {
      "text/plain": [
       "2011Q3    0\n",
       "2011Q4    1\n",
       "2012Q1    2\n",
       "2012Q2    3\n",
       "2012Q3    4\n",
       "2012Q4    5\n",
       "Freq: Q-JAN, dtype: int64"
      ]
     },
     "execution_count": 223,
     "metadata": {},
     "output_type": "execute_result"
    }
   ],
   "source": [
    "ts = pd.Series( np.arange(len(rng)), index=rng )\n",
    "ts "
   ]
  },
  {
   "cell_type": "code",
   "execution_count": 224,
   "metadata": {
    "ExecuteTime": {
     "end_time": "2020-11-18T00:15:07.827212Z",
     "start_time": "2020-11-18T00:15:07.821130Z"
    }
   },
   "outputs": [],
   "source": [
    "new_rng  = (rng.asfreq('B', 'e') -  1 ).asfreq('T', 's') + 16 * 60"
   ]
  },
  {
   "cell_type": "code",
   "execution_count": 225,
   "metadata": {
    "ExecuteTime": {
     "end_time": "2020-11-18T00:15:21.484965Z",
     "start_time": "2020-11-18T00:15:21.477067Z"
    }
   },
   "outputs": [
    {
     "data": {
      "text/plain": [
       "2010-10-28 16:00    0\n",
       "2011-01-28 16:00    1\n",
       "2011-04-28 16:00    2\n",
       "2011-07-28 16:00    3\n",
       "2011-10-28 16:00    4\n",
       "2012-01-30 16:00    5\n",
       "Freq: T, dtype: int64"
      ]
     },
     "execution_count": 225,
     "metadata": {},
     "output_type": "execute_result"
    }
   ],
   "source": [
    "ts.index = new_rng\n",
    "ts "
   ]
  },
  {
   "cell_type": "code",
   "execution_count": 226,
   "metadata": {
    "ExecuteTime": {
     "end_time": "2020-11-18T00:15:55.018888Z",
     "start_time": "2020-11-18T00:15:55.011875Z"
    }
   },
   "outputs": [
    {
     "data": {
      "text/plain": [
       "pandas._libs.tslibs.period.Period"
      ]
     },
     "execution_count": 226,
     "metadata": {},
     "output_type": "execute_result"
    }
   ],
   "source": [
    "type(ts.index[1])"
   ]
  },
  {
   "cell_type": "code",
   "execution_count": 227,
   "metadata": {
    "ExecuteTime": {
     "end_time": "2020-11-18T00:16:06.024811Z",
     "start_time": "2020-11-18T00:16:06.019222Z"
    }
   },
   "outputs": [],
   "source": [
    "ts.index = new_rng.to_timestamp()"
   ]
  },
  {
   "cell_type": "code",
   "execution_count": 228,
   "metadata": {
    "ExecuteTime": {
     "end_time": "2020-11-18T00:16:10.718315Z",
     "start_time": "2020-11-18T00:16:10.710049Z"
    }
   },
   "outputs": [
    {
     "data": {
      "text/plain": [
       "2010-10-28 16:00:00    0\n",
       "2011-01-28 16:00:00    1\n",
       "2011-04-28 16:00:00    2\n",
       "2011-07-28 16:00:00    3\n",
       "2011-10-28 16:00:00    4\n",
       "2012-01-30 16:00:00    5\n",
       "dtype: int64"
      ]
     },
     "execution_count": 228,
     "metadata": {},
     "output_type": "execute_result"
    }
   ],
   "source": [
    "ts"
   ]
  },
  {
   "cell_type": "code",
   "execution_count": 229,
   "metadata": {
    "ExecuteTime": {
     "end_time": "2020-11-18T00:17:02.649246Z",
     "start_time": "2020-11-18T00:17:02.642745Z"
    },
    "scrolled": true
   },
   "outputs": [
    {
     "data": {
      "text/plain": [
       "pandas._libs.tslibs.timestamps.Timestamp"
      ]
     },
     "execution_count": 229,
     "metadata": {},
     "output_type": "execute_result"
    }
   ],
   "source": [
    "type(ts.index[1])"
   ]
  },
  {
   "cell_type": "markdown",
   "metadata": {},
   "source": [
    "### 将时间戳转换为区间（以及逆转换）"
   ]
  },
  {
   "cell_type": "markdown",
   "metadata": {},
   "source": [
    "通过时间戳索引的`Series`和`DataFrame`可以被`to_period`方法转换为区间"
   ]
  },
  {
   "cell_type": "code",
   "execution_count": 230,
   "metadata": {
    "ExecuteTime": {
     "end_time": "2020-11-18T00:33:35.783164Z",
     "start_time": "2020-11-18T00:33:35.775963Z"
    }
   },
   "outputs": [
    {
     "data": {
      "text/plain": [
       "DatetimeIndex(['2000-01-31', '2000-02-29', '2000-03-31'], dtype='datetime64[ns]', freq='M')"
      ]
     },
     "execution_count": 230,
     "metadata": {},
     "output_type": "execute_result"
    }
   ],
   "source": [
    "rng = pd.date_range( '2000-01-01', periods=3, freq='M' )\n",
    "rng"
   ]
  },
  {
   "cell_type": "code",
   "execution_count": 231,
   "metadata": {
    "ExecuteTime": {
     "end_time": "2020-11-18T00:33:45.521622Z",
     "start_time": "2020-11-18T00:33:45.514031Z"
    }
   },
   "outputs": [
    {
     "data": {
      "text/plain": [
       "PeriodIndex(['2000-01', '2000-02', '2000-03'], dtype='period[M]', freq='M')"
      ]
     },
     "execution_count": 231,
     "metadata": {},
     "output_type": "execute_result"
    }
   ],
   "source": [
    "rng.to_period()"
   ]
  },
  {
   "cell_type": "markdown",
   "metadata": {},
   "source": [
    "由于**区间是非重叠时间范围，一个时间戳只能属于给定频率的单个区间**， 尽管默认情况下**根据时间戳推断出新PeriodIndex的频率**，但也可以指定任何想要的频率，结果中包含重复的区间也是可以的"
   ]
  },
  {
   "cell_type": "code",
   "execution_count": 235,
   "metadata": {
    "ExecuteTime": {
     "end_time": "2020-11-18T00:37:01.555373Z",
     "start_time": "2020-11-18T00:37:01.545356Z"
    }
   },
   "outputs": [
    {
     "data": {
      "text/plain": [
       "PeriodIndex(['2000-01-31', '2000-02-29', '2000-03-31'], dtype='period[D]', freq='D')"
      ]
     },
     "execution_count": 235,
     "metadata": {},
     "output_type": "execute_result"
    }
   ],
   "source": [
    "rng.to_period(freq='D')"
   ]
  },
  {
   "cell_type": "code",
   "execution_count": 236,
   "metadata": {
    "ExecuteTime": {
     "end_time": "2020-11-18T00:37:07.918882Z",
     "start_time": "2020-11-18T00:37:07.912852Z"
    }
   },
   "outputs": [
    {
     "data": {
      "text/plain": [
       "PeriodIndex(['2000', '2000', '2000'], dtype='period[A-DEC]', freq='A-DEC')"
      ]
     },
     "execution_count": 236,
     "metadata": {},
     "output_type": "execute_result"
    }
   ],
   "source": [
    "rng.to_period(freq='Y')"
   ]
  },
  {
   "cell_type": "code",
   "execution_count": 239,
   "metadata": {
    "ExecuteTime": {
     "end_time": "2020-11-18T00:37:28.687394Z",
     "start_time": "2020-11-18T00:37:28.680914Z"
    }
   },
   "outputs": [
    {
     "data": {
      "text/plain": [
       "PeriodIndex(['2000Q4', '2001Q1', '2001Q1'], dtype='period[Q-JAN]', freq='Q-JAN')"
      ]
     },
     "execution_count": 239,
     "metadata": {},
     "output_type": "execute_result"
    }
   ],
   "source": [
    "rng.to_period(freq='Q-JAN')"
   ]
  },
  {
   "cell_type": "markdown",
   "metadata": {},
   "source": [
    "使用`to_timestamp`可以将区间转换为时间戳"
   ]
  },
  {
   "cell_type": "code",
   "execution_count": 243,
   "metadata": {
    "ExecuteTime": {
     "end_time": "2020-11-18T00:39:49.015827Z",
     "start_time": "2020-11-18T00:39:49.008328Z"
    }
   },
   "outputs": [
    {
     "data": {
      "text/plain": [
       "DatetimeIndex(['1999-11-01', '2000-02-01', '2000-02-01'], dtype='datetime64[ns]', freq=None)"
      ]
     },
     "execution_count": 243,
     "metadata": {},
     "output_type": "execute_result"
    }
   ],
   "source": [
    "rng.to_period(freq='Q-JAN').to_timestamp()"
   ]
  },
  {
   "cell_type": "code",
   "execution_count": 246,
   "metadata": {
    "ExecuteTime": {
     "end_time": "2020-11-18T00:40:37.872976Z",
     "start_time": "2020-11-18T00:40:37.863732Z"
    }
   },
   "outputs": [
    {
     "data": {
      "text/plain": [
       "DatetimeIndex(['2000-12-31 23:59:59.999999999',\n",
       "               '2000-12-31 23:59:59.999999999',\n",
       "               '2000-12-31 23:59:59.999999999'],\n",
       "              dtype='datetime64[ns]', freq=None)"
      ]
     },
     "execution_count": 246,
     "metadata": {},
     "output_type": "execute_result"
    }
   ],
   "source": [
    "rng.to_period(freq='Y').to_timestamp(freq='D', how='end')"
   ]
  },
  {
   "cell_type": "code",
   "execution_count": 252,
   "metadata": {
    "ExecuteTime": {
     "end_time": "2020-11-18T00:41:37.113740Z",
     "start_time": "2020-11-18T00:41:37.104087Z"
    },
    "scrolled": true
   },
   "outputs": [
    {
     "data": {
      "text/plain": [
       "DatetimeIndex(['2000-01-01 23:59:59.999999999',\n",
       "               '2000-01-01 23:59:59.999999999',\n",
       "               '2000-01-01 23:59:59.999999999'],\n",
       "              dtype='datetime64[ns]', freq=None)"
      ]
     },
     "execution_count": 252,
     "metadata": {},
     "output_type": "execute_result"
    }
   ],
   "source": [
    "rng.to_period(freq='Y').to_timestamp(freq='B', how='end')"
   ]
  },
  {
   "cell_type": "markdown",
   "metadata": {},
   "source": [
    "### 从数组生成PeriodIndex"
   ]
  },
  {
   "cell_type": "markdown",
   "metadata": {},
   "source": [
    "**固定频率的数据集有时存储在跨越多列的时间范围信息中**"
   ]
  },
  {
   "cell_type": "code",
   "execution_count": 255,
   "metadata": {
    "ExecuteTime": {
     "end_time": "2020-11-18T00:47:17.430207Z",
     "start_time": "2020-11-18T00:47:17.322378Z"
    }
   },
   "outputs": [
    {
     "data": {
      "text/html": [
       "<div>\n",
       "<style scoped>\n",
       "    .dataframe tbody tr th:only-of-type {\n",
       "        vertical-align: middle;\n",
       "    }\n",
       "\n",
       "    .dataframe tbody tr th {\n",
       "        vertical-align: top;\n",
       "    }\n",
       "\n",
       "    .dataframe thead th {\n",
       "        text-align: right;\n",
       "    }\n",
       "</style>\n",
       "<table border=\"1\" class=\"dataframe\">\n",
       "  <thead>\n",
       "    <tr style=\"text-align: right;\">\n",
       "      <th></th>\n",
       "      <th>year</th>\n",
       "      <th>quarter</th>\n",
       "      <th>realgdp</th>\n",
       "      <th>realcons</th>\n",
       "      <th>realinv</th>\n",
       "      <th>realgovt</th>\n",
       "      <th>realdpi</th>\n",
       "      <th>cpi</th>\n",
       "      <th>m1</th>\n",
       "      <th>tbilrate</th>\n",
       "      <th>unemp</th>\n",
       "      <th>pop</th>\n",
       "      <th>infl</th>\n",
       "      <th>realint</th>\n",
       "    </tr>\n",
       "  </thead>\n",
       "  <tbody>\n",
       "    <tr>\n",
       "      <th>0</th>\n",
       "      <td>1959.0</td>\n",
       "      <td>1.0</td>\n",
       "      <td>2710.349</td>\n",
       "      <td>1707.4</td>\n",
       "      <td>286.898</td>\n",
       "      <td>470.045</td>\n",
       "      <td>1886.9</td>\n",
       "      <td>28.980</td>\n",
       "      <td>139.7</td>\n",
       "      <td>2.82</td>\n",
       "      <td>5.8</td>\n",
       "      <td>177.146</td>\n",
       "      <td>0.00</td>\n",
       "      <td>0.00</td>\n",
       "    </tr>\n",
       "    <tr>\n",
       "      <th>1</th>\n",
       "      <td>1959.0</td>\n",
       "      <td>2.0</td>\n",
       "      <td>2778.801</td>\n",
       "      <td>1733.7</td>\n",
       "      <td>310.859</td>\n",
       "      <td>481.301</td>\n",
       "      <td>1919.7</td>\n",
       "      <td>29.150</td>\n",
       "      <td>141.7</td>\n",
       "      <td>3.08</td>\n",
       "      <td>5.1</td>\n",
       "      <td>177.830</td>\n",
       "      <td>2.34</td>\n",
       "      <td>0.74</td>\n",
       "    </tr>\n",
       "    <tr>\n",
       "      <th>2</th>\n",
       "      <td>1959.0</td>\n",
       "      <td>3.0</td>\n",
       "      <td>2775.488</td>\n",
       "      <td>1751.8</td>\n",
       "      <td>289.226</td>\n",
       "      <td>491.260</td>\n",
       "      <td>1916.4</td>\n",
       "      <td>29.350</td>\n",
       "      <td>140.5</td>\n",
       "      <td>3.82</td>\n",
       "      <td>5.3</td>\n",
       "      <td>178.657</td>\n",
       "      <td>2.74</td>\n",
       "      <td>1.09</td>\n",
       "    </tr>\n",
       "    <tr>\n",
       "      <th>3</th>\n",
       "      <td>1959.0</td>\n",
       "      <td>4.0</td>\n",
       "      <td>2785.204</td>\n",
       "      <td>1753.7</td>\n",
       "      <td>299.356</td>\n",
       "      <td>484.052</td>\n",
       "      <td>1931.3</td>\n",
       "      <td>29.370</td>\n",
       "      <td>140.0</td>\n",
       "      <td>4.33</td>\n",
       "      <td>5.6</td>\n",
       "      <td>179.386</td>\n",
       "      <td>0.27</td>\n",
       "      <td>4.06</td>\n",
       "    </tr>\n",
       "    <tr>\n",
       "      <th>4</th>\n",
       "      <td>1960.0</td>\n",
       "      <td>1.0</td>\n",
       "      <td>2847.699</td>\n",
       "      <td>1770.5</td>\n",
       "      <td>331.722</td>\n",
       "      <td>462.199</td>\n",
       "      <td>1955.5</td>\n",
       "      <td>29.540</td>\n",
       "      <td>139.6</td>\n",
       "      <td>3.50</td>\n",
       "      <td>5.2</td>\n",
       "      <td>180.007</td>\n",
       "      <td>2.31</td>\n",
       "      <td>1.19</td>\n",
       "    </tr>\n",
       "    <tr>\n",
       "      <th>...</th>\n",
       "      <td>...</td>\n",
       "      <td>...</td>\n",
       "      <td>...</td>\n",
       "      <td>...</td>\n",
       "      <td>...</td>\n",
       "      <td>...</td>\n",
       "      <td>...</td>\n",
       "      <td>...</td>\n",
       "      <td>...</td>\n",
       "      <td>...</td>\n",
       "      <td>...</td>\n",
       "      <td>...</td>\n",
       "      <td>...</td>\n",
       "      <td>...</td>\n",
       "    </tr>\n",
       "    <tr>\n",
       "      <th>198</th>\n",
       "      <td>2008.0</td>\n",
       "      <td>3.0</td>\n",
       "      <td>13324.600</td>\n",
       "      <td>9267.7</td>\n",
       "      <td>1990.693</td>\n",
       "      <td>991.551</td>\n",
       "      <td>9838.3</td>\n",
       "      <td>216.889</td>\n",
       "      <td>1474.7</td>\n",
       "      <td>1.17</td>\n",
       "      <td>6.0</td>\n",
       "      <td>305.270</td>\n",
       "      <td>-3.16</td>\n",
       "      <td>4.33</td>\n",
       "    </tr>\n",
       "    <tr>\n",
       "      <th>199</th>\n",
       "      <td>2008.0</td>\n",
       "      <td>4.0</td>\n",
       "      <td>13141.920</td>\n",
       "      <td>9195.3</td>\n",
       "      <td>1857.661</td>\n",
       "      <td>1007.273</td>\n",
       "      <td>9920.4</td>\n",
       "      <td>212.174</td>\n",
       "      <td>1576.5</td>\n",
       "      <td>0.12</td>\n",
       "      <td>6.9</td>\n",
       "      <td>305.952</td>\n",
       "      <td>-8.79</td>\n",
       "      <td>8.91</td>\n",
       "    </tr>\n",
       "    <tr>\n",
       "      <th>200</th>\n",
       "      <td>2009.0</td>\n",
       "      <td>1.0</td>\n",
       "      <td>12925.410</td>\n",
       "      <td>9209.2</td>\n",
       "      <td>1558.494</td>\n",
       "      <td>996.287</td>\n",
       "      <td>9926.4</td>\n",
       "      <td>212.671</td>\n",
       "      <td>1592.8</td>\n",
       "      <td>0.22</td>\n",
       "      <td>8.1</td>\n",
       "      <td>306.547</td>\n",
       "      <td>0.94</td>\n",
       "      <td>-0.71</td>\n",
       "    </tr>\n",
       "    <tr>\n",
       "      <th>201</th>\n",
       "      <td>2009.0</td>\n",
       "      <td>2.0</td>\n",
       "      <td>12901.504</td>\n",
       "      <td>9189.0</td>\n",
       "      <td>1456.678</td>\n",
       "      <td>1023.528</td>\n",
       "      <td>10077.5</td>\n",
       "      <td>214.469</td>\n",
       "      <td>1653.6</td>\n",
       "      <td>0.18</td>\n",
       "      <td>9.2</td>\n",
       "      <td>307.226</td>\n",
       "      <td>3.37</td>\n",
       "      <td>-3.19</td>\n",
       "    </tr>\n",
       "    <tr>\n",
       "      <th>202</th>\n",
       "      <td>2009.0</td>\n",
       "      <td>3.0</td>\n",
       "      <td>12990.341</td>\n",
       "      <td>9256.0</td>\n",
       "      <td>1486.398</td>\n",
       "      <td>1044.088</td>\n",
       "      <td>10040.6</td>\n",
       "      <td>216.385</td>\n",
       "      <td>1673.9</td>\n",
       "      <td>0.12</td>\n",
       "      <td>9.6</td>\n",
       "      <td>308.013</td>\n",
       "      <td>3.56</td>\n",
       "      <td>-3.44</td>\n",
       "    </tr>\n",
       "  </tbody>\n",
       "</table>\n",
       "<p>203 rows × 14 columns</p>\n",
       "</div>"
      ],
      "text/plain": [
       "       year  quarter    realgdp  realcons   realinv  realgovt  realdpi  \\\n",
       "0    1959.0      1.0   2710.349    1707.4   286.898   470.045   1886.9   \n",
       "1    1959.0      2.0   2778.801    1733.7   310.859   481.301   1919.7   \n",
       "2    1959.0      3.0   2775.488    1751.8   289.226   491.260   1916.4   \n",
       "3    1959.0      4.0   2785.204    1753.7   299.356   484.052   1931.3   \n",
       "4    1960.0      1.0   2847.699    1770.5   331.722   462.199   1955.5   \n",
       "..      ...      ...        ...       ...       ...       ...      ...   \n",
       "198  2008.0      3.0  13324.600    9267.7  1990.693   991.551   9838.3   \n",
       "199  2008.0      4.0  13141.920    9195.3  1857.661  1007.273   9920.4   \n",
       "200  2009.0      1.0  12925.410    9209.2  1558.494   996.287   9926.4   \n",
       "201  2009.0      2.0  12901.504    9189.0  1456.678  1023.528  10077.5   \n",
       "202  2009.0      3.0  12990.341    9256.0  1486.398  1044.088  10040.6   \n",
       "\n",
       "         cpi      m1  tbilrate  unemp      pop  infl  realint  \n",
       "0     28.980   139.7      2.82    5.8  177.146  0.00     0.00  \n",
       "1     29.150   141.7      3.08    5.1  177.830  2.34     0.74  \n",
       "2     29.350   140.5      3.82    5.3  178.657  2.74     1.09  \n",
       "3     29.370   140.0      4.33    5.6  179.386  0.27     4.06  \n",
       "4     29.540   139.6      3.50    5.2  180.007  2.31     1.19  \n",
       "..       ...     ...       ...    ...      ...   ...      ...  \n",
       "198  216.889  1474.7      1.17    6.0  305.270 -3.16     4.33  \n",
       "199  212.174  1576.5      0.12    6.9  305.952 -8.79     8.91  \n",
       "200  212.671  1592.8      0.22    8.1  306.547  0.94    -0.71  \n",
       "201  214.469  1653.6      0.18    9.2  307.226  3.37    -3.19  \n",
       "202  216.385  1673.9      0.12    9.6  308.013  3.56    -3.44  \n",
       "\n",
       "[203 rows x 14 columns]"
      ]
     },
     "execution_count": 255,
     "metadata": {},
     "output_type": "execute_result"
    }
   ],
   "source": [
    "data = pd.read_csv('pydata-book/examples/macrodata.csv')\n",
    "data"
   ]
  },
  {
   "cell_type": "code",
   "execution_count": 256,
   "metadata": {
    "ExecuteTime": {
     "end_time": "2020-11-18T00:47:45.555787Z",
     "start_time": "2020-11-18T00:47:45.536371Z"
    }
   },
   "outputs": [
    {
     "data": {
      "text/html": [
       "<div>\n",
       "<style scoped>\n",
       "    .dataframe tbody tr th:only-of-type {\n",
       "        vertical-align: middle;\n",
       "    }\n",
       "\n",
       "    .dataframe tbody tr th {\n",
       "        vertical-align: top;\n",
       "    }\n",
       "\n",
       "    .dataframe thead th {\n",
       "        text-align: right;\n",
       "    }\n",
       "</style>\n",
       "<table border=\"1\" class=\"dataframe\">\n",
       "  <thead>\n",
       "    <tr style=\"text-align: right;\">\n",
       "      <th></th>\n",
       "      <th>year</th>\n",
       "      <th>quarter</th>\n",
       "    </tr>\n",
       "  </thead>\n",
       "  <tbody>\n",
       "    <tr>\n",
       "      <th>0</th>\n",
       "      <td>1959.0</td>\n",
       "      <td>1.0</td>\n",
       "    </tr>\n",
       "    <tr>\n",
       "      <th>1</th>\n",
       "      <td>1959.0</td>\n",
       "      <td>2.0</td>\n",
       "    </tr>\n",
       "    <tr>\n",
       "      <th>2</th>\n",
       "      <td>1959.0</td>\n",
       "      <td>3.0</td>\n",
       "    </tr>\n",
       "    <tr>\n",
       "      <th>3</th>\n",
       "      <td>1959.0</td>\n",
       "      <td>4.0</td>\n",
       "    </tr>\n",
       "    <tr>\n",
       "      <th>4</th>\n",
       "      <td>1960.0</td>\n",
       "      <td>1.0</td>\n",
       "    </tr>\n",
       "    <tr>\n",
       "      <th>...</th>\n",
       "      <td>...</td>\n",
       "      <td>...</td>\n",
       "    </tr>\n",
       "    <tr>\n",
       "      <th>198</th>\n",
       "      <td>2008.0</td>\n",
       "      <td>3.0</td>\n",
       "    </tr>\n",
       "    <tr>\n",
       "      <th>199</th>\n",
       "      <td>2008.0</td>\n",
       "      <td>4.0</td>\n",
       "    </tr>\n",
       "    <tr>\n",
       "      <th>200</th>\n",
       "      <td>2009.0</td>\n",
       "      <td>1.0</td>\n",
       "    </tr>\n",
       "    <tr>\n",
       "      <th>201</th>\n",
       "      <td>2009.0</td>\n",
       "      <td>2.0</td>\n",
       "    </tr>\n",
       "    <tr>\n",
       "      <th>202</th>\n",
       "      <td>2009.0</td>\n",
       "      <td>3.0</td>\n",
       "    </tr>\n",
       "  </tbody>\n",
       "</table>\n",
       "<p>203 rows × 2 columns</p>\n",
       "</div>"
      ],
      "text/plain": [
       "       year  quarter\n",
       "0    1959.0      1.0\n",
       "1    1959.0      2.0\n",
       "2    1959.0      3.0\n",
       "3    1959.0      4.0\n",
       "4    1960.0      1.0\n",
       "..      ...      ...\n",
       "198  2008.0      3.0\n",
       "199  2008.0      4.0\n",
       "200  2009.0      1.0\n",
       "201  2009.0      2.0\n",
       "202  2009.0      3.0\n",
       "\n",
       "[203 rows x 2 columns]"
      ]
     },
     "execution_count": 256,
     "metadata": {},
     "output_type": "execute_result"
    }
   ],
   "source": [
    "data[ ['year', 'quarter']]"
   ]
  },
  {
   "cell_type": "code",
   "execution_count": 257,
   "metadata": {
    "ExecuteTime": {
     "end_time": "2020-11-18T00:48:03.473752Z",
     "start_time": "2020-11-18T00:48:03.463382Z"
    }
   },
   "outputs": [
    {
     "data": {
      "text/plain": [
       "0      1959.0\n",
       "1      1959.0\n",
       "2      1959.0\n",
       "3      1959.0\n",
       "4      1960.0\n",
       "        ...  \n",
       "198    2008.0\n",
       "199    2008.0\n",
       "200    2009.0\n",
       "201    2009.0\n",
       "202    2009.0\n",
       "Name: year, Length: 203, dtype: float64"
      ]
     },
     "execution_count": 257,
     "metadata": {},
     "output_type": "execute_result"
    }
   ],
   "source": [
    "data.year"
   ]
  },
  {
   "cell_type": "code",
   "execution_count": 258,
   "metadata": {
    "ExecuteTime": {
     "end_time": "2020-11-18T00:48:11.198907Z",
     "start_time": "2020-11-18T00:48:11.190116Z"
    }
   },
   "outputs": [
    {
     "data": {
      "text/plain": [
       "0      1.0\n",
       "1      2.0\n",
       "2      3.0\n",
       "3      4.0\n",
       "4      1.0\n",
       "      ... \n",
       "198    3.0\n",
       "199    4.0\n",
       "200    1.0\n",
       "201    2.0\n",
       "202    3.0\n",
       "Name: quarter, Length: 203, dtype: float64"
      ]
     },
     "execution_count": 258,
     "metadata": {},
     "output_type": "execute_result"
    }
   ],
   "source": [
    "data.quarter"
   ]
  },
  {
   "cell_type": "code",
   "execution_count": 260,
   "metadata": {
    "ExecuteTime": {
     "end_time": "2020-11-18T00:49:21.038595Z",
     "start_time": "2020-11-18T00:49:21.030256Z"
    }
   },
   "outputs": [],
   "source": [
    "pd.Period?"
   ]
  },
  {
   "cell_type": "code",
   "execution_count": 261,
   "metadata": {
    "ExecuteTime": {
     "end_time": "2020-11-18T00:50:03.575763Z",
     "start_time": "2020-11-18T00:50:03.566304Z"
    }
   },
   "outputs": [
    {
     "data": {
      "text/plain": [
       "PeriodIndex(['1959Q1', '1959Q2', '1959Q3', '1959Q4', '1960Q1', '1960Q2',\n",
       "             '1960Q3', '1960Q4', '1961Q1', '1961Q2',\n",
       "             ...\n",
       "             '2007Q2', '2007Q3', '2007Q4', '2008Q1', '2008Q2', '2008Q3',\n",
       "             '2008Q4', '2009Q1', '2009Q2', '2009Q3'],\n",
       "            dtype='period[Q-DEC]', length=203, freq='Q-DEC')"
      ]
     },
     "execution_count": 261,
     "metadata": {},
     "output_type": "execute_result"
    }
   ],
   "source": [
    "index = pd.PeriodIndex(year=data.year, quarter=data.quarter, freq='Q-DEC')\n",
    "index "
   ]
  },
  {
   "cell_type": "code",
   "execution_count": 262,
   "metadata": {
    "ExecuteTime": {
     "end_time": "2020-11-18T00:50:15.565344Z",
     "start_time": "2020-11-18T00:50:15.535037Z"
    }
   },
   "outputs": [
    {
     "data": {
      "text/html": [
       "<div>\n",
       "<style scoped>\n",
       "    .dataframe tbody tr th:only-of-type {\n",
       "        vertical-align: middle;\n",
       "    }\n",
       "\n",
       "    .dataframe tbody tr th {\n",
       "        vertical-align: top;\n",
       "    }\n",
       "\n",
       "    .dataframe thead th {\n",
       "        text-align: right;\n",
       "    }\n",
       "</style>\n",
       "<table border=\"1\" class=\"dataframe\">\n",
       "  <thead>\n",
       "    <tr style=\"text-align: right;\">\n",
       "      <th></th>\n",
       "      <th>year</th>\n",
       "      <th>quarter</th>\n",
       "      <th>realgdp</th>\n",
       "      <th>realcons</th>\n",
       "      <th>realinv</th>\n",
       "      <th>realgovt</th>\n",
       "      <th>realdpi</th>\n",
       "      <th>cpi</th>\n",
       "      <th>m1</th>\n",
       "      <th>tbilrate</th>\n",
       "      <th>unemp</th>\n",
       "      <th>pop</th>\n",
       "      <th>infl</th>\n",
       "      <th>realint</th>\n",
       "    </tr>\n",
       "  </thead>\n",
       "  <tbody>\n",
       "    <tr>\n",
       "      <th>1959Q1</th>\n",
       "      <td>1959.0</td>\n",
       "      <td>1.0</td>\n",
       "      <td>2710.349</td>\n",
       "      <td>1707.4</td>\n",
       "      <td>286.898</td>\n",
       "      <td>470.045</td>\n",
       "      <td>1886.9</td>\n",
       "      <td>28.980</td>\n",
       "      <td>139.7</td>\n",
       "      <td>2.82</td>\n",
       "      <td>5.8</td>\n",
       "      <td>177.146</td>\n",
       "      <td>0.00</td>\n",
       "      <td>0.00</td>\n",
       "    </tr>\n",
       "    <tr>\n",
       "      <th>1959Q2</th>\n",
       "      <td>1959.0</td>\n",
       "      <td>2.0</td>\n",
       "      <td>2778.801</td>\n",
       "      <td>1733.7</td>\n",
       "      <td>310.859</td>\n",
       "      <td>481.301</td>\n",
       "      <td>1919.7</td>\n",
       "      <td>29.150</td>\n",
       "      <td>141.7</td>\n",
       "      <td>3.08</td>\n",
       "      <td>5.1</td>\n",
       "      <td>177.830</td>\n",
       "      <td>2.34</td>\n",
       "      <td>0.74</td>\n",
       "    </tr>\n",
       "    <tr>\n",
       "      <th>1959Q3</th>\n",
       "      <td>1959.0</td>\n",
       "      <td>3.0</td>\n",
       "      <td>2775.488</td>\n",
       "      <td>1751.8</td>\n",
       "      <td>289.226</td>\n",
       "      <td>491.260</td>\n",
       "      <td>1916.4</td>\n",
       "      <td>29.350</td>\n",
       "      <td>140.5</td>\n",
       "      <td>3.82</td>\n",
       "      <td>5.3</td>\n",
       "      <td>178.657</td>\n",
       "      <td>2.74</td>\n",
       "      <td>1.09</td>\n",
       "    </tr>\n",
       "    <tr>\n",
       "      <th>1959Q4</th>\n",
       "      <td>1959.0</td>\n",
       "      <td>4.0</td>\n",
       "      <td>2785.204</td>\n",
       "      <td>1753.7</td>\n",
       "      <td>299.356</td>\n",
       "      <td>484.052</td>\n",
       "      <td>1931.3</td>\n",
       "      <td>29.370</td>\n",
       "      <td>140.0</td>\n",
       "      <td>4.33</td>\n",
       "      <td>5.6</td>\n",
       "      <td>179.386</td>\n",
       "      <td>0.27</td>\n",
       "      <td>4.06</td>\n",
       "    </tr>\n",
       "    <tr>\n",
       "      <th>1960Q1</th>\n",
       "      <td>1960.0</td>\n",
       "      <td>1.0</td>\n",
       "      <td>2847.699</td>\n",
       "      <td>1770.5</td>\n",
       "      <td>331.722</td>\n",
       "      <td>462.199</td>\n",
       "      <td>1955.5</td>\n",
       "      <td>29.540</td>\n",
       "      <td>139.6</td>\n",
       "      <td>3.50</td>\n",
       "      <td>5.2</td>\n",
       "      <td>180.007</td>\n",
       "      <td>2.31</td>\n",
       "      <td>1.19</td>\n",
       "    </tr>\n",
       "    <tr>\n",
       "      <th>...</th>\n",
       "      <td>...</td>\n",
       "      <td>...</td>\n",
       "      <td>...</td>\n",
       "      <td>...</td>\n",
       "      <td>...</td>\n",
       "      <td>...</td>\n",
       "      <td>...</td>\n",
       "      <td>...</td>\n",
       "      <td>...</td>\n",
       "      <td>...</td>\n",
       "      <td>...</td>\n",
       "      <td>...</td>\n",
       "      <td>...</td>\n",
       "      <td>...</td>\n",
       "    </tr>\n",
       "    <tr>\n",
       "      <th>2008Q3</th>\n",
       "      <td>2008.0</td>\n",
       "      <td>3.0</td>\n",
       "      <td>13324.600</td>\n",
       "      <td>9267.7</td>\n",
       "      <td>1990.693</td>\n",
       "      <td>991.551</td>\n",
       "      <td>9838.3</td>\n",
       "      <td>216.889</td>\n",
       "      <td>1474.7</td>\n",
       "      <td>1.17</td>\n",
       "      <td>6.0</td>\n",
       "      <td>305.270</td>\n",
       "      <td>-3.16</td>\n",
       "      <td>4.33</td>\n",
       "    </tr>\n",
       "    <tr>\n",
       "      <th>2008Q4</th>\n",
       "      <td>2008.0</td>\n",
       "      <td>4.0</td>\n",
       "      <td>13141.920</td>\n",
       "      <td>9195.3</td>\n",
       "      <td>1857.661</td>\n",
       "      <td>1007.273</td>\n",
       "      <td>9920.4</td>\n",
       "      <td>212.174</td>\n",
       "      <td>1576.5</td>\n",
       "      <td>0.12</td>\n",
       "      <td>6.9</td>\n",
       "      <td>305.952</td>\n",
       "      <td>-8.79</td>\n",
       "      <td>8.91</td>\n",
       "    </tr>\n",
       "    <tr>\n",
       "      <th>2009Q1</th>\n",
       "      <td>2009.0</td>\n",
       "      <td>1.0</td>\n",
       "      <td>12925.410</td>\n",
       "      <td>9209.2</td>\n",
       "      <td>1558.494</td>\n",
       "      <td>996.287</td>\n",
       "      <td>9926.4</td>\n",
       "      <td>212.671</td>\n",
       "      <td>1592.8</td>\n",
       "      <td>0.22</td>\n",
       "      <td>8.1</td>\n",
       "      <td>306.547</td>\n",
       "      <td>0.94</td>\n",
       "      <td>-0.71</td>\n",
       "    </tr>\n",
       "    <tr>\n",
       "      <th>2009Q2</th>\n",
       "      <td>2009.0</td>\n",
       "      <td>2.0</td>\n",
       "      <td>12901.504</td>\n",
       "      <td>9189.0</td>\n",
       "      <td>1456.678</td>\n",
       "      <td>1023.528</td>\n",
       "      <td>10077.5</td>\n",
       "      <td>214.469</td>\n",
       "      <td>1653.6</td>\n",
       "      <td>0.18</td>\n",
       "      <td>9.2</td>\n",
       "      <td>307.226</td>\n",
       "      <td>3.37</td>\n",
       "      <td>-3.19</td>\n",
       "    </tr>\n",
       "    <tr>\n",
       "      <th>2009Q3</th>\n",
       "      <td>2009.0</td>\n",
       "      <td>3.0</td>\n",
       "      <td>12990.341</td>\n",
       "      <td>9256.0</td>\n",
       "      <td>1486.398</td>\n",
       "      <td>1044.088</td>\n",
       "      <td>10040.6</td>\n",
       "      <td>216.385</td>\n",
       "      <td>1673.9</td>\n",
       "      <td>0.12</td>\n",
       "      <td>9.6</td>\n",
       "      <td>308.013</td>\n",
       "      <td>3.56</td>\n",
       "      <td>-3.44</td>\n",
       "    </tr>\n",
       "  </tbody>\n",
       "</table>\n",
       "<p>203 rows × 14 columns</p>\n",
       "</div>"
      ],
      "text/plain": [
       "          year  quarter    realgdp  realcons   realinv  realgovt  realdpi  \\\n",
       "1959Q1  1959.0      1.0   2710.349    1707.4   286.898   470.045   1886.9   \n",
       "1959Q2  1959.0      2.0   2778.801    1733.7   310.859   481.301   1919.7   \n",
       "1959Q3  1959.0      3.0   2775.488    1751.8   289.226   491.260   1916.4   \n",
       "1959Q4  1959.0      4.0   2785.204    1753.7   299.356   484.052   1931.3   \n",
       "1960Q1  1960.0      1.0   2847.699    1770.5   331.722   462.199   1955.5   \n",
       "...        ...      ...        ...       ...       ...       ...      ...   \n",
       "2008Q3  2008.0      3.0  13324.600    9267.7  1990.693   991.551   9838.3   \n",
       "2008Q4  2008.0      4.0  13141.920    9195.3  1857.661  1007.273   9920.4   \n",
       "2009Q1  2009.0      1.0  12925.410    9209.2  1558.494   996.287   9926.4   \n",
       "2009Q2  2009.0      2.0  12901.504    9189.0  1456.678  1023.528  10077.5   \n",
       "2009Q3  2009.0      3.0  12990.341    9256.0  1486.398  1044.088  10040.6   \n",
       "\n",
       "            cpi      m1  tbilrate  unemp      pop  infl  realint  \n",
       "1959Q1   28.980   139.7      2.82    5.8  177.146  0.00     0.00  \n",
       "1959Q2   29.150   141.7      3.08    5.1  177.830  2.34     0.74  \n",
       "1959Q3   29.350   140.5      3.82    5.3  178.657  2.74     1.09  \n",
       "1959Q4   29.370   140.0      4.33    5.6  179.386  0.27     4.06  \n",
       "1960Q1   29.540   139.6      3.50    5.2  180.007  2.31     1.19  \n",
       "...         ...     ...       ...    ...      ...   ...      ...  \n",
       "2008Q3  216.889  1474.7      1.17    6.0  305.270 -3.16     4.33  \n",
       "2008Q4  212.174  1576.5      0.12    6.9  305.952 -8.79     8.91  \n",
       "2009Q1  212.671  1592.8      0.22    8.1  306.547  0.94    -0.71  \n",
       "2009Q2  214.469  1653.6      0.18    9.2  307.226  3.37    -3.19  \n",
       "2009Q3  216.385  1673.9      0.12    9.6  308.013  3.56    -3.44  \n",
       "\n",
       "[203 rows x 14 columns]"
      ]
     },
     "execution_count": 262,
     "metadata": {},
     "output_type": "execute_result"
    }
   ],
   "source": [
    "data.index = index\n",
    "data"
   ]
  },
  {
   "cell_type": "code",
   "execution_count": 263,
   "metadata": {
    "ExecuteTime": {
     "end_time": "2020-11-18T00:50:26.910142Z",
     "start_time": "2020-11-18T00:50:26.902407Z"
    }
   },
   "outputs": [
    {
     "data": {
      "text/plain": [
       "PeriodIndex(['1959Q1', '1959Q2', '1959Q3', '1959Q4', '1960Q1', '1960Q2',\n",
       "             '1960Q3', '1960Q4', '1961Q1', '1961Q2',\n",
       "             ...\n",
       "             '2007Q2', '2007Q3', '2007Q4', '2008Q1', '2008Q2', '2008Q3',\n",
       "             '2008Q4', '2009Q1', '2009Q2', '2009Q3'],\n",
       "            dtype='period[Q-DEC]', length=203, freq='Q-DEC')"
      ]
     },
     "execution_count": 263,
     "metadata": {},
     "output_type": "execute_result"
    }
   ],
   "source": [
    "data.index"
   ]
  },
  {
   "cell_type": "markdown",
   "metadata": {},
   "source": [
    "## 重新采样和频率转换"
   ]
  },
  {
   "cell_type": "markdown",
   "metadata": {},
   "source": [
    "**重新采样**：是将时间序列*从一个频率转换到另一个频率*\n",
    "- 向上采样： 从低频率转换到高频率，时间更为精确\n",
    "- 向下采样： 从高频率转换到底评率\n",
    "- 其他类： 比如`Q-DEC`到`Q-JAN`"
   ]
  },
  {
   "cell_type": "markdown",
   "metadata": {},
   "source": [
    "`pandas`对象拥有`resample`方法，该方法**是所有频率转换的工具函数**， resample拥有类似于groupby的API，**调用resample对数据进行分组，之后再调用聚合函数**"
   ]
  },
  {
   "cell_type": "code",
   "execution_count": 264,
   "metadata": {
    "ExecuteTime": {
     "end_time": "2020-11-18T01:19:04.915794Z",
     "start_time": "2020-11-18T01:19:04.902167Z"
    }
   },
   "outputs": [
    {
     "data": {
      "text/plain": [
       "2000-01-01    1.663261\n",
       "2000-01-02   -0.996206\n",
       "2000-01-03    1.521760\n",
       "2000-01-04    0.244175\n",
       "2000-01-05    0.423331\n",
       "                ...   \n",
       "2000-04-05    1.282892\n",
       "2000-04-06    0.280971\n",
       "2000-04-07   -0.892036\n",
       "2000-04-08    0.517564\n",
       "2000-04-09   -0.007852\n",
       "Freq: D, Length: 100, dtype: float64"
      ]
     },
     "execution_count": 264,
     "metadata": {},
     "output_type": "execute_result"
    }
   ],
   "source": [
    "rng = pd.date_range('2000-01-01', periods=100, freq='D')\n",
    "ts = pd.Series( np.random.randn(len(rng)), index=rng)\n",
    "ts "
   ]
  },
  {
   "cell_type": "code",
   "execution_count": 266,
   "metadata": {
    "ExecuteTime": {
     "end_time": "2020-11-18T01:19:48.901843Z",
     "start_time": "2020-11-18T01:19:48.889755Z"
    }
   },
   "outputs": [
    {
     "data": {
      "text/plain": [
       "<pandas.core.resample.DatetimeIndexResampler object at 0x7fb81d195af0>"
      ]
     },
     "execution_count": 266,
     "metadata": {},
     "output_type": "execute_result"
    }
   ],
   "source": [
    "ts.resample('M')"
   ]
  },
  {
   "cell_type": "code",
   "execution_count": 267,
   "metadata": {
    "ExecuteTime": {
     "end_time": "2020-11-18T01:20:30.674428Z",
     "start_time": "2020-11-18T01:20:30.657344Z"
    }
   },
   "outputs": [
    {
     "data": {
      "text/plain": [
       "[(Timestamp('2000-01-31 00:00:00', freq='M'),\n",
       "  2000-01-01    1.663261\n",
       "  2000-01-02   -0.996206\n",
       "  2000-01-03    1.521760\n",
       "  2000-01-04    0.244175\n",
       "  2000-01-05    0.423331\n",
       "                  ...   \n",
       "  2000-01-27    1.634858\n",
       "  2000-01-28   -1.645693\n",
       "  2000-01-29   -0.407164\n",
       "  2000-01-30   -0.252765\n",
       "  2000-01-31   -0.894590\n",
       "  Freq: D, Length: 31, dtype: float64),\n",
       " (Timestamp('2000-02-29 00:00:00', freq='M'),\n",
       "  2000-02-01    0.955842\n",
       "  2000-02-02   -1.653984\n",
       "  2000-02-03   -0.262528\n",
       "  2000-02-04   -0.976094\n",
       "  2000-02-05   -1.493407\n",
       "                  ...   \n",
       "  2000-02-25   -0.208074\n",
       "  2000-02-26   -1.221957\n",
       "  2000-02-27   -0.067460\n",
       "  2000-02-28    0.229005\n",
       "  2000-02-29   -0.576234\n",
       "  Freq: D, Length: 29, dtype: float64),\n",
       " (Timestamp('2000-03-31 00:00:00', freq='M'),\n",
       "  2000-03-01    0.816895\n",
       "  2000-03-02   -0.772192\n",
       "  2000-03-03   -1.333576\n",
       "  2000-03-04   -0.309119\n",
       "  2000-03-05    0.028558\n",
       "                  ...   \n",
       "  2000-03-27    0.033498\n",
       "  2000-03-28   -0.225585\n",
       "  2000-03-29    0.105737\n",
       "  2000-03-30    0.303241\n",
       "  2000-03-31   -0.195686\n",
       "  Freq: D, Length: 31, dtype: float64),\n",
       " (Timestamp('2000-04-30 00:00:00', freq='M'),\n",
       "  2000-04-01    0.764936\n",
       "  2000-04-02   -0.449838\n",
       "  2000-04-03    1.038124\n",
       "  2000-04-04    1.573183\n",
       "  2000-04-05    1.282892\n",
       "  2000-04-06    0.280971\n",
       "  2000-04-07   -0.892036\n",
       "  2000-04-08    0.517564\n",
       "  2000-04-09   -0.007852\n",
       "  Freq: D, dtype: float64)]"
      ]
     },
     "execution_count": 267,
     "metadata": {},
     "output_type": "execute_result"
    }
   ],
   "source": [
    "list(ts.resample('M'))"
   ]
  },
  {
   "cell_type": "code",
   "execution_count": 268,
   "metadata": {
    "ExecuteTime": {
     "end_time": "2020-11-18T01:21:56.353075Z",
     "start_time": "2020-11-18T01:21:56.338618Z"
    }
   },
   "outputs": [
    {
     "data": {
      "text/plain": [
       "{Timestamp('2000-01-31 00:00:00', freq='M'): 2000-01-01    1.663261\n",
       " 2000-01-02   -0.996206\n",
       " 2000-01-03    1.521760\n",
       " 2000-01-04    0.244175\n",
       " 2000-01-05    0.423331\n",
       "                 ...   \n",
       " 2000-01-27    1.634858\n",
       " 2000-01-28   -1.645693\n",
       " 2000-01-29   -0.407164\n",
       " 2000-01-30   -0.252765\n",
       " 2000-01-31   -0.894590\n",
       " Freq: D, Length: 31, dtype: float64,\n",
       " Timestamp('2000-02-29 00:00:00', freq='M'): 2000-02-01    0.955842\n",
       " 2000-02-02   -1.653984\n",
       " 2000-02-03   -0.262528\n",
       " 2000-02-04   -0.976094\n",
       " 2000-02-05   -1.493407\n",
       "                 ...   \n",
       " 2000-02-25   -0.208074\n",
       " 2000-02-26   -1.221957\n",
       " 2000-02-27   -0.067460\n",
       " 2000-02-28    0.229005\n",
       " 2000-02-29   -0.576234\n",
       " Freq: D, Length: 29, dtype: float64,\n",
       " Timestamp('2000-03-31 00:00:00', freq='M'): 2000-03-01    0.816895\n",
       " 2000-03-02   -0.772192\n",
       " 2000-03-03   -1.333576\n",
       " 2000-03-04   -0.309119\n",
       " 2000-03-05    0.028558\n",
       "                 ...   \n",
       " 2000-03-27    0.033498\n",
       " 2000-03-28   -0.225585\n",
       " 2000-03-29    0.105737\n",
       " 2000-03-30    0.303241\n",
       " 2000-03-31   -0.195686\n",
       " Freq: D, Length: 31, dtype: float64,\n",
       " Timestamp('2000-04-30 00:00:00', freq='M'): 2000-04-01    0.764936\n",
       " 2000-04-02   -0.449838\n",
       " 2000-04-03    1.038124\n",
       " 2000-04-04    1.573183\n",
       " 2000-04-05    1.282892\n",
       " 2000-04-06    0.280971\n",
       " 2000-04-07   -0.892036\n",
       " 2000-04-08    0.517564\n",
       " 2000-04-09   -0.007852\n",
       " Freq: D, dtype: float64}"
      ]
     },
     "execution_count": 268,
     "metadata": {},
     "output_type": "execute_result"
    }
   ],
   "source": [
    "dict( list(ts.resample('M')) )"
   ]
  },
  {
   "cell_type": "code",
   "execution_count": 269,
   "metadata": {
    "ExecuteTime": {
     "end_time": "2020-11-18T01:22:30.413185Z",
     "start_time": "2020-11-18T01:22:30.401896Z"
    }
   },
   "outputs": [
    {
     "data": {
      "text/plain": [
       "2000-01-31    31\n",
       "2000-02-29    29\n",
       "2000-03-31    31\n",
       "2000-04-30     9\n",
       "Freq: M, dtype: int64"
      ]
     },
     "execution_count": 269,
     "metadata": {},
     "output_type": "execute_result"
    }
   ],
   "source": [
    "ts.resample('M').count()"
   ]
  },
  {
   "cell_type": "code",
   "execution_count": 270,
   "metadata": {
    "ExecuteTime": {
     "end_time": "2020-11-18T01:23:02.485690Z",
     "start_time": "2020-11-18T01:23:02.474640Z"
    }
   },
   "outputs": [
    {
     "data": {
      "text/plain": [
       "2000-01    31\n",
       "2000-02    29\n",
       "2000-03    31\n",
       "2000-04     9\n",
       "Freq: M, dtype: int64"
      ]
     },
     "execution_count": 270,
     "metadata": {},
     "output_type": "execute_result"
    }
   ],
   "source": [
    "ts.resample('M', kind='period').count()"
   ]
  },
  {
   "cell_type": "markdown",
   "metadata": {},
   "source": [
    "### 向下采样"
   ]
  },
  {
   "cell_type": "markdown",
   "metadata": {},
   "source": [
    "将**数据聚合到一个规则的低频率**上是一个常见的时间序列任务"
   ]
  },
  {
   "cell_type": "markdown",
   "metadata": {},
   "source": [
    "要聚合的数据不必是固定频率的。**期望的频率定义了用于对时间序列切片以聚合的箱体边界**\n",
    "- 要将时间转换为月，`M`或者`BM`,需要将数据分成一个月的时间间隔\n",
    "- **每个间隔是半闭合的，一个数据点只能属于一个时间间隔，时间间隔的并集必须是正式数据帧**"
   ]
  },
  {
   "cell_type": "markdown",
   "metadata": {},
   "source": [
    "在向下采样时，需要考虑：\n",
    "1. 每段间隔**那一端是闭合的** `close`\n",
    "2. 如何在**间隔的起始或结束位置标记每个已聚合的箱体** `label`"
   ]
  },
  {
   "cell_type": "code",
   "execution_count": 271,
   "metadata": {
    "ExecuteTime": {
     "end_time": "2020-11-18T01:45:45.272696Z",
     "start_time": "2020-11-18T01:45:45.258129Z"
    }
   },
   "outputs": [
    {
     "data": {
      "text/plain": [
       "2000-01-01 00:00:00   -1.638806\n",
       "2000-01-01 00:01:00    1.401227\n",
       "2000-01-01 00:02:00    1.758539\n",
       "2000-01-01 00:03:00    0.628932\n",
       "2000-01-01 00:04:00   -0.423776\n",
       "2000-01-01 00:05:00    0.789740\n",
       "2000-01-01 00:06:00    0.937568\n",
       "2000-01-01 00:07:00   -2.253294\n",
       "2000-01-01 00:08:00   -1.772919\n",
       "2000-01-01 00:09:00   -0.896431\n",
       "2000-01-01 00:10:00    0.677263\n",
       "2000-01-01 00:11:00    0.036503\n",
       "Freq: T, dtype: float64"
      ]
     },
     "execution_count": 271,
     "metadata": {},
     "output_type": "execute_result"
    }
   ],
   "source": [
    "rng  = pd.date_range('2000-01-01', periods=12, freq='T')\n",
    "ts = pd.Series( np.random.randn(len(rng)), index=rng  )\n",
    "ts"
   ]
  },
  {
   "cell_type": "code",
   "execution_count": 272,
   "metadata": {
    "ExecuteTime": {
     "end_time": "2020-11-18T01:46:37.049242Z",
     "start_time": "2020-11-18T01:46:37.039132Z"
    }
   },
   "outputs": [
    {
     "data": {
      "text/plain": [
       "2000-01-01 00:00:00    5\n",
       "2000-01-01 00:05:00    5\n",
       "2000-01-01 00:10:00    2\n",
       "Freq: 5T, dtype: int64"
      ]
     },
     "execution_count": 272,
     "metadata": {},
     "output_type": "execute_result"
    }
   ],
   "source": [
    "ts.resample('5min').count()"
   ]
  },
  {
   "cell_type": "code",
   "execution_count": 274,
   "metadata": {
    "ExecuteTime": {
     "end_time": "2020-11-18T01:51:18.713666Z",
     "start_time": "2020-11-18T01:51:18.701234Z"
    }
   },
   "outputs": [
    {
     "data": {
      "text/plain": [
       "[(Timestamp('2000-01-01 00:00:00', freq='5T'),\n",
       "  2000-01-01 00:00:00   -1.638806\n",
       "  2000-01-01 00:01:00    1.401227\n",
       "  2000-01-01 00:02:00    1.758539\n",
       "  2000-01-01 00:03:00    0.628932\n",
       "  2000-01-01 00:04:00   -0.423776\n",
       "  Freq: T, dtype: float64),\n",
       " (Timestamp('2000-01-01 00:05:00', freq='5T'),\n",
       "  2000-01-01 00:05:00    0.789740\n",
       "  2000-01-01 00:06:00    0.937568\n",
       "  2000-01-01 00:07:00   -2.253294\n",
       "  2000-01-01 00:08:00   -1.772919\n",
       "  2000-01-01 00:09:00   -0.896431\n",
       "  Freq: T, dtype: float64),\n",
       " (Timestamp('2000-01-01 00:10:00', freq='5T'),\n",
       "  2000-01-01 00:10:00    0.677263\n",
       "  2000-01-01 00:11:00    0.036503\n",
       "  Freq: T, dtype: float64)]"
      ]
     },
     "execution_count": 274,
     "metadata": {},
     "output_type": "execute_result"
    }
   ],
   "source": [
    "list(ts.resample('5min'))"
   ]
  },
  {
   "cell_type": "code",
   "execution_count": 276,
   "metadata": {
    "ExecuteTime": {
     "end_time": "2020-11-18T01:52:41.254315Z",
     "start_time": "2020-11-18T01:52:41.240330Z"
    }
   },
   "outputs": [
    {
     "data": {
      "text/plain": [
       "[(Timestamp('2000-01-01 00:00:00', freq='5T'),\n",
       "  2000-01-01   -1.638806\n",
       "  Freq: T, dtype: float64),\n",
       " (Timestamp('2000-01-01 00:05:00', freq='5T'),\n",
       "  2000-01-01 00:01:00    1.401227\n",
       "  2000-01-01 00:02:00    1.758539\n",
       "  2000-01-01 00:03:00    0.628932\n",
       "  2000-01-01 00:04:00   -0.423776\n",
       "  2000-01-01 00:05:00    0.789740\n",
       "  Freq: T, dtype: float64),\n",
       " (Timestamp('2000-01-01 00:10:00', freq='5T'),\n",
       "  2000-01-01 00:06:00    0.937568\n",
       "  2000-01-01 00:07:00   -2.253294\n",
       "  2000-01-01 00:08:00   -1.772919\n",
       "  2000-01-01 00:09:00   -0.896431\n",
       "  2000-01-01 00:10:00    0.677263\n",
       "  Freq: T, dtype: float64),\n",
       " (Timestamp('2000-01-01 00:15:00', freq='5T'),\n",
       "  2000-01-01 00:11:00    0.036503\n",
       "  Freq: T, dtype: float64)]"
      ]
     },
     "execution_count": 276,
     "metadata": {},
     "output_type": "execute_result"
    }
   ],
   "source": [
    "list(ts.resample('5min', label='right', closed='right'))"
   ]
  },
  {
   "cell_type": "code",
   "execution_count": 277,
   "metadata": {
    "ExecuteTime": {
     "end_time": "2020-11-18T01:54:37.102219Z",
     "start_time": "2020-11-18T01:54:37.085157Z"
    }
   },
   "outputs": [
    {
     "name": "stderr",
     "output_type": "stream",
     "text": [
      "<ipython-input-277-dce415e7b906>:1: FutureWarning: 'loffset' in .resample() and in Grouper() is deprecated.\n",
      "\n",
      ">>> df.resample(freq=\"3s\", loffset=\"8H\")\n",
      "\n",
      "becomes:\n",
      "\n",
      ">>> from pandas.tseries.frequencies import to_offset\n",
      ">>> df = df.resample(freq=\"3s\").mean()\n",
      ">>> df.index = df.index.to_timestamp() + to_offset(\"8H\")\n",
      "\n",
      "  list(ts.resample('5min', label='right', closed='right', loffset='-1s'))\n"
     ]
    },
    {
     "data": {
      "text/plain": [
       "[(Timestamp('2000-01-01 00:00:00', freq='5T'),\n",
       "  2000-01-01   -1.638806\n",
       "  Freq: T, dtype: float64),\n",
       " (Timestamp('2000-01-01 00:05:00', freq='5T'),\n",
       "  2000-01-01 00:01:00    1.401227\n",
       "  2000-01-01 00:02:00    1.758539\n",
       "  2000-01-01 00:03:00    0.628932\n",
       "  2000-01-01 00:04:00   -0.423776\n",
       "  2000-01-01 00:05:00    0.789740\n",
       "  Freq: T, dtype: float64),\n",
       " (Timestamp('2000-01-01 00:10:00', freq='5T'),\n",
       "  2000-01-01 00:06:00    0.937568\n",
       "  2000-01-01 00:07:00   -2.253294\n",
       "  2000-01-01 00:08:00   -1.772919\n",
       "  2000-01-01 00:09:00   -0.896431\n",
       "  2000-01-01 00:10:00    0.677263\n",
       "  Freq: T, dtype: float64),\n",
       " (Timestamp('2000-01-01 00:15:00', freq='5T'),\n",
       "  2000-01-01 00:11:00    0.036503\n",
       "  Freq: T, dtype: float64)]"
      ]
     },
     "execution_count": 277,
     "metadata": {},
     "output_type": "execute_result"
    }
   ],
   "source": [
    "list(ts.resample('5min', label='right', closed='right', loffset='-1s'))"
   ]
  },
  {
   "cell_type": "markdown",
   "metadata": {},
   "source": [
    "#### OHLC重新采样"
   ]
  },
  {
   "cell_type": "markdown",
   "metadata": {},
   "source": [
    "在金融中，为**每个数据桶计算四个值**是一种流行的时间序列聚合方法\n",
    "- 第一个值： 开端 Open\n",
    "- 第二个值： 最大值/峰值 high\n",
    "- 第三个值： 最小值/谷值 lower\n",
    "- 第四个值： 结束 Close"
   ]
  },
  {
   "cell_type": "markdown",
   "metadata": {},
   "source": [
    "通过使用`ohlc`聚合函数将会获得包含四种聚合值的DataFrame，这些值**在数据单次扫描中被高效计算**"
   ]
  },
  {
   "cell_type": "code",
   "execution_count": 280,
   "metadata": {
    "ExecuteTime": {
     "end_time": "2020-11-18T02:09:09.628084Z",
     "start_time": "2020-11-18T02:09:09.606594Z"
    },
    "scrolled": true
   },
   "outputs": [
    {
     "data": {
      "text/html": [
       "<div>\n",
       "<style scoped>\n",
       "    .dataframe tbody tr th:only-of-type {\n",
       "        vertical-align: middle;\n",
       "    }\n",
       "\n",
       "    .dataframe tbody tr th {\n",
       "        vertical-align: top;\n",
       "    }\n",
       "\n",
       "    .dataframe thead th {\n",
       "        text-align: right;\n",
       "    }\n",
       "</style>\n",
       "<table border=\"1\" class=\"dataframe\">\n",
       "  <thead>\n",
       "    <tr style=\"text-align: right;\">\n",
       "      <th></th>\n",
       "      <th>open</th>\n",
       "      <th>high</th>\n",
       "      <th>low</th>\n",
       "      <th>close</th>\n",
       "    </tr>\n",
       "  </thead>\n",
       "  <tbody>\n",
       "    <tr>\n",
       "      <th>2000-01-01 00:00:00</th>\n",
       "      <td>-1.638806</td>\n",
       "      <td>1.758539</td>\n",
       "      <td>-1.638806</td>\n",
       "      <td>-0.423776</td>\n",
       "    </tr>\n",
       "    <tr>\n",
       "      <th>2000-01-01 00:05:00</th>\n",
       "      <td>0.789740</td>\n",
       "      <td>0.937568</td>\n",
       "      <td>-2.253294</td>\n",
       "      <td>-0.896431</td>\n",
       "    </tr>\n",
       "    <tr>\n",
       "      <th>2000-01-01 00:10:00</th>\n",
       "      <td>0.677263</td>\n",
       "      <td>0.677263</td>\n",
       "      <td>0.036503</td>\n",
       "      <td>0.036503</td>\n",
       "    </tr>\n",
       "  </tbody>\n",
       "</table>\n",
       "</div>"
      ],
      "text/plain": [
       "                         open      high       low     close\n",
       "2000-01-01 00:00:00 -1.638806  1.758539 -1.638806 -0.423776\n",
       "2000-01-01 00:05:00  0.789740  0.937568 -2.253294 -0.896431\n",
       "2000-01-01 00:10:00  0.677263  0.677263  0.036503  0.036503"
      ]
     },
     "execution_count": 280,
     "metadata": {},
     "output_type": "execute_result"
    }
   ],
   "source": [
    "ts.resample('5min').ohlc()"
   ]
  },
  {
   "cell_type": "markdown",
   "metadata": {},
   "source": [
    "### 向上采样与插值"
   ]
  },
  {
   "cell_type": "markdown",
   "metadata": {},
   "source": [
    "当从低频转换为高频时，并不需要进行任何聚合"
   ]
  },
  {
   "cell_type": "code",
   "execution_count": 281,
   "metadata": {
    "ExecuteTime": {
     "end_time": "2020-11-18T02:17:12.162045Z",
     "start_time": "2020-11-18T02:17:12.144649Z"
    }
   },
   "outputs": [
    {
     "data": {
      "text/html": [
       "<div>\n",
       "<style scoped>\n",
       "    .dataframe tbody tr th:only-of-type {\n",
       "        vertical-align: middle;\n",
       "    }\n",
       "\n",
       "    .dataframe tbody tr th {\n",
       "        vertical-align: top;\n",
       "    }\n",
       "\n",
       "    .dataframe thead th {\n",
       "        text-align: right;\n",
       "    }\n",
       "</style>\n",
       "<table border=\"1\" class=\"dataframe\">\n",
       "  <thead>\n",
       "    <tr style=\"text-align: right;\">\n",
       "      <th></th>\n",
       "      <th>Colorado</th>\n",
       "      <th>Texas</th>\n",
       "      <th>New York</th>\n",
       "      <th>Ohio</th>\n",
       "    </tr>\n",
       "  </thead>\n",
       "  <tbody>\n",
       "    <tr>\n",
       "      <th>2000-01-05</th>\n",
       "      <td>0.087102</td>\n",
       "      <td>-0.046662</td>\n",
       "      <td>0.927238</td>\n",
       "      <td>0.482284</td>\n",
       "    </tr>\n",
       "    <tr>\n",
       "      <th>2000-01-12</th>\n",
       "      <td>-0.867130</td>\n",
       "      <td>0.493841</td>\n",
       "      <td>-0.155434</td>\n",
       "      <td>1.397286</td>\n",
       "    </tr>\n",
       "  </tbody>\n",
       "</table>\n",
       "</div>"
      ],
      "text/plain": [
       "            Colorado     Texas  New York      Ohio\n",
       "2000-01-05  0.087102 -0.046662  0.927238  0.482284\n",
       "2000-01-12 -0.867130  0.493841 -0.155434  1.397286"
      ]
     },
     "execution_count": 281,
     "metadata": {},
     "output_type": "execute_result"
    }
   ],
   "source": [
    "frame = pd.DataFrame(np.random.randn(2, 4),\n",
    "                     index=pd.date_range('1/1/2000', periods=2,\n",
    "                                         freq='W-WED'),\n",
    "                     columns=['Colorado', 'Texas', 'New York', 'Ohio'])\n",
    "frame"
   ]
  },
  {
   "cell_type": "code",
   "execution_count": 282,
   "metadata": {
    "ExecuteTime": {
     "end_time": "2020-11-18T02:18:14.733922Z",
     "start_time": "2020-11-18T02:18:14.727503Z"
    }
   },
   "outputs": [],
   "source": [
    "df_daily = frame.resample('D').asfreq()"
   ]
  },
  {
   "cell_type": "code",
   "execution_count": 283,
   "metadata": {
    "ExecuteTime": {
     "end_time": "2020-11-18T02:18:18.589810Z",
     "start_time": "2020-11-18T02:18:18.576231Z"
    }
   },
   "outputs": [
    {
     "data": {
      "text/html": [
       "<div>\n",
       "<style scoped>\n",
       "    .dataframe tbody tr th:only-of-type {\n",
       "        vertical-align: middle;\n",
       "    }\n",
       "\n",
       "    .dataframe tbody tr th {\n",
       "        vertical-align: top;\n",
       "    }\n",
       "\n",
       "    .dataframe thead th {\n",
       "        text-align: right;\n",
       "    }\n",
       "</style>\n",
       "<table border=\"1\" class=\"dataframe\">\n",
       "  <thead>\n",
       "    <tr style=\"text-align: right;\">\n",
       "      <th></th>\n",
       "      <th>Colorado</th>\n",
       "      <th>Texas</th>\n",
       "      <th>New York</th>\n",
       "      <th>Ohio</th>\n",
       "    </tr>\n",
       "  </thead>\n",
       "  <tbody>\n",
       "    <tr>\n",
       "      <th>2000-01-05</th>\n",
       "      <td>0.087102</td>\n",
       "      <td>-0.046662</td>\n",
       "      <td>0.927238</td>\n",
       "      <td>0.482284</td>\n",
       "    </tr>\n",
       "    <tr>\n",
       "      <th>2000-01-06</th>\n",
       "      <td>NaN</td>\n",
       "      <td>NaN</td>\n",
       "      <td>NaN</td>\n",
       "      <td>NaN</td>\n",
       "    </tr>\n",
       "    <tr>\n",
       "      <th>2000-01-07</th>\n",
       "      <td>NaN</td>\n",
       "      <td>NaN</td>\n",
       "      <td>NaN</td>\n",
       "      <td>NaN</td>\n",
       "    </tr>\n",
       "    <tr>\n",
       "      <th>2000-01-08</th>\n",
       "      <td>NaN</td>\n",
       "      <td>NaN</td>\n",
       "      <td>NaN</td>\n",
       "      <td>NaN</td>\n",
       "    </tr>\n",
       "    <tr>\n",
       "      <th>2000-01-09</th>\n",
       "      <td>NaN</td>\n",
       "      <td>NaN</td>\n",
       "      <td>NaN</td>\n",
       "      <td>NaN</td>\n",
       "    </tr>\n",
       "    <tr>\n",
       "      <th>2000-01-10</th>\n",
       "      <td>NaN</td>\n",
       "      <td>NaN</td>\n",
       "      <td>NaN</td>\n",
       "      <td>NaN</td>\n",
       "    </tr>\n",
       "    <tr>\n",
       "      <th>2000-01-11</th>\n",
       "      <td>NaN</td>\n",
       "      <td>NaN</td>\n",
       "      <td>NaN</td>\n",
       "      <td>NaN</td>\n",
       "    </tr>\n",
       "    <tr>\n",
       "      <th>2000-01-12</th>\n",
       "      <td>-0.867130</td>\n",
       "      <td>0.493841</td>\n",
       "      <td>-0.155434</td>\n",
       "      <td>1.397286</td>\n",
       "    </tr>\n",
       "  </tbody>\n",
       "</table>\n",
       "</div>"
      ],
      "text/plain": [
       "            Colorado     Texas  New York      Ohio\n",
       "2000-01-05  0.087102 -0.046662  0.927238  0.482284\n",
       "2000-01-06       NaN       NaN       NaN       NaN\n",
       "2000-01-07       NaN       NaN       NaN       NaN\n",
       "2000-01-08       NaN       NaN       NaN       NaN\n",
       "2000-01-09       NaN       NaN       NaN       NaN\n",
       "2000-01-10       NaN       NaN       NaN       NaN\n",
       "2000-01-11       NaN       NaN       NaN       NaN\n",
       "2000-01-12 -0.867130  0.493841 -0.155434  1.397286"
      ]
     },
     "execution_count": 283,
     "metadata": {},
     "output_type": "execute_result"
    }
   ],
   "source": [
    "df_daily"
   ]
  },
  {
   "cell_type": "code",
   "execution_count": 285,
   "metadata": {
    "ExecuteTime": {
     "end_time": "2020-11-18T02:18:34.227778Z",
     "start_time": "2020-11-18T02:18:34.208587Z"
    }
   },
   "outputs": [
    {
     "data": {
      "text/plain": [
       "[(Timestamp('2000-01-05 00:00:00', freq='D'),\n",
       "              Colorado     Texas  New York      Ohio\n",
       "  2000-01-05  0.087102 -0.046662  0.927238  0.482284),\n",
       " (Timestamp('2000-01-06 00:00:00', freq='D'),\n",
       "  Empty DataFrame\n",
       "  Columns: [Colorado, Texas, New York, Ohio]\n",
       "  Index: []),\n",
       " (Timestamp('2000-01-07 00:00:00', freq='D'),\n",
       "  Empty DataFrame\n",
       "  Columns: [Colorado, Texas, New York, Ohio]\n",
       "  Index: []),\n",
       " (Timestamp('2000-01-08 00:00:00', freq='D'),\n",
       "  Empty DataFrame\n",
       "  Columns: [Colorado, Texas, New York, Ohio]\n",
       "  Index: []),\n",
       " (Timestamp('2000-01-09 00:00:00', freq='D'),\n",
       "  Empty DataFrame\n",
       "  Columns: [Colorado, Texas, New York, Ohio]\n",
       "  Index: []),\n",
       " (Timestamp('2000-01-10 00:00:00', freq='D'),\n",
       "  Empty DataFrame\n",
       "  Columns: [Colorado, Texas, New York, Ohio]\n",
       "  Index: []),\n",
       " (Timestamp('2000-01-11 00:00:00', freq='D'),\n",
       "  Empty DataFrame\n",
       "  Columns: [Colorado, Texas, New York, Ohio]\n",
       "  Index: []),\n",
       " (Timestamp('2000-01-12 00:00:00', freq='D'),\n",
       "              Colorado     Texas  New York      Ohio\n",
       "  2000-01-12  -0.86713  0.493841 -0.155434  1.397286)]"
      ]
     },
     "execution_count": 285,
     "metadata": {},
     "output_type": "execute_result"
    }
   ],
   "source": [
    "list(frame.resample('D'))"
   ]
  },
  {
   "cell_type": "code",
   "execution_count": 287,
   "metadata": {
    "ExecuteTime": {
     "end_time": "2020-11-18T02:19:59.953961Z",
     "start_time": "2020-11-18T02:19:59.936942Z"
    }
   },
   "outputs": [
    {
     "data": {
      "text/html": [
       "<div>\n",
       "<style scoped>\n",
       "    .dataframe tbody tr th:only-of-type {\n",
       "        vertical-align: middle;\n",
       "    }\n",
       "\n",
       "    .dataframe tbody tr th {\n",
       "        vertical-align: top;\n",
       "    }\n",
       "\n",
       "    .dataframe thead th {\n",
       "        text-align: right;\n",
       "    }\n",
       "</style>\n",
       "<table border=\"1\" class=\"dataframe\">\n",
       "  <thead>\n",
       "    <tr style=\"text-align: right;\">\n",
       "      <th></th>\n",
       "      <th>Colorado</th>\n",
       "      <th>Texas</th>\n",
       "      <th>New York</th>\n",
       "      <th>Ohio</th>\n",
       "    </tr>\n",
       "  </thead>\n",
       "  <tbody>\n",
       "    <tr>\n",
       "      <th>2000-01-05</th>\n",
       "      <td>0.087102</td>\n",
       "      <td>-0.046662</td>\n",
       "      <td>0.927238</td>\n",
       "      <td>0.482284</td>\n",
       "    </tr>\n",
       "    <tr>\n",
       "      <th>2000-01-06</th>\n",
       "      <td>0.087102</td>\n",
       "      <td>-0.046662</td>\n",
       "      <td>0.927238</td>\n",
       "      <td>0.482284</td>\n",
       "    </tr>\n",
       "    <tr>\n",
       "      <th>2000-01-07</th>\n",
       "      <td>0.087102</td>\n",
       "      <td>-0.046662</td>\n",
       "      <td>0.927238</td>\n",
       "      <td>0.482284</td>\n",
       "    </tr>\n",
       "    <tr>\n",
       "      <th>2000-01-08</th>\n",
       "      <td>0.087102</td>\n",
       "      <td>-0.046662</td>\n",
       "      <td>0.927238</td>\n",
       "      <td>0.482284</td>\n",
       "    </tr>\n",
       "    <tr>\n",
       "      <th>2000-01-09</th>\n",
       "      <td>0.087102</td>\n",
       "      <td>-0.046662</td>\n",
       "      <td>0.927238</td>\n",
       "      <td>0.482284</td>\n",
       "    </tr>\n",
       "    <tr>\n",
       "      <th>2000-01-10</th>\n",
       "      <td>0.087102</td>\n",
       "      <td>-0.046662</td>\n",
       "      <td>0.927238</td>\n",
       "      <td>0.482284</td>\n",
       "    </tr>\n",
       "    <tr>\n",
       "      <th>2000-01-11</th>\n",
       "      <td>0.087102</td>\n",
       "      <td>-0.046662</td>\n",
       "      <td>0.927238</td>\n",
       "      <td>0.482284</td>\n",
       "    </tr>\n",
       "    <tr>\n",
       "      <th>2000-01-12</th>\n",
       "      <td>-0.867130</td>\n",
       "      <td>0.493841</td>\n",
       "      <td>-0.155434</td>\n",
       "      <td>1.397286</td>\n",
       "    </tr>\n",
       "  </tbody>\n",
       "</table>\n",
       "</div>"
      ],
      "text/plain": [
       "            Colorado     Texas  New York      Ohio\n",
       "2000-01-05  0.087102 -0.046662  0.927238  0.482284\n",
       "2000-01-06  0.087102 -0.046662  0.927238  0.482284\n",
       "2000-01-07  0.087102 -0.046662  0.927238  0.482284\n",
       "2000-01-08  0.087102 -0.046662  0.927238  0.482284\n",
       "2000-01-09  0.087102 -0.046662  0.927238  0.482284\n",
       "2000-01-10  0.087102 -0.046662  0.927238  0.482284\n",
       "2000-01-11  0.087102 -0.046662  0.927238  0.482284\n",
       "2000-01-12 -0.867130  0.493841 -0.155434  1.397286"
      ]
     },
     "execution_count": 287,
     "metadata": {},
     "output_type": "execute_result"
    }
   ],
   "source": [
    "df_daily.ffill()"
   ]
  },
  {
   "cell_type": "code",
   "execution_count": 288,
   "metadata": {
    "ExecuteTime": {
     "end_time": "2020-11-18T02:20:49.586246Z",
     "start_time": "2020-11-18T02:20:49.574782Z"
    }
   },
   "outputs": [
    {
     "ename": "TypeError",
     "evalue": "resample() got an unexpected keyword argument 'fill_method'",
     "output_type": "error",
     "traceback": [
      "\u001b[0;31m---------------------------------------------------------------------------\u001b[0m",
      "\u001b[0;31mTypeError\u001b[0m                                 Traceback (most recent call last)",
      "\u001b[0;32m<ipython-input-288-f862e59f0651>\u001b[0m in \u001b[0;36m<module>\u001b[0;34m\u001b[0m\n\u001b[0;32m----> 1\u001b[0;31m \u001b[0mlist\u001b[0m\u001b[0;34m(\u001b[0m\u001b[0mframe\u001b[0m\u001b[0;34m.\u001b[0m\u001b[0mresample\u001b[0m\u001b[0;34m(\u001b[0m\u001b[0;34m'D'\u001b[0m\u001b[0;34m,\u001b[0m \u001b[0mfill_method\u001b[0m\u001b[0;34m=\u001b[0m\u001b[0;34m'ffill'\u001b[0m\u001b[0;34m)\u001b[0m\u001b[0;34m)\u001b[0m\u001b[0;34m\u001b[0m\u001b[0;34m\u001b[0m\u001b[0m\n\u001b[0m",
      "\u001b[0;31mTypeError\u001b[0m: resample() got an unexpected keyword argument 'fill_method'"
     ]
    }
   ],
   "source": [
    "list(frame.resample('D', fill_method='ffill'))"
   ]
  },
  {
   "cell_type": "code",
   "execution_count": 291,
   "metadata": {
    "ExecuteTime": {
     "end_time": "2020-11-18T02:22:25.056947Z",
     "start_time": "2020-11-18T02:22:25.036541Z"
    }
   },
   "outputs": [
    {
     "data": {
      "text/html": [
       "<div>\n",
       "<style scoped>\n",
       "    .dataframe tbody tr th:only-of-type {\n",
       "        vertical-align: middle;\n",
       "    }\n",
       "\n",
       "    .dataframe tbody tr th {\n",
       "        vertical-align: top;\n",
       "    }\n",
       "\n",
       "    .dataframe thead th {\n",
       "        text-align: right;\n",
       "    }\n",
       "</style>\n",
       "<table border=\"1\" class=\"dataframe\">\n",
       "  <thead>\n",
       "    <tr style=\"text-align: right;\">\n",
       "      <th></th>\n",
       "      <th>Colorado</th>\n",
       "      <th>Texas</th>\n",
       "      <th>New York</th>\n",
       "      <th>Ohio</th>\n",
       "    </tr>\n",
       "  </thead>\n",
       "  <tbody>\n",
       "    <tr>\n",
       "      <th>2000-01-05</th>\n",
       "      <td>0.087102</td>\n",
       "      <td>-0.046662</td>\n",
       "      <td>0.927238</td>\n",
       "      <td>0.482284</td>\n",
       "    </tr>\n",
       "    <tr>\n",
       "      <th>2000-01-06</th>\n",
       "      <td>100.000000</td>\n",
       "      <td>100.000000</td>\n",
       "      <td>100.000000</td>\n",
       "      <td>100.000000</td>\n",
       "    </tr>\n",
       "    <tr>\n",
       "      <th>2000-01-07</th>\n",
       "      <td>100.000000</td>\n",
       "      <td>100.000000</td>\n",
       "      <td>100.000000</td>\n",
       "      <td>100.000000</td>\n",
       "    </tr>\n",
       "    <tr>\n",
       "      <th>2000-01-08</th>\n",
       "      <td>100.000000</td>\n",
       "      <td>100.000000</td>\n",
       "      <td>100.000000</td>\n",
       "      <td>100.000000</td>\n",
       "    </tr>\n",
       "    <tr>\n",
       "      <th>2000-01-09</th>\n",
       "      <td>100.000000</td>\n",
       "      <td>100.000000</td>\n",
       "      <td>100.000000</td>\n",
       "      <td>100.000000</td>\n",
       "    </tr>\n",
       "    <tr>\n",
       "      <th>2000-01-10</th>\n",
       "      <td>100.000000</td>\n",
       "      <td>100.000000</td>\n",
       "      <td>100.000000</td>\n",
       "      <td>100.000000</td>\n",
       "    </tr>\n",
       "    <tr>\n",
       "      <th>2000-01-11</th>\n",
       "      <td>100.000000</td>\n",
       "      <td>100.000000</td>\n",
       "      <td>100.000000</td>\n",
       "      <td>100.000000</td>\n",
       "    </tr>\n",
       "    <tr>\n",
       "      <th>2000-01-12</th>\n",
       "      <td>-0.867130</td>\n",
       "      <td>0.493841</td>\n",
       "      <td>-0.155434</td>\n",
       "      <td>1.397286</td>\n",
       "    </tr>\n",
       "  </tbody>\n",
       "</table>\n",
       "</div>"
      ],
      "text/plain": [
       "              Colorado       Texas    New York        Ohio\n",
       "2000-01-05    0.087102   -0.046662    0.927238    0.482284\n",
       "2000-01-06  100.000000  100.000000  100.000000  100.000000\n",
       "2000-01-07  100.000000  100.000000  100.000000  100.000000\n",
       "2000-01-08  100.000000  100.000000  100.000000  100.000000\n",
       "2000-01-09  100.000000  100.000000  100.000000  100.000000\n",
       "2000-01-10  100.000000  100.000000  100.000000  100.000000\n",
       "2000-01-11  100.000000  100.000000  100.000000  100.000000\n",
       "2000-01-12   -0.867130    0.493841   -0.155434    1.397286"
      ]
     },
     "execution_count": 291,
     "metadata": {},
     "output_type": "execute_result"
    }
   ],
   "source": [
    "df_daily.fillna(100)"
   ]
  },
  {
   "cell_type": "code",
   "execution_count": 293,
   "metadata": {
    "ExecuteTime": {
     "end_time": "2020-11-18T02:25:17.176633Z",
     "start_time": "2020-11-18T02:25:17.162148Z"
    }
   },
   "outputs": [
    {
     "data": {
      "text/html": [
       "<div>\n",
       "<style scoped>\n",
       "    .dataframe tbody tr th:only-of-type {\n",
       "        vertical-align: middle;\n",
       "    }\n",
       "\n",
       "    .dataframe tbody tr th {\n",
       "        vertical-align: top;\n",
       "    }\n",
       "\n",
       "    .dataframe thead th {\n",
       "        text-align: right;\n",
       "    }\n",
       "</style>\n",
       "<table border=\"1\" class=\"dataframe\">\n",
       "  <thead>\n",
       "    <tr style=\"text-align: right;\">\n",
       "      <th></th>\n",
       "      <th>Colorado</th>\n",
       "      <th>Texas</th>\n",
       "      <th>New York</th>\n",
       "      <th>Ohio</th>\n",
       "    </tr>\n",
       "  </thead>\n",
       "  <tbody>\n",
       "    <tr>\n",
       "      <th>2000-01-06</th>\n",
       "      <td>NaN</td>\n",
       "      <td>NaN</td>\n",
       "      <td>NaN</td>\n",
       "      <td>NaN</td>\n",
       "    </tr>\n",
       "    <tr>\n",
       "      <th>2000-01-13</th>\n",
       "      <td>NaN</td>\n",
       "      <td>NaN</td>\n",
       "      <td>NaN</td>\n",
       "      <td>NaN</td>\n",
       "    </tr>\n",
       "  </tbody>\n",
       "</table>\n",
       "</div>"
      ],
      "text/plain": [
       "            Colorado  Texas  New York  Ohio\n",
       "2000-01-06       NaN    NaN       NaN   NaN\n",
       "2000-01-13       NaN    NaN       NaN   NaN"
      ]
     },
     "execution_count": 293,
     "metadata": {},
     "output_type": "execute_result"
    }
   ],
   "source": [
    "frame.resample('W-THU').asfreq()"
   ]
  },
  {
   "cell_type": "code",
   "execution_count": 294,
   "metadata": {
    "ExecuteTime": {
     "end_time": "2020-11-18T02:25:26.350828Z",
     "start_time": "2020-11-18T02:25:26.335758Z"
    }
   },
   "outputs": [
    {
     "data": {
      "text/html": [
       "<div>\n",
       "<style scoped>\n",
       "    .dataframe tbody tr th:only-of-type {\n",
       "        vertical-align: middle;\n",
       "    }\n",
       "\n",
       "    .dataframe tbody tr th {\n",
       "        vertical-align: top;\n",
       "    }\n",
       "\n",
       "    .dataframe thead th {\n",
       "        text-align: right;\n",
       "    }\n",
       "</style>\n",
       "<table border=\"1\" class=\"dataframe\">\n",
       "  <thead>\n",
       "    <tr style=\"text-align: right;\">\n",
       "      <th></th>\n",
       "      <th>Colorado</th>\n",
       "      <th>Texas</th>\n",
       "      <th>New York</th>\n",
       "      <th>Ohio</th>\n",
       "    </tr>\n",
       "  </thead>\n",
       "  <tbody>\n",
       "    <tr>\n",
       "      <th>2000-01-06</th>\n",
       "      <td>0.087102</td>\n",
       "      <td>-0.046662</td>\n",
       "      <td>0.927238</td>\n",
       "      <td>0.482284</td>\n",
       "    </tr>\n",
       "    <tr>\n",
       "      <th>2000-01-13</th>\n",
       "      <td>-0.867130</td>\n",
       "      <td>0.493841</td>\n",
       "      <td>-0.155434</td>\n",
       "      <td>1.397286</td>\n",
       "    </tr>\n",
       "  </tbody>\n",
       "</table>\n",
       "</div>"
      ],
      "text/plain": [
       "            Colorado     Texas  New York      Ohio\n",
       "2000-01-06  0.087102 -0.046662  0.927238  0.482284\n",
       "2000-01-13 -0.867130  0.493841 -0.155434  1.397286"
      ]
     },
     "execution_count": 294,
     "metadata": {},
     "output_type": "execute_result"
    }
   ],
   "source": [
    "frame.resample('W-THU').ffill()"
   ]
  },
  {
   "cell_type": "markdown",
   "metadata": {},
   "source": [
    "### 使用区间进行重新采样"
   ]
  },
  {
   "cell_type": "markdown",
   "metadata": {},
   "source": [
    "对以区间为索引的数据进行采样与时间戳的情况类似"
   ]
  },
  {
   "cell_type": "code",
   "execution_count": 295,
   "metadata": {
    "ExecuteTime": {
     "end_time": "2020-11-18T02:51:55.534298Z",
     "start_time": "2020-11-18T02:51:55.515120Z"
    }
   },
   "outputs": [
    {
     "data": {
      "text/html": [
       "<div>\n",
       "<style scoped>\n",
       "    .dataframe tbody tr th:only-of-type {\n",
       "        vertical-align: middle;\n",
       "    }\n",
       "\n",
       "    .dataframe tbody tr th {\n",
       "        vertical-align: top;\n",
       "    }\n",
       "\n",
       "    .dataframe thead th {\n",
       "        text-align: right;\n",
       "    }\n",
       "</style>\n",
       "<table border=\"1\" class=\"dataframe\">\n",
       "  <thead>\n",
       "    <tr style=\"text-align: right;\">\n",
       "      <th></th>\n",
       "      <th>Colorado</th>\n",
       "      <th>Texas</th>\n",
       "      <th>New York</th>\n",
       "      <th>Ohio</th>\n",
       "    </tr>\n",
       "  </thead>\n",
       "  <tbody>\n",
       "    <tr>\n",
       "      <th>2000-01</th>\n",
       "      <td>1.507055</td>\n",
       "      <td>-1.179442</td>\n",
       "      <td>0.443171</td>\n",
       "      <td>1.395676</td>\n",
       "    </tr>\n",
       "    <tr>\n",
       "      <th>2000-02</th>\n",
       "      <td>-0.529658</td>\n",
       "      <td>0.787358</td>\n",
       "      <td>0.248845</td>\n",
       "      <td>0.743239</td>\n",
       "    </tr>\n",
       "    <tr>\n",
       "      <th>2000-03</th>\n",
       "      <td>1.267746</td>\n",
       "      <td>1.302395</td>\n",
       "      <td>-0.272154</td>\n",
       "      <td>-0.051532</td>\n",
       "    </tr>\n",
       "    <tr>\n",
       "      <th>2000-04</th>\n",
       "      <td>-0.467740</td>\n",
       "      <td>-1.040816</td>\n",
       "      <td>0.426419</td>\n",
       "      <td>0.312945</td>\n",
       "    </tr>\n",
       "    <tr>\n",
       "      <th>2000-05</th>\n",
       "      <td>-1.115689</td>\n",
       "      <td>1.234297</td>\n",
       "      <td>-1.893094</td>\n",
       "      <td>-1.661605</td>\n",
       "    </tr>\n",
       "  </tbody>\n",
       "</table>\n",
       "</div>"
      ],
      "text/plain": [
       "         Colorado     Texas  New York      Ohio\n",
       "2000-01  1.507055 -1.179442  0.443171  1.395676\n",
       "2000-02 -0.529658  0.787358  0.248845  0.743239\n",
       "2000-03  1.267746  1.302395 -0.272154 -0.051532\n",
       "2000-04 -0.467740 -1.040816  0.426419  0.312945\n",
       "2000-05 -1.115689  1.234297 -1.893094 -1.661605"
      ]
     },
     "execution_count": 295,
     "metadata": {},
     "output_type": "execute_result"
    }
   ],
   "source": [
    "frame = pd.DataFrame(np.random.randn(24, 4),\n",
    "                     index=pd.period_range('1-2000', '12-2001',\n",
    "                                           freq='M'),\n",
    "                     columns=['Colorado', 'Texas', 'New York', 'Ohio'])\n",
    "frame[:5]"
   ]
  },
  {
   "cell_type": "code",
   "execution_count": 297,
   "metadata": {
    "ExecuteTime": {
     "end_time": "2020-11-18T02:52:25.773975Z",
     "start_time": "2020-11-18T02:52:25.763252Z"
    }
   },
   "outputs": [],
   "source": [
    "annual_frame = frame.resample('A-DEC').mean()"
   ]
  },
  {
   "cell_type": "code",
   "execution_count": 298,
   "metadata": {
    "ExecuteTime": {
     "end_time": "2020-11-18T02:52:31.198395Z",
     "start_time": "2020-11-18T02:52:31.186361Z"
    }
   },
   "outputs": [
    {
     "data": {
      "text/html": [
       "<div>\n",
       "<style scoped>\n",
       "    .dataframe tbody tr th:only-of-type {\n",
       "        vertical-align: middle;\n",
       "    }\n",
       "\n",
       "    .dataframe tbody tr th {\n",
       "        vertical-align: top;\n",
       "    }\n",
       "\n",
       "    .dataframe thead th {\n",
       "        text-align: right;\n",
       "    }\n",
       "</style>\n",
       "<table border=\"1\" class=\"dataframe\">\n",
       "  <thead>\n",
       "    <tr style=\"text-align: right;\">\n",
       "      <th></th>\n",
       "      <th>Colorado</th>\n",
       "      <th>Texas</th>\n",
       "      <th>New York</th>\n",
       "      <th>Ohio</th>\n",
       "    </tr>\n",
       "  </thead>\n",
       "  <tbody>\n",
       "    <tr>\n",
       "      <th>2000</th>\n",
       "      <td>-0.027445</td>\n",
       "      <td>0.487329</td>\n",
       "      <td>0.104466</td>\n",
       "      <td>0.020495</td>\n",
       "    </tr>\n",
       "    <tr>\n",
       "      <th>2001</th>\n",
       "      <td>-0.157276</td>\n",
       "      <td>0.203125</td>\n",
       "      <td>0.162429</td>\n",
       "      <td>0.056146</td>\n",
       "    </tr>\n",
       "  </tbody>\n",
       "</table>\n",
       "</div>"
      ],
      "text/plain": [
       "      Colorado     Texas  New York      Ohio\n",
       "2000 -0.027445  0.487329  0.104466  0.020495\n",
       "2001 -0.157276  0.203125  0.162429  0.056146"
      ]
     },
     "execution_count": 298,
     "metadata": {},
     "output_type": "execute_result"
    }
   ],
   "source": [
    "annual_frame"
   ]
  },
  {
   "cell_type": "code",
   "execution_count": 299,
   "metadata": {
    "ExecuteTime": {
     "end_time": "2020-11-18T02:53:52.778802Z",
     "start_time": "2020-11-18T02:53:52.763736Z"
    }
   },
   "outputs": [
    {
     "data": {
      "text/html": [
       "<div>\n",
       "<style scoped>\n",
       "    .dataframe tbody tr th:only-of-type {\n",
       "        vertical-align: middle;\n",
       "    }\n",
       "\n",
       "    .dataframe tbody tr th {\n",
       "        vertical-align: top;\n",
       "    }\n",
       "\n",
       "    .dataframe thead th {\n",
       "        text-align: right;\n",
       "    }\n",
       "</style>\n",
       "<table border=\"1\" class=\"dataframe\">\n",
       "  <thead>\n",
       "    <tr style=\"text-align: right;\">\n",
       "      <th></th>\n",
       "      <th>Colorado</th>\n",
       "      <th>Texas</th>\n",
       "      <th>New York</th>\n",
       "      <th>Ohio</th>\n",
       "    </tr>\n",
       "  </thead>\n",
       "  <tbody>\n",
       "    <tr>\n",
       "      <th>2000Q1</th>\n",
       "      <td>-0.027445</td>\n",
       "      <td>0.487329</td>\n",
       "      <td>0.104466</td>\n",
       "      <td>0.020495</td>\n",
       "    </tr>\n",
       "    <tr>\n",
       "      <th>2000Q2</th>\n",
       "      <td>NaN</td>\n",
       "      <td>NaN</td>\n",
       "      <td>NaN</td>\n",
       "      <td>NaN</td>\n",
       "    </tr>\n",
       "    <tr>\n",
       "      <th>2000Q3</th>\n",
       "      <td>NaN</td>\n",
       "      <td>NaN</td>\n",
       "      <td>NaN</td>\n",
       "      <td>NaN</td>\n",
       "    </tr>\n",
       "    <tr>\n",
       "      <th>2000Q4</th>\n",
       "      <td>NaN</td>\n",
       "      <td>NaN</td>\n",
       "      <td>NaN</td>\n",
       "      <td>NaN</td>\n",
       "    </tr>\n",
       "    <tr>\n",
       "      <th>2001Q1</th>\n",
       "      <td>-0.157276</td>\n",
       "      <td>0.203125</td>\n",
       "      <td>0.162429</td>\n",
       "      <td>0.056146</td>\n",
       "    </tr>\n",
       "    <tr>\n",
       "      <th>2001Q2</th>\n",
       "      <td>NaN</td>\n",
       "      <td>NaN</td>\n",
       "      <td>NaN</td>\n",
       "      <td>NaN</td>\n",
       "    </tr>\n",
       "    <tr>\n",
       "      <th>2001Q3</th>\n",
       "      <td>NaN</td>\n",
       "      <td>NaN</td>\n",
       "      <td>NaN</td>\n",
       "      <td>NaN</td>\n",
       "    </tr>\n",
       "    <tr>\n",
       "      <th>2001Q4</th>\n",
       "      <td>NaN</td>\n",
       "      <td>NaN</td>\n",
       "      <td>NaN</td>\n",
       "      <td>NaN</td>\n",
       "    </tr>\n",
       "  </tbody>\n",
       "</table>\n",
       "</div>"
      ],
      "text/plain": [
       "        Colorado     Texas  New York      Ohio\n",
       "2000Q1 -0.027445  0.487329  0.104466  0.020495\n",
       "2000Q2       NaN       NaN       NaN       NaN\n",
       "2000Q3       NaN       NaN       NaN       NaN\n",
       "2000Q4       NaN       NaN       NaN       NaN\n",
       "2001Q1 -0.157276  0.203125  0.162429  0.056146\n",
       "2001Q2       NaN       NaN       NaN       NaN\n",
       "2001Q3       NaN       NaN       NaN       NaN\n",
       "2001Q4       NaN       NaN       NaN       NaN"
      ]
     },
     "execution_count": 299,
     "metadata": {},
     "output_type": "execute_result"
    }
   ],
   "source": [
    "annual_frame.resample('Q-DEC').asfreq()"
   ]
  },
  {
   "cell_type": "code",
   "execution_count": 300,
   "metadata": {
    "ExecuteTime": {
     "end_time": "2020-11-18T02:54:18.841229Z",
     "start_time": "2020-11-18T02:54:18.825769Z"
    }
   },
   "outputs": [
    {
     "data": {
      "text/html": [
       "<div>\n",
       "<style scoped>\n",
       "    .dataframe tbody tr th:only-of-type {\n",
       "        vertical-align: middle;\n",
       "    }\n",
       "\n",
       "    .dataframe tbody tr th {\n",
       "        vertical-align: top;\n",
       "    }\n",
       "\n",
       "    .dataframe thead th {\n",
       "        text-align: right;\n",
       "    }\n",
       "</style>\n",
       "<table border=\"1\" class=\"dataframe\">\n",
       "  <thead>\n",
       "    <tr style=\"text-align: right;\">\n",
       "      <th></th>\n",
       "      <th>Colorado</th>\n",
       "      <th>Texas</th>\n",
       "      <th>New York</th>\n",
       "      <th>Ohio</th>\n",
       "    </tr>\n",
       "  </thead>\n",
       "  <tbody>\n",
       "    <tr>\n",
       "      <th>2000Q4</th>\n",
       "      <td>-0.027445</td>\n",
       "      <td>0.487329</td>\n",
       "      <td>0.104466</td>\n",
       "      <td>0.020495</td>\n",
       "    </tr>\n",
       "    <tr>\n",
       "      <th>2001Q1</th>\n",
       "      <td>NaN</td>\n",
       "      <td>NaN</td>\n",
       "      <td>NaN</td>\n",
       "      <td>NaN</td>\n",
       "    </tr>\n",
       "    <tr>\n",
       "      <th>2001Q2</th>\n",
       "      <td>NaN</td>\n",
       "      <td>NaN</td>\n",
       "      <td>NaN</td>\n",
       "      <td>NaN</td>\n",
       "    </tr>\n",
       "    <tr>\n",
       "      <th>2001Q3</th>\n",
       "      <td>NaN</td>\n",
       "      <td>NaN</td>\n",
       "      <td>NaN</td>\n",
       "      <td>NaN</td>\n",
       "    </tr>\n",
       "    <tr>\n",
       "      <th>2001Q4</th>\n",
       "      <td>-0.157276</td>\n",
       "      <td>0.203125</td>\n",
       "      <td>0.162429</td>\n",
       "      <td>0.056146</td>\n",
       "    </tr>\n",
       "  </tbody>\n",
       "</table>\n",
       "</div>"
      ],
      "text/plain": [
       "        Colorado     Texas  New York      Ohio\n",
       "2000Q4 -0.027445  0.487329  0.104466  0.020495\n",
       "2001Q1       NaN       NaN       NaN       NaN\n",
       "2001Q2       NaN       NaN       NaN       NaN\n",
       "2001Q3       NaN       NaN       NaN       NaN\n",
       "2001Q4 -0.157276  0.203125  0.162429  0.056146"
      ]
     },
     "execution_count": 300,
     "metadata": {},
     "output_type": "execute_result"
    }
   ],
   "source": [
    "annual_frame.resample('Q-DEC', convention='end').asfreq()"
   ]
  },
  {
   "cell_type": "code",
   "execution_count": 302,
   "metadata": {
    "ExecuteTime": {
     "end_time": "2020-11-18T02:54:58.542064Z",
     "start_time": "2020-11-18T02:54:58.522900Z"
    }
   },
   "outputs": [
    {
     "data": {
      "text/html": [
       "<div>\n",
       "<style scoped>\n",
       "    .dataframe tbody tr th:only-of-type {\n",
       "        vertical-align: middle;\n",
       "    }\n",
       "\n",
       "    .dataframe tbody tr th {\n",
       "        vertical-align: top;\n",
       "    }\n",
       "\n",
       "    .dataframe thead th {\n",
       "        text-align: right;\n",
       "    }\n",
       "</style>\n",
       "<table border=\"1\" class=\"dataframe\">\n",
       "  <thead>\n",
       "    <tr style=\"text-align: right;\">\n",
       "      <th></th>\n",
       "      <th>Colorado</th>\n",
       "      <th>Texas</th>\n",
       "      <th>New York</th>\n",
       "      <th>Ohio</th>\n",
       "    </tr>\n",
       "  </thead>\n",
       "  <tbody>\n",
       "    <tr>\n",
       "      <th>2000Q1</th>\n",
       "      <td>-0.027445</td>\n",
       "      <td>0.487329</td>\n",
       "      <td>0.104466</td>\n",
       "      <td>0.020495</td>\n",
       "    </tr>\n",
       "    <tr>\n",
       "      <th>2000Q2</th>\n",
       "      <td>-0.027445</td>\n",
       "      <td>0.487329</td>\n",
       "      <td>0.104466</td>\n",
       "      <td>0.020495</td>\n",
       "    </tr>\n",
       "    <tr>\n",
       "      <th>2000Q3</th>\n",
       "      <td>-0.027445</td>\n",
       "      <td>0.487329</td>\n",
       "      <td>0.104466</td>\n",
       "      <td>0.020495</td>\n",
       "    </tr>\n",
       "    <tr>\n",
       "      <th>2000Q4</th>\n",
       "      <td>-0.027445</td>\n",
       "      <td>0.487329</td>\n",
       "      <td>0.104466</td>\n",
       "      <td>0.020495</td>\n",
       "    </tr>\n",
       "    <tr>\n",
       "      <th>2001Q1</th>\n",
       "      <td>-0.157276</td>\n",
       "      <td>0.203125</td>\n",
       "      <td>0.162429</td>\n",
       "      <td>0.056146</td>\n",
       "    </tr>\n",
       "    <tr>\n",
       "      <th>2001Q2</th>\n",
       "      <td>-0.157276</td>\n",
       "      <td>0.203125</td>\n",
       "      <td>0.162429</td>\n",
       "      <td>0.056146</td>\n",
       "    </tr>\n",
       "    <tr>\n",
       "      <th>2001Q3</th>\n",
       "      <td>-0.157276</td>\n",
       "      <td>0.203125</td>\n",
       "      <td>0.162429</td>\n",
       "      <td>0.056146</td>\n",
       "    </tr>\n",
       "    <tr>\n",
       "      <th>2001Q4</th>\n",
       "      <td>-0.157276</td>\n",
       "      <td>0.203125</td>\n",
       "      <td>0.162429</td>\n",
       "      <td>0.056146</td>\n",
       "    </tr>\n",
       "  </tbody>\n",
       "</table>\n",
       "</div>"
      ],
      "text/plain": [
       "        Colorado     Texas  New York      Ohio\n",
       "2000Q1 -0.027445  0.487329  0.104466  0.020495\n",
       "2000Q2 -0.027445  0.487329  0.104466  0.020495\n",
       "2000Q3 -0.027445  0.487329  0.104466  0.020495\n",
       "2000Q4 -0.027445  0.487329  0.104466  0.020495\n",
       "2001Q1 -0.157276  0.203125  0.162429  0.056146\n",
       "2001Q2 -0.157276  0.203125  0.162429  0.056146\n",
       "2001Q3 -0.157276  0.203125  0.162429  0.056146\n",
       "2001Q4 -0.157276  0.203125  0.162429  0.056146"
      ]
     },
     "execution_count": 302,
     "metadata": {},
     "output_type": "execute_result"
    }
   ],
   "source": [
    "annual_frame.resample('Q-DEC').asfreq().ffill()"
   ]
  },
  {
   "cell_type": "markdown",
   "metadata": {},
   "source": [
    "由于区间涉及时间范围，向上采样和向下采样就更为严格\n",
    "- 向上采样中，目标频率必须是原频率的父区间\n",
    "- 向下采样中，目标频率必须是原频率的子区间"
   ]
  },
  {
   "cell_type": "code",
   "execution_count": 303,
   "metadata": {
    "ExecuteTime": {
     "end_time": "2020-11-18T03:15:11.300294Z",
     "start_time": "2020-11-18T03:15:11.285110Z"
    }
   },
   "outputs": [
    {
     "data": {
      "text/html": [
       "<div>\n",
       "<style scoped>\n",
       "    .dataframe tbody tr th:only-of-type {\n",
       "        vertical-align: middle;\n",
       "    }\n",
       "\n",
       "    .dataframe tbody tr th {\n",
       "        vertical-align: top;\n",
       "    }\n",
       "\n",
       "    .dataframe thead th {\n",
       "        text-align: right;\n",
       "    }\n",
       "</style>\n",
       "<table border=\"1\" class=\"dataframe\">\n",
       "  <thead>\n",
       "    <tr style=\"text-align: right;\">\n",
       "      <th></th>\n",
       "      <th>Colorado</th>\n",
       "      <th>Texas</th>\n",
       "      <th>New York</th>\n",
       "      <th>Ohio</th>\n",
       "    </tr>\n",
       "  </thead>\n",
       "  <tbody>\n",
       "    <tr>\n",
       "      <th>2000</th>\n",
       "      <td>-0.027445</td>\n",
       "      <td>0.487329</td>\n",
       "      <td>0.104466</td>\n",
       "      <td>0.020495</td>\n",
       "    </tr>\n",
       "    <tr>\n",
       "      <th>2001</th>\n",
       "      <td>-0.157276</td>\n",
       "      <td>0.203125</td>\n",
       "      <td>0.162429</td>\n",
       "      <td>0.056146</td>\n",
       "    </tr>\n",
       "  </tbody>\n",
       "</table>\n",
       "</div>"
      ],
      "text/plain": [
       "      Colorado     Texas  New York      Ohio\n",
       "2000 -0.027445  0.487329  0.104466  0.020495\n",
       "2001 -0.157276  0.203125  0.162429  0.056146"
      ]
     },
     "execution_count": 303,
     "metadata": {},
     "output_type": "execute_result"
    }
   ],
   "source": [
    "annual_frame"
   ]
  },
  {
   "cell_type": "code",
   "execution_count": 304,
   "metadata": {
    "ExecuteTime": {
     "end_time": "2020-11-18T03:15:29.110083Z",
     "start_time": "2020-11-18T03:15:29.095459Z"
    }
   },
   "outputs": [
    {
     "data": {
      "text/html": [
       "<div>\n",
       "<style scoped>\n",
       "    .dataframe tbody tr th:only-of-type {\n",
       "        vertical-align: middle;\n",
       "    }\n",
       "\n",
       "    .dataframe tbody tr th {\n",
       "        vertical-align: top;\n",
       "    }\n",
       "\n",
       "    .dataframe thead th {\n",
       "        text-align: right;\n",
       "    }\n",
       "</style>\n",
       "<table border=\"1\" class=\"dataframe\">\n",
       "  <thead>\n",
       "    <tr style=\"text-align: right;\">\n",
       "      <th></th>\n",
       "      <th>Colorado</th>\n",
       "      <th>Texas</th>\n",
       "      <th>New York</th>\n",
       "      <th>Ohio</th>\n",
       "    </tr>\n",
       "  </thead>\n",
       "  <tbody>\n",
       "    <tr>\n",
       "      <th>2000Q4</th>\n",
       "      <td>-0.027445</td>\n",
       "      <td>0.487329</td>\n",
       "      <td>0.104466</td>\n",
       "      <td>0.020495</td>\n",
       "    </tr>\n",
       "    <tr>\n",
       "      <th>2001Q1</th>\n",
       "      <td>NaN</td>\n",
       "      <td>NaN</td>\n",
       "      <td>NaN</td>\n",
       "      <td>NaN</td>\n",
       "    </tr>\n",
       "    <tr>\n",
       "      <th>2001Q2</th>\n",
       "      <td>NaN</td>\n",
       "      <td>NaN</td>\n",
       "      <td>NaN</td>\n",
       "      <td>NaN</td>\n",
       "    </tr>\n",
       "    <tr>\n",
       "      <th>2001Q3</th>\n",
       "      <td>NaN</td>\n",
       "      <td>NaN</td>\n",
       "      <td>NaN</td>\n",
       "      <td>NaN</td>\n",
       "    </tr>\n",
       "    <tr>\n",
       "      <th>2001Q4</th>\n",
       "      <td>-0.157276</td>\n",
       "      <td>0.203125</td>\n",
       "      <td>0.162429</td>\n",
       "      <td>0.056146</td>\n",
       "    </tr>\n",
       "    <tr>\n",
       "      <th>2002Q1</th>\n",
       "      <td>NaN</td>\n",
       "      <td>NaN</td>\n",
       "      <td>NaN</td>\n",
       "      <td>NaN</td>\n",
       "    </tr>\n",
       "    <tr>\n",
       "      <th>2002Q2</th>\n",
       "      <td>NaN</td>\n",
       "      <td>NaN</td>\n",
       "      <td>NaN</td>\n",
       "      <td>NaN</td>\n",
       "    </tr>\n",
       "    <tr>\n",
       "      <th>2002Q3</th>\n",
       "      <td>NaN</td>\n",
       "      <td>NaN</td>\n",
       "      <td>NaN</td>\n",
       "      <td>NaN</td>\n",
       "    </tr>\n",
       "  </tbody>\n",
       "</table>\n",
       "</div>"
      ],
      "text/plain": [
       "        Colorado     Texas  New York      Ohio\n",
       "2000Q4 -0.027445  0.487329  0.104466  0.020495\n",
       "2001Q1       NaN       NaN       NaN       NaN\n",
       "2001Q2       NaN       NaN       NaN       NaN\n",
       "2001Q3       NaN       NaN       NaN       NaN\n",
       "2001Q4 -0.157276  0.203125  0.162429  0.056146\n",
       "2002Q1       NaN       NaN       NaN       NaN\n",
       "2002Q2       NaN       NaN       NaN       NaN\n",
       "2002Q3       NaN       NaN       NaN       NaN"
      ]
     },
     "execution_count": 304,
     "metadata": {},
     "output_type": "execute_result"
    }
   ],
   "source": [
    "annual_frame.resample('Q-MAR').asfreq()"
   ]
  },
  {
   "cell_type": "code",
   "execution_count": 306,
   "metadata": {
    "ExecuteTime": {
     "end_time": "2020-11-18T03:19:24.073114Z",
     "start_time": "2020-11-18T03:19:24.056653Z"
    }
   },
   "outputs": [
    {
     "data": {
      "text/html": [
       "<div>\n",
       "<style scoped>\n",
       "    .dataframe tbody tr th:only-of-type {\n",
       "        vertical-align: middle;\n",
       "    }\n",
       "\n",
       "    .dataframe tbody tr th {\n",
       "        vertical-align: top;\n",
       "    }\n",
       "\n",
       "    .dataframe thead th {\n",
       "        text-align: right;\n",
       "    }\n",
       "</style>\n",
       "<table border=\"1\" class=\"dataframe\">\n",
       "  <thead>\n",
       "    <tr style=\"text-align: right;\">\n",
       "      <th></th>\n",
       "      <th>Colorado</th>\n",
       "      <th>Texas</th>\n",
       "      <th>New York</th>\n",
       "      <th>Ohio</th>\n",
       "    </tr>\n",
       "  </thead>\n",
       "  <tbody>\n",
       "    <tr>\n",
       "      <th>2001Q3</th>\n",
       "      <td>-0.027445</td>\n",
       "      <td>0.487329</td>\n",
       "      <td>0.104466</td>\n",
       "      <td>0.020495</td>\n",
       "    </tr>\n",
       "    <tr>\n",
       "      <th>2001Q4</th>\n",
       "      <td>NaN</td>\n",
       "      <td>NaN</td>\n",
       "      <td>NaN</td>\n",
       "      <td>NaN</td>\n",
       "    </tr>\n",
       "    <tr>\n",
       "      <th>2002Q1</th>\n",
       "      <td>NaN</td>\n",
       "      <td>NaN</td>\n",
       "      <td>NaN</td>\n",
       "      <td>NaN</td>\n",
       "    </tr>\n",
       "    <tr>\n",
       "      <th>2002Q2</th>\n",
       "      <td>NaN</td>\n",
       "      <td>NaN</td>\n",
       "      <td>NaN</td>\n",
       "      <td>NaN</td>\n",
       "    </tr>\n",
       "    <tr>\n",
       "      <th>2002Q3</th>\n",
       "      <td>-0.157276</td>\n",
       "      <td>0.203125</td>\n",
       "      <td>0.162429</td>\n",
       "      <td>0.056146</td>\n",
       "    </tr>\n",
       "  </tbody>\n",
       "</table>\n",
       "</div>"
      ],
      "text/plain": [
       "        Colorado     Texas  New York      Ohio\n",
       "2001Q3 -0.027445  0.487329  0.104466  0.020495\n",
       "2001Q4       NaN       NaN       NaN       NaN\n",
       "2002Q1       NaN       NaN       NaN       NaN\n",
       "2002Q2       NaN       NaN       NaN       NaN\n",
       "2002Q3 -0.157276  0.203125  0.162429  0.056146"
      ]
     },
     "execution_count": 306,
     "metadata": {},
     "output_type": "execute_result"
    }
   ],
   "source": [
    "annual_frame.resample('Q-MAR', convention='end').asfreq()"
   ]
  },
  {
   "cell_type": "markdown",
   "metadata": {},
   "source": [
    "![`Q-MAR`](https://gitee.com/zhao_long/image-store/raw/master/img/20201118111926.png)"
   ]
  },
  {
   "cell_type": "code",
   "execution_count": 307,
   "metadata": {
    "ExecuteTime": {
     "end_time": "2020-11-18T03:20:02.007079Z",
     "start_time": "2020-11-18T03:20:01.993179Z"
    }
   },
   "outputs": [
    {
     "data": {
      "text/html": [
       "<div>\n",
       "<style scoped>\n",
       "    .dataframe tbody tr th:only-of-type {\n",
       "        vertical-align: middle;\n",
       "    }\n",
       "\n",
       "    .dataframe tbody tr th {\n",
       "        vertical-align: top;\n",
       "    }\n",
       "\n",
       "    .dataframe thead th {\n",
       "        text-align: right;\n",
       "    }\n",
       "</style>\n",
       "<table border=\"1\" class=\"dataframe\">\n",
       "  <thead>\n",
       "    <tr style=\"text-align: right;\">\n",
       "      <th></th>\n",
       "      <th>Colorado</th>\n",
       "      <th>Texas</th>\n",
       "      <th>New York</th>\n",
       "      <th>Ohio</th>\n",
       "    </tr>\n",
       "  </thead>\n",
       "  <tbody>\n",
       "    <tr>\n",
       "      <th>2000Q3</th>\n",
       "      <td>-0.027445</td>\n",
       "      <td>0.487329</td>\n",
       "      <td>0.104466</td>\n",
       "      <td>0.020495</td>\n",
       "    </tr>\n",
       "    <tr>\n",
       "      <th>2000Q4</th>\n",
       "      <td>NaN</td>\n",
       "      <td>NaN</td>\n",
       "      <td>NaN</td>\n",
       "      <td>NaN</td>\n",
       "    </tr>\n",
       "    <tr>\n",
       "      <th>2001Q1</th>\n",
       "      <td>NaN</td>\n",
       "      <td>NaN</td>\n",
       "      <td>NaN</td>\n",
       "      <td>NaN</td>\n",
       "    </tr>\n",
       "    <tr>\n",
       "      <th>2001Q2</th>\n",
       "      <td>NaN</td>\n",
       "      <td>NaN</td>\n",
       "      <td>NaN</td>\n",
       "      <td>NaN</td>\n",
       "    </tr>\n",
       "    <tr>\n",
       "      <th>2001Q3</th>\n",
       "      <td>-0.157276</td>\n",
       "      <td>0.203125</td>\n",
       "      <td>0.162429</td>\n",
       "      <td>0.056146</td>\n",
       "    </tr>\n",
       "    <tr>\n",
       "      <th>2001Q4</th>\n",
       "      <td>NaN</td>\n",
       "      <td>NaN</td>\n",
       "      <td>NaN</td>\n",
       "      <td>NaN</td>\n",
       "    </tr>\n",
       "    <tr>\n",
       "      <th>2002Q1</th>\n",
       "      <td>NaN</td>\n",
       "      <td>NaN</td>\n",
       "      <td>NaN</td>\n",
       "      <td>NaN</td>\n",
       "    </tr>\n",
       "    <tr>\n",
       "      <th>2002Q2</th>\n",
       "      <td>NaN</td>\n",
       "      <td>NaN</td>\n",
       "      <td>NaN</td>\n",
       "      <td>NaN</td>\n",
       "    </tr>\n",
       "    <tr>\n",
       "      <th>2002Q3</th>\n",
       "      <td>NaN</td>\n",
       "      <td>NaN</td>\n",
       "      <td>NaN</td>\n",
       "      <td>NaN</td>\n",
       "    </tr>\n",
       "  </tbody>\n",
       "</table>\n",
       "</div>"
      ],
      "text/plain": [
       "        Colorado     Texas  New York      Ohio\n",
       "2000Q3 -0.027445  0.487329  0.104466  0.020495\n",
       "2000Q4       NaN       NaN       NaN       NaN\n",
       "2001Q1       NaN       NaN       NaN       NaN\n",
       "2001Q2       NaN       NaN       NaN       NaN\n",
       "2001Q3 -0.157276  0.203125  0.162429  0.056146\n",
       "2001Q4       NaN       NaN       NaN       NaN\n",
       "2002Q1       NaN       NaN       NaN       NaN\n",
       "2002Q2       NaN       NaN       NaN       NaN\n",
       "2002Q3       NaN       NaN       NaN       NaN"
      ]
     },
     "execution_count": 307,
     "metadata": {},
     "output_type": "execute_result"
    }
   ],
   "source": [
    "annual_frame.resample('Q-APR').asfreq()"
   ]
  },
  {
   "cell_type": "code",
   "execution_count": 309,
   "metadata": {
    "ExecuteTime": {
     "end_time": "2020-11-18T03:24:20.256409Z",
     "start_time": "2020-11-18T03:24:20.238310Z"
    }
   },
   "outputs": [
    {
     "data": {
      "text/html": [
       "<div>\n",
       "<style scoped>\n",
       "    .dataframe tbody tr th:only-of-type {\n",
       "        vertical-align: middle;\n",
       "    }\n",
       "\n",
       "    .dataframe tbody tr th {\n",
       "        vertical-align: top;\n",
       "    }\n",
       "\n",
       "    .dataframe thead th {\n",
       "        text-align: right;\n",
       "    }\n",
       "</style>\n",
       "<table border=\"1\" class=\"dataframe\">\n",
       "  <thead>\n",
       "    <tr style=\"text-align: right;\">\n",
       "      <th></th>\n",
       "      <th>Colorado</th>\n",
       "      <th>Texas</th>\n",
       "      <th>New York</th>\n",
       "      <th>Ohio</th>\n",
       "    </tr>\n",
       "  </thead>\n",
       "  <tbody>\n",
       "    <tr>\n",
       "      <th>2001Q3</th>\n",
       "      <td>-0.027445</td>\n",
       "      <td>0.487329</td>\n",
       "      <td>0.104466</td>\n",
       "      <td>0.020495</td>\n",
       "    </tr>\n",
       "    <tr>\n",
       "      <th>2001Q4</th>\n",
       "      <td>NaN</td>\n",
       "      <td>NaN</td>\n",
       "      <td>NaN</td>\n",
       "      <td>NaN</td>\n",
       "    </tr>\n",
       "    <tr>\n",
       "      <th>2002Q1</th>\n",
       "      <td>NaN</td>\n",
       "      <td>NaN</td>\n",
       "      <td>NaN</td>\n",
       "      <td>NaN</td>\n",
       "    </tr>\n",
       "    <tr>\n",
       "      <th>2002Q2</th>\n",
       "      <td>NaN</td>\n",
       "      <td>NaN</td>\n",
       "      <td>NaN</td>\n",
       "      <td>NaN</td>\n",
       "    </tr>\n",
       "    <tr>\n",
       "      <th>2002Q3</th>\n",
       "      <td>-0.157276</td>\n",
       "      <td>0.203125</td>\n",
       "      <td>0.162429</td>\n",
       "      <td>0.056146</td>\n",
       "    </tr>\n",
       "  </tbody>\n",
       "</table>\n",
       "</div>"
      ],
      "text/plain": [
       "        Colorado     Texas  New York      Ohio\n",
       "2001Q3 -0.027445  0.487329  0.104466  0.020495\n",
       "2001Q4       NaN       NaN       NaN       NaN\n",
       "2002Q1       NaN       NaN       NaN       NaN\n",
       "2002Q2       NaN       NaN       NaN       NaN\n",
       "2002Q3 -0.157276  0.203125  0.162429  0.056146"
      ]
     },
     "execution_count": 309,
     "metadata": {},
     "output_type": "execute_result"
    }
   ],
   "source": [
    "annual_frame.resample('Q-APR', convention='end').asfreq()"
   ]
  },
  {
   "cell_type": "markdown",
   "metadata": {},
   "source": [
    "## 移动窗口函数"
   ]
  },
  {
   "cell_type": "markdown",
   "metadata": {},
   "source": [
    "**统计**和**其他通过移动窗口或指数衰减而运行的函数**是用于时间序列操作的数组变换的一个重要类别"
   ]
  },
  {
   "cell_type": "markdown",
   "metadata": {},
   "source": [
    "对平滑噪声和粗噪的数据非常有用，这些函数被称为“**移动窗口函数**”，尽管它也包含了一些**没有固定长度窗口的函数**， 比如加权移动平均，与其他统计函数类似，**会自动排除缺失数据**"
   ]
  },
  {
   "cell_type": "markdown",
   "metadata": {},
   "source": [
    "![移动窗口函数](https://gitee.com/zhao_long/image-store/raw/master/img/20201118120226.png)"
   ]
  },
  {
   "cell_type": "markdown",
   "metadata": {},
   "source": [
    "![expanding](https://gitee.com/zhao_long/image-store/raw/master/img/20201118122123.png)"
   ]
  },
  {
   "cell_type": "code",
   "execution_count": 310,
   "metadata": {
    "ExecuteTime": {
     "end_time": "2020-11-18T03:37:50.268324Z",
     "start_time": "2020-11-18T03:37:50.184853Z"
    }
   },
   "outputs": [
    {
     "data": {
      "text/html": [
       "<div>\n",
       "<style scoped>\n",
       "    .dataframe tbody tr th:only-of-type {\n",
       "        vertical-align: middle;\n",
       "    }\n",
       "\n",
       "    .dataframe tbody tr th {\n",
       "        vertical-align: top;\n",
       "    }\n",
       "\n",
       "    .dataframe thead th {\n",
       "        text-align: right;\n",
       "    }\n",
       "</style>\n",
       "<table border=\"1\" class=\"dataframe\">\n",
       "  <thead>\n",
       "    <tr style=\"text-align: right;\">\n",
       "      <th></th>\n",
       "      <th>AAPL</th>\n",
       "      <th>MSFT</th>\n",
       "      <th>XOM</th>\n",
       "      <th>SPX</th>\n",
       "    </tr>\n",
       "  </thead>\n",
       "  <tbody>\n",
       "    <tr>\n",
       "      <th>2003-01-02</th>\n",
       "      <td>7.40</td>\n",
       "      <td>21.11</td>\n",
       "      <td>29.22</td>\n",
       "      <td>909.03</td>\n",
       "    </tr>\n",
       "    <tr>\n",
       "      <th>2003-01-03</th>\n",
       "      <td>7.45</td>\n",
       "      <td>21.14</td>\n",
       "      <td>29.24</td>\n",
       "      <td>908.59</td>\n",
       "    </tr>\n",
       "    <tr>\n",
       "      <th>2003-01-06</th>\n",
       "      <td>7.45</td>\n",
       "      <td>21.52</td>\n",
       "      <td>29.96</td>\n",
       "      <td>929.01</td>\n",
       "    </tr>\n",
       "    <tr>\n",
       "      <th>2003-01-07</th>\n",
       "      <td>7.43</td>\n",
       "      <td>21.93</td>\n",
       "      <td>28.95</td>\n",
       "      <td>922.93</td>\n",
       "    </tr>\n",
       "    <tr>\n",
       "      <th>2003-01-08</th>\n",
       "      <td>7.28</td>\n",
       "      <td>21.31</td>\n",
       "      <td>28.83</td>\n",
       "      <td>909.93</td>\n",
       "    </tr>\n",
       "    <tr>\n",
       "      <th>...</th>\n",
       "      <td>...</td>\n",
       "      <td>...</td>\n",
       "      <td>...</td>\n",
       "      <td>...</td>\n",
       "    </tr>\n",
       "    <tr>\n",
       "      <th>2011-10-10</th>\n",
       "      <td>388.81</td>\n",
       "      <td>26.94</td>\n",
       "      <td>76.28</td>\n",
       "      <td>1194.89</td>\n",
       "    </tr>\n",
       "    <tr>\n",
       "      <th>2011-10-11</th>\n",
       "      <td>400.29</td>\n",
       "      <td>27.00</td>\n",
       "      <td>76.27</td>\n",
       "      <td>1195.54</td>\n",
       "    </tr>\n",
       "    <tr>\n",
       "      <th>2011-10-12</th>\n",
       "      <td>402.19</td>\n",
       "      <td>26.96</td>\n",
       "      <td>77.16</td>\n",
       "      <td>1207.25</td>\n",
       "    </tr>\n",
       "    <tr>\n",
       "      <th>2011-10-13</th>\n",
       "      <td>408.43</td>\n",
       "      <td>27.18</td>\n",
       "      <td>76.37</td>\n",
       "      <td>1203.66</td>\n",
       "    </tr>\n",
       "    <tr>\n",
       "      <th>2011-10-14</th>\n",
       "      <td>422.00</td>\n",
       "      <td>27.27</td>\n",
       "      <td>78.11</td>\n",
       "      <td>1224.58</td>\n",
       "    </tr>\n",
       "  </tbody>\n",
       "</table>\n",
       "<p>2214 rows × 4 columns</p>\n",
       "</div>"
      ],
      "text/plain": [
       "              AAPL   MSFT    XOM      SPX\n",
       "2003-01-02    7.40  21.11  29.22   909.03\n",
       "2003-01-03    7.45  21.14  29.24   908.59\n",
       "2003-01-06    7.45  21.52  29.96   929.01\n",
       "2003-01-07    7.43  21.93  28.95   922.93\n",
       "2003-01-08    7.28  21.31  28.83   909.93\n",
       "...            ...    ...    ...      ...\n",
       "2011-10-10  388.81  26.94  76.28  1194.89\n",
       "2011-10-11  400.29  27.00  76.27  1195.54\n",
       "2011-10-12  402.19  26.96  77.16  1207.25\n",
       "2011-10-13  408.43  27.18  76.37  1203.66\n",
       "2011-10-14  422.00  27.27  78.11  1224.58\n",
       "\n",
       "[2214 rows x 4 columns]"
      ]
     },
     "execution_count": 310,
     "metadata": {},
     "output_type": "execute_result"
    }
   ],
   "source": [
    "close_px_all = pd.read_csv( 'pydata-book/examples/stock_px_2.csv', parse_dates=True, index_col=0 )\n",
    "close_px_all"
   ]
  },
  {
   "cell_type": "code",
   "execution_count": 311,
   "metadata": {
    "ExecuteTime": {
     "end_time": "2020-11-18T03:38:12.641681Z",
     "start_time": "2020-11-18T03:38:12.636760Z"
    }
   },
   "outputs": [],
   "source": [
    "close_px = close_px_all[['AAPL', 'MSFT', 'XOM']]"
   ]
  },
  {
   "cell_type": "code",
   "execution_count": 312,
   "metadata": {
    "ExecuteTime": {
     "end_time": "2020-11-18T03:38:15.096813Z",
     "start_time": "2020-11-18T03:38:15.059495Z"
    }
   },
   "outputs": [],
   "source": [
    "close_px = close_px.resample('B').ffill()"
   ]
  },
  {
   "cell_type": "code",
   "execution_count": 313,
   "metadata": {
    "ExecuteTime": {
     "end_time": "2020-11-18T03:38:20.243745Z",
     "start_time": "2020-11-18T03:38:20.227044Z"
    }
   },
   "outputs": [
    {
     "data": {
      "text/html": [
       "<div>\n",
       "<style scoped>\n",
       "    .dataframe tbody tr th:only-of-type {\n",
       "        vertical-align: middle;\n",
       "    }\n",
       "\n",
       "    .dataframe tbody tr th {\n",
       "        vertical-align: top;\n",
       "    }\n",
       "\n",
       "    .dataframe thead th {\n",
       "        text-align: right;\n",
       "    }\n",
       "</style>\n",
       "<table border=\"1\" class=\"dataframe\">\n",
       "  <thead>\n",
       "    <tr style=\"text-align: right;\">\n",
       "      <th></th>\n",
       "      <th>AAPL</th>\n",
       "      <th>MSFT</th>\n",
       "      <th>XOM</th>\n",
       "    </tr>\n",
       "  </thead>\n",
       "  <tbody>\n",
       "    <tr>\n",
       "      <th>2003-01-02</th>\n",
       "      <td>7.40</td>\n",
       "      <td>21.11</td>\n",
       "      <td>29.22</td>\n",
       "    </tr>\n",
       "    <tr>\n",
       "      <th>2003-01-03</th>\n",
       "      <td>7.45</td>\n",
       "      <td>21.14</td>\n",
       "      <td>29.24</td>\n",
       "    </tr>\n",
       "    <tr>\n",
       "      <th>2003-01-06</th>\n",
       "      <td>7.45</td>\n",
       "      <td>21.52</td>\n",
       "      <td>29.96</td>\n",
       "    </tr>\n",
       "    <tr>\n",
       "      <th>2003-01-07</th>\n",
       "      <td>7.43</td>\n",
       "      <td>21.93</td>\n",
       "      <td>28.95</td>\n",
       "    </tr>\n",
       "    <tr>\n",
       "      <th>2003-01-08</th>\n",
       "      <td>7.28</td>\n",
       "      <td>21.31</td>\n",
       "      <td>28.83</td>\n",
       "    </tr>\n",
       "    <tr>\n",
       "      <th>...</th>\n",
       "      <td>...</td>\n",
       "      <td>...</td>\n",
       "      <td>...</td>\n",
       "    </tr>\n",
       "    <tr>\n",
       "      <th>2011-10-10</th>\n",
       "      <td>388.81</td>\n",
       "      <td>26.94</td>\n",
       "      <td>76.28</td>\n",
       "    </tr>\n",
       "    <tr>\n",
       "      <th>2011-10-11</th>\n",
       "      <td>400.29</td>\n",
       "      <td>27.00</td>\n",
       "      <td>76.27</td>\n",
       "    </tr>\n",
       "    <tr>\n",
       "      <th>2011-10-12</th>\n",
       "      <td>402.19</td>\n",
       "      <td>26.96</td>\n",
       "      <td>77.16</td>\n",
       "    </tr>\n",
       "    <tr>\n",
       "      <th>2011-10-13</th>\n",
       "      <td>408.43</td>\n",
       "      <td>27.18</td>\n",
       "      <td>76.37</td>\n",
       "    </tr>\n",
       "    <tr>\n",
       "      <th>2011-10-14</th>\n",
       "      <td>422.00</td>\n",
       "      <td>27.27</td>\n",
       "      <td>78.11</td>\n",
       "    </tr>\n",
       "  </tbody>\n",
       "</table>\n",
       "<p>2292 rows × 3 columns</p>\n",
       "</div>"
      ],
      "text/plain": [
       "              AAPL   MSFT    XOM\n",
       "2003-01-02    7.40  21.11  29.22\n",
       "2003-01-03    7.45  21.14  29.24\n",
       "2003-01-06    7.45  21.52  29.96\n",
       "2003-01-07    7.43  21.93  28.95\n",
       "2003-01-08    7.28  21.31  28.83\n",
       "...            ...    ...    ...\n",
       "2011-10-10  388.81  26.94  76.28\n",
       "2011-10-11  400.29  27.00  76.27\n",
       "2011-10-12  402.19  26.96  77.16\n",
       "2011-10-13  408.43  27.18  76.37\n",
       "2011-10-14  422.00  27.27  78.11\n",
       "\n",
       "[2292 rows x 3 columns]"
      ]
     },
     "execution_count": 313,
     "metadata": {},
     "output_type": "execute_result"
    }
   ],
   "source": [
    "close_px"
   ]
  },
  {
   "cell_type": "code",
   "execution_count": 320,
   "metadata": {
    "ExecuteTime": {
     "end_time": "2020-11-18T03:41:48.273292Z",
     "start_time": "2020-11-18T03:41:48.260467Z"
    }
   },
   "outputs": [],
   "source": [
    "%matplotlib notebook"
   ]
  },
  {
   "cell_type": "code",
   "execution_count": 321,
   "metadata": {
    "ExecuteTime": {
     "end_time": "2020-11-18T03:41:52.024649Z",
     "start_time": "2020-11-18T03:41:51.915011Z"
    },
    "scrolled": false
   },
   "outputs": [
    {
     "data": {
      "application/javascript": [
       "/* Put everything inside the global mpl namespace */\n",
       "/* global mpl */\n",
       "window.mpl = {};\n",
       "\n",
       "mpl.get_websocket_type = function () {\n",
       "    if (typeof WebSocket !== 'undefined') {\n",
       "        return WebSocket;\n",
       "    } else if (typeof MozWebSocket !== 'undefined') {\n",
       "        return MozWebSocket;\n",
       "    } else {\n",
       "        alert(\n",
       "            'Your browser does not have WebSocket support. ' +\n",
       "                'Please try Chrome, Safari or Firefox ≥ 6. ' +\n",
       "                'Firefox 4 and 5 are also supported but you ' +\n",
       "                'have to enable WebSockets in about:config.'\n",
       "        );\n",
       "    }\n",
       "};\n",
       "\n",
       "mpl.figure = function (figure_id, websocket, ondownload, parent_element) {\n",
       "    this.id = figure_id;\n",
       "\n",
       "    this.ws = websocket;\n",
       "\n",
       "    this.supports_binary = this.ws.binaryType !== undefined;\n",
       "\n",
       "    if (!this.supports_binary) {\n",
       "        var warnings = document.getElementById('mpl-warnings');\n",
       "        if (warnings) {\n",
       "            warnings.style.display = 'block';\n",
       "            warnings.textContent =\n",
       "                'This browser does not support binary websocket messages. ' +\n",
       "                'Performance may be slow.';\n",
       "        }\n",
       "    }\n",
       "\n",
       "    this.imageObj = new Image();\n",
       "\n",
       "    this.context = undefined;\n",
       "    this.message = undefined;\n",
       "    this.canvas = undefined;\n",
       "    this.rubberband_canvas = undefined;\n",
       "    this.rubberband_context = undefined;\n",
       "    this.format_dropdown = undefined;\n",
       "\n",
       "    this.image_mode = 'full';\n",
       "\n",
       "    this.root = document.createElement('div');\n",
       "    this.root.setAttribute('style', 'display: inline-block');\n",
       "    this._root_extra_style(this.root);\n",
       "\n",
       "    parent_element.appendChild(this.root);\n",
       "\n",
       "    this._init_header(this);\n",
       "    this._init_canvas(this);\n",
       "    this._init_toolbar(this);\n",
       "\n",
       "    var fig = this;\n",
       "\n",
       "    this.waiting = false;\n",
       "\n",
       "    this.ws.onopen = function () {\n",
       "        fig.send_message('supports_binary', { value: fig.supports_binary });\n",
       "        fig.send_message('send_image_mode', {});\n",
       "        if (fig.ratio !== 1) {\n",
       "            fig.send_message('set_dpi_ratio', { dpi_ratio: fig.ratio });\n",
       "        }\n",
       "        fig.send_message('refresh', {});\n",
       "    };\n",
       "\n",
       "    this.imageObj.onload = function () {\n",
       "        if (fig.image_mode === 'full') {\n",
       "            // Full images could contain transparency (where diff images\n",
       "            // almost always do), so we need to clear the canvas so that\n",
       "            // there is no ghosting.\n",
       "            fig.context.clearRect(0, 0, fig.canvas.width, fig.canvas.height);\n",
       "        }\n",
       "        fig.context.drawImage(fig.imageObj, 0, 0);\n",
       "    };\n",
       "\n",
       "    this.imageObj.onunload = function () {\n",
       "        fig.ws.close();\n",
       "    };\n",
       "\n",
       "    this.ws.onmessage = this._make_on_message_function(this);\n",
       "\n",
       "    this.ondownload = ondownload;\n",
       "};\n",
       "\n",
       "mpl.figure.prototype._init_header = function () {\n",
       "    var titlebar = document.createElement('div');\n",
       "    titlebar.classList =\n",
       "        'ui-dialog-titlebar ui-widget-header ui-corner-all ui-helper-clearfix';\n",
       "    var titletext = document.createElement('div');\n",
       "    titletext.classList = 'ui-dialog-title';\n",
       "    titletext.setAttribute(\n",
       "        'style',\n",
       "        'width: 100%; text-align: center; padding: 3px;'\n",
       "    );\n",
       "    titlebar.appendChild(titletext);\n",
       "    this.root.appendChild(titlebar);\n",
       "    this.header = titletext;\n",
       "};\n",
       "\n",
       "mpl.figure.prototype._canvas_extra_style = function (_canvas_div) {};\n",
       "\n",
       "mpl.figure.prototype._root_extra_style = function (_canvas_div) {};\n",
       "\n",
       "mpl.figure.prototype._init_canvas = function () {\n",
       "    var fig = this;\n",
       "\n",
       "    var canvas_div = (this.canvas_div = document.createElement('div'));\n",
       "    canvas_div.setAttribute(\n",
       "        'style',\n",
       "        'border: 1px solid #ddd;' +\n",
       "            'box-sizing: content-box;' +\n",
       "            'clear: both;' +\n",
       "            'min-height: 1px;' +\n",
       "            'min-width: 1px;' +\n",
       "            'outline: 0;' +\n",
       "            'overflow: hidden;' +\n",
       "            'position: relative;' +\n",
       "            'resize: both;'\n",
       "    );\n",
       "\n",
       "    function on_keyboard_event_closure(name) {\n",
       "        return function (event) {\n",
       "            return fig.key_event(event, name);\n",
       "        };\n",
       "    }\n",
       "\n",
       "    canvas_div.addEventListener(\n",
       "        'keydown',\n",
       "        on_keyboard_event_closure('key_press')\n",
       "    );\n",
       "    canvas_div.addEventListener(\n",
       "        'keyup',\n",
       "        on_keyboard_event_closure('key_release')\n",
       "    );\n",
       "\n",
       "    this._canvas_extra_style(canvas_div);\n",
       "    this.root.appendChild(canvas_div);\n",
       "\n",
       "    var canvas = (this.canvas = document.createElement('canvas'));\n",
       "    canvas.classList.add('mpl-canvas');\n",
       "    canvas.setAttribute('style', 'box-sizing: content-box;');\n",
       "\n",
       "    this.context = canvas.getContext('2d');\n",
       "\n",
       "    var backingStore =\n",
       "        this.context.backingStorePixelRatio ||\n",
       "        this.context.webkitBackingStorePixelRatio ||\n",
       "        this.context.mozBackingStorePixelRatio ||\n",
       "        this.context.msBackingStorePixelRatio ||\n",
       "        this.context.oBackingStorePixelRatio ||\n",
       "        this.context.backingStorePixelRatio ||\n",
       "        1;\n",
       "\n",
       "    this.ratio = (window.devicePixelRatio || 1) / backingStore;\n",
       "    if (this.ratio !== 1) {\n",
       "        fig.send_message('set_dpi_ratio', { dpi_ratio: this.ratio });\n",
       "    }\n",
       "\n",
       "    var rubberband_canvas = (this.rubberband_canvas = document.createElement(\n",
       "        'canvas'\n",
       "    ));\n",
       "    rubberband_canvas.setAttribute(\n",
       "        'style',\n",
       "        'box-sizing: content-box; position: absolute; left: 0; top: 0; z-index: 1;'\n",
       "    );\n",
       "\n",
       "    var resizeObserver = new ResizeObserver(function (entries) {\n",
       "        var nentries = entries.length;\n",
       "        for (var i = 0; i < nentries; i++) {\n",
       "            var entry = entries[i];\n",
       "            var width, height;\n",
       "            if (entry.contentBoxSize) {\n",
       "                if (entry.contentBoxSize instanceof Array) {\n",
       "                    // Chrome 84 implements new version of spec.\n",
       "                    width = entry.contentBoxSize[0].inlineSize;\n",
       "                    height = entry.contentBoxSize[0].blockSize;\n",
       "                } else {\n",
       "                    // Firefox implements old version of spec.\n",
       "                    width = entry.contentBoxSize.inlineSize;\n",
       "                    height = entry.contentBoxSize.blockSize;\n",
       "                }\n",
       "            } else {\n",
       "                // Chrome <84 implements even older version of spec.\n",
       "                width = entry.contentRect.width;\n",
       "                height = entry.contentRect.height;\n",
       "            }\n",
       "\n",
       "            // Keep the size of the canvas and rubber band canvas in sync with\n",
       "            // the canvas container.\n",
       "            if (entry.devicePixelContentBoxSize) {\n",
       "                // Chrome 84 implements new version of spec.\n",
       "                canvas.setAttribute(\n",
       "                    'width',\n",
       "                    entry.devicePixelContentBoxSize[0].inlineSize\n",
       "                );\n",
       "                canvas.setAttribute(\n",
       "                    'height',\n",
       "                    entry.devicePixelContentBoxSize[0].blockSize\n",
       "                );\n",
       "            } else {\n",
       "                canvas.setAttribute('width', width * fig.ratio);\n",
       "                canvas.setAttribute('height', height * fig.ratio);\n",
       "            }\n",
       "            canvas.setAttribute(\n",
       "                'style',\n",
       "                'width: ' + width + 'px; height: ' + height + 'px;'\n",
       "            );\n",
       "\n",
       "            rubberband_canvas.setAttribute('width', width);\n",
       "            rubberband_canvas.setAttribute('height', height);\n",
       "\n",
       "            // And update the size in Python. We ignore the initial 0/0 size\n",
       "            // that occurs as the element is placed into the DOM, which should\n",
       "            // otherwise not happen due to the minimum size styling.\n",
       "            if (width != 0 && height != 0) {\n",
       "                fig.request_resize(width, height);\n",
       "            }\n",
       "        }\n",
       "    });\n",
       "    resizeObserver.observe(canvas_div);\n",
       "\n",
       "    function on_mouse_event_closure(name) {\n",
       "        return function (event) {\n",
       "            return fig.mouse_event(event, name);\n",
       "        };\n",
       "    }\n",
       "\n",
       "    rubberband_canvas.addEventListener(\n",
       "        'mousedown',\n",
       "        on_mouse_event_closure('button_press')\n",
       "    );\n",
       "    rubberband_canvas.addEventListener(\n",
       "        'mouseup',\n",
       "        on_mouse_event_closure('button_release')\n",
       "    );\n",
       "    // Throttle sequential mouse events to 1 every 20ms.\n",
       "    rubberband_canvas.addEventListener(\n",
       "        'mousemove',\n",
       "        on_mouse_event_closure('motion_notify')\n",
       "    );\n",
       "\n",
       "    rubberband_canvas.addEventListener(\n",
       "        'mouseenter',\n",
       "        on_mouse_event_closure('figure_enter')\n",
       "    );\n",
       "    rubberband_canvas.addEventListener(\n",
       "        'mouseleave',\n",
       "        on_mouse_event_closure('figure_leave')\n",
       "    );\n",
       "\n",
       "    canvas_div.addEventListener('wheel', function (event) {\n",
       "        if (event.deltaY < 0) {\n",
       "            event.step = 1;\n",
       "        } else {\n",
       "            event.step = -1;\n",
       "        }\n",
       "        on_mouse_event_closure('scroll')(event);\n",
       "    });\n",
       "\n",
       "    canvas_div.appendChild(canvas);\n",
       "    canvas_div.appendChild(rubberband_canvas);\n",
       "\n",
       "    this.rubberband_context = rubberband_canvas.getContext('2d');\n",
       "    this.rubberband_context.strokeStyle = '#000000';\n",
       "\n",
       "    this._resize_canvas = function (width, height, forward) {\n",
       "        if (forward) {\n",
       "            canvas_div.style.width = width + 'px';\n",
       "            canvas_div.style.height = height + 'px';\n",
       "        }\n",
       "    };\n",
       "\n",
       "    // Disable right mouse context menu.\n",
       "    this.rubberband_canvas.addEventListener('contextmenu', function (_e) {\n",
       "        event.preventDefault();\n",
       "        return false;\n",
       "    });\n",
       "\n",
       "    function set_focus() {\n",
       "        canvas.focus();\n",
       "        canvas_div.focus();\n",
       "    }\n",
       "\n",
       "    window.setTimeout(set_focus, 100);\n",
       "};\n",
       "\n",
       "mpl.figure.prototype._init_toolbar = function () {\n",
       "    var fig = this;\n",
       "\n",
       "    var toolbar = document.createElement('div');\n",
       "    toolbar.classList = 'mpl-toolbar';\n",
       "    this.root.appendChild(toolbar);\n",
       "\n",
       "    function on_click_closure(name) {\n",
       "        return function (_event) {\n",
       "            return fig.toolbar_button_onclick(name);\n",
       "        };\n",
       "    }\n",
       "\n",
       "    function on_mouseover_closure(tooltip) {\n",
       "        return function (event) {\n",
       "            if (!event.currentTarget.disabled) {\n",
       "                return fig.toolbar_button_onmouseover(tooltip);\n",
       "            }\n",
       "        };\n",
       "    }\n",
       "\n",
       "    fig.buttons = {};\n",
       "    var buttonGroup = document.createElement('div');\n",
       "    buttonGroup.classList = 'mpl-button-group';\n",
       "    for (var toolbar_ind in mpl.toolbar_items) {\n",
       "        var name = mpl.toolbar_items[toolbar_ind][0];\n",
       "        var tooltip = mpl.toolbar_items[toolbar_ind][1];\n",
       "        var image = mpl.toolbar_items[toolbar_ind][2];\n",
       "        var method_name = mpl.toolbar_items[toolbar_ind][3];\n",
       "\n",
       "        if (!name) {\n",
       "            /* Instead of a spacer, we start a new button group. */\n",
       "            if (buttonGroup.hasChildNodes()) {\n",
       "                toolbar.appendChild(buttonGroup);\n",
       "            }\n",
       "            buttonGroup = document.createElement('div');\n",
       "            buttonGroup.classList = 'mpl-button-group';\n",
       "            continue;\n",
       "        }\n",
       "\n",
       "        var button = (fig.buttons[name] = document.createElement('button'));\n",
       "        button.classList = 'mpl-widget';\n",
       "        button.setAttribute('role', 'button');\n",
       "        button.setAttribute('aria-disabled', 'false');\n",
       "        button.addEventListener('click', on_click_closure(method_name));\n",
       "        button.addEventListener('mouseover', on_mouseover_closure(tooltip));\n",
       "\n",
       "        var icon_img = document.createElement('img');\n",
       "        icon_img.src = '_images/' + image + '.png';\n",
       "        icon_img.srcset = '_images/' + image + '_large.png 2x';\n",
       "        icon_img.alt = tooltip;\n",
       "        button.appendChild(icon_img);\n",
       "\n",
       "        buttonGroup.appendChild(button);\n",
       "    }\n",
       "\n",
       "    if (buttonGroup.hasChildNodes()) {\n",
       "        toolbar.appendChild(buttonGroup);\n",
       "    }\n",
       "\n",
       "    var fmt_picker = document.createElement('select');\n",
       "    fmt_picker.classList = 'mpl-widget';\n",
       "    toolbar.appendChild(fmt_picker);\n",
       "    this.format_dropdown = fmt_picker;\n",
       "\n",
       "    for (var ind in mpl.extensions) {\n",
       "        var fmt = mpl.extensions[ind];\n",
       "        var option = document.createElement('option');\n",
       "        option.selected = fmt === mpl.default_extension;\n",
       "        option.innerHTML = fmt;\n",
       "        fmt_picker.appendChild(option);\n",
       "    }\n",
       "\n",
       "    var status_bar = document.createElement('span');\n",
       "    status_bar.classList = 'mpl-message';\n",
       "    toolbar.appendChild(status_bar);\n",
       "    this.message = status_bar;\n",
       "};\n",
       "\n",
       "mpl.figure.prototype.request_resize = function (x_pixels, y_pixels) {\n",
       "    // Request matplotlib to resize the figure. Matplotlib will then trigger a resize in the client,\n",
       "    // which will in turn request a refresh of the image.\n",
       "    this.send_message('resize', { width: x_pixels, height: y_pixels });\n",
       "};\n",
       "\n",
       "mpl.figure.prototype.send_message = function (type, properties) {\n",
       "    properties['type'] = type;\n",
       "    properties['figure_id'] = this.id;\n",
       "    this.ws.send(JSON.stringify(properties));\n",
       "};\n",
       "\n",
       "mpl.figure.prototype.send_draw_message = function () {\n",
       "    if (!this.waiting) {\n",
       "        this.waiting = true;\n",
       "        this.ws.send(JSON.stringify({ type: 'draw', figure_id: this.id }));\n",
       "    }\n",
       "};\n",
       "\n",
       "mpl.figure.prototype.handle_save = function (fig, _msg) {\n",
       "    var format_dropdown = fig.format_dropdown;\n",
       "    var format = format_dropdown.options[format_dropdown.selectedIndex].value;\n",
       "    fig.ondownload(fig, format);\n",
       "};\n",
       "\n",
       "mpl.figure.prototype.handle_resize = function (fig, msg) {\n",
       "    var size = msg['size'];\n",
       "    if (size[0] !== fig.canvas.width || size[1] !== fig.canvas.height) {\n",
       "        fig._resize_canvas(size[0], size[1], msg['forward']);\n",
       "        fig.send_message('refresh', {});\n",
       "    }\n",
       "};\n",
       "\n",
       "mpl.figure.prototype.handle_rubberband = function (fig, msg) {\n",
       "    var x0 = msg['x0'] / fig.ratio;\n",
       "    var y0 = (fig.canvas.height - msg['y0']) / fig.ratio;\n",
       "    var x1 = msg['x1'] / fig.ratio;\n",
       "    var y1 = (fig.canvas.height - msg['y1']) / fig.ratio;\n",
       "    x0 = Math.floor(x0) + 0.5;\n",
       "    y0 = Math.floor(y0) + 0.5;\n",
       "    x1 = Math.floor(x1) + 0.5;\n",
       "    y1 = Math.floor(y1) + 0.5;\n",
       "    var min_x = Math.min(x0, x1);\n",
       "    var min_y = Math.min(y0, y1);\n",
       "    var width = Math.abs(x1 - x0);\n",
       "    var height = Math.abs(y1 - y0);\n",
       "\n",
       "    fig.rubberband_context.clearRect(\n",
       "        0,\n",
       "        0,\n",
       "        fig.canvas.width / fig.ratio,\n",
       "        fig.canvas.height / fig.ratio\n",
       "    );\n",
       "\n",
       "    fig.rubberband_context.strokeRect(min_x, min_y, width, height);\n",
       "};\n",
       "\n",
       "mpl.figure.prototype.handle_figure_label = function (fig, msg) {\n",
       "    // Updates the figure title.\n",
       "    fig.header.textContent = msg['label'];\n",
       "};\n",
       "\n",
       "mpl.figure.prototype.handle_cursor = function (fig, msg) {\n",
       "    var cursor = msg['cursor'];\n",
       "    switch (cursor) {\n",
       "        case 0:\n",
       "            cursor = 'pointer';\n",
       "            break;\n",
       "        case 1:\n",
       "            cursor = 'default';\n",
       "            break;\n",
       "        case 2:\n",
       "            cursor = 'crosshair';\n",
       "            break;\n",
       "        case 3:\n",
       "            cursor = 'move';\n",
       "            break;\n",
       "    }\n",
       "    fig.rubberband_canvas.style.cursor = cursor;\n",
       "};\n",
       "\n",
       "mpl.figure.prototype.handle_message = function (fig, msg) {\n",
       "    fig.message.textContent = msg['message'];\n",
       "};\n",
       "\n",
       "mpl.figure.prototype.handle_draw = function (fig, _msg) {\n",
       "    // Request the server to send over a new figure.\n",
       "    fig.send_draw_message();\n",
       "};\n",
       "\n",
       "mpl.figure.prototype.handle_image_mode = function (fig, msg) {\n",
       "    fig.image_mode = msg['mode'];\n",
       "};\n",
       "\n",
       "mpl.figure.prototype.handle_history_buttons = function (fig, msg) {\n",
       "    for (var key in msg) {\n",
       "        if (!(key in fig.buttons)) {\n",
       "            continue;\n",
       "        }\n",
       "        fig.buttons[key].disabled = !msg[key];\n",
       "        fig.buttons[key].setAttribute('aria-disabled', !msg[key]);\n",
       "    }\n",
       "};\n",
       "\n",
       "mpl.figure.prototype.handle_navigate_mode = function (fig, msg) {\n",
       "    if (msg['mode'] === 'PAN') {\n",
       "        fig.buttons['Pan'].classList.add('active');\n",
       "        fig.buttons['Zoom'].classList.remove('active');\n",
       "    } else if (msg['mode'] === 'ZOOM') {\n",
       "        fig.buttons['Pan'].classList.remove('active');\n",
       "        fig.buttons['Zoom'].classList.add('active');\n",
       "    } else {\n",
       "        fig.buttons['Pan'].classList.remove('active');\n",
       "        fig.buttons['Zoom'].classList.remove('active');\n",
       "    }\n",
       "};\n",
       "\n",
       "mpl.figure.prototype.updated_canvas_event = function () {\n",
       "    // Called whenever the canvas gets updated.\n",
       "    this.send_message('ack', {});\n",
       "};\n",
       "\n",
       "// A function to construct a web socket function for onmessage handling.\n",
       "// Called in the figure constructor.\n",
       "mpl.figure.prototype._make_on_message_function = function (fig) {\n",
       "    return function socket_on_message(evt) {\n",
       "        if (evt.data instanceof Blob) {\n",
       "            /* FIXME: We get \"Resource interpreted as Image but\n",
       "             * transferred with MIME type text/plain:\" errors on\n",
       "             * Chrome.  But how to set the MIME type?  It doesn't seem\n",
       "             * to be part of the websocket stream */\n",
       "            evt.data.type = 'image/png';\n",
       "\n",
       "            /* Free the memory for the previous frames */\n",
       "            if (fig.imageObj.src) {\n",
       "                (window.URL || window.webkitURL).revokeObjectURL(\n",
       "                    fig.imageObj.src\n",
       "                );\n",
       "            }\n",
       "\n",
       "            fig.imageObj.src = (window.URL || window.webkitURL).createObjectURL(\n",
       "                evt.data\n",
       "            );\n",
       "            fig.updated_canvas_event();\n",
       "            fig.waiting = false;\n",
       "            return;\n",
       "        } else if (\n",
       "            typeof evt.data === 'string' &&\n",
       "            evt.data.slice(0, 21) === 'data:image/png;base64'\n",
       "        ) {\n",
       "            fig.imageObj.src = evt.data;\n",
       "            fig.updated_canvas_event();\n",
       "            fig.waiting = false;\n",
       "            return;\n",
       "        }\n",
       "\n",
       "        var msg = JSON.parse(evt.data);\n",
       "        var msg_type = msg['type'];\n",
       "\n",
       "        // Call the  \"handle_{type}\" callback, which takes\n",
       "        // the figure and JSON message as its only arguments.\n",
       "        try {\n",
       "            var callback = fig['handle_' + msg_type];\n",
       "        } catch (e) {\n",
       "            console.log(\n",
       "                \"No handler for the '\" + msg_type + \"' message type: \",\n",
       "                msg\n",
       "            );\n",
       "            return;\n",
       "        }\n",
       "\n",
       "        if (callback) {\n",
       "            try {\n",
       "                // console.log(\"Handling '\" + msg_type + \"' message: \", msg);\n",
       "                callback(fig, msg);\n",
       "            } catch (e) {\n",
       "                console.log(\n",
       "                    \"Exception inside the 'handler_\" + msg_type + \"' callback:\",\n",
       "                    e,\n",
       "                    e.stack,\n",
       "                    msg\n",
       "                );\n",
       "            }\n",
       "        }\n",
       "    };\n",
       "};\n",
       "\n",
       "// from http://stackoverflow.com/questions/1114465/getting-mouse-location-in-canvas\n",
       "mpl.findpos = function (e) {\n",
       "    //this section is from http://www.quirksmode.org/js/events_properties.html\n",
       "    var targ;\n",
       "    if (!e) {\n",
       "        e = window.event;\n",
       "    }\n",
       "    if (e.target) {\n",
       "        targ = e.target;\n",
       "    } else if (e.srcElement) {\n",
       "        targ = e.srcElement;\n",
       "    }\n",
       "    if (targ.nodeType === 3) {\n",
       "        // defeat Safari bug\n",
       "        targ = targ.parentNode;\n",
       "    }\n",
       "\n",
       "    // pageX,Y are the mouse positions relative to the document\n",
       "    var boundingRect = targ.getBoundingClientRect();\n",
       "    var x = e.pageX - (boundingRect.left + document.body.scrollLeft);\n",
       "    var y = e.pageY - (boundingRect.top + document.body.scrollTop);\n",
       "\n",
       "    return { x: x, y: y };\n",
       "};\n",
       "\n",
       "/*\n",
       " * return a copy of an object with only non-object keys\n",
       " * we need this to avoid circular references\n",
       " * http://stackoverflow.com/a/24161582/3208463\n",
       " */\n",
       "function simpleKeys(original) {\n",
       "    return Object.keys(original).reduce(function (obj, key) {\n",
       "        if (typeof original[key] !== 'object') {\n",
       "            obj[key] = original[key];\n",
       "        }\n",
       "        return obj;\n",
       "    }, {});\n",
       "}\n",
       "\n",
       "mpl.figure.prototype.mouse_event = function (event, name) {\n",
       "    var canvas_pos = mpl.findpos(event);\n",
       "\n",
       "    if (name === 'button_press') {\n",
       "        this.canvas.focus();\n",
       "        this.canvas_div.focus();\n",
       "    }\n",
       "\n",
       "    var x = canvas_pos.x * this.ratio;\n",
       "    var y = canvas_pos.y * this.ratio;\n",
       "\n",
       "    this.send_message(name, {\n",
       "        x: x,\n",
       "        y: y,\n",
       "        button: event.button,\n",
       "        step: event.step,\n",
       "        guiEvent: simpleKeys(event),\n",
       "    });\n",
       "\n",
       "    /* This prevents the web browser from automatically changing to\n",
       "     * the text insertion cursor when the button is pressed.  We want\n",
       "     * to control all of the cursor setting manually through the\n",
       "     * 'cursor' event from matplotlib */\n",
       "    event.preventDefault();\n",
       "    return false;\n",
       "};\n",
       "\n",
       "mpl.figure.prototype._key_event_extra = function (_event, _name) {\n",
       "    // Handle any extra behaviour associated with a key event\n",
       "};\n",
       "\n",
       "mpl.figure.prototype.key_event = function (event, name) {\n",
       "    // Prevent repeat events\n",
       "    if (name === 'key_press') {\n",
       "        if (event.which === this._key) {\n",
       "            return;\n",
       "        } else {\n",
       "            this._key = event.which;\n",
       "        }\n",
       "    }\n",
       "    if (name === 'key_release') {\n",
       "        this._key = null;\n",
       "    }\n",
       "\n",
       "    var value = '';\n",
       "    if (event.ctrlKey && event.which !== 17) {\n",
       "        value += 'ctrl+';\n",
       "    }\n",
       "    if (event.altKey && event.which !== 18) {\n",
       "        value += 'alt+';\n",
       "    }\n",
       "    if (event.shiftKey && event.which !== 16) {\n",
       "        value += 'shift+';\n",
       "    }\n",
       "\n",
       "    value += 'k';\n",
       "    value += event.which.toString();\n",
       "\n",
       "    this._key_event_extra(event, name);\n",
       "\n",
       "    this.send_message(name, { key: value, guiEvent: simpleKeys(event) });\n",
       "    return false;\n",
       "};\n",
       "\n",
       "mpl.figure.prototype.toolbar_button_onclick = function (name) {\n",
       "    if (name === 'download') {\n",
       "        this.handle_save(this, null);\n",
       "    } else {\n",
       "        this.send_message('toolbar_button', { name: name });\n",
       "    }\n",
       "};\n",
       "\n",
       "mpl.figure.prototype.toolbar_button_onmouseover = function (tooltip) {\n",
       "    this.message.textContent = tooltip;\n",
       "};\n",
       "mpl.toolbar_items = [[\"Home\", \"Reset original view\", \"fa fa-home icon-home\", \"home\"], [\"Back\", \"Back to previous view\", \"fa fa-arrow-left icon-arrow-left\", \"back\"], [\"Forward\", \"Forward to next view\", \"fa fa-arrow-right icon-arrow-right\", \"forward\"], [\"\", \"\", \"\", \"\"], [\"Pan\", \"Left button pans, Right button zooms\\nx/y fixes axis, CTRL fixes aspect\", \"fa fa-arrows icon-move\", \"pan\"], [\"Zoom\", \"Zoom to rectangle\\nx/y fixes axis, CTRL fixes aspect\", \"fa fa-square-o icon-check-empty\", \"zoom\"], [\"\", \"\", \"\", \"\"], [\"Download\", \"Download plot\", \"fa fa-floppy-o icon-save\", \"download\"]];\n",
       "\n",
       "mpl.extensions = [\"eps\", \"jpeg\", \"pdf\", \"png\", \"ps\", \"raw\", \"svg\", \"tif\"];\n",
       "\n",
       "mpl.default_extension = \"png\";/* global mpl */\n",
       "\n",
       "var comm_websocket_adapter = function (comm) {\n",
       "    // Create a \"websocket\"-like object which calls the given IPython comm\n",
       "    // object with the appropriate methods. Currently this is a non binary\n",
       "    // socket, so there is still some room for performance tuning.\n",
       "    var ws = {};\n",
       "\n",
       "    ws.close = function () {\n",
       "        comm.close();\n",
       "    };\n",
       "    ws.send = function (m) {\n",
       "        //console.log('sending', m);\n",
       "        comm.send(m);\n",
       "    };\n",
       "    // Register the callback with on_msg.\n",
       "    comm.on_msg(function (msg) {\n",
       "        //console.log('receiving', msg['content']['data'], msg);\n",
       "        // Pass the mpl event to the overridden (by mpl) onmessage function.\n",
       "        ws.onmessage(msg['content']['data']);\n",
       "    });\n",
       "    return ws;\n",
       "};\n",
       "\n",
       "mpl.mpl_figure_comm = function (comm, msg) {\n",
       "    // This is the function which gets called when the mpl process\n",
       "    // starts-up an IPython Comm through the \"matplotlib\" channel.\n",
       "\n",
       "    var id = msg.content.data.id;\n",
       "    // Get hold of the div created by the display call when the Comm\n",
       "    // socket was opened in Python.\n",
       "    var element = document.getElementById(id);\n",
       "    var ws_proxy = comm_websocket_adapter(comm);\n",
       "\n",
       "    function ondownload(figure, _format) {\n",
       "        window.open(figure.canvas.toDataURL());\n",
       "    }\n",
       "\n",
       "    var fig = new mpl.figure(id, ws_proxy, ondownload, element);\n",
       "\n",
       "    // Call onopen now - mpl needs it, as it is assuming we've passed it a real\n",
       "    // web socket which is closed, not our websocket->open comm proxy.\n",
       "    ws_proxy.onopen();\n",
       "\n",
       "    fig.parent_element = element;\n",
       "    fig.cell_info = mpl.find_output_cell(\"<div id='\" + id + \"'></div>\");\n",
       "    if (!fig.cell_info) {\n",
       "        console.error('Failed to find cell for figure', id, fig);\n",
       "        return;\n",
       "    }\n",
       "    fig.cell_info[0].output_area.element.one(\n",
       "        'cleared',\n",
       "        { fig: fig },\n",
       "        fig._remove_fig_handler\n",
       "    );\n",
       "};\n",
       "\n",
       "mpl.figure.prototype.handle_close = function (fig, msg) {\n",
       "    var width = fig.canvas.width / fig.ratio;\n",
       "    fig.cell_info[0].output_area.element.off(\n",
       "        'cleared',\n",
       "        fig._remove_fig_handler\n",
       "    );\n",
       "\n",
       "    // Update the output cell to use the data from the current canvas.\n",
       "    fig.push_to_output();\n",
       "    var dataURL = fig.canvas.toDataURL();\n",
       "    // Re-enable the keyboard manager in IPython - without this line, in FF,\n",
       "    // the notebook keyboard shortcuts fail.\n",
       "    IPython.keyboard_manager.enable();\n",
       "    fig.parent_element.innerHTML =\n",
       "        '<img src=\"' + dataURL + '\" width=\"' + width + '\">';\n",
       "    fig.close_ws(fig, msg);\n",
       "};\n",
       "\n",
       "mpl.figure.prototype.close_ws = function (fig, msg) {\n",
       "    fig.send_message('closing', msg);\n",
       "    // fig.ws.close()\n",
       "};\n",
       "\n",
       "mpl.figure.prototype.push_to_output = function (_remove_interactive) {\n",
       "    // Turn the data on the canvas into data in the output cell.\n",
       "    var width = this.canvas.width / this.ratio;\n",
       "    var dataURL = this.canvas.toDataURL();\n",
       "    this.cell_info[1]['text/html'] =\n",
       "        '<img src=\"' + dataURL + '\" width=\"' + width + '\">';\n",
       "};\n",
       "\n",
       "mpl.figure.prototype.updated_canvas_event = function () {\n",
       "    // Tell IPython that the notebook contents must change.\n",
       "    IPython.notebook.set_dirty(true);\n",
       "    this.send_message('ack', {});\n",
       "    var fig = this;\n",
       "    // Wait a second, then push the new image to the DOM so\n",
       "    // that it is saved nicely (might be nice to debounce this).\n",
       "    setTimeout(function () {\n",
       "        fig.push_to_output();\n",
       "    }, 1000);\n",
       "};\n",
       "\n",
       "mpl.figure.prototype._init_toolbar = function () {\n",
       "    var fig = this;\n",
       "\n",
       "    var toolbar = document.createElement('div');\n",
       "    toolbar.classList = 'btn-toolbar';\n",
       "    this.root.appendChild(toolbar);\n",
       "\n",
       "    function on_click_closure(name) {\n",
       "        return function (_event) {\n",
       "            return fig.toolbar_button_onclick(name);\n",
       "        };\n",
       "    }\n",
       "\n",
       "    function on_mouseover_closure(tooltip) {\n",
       "        return function (event) {\n",
       "            if (!event.currentTarget.disabled) {\n",
       "                return fig.toolbar_button_onmouseover(tooltip);\n",
       "            }\n",
       "        };\n",
       "    }\n",
       "\n",
       "    fig.buttons = {};\n",
       "    var buttonGroup = document.createElement('div');\n",
       "    buttonGroup.classList = 'btn-group';\n",
       "    var button;\n",
       "    for (var toolbar_ind in mpl.toolbar_items) {\n",
       "        var name = mpl.toolbar_items[toolbar_ind][0];\n",
       "        var tooltip = mpl.toolbar_items[toolbar_ind][1];\n",
       "        var image = mpl.toolbar_items[toolbar_ind][2];\n",
       "        var method_name = mpl.toolbar_items[toolbar_ind][3];\n",
       "\n",
       "        if (!name) {\n",
       "            /* Instead of a spacer, we start a new button group. */\n",
       "            if (buttonGroup.hasChildNodes()) {\n",
       "                toolbar.appendChild(buttonGroup);\n",
       "            }\n",
       "            buttonGroup = document.createElement('div');\n",
       "            buttonGroup.classList = 'btn-group';\n",
       "            continue;\n",
       "        }\n",
       "\n",
       "        button = fig.buttons[name] = document.createElement('button');\n",
       "        button.classList = 'btn btn-default';\n",
       "        button.href = '#';\n",
       "        button.title = name;\n",
       "        button.innerHTML = '<i class=\"fa ' + image + ' fa-lg\"></i>';\n",
       "        button.addEventListener('click', on_click_closure(method_name));\n",
       "        button.addEventListener('mouseover', on_mouseover_closure(tooltip));\n",
       "        buttonGroup.appendChild(button);\n",
       "    }\n",
       "\n",
       "    if (buttonGroup.hasChildNodes()) {\n",
       "        toolbar.appendChild(buttonGroup);\n",
       "    }\n",
       "\n",
       "    // Add the status bar.\n",
       "    var status_bar = document.createElement('span');\n",
       "    status_bar.classList = 'mpl-message pull-right';\n",
       "    toolbar.appendChild(status_bar);\n",
       "    this.message = status_bar;\n",
       "\n",
       "    // Add the close button to the window.\n",
       "    var buttongrp = document.createElement('div');\n",
       "    buttongrp.classList = 'btn-group inline pull-right';\n",
       "    button = document.createElement('button');\n",
       "    button.classList = 'btn btn-mini btn-primary';\n",
       "    button.href = '#';\n",
       "    button.title = 'Stop Interaction';\n",
       "    button.innerHTML = '<i class=\"fa fa-power-off icon-remove icon-large\"></i>';\n",
       "    button.addEventListener('click', function (_evt) {\n",
       "        fig.handle_close(fig, {});\n",
       "    });\n",
       "    button.addEventListener(\n",
       "        'mouseover',\n",
       "        on_mouseover_closure('Stop Interaction')\n",
       "    );\n",
       "    buttongrp.appendChild(button);\n",
       "    var titlebar = this.root.querySelector('.ui-dialog-titlebar');\n",
       "    titlebar.insertBefore(buttongrp, titlebar.firstChild);\n",
       "};\n",
       "\n",
       "mpl.figure.prototype._remove_fig_handler = function (event) {\n",
       "    var fig = event.data.fig;\n",
       "    fig.close_ws(fig, {});\n",
       "};\n",
       "\n",
       "mpl.figure.prototype._root_extra_style = function (el) {\n",
       "    el.style.boxSizing = 'content-box'; // override notebook setting of border-box.\n",
       "};\n",
       "\n",
       "mpl.figure.prototype._canvas_extra_style = function (el) {\n",
       "    // this is important to make the div 'focusable\n",
       "    el.setAttribute('tabindex', 0);\n",
       "    // reach out to IPython and tell the keyboard manager to turn it's self\n",
       "    // off when our div gets focus\n",
       "\n",
       "    // location in version 3\n",
       "    if (IPython.notebook.keyboard_manager) {\n",
       "        IPython.notebook.keyboard_manager.register_events(el);\n",
       "    } else {\n",
       "        // location in version 2\n",
       "        IPython.keyboard_manager.register_events(el);\n",
       "    }\n",
       "};\n",
       "\n",
       "mpl.figure.prototype._key_event_extra = function (event, _name) {\n",
       "    var manager = IPython.notebook.keyboard_manager;\n",
       "    if (!manager) {\n",
       "        manager = IPython.keyboard_manager;\n",
       "    }\n",
       "\n",
       "    // Check for shift+enter\n",
       "    if (event.shiftKey && event.which === 13) {\n",
       "        this.canvas_div.blur();\n",
       "        // select the cell after this one\n",
       "        var index = IPython.notebook.find_cell_index(this.cell_info[0]);\n",
       "        IPython.notebook.select(index + 1);\n",
       "    }\n",
       "};\n",
       "\n",
       "mpl.figure.prototype.handle_save = function (fig, _msg) {\n",
       "    fig.ondownload(fig, null);\n",
       "};\n",
       "\n",
       "mpl.find_output_cell = function (html_output) {\n",
       "    // Return the cell and output element which can be found *uniquely* in the notebook.\n",
       "    // Note - this is a bit hacky, but it is done because the \"notebook_saving.Notebook\"\n",
       "    // IPython event is triggered only after the cells have been serialised, which for\n",
       "    // our purposes (turning an active figure into a static one), is too late.\n",
       "    var cells = IPython.notebook.get_cells();\n",
       "    var ncells = cells.length;\n",
       "    for (var i = 0; i < ncells; i++) {\n",
       "        var cell = cells[i];\n",
       "        if (cell.cell_type === 'code') {\n",
       "            for (var j = 0; j < cell.output_area.outputs.length; j++) {\n",
       "                var data = cell.output_area.outputs[j];\n",
       "                if (data.data) {\n",
       "                    // IPython >= 3 moved mimebundle to data attribute of output\n",
       "                    data = data.data;\n",
       "                }\n",
       "                if (data['text/html'] === html_output) {\n",
       "                    return [cell, data, j];\n",
       "                }\n",
       "            }\n",
       "        }\n",
       "    }\n",
       "};\n",
       "\n",
       "// Register the function which deals with the matplotlib target/channel.\n",
       "// The kernel may be null if the page has been refreshed.\n",
       "if (IPython.notebook.kernel !== null) {\n",
       "    IPython.notebook.kernel.comm_manager.register_target(\n",
       "        'matplotlib',\n",
       "        mpl.mpl_figure_comm\n",
       "    );\n",
       "}\n"
      ],
      "text/plain": [
       "<IPython.core.display.Javascript object>"
      ]
     },
     "metadata": {},
     "output_type": "display_data"
    },
    {
     "data": {
      "text/html": [
       "<img src=\"data:image/png;base64,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\" width=\"640\">"
      ],
      "text/plain": [
       "<IPython.core.display.HTML object>"
      ]
     },
     "metadata": {},
     "output_type": "display_data"
    }
   ],
   "source": [
    "close_px.AAPL.plot();"
   ]
  },
  {
   "cell_type": "code",
   "execution_count": 322,
   "metadata": {
    "ExecuteTime": {
     "end_time": "2020-11-18T03:41:52.034489Z",
     "start_time": "2020-11-18T03:41:52.027569Z"
    }
   },
   "outputs": [],
   "source": [
    "apl_std250 = close_px.AAPL.rolling(250, min_periods=10).std()"
   ]
  },
  {
   "cell_type": "code",
   "execution_count": 323,
   "metadata": {
    "ExecuteTime": {
     "end_time": "2020-11-18T03:41:52.045088Z",
     "start_time": "2020-11-18T03:41:52.037793Z"
    }
   },
   "outputs": [
    {
     "data": {
      "text/plain": [
       "2003-01-09         NaN\n",
       "2003-01-10         NaN\n",
       "2003-01-13         NaN\n",
       "2003-01-14         NaN\n",
       "2003-01-15    0.077496\n",
       "2003-01-16    0.074760\n",
       "2003-01-17    0.112368\n",
       "Freq: B, Name: AAPL, dtype: float64"
      ]
     },
     "execution_count": 323,
     "metadata": {},
     "output_type": "execute_result"
    }
   ],
   "source": [
    "apl_std250[5:12]"
   ]
  },
  {
   "cell_type": "code",
   "execution_count": 324,
   "metadata": {
    "ExecuteTime": {
     "end_time": "2020-11-18T03:41:52.085159Z",
     "start_time": "2020-11-18T03:41:52.048335Z"
    }
   },
   "outputs": [
    {
     "data": {
      "text/plain": [
       "<AxesSubplot:>"
      ]
     },
     "execution_count": 324,
     "metadata": {},
     "output_type": "execute_result"
    }
   ],
   "source": [
    "apl_std250.plot()"
   ]
  },
  {
   "cell_type": "markdown",
   "metadata": {},
   "source": [
    "**`rolling`算子**， 行为与groupby和resample类似，**可以在Series和DataFrame上通过window进行调用**，**以一个区间的数字表示**"
   ]
  },
  {
   "cell_type": "markdown",
   "metadata": {},
   "source": [
    "`rolling`行为与groupby类似，但是它创建的对象是**根据窗口大小滑动窗口分组**， 而不是直接分组"
   ]
  },
  {
   "cell_type": "code",
   "execution_count": 327,
   "metadata": {
    "ExecuteTime": {
     "end_time": "2020-11-18T03:46:04.511051Z",
     "start_time": "2020-11-18T03:46:04.289985Z"
    }
   },
   "outputs": [
    {
     "data": {
      "text/plain": [
       "[2003-01-02    7.4\n",
       " Freq: B, Name: AAPL, dtype: float64,\n",
       " 2003-01-02    7.40\n",
       " 2003-01-03    7.45\n",
       " Freq: B, Name: AAPL, dtype: float64,\n",
       " 2003-01-02    7.40\n",
       " 2003-01-03    7.45\n",
       " 2003-01-06    7.45\n",
       " Freq: B, Name: AAPL, dtype: float64,\n",
       " 2003-01-02    7.40\n",
       " 2003-01-03    7.45\n",
       " 2003-01-06    7.45\n",
       " 2003-01-07    7.43\n",
       " Freq: B, Name: AAPL, dtype: float64,\n",
       " 2003-01-02    7.40\n",
       " 2003-01-03    7.45\n",
       " 2003-01-06    7.45\n",
       " 2003-01-07    7.43\n",
       " 2003-01-08    7.28\n",
       " Freq: B, Name: AAPL, dtype: float64,\n",
       " 2003-01-02    7.40\n",
       " 2003-01-03    7.45\n",
       " 2003-01-06    7.45\n",
       " 2003-01-07    7.43\n",
       " 2003-01-08    7.28\n",
       " 2003-01-09    7.34\n",
       " Freq: B, Name: AAPL, dtype: float64,\n",
       " 2003-01-02    7.40\n",
       " 2003-01-03    7.45\n",
       " 2003-01-06    7.45\n",
       " 2003-01-07    7.43\n",
       " 2003-01-08    7.28\n",
       " 2003-01-09    7.34\n",
       " 2003-01-10    7.36\n",
       " Freq: B, Name: AAPL, dtype: float64,\n",
       " 2003-01-02    7.40\n",
       " 2003-01-03    7.45\n",
       " 2003-01-06    7.45\n",
       " 2003-01-07    7.43\n",
       " 2003-01-08    7.28\n",
       " 2003-01-09    7.34\n",
       " 2003-01-10    7.36\n",
       " 2003-01-13    7.32\n",
       " Freq: B, Name: AAPL, dtype: float64,\n",
       " 2003-01-02    7.40\n",
       " 2003-01-03    7.45\n",
       " 2003-01-06    7.45\n",
       " 2003-01-07    7.43\n",
       " 2003-01-08    7.28\n",
       " 2003-01-09    7.34\n",
       " 2003-01-10    7.36\n",
       " 2003-01-13    7.32\n",
       " 2003-01-14    7.30\n",
       " Freq: B, Name: AAPL, dtype: float64,\n",
       " 2003-01-02    7.40\n",
       " 2003-01-03    7.45\n",
       " 2003-01-06    7.45\n",
       " 2003-01-07    7.43\n",
       " 2003-01-08    7.28\n",
       " 2003-01-09    7.34\n",
       " 2003-01-10    7.36\n",
       " 2003-01-13    7.32\n",
       " 2003-01-14    7.30\n",
       " 2003-01-15    7.22\n",
       " Freq: B, Name: AAPL, dtype: float64,\n",
       " 2003-01-02    7.40\n",
       " 2003-01-03    7.45\n",
       " 2003-01-06    7.45\n",
       " 2003-01-07    7.43\n",
       " 2003-01-08    7.28\n",
       " 2003-01-09    7.34\n",
       " 2003-01-10    7.36\n",
       " 2003-01-13    7.32\n",
       " 2003-01-14    7.30\n",
       " 2003-01-15    7.22\n",
       " 2003-01-16    7.31\n",
       " Freq: B, Name: AAPL, dtype: float64,\n",
       " 2003-01-02    7.40\n",
       " 2003-01-03    7.45\n",
       " 2003-01-06    7.45\n",
       " 2003-01-07    7.43\n",
       " 2003-01-08    7.28\n",
       " 2003-01-09    7.34\n",
       " 2003-01-10    7.36\n",
       " 2003-01-13    7.32\n",
       " 2003-01-14    7.30\n",
       " 2003-01-15    7.22\n",
       " 2003-01-16    7.31\n",
       " 2003-01-17    7.05\n",
       " Freq: B, Name: AAPL, dtype: float64]"
      ]
     },
     "execution_count": 327,
     "metadata": {},
     "output_type": "execute_result"
    }
   ],
   "source": [
    "list( close_px.AAPL.rolling(250, min_periods=10))[:12]"
   ]
  },
  {
   "cell_type": "code",
   "execution_count": 337,
   "metadata": {
    "ExecuteTime": {
     "end_time": "2020-11-18T03:55:49.149481Z",
     "start_time": "2020-11-18T03:55:49.138501Z"
    }
   },
   "outputs": [
    {
     "data": {
      "text/plain": [
       "2003-01-02          NaN\n",
       "2003-01-03          NaN\n",
       "2003-01-06          NaN\n",
       "2003-01-07          NaN\n",
       "2003-01-08          NaN\n",
       "                ...    \n",
       "2011-10-10    347.58772\n",
       "2011-10-11    347.95668\n",
       "2011-10-12    348.33412\n",
       "2011-10-13    348.74688\n",
       "2011-10-14    349.23096\n",
       "Freq: B, Name: AAPL, Length: 2292, dtype: float64"
      ]
     },
     "execution_count": 337,
     "metadata": {},
     "output_type": "execute_result"
    }
   ],
   "source": [
    " close_px.AAPL.rolling(250, min_periods=10).mean()"
   ]
  },
  {
   "cell_type": "code",
   "execution_count": 330,
   "metadata": {
    "ExecuteTime": {
     "end_time": "2020-11-18T03:50:59.068281Z",
     "start_time": "2020-11-18T03:50:58.856930Z"
    }
   },
   "outputs": [
    {
     "data": {
      "text/plain": [
       "2003-01-03     7.45\n",
       "2003-01-06     7.45\n",
       "2003-01-07     7.43\n",
       "2003-01-08     7.28\n",
       "2003-01-09     7.34\n",
       "              ...  \n",
       "2003-12-12    10.44\n",
       "2003-12-15    10.09\n",
       "2003-12-16    10.06\n",
       "2003-12-17     9.94\n",
       "2003-12-18    10.02\n",
       "Freq: B, Name: AAPL, Length: 250, dtype: float64"
      ]
     },
     "execution_count": 330,
     "metadata": {},
     "output_type": "execute_result"
    }
   ],
   "source": [
    "list( close_px.AAPL.rolling(250, min_periods=10))[250]"
   ]
  },
  {
   "cell_type": "markdown",
   "metadata": {},
   "source": [
    "计算**扩展窗口**均值，使用**`expanding`算子**，而不是`rolling`算子，扩展均值**从时间序列的起始位置开始时间窗口**， **并增大窗口大小，直到它覆盖整个序列**"
   ]
  },
  {
   "cell_type": "code",
   "execution_count": 331,
   "metadata": {
    "ExecuteTime": {
     "end_time": "2020-11-18T03:53:18.105334Z",
     "start_time": "2020-11-18T03:53:18.098709Z"
    }
   },
   "outputs": [],
   "source": [
    "expanding_mean = apl_std250.expanding().mean()"
   ]
  },
  {
   "cell_type": "code",
   "execution_count": 345,
   "metadata": {
    "ExecuteTime": {
     "end_time": "2020-11-18T04:23:28.540367Z",
     "start_time": "2020-11-18T04:23:28.531629Z"
    }
   },
   "outputs": [
    {
     "data": {
      "text/plain": [
       "2003-12-16    0.906578\n",
       "2003-12-17    0.909766\n",
       "2003-12-18    0.912914\n",
       "2003-12-19    0.916021\n",
       "Freq: B, Name: AAPL, dtype: float64"
      ]
     },
     "execution_count": 345,
     "metadata": {},
     "output_type": "execute_result"
    }
   ],
   "source": [
    "expanding_mean[248:252]"
   ]
  },
  {
   "cell_type": "code",
   "execution_count": 332,
   "metadata": {
    "ExecuteTime": {
     "end_time": "2020-11-18T03:53:27.807003Z",
     "start_time": "2020-11-18T03:53:27.769394Z"
    }
   },
   "outputs": [
    {
     "data": {
      "text/plain": [
       "<AxesSubplot:>"
      ]
     },
     "execution_count": 332,
     "metadata": {},
     "output_type": "execute_result"
    }
   ],
   "source": [
    "expanding_mean.plot()"
   ]
  },
  {
   "cell_type": "code",
   "execution_count": 335,
   "metadata": {
    "ExecuteTime": {
     "end_time": "2020-11-18T03:54:18.148055Z",
     "start_time": "2020-11-18T03:54:18.111929Z"
    }
   },
   "outputs": [
    {
     "data": {
      "text/plain": [
       "<AxesSubplot:>"
      ]
     },
     "execution_count": 335,
     "metadata": {},
     "output_type": "execute_result"
    }
   ],
   "source": [
    "close_px.AAPL.expanding().mean().plot()"
   ]
  },
  {
   "cell_type": "code",
   "execution_count": 336,
   "metadata": {
    "ExecuteTime": {
     "end_time": "2020-11-18T03:54:33.337290Z",
     "start_time": "2020-11-18T03:54:33.323105Z"
    }
   },
   "outputs": [
    {
     "data": {
      "text/plain": [
       "<matplotlib.legend.Legend at 0x7fb81d22d0d0>"
      ]
     },
     "execution_count": 336,
     "metadata": {},
     "output_type": "execute_result"
    }
   ],
   "source": [
    "plt.legend()"
   ]
  },
  {
   "cell_type": "markdown",
   "metadata": {},
   "source": [
    "`rolling`函数可以接受**固定大小的时间偏置字符串**，而不只是一个区间的集合数字；这对于不规则的时间序列非常有用"
   ]
  },
  {
   "cell_type": "code",
   "execution_count": 339,
   "metadata": {
    "ExecuteTime": {
     "end_time": "2020-11-18T03:58:21.399919Z",
     "start_time": "2020-11-18T03:58:21.176321Z"
    },
    "scrolled": false
   },
   "outputs": [
    {
     "data": {
      "text/plain": [
       "[2003-01-02    7.4\n",
       " Freq: B, Name: AAPL, dtype: float64,\n",
       " 2003-01-02    7.40\n",
       " 2003-01-03    7.45\n",
       " Freq: B, Name: AAPL, dtype: float64,\n",
       " 2003-01-02    7.40\n",
       " 2003-01-03    7.45\n",
       " 2003-01-06    7.45\n",
       " Freq: B, Name: AAPL, dtype: float64,\n",
       " 2003-01-02    7.40\n",
       " 2003-01-03    7.45\n",
       " 2003-01-06    7.45\n",
       " 2003-01-07    7.43\n",
       " Freq: B, Name: AAPL, dtype: float64,\n",
       " 2003-01-02    7.40\n",
       " 2003-01-03    7.45\n",
       " 2003-01-06    7.45\n",
       " 2003-01-07    7.43\n",
       " 2003-01-08    7.28\n",
       " Freq: B, Name: AAPL, dtype: float64,\n",
       " 2003-01-02    7.40\n",
       " 2003-01-03    7.45\n",
       " 2003-01-06    7.45\n",
       " 2003-01-07    7.43\n",
       " 2003-01-08    7.28\n",
       " 2003-01-09    7.34\n",
       " Freq: B, Name: AAPL, dtype: float64,\n",
       " 2003-01-02    7.40\n",
       " 2003-01-03    7.45\n",
       " 2003-01-06    7.45\n",
       " 2003-01-07    7.43\n",
       " 2003-01-08    7.28\n",
       " 2003-01-09    7.34\n",
       " 2003-01-10    7.36\n",
       " Freq: B, Name: AAPL, dtype: float64,\n",
       " 2003-01-02    7.40\n",
       " 2003-01-03    7.45\n",
       " 2003-01-06    7.45\n",
       " 2003-01-07    7.43\n",
       " 2003-01-08    7.28\n",
       " 2003-01-09    7.34\n",
       " 2003-01-10    7.36\n",
       " 2003-01-13    7.32\n",
       " Freq: B, Name: AAPL, dtype: float64,\n",
       " 2003-01-02    7.40\n",
       " 2003-01-03    7.45\n",
       " 2003-01-06    7.45\n",
       " 2003-01-07    7.43\n",
       " 2003-01-08    7.28\n",
       " 2003-01-09    7.34\n",
       " 2003-01-10    7.36\n",
       " 2003-01-13    7.32\n",
       " 2003-01-14    7.30\n",
       " Freq: B, Name: AAPL, dtype: float64,\n",
       " 2003-01-02    7.40\n",
       " 2003-01-03    7.45\n",
       " 2003-01-06    7.45\n",
       " 2003-01-07    7.43\n",
       " 2003-01-08    7.28\n",
       " 2003-01-09    7.34\n",
       " 2003-01-10    7.36\n",
       " 2003-01-13    7.32\n",
       " 2003-01-14    7.30\n",
       " 2003-01-15    7.22\n",
       " Freq: B, Name: AAPL, dtype: float64,\n",
       " 2003-01-02    7.40\n",
       " 2003-01-03    7.45\n",
       " 2003-01-06    7.45\n",
       " 2003-01-07    7.43\n",
       " 2003-01-08    7.28\n",
       " 2003-01-09    7.34\n",
       " 2003-01-10    7.36\n",
       " 2003-01-13    7.32\n",
       " 2003-01-14    7.30\n",
       " 2003-01-15    7.22\n",
       " 2003-01-16    7.31\n",
       " Freq: B, Name: AAPL, dtype: float64,\n",
       " 2003-01-02    7.40\n",
       " 2003-01-03    7.45\n",
       " 2003-01-06    7.45\n",
       " 2003-01-07    7.43\n",
       " 2003-01-08    7.28\n",
       " 2003-01-09    7.34\n",
       " 2003-01-10    7.36\n",
       " 2003-01-13    7.32\n",
       " 2003-01-14    7.30\n",
       " 2003-01-15    7.22\n",
       " 2003-01-16    7.31\n",
       " 2003-01-17    7.05\n",
       " Freq: B, Name: AAPL, dtype: float64,\n",
       " 2003-01-02    7.40\n",
       " 2003-01-03    7.45\n",
       " 2003-01-06    7.45\n",
       " 2003-01-07    7.43\n",
       " 2003-01-08    7.28\n",
       " 2003-01-09    7.34\n",
       " 2003-01-10    7.36\n",
       " 2003-01-13    7.32\n",
       " 2003-01-14    7.30\n",
       " 2003-01-15    7.22\n",
       " 2003-01-16    7.31\n",
       " 2003-01-17    7.05\n",
       " 2003-01-20    7.05\n",
       " Freq: B, Name: AAPL, dtype: float64,\n",
       " 2003-01-02    7.40\n",
       " 2003-01-03    7.45\n",
       " 2003-01-06    7.45\n",
       " 2003-01-07    7.43\n",
       " 2003-01-08    7.28\n",
       " 2003-01-09    7.34\n",
       " 2003-01-10    7.36\n",
       " 2003-01-13    7.32\n",
       " 2003-01-14    7.30\n",
       " 2003-01-15    7.22\n",
       " 2003-01-16    7.31\n",
       " 2003-01-17    7.05\n",
       " 2003-01-20    7.05\n",
       " 2003-01-21    7.01\n",
       " Freq: B, Name: AAPL, dtype: float64,\n",
       " 2003-01-03    7.45\n",
       " 2003-01-06    7.45\n",
       " 2003-01-07    7.43\n",
       " 2003-01-08    7.28\n",
       " 2003-01-09    7.34\n",
       " 2003-01-10    7.36\n",
       " 2003-01-13    7.32\n",
       " 2003-01-14    7.30\n",
       " 2003-01-15    7.22\n",
       " 2003-01-16    7.31\n",
       " 2003-01-17    7.05\n",
       " 2003-01-20    7.05\n",
       " 2003-01-21    7.01\n",
       " 2003-01-22    6.94\n",
       " Freq: B, Name: AAPL, dtype: float64,\n",
       " 2003-01-06    7.45\n",
       " 2003-01-07    7.43\n",
       " 2003-01-08    7.28\n",
       " 2003-01-09    7.34\n",
       " 2003-01-10    7.36\n",
       " 2003-01-13    7.32\n",
       " 2003-01-14    7.30\n",
       " 2003-01-15    7.22\n",
       " 2003-01-16    7.31\n",
       " 2003-01-17    7.05\n",
       " 2003-01-20    7.05\n",
       " 2003-01-21    7.01\n",
       " 2003-01-22    6.94\n",
       " 2003-01-23    7.09\n",
       " Freq: B, Name: AAPL, dtype: float64,\n",
       " 2003-01-06    7.45\n",
       " 2003-01-07    7.43\n",
       " 2003-01-08    7.28\n",
       " 2003-01-09    7.34\n",
       " 2003-01-10    7.36\n",
       " 2003-01-13    7.32\n",
       " 2003-01-14    7.30\n",
       " 2003-01-15    7.22\n",
       " 2003-01-16    7.31\n",
       " 2003-01-17    7.05\n",
       " 2003-01-20    7.05\n",
       " 2003-01-21    7.01\n",
       " 2003-01-22    6.94\n",
       " 2003-01-23    7.09\n",
       " 2003-01-24    6.90\n",
       " Freq: B, Name: AAPL, dtype: float64,\n",
       " 2003-01-08    7.28\n",
       " 2003-01-09    7.34\n",
       " 2003-01-10    7.36\n",
       " 2003-01-13    7.32\n",
       " 2003-01-14    7.30\n",
       " 2003-01-15    7.22\n",
       " 2003-01-16    7.31\n",
       " 2003-01-17    7.05\n",
       " 2003-01-20    7.05\n",
       " 2003-01-21    7.01\n",
       " 2003-01-22    6.94\n",
       " 2003-01-23    7.09\n",
       " 2003-01-24    6.90\n",
       " 2003-01-27    7.07\n",
       " Freq: B, Name: AAPL, dtype: float64,\n",
       " 2003-01-09    7.34\n",
       " 2003-01-10    7.36\n",
       " 2003-01-13    7.32\n",
       " 2003-01-14    7.30\n",
       " 2003-01-15    7.22\n",
       " 2003-01-16    7.31\n",
       " 2003-01-17    7.05\n",
       " 2003-01-20    7.05\n",
       " 2003-01-21    7.01\n",
       " 2003-01-22    6.94\n",
       " 2003-01-23    7.09\n",
       " 2003-01-24    6.90\n",
       " 2003-01-27    7.07\n",
       " 2003-01-28    7.29\n",
       " Freq: B, Name: AAPL, dtype: float64,\n",
       " 2003-01-10    7.36\n",
       " 2003-01-13    7.32\n",
       " 2003-01-14    7.30\n",
       " 2003-01-15    7.22\n",
       " 2003-01-16    7.31\n",
       " 2003-01-17    7.05\n",
       " 2003-01-20    7.05\n",
       " 2003-01-21    7.01\n",
       " 2003-01-22    6.94\n",
       " 2003-01-23    7.09\n",
       " 2003-01-24    6.90\n",
       " 2003-01-27    7.07\n",
       " 2003-01-28    7.29\n",
       " 2003-01-29    7.47\n",
       " Freq: B, Name: AAPL, dtype: float64]"
      ]
     },
     "execution_count": 339,
     "metadata": {},
     "output_type": "execute_result"
    }
   ],
   "source": [
    "list(close_px.AAPL.rolling('20D'))[:20]"
   ]
  },
  {
   "cell_type": "code",
   "execution_count": 341,
   "metadata": {
    "ExecuteTime": {
     "end_time": "2020-11-18T03:59:15.506531Z",
     "start_time": "2020-11-18T03:59:15.496930Z"
    }
   },
   "outputs": [
    {
     "data": {
      "text/plain": [
       "2003-01-02     1.0\n",
       "2003-01-03     2.0\n",
       "2003-01-06     3.0\n",
       "2003-01-07     4.0\n",
       "2003-01-08     5.0\n",
       "              ... \n",
       "2011-10-10    14.0\n",
       "2011-10-11    14.0\n",
       "2011-10-12    14.0\n",
       "2011-10-13    14.0\n",
       "2011-10-14    15.0\n",
       "Freq: B, Name: AAPL, Length: 2292, dtype: float64"
      ]
     },
     "execution_count": 341,
     "metadata": {},
     "output_type": "execute_result"
    }
   ],
   "source": [
    "close_px.AAPL.rolling('20D').count()"
   ]
  },
  {
   "cell_type": "code",
   "execution_count": 342,
   "metadata": {
    "ExecuteTime": {
     "end_time": "2020-11-18T03:59:32.667291Z",
     "start_time": "2020-11-18T03:59:32.655139Z"
    }
   },
   "outputs": [
    {
     "data": {
      "text/plain": [
       "2003-01-02     1.0\n",
       "2003-01-03     2.0\n",
       "2003-01-06     3.0\n",
       "2003-01-07     4.0\n",
       "2003-01-08     5.0\n",
       "              ... \n",
       "2011-10-10    20.0\n",
       "2011-10-11    20.0\n",
       "2011-10-12    20.0\n",
       "2011-10-13    20.0\n",
       "2011-10-14    20.0\n",
       "Freq: B, Name: AAPL, Length: 2292, dtype: float64"
      ]
     },
     "execution_count": 342,
     "metadata": {},
     "output_type": "execute_result"
    }
   ],
   "source": [
    "close_px.AAPL.rolling(20).count()"
   ]
  },
  {
   "cell_type": "markdown",
   "metadata": {},
   "source": [
    "### 指数加权函数"
   ]
  },
  {
   "cell_type": "markdown",
   "metadata": {},
   "source": [
    "指定一个“**常数衰减因子**”以**向更多近期观测值提供更多权重**，可以替代使用具有相等加权观察值的**静态窗口尺寸**的方法"
   ]
  },
  {
   "cell_type": "markdown",
   "metadata": {},
   "source": [
    "有多重方法可以指定衰减因子，一种流行的是使用`span`**跨度**，使得**结果与窗口大小等于跨度**的简单易移动窗口函数"
   ]
  },
  {
   "cell_type": "markdown",
   "metadata": {},
   "source": [
    "`pandas`提供`ewm`算子，与rolling,expanding算子一起使用"
   ]
  },
  {
   "cell_type": "markdown",
   "metadata": {},
   "source": [
    "![spn=30](https://gitee.com/zhao_long/image-store/raw/master/img/20201118124905.png)"
   ]
  },
  {
   "cell_type": "code",
   "execution_count": 354,
   "metadata": {
    "ExecuteTime": {
     "end_time": "2020-11-18T04:54:02.426253Z",
     "start_time": "2020-11-18T04:54:02.416737Z"
    }
   },
   "outputs": [],
   "source": [
    "plt.close('all')"
   ]
  },
  {
   "cell_type": "code",
   "execution_count": 347,
   "metadata": {
    "ExecuteTime": {
     "end_time": "2020-11-18T04:41:20.046290Z",
     "start_time": "2020-11-18T04:41:20.033703Z"
    }
   },
   "outputs": [
    {
     "data": {
      "text/plain": [
       "2006-01-02     71.89\n",
       "2006-01-03     74.75\n",
       "2006-01-04     74.97\n",
       "2006-01-05     74.38\n",
       "2006-01-06     76.30\n",
       "               ...  \n",
       "2007-12-25    198.80\n",
       "2007-12-26    198.95\n",
       "2007-12-27    198.57\n",
       "2007-12-28    199.83\n",
       "2007-12-31    198.08\n",
       "Freq: B, Name: AAPL, Length: 521, dtype: float64"
      ]
     },
     "execution_count": 347,
     "metadata": {},
     "output_type": "execute_result"
    }
   ],
   "source": [
    "appl_px = close_px.AAPL['2006':'2007']\n",
    "appl_px"
   ]
  },
  {
   "cell_type": "code",
   "execution_count": 348,
   "metadata": {
    "ExecuteTime": {
     "end_time": "2020-11-18T04:41:47.662575Z",
     "start_time": "2020-11-18T04:41:47.657014Z"
    }
   },
   "outputs": [],
   "source": [
    "ma60 = appl_px.rolling(30, min_periods=20).mean()"
   ]
  },
  {
   "cell_type": "code",
   "execution_count": 350,
   "metadata": {
    "ExecuteTime": {
     "end_time": "2020-11-18T04:42:29.402620Z",
     "start_time": "2020-11-18T04:42:29.310105Z"
    }
   },
   "outputs": [
    {
     "data": {
      "application/javascript": [
       "/* Put everything inside the global mpl namespace */\n",
       "/* global mpl */\n",
       "window.mpl = {};\n",
       "\n",
       "mpl.get_websocket_type = function () {\n",
       "    if (typeof WebSocket !== 'undefined') {\n",
       "        return WebSocket;\n",
       "    } else if (typeof MozWebSocket !== 'undefined') {\n",
       "        return MozWebSocket;\n",
       "    } else {\n",
       "        alert(\n",
       "            'Your browser does not have WebSocket support. ' +\n",
       "                'Please try Chrome, Safari or Firefox ≥ 6. ' +\n",
       "                'Firefox 4 and 5 are also supported but you ' +\n",
       "                'have to enable WebSockets in about:config.'\n",
       "        );\n",
       "    }\n",
       "};\n",
       "\n",
       "mpl.figure = function (figure_id, websocket, ondownload, parent_element) {\n",
       "    this.id = figure_id;\n",
       "\n",
       "    this.ws = websocket;\n",
       "\n",
       "    this.supports_binary = this.ws.binaryType !== undefined;\n",
       "\n",
       "    if (!this.supports_binary) {\n",
       "        var warnings = document.getElementById('mpl-warnings');\n",
       "        if (warnings) {\n",
       "            warnings.style.display = 'block';\n",
       "            warnings.textContent =\n",
       "                'This browser does not support binary websocket messages. ' +\n",
       "                'Performance may be slow.';\n",
       "        }\n",
       "    }\n",
       "\n",
       "    this.imageObj = new Image();\n",
       "\n",
       "    this.context = undefined;\n",
       "    this.message = undefined;\n",
       "    this.canvas = undefined;\n",
       "    this.rubberband_canvas = undefined;\n",
       "    this.rubberband_context = undefined;\n",
       "    this.format_dropdown = undefined;\n",
       "\n",
       "    this.image_mode = 'full';\n",
       "\n",
       "    this.root = document.createElement('div');\n",
       "    this.root.setAttribute('style', 'display: inline-block');\n",
       "    this._root_extra_style(this.root);\n",
       "\n",
       "    parent_element.appendChild(this.root);\n",
       "\n",
       "    this._init_header(this);\n",
       "    this._init_canvas(this);\n",
       "    this._init_toolbar(this);\n",
       "\n",
       "    var fig = this;\n",
       "\n",
       "    this.waiting = false;\n",
       "\n",
       "    this.ws.onopen = function () {\n",
       "        fig.send_message('supports_binary', { value: fig.supports_binary });\n",
       "        fig.send_message('send_image_mode', {});\n",
       "        if (fig.ratio !== 1) {\n",
       "            fig.send_message('set_dpi_ratio', { dpi_ratio: fig.ratio });\n",
       "        }\n",
       "        fig.send_message('refresh', {});\n",
       "    };\n",
       "\n",
       "    this.imageObj.onload = function () {\n",
       "        if (fig.image_mode === 'full') {\n",
       "            // Full images could contain transparency (where diff images\n",
       "            // almost always do), so we need to clear the canvas so that\n",
       "            // there is no ghosting.\n",
       "            fig.context.clearRect(0, 0, fig.canvas.width, fig.canvas.height);\n",
       "        }\n",
       "        fig.context.drawImage(fig.imageObj, 0, 0);\n",
       "    };\n",
       "\n",
       "    this.imageObj.onunload = function () {\n",
       "        fig.ws.close();\n",
       "    };\n",
       "\n",
       "    this.ws.onmessage = this._make_on_message_function(this);\n",
       "\n",
       "    this.ondownload = ondownload;\n",
       "};\n",
       "\n",
       "mpl.figure.prototype._init_header = function () {\n",
       "    var titlebar = document.createElement('div');\n",
       "    titlebar.classList =\n",
       "        'ui-dialog-titlebar ui-widget-header ui-corner-all ui-helper-clearfix';\n",
       "    var titletext = document.createElement('div');\n",
       "    titletext.classList = 'ui-dialog-title';\n",
       "    titletext.setAttribute(\n",
       "        'style',\n",
       "        'width: 100%; text-align: center; padding: 3px;'\n",
       "    );\n",
       "    titlebar.appendChild(titletext);\n",
       "    this.root.appendChild(titlebar);\n",
       "    this.header = titletext;\n",
       "};\n",
       "\n",
       "mpl.figure.prototype._canvas_extra_style = function (_canvas_div) {};\n",
       "\n",
       "mpl.figure.prototype._root_extra_style = function (_canvas_div) {};\n",
       "\n",
       "mpl.figure.prototype._init_canvas = function () {\n",
       "    var fig = this;\n",
       "\n",
       "    var canvas_div = (this.canvas_div = document.createElement('div'));\n",
       "    canvas_div.setAttribute(\n",
       "        'style',\n",
       "        'border: 1px solid #ddd;' +\n",
       "            'box-sizing: content-box;' +\n",
       "            'clear: both;' +\n",
       "            'min-height: 1px;' +\n",
       "            'min-width: 1px;' +\n",
       "            'outline: 0;' +\n",
       "            'overflow: hidden;' +\n",
       "            'position: relative;' +\n",
       "            'resize: both;'\n",
       "    );\n",
       "\n",
       "    function on_keyboard_event_closure(name) {\n",
       "        return function (event) {\n",
       "            return fig.key_event(event, name);\n",
       "        };\n",
       "    }\n",
       "\n",
       "    canvas_div.addEventListener(\n",
       "        'keydown',\n",
       "        on_keyboard_event_closure('key_press')\n",
       "    );\n",
       "    canvas_div.addEventListener(\n",
       "        'keyup',\n",
       "        on_keyboard_event_closure('key_release')\n",
       "    );\n",
       "\n",
       "    this._canvas_extra_style(canvas_div);\n",
       "    this.root.appendChild(canvas_div);\n",
       "\n",
       "    var canvas = (this.canvas = document.createElement('canvas'));\n",
       "    canvas.classList.add('mpl-canvas');\n",
       "    canvas.setAttribute('style', 'box-sizing: content-box;');\n",
       "\n",
       "    this.context = canvas.getContext('2d');\n",
       "\n",
       "    var backingStore =\n",
       "        this.context.backingStorePixelRatio ||\n",
       "        this.context.webkitBackingStorePixelRatio ||\n",
       "        this.context.mozBackingStorePixelRatio ||\n",
       "        this.context.msBackingStorePixelRatio ||\n",
       "        this.context.oBackingStorePixelRatio ||\n",
       "        this.context.backingStorePixelRatio ||\n",
       "        1;\n",
       "\n",
       "    this.ratio = (window.devicePixelRatio || 1) / backingStore;\n",
       "    if (this.ratio !== 1) {\n",
       "        fig.send_message('set_dpi_ratio', { dpi_ratio: this.ratio });\n",
       "    }\n",
       "\n",
       "    var rubberband_canvas = (this.rubberband_canvas = document.createElement(\n",
       "        'canvas'\n",
       "    ));\n",
       "    rubberband_canvas.setAttribute(\n",
       "        'style',\n",
       "        'box-sizing: content-box; position: absolute; left: 0; top: 0; z-index: 1;'\n",
       "    );\n",
       "\n",
       "    var resizeObserver = new ResizeObserver(function (entries) {\n",
       "        var nentries = entries.length;\n",
       "        for (var i = 0; i < nentries; i++) {\n",
       "            var entry = entries[i];\n",
       "            var width, height;\n",
       "            if (entry.contentBoxSize) {\n",
       "                if (entry.contentBoxSize instanceof Array) {\n",
       "                    // Chrome 84 implements new version of spec.\n",
       "                    width = entry.contentBoxSize[0].inlineSize;\n",
       "                    height = entry.contentBoxSize[0].blockSize;\n",
       "                } else {\n",
       "                    // Firefox implements old version of spec.\n",
       "                    width = entry.contentBoxSize.inlineSize;\n",
       "                    height = entry.contentBoxSize.blockSize;\n",
       "                }\n",
       "            } else {\n",
       "                // Chrome <84 implements even older version of spec.\n",
       "                width = entry.contentRect.width;\n",
       "                height = entry.contentRect.height;\n",
       "            }\n",
       "\n",
       "            // Keep the size of the canvas and rubber band canvas in sync with\n",
       "            // the canvas container.\n",
       "            if (entry.devicePixelContentBoxSize) {\n",
       "                // Chrome 84 implements new version of spec.\n",
       "                canvas.setAttribute(\n",
       "                    'width',\n",
       "                    entry.devicePixelContentBoxSize[0].inlineSize\n",
       "                );\n",
       "                canvas.setAttribute(\n",
       "                    'height',\n",
       "                    entry.devicePixelContentBoxSize[0].blockSize\n",
       "                );\n",
       "            } else {\n",
       "                canvas.setAttribute('width', width * fig.ratio);\n",
       "                canvas.setAttribute('height', height * fig.ratio);\n",
       "            }\n",
       "            canvas.setAttribute(\n",
       "                'style',\n",
       "                'width: ' + width + 'px; height: ' + height + 'px;'\n",
       "            );\n",
       "\n",
       "            rubberband_canvas.setAttribute('width', width);\n",
       "            rubberband_canvas.setAttribute('height', height);\n",
       "\n",
       "            // And update the size in Python. We ignore the initial 0/0 size\n",
       "            // that occurs as the element is placed into the DOM, which should\n",
       "            // otherwise not happen due to the minimum size styling.\n",
       "            if (width != 0 && height != 0) {\n",
       "                fig.request_resize(width, height);\n",
       "            }\n",
       "        }\n",
       "    });\n",
       "    resizeObserver.observe(canvas_div);\n",
       "\n",
       "    function on_mouse_event_closure(name) {\n",
       "        return function (event) {\n",
       "            return fig.mouse_event(event, name);\n",
       "        };\n",
       "    }\n",
       "\n",
       "    rubberband_canvas.addEventListener(\n",
       "        'mousedown',\n",
       "        on_mouse_event_closure('button_press')\n",
       "    );\n",
       "    rubberband_canvas.addEventListener(\n",
       "        'mouseup',\n",
       "        on_mouse_event_closure('button_release')\n",
       "    );\n",
       "    // Throttle sequential mouse events to 1 every 20ms.\n",
       "    rubberband_canvas.addEventListener(\n",
       "        'mousemove',\n",
       "        on_mouse_event_closure('motion_notify')\n",
       "    );\n",
       "\n",
       "    rubberband_canvas.addEventListener(\n",
       "        'mouseenter',\n",
       "        on_mouse_event_closure('figure_enter')\n",
       "    );\n",
       "    rubberband_canvas.addEventListener(\n",
       "        'mouseleave',\n",
       "        on_mouse_event_closure('figure_leave')\n",
       "    );\n",
       "\n",
       "    canvas_div.addEventListener('wheel', function (event) {\n",
       "        if (event.deltaY < 0) {\n",
       "            event.step = 1;\n",
       "        } else {\n",
       "            event.step = -1;\n",
       "        }\n",
       "        on_mouse_event_closure('scroll')(event);\n",
       "    });\n",
       "\n",
       "    canvas_div.appendChild(canvas);\n",
       "    canvas_div.appendChild(rubberband_canvas);\n",
       "\n",
       "    this.rubberband_context = rubberband_canvas.getContext('2d');\n",
       "    this.rubberband_context.strokeStyle = '#000000';\n",
       "\n",
       "    this._resize_canvas = function (width, height, forward) {\n",
       "        if (forward) {\n",
       "            canvas_div.style.width = width + 'px';\n",
       "            canvas_div.style.height = height + 'px';\n",
       "        }\n",
       "    };\n",
       "\n",
       "    // Disable right mouse context menu.\n",
       "    this.rubberband_canvas.addEventListener('contextmenu', function (_e) {\n",
       "        event.preventDefault();\n",
       "        return false;\n",
       "    });\n",
       "\n",
       "    function set_focus() {\n",
       "        canvas.focus();\n",
       "        canvas_div.focus();\n",
       "    }\n",
       "\n",
       "    window.setTimeout(set_focus, 100);\n",
       "};\n",
       "\n",
       "mpl.figure.prototype._init_toolbar = function () {\n",
       "    var fig = this;\n",
       "\n",
       "    var toolbar = document.createElement('div');\n",
       "    toolbar.classList = 'mpl-toolbar';\n",
       "    this.root.appendChild(toolbar);\n",
       "\n",
       "    function on_click_closure(name) {\n",
       "        return function (_event) {\n",
       "            return fig.toolbar_button_onclick(name);\n",
       "        };\n",
       "    }\n",
       "\n",
       "    function on_mouseover_closure(tooltip) {\n",
       "        return function (event) {\n",
       "            if (!event.currentTarget.disabled) {\n",
       "                return fig.toolbar_button_onmouseover(tooltip);\n",
       "            }\n",
       "        };\n",
       "    }\n",
       "\n",
       "    fig.buttons = {};\n",
       "    var buttonGroup = document.createElement('div');\n",
       "    buttonGroup.classList = 'mpl-button-group';\n",
       "    for (var toolbar_ind in mpl.toolbar_items) {\n",
       "        var name = mpl.toolbar_items[toolbar_ind][0];\n",
       "        var tooltip = mpl.toolbar_items[toolbar_ind][1];\n",
       "        var image = mpl.toolbar_items[toolbar_ind][2];\n",
       "        var method_name = mpl.toolbar_items[toolbar_ind][3];\n",
       "\n",
       "        if (!name) {\n",
       "            /* Instead of a spacer, we start a new button group. */\n",
       "            if (buttonGroup.hasChildNodes()) {\n",
       "                toolbar.appendChild(buttonGroup);\n",
       "            }\n",
       "            buttonGroup = document.createElement('div');\n",
       "            buttonGroup.classList = 'mpl-button-group';\n",
       "            continue;\n",
       "        }\n",
       "\n",
       "        var button = (fig.buttons[name] = document.createElement('button'));\n",
       "        button.classList = 'mpl-widget';\n",
       "        button.setAttribute('role', 'button');\n",
       "        button.setAttribute('aria-disabled', 'false');\n",
       "        button.addEventListener('click', on_click_closure(method_name));\n",
       "        button.addEventListener('mouseover', on_mouseover_closure(tooltip));\n",
       "\n",
       "        var icon_img = document.createElement('img');\n",
       "        icon_img.src = '_images/' + image + '.png';\n",
       "        icon_img.srcset = '_images/' + image + '_large.png 2x';\n",
       "        icon_img.alt = tooltip;\n",
       "        button.appendChild(icon_img);\n",
       "\n",
       "        buttonGroup.appendChild(button);\n",
       "    }\n",
       "\n",
       "    if (buttonGroup.hasChildNodes()) {\n",
       "        toolbar.appendChild(buttonGroup);\n",
       "    }\n",
       "\n",
       "    var fmt_picker = document.createElement('select');\n",
       "    fmt_picker.classList = 'mpl-widget';\n",
       "    toolbar.appendChild(fmt_picker);\n",
       "    this.format_dropdown = fmt_picker;\n",
       "\n",
       "    for (var ind in mpl.extensions) {\n",
       "        var fmt = mpl.extensions[ind];\n",
       "        var option = document.createElement('option');\n",
       "        option.selected = fmt === mpl.default_extension;\n",
       "        option.innerHTML = fmt;\n",
       "        fmt_picker.appendChild(option);\n",
       "    }\n",
       "\n",
       "    var status_bar = document.createElement('span');\n",
       "    status_bar.classList = 'mpl-message';\n",
       "    toolbar.appendChild(status_bar);\n",
       "    this.message = status_bar;\n",
       "};\n",
       "\n",
       "mpl.figure.prototype.request_resize = function (x_pixels, y_pixels) {\n",
       "    // Request matplotlib to resize the figure. Matplotlib will then trigger a resize in the client,\n",
       "    // which will in turn request a refresh of the image.\n",
       "    this.send_message('resize', { width: x_pixels, height: y_pixels });\n",
       "};\n",
       "\n",
       "mpl.figure.prototype.send_message = function (type, properties) {\n",
       "    properties['type'] = type;\n",
       "    properties['figure_id'] = this.id;\n",
       "    this.ws.send(JSON.stringify(properties));\n",
       "};\n",
       "\n",
       "mpl.figure.prototype.send_draw_message = function () {\n",
       "    if (!this.waiting) {\n",
       "        this.waiting = true;\n",
       "        this.ws.send(JSON.stringify({ type: 'draw', figure_id: this.id }));\n",
       "    }\n",
       "};\n",
       "\n",
       "mpl.figure.prototype.handle_save = function (fig, _msg) {\n",
       "    var format_dropdown = fig.format_dropdown;\n",
       "    var format = format_dropdown.options[format_dropdown.selectedIndex].value;\n",
       "    fig.ondownload(fig, format);\n",
       "};\n",
       "\n",
       "mpl.figure.prototype.handle_resize = function (fig, msg) {\n",
       "    var size = msg['size'];\n",
       "    if (size[0] !== fig.canvas.width || size[1] !== fig.canvas.height) {\n",
       "        fig._resize_canvas(size[0], size[1], msg['forward']);\n",
       "        fig.send_message('refresh', {});\n",
       "    }\n",
       "};\n",
       "\n",
       "mpl.figure.prototype.handle_rubberband = function (fig, msg) {\n",
       "    var x0 = msg['x0'] / fig.ratio;\n",
       "    var y0 = (fig.canvas.height - msg['y0']) / fig.ratio;\n",
       "    var x1 = msg['x1'] / fig.ratio;\n",
       "    var y1 = (fig.canvas.height - msg['y1']) / fig.ratio;\n",
       "    x0 = Math.floor(x0) + 0.5;\n",
       "    y0 = Math.floor(y0) + 0.5;\n",
       "    x1 = Math.floor(x1) + 0.5;\n",
       "    y1 = Math.floor(y1) + 0.5;\n",
       "    var min_x = Math.min(x0, x1);\n",
       "    var min_y = Math.min(y0, y1);\n",
       "    var width = Math.abs(x1 - x0);\n",
       "    var height = Math.abs(y1 - y0);\n",
       "\n",
       "    fig.rubberband_context.clearRect(\n",
       "        0,\n",
       "        0,\n",
       "        fig.canvas.width / fig.ratio,\n",
       "        fig.canvas.height / fig.ratio\n",
       "    );\n",
       "\n",
       "    fig.rubberband_context.strokeRect(min_x, min_y, width, height);\n",
       "};\n",
       "\n",
       "mpl.figure.prototype.handle_figure_label = function (fig, msg) {\n",
       "    // Updates the figure title.\n",
       "    fig.header.textContent = msg['label'];\n",
       "};\n",
       "\n",
       "mpl.figure.prototype.handle_cursor = function (fig, msg) {\n",
       "    var cursor = msg['cursor'];\n",
       "    switch (cursor) {\n",
       "        case 0:\n",
       "            cursor = 'pointer';\n",
       "            break;\n",
       "        case 1:\n",
       "            cursor = 'default';\n",
       "            break;\n",
       "        case 2:\n",
       "            cursor = 'crosshair';\n",
       "            break;\n",
       "        case 3:\n",
       "            cursor = 'move';\n",
       "            break;\n",
       "    }\n",
       "    fig.rubberband_canvas.style.cursor = cursor;\n",
       "};\n",
       "\n",
       "mpl.figure.prototype.handle_message = function (fig, msg) {\n",
       "    fig.message.textContent = msg['message'];\n",
       "};\n",
       "\n",
       "mpl.figure.prototype.handle_draw = function (fig, _msg) {\n",
       "    // Request the server to send over a new figure.\n",
       "    fig.send_draw_message();\n",
       "};\n",
       "\n",
       "mpl.figure.prototype.handle_image_mode = function (fig, msg) {\n",
       "    fig.image_mode = msg['mode'];\n",
       "};\n",
       "\n",
       "mpl.figure.prototype.handle_history_buttons = function (fig, msg) {\n",
       "    for (var key in msg) {\n",
       "        if (!(key in fig.buttons)) {\n",
       "            continue;\n",
       "        }\n",
       "        fig.buttons[key].disabled = !msg[key];\n",
       "        fig.buttons[key].setAttribute('aria-disabled', !msg[key]);\n",
       "    }\n",
       "};\n",
       "\n",
       "mpl.figure.prototype.handle_navigate_mode = function (fig, msg) {\n",
       "    if (msg['mode'] === 'PAN') {\n",
       "        fig.buttons['Pan'].classList.add('active');\n",
       "        fig.buttons['Zoom'].classList.remove('active');\n",
       "    } else if (msg['mode'] === 'ZOOM') {\n",
       "        fig.buttons['Pan'].classList.remove('active');\n",
       "        fig.buttons['Zoom'].classList.add('active');\n",
       "    } else {\n",
       "        fig.buttons['Pan'].classList.remove('active');\n",
       "        fig.buttons['Zoom'].classList.remove('active');\n",
       "    }\n",
       "};\n",
       "\n",
       "mpl.figure.prototype.updated_canvas_event = function () {\n",
       "    // Called whenever the canvas gets updated.\n",
       "    this.send_message('ack', {});\n",
       "};\n",
       "\n",
       "// A function to construct a web socket function for onmessage handling.\n",
       "// Called in the figure constructor.\n",
       "mpl.figure.prototype._make_on_message_function = function (fig) {\n",
       "    return function socket_on_message(evt) {\n",
       "        if (evt.data instanceof Blob) {\n",
       "            /* FIXME: We get \"Resource interpreted as Image but\n",
       "             * transferred with MIME type text/plain:\" errors on\n",
       "             * Chrome.  But how to set the MIME type?  It doesn't seem\n",
       "             * to be part of the websocket stream */\n",
       "            evt.data.type = 'image/png';\n",
       "\n",
       "            /* Free the memory for the previous frames */\n",
       "            if (fig.imageObj.src) {\n",
       "                (window.URL || window.webkitURL).revokeObjectURL(\n",
       "                    fig.imageObj.src\n",
       "                );\n",
       "            }\n",
       "\n",
       "            fig.imageObj.src = (window.URL || window.webkitURL).createObjectURL(\n",
       "                evt.data\n",
       "            );\n",
       "            fig.updated_canvas_event();\n",
       "            fig.waiting = false;\n",
       "            return;\n",
       "        } else if (\n",
       "            typeof evt.data === 'string' &&\n",
       "            evt.data.slice(0, 21) === 'data:image/png;base64'\n",
       "        ) {\n",
       "            fig.imageObj.src = evt.data;\n",
       "            fig.updated_canvas_event();\n",
       "            fig.waiting = false;\n",
       "            return;\n",
       "        }\n",
       "\n",
       "        var msg = JSON.parse(evt.data);\n",
       "        var msg_type = msg['type'];\n",
       "\n",
       "        // Call the  \"handle_{type}\" callback, which takes\n",
       "        // the figure and JSON message as its only arguments.\n",
       "        try {\n",
       "            var callback = fig['handle_' + msg_type];\n",
       "        } catch (e) {\n",
       "            console.log(\n",
       "                \"No handler for the '\" + msg_type + \"' message type: \",\n",
       "                msg\n",
       "            );\n",
       "            return;\n",
       "        }\n",
       "\n",
       "        if (callback) {\n",
       "            try {\n",
       "                // console.log(\"Handling '\" + msg_type + \"' message: \", msg);\n",
       "                callback(fig, msg);\n",
       "            } catch (e) {\n",
       "                console.log(\n",
       "                    \"Exception inside the 'handler_\" + msg_type + \"' callback:\",\n",
       "                    e,\n",
       "                    e.stack,\n",
       "                    msg\n",
       "                );\n",
       "            }\n",
       "        }\n",
       "    };\n",
       "};\n",
       "\n",
       "// from http://stackoverflow.com/questions/1114465/getting-mouse-location-in-canvas\n",
       "mpl.findpos = function (e) {\n",
       "    //this section is from http://www.quirksmode.org/js/events_properties.html\n",
       "    var targ;\n",
       "    if (!e) {\n",
       "        e = window.event;\n",
       "    }\n",
       "    if (e.target) {\n",
       "        targ = e.target;\n",
       "    } else if (e.srcElement) {\n",
       "        targ = e.srcElement;\n",
       "    }\n",
       "    if (targ.nodeType === 3) {\n",
       "        // defeat Safari bug\n",
       "        targ = targ.parentNode;\n",
       "    }\n",
       "\n",
       "    // pageX,Y are the mouse positions relative to the document\n",
       "    var boundingRect = targ.getBoundingClientRect();\n",
       "    var x = e.pageX - (boundingRect.left + document.body.scrollLeft);\n",
       "    var y = e.pageY - (boundingRect.top + document.body.scrollTop);\n",
       "\n",
       "    return { x: x, y: y };\n",
       "};\n",
       "\n",
       "/*\n",
       " * return a copy of an object with only non-object keys\n",
       " * we need this to avoid circular references\n",
       " * http://stackoverflow.com/a/24161582/3208463\n",
       " */\n",
       "function simpleKeys(original) {\n",
       "    return Object.keys(original).reduce(function (obj, key) {\n",
       "        if (typeof original[key] !== 'object') {\n",
       "            obj[key] = original[key];\n",
       "        }\n",
       "        return obj;\n",
       "    }, {});\n",
       "}\n",
       "\n",
       "mpl.figure.prototype.mouse_event = function (event, name) {\n",
       "    var canvas_pos = mpl.findpos(event);\n",
       "\n",
       "    if (name === 'button_press') {\n",
       "        this.canvas.focus();\n",
       "        this.canvas_div.focus();\n",
       "    }\n",
       "\n",
       "    var x = canvas_pos.x * this.ratio;\n",
       "    var y = canvas_pos.y * this.ratio;\n",
       "\n",
       "    this.send_message(name, {\n",
       "        x: x,\n",
       "        y: y,\n",
       "        button: event.button,\n",
       "        step: event.step,\n",
       "        guiEvent: simpleKeys(event),\n",
       "    });\n",
       "\n",
       "    /* This prevents the web browser from automatically changing to\n",
       "     * the text insertion cursor when the button is pressed.  We want\n",
       "     * to control all of the cursor setting manually through the\n",
       "     * 'cursor' event from matplotlib */\n",
       "    event.preventDefault();\n",
       "    return false;\n",
       "};\n",
       "\n",
       "mpl.figure.prototype._key_event_extra = function (_event, _name) {\n",
       "    // Handle any extra behaviour associated with a key event\n",
       "};\n",
       "\n",
       "mpl.figure.prototype.key_event = function (event, name) {\n",
       "    // Prevent repeat events\n",
       "    if (name === 'key_press') {\n",
       "        if (event.which === this._key) {\n",
       "            return;\n",
       "        } else {\n",
       "            this._key = event.which;\n",
       "        }\n",
       "    }\n",
       "    if (name === 'key_release') {\n",
       "        this._key = null;\n",
       "    }\n",
       "\n",
       "    var value = '';\n",
       "    if (event.ctrlKey && event.which !== 17) {\n",
       "        value += 'ctrl+';\n",
       "    }\n",
       "    if (event.altKey && event.which !== 18) {\n",
       "        value += 'alt+';\n",
       "    }\n",
       "    if (event.shiftKey && event.which !== 16) {\n",
       "        value += 'shift+';\n",
       "    }\n",
       "\n",
       "    value += 'k';\n",
       "    value += event.which.toString();\n",
       "\n",
       "    this._key_event_extra(event, name);\n",
       "\n",
       "    this.send_message(name, { key: value, guiEvent: simpleKeys(event) });\n",
       "    return false;\n",
       "};\n",
       "\n",
       "mpl.figure.prototype.toolbar_button_onclick = function (name) {\n",
       "    if (name === 'download') {\n",
       "        this.handle_save(this, null);\n",
       "    } else {\n",
       "        this.send_message('toolbar_button', { name: name });\n",
       "    }\n",
       "};\n",
       "\n",
       "mpl.figure.prototype.toolbar_button_onmouseover = function (tooltip) {\n",
       "    this.message.textContent = tooltip;\n",
       "};\n",
       "mpl.toolbar_items = [[\"Home\", \"Reset original view\", \"fa fa-home icon-home\", \"home\"], [\"Back\", \"Back to previous view\", \"fa fa-arrow-left icon-arrow-left\", \"back\"], [\"Forward\", \"Forward to next view\", \"fa fa-arrow-right icon-arrow-right\", \"forward\"], [\"\", \"\", \"\", \"\"], [\"Pan\", \"Left button pans, Right button zooms\\nx/y fixes axis, CTRL fixes aspect\", \"fa fa-arrows icon-move\", \"pan\"], [\"Zoom\", \"Zoom to rectangle\\nx/y fixes axis, CTRL fixes aspect\", \"fa fa-square-o icon-check-empty\", \"zoom\"], [\"\", \"\", \"\", \"\"], [\"Download\", \"Download plot\", \"fa fa-floppy-o icon-save\", \"download\"]];\n",
       "\n",
       "mpl.extensions = [\"eps\", \"jpeg\", \"pdf\", \"png\", \"ps\", \"raw\", \"svg\", \"tif\"];\n",
       "\n",
       "mpl.default_extension = \"png\";/* global mpl */\n",
       "\n",
       "var comm_websocket_adapter = function (comm) {\n",
       "    // Create a \"websocket\"-like object which calls the given IPython comm\n",
       "    // object with the appropriate methods. Currently this is a non binary\n",
       "    // socket, so there is still some room for performance tuning.\n",
       "    var ws = {};\n",
       "\n",
       "    ws.close = function () {\n",
       "        comm.close();\n",
       "    };\n",
       "    ws.send = function (m) {\n",
       "        //console.log('sending', m);\n",
       "        comm.send(m);\n",
       "    };\n",
       "    // Register the callback with on_msg.\n",
       "    comm.on_msg(function (msg) {\n",
       "        //console.log('receiving', msg['content']['data'], msg);\n",
       "        // Pass the mpl event to the overridden (by mpl) onmessage function.\n",
       "        ws.onmessage(msg['content']['data']);\n",
       "    });\n",
       "    return ws;\n",
       "};\n",
       "\n",
       "mpl.mpl_figure_comm = function (comm, msg) {\n",
       "    // This is the function which gets called when the mpl process\n",
       "    // starts-up an IPython Comm through the \"matplotlib\" channel.\n",
       "\n",
       "    var id = msg.content.data.id;\n",
       "    // Get hold of the div created by the display call when the Comm\n",
       "    // socket was opened in Python.\n",
       "    var element = document.getElementById(id);\n",
       "    var ws_proxy = comm_websocket_adapter(comm);\n",
       "\n",
       "    function ondownload(figure, _format) {\n",
       "        window.open(figure.canvas.toDataURL());\n",
       "    }\n",
       "\n",
       "    var fig = new mpl.figure(id, ws_proxy, ondownload, element);\n",
       "\n",
       "    // Call onopen now - mpl needs it, as it is assuming we've passed it a real\n",
       "    // web socket which is closed, not our websocket->open comm proxy.\n",
       "    ws_proxy.onopen();\n",
       "\n",
       "    fig.parent_element = element;\n",
       "    fig.cell_info = mpl.find_output_cell(\"<div id='\" + id + \"'></div>\");\n",
       "    if (!fig.cell_info) {\n",
       "        console.error('Failed to find cell for figure', id, fig);\n",
       "        return;\n",
       "    }\n",
       "    fig.cell_info[0].output_area.element.one(\n",
       "        'cleared',\n",
       "        { fig: fig },\n",
       "        fig._remove_fig_handler\n",
       "    );\n",
       "};\n",
       "\n",
       "mpl.figure.prototype.handle_close = function (fig, msg) {\n",
       "    var width = fig.canvas.width / fig.ratio;\n",
       "    fig.cell_info[0].output_area.element.off(\n",
       "        'cleared',\n",
       "        fig._remove_fig_handler\n",
       "    );\n",
       "\n",
       "    // Update the output cell to use the data from the current canvas.\n",
       "    fig.push_to_output();\n",
       "    var dataURL = fig.canvas.toDataURL();\n",
       "    // Re-enable the keyboard manager in IPython - without this line, in FF,\n",
       "    // the notebook keyboard shortcuts fail.\n",
       "    IPython.keyboard_manager.enable();\n",
       "    fig.parent_element.innerHTML =\n",
       "        '<img src=\"' + dataURL + '\" width=\"' + width + '\">';\n",
       "    fig.close_ws(fig, msg);\n",
       "};\n",
       "\n",
       "mpl.figure.prototype.close_ws = function (fig, msg) {\n",
       "    fig.send_message('closing', msg);\n",
       "    // fig.ws.close()\n",
       "};\n",
       "\n",
       "mpl.figure.prototype.push_to_output = function (_remove_interactive) {\n",
       "    // Turn the data on the canvas into data in the output cell.\n",
       "    var width = this.canvas.width / this.ratio;\n",
       "    var dataURL = this.canvas.toDataURL();\n",
       "    this.cell_info[1]['text/html'] =\n",
       "        '<img src=\"' + dataURL + '\" width=\"' + width + '\">';\n",
       "};\n",
       "\n",
       "mpl.figure.prototype.updated_canvas_event = function () {\n",
       "    // Tell IPython that the notebook contents must change.\n",
       "    IPython.notebook.set_dirty(true);\n",
       "    this.send_message('ack', {});\n",
       "    var fig = this;\n",
       "    // Wait a second, then push the new image to the DOM so\n",
       "    // that it is saved nicely (might be nice to debounce this).\n",
       "    setTimeout(function () {\n",
       "        fig.push_to_output();\n",
       "    }, 1000);\n",
       "};\n",
       "\n",
       "mpl.figure.prototype._init_toolbar = function () {\n",
       "    var fig = this;\n",
       "\n",
       "    var toolbar = document.createElement('div');\n",
       "    toolbar.classList = 'btn-toolbar';\n",
       "    this.root.appendChild(toolbar);\n",
       "\n",
       "    function on_click_closure(name) {\n",
       "        return function (_event) {\n",
       "            return fig.toolbar_button_onclick(name);\n",
       "        };\n",
       "    }\n",
       "\n",
       "    function on_mouseover_closure(tooltip) {\n",
       "        return function (event) {\n",
       "            if (!event.currentTarget.disabled) {\n",
       "                return fig.toolbar_button_onmouseover(tooltip);\n",
       "            }\n",
       "        };\n",
       "    }\n",
       "\n",
       "    fig.buttons = {};\n",
       "    var buttonGroup = document.createElement('div');\n",
       "    buttonGroup.classList = 'btn-group';\n",
       "    var button;\n",
       "    for (var toolbar_ind in mpl.toolbar_items) {\n",
       "        var name = mpl.toolbar_items[toolbar_ind][0];\n",
       "        var tooltip = mpl.toolbar_items[toolbar_ind][1];\n",
       "        var image = mpl.toolbar_items[toolbar_ind][2];\n",
       "        var method_name = mpl.toolbar_items[toolbar_ind][3];\n",
       "\n",
       "        if (!name) {\n",
       "            /* Instead of a spacer, we start a new button group. */\n",
       "            if (buttonGroup.hasChildNodes()) {\n",
       "                toolbar.appendChild(buttonGroup);\n",
       "            }\n",
       "            buttonGroup = document.createElement('div');\n",
       "            buttonGroup.classList = 'btn-group';\n",
       "            continue;\n",
       "        }\n",
       "\n",
       "        button = fig.buttons[name] = document.createElement('button');\n",
       "        button.classList = 'btn btn-default';\n",
       "        button.href = '#';\n",
       "        button.title = name;\n",
       "        button.innerHTML = '<i class=\"fa ' + image + ' fa-lg\"></i>';\n",
       "        button.addEventListener('click', on_click_closure(method_name));\n",
       "        button.addEventListener('mouseover', on_mouseover_closure(tooltip));\n",
       "        buttonGroup.appendChild(button);\n",
       "    }\n",
       "\n",
       "    if (buttonGroup.hasChildNodes()) {\n",
       "        toolbar.appendChild(buttonGroup);\n",
       "    }\n",
       "\n",
       "    // Add the status bar.\n",
       "    var status_bar = document.createElement('span');\n",
       "    status_bar.classList = 'mpl-message pull-right';\n",
       "    toolbar.appendChild(status_bar);\n",
       "    this.message = status_bar;\n",
       "\n",
       "    // Add the close button to the window.\n",
       "    var buttongrp = document.createElement('div');\n",
       "    buttongrp.classList = 'btn-group inline pull-right';\n",
       "    button = document.createElement('button');\n",
       "    button.classList = 'btn btn-mini btn-primary';\n",
       "    button.href = '#';\n",
       "    button.title = 'Stop Interaction';\n",
       "    button.innerHTML = '<i class=\"fa fa-power-off icon-remove icon-large\"></i>';\n",
       "    button.addEventListener('click', function (_evt) {\n",
       "        fig.handle_close(fig, {});\n",
       "    });\n",
       "    button.addEventListener(\n",
       "        'mouseover',\n",
       "        on_mouseover_closure('Stop Interaction')\n",
       "    );\n",
       "    buttongrp.appendChild(button);\n",
       "    var titlebar = this.root.querySelector('.ui-dialog-titlebar');\n",
       "    titlebar.insertBefore(buttongrp, titlebar.firstChild);\n",
       "};\n",
       "\n",
       "mpl.figure.prototype._remove_fig_handler = function (event) {\n",
       "    var fig = event.data.fig;\n",
       "    fig.close_ws(fig, {});\n",
       "};\n",
       "\n",
       "mpl.figure.prototype._root_extra_style = function (el) {\n",
       "    el.style.boxSizing = 'content-box'; // override notebook setting of border-box.\n",
       "};\n",
       "\n",
       "mpl.figure.prototype._canvas_extra_style = function (el) {\n",
       "    // this is important to make the div 'focusable\n",
       "    el.setAttribute('tabindex', 0);\n",
       "    // reach out to IPython and tell the keyboard manager to turn it's self\n",
       "    // off when our div gets focus\n",
       "\n",
       "    // location in version 3\n",
       "    if (IPython.notebook.keyboard_manager) {\n",
       "        IPython.notebook.keyboard_manager.register_events(el);\n",
       "    } else {\n",
       "        // location in version 2\n",
       "        IPython.keyboard_manager.register_events(el);\n",
       "    }\n",
       "};\n",
       "\n",
       "mpl.figure.prototype._key_event_extra = function (event, _name) {\n",
       "    var manager = IPython.notebook.keyboard_manager;\n",
       "    if (!manager) {\n",
       "        manager = IPython.keyboard_manager;\n",
       "    }\n",
       "\n",
       "    // Check for shift+enter\n",
       "    if (event.shiftKey && event.which === 13) {\n",
       "        this.canvas_div.blur();\n",
       "        // select the cell after this one\n",
       "        var index = IPython.notebook.find_cell_index(this.cell_info[0]);\n",
       "        IPython.notebook.select(index + 1);\n",
       "    }\n",
       "};\n",
       "\n",
       "mpl.figure.prototype.handle_save = function (fig, _msg) {\n",
       "    fig.ondownload(fig, null);\n",
       "};\n",
       "\n",
       "mpl.find_output_cell = function (html_output) {\n",
       "    // Return the cell and output element which can be found *uniquely* in the notebook.\n",
       "    // Note - this is a bit hacky, but it is done because the \"notebook_saving.Notebook\"\n",
       "    // IPython event is triggered only after the cells have been serialised, which for\n",
       "    // our purposes (turning an active figure into a static one), is too late.\n",
       "    var cells = IPython.notebook.get_cells();\n",
       "    var ncells = cells.length;\n",
       "    for (var i = 0; i < ncells; i++) {\n",
       "        var cell = cells[i];\n",
       "        if (cell.cell_type === 'code') {\n",
       "            for (var j = 0; j < cell.output_area.outputs.length; j++) {\n",
       "                var data = cell.output_area.outputs[j];\n",
       "                if (data.data) {\n",
       "                    // IPython >= 3 moved mimebundle to data attribute of output\n",
       "                    data = data.data;\n",
       "                }\n",
       "                if (data['text/html'] === html_output) {\n",
       "                    return [cell, data, j];\n",
       "                }\n",
       "            }\n",
       "        }\n",
       "    }\n",
       "};\n",
       "\n",
       "// Register the function which deals with the matplotlib target/channel.\n",
       "// The kernel may be null if the page has been refreshed.\n",
       "if (IPython.notebook.kernel !== null) {\n",
       "    IPython.notebook.kernel.comm_manager.register_target(\n",
       "        'matplotlib',\n",
       "        mpl.mpl_figure_comm\n",
       "    );\n",
       "}\n"
      ],
      "text/plain": [
       "<IPython.core.display.Javascript object>"
      ]
     },
     "metadata": {},
     "output_type": "display_data"
    },
    {
     "data": {
      "text/html": [
       "<img src=\"data:image/png;base64,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\" width=\"640\">"
      ],
      "text/plain": [
       "<IPython.core.display.HTML object>"
      ]
     },
     "metadata": {},
     "output_type": "display_data"
    },
    {
     "data": {
      "text/plain": [
       "<AxesSubplot:>"
      ]
     },
     "execution_count": 350,
     "metadata": {},
     "output_type": "execute_result"
    }
   ],
   "source": [
    "ma60.plot(style='k--', label='Simple MA')"
   ]
  },
  {
   "cell_type": "code",
   "execution_count": 351,
   "metadata": {
    "ExecuteTime": {
     "end_time": "2020-11-18T04:43:24.194063Z",
     "start_time": "2020-11-18T04:43:24.185795Z"
    }
   },
   "outputs": [],
   "source": [
    "ewm60 = appl_px.ewm( span=30).mean()"
   ]
  },
  {
   "cell_type": "code",
   "execution_count": 352,
   "metadata": {
    "ExecuteTime": {
     "end_time": "2020-11-18T04:43:46.448849Z",
     "start_time": "2020-11-18T04:43:46.417362Z"
    }
   },
   "outputs": [
    {
     "data": {
      "text/plain": [
       "<AxesSubplot:>"
      ]
     },
     "execution_count": 352,
     "metadata": {},
     "output_type": "execute_result"
    }
   ],
   "source": [
    "ewm60.plot(style='r-', label='EW MA')"
   ]
  },
  {
   "cell_type": "code",
   "execution_count": 353,
   "metadata": {
    "ExecuteTime": {
     "end_time": "2020-11-18T04:43:57.080677Z",
     "start_time": "2020-11-18T04:43:57.073079Z"
    }
   },
   "outputs": [],
   "source": [
    "plt.legend();"
   ]
  },
  {
   "cell_type": "markdown",
   "metadata": {},
   "source": [
    "### 二元移动窗口函数"
   ]
  },
  {
   "cell_type": "markdown",
   "metadata": {},
   "source": [
    "一些统计算子，例如相关性和协方差，**需要操作两个时间序列**"
   ]
  },
  {
   "cell_type": "code",
   "execution_count": 355,
   "metadata": {
    "ExecuteTime": {
     "end_time": "2020-11-18T04:58:56.153286Z",
     "start_time": "2020-11-18T04:58:56.143828Z"
    }
   },
   "outputs": [
    {
     "data": {
      "text/plain": [
       "2003-01-02     909.03\n",
       "2003-01-03     908.59\n",
       "2003-01-06     929.01\n",
       "2003-01-07     922.93\n",
       "2003-01-08     909.93\n",
       "               ...   \n",
       "2011-10-10    1194.89\n",
       "2011-10-11    1195.54\n",
       "2011-10-12    1207.25\n",
       "2011-10-13    1203.66\n",
       "2011-10-14    1224.58\n",
       "Name: SPX, Length: 2214, dtype: float64"
      ]
     },
     "execution_count": 355,
     "metadata": {},
     "output_type": "execute_result"
    }
   ],
   "source": [
    "spx_px = close_px_all['SPX']\n",
    "spx_px"
   ]
  },
  {
   "cell_type": "code",
   "execution_count": 356,
   "metadata": {
    "ExecuteTime": {
     "end_time": "2020-11-18T04:59:34.723078Z",
     "start_time": "2020-11-18T04:59:34.710623Z"
    }
   },
   "outputs": [
    {
     "data": {
      "text/plain": [
       "2003-01-02         NaN\n",
       "2003-01-03   -0.000484\n",
       "2003-01-06    0.022474\n",
       "2003-01-07   -0.006545\n",
       "2003-01-08   -0.014086\n",
       "                ...   \n",
       "2011-10-10    0.034125\n",
       "2011-10-11    0.000544\n",
       "2011-10-12    0.009795\n",
       "2011-10-13   -0.002974\n",
       "2011-10-14    0.017380\n",
       "Name: SPX, Length: 2214, dtype: float64"
      ]
     },
     "execution_count": 356,
     "metadata": {},
     "output_type": "execute_result"
    }
   ],
   "source": [
    "spx_rets = spx_px.pct_change()\n",
    "spx_rets"
   ]
  },
  {
   "cell_type": "code",
   "execution_count": 358,
   "metadata": {
    "ExecuteTime": {
     "end_time": "2020-11-18T05:00:03.289226Z",
     "start_time": "2020-11-18T05:00:03.245738Z"
    }
   },
   "outputs": [
    {
     "data": {
      "text/html": [
       "<div>\n",
       "<style scoped>\n",
       "    .dataframe tbody tr th:only-of-type {\n",
       "        vertical-align: middle;\n",
       "    }\n",
       "\n",
       "    .dataframe tbody tr th {\n",
       "        vertical-align: top;\n",
       "    }\n",
       "\n",
       "    .dataframe thead th {\n",
       "        text-align: right;\n",
       "    }\n",
       "</style>\n",
       "<table border=\"1\" class=\"dataframe\">\n",
       "  <thead>\n",
       "    <tr style=\"text-align: right;\">\n",
       "      <th></th>\n",
       "      <th>AAPL</th>\n",
       "      <th>MSFT</th>\n",
       "      <th>XOM</th>\n",
       "    </tr>\n",
       "  </thead>\n",
       "  <tbody>\n",
       "    <tr>\n",
       "      <th>2003-01-02</th>\n",
       "      <td>NaN</td>\n",
       "      <td>NaN</td>\n",
       "      <td>NaN</td>\n",
       "    </tr>\n",
       "    <tr>\n",
       "      <th>2003-01-03</th>\n",
       "      <td>0.006757</td>\n",
       "      <td>0.001421</td>\n",
       "      <td>0.000684</td>\n",
       "    </tr>\n",
       "    <tr>\n",
       "      <th>2003-01-06</th>\n",
       "      <td>0.000000</td>\n",
       "      <td>0.017975</td>\n",
       "      <td>0.024624</td>\n",
       "    </tr>\n",
       "    <tr>\n",
       "      <th>2003-01-07</th>\n",
       "      <td>-0.002685</td>\n",
       "      <td>0.019052</td>\n",
       "      <td>-0.033712</td>\n",
       "    </tr>\n",
       "    <tr>\n",
       "      <th>2003-01-08</th>\n",
       "      <td>-0.020188</td>\n",
       "      <td>-0.028272</td>\n",
       "      <td>-0.004145</td>\n",
       "    </tr>\n",
       "    <tr>\n",
       "      <th>...</th>\n",
       "      <td>...</td>\n",
       "      <td>...</td>\n",
       "      <td>...</td>\n",
       "    </tr>\n",
       "    <tr>\n",
       "      <th>2011-10-10</th>\n",
       "      <td>0.051406</td>\n",
       "      <td>0.026286</td>\n",
       "      <td>0.036977</td>\n",
       "    </tr>\n",
       "    <tr>\n",
       "      <th>2011-10-11</th>\n",
       "      <td>0.029526</td>\n",
       "      <td>0.002227</td>\n",
       "      <td>-0.000131</td>\n",
       "    </tr>\n",
       "    <tr>\n",
       "      <th>2011-10-12</th>\n",
       "      <td>0.004747</td>\n",
       "      <td>-0.001481</td>\n",
       "      <td>0.011669</td>\n",
       "    </tr>\n",
       "    <tr>\n",
       "      <th>2011-10-13</th>\n",
       "      <td>0.015515</td>\n",
       "      <td>0.008160</td>\n",
       "      <td>-0.010238</td>\n",
       "    </tr>\n",
       "    <tr>\n",
       "      <th>2011-10-14</th>\n",
       "      <td>0.033225</td>\n",
       "      <td>0.003311</td>\n",
       "      <td>0.022784</td>\n",
       "    </tr>\n",
       "  </tbody>\n",
       "</table>\n",
       "<p>2292 rows × 3 columns</p>\n",
       "</div>"
      ],
      "text/plain": [
       "                AAPL      MSFT       XOM\n",
       "2003-01-02       NaN       NaN       NaN\n",
       "2003-01-03  0.006757  0.001421  0.000684\n",
       "2003-01-06  0.000000  0.017975  0.024624\n",
       "2003-01-07 -0.002685  0.019052 -0.033712\n",
       "2003-01-08 -0.020188 -0.028272 -0.004145\n",
       "...              ...       ...       ...\n",
       "2011-10-10  0.051406  0.026286  0.036977\n",
       "2011-10-11  0.029526  0.002227 -0.000131\n",
       "2011-10-12  0.004747 -0.001481  0.011669\n",
       "2011-10-13  0.015515  0.008160 -0.010238\n",
       "2011-10-14  0.033225  0.003311  0.022784\n",
       "\n",
       "[2292 rows x 3 columns]"
      ]
     },
     "execution_count": 358,
     "metadata": {},
     "output_type": "execute_result"
    }
   ],
   "source": [
    "result = close_px.pct_change()\n",
    "result"
   ]
  },
  {
   "cell_type": "code",
   "execution_count": 359,
   "metadata": {
    "ExecuteTime": {
     "end_time": "2020-11-18T05:01:11.600773Z",
     "start_time": "2020-11-18T05:01:11.582217Z"
    }
   },
   "outputs": [],
   "source": [
    "corr = result.AAPL.rolling(125, min_periods=100).corr(spx_rets)"
   ]
  },
  {
   "cell_type": "code",
   "execution_count": 362,
   "metadata": {
    "ExecuteTime": {
     "end_time": "2020-11-18T05:01:29.117782Z",
     "start_time": "2020-11-18T05:01:29.109835Z"
    }
   },
   "outputs": [
    {
     "data": {
      "text/plain": [
       "2003-05-21         NaN\n",
       "2003-05-22         NaN\n",
       "2003-05-23         NaN\n",
       "2003-05-26         NaN\n",
       "2003-05-27         NaN\n",
       "2003-05-28    0.536726\n",
       "dtype: float64"
      ]
     },
     "execution_count": 362,
     "metadata": {},
     "output_type": "execute_result"
    }
   ],
   "source": [
    "corr[99:105]"
   ]
  },
  {
   "cell_type": "code",
   "execution_count": 369,
   "metadata": {
    "ExecuteTime": {
     "end_time": "2020-11-18T05:19:59.393955Z",
     "start_time": "2020-11-18T05:19:59.388092Z"
    }
   },
   "outputs": [],
   "source": [
    "plt.close('all')"
   ]
  },
  {
   "cell_type": "code",
   "execution_count": 364,
   "metadata": {
    "ExecuteTime": {
     "end_time": "2020-11-18T05:01:55.130690Z",
     "start_time": "2020-11-18T05:01:55.014906Z"
    }
   },
   "outputs": [
    {
     "data": {
      "application/javascript": [
       "/* Put everything inside the global mpl namespace */\n",
       "/* global mpl */\n",
       "window.mpl = {};\n",
       "\n",
       "mpl.get_websocket_type = function () {\n",
       "    if (typeof WebSocket !== 'undefined') {\n",
       "        return WebSocket;\n",
       "    } else if (typeof MozWebSocket !== 'undefined') {\n",
       "        return MozWebSocket;\n",
       "    } else {\n",
       "        alert(\n",
       "            'Your browser does not have WebSocket support. ' +\n",
       "                'Please try Chrome, Safari or Firefox ≥ 6. ' +\n",
       "                'Firefox 4 and 5 are also supported but you ' +\n",
       "                'have to enable WebSockets in about:config.'\n",
       "        );\n",
       "    }\n",
       "};\n",
       "\n",
       "mpl.figure = function (figure_id, websocket, ondownload, parent_element) {\n",
       "    this.id = figure_id;\n",
       "\n",
       "    this.ws = websocket;\n",
       "\n",
       "    this.supports_binary = this.ws.binaryType !== undefined;\n",
       "\n",
       "    if (!this.supports_binary) {\n",
       "        var warnings = document.getElementById('mpl-warnings');\n",
       "        if (warnings) {\n",
       "            warnings.style.display = 'block';\n",
       "            warnings.textContent =\n",
       "                'This browser does not support binary websocket messages. ' +\n",
       "                'Performance may be slow.';\n",
       "        }\n",
       "    }\n",
       "\n",
       "    this.imageObj = new Image();\n",
       "\n",
       "    this.context = undefined;\n",
       "    this.message = undefined;\n",
       "    this.canvas = undefined;\n",
       "    this.rubberband_canvas = undefined;\n",
       "    this.rubberband_context = undefined;\n",
       "    this.format_dropdown = undefined;\n",
       "\n",
       "    this.image_mode = 'full';\n",
       "\n",
       "    this.root = document.createElement('div');\n",
       "    this.root.setAttribute('style', 'display: inline-block');\n",
       "    this._root_extra_style(this.root);\n",
       "\n",
       "    parent_element.appendChild(this.root);\n",
       "\n",
       "    this._init_header(this);\n",
       "    this._init_canvas(this);\n",
       "    this._init_toolbar(this);\n",
       "\n",
       "    var fig = this;\n",
       "\n",
       "    this.waiting = false;\n",
       "\n",
       "    this.ws.onopen = function () {\n",
       "        fig.send_message('supports_binary', { value: fig.supports_binary });\n",
       "        fig.send_message('send_image_mode', {});\n",
       "        if (fig.ratio !== 1) {\n",
       "            fig.send_message('set_dpi_ratio', { dpi_ratio: fig.ratio });\n",
       "        }\n",
       "        fig.send_message('refresh', {});\n",
       "    };\n",
       "\n",
       "    this.imageObj.onload = function () {\n",
       "        if (fig.image_mode === 'full') {\n",
       "            // Full images could contain transparency (where diff images\n",
       "            // almost always do), so we need to clear the canvas so that\n",
       "            // there is no ghosting.\n",
       "            fig.context.clearRect(0, 0, fig.canvas.width, fig.canvas.height);\n",
       "        }\n",
       "        fig.context.drawImage(fig.imageObj, 0, 0);\n",
       "    };\n",
       "\n",
       "    this.imageObj.onunload = function () {\n",
       "        fig.ws.close();\n",
       "    };\n",
       "\n",
       "    this.ws.onmessage = this._make_on_message_function(this);\n",
       "\n",
       "    this.ondownload = ondownload;\n",
       "};\n",
       "\n",
       "mpl.figure.prototype._init_header = function () {\n",
       "    var titlebar = document.createElement('div');\n",
       "    titlebar.classList =\n",
       "        'ui-dialog-titlebar ui-widget-header ui-corner-all ui-helper-clearfix';\n",
       "    var titletext = document.createElement('div');\n",
       "    titletext.classList = 'ui-dialog-title';\n",
       "    titletext.setAttribute(\n",
       "        'style',\n",
       "        'width: 100%; text-align: center; padding: 3px;'\n",
       "    );\n",
       "    titlebar.appendChild(titletext);\n",
       "    this.root.appendChild(titlebar);\n",
       "    this.header = titletext;\n",
       "};\n",
       "\n",
       "mpl.figure.prototype._canvas_extra_style = function (_canvas_div) {};\n",
       "\n",
       "mpl.figure.prototype._root_extra_style = function (_canvas_div) {};\n",
       "\n",
       "mpl.figure.prototype._init_canvas = function () {\n",
       "    var fig = this;\n",
       "\n",
       "    var canvas_div = (this.canvas_div = document.createElement('div'));\n",
       "    canvas_div.setAttribute(\n",
       "        'style',\n",
       "        'border: 1px solid #ddd;' +\n",
       "            'box-sizing: content-box;' +\n",
       "            'clear: both;' +\n",
       "            'min-height: 1px;' +\n",
       "            'min-width: 1px;' +\n",
       "            'outline: 0;' +\n",
       "            'overflow: hidden;' +\n",
       "            'position: relative;' +\n",
       "            'resize: both;'\n",
       "    );\n",
       "\n",
       "    function on_keyboard_event_closure(name) {\n",
       "        return function (event) {\n",
       "            return fig.key_event(event, name);\n",
       "        };\n",
       "    }\n",
       "\n",
       "    canvas_div.addEventListener(\n",
       "        'keydown',\n",
       "        on_keyboard_event_closure('key_press')\n",
       "    );\n",
       "    canvas_div.addEventListener(\n",
       "        'keyup',\n",
       "        on_keyboard_event_closure('key_release')\n",
       "    );\n",
       "\n",
       "    this._canvas_extra_style(canvas_div);\n",
       "    this.root.appendChild(canvas_div);\n",
       "\n",
       "    var canvas = (this.canvas = document.createElement('canvas'));\n",
       "    canvas.classList.add('mpl-canvas');\n",
       "    canvas.setAttribute('style', 'box-sizing: content-box;');\n",
       "\n",
       "    this.context = canvas.getContext('2d');\n",
       "\n",
       "    var backingStore =\n",
       "        this.context.backingStorePixelRatio ||\n",
       "        this.context.webkitBackingStorePixelRatio ||\n",
       "        this.context.mozBackingStorePixelRatio ||\n",
       "        this.context.msBackingStorePixelRatio ||\n",
       "        this.context.oBackingStorePixelRatio ||\n",
       "        this.context.backingStorePixelRatio ||\n",
       "        1;\n",
       "\n",
       "    this.ratio = (window.devicePixelRatio || 1) / backingStore;\n",
       "    if (this.ratio !== 1) {\n",
       "        fig.send_message('set_dpi_ratio', { dpi_ratio: this.ratio });\n",
       "    }\n",
       "\n",
       "    var rubberband_canvas = (this.rubberband_canvas = document.createElement(\n",
       "        'canvas'\n",
       "    ));\n",
       "    rubberband_canvas.setAttribute(\n",
       "        'style',\n",
       "        'box-sizing: content-box; position: absolute; left: 0; top: 0; z-index: 1;'\n",
       "    );\n",
       "\n",
       "    var resizeObserver = new ResizeObserver(function (entries) {\n",
       "        var nentries = entries.length;\n",
       "        for (var i = 0; i < nentries; i++) {\n",
       "            var entry = entries[i];\n",
       "            var width, height;\n",
       "            if (entry.contentBoxSize) {\n",
       "                if (entry.contentBoxSize instanceof Array) {\n",
       "                    // Chrome 84 implements new version of spec.\n",
       "                    width = entry.contentBoxSize[0].inlineSize;\n",
       "                    height = entry.contentBoxSize[0].blockSize;\n",
       "                } else {\n",
       "                    // Firefox implements old version of spec.\n",
       "                    width = entry.contentBoxSize.inlineSize;\n",
       "                    height = entry.contentBoxSize.blockSize;\n",
       "                }\n",
       "            } else {\n",
       "                // Chrome <84 implements even older version of spec.\n",
       "                width = entry.contentRect.width;\n",
       "                height = entry.contentRect.height;\n",
       "            }\n",
       "\n",
       "            // Keep the size of the canvas and rubber band canvas in sync with\n",
       "            // the canvas container.\n",
       "            if (entry.devicePixelContentBoxSize) {\n",
       "                // Chrome 84 implements new version of spec.\n",
       "                canvas.setAttribute(\n",
       "                    'width',\n",
       "                    entry.devicePixelContentBoxSize[0].inlineSize\n",
       "                );\n",
       "                canvas.setAttribute(\n",
       "                    'height',\n",
       "                    entry.devicePixelContentBoxSize[0].blockSize\n",
       "                );\n",
       "            } else {\n",
       "                canvas.setAttribute('width', width * fig.ratio);\n",
       "                canvas.setAttribute('height', height * fig.ratio);\n",
       "            }\n",
       "            canvas.setAttribute(\n",
       "                'style',\n",
       "                'width: ' + width + 'px; height: ' + height + 'px;'\n",
       "            );\n",
       "\n",
       "            rubberband_canvas.setAttribute('width', width);\n",
       "            rubberband_canvas.setAttribute('height', height);\n",
       "\n",
       "            // And update the size in Python. We ignore the initial 0/0 size\n",
       "            // that occurs as the element is placed into the DOM, which should\n",
       "            // otherwise not happen due to the minimum size styling.\n",
       "            if (width != 0 && height != 0) {\n",
       "                fig.request_resize(width, height);\n",
       "            }\n",
       "        }\n",
       "    });\n",
       "    resizeObserver.observe(canvas_div);\n",
       "\n",
       "    function on_mouse_event_closure(name) {\n",
       "        return function (event) {\n",
       "            return fig.mouse_event(event, name);\n",
       "        };\n",
       "    }\n",
       "\n",
       "    rubberband_canvas.addEventListener(\n",
       "        'mousedown',\n",
       "        on_mouse_event_closure('button_press')\n",
       "    );\n",
       "    rubberband_canvas.addEventListener(\n",
       "        'mouseup',\n",
       "        on_mouse_event_closure('button_release')\n",
       "    );\n",
       "    // Throttle sequential mouse events to 1 every 20ms.\n",
       "    rubberband_canvas.addEventListener(\n",
       "        'mousemove',\n",
       "        on_mouse_event_closure('motion_notify')\n",
       "    );\n",
       "\n",
       "    rubberband_canvas.addEventListener(\n",
       "        'mouseenter',\n",
       "        on_mouse_event_closure('figure_enter')\n",
       "    );\n",
       "    rubberband_canvas.addEventListener(\n",
       "        'mouseleave',\n",
       "        on_mouse_event_closure('figure_leave')\n",
       "    );\n",
       "\n",
       "    canvas_div.addEventListener('wheel', function (event) {\n",
       "        if (event.deltaY < 0) {\n",
       "            event.step = 1;\n",
       "        } else {\n",
       "            event.step = -1;\n",
       "        }\n",
       "        on_mouse_event_closure('scroll')(event);\n",
       "    });\n",
       "\n",
       "    canvas_div.appendChild(canvas);\n",
       "    canvas_div.appendChild(rubberband_canvas);\n",
       "\n",
       "    this.rubberband_context = rubberband_canvas.getContext('2d');\n",
       "    this.rubberband_context.strokeStyle = '#000000';\n",
       "\n",
       "    this._resize_canvas = function (width, height, forward) {\n",
       "        if (forward) {\n",
       "            canvas_div.style.width = width + 'px';\n",
       "            canvas_div.style.height = height + 'px';\n",
       "        }\n",
       "    };\n",
       "\n",
       "    // Disable right mouse context menu.\n",
       "    this.rubberband_canvas.addEventListener('contextmenu', function (_e) {\n",
       "        event.preventDefault();\n",
       "        return false;\n",
       "    });\n",
       "\n",
       "    function set_focus() {\n",
       "        canvas.focus();\n",
       "        canvas_div.focus();\n",
       "    }\n",
       "\n",
       "    window.setTimeout(set_focus, 100);\n",
       "};\n",
       "\n",
       "mpl.figure.prototype._init_toolbar = function () {\n",
       "    var fig = this;\n",
       "\n",
       "    var toolbar = document.createElement('div');\n",
       "    toolbar.classList = 'mpl-toolbar';\n",
       "    this.root.appendChild(toolbar);\n",
       "\n",
       "    function on_click_closure(name) {\n",
       "        return function (_event) {\n",
       "            return fig.toolbar_button_onclick(name);\n",
       "        };\n",
       "    }\n",
       "\n",
       "    function on_mouseover_closure(tooltip) {\n",
       "        return function (event) {\n",
       "            if (!event.currentTarget.disabled) {\n",
       "                return fig.toolbar_button_onmouseover(tooltip);\n",
       "            }\n",
       "        };\n",
       "    }\n",
       "\n",
       "    fig.buttons = {};\n",
       "    var buttonGroup = document.createElement('div');\n",
       "    buttonGroup.classList = 'mpl-button-group';\n",
       "    for (var toolbar_ind in mpl.toolbar_items) {\n",
       "        var name = mpl.toolbar_items[toolbar_ind][0];\n",
       "        var tooltip = mpl.toolbar_items[toolbar_ind][1];\n",
       "        var image = mpl.toolbar_items[toolbar_ind][2];\n",
       "        var method_name = mpl.toolbar_items[toolbar_ind][3];\n",
       "\n",
       "        if (!name) {\n",
       "            /* Instead of a spacer, we start a new button group. */\n",
       "            if (buttonGroup.hasChildNodes()) {\n",
       "                toolbar.appendChild(buttonGroup);\n",
       "            }\n",
       "            buttonGroup = document.createElement('div');\n",
       "            buttonGroup.classList = 'mpl-button-group';\n",
       "            continue;\n",
       "        }\n",
       "\n",
       "        var button = (fig.buttons[name] = document.createElement('button'));\n",
       "        button.classList = 'mpl-widget';\n",
       "        button.setAttribute('role', 'button');\n",
       "        button.setAttribute('aria-disabled', 'false');\n",
       "        button.addEventListener('click', on_click_closure(method_name));\n",
       "        button.addEventListener('mouseover', on_mouseover_closure(tooltip));\n",
       "\n",
       "        var icon_img = document.createElement('img');\n",
       "        icon_img.src = '_images/' + image + '.png';\n",
       "        icon_img.srcset = '_images/' + image + '_large.png 2x';\n",
       "        icon_img.alt = tooltip;\n",
       "        button.appendChild(icon_img);\n",
       "\n",
       "        buttonGroup.appendChild(button);\n",
       "    }\n",
       "\n",
       "    if (buttonGroup.hasChildNodes()) {\n",
       "        toolbar.appendChild(buttonGroup);\n",
       "    }\n",
       "\n",
       "    var fmt_picker = document.createElement('select');\n",
       "    fmt_picker.classList = 'mpl-widget';\n",
       "    toolbar.appendChild(fmt_picker);\n",
       "    this.format_dropdown = fmt_picker;\n",
       "\n",
       "    for (var ind in mpl.extensions) {\n",
       "        var fmt = mpl.extensions[ind];\n",
       "        var option = document.createElement('option');\n",
       "        option.selected = fmt === mpl.default_extension;\n",
       "        option.innerHTML = fmt;\n",
       "        fmt_picker.appendChild(option);\n",
       "    }\n",
       "\n",
       "    var status_bar = document.createElement('span');\n",
       "    status_bar.classList = 'mpl-message';\n",
       "    toolbar.appendChild(status_bar);\n",
       "    this.message = status_bar;\n",
       "};\n",
       "\n",
       "mpl.figure.prototype.request_resize = function (x_pixels, y_pixels) {\n",
       "    // Request matplotlib to resize the figure. Matplotlib will then trigger a resize in the client,\n",
       "    // which will in turn request a refresh of the image.\n",
       "    this.send_message('resize', { width: x_pixels, height: y_pixels });\n",
       "};\n",
       "\n",
       "mpl.figure.prototype.send_message = function (type, properties) {\n",
       "    properties['type'] = type;\n",
       "    properties['figure_id'] = this.id;\n",
       "    this.ws.send(JSON.stringify(properties));\n",
       "};\n",
       "\n",
       "mpl.figure.prototype.send_draw_message = function () {\n",
       "    if (!this.waiting) {\n",
       "        this.waiting = true;\n",
       "        this.ws.send(JSON.stringify({ type: 'draw', figure_id: this.id }));\n",
       "    }\n",
       "};\n",
       "\n",
       "mpl.figure.prototype.handle_save = function (fig, _msg) {\n",
       "    var format_dropdown = fig.format_dropdown;\n",
       "    var format = format_dropdown.options[format_dropdown.selectedIndex].value;\n",
       "    fig.ondownload(fig, format);\n",
       "};\n",
       "\n",
       "mpl.figure.prototype.handle_resize = function (fig, msg) {\n",
       "    var size = msg['size'];\n",
       "    if (size[0] !== fig.canvas.width || size[1] !== fig.canvas.height) {\n",
       "        fig._resize_canvas(size[0], size[1], msg['forward']);\n",
       "        fig.send_message('refresh', {});\n",
       "    }\n",
       "};\n",
       "\n",
       "mpl.figure.prototype.handle_rubberband = function (fig, msg) {\n",
       "    var x0 = msg['x0'] / fig.ratio;\n",
       "    var y0 = (fig.canvas.height - msg['y0']) / fig.ratio;\n",
       "    var x1 = msg['x1'] / fig.ratio;\n",
       "    var y1 = (fig.canvas.height - msg['y1']) / fig.ratio;\n",
       "    x0 = Math.floor(x0) + 0.5;\n",
       "    y0 = Math.floor(y0) + 0.5;\n",
       "    x1 = Math.floor(x1) + 0.5;\n",
       "    y1 = Math.floor(y1) + 0.5;\n",
       "    var min_x = Math.min(x0, x1);\n",
       "    var min_y = Math.min(y0, y1);\n",
       "    var width = Math.abs(x1 - x0);\n",
       "    var height = Math.abs(y1 - y0);\n",
       "\n",
       "    fig.rubberband_context.clearRect(\n",
       "        0,\n",
       "        0,\n",
       "        fig.canvas.width / fig.ratio,\n",
       "        fig.canvas.height / fig.ratio\n",
       "    );\n",
       "\n",
       "    fig.rubberband_context.strokeRect(min_x, min_y, width, height);\n",
       "};\n",
       "\n",
       "mpl.figure.prototype.handle_figure_label = function (fig, msg) {\n",
       "    // Updates the figure title.\n",
       "    fig.header.textContent = msg['label'];\n",
       "};\n",
       "\n",
       "mpl.figure.prototype.handle_cursor = function (fig, msg) {\n",
       "    var cursor = msg['cursor'];\n",
       "    switch (cursor) {\n",
       "        case 0:\n",
       "            cursor = 'pointer';\n",
       "            break;\n",
       "        case 1:\n",
       "            cursor = 'default';\n",
       "            break;\n",
       "        case 2:\n",
       "            cursor = 'crosshair';\n",
       "            break;\n",
       "        case 3:\n",
       "            cursor = 'move';\n",
       "            break;\n",
       "    }\n",
       "    fig.rubberband_canvas.style.cursor = cursor;\n",
       "};\n",
       "\n",
       "mpl.figure.prototype.handle_message = function (fig, msg) {\n",
       "    fig.message.textContent = msg['message'];\n",
       "};\n",
       "\n",
       "mpl.figure.prototype.handle_draw = function (fig, _msg) {\n",
       "    // Request the server to send over a new figure.\n",
       "    fig.send_draw_message();\n",
       "};\n",
       "\n",
       "mpl.figure.prototype.handle_image_mode = function (fig, msg) {\n",
       "    fig.image_mode = msg['mode'];\n",
       "};\n",
       "\n",
       "mpl.figure.prototype.handle_history_buttons = function (fig, msg) {\n",
       "    for (var key in msg) {\n",
       "        if (!(key in fig.buttons)) {\n",
       "            continue;\n",
       "        }\n",
       "        fig.buttons[key].disabled = !msg[key];\n",
       "        fig.buttons[key].setAttribute('aria-disabled', !msg[key]);\n",
       "    }\n",
       "};\n",
       "\n",
       "mpl.figure.prototype.handle_navigate_mode = function (fig, msg) {\n",
       "    if (msg['mode'] === 'PAN') {\n",
       "        fig.buttons['Pan'].classList.add('active');\n",
       "        fig.buttons['Zoom'].classList.remove('active');\n",
       "    } else if (msg['mode'] === 'ZOOM') {\n",
       "        fig.buttons['Pan'].classList.remove('active');\n",
       "        fig.buttons['Zoom'].classList.add('active');\n",
       "    } else {\n",
       "        fig.buttons['Pan'].classList.remove('active');\n",
       "        fig.buttons['Zoom'].classList.remove('active');\n",
       "    }\n",
       "};\n",
       "\n",
       "mpl.figure.prototype.updated_canvas_event = function () {\n",
       "    // Called whenever the canvas gets updated.\n",
       "    this.send_message('ack', {});\n",
       "};\n",
       "\n",
       "// A function to construct a web socket function for onmessage handling.\n",
       "// Called in the figure constructor.\n",
       "mpl.figure.prototype._make_on_message_function = function (fig) {\n",
       "    return function socket_on_message(evt) {\n",
       "        if (evt.data instanceof Blob) {\n",
       "            /* FIXME: We get \"Resource interpreted as Image but\n",
       "             * transferred with MIME type text/plain:\" errors on\n",
       "             * Chrome.  But how to set the MIME type?  It doesn't seem\n",
       "             * to be part of the websocket stream */\n",
       "            evt.data.type = 'image/png';\n",
       "\n",
       "            /* Free the memory for the previous frames */\n",
       "            if (fig.imageObj.src) {\n",
       "                (window.URL || window.webkitURL).revokeObjectURL(\n",
       "                    fig.imageObj.src\n",
       "                );\n",
       "            }\n",
       "\n",
       "            fig.imageObj.src = (window.URL || window.webkitURL).createObjectURL(\n",
       "                evt.data\n",
       "            );\n",
       "            fig.updated_canvas_event();\n",
       "            fig.waiting = false;\n",
       "            return;\n",
       "        } else if (\n",
       "            typeof evt.data === 'string' &&\n",
       "            evt.data.slice(0, 21) === 'data:image/png;base64'\n",
       "        ) {\n",
       "            fig.imageObj.src = evt.data;\n",
       "            fig.updated_canvas_event();\n",
       "            fig.waiting = false;\n",
       "            return;\n",
       "        }\n",
       "\n",
       "        var msg = JSON.parse(evt.data);\n",
       "        var msg_type = msg['type'];\n",
       "\n",
       "        // Call the  \"handle_{type}\" callback, which takes\n",
       "        // the figure and JSON message as its only arguments.\n",
       "        try {\n",
       "            var callback = fig['handle_' + msg_type];\n",
       "        } catch (e) {\n",
       "            console.log(\n",
       "                \"No handler for the '\" + msg_type + \"' message type: \",\n",
       "                msg\n",
       "            );\n",
       "            return;\n",
       "        }\n",
       "\n",
       "        if (callback) {\n",
       "            try {\n",
       "                // console.log(\"Handling '\" + msg_type + \"' message: \", msg);\n",
       "                callback(fig, msg);\n",
       "            } catch (e) {\n",
       "                console.log(\n",
       "                    \"Exception inside the 'handler_\" + msg_type + \"' callback:\",\n",
       "                    e,\n",
       "                    e.stack,\n",
       "                    msg\n",
       "                );\n",
       "            }\n",
       "        }\n",
       "    };\n",
       "};\n",
       "\n",
       "// from http://stackoverflow.com/questions/1114465/getting-mouse-location-in-canvas\n",
       "mpl.findpos = function (e) {\n",
       "    //this section is from http://www.quirksmode.org/js/events_properties.html\n",
       "    var targ;\n",
       "    if (!e) {\n",
       "        e = window.event;\n",
       "    }\n",
       "    if (e.target) {\n",
       "        targ = e.target;\n",
       "    } else if (e.srcElement) {\n",
       "        targ = e.srcElement;\n",
       "    }\n",
       "    if (targ.nodeType === 3) {\n",
       "        // defeat Safari bug\n",
       "        targ = targ.parentNode;\n",
       "    }\n",
       "\n",
       "    // pageX,Y are the mouse positions relative to the document\n",
       "    var boundingRect = targ.getBoundingClientRect();\n",
       "    var x = e.pageX - (boundingRect.left + document.body.scrollLeft);\n",
       "    var y = e.pageY - (boundingRect.top + document.body.scrollTop);\n",
       "\n",
       "    return { x: x, y: y };\n",
       "};\n",
       "\n",
       "/*\n",
       " * return a copy of an object with only non-object keys\n",
       " * we need this to avoid circular references\n",
       " * http://stackoverflow.com/a/24161582/3208463\n",
       " */\n",
       "function simpleKeys(original) {\n",
       "    return Object.keys(original).reduce(function (obj, key) {\n",
       "        if (typeof original[key] !== 'object') {\n",
       "            obj[key] = original[key];\n",
       "        }\n",
       "        return obj;\n",
       "    }, {});\n",
       "}\n",
       "\n",
       "mpl.figure.prototype.mouse_event = function (event, name) {\n",
       "    var canvas_pos = mpl.findpos(event);\n",
       "\n",
       "    if (name === 'button_press') {\n",
       "        this.canvas.focus();\n",
       "        this.canvas_div.focus();\n",
       "    }\n",
       "\n",
       "    var x = canvas_pos.x * this.ratio;\n",
       "    var y = canvas_pos.y * this.ratio;\n",
       "\n",
       "    this.send_message(name, {\n",
       "        x: x,\n",
       "        y: y,\n",
       "        button: event.button,\n",
       "        step: event.step,\n",
       "        guiEvent: simpleKeys(event),\n",
       "    });\n",
       "\n",
       "    /* This prevents the web browser from automatically changing to\n",
       "     * the text insertion cursor when the button is pressed.  We want\n",
       "     * to control all of the cursor setting manually through the\n",
       "     * 'cursor' event from matplotlib */\n",
       "    event.preventDefault();\n",
       "    return false;\n",
       "};\n",
       "\n",
       "mpl.figure.prototype._key_event_extra = function (_event, _name) {\n",
       "    // Handle any extra behaviour associated with a key event\n",
       "};\n",
       "\n",
       "mpl.figure.prototype.key_event = function (event, name) {\n",
       "    // Prevent repeat events\n",
       "    if (name === 'key_press') {\n",
       "        if (event.which === this._key) {\n",
       "            return;\n",
       "        } else {\n",
       "            this._key = event.which;\n",
       "        }\n",
       "    }\n",
       "    if (name === 'key_release') {\n",
       "        this._key = null;\n",
       "    }\n",
       "\n",
       "    var value = '';\n",
       "    if (event.ctrlKey && event.which !== 17) {\n",
       "        value += 'ctrl+';\n",
       "    }\n",
       "    if (event.altKey && event.which !== 18) {\n",
       "        value += 'alt+';\n",
       "    }\n",
       "    if (event.shiftKey && event.which !== 16) {\n",
       "        value += 'shift+';\n",
       "    }\n",
       "\n",
       "    value += 'k';\n",
       "    value += event.which.toString();\n",
       "\n",
       "    this._key_event_extra(event, name);\n",
       "\n",
       "    this.send_message(name, { key: value, guiEvent: simpleKeys(event) });\n",
       "    return false;\n",
       "};\n",
       "\n",
       "mpl.figure.prototype.toolbar_button_onclick = function (name) {\n",
       "    if (name === 'download') {\n",
       "        this.handle_save(this, null);\n",
       "    } else {\n",
       "        this.send_message('toolbar_button', { name: name });\n",
       "    }\n",
       "};\n",
       "\n",
       "mpl.figure.prototype.toolbar_button_onmouseover = function (tooltip) {\n",
       "    this.message.textContent = tooltip;\n",
       "};\n",
       "mpl.toolbar_items = [[\"Home\", \"Reset original view\", \"fa fa-home icon-home\", \"home\"], [\"Back\", \"Back to previous view\", \"fa fa-arrow-left icon-arrow-left\", \"back\"], [\"Forward\", \"Forward to next view\", \"fa fa-arrow-right icon-arrow-right\", \"forward\"], [\"\", \"\", \"\", \"\"], [\"Pan\", \"Left button pans, Right button zooms\\nx/y fixes axis, CTRL fixes aspect\", \"fa fa-arrows icon-move\", \"pan\"], [\"Zoom\", \"Zoom to rectangle\\nx/y fixes axis, CTRL fixes aspect\", \"fa fa-square-o icon-check-empty\", \"zoom\"], [\"\", \"\", \"\", \"\"], [\"Download\", \"Download plot\", \"fa fa-floppy-o icon-save\", \"download\"]];\n",
       "\n",
       "mpl.extensions = [\"eps\", \"jpeg\", \"pdf\", \"png\", \"ps\", \"raw\", \"svg\", \"tif\"];\n",
       "\n",
       "mpl.default_extension = \"png\";/* global mpl */\n",
       "\n",
       "var comm_websocket_adapter = function (comm) {\n",
       "    // Create a \"websocket\"-like object which calls the given IPython comm\n",
       "    // object with the appropriate methods. Currently this is a non binary\n",
       "    // socket, so there is still some room for performance tuning.\n",
       "    var ws = {};\n",
       "\n",
       "    ws.close = function () {\n",
       "        comm.close();\n",
       "    };\n",
       "    ws.send = function (m) {\n",
       "        //console.log('sending', m);\n",
       "        comm.send(m);\n",
       "    };\n",
       "    // Register the callback with on_msg.\n",
       "    comm.on_msg(function (msg) {\n",
       "        //console.log('receiving', msg['content']['data'], msg);\n",
       "        // Pass the mpl event to the overridden (by mpl) onmessage function.\n",
       "        ws.onmessage(msg['content']['data']);\n",
       "    });\n",
       "    return ws;\n",
       "};\n",
       "\n",
       "mpl.mpl_figure_comm = function (comm, msg) {\n",
       "    // This is the function which gets called when the mpl process\n",
       "    // starts-up an IPython Comm through the \"matplotlib\" channel.\n",
       "\n",
       "    var id = msg.content.data.id;\n",
       "    // Get hold of the div created by the display call when the Comm\n",
       "    // socket was opened in Python.\n",
       "    var element = document.getElementById(id);\n",
       "    var ws_proxy = comm_websocket_adapter(comm);\n",
       "\n",
       "    function ondownload(figure, _format) {\n",
       "        window.open(figure.canvas.toDataURL());\n",
       "    }\n",
       "\n",
       "    var fig = new mpl.figure(id, ws_proxy, ondownload, element);\n",
       "\n",
       "    // Call onopen now - mpl needs it, as it is assuming we've passed it a real\n",
       "    // web socket which is closed, not our websocket->open comm proxy.\n",
       "    ws_proxy.onopen();\n",
       "\n",
       "    fig.parent_element = element;\n",
       "    fig.cell_info = mpl.find_output_cell(\"<div id='\" + id + \"'></div>\");\n",
       "    if (!fig.cell_info) {\n",
       "        console.error('Failed to find cell for figure', id, fig);\n",
       "        return;\n",
       "    }\n",
       "    fig.cell_info[0].output_area.element.one(\n",
       "        'cleared',\n",
       "        { fig: fig },\n",
       "        fig._remove_fig_handler\n",
       "    );\n",
       "};\n",
       "\n",
       "mpl.figure.prototype.handle_close = function (fig, msg) {\n",
       "    var width = fig.canvas.width / fig.ratio;\n",
       "    fig.cell_info[0].output_area.element.off(\n",
       "        'cleared',\n",
       "        fig._remove_fig_handler\n",
       "    );\n",
       "\n",
       "    // Update the output cell to use the data from the current canvas.\n",
       "    fig.push_to_output();\n",
       "    var dataURL = fig.canvas.toDataURL();\n",
       "    // Re-enable the keyboard manager in IPython - without this line, in FF,\n",
       "    // the notebook keyboard shortcuts fail.\n",
       "    IPython.keyboard_manager.enable();\n",
       "    fig.parent_element.innerHTML =\n",
       "        '<img src=\"' + dataURL + '\" width=\"' + width + '\">';\n",
       "    fig.close_ws(fig, msg);\n",
       "};\n",
       "\n",
       "mpl.figure.prototype.close_ws = function (fig, msg) {\n",
       "    fig.send_message('closing', msg);\n",
       "    // fig.ws.close()\n",
       "};\n",
       "\n",
       "mpl.figure.prototype.push_to_output = function (_remove_interactive) {\n",
       "    // Turn the data on the canvas into data in the output cell.\n",
       "    var width = this.canvas.width / this.ratio;\n",
       "    var dataURL = this.canvas.toDataURL();\n",
       "    this.cell_info[1]['text/html'] =\n",
       "        '<img src=\"' + dataURL + '\" width=\"' + width + '\">';\n",
       "};\n",
       "\n",
       "mpl.figure.prototype.updated_canvas_event = function () {\n",
       "    // Tell IPython that the notebook contents must change.\n",
       "    IPython.notebook.set_dirty(true);\n",
       "    this.send_message('ack', {});\n",
       "    var fig = this;\n",
       "    // Wait a second, then push the new image to the DOM so\n",
       "    // that it is saved nicely (might be nice to debounce this).\n",
       "    setTimeout(function () {\n",
       "        fig.push_to_output();\n",
       "    }, 1000);\n",
       "};\n",
       "\n",
       "mpl.figure.prototype._init_toolbar = function () {\n",
       "    var fig = this;\n",
       "\n",
       "    var toolbar = document.createElement('div');\n",
       "    toolbar.classList = 'btn-toolbar';\n",
       "    this.root.appendChild(toolbar);\n",
       "\n",
       "    function on_click_closure(name) {\n",
       "        return function (_event) {\n",
       "            return fig.toolbar_button_onclick(name);\n",
       "        };\n",
       "    }\n",
       "\n",
       "    function on_mouseover_closure(tooltip) {\n",
       "        return function (event) {\n",
       "            if (!event.currentTarget.disabled) {\n",
       "                return fig.toolbar_button_onmouseover(tooltip);\n",
       "            }\n",
       "        };\n",
       "    }\n",
       "\n",
       "    fig.buttons = {};\n",
       "    var buttonGroup = document.createElement('div');\n",
       "    buttonGroup.classList = 'btn-group';\n",
       "    var button;\n",
       "    for (var toolbar_ind in mpl.toolbar_items) {\n",
       "        var name = mpl.toolbar_items[toolbar_ind][0];\n",
       "        var tooltip = mpl.toolbar_items[toolbar_ind][1];\n",
       "        var image = mpl.toolbar_items[toolbar_ind][2];\n",
       "        var method_name = mpl.toolbar_items[toolbar_ind][3];\n",
       "\n",
       "        if (!name) {\n",
       "            /* Instead of a spacer, we start a new button group. */\n",
       "            if (buttonGroup.hasChildNodes()) {\n",
       "                toolbar.appendChild(buttonGroup);\n",
       "            }\n",
       "            buttonGroup = document.createElement('div');\n",
       "            buttonGroup.classList = 'btn-group';\n",
       "            continue;\n",
       "        }\n",
       "\n",
       "        button = fig.buttons[name] = document.createElement('button');\n",
       "        button.classList = 'btn btn-default';\n",
       "        button.href = '#';\n",
       "        button.title = name;\n",
       "        button.innerHTML = '<i class=\"fa ' + image + ' fa-lg\"></i>';\n",
       "        button.addEventListener('click', on_click_closure(method_name));\n",
       "        button.addEventListener('mouseover', on_mouseover_closure(tooltip));\n",
       "        buttonGroup.appendChild(button);\n",
       "    }\n",
       "\n",
       "    if (buttonGroup.hasChildNodes()) {\n",
       "        toolbar.appendChild(buttonGroup);\n",
       "    }\n",
       "\n",
       "    // Add the status bar.\n",
       "    var status_bar = document.createElement('span');\n",
       "    status_bar.classList = 'mpl-message pull-right';\n",
       "    toolbar.appendChild(status_bar);\n",
       "    this.message = status_bar;\n",
       "\n",
       "    // Add the close button to the window.\n",
       "    var buttongrp = document.createElement('div');\n",
       "    buttongrp.classList = 'btn-group inline pull-right';\n",
       "    button = document.createElement('button');\n",
       "    button.classList = 'btn btn-mini btn-primary';\n",
       "    button.href = '#';\n",
       "    button.title = 'Stop Interaction';\n",
       "    button.innerHTML = '<i class=\"fa fa-power-off icon-remove icon-large\"></i>';\n",
       "    button.addEventListener('click', function (_evt) {\n",
       "        fig.handle_close(fig, {});\n",
       "    });\n",
       "    button.addEventListener(\n",
       "        'mouseover',\n",
       "        on_mouseover_closure('Stop Interaction')\n",
       "    );\n",
       "    buttongrp.appendChild(button);\n",
       "    var titlebar = this.root.querySelector('.ui-dialog-titlebar');\n",
       "    titlebar.insertBefore(buttongrp, titlebar.firstChild);\n",
       "};\n",
       "\n",
       "mpl.figure.prototype._remove_fig_handler = function (event) {\n",
       "    var fig = event.data.fig;\n",
       "    fig.close_ws(fig, {});\n",
       "};\n",
       "\n",
       "mpl.figure.prototype._root_extra_style = function (el) {\n",
       "    el.style.boxSizing = 'content-box'; // override notebook setting of border-box.\n",
       "};\n",
       "\n",
       "mpl.figure.prototype._canvas_extra_style = function (el) {\n",
       "    // this is important to make the div 'focusable\n",
       "    el.setAttribute('tabindex', 0);\n",
       "    // reach out to IPython and tell the keyboard manager to turn it's self\n",
       "    // off when our div gets focus\n",
       "\n",
       "    // location in version 3\n",
       "    if (IPython.notebook.keyboard_manager) {\n",
       "        IPython.notebook.keyboard_manager.register_events(el);\n",
       "    } else {\n",
       "        // location in version 2\n",
       "        IPython.keyboard_manager.register_events(el);\n",
       "    }\n",
       "};\n",
       "\n",
       "mpl.figure.prototype._key_event_extra = function (event, _name) {\n",
       "    var manager = IPython.notebook.keyboard_manager;\n",
       "    if (!manager) {\n",
       "        manager = IPython.keyboard_manager;\n",
       "    }\n",
       "\n",
       "    // Check for shift+enter\n",
       "    if (event.shiftKey && event.which === 13) {\n",
       "        this.canvas_div.blur();\n",
       "        // select the cell after this one\n",
       "        var index = IPython.notebook.find_cell_index(this.cell_info[0]);\n",
       "        IPython.notebook.select(index + 1);\n",
       "    }\n",
       "};\n",
       "\n",
       "mpl.figure.prototype.handle_save = function (fig, _msg) {\n",
       "    fig.ondownload(fig, null);\n",
       "};\n",
       "\n",
       "mpl.find_output_cell = function (html_output) {\n",
       "    // Return the cell and output element which can be found *uniquely* in the notebook.\n",
       "    // Note - this is a bit hacky, but it is done because the \"notebook_saving.Notebook\"\n",
       "    // IPython event is triggered only after the cells have been serialised, which for\n",
       "    // our purposes (turning an active figure into a static one), is too late.\n",
       "    var cells = IPython.notebook.get_cells();\n",
       "    var ncells = cells.length;\n",
       "    for (var i = 0; i < ncells; i++) {\n",
       "        var cell = cells[i];\n",
       "        if (cell.cell_type === 'code') {\n",
       "            for (var j = 0; j < cell.output_area.outputs.length; j++) {\n",
       "                var data = cell.output_area.outputs[j];\n",
       "                if (data.data) {\n",
       "                    // IPython >= 3 moved mimebundle to data attribute of output\n",
       "                    data = data.data;\n",
       "                }\n",
       "                if (data['text/html'] === html_output) {\n",
       "                    return [cell, data, j];\n",
       "                }\n",
       "            }\n",
       "        }\n",
       "    }\n",
       "};\n",
       "\n",
       "// Register the function which deals with the matplotlib target/channel.\n",
       "// The kernel may be null if the page has been refreshed.\n",
       "if (IPython.notebook.kernel !== null) {\n",
       "    IPython.notebook.kernel.comm_manager.register_target(\n",
       "        'matplotlib',\n",
       "        mpl.mpl_figure_comm\n",
       "    );\n",
       "}\n"
      ],
      "text/plain": [
       "<IPython.core.display.Javascript object>"
      ]
     },
     "metadata": {},
     "output_type": "display_data"
    },
    {
     "data": {
      "text/html": [
       "<img src=\"data:image/png;base64,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\" width=\"640\">"
      ],
      "text/plain": [
       "<IPython.core.display.HTML object>"
      ]
     },
     "metadata": {},
     "output_type": "display_data"
    },
    {
     "data": {
      "text/plain": [
       "<AxesSubplot:>"
      ]
     },
     "execution_count": 364,
     "metadata": {},
     "output_type": "execute_result"
    }
   ],
   "source": [
    "corr.plot()"
   ]
  },
  {
   "cell_type": "code",
   "execution_count": 366,
   "metadata": {
    "ExecuteTime": {
     "end_time": "2020-11-18T05:03:13.472990Z",
     "start_time": "2020-11-18T05:03:13.438088Z"
    }
   },
   "outputs": [],
   "source": [
    "corr = result.rolling(125, min_periods=100).corr(spx_rets)"
   ]
  },
  {
   "cell_type": "code",
   "execution_count": 367,
   "metadata": {
    "ExecuteTime": {
     "end_time": "2020-11-18T05:03:18.390214Z",
     "start_time": "2020-11-18T05:03:18.237649Z"
    }
   },
   "outputs": [
    {
     "data": {
      "application/javascript": [
       "/* Put everything inside the global mpl namespace */\n",
       "/* global mpl */\n",
       "window.mpl = {};\n",
       "\n",
       "mpl.get_websocket_type = function () {\n",
       "    if (typeof WebSocket !== 'undefined') {\n",
       "        return WebSocket;\n",
       "    } else if (typeof MozWebSocket !== 'undefined') {\n",
       "        return MozWebSocket;\n",
       "    } else {\n",
       "        alert(\n",
       "            'Your browser does not have WebSocket support. ' +\n",
       "                'Please try Chrome, Safari or Firefox ≥ 6. ' +\n",
       "                'Firefox 4 and 5 are also supported but you ' +\n",
       "                'have to enable WebSockets in about:config.'\n",
       "        );\n",
       "    }\n",
       "};\n",
       "\n",
       "mpl.figure = function (figure_id, websocket, ondownload, parent_element) {\n",
       "    this.id = figure_id;\n",
       "\n",
       "    this.ws = websocket;\n",
       "\n",
       "    this.supports_binary = this.ws.binaryType !== undefined;\n",
       "\n",
       "    if (!this.supports_binary) {\n",
       "        var warnings = document.getElementById('mpl-warnings');\n",
       "        if (warnings) {\n",
       "            warnings.style.display = 'block';\n",
       "            warnings.textContent =\n",
       "                'This browser does not support binary websocket messages. ' +\n",
       "                'Performance may be slow.';\n",
       "        }\n",
       "    }\n",
       "\n",
       "    this.imageObj = new Image();\n",
       "\n",
       "    this.context = undefined;\n",
       "    this.message = undefined;\n",
       "    this.canvas = undefined;\n",
       "    this.rubberband_canvas = undefined;\n",
       "    this.rubberband_context = undefined;\n",
       "    this.format_dropdown = undefined;\n",
       "\n",
       "    this.image_mode = 'full';\n",
       "\n",
       "    this.root = document.createElement('div');\n",
       "    this.root.setAttribute('style', 'display: inline-block');\n",
       "    this._root_extra_style(this.root);\n",
       "\n",
       "    parent_element.appendChild(this.root);\n",
       "\n",
       "    this._init_header(this);\n",
       "    this._init_canvas(this);\n",
       "    this._init_toolbar(this);\n",
       "\n",
       "    var fig = this;\n",
       "\n",
       "    this.waiting = false;\n",
       "\n",
       "    this.ws.onopen = function () {\n",
       "        fig.send_message('supports_binary', { value: fig.supports_binary });\n",
       "        fig.send_message('send_image_mode', {});\n",
       "        if (fig.ratio !== 1) {\n",
       "            fig.send_message('set_dpi_ratio', { dpi_ratio: fig.ratio });\n",
       "        }\n",
       "        fig.send_message('refresh', {});\n",
       "    };\n",
       "\n",
       "    this.imageObj.onload = function () {\n",
       "        if (fig.image_mode === 'full') {\n",
       "            // Full images could contain transparency (where diff images\n",
       "            // almost always do), so we need to clear the canvas so that\n",
       "            // there is no ghosting.\n",
       "            fig.context.clearRect(0, 0, fig.canvas.width, fig.canvas.height);\n",
       "        }\n",
       "        fig.context.drawImage(fig.imageObj, 0, 0);\n",
       "    };\n",
       "\n",
       "    this.imageObj.onunload = function () {\n",
       "        fig.ws.close();\n",
       "    };\n",
       "\n",
       "    this.ws.onmessage = this._make_on_message_function(this);\n",
       "\n",
       "    this.ondownload = ondownload;\n",
       "};\n",
       "\n",
       "mpl.figure.prototype._init_header = function () {\n",
       "    var titlebar = document.createElement('div');\n",
       "    titlebar.classList =\n",
       "        'ui-dialog-titlebar ui-widget-header ui-corner-all ui-helper-clearfix';\n",
       "    var titletext = document.createElement('div');\n",
       "    titletext.classList = 'ui-dialog-title';\n",
       "    titletext.setAttribute(\n",
       "        'style',\n",
       "        'width: 100%; text-align: center; padding: 3px;'\n",
       "    );\n",
       "    titlebar.appendChild(titletext);\n",
       "    this.root.appendChild(titlebar);\n",
       "    this.header = titletext;\n",
       "};\n",
       "\n",
       "mpl.figure.prototype._canvas_extra_style = function (_canvas_div) {};\n",
       "\n",
       "mpl.figure.prototype._root_extra_style = function (_canvas_div) {};\n",
       "\n",
       "mpl.figure.prototype._init_canvas = function () {\n",
       "    var fig = this;\n",
       "\n",
       "    var canvas_div = (this.canvas_div = document.createElement('div'));\n",
       "    canvas_div.setAttribute(\n",
       "        'style',\n",
       "        'border: 1px solid #ddd;' +\n",
       "            'box-sizing: content-box;' +\n",
       "            'clear: both;' +\n",
       "            'min-height: 1px;' +\n",
       "            'min-width: 1px;' +\n",
       "            'outline: 0;' +\n",
       "            'overflow: hidden;' +\n",
       "            'position: relative;' +\n",
       "            'resize: both;'\n",
       "    );\n",
       "\n",
       "    function on_keyboard_event_closure(name) {\n",
       "        return function (event) {\n",
       "            return fig.key_event(event, name);\n",
       "        };\n",
       "    }\n",
       "\n",
       "    canvas_div.addEventListener(\n",
       "        'keydown',\n",
       "        on_keyboard_event_closure('key_press')\n",
       "    );\n",
       "    canvas_div.addEventListener(\n",
       "        'keyup',\n",
       "        on_keyboard_event_closure('key_release')\n",
       "    );\n",
       "\n",
       "    this._canvas_extra_style(canvas_div);\n",
       "    this.root.appendChild(canvas_div);\n",
       "\n",
       "    var canvas = (this.canvas = document.createElement('canvas'));\n",
       "    canvas.classList.add('mpl-canvas');\n",
       "    canvas.setAttribute('style', 'box-sizing: content-box;');\n",
       "\n",
       "    this.context = canvas.getContext('2d');\n",
       "\n",
       "    var backingStore =\n",
       "        this.context.backingStorePixelRatio ||\n",
       "        this.context.webkitBackingStorePixelRatio ||\n",
       "        this.context.mozBackingStorePixelRatio ||\n",
       "        this.context.msBackingStorePixelRatio ||\n",
       "        this.context.oBackingStorePixelRatio ||\n",
       "        this.context.backingStorePixelRatio ||\n",
       "        1;\n",
       "\n",
       "    this.ratio = (window.devicePixelRatio || 1) / backingStore;\n",
       "    if (this.ratio !== 1) {\n",
       "        fig.send_message('set_dpi_ratio', { dpi_ratio: this.ratio });\n",
       "    }\n",
       "\n",
       "    var rubberband_canvas = (this.rubberband_canvas = document.createElement(\n",
       "        'canvas'\n",
       "    ));\n",
       "    rubberband_canvas.setAttribute(\n",
       "        'style',\n",
       "        'box-sizing: content-box; position: absolute; left: 0; top: 0; z-index: 1;'\n",
       "    );\n",
       "\n",
       "    var resizeObserver = new ResizeObserver(function (entries) {\n",
       "        var nentries = entries.length;\n",
       "        for (var i = 0; i < nentries; i++) {\n",
       "            var entry = entries[i];\n",
       "            var width, height;\n",
       "            if (entry.contentBoxSize) {\n",
       "                if (entry.contentBoxSize instanceof Array) {\n",
       "                    // Chrome 84 implements new version of spec.\n",
       "                    width = entry.contentBoxSize[0].inlineSize;\n",
       "                    height = entry.contentBoxSize[0].blockSize;\n",
       "                } else {\n",
       "                    // Firefox implements old version of spec.\n",
       "                    width = entry.contentBoxSize.inlineSize;\n",
       "                    height = entry.contentBoxSize.blockSize;\n",
       "                }\n",
       "            } else {\n",
       "                // Chrome <84 implements even older version of spec.\n",
       "                width = entry.contentRect.width;\n",
       "                height = entry.contentRect.height;\n",
       "            }\n",
       "\n",
       "            // Keep the size of the canvas and rubber band canvas in sync with\n",
       "            // the canvas container.\n",
       "            if (entry.devicePixelContentBoxSize) {\n",
       "                // Chrome 84 implements new version of spec.\n",
       "                canvas.setAttribute(\n",
       "                    'width',\n",
       "                    entry.devicePixelContentBoxSize[0].inlineSize\n",
       "                );\n",
       "                canvas.setAttribute(\n",
       "                    'height',\n",
       "                    entry.devicePixelContentBoxSize[0].blockSize\n",
       "                );\n",
       "            } else {\n",
       "                canvas.setAttribute('width', width * fig.ratio);\n",
       "                canvas.setAttribute('height', height * fig.ratio);\n",
       "            }\n",
       "            canvas.setAttribute(\n",
       "                'style',\n",
       "                'width: ' + width + 'px; height: ' + height + 'px;'\n",
       "            );\n",
       "\n",
       "            rubberband_canvas.setAttribute('width', width);\n",
       "            rubberband_canvas.setAttribute('height', height);\n",
       "\n",
       "            // And update the size in Python. We ignore the initial 0/0 size\n",
       "            // that occurs as the element is placed into the DOM, which should\n",
       "            // otherwise not happen due to the minimum size styling.\n",
       "            if (width != 0 && height != 0) {\n",
       "                fig.request_resize(width, height);\n",
       "            }\n",
       "        }\n",
       "    });\n",
       "    resizeObserver.observe(canvas_div);\n",
       "\n",
       "    function on_mouse_event_closure(name) {\n",
       "        return function (event) {\n",
       "            return fig.mouse_event(event, name);\n",
       "        };\n",
       "    }\n",
       "\n",
       "    rubberband_canvas.addEventListener(\n",
       "        'mousedown',\n",
       "        on_mouse_event_closure('button_press')\n",
       "    );\n",
       "    rubberband_canvas.addEventListener(\n",
       "        'mouseup',\n",
       "        on_mouse_event_closure('button_release')\n",
       "    );\n",
       "    // Throttle sequential mouse events to 1 every 20ms.\n",
       "    rubberband_canvas.addEventListener(\n",
       "        'mousemove',\n",
       "        on_mouse_event_closure('motion_notify')\n",
       "    );\n",
       "\n",
       "    rubberband_canvas.addEventListener(\n",
       "        'mouseenter',\n",
       "        on_mouse_event_closure('figure_enter')\n",
       "    );\n",
       "    rubberband_canvas.addEventListener(\n",
       "        'mouseleave',\n",
       "        on_mouse_event_closure('figure_leave')\n",
       "    );\n",
       "\n",
       "    canvas_div.addEventListener('wheel', function (event) {\n",
       "        if (event.deltaY < 0) {\n",
       "            event.step = 1;\n",
       "        } else {\n",
       "            event.step = -1;\n",
       "        }\n",
       "        on_mouse_event_closure('scroll')(event);\n",
       "    });\n",
       "\n",
       "    canvas_div.appendChild(canvas);\n",
       "    canvas_div.appendChild(rubberband_canvas);\n",
       "\n",
       "    this.rubberband_context = rubberband_canvas.getContext('2d');\n",
       "    this.rubberband_context.strokeStyle = '#000000';\n",
       "\n",
       "    this._resize_canvas = function (width, height, forward) {\n",
       "        if (forward) {\n",
       "            canvas_div.style.width = width + 'px';\n",
       "            canvas_div.style.height = height + 'px';\n",
       "        }\n",
       "    };\n",
       "\n",
       "    // Disable right mouse context menu.\n",
       "    this.rubberband_canvas.addEventListener('contextmenu', function (_e) {\n",
       "        event.preventDefault();\n",
       "        return false;\n",
       "    });\n",
       "\n",
       "    function set_focus() {\n",
       "        canvas.focus();\n",
       "        canvas_div.focus();\n",
       "    }\n",
       "\n",
       "    window.setTimeout(set_focus, 100);\n",
       "};\n",
       "\n",
       "mpl.figure.prototype._init_toolbar = function () {\n",
       "    var fig = this;\n",
       "\n",
       "    var toolbar = document.createElement('div');\n",
       "    toolbar.classList = 'mpl-toolbar';\n",
       "    this.root.appendChild(toolbar);\n",
       "\n",
       "    function on_click_closure(name) {\n",
       "        return function (_event) {\n",
       "            return fig.toolbar_button_onclick(name);\n",
       "        };\n",
       "    }\n",
       "\n",
       "    function on_mouseover_closure(tooltip) {\n",
       "        return function (event) {\n",
       "            if (!event.currentTarget.disabled) {\n",
       "                return fig.toolbar_button_onmouseover(tooltip);\n",
       "            }\n",
       "        };\n",
       "    }\n",
       "\n",
       "    fig.buttons = {};\n",
       "    var buttonGroup = document.createElement('div');\n",
       "    buttonGroup.classList = 'mpl-button-group';\n",
       "    for (var toolbar_ind in mpl.toolbar_items) {\n",
       "        var name = mpl.toolbar_items[toolbar_ind][0];\n",
       "        var tooltip = mpl.toolbar_items[toolbar_ind][1];\n",
       "        var image = mpl.toolbar_items[toolbar_ind][2];\n",
       "        var method_name = mpl.toolbar_items[toolbar_ind][3];\n",
       "\n",
       "        if (!name) {\n",
       "            /* Instead of a spacer, we start a new button group. */\n",
       "            if (buttonGroup.hasChildNodes()) {\n",
       "                toolbar.appendChild(buttonGroup);\n",
       "            }\n",
       "            buttonGroup = document.createElement('div');\n",
       "            buttonGroup.classList = 'mpl-button-group';\n",
       "            continue;\n",
       "        }\n",
       "\n",
       "        var button = (fig.buttons[name] = document.createElement('button'));\n",
       "        button.classList = 'mpl-widget';\n",
       "        button.setAttribute('role', 'button');\n",
       "        button.setAttribute('aria-disabled', 'false');\n",
       "        button.addEventListener('click', on_click_closure(method_name));\n",
       "        button.addEventListener('mouseover', on_mouseover_closure(tooltip));\n",
       "\n",
       "        var icon_img = document.createElement('img');\n",
       "        icon_img.src = '_images/' + image + '.png';\n",
       "        icon_img.srcset = '_images/' + image + '_large.png 2x';\n",
       "        icon_img.alt = tooltip;\n",
       "        button.appendChild(icon_img);\n",
       "\n",
       "        buttonGroup.appendChild(button);\n",
       "    }\n",
       "\n",
       "    if (buttonGroup.hasChildNodes()) {\n",
       "        toolbar.appendChild(buttonGroup);\n",
       "    }\n",
       "\n",
       "    var fmt_picker = document.createElement('select');\n",
       "    fmt_picker.classList = 'mpl-widget';\n",
       "    toolbar.appendChild(fmt_picker);\n",
       "    this.format_dropdown = fmt_picker;\n",
       "\n",
       "    for (var ind in mpl.extensions) {\n",
       "        var fmt = mpl.extensions[ind];\n",
       "        var option = document.createElement('option');\n",
       "        option.selected = fmt === mpl.default_extension;\n",
       "        option.innerHTML = fmt;\n",
       "        fmt_picker.appendChild(option);\n",
       "    }\n",
       "\n",
       "    var status_bar = document.createElement('span');\n",
       "    status_bar.classList = 'mpl-message';\n",
       "    toolbar.appendChild(status_bar);\n",
       "    this.message = status_bar;\n",
       "};\n",
       "\n",
       "mpl.figure.prototype.request_resize = function (x_pixels, y_pixels) {\n",
       "    // Request matplotlib to resize the figure. Matplotlib will then trigger a resize in the client,\n",
       "    // which will in turn request a refresh of the image.\n",
       "    this.send_message('resize', { width: x_pixels, height: y_pixels });\n",
       "};\n",
       "\n",
       "mpl.figure.prototype.send_message = function (type, properties) {\n",
       "    properties['type'] = type;\n",
       "    properties['figure_id'] = this.id;\n",
       "    this.ws.send(JSON.stringify(properties));\n",
       "};\n",
       "\n",
       "mpl.figure.prototype.send_draw_message = function () {\n",
       "    if (!this.waiting) {\n",
       "        this.waiting = true;\n",
       "        this.ws.send(JSON.stringify({ type: 'draw', figure_id: this.id }));\n",
       "    }\n",
       "};\n",
       "\n",
       "mpl.figure.prototype.handle_save = function (fig, _msg) {\n",
       "    var format_dropdown = fig.format_dropdown;\n",
       "    var format = format_dropdown.options[format_dropdown.selectedIndex].value;\n",
       "    fig.ondownload(fig, format);\n",
       "};\n",
       "\n",
       "mpl.figure.prototype.handle_resize = function (fig, msg) {\n",
       "    var size = msg['size'];\n",
       "    if (size[0] !== fig.canvas.width || size[1] !== fig.canvas.height) {\n",
       "        fig._resize_canvas(size[0], size[1], msg['forward']);\n",
       "        fig.send_message('refresh', {});\n",
       "    }\n",
       "};\n",
       "\n",
       "mpl.figure.prototype.handle_rubberband = function (fig, msg) {\n",
       "    var x0 = msg['x0'] / fig.ratio;\n",
       "    var y0 = (fig.canvas.height - msg['y0']) / fig.ratio;\n",
       "    var x1 = msg['x1'] / fig.ratio;\n",
       "    var y1 = (fig.canvas.height - msg['y1']) / fig.ratio;\n",
       "    x0 = Math.floor(x0) + 0.5;\n",
       "    y0 = Math.floor(y0) + 0.5;\n",
       "    x1 = Math.floor(x1) + 0.5;\n",
       "    y1 = Math.floor(y1) + 0.5;\n",
       "    var min_x = Math.min(x0, x1);\n",
       "    var min_y = Math.min(y0, y1);\n",
       "    var width = Math.abs(x1 - x0);\n",
       "    var height = Math.abs(y1 - y0);\n",
       "\n",
       "    fig.rubberband_context.clearRect(\n",
       "        0,\n",
       "        0,\n",
       "        fig.canvas.width / fig.ratio,\n",
       "        fig.canvas.height / fig.ratio\n",
       "    );\n",
       "\n",
       "    fig.rubberband_context.strokeRect(min_x, min_y, width, height);\n",
       "};\n",
       "\n",
       "mpl.figure.prototype.handle_figure_label = function (fig, msg) {\n",
       "    // Updates the figure title.\n",
       "    fig.header.textContent = msg['label'];\n",
       "};\n",
       "\n",
       "mpl.figure.prototype.handle_cursor = function (fig, msg) {\n",
       "    var cursor = msg['cursor'];\n",
       "    switch (cursor) {\n",
       "        case 0:\n",
       "            cursor = 'pointer';\n",
       "            break;\n",
       "        case 1:\n",
       "            cursor = 'default';\n",
       "            break;\n",
       "        case 2:\n",
       "            cursor = 'crosshair';\n",
       "            break;\n",
       "        case 3:\n",
       "            cursor = 'move';\n",
       "            break;\n",
       "    }\n",
       "    fig.rubberband_canvas.style.cursor = cursor;\n",
       "};\n",
       "\n",
       "mpl.figure.prototype.handle_message = function (fig, msg) {\n",
       "    fig.message.textContent = msg['message'];\n",
       "};\n",
       "\n",
       "mpl.figure.prototype.handle_draw = function (fig, _msg) {\n",
       "    // Request the server to send over a new figure.\n",
       "    fig.send_draw_message();\n",
       "};\n",
       "\n",
       "mpl.figure.prototype.handle_image_mode = function (fig, msg) {\n",
       "    fig.image_mode = msg['mode'];\n",
       "};\n",
       "\n",
       "mpl.figure.prototype.handle_history_buttons = function (fig, msg) {\n",
       "    for (var key in msg) {\n",
       "        if (!(key in fig.buttons)) {\n",
       "            continue;\n",
       "        }\n",
       "        fig.buttons[key].disabled = !msg[key];\n",
       "        fig.buttons[key].setAttribute('aria-disabled', !msg[key]);\n",
       "    }\n",
       "};\n",
       "\n",
       "mpl.figure.prototype.handle_navigate_mode = function (fig, msg) {\n",
       "    if (msg['mode'] === 'PAN') {\n",
       "        fig.buttons['Pan'].classList.add('active');\n",
       "        fig.buttons['Zoom'].classList.remove('active');\n",
       "    } else if (msg['mode'] === 'ZOOM') {\n",
       "        fig.buttons['Pan'].classList.remove('active');\n",
       "        fig.buttons['Zoom'].classList.add('active');\n",
       "    } else {\n",
       "        fig.buttons['Pan'].classList.remove('active');\n",
       "        fig.buttons['Zoom'].classList.remove('active');\n",
       "    }\n",
       "};\n",
       "\n",
       "mpl.figure.prototype.updated_canvas_event = function () {\n",
       "    // Called whenever the canvas gets updated.\n",
       "    this.send_message('ack', {});\n",
       "};\n",
       "\n",
       "// A function to construct a web socket function for onmessage handling.\n",
       "// Called in the figure constructor.\n",
       "mpl.figure.prototype._make_on_message_function = function (fig) {\n",
       "    return function socket_on_message(evt) {\n",
       "        if (evt.data instanceof Blob) {\n",
       "            /* FIXME: We get \"Resource interpreted as Image but\n",
       "             * transferred with MIME type text/plain:\" errors on\n",
       "             * Chrome.  But how to set the MIME type?  It doesn't seem\n",
       "             * to be part of the websocket stream */\n",
       "            evt.data.type = 'image/png';\n",
       "\n",
       "            /* Free the memory for the previous frames */\n",
       "            if (fig.imageObj.src) {\n",
       "                (window.URL || window.webkitURL).revokeObjectURL(\n",
       "                    fig.imageObj.src\n",
       "                );\n",
       "            }\n",
       "\n",
       "            fig.imageObj.src = (window.URL || window.webkitURL).createObjectURL(\n",
       "                evt.data\n",
       "            );\n",
       "            fig.updated_canvas_event();\n",
       "            fig.waiting = false;\n",
       "            return;\n",
       "        } else if (\n",
       "            typeof evt.data === 'string' &&\n",
       "            evt.data.slice(0, 21) === 'data:image/png;base64'\n",
       "        ) {\n",
       "            fig.imageObj.src = evt.data;\n",
       "            fig.updated_canvas_event();\n",
       "            fig.waiting = false;\n",
       "            return;\n",
       "        }\n",
       "\n",
       "        var msg = JSON.parse(evt.data);\n",
       "        var msg_type = msg['type'];\n",
       "\n",
       "        // Call the  \"handle_{type}\" callback, which takes\n",
       "        // the figure and JSON message as its only arguments.\n",
       "        try {\n",
       "            var callback = fig['handle_' + msg_type];\n",
       "        } catch (e) {\n",
       "            console.log(\n",
       "                \"No handler for the '\" + msg_type + \"' message type: \",\n",
       "                msg\n",
       "            );\n",
       "            return;\n",
       "        }\n",
       "\n",
       "        if (callback) {\n",
       "            try {\n",
       "                // console.log(\"Handling '\" + msg_type + \"' message: \", msg);\n",
       "                callback(fig, msg);\n",
       "            } catch (e) {\n",
       "                console.log(\n",
       "                    \"Exception inside the 'handler_\" + msg_type + \"' callback:\",\n",
       "                    e,\n",
       "                    e.stack,\n",
       "                    msg\n",
       "                );\n",
       "            }\n",
       "        }\n",
       "    };\n",
       "};\n",
       "\n",
       "// from http://stackoverflow.com/questions/1114465/getting-mouse-location-in-canvas\n",
       "mpl.findpos = function (e) {\n",
       "    //this section is from http://www.quirksmode.org/js/events_properties.html\n",
       "    var targ;\n",
       "    if (!e) {\n",
       "        e = window.event;\n",
       "    }\n",
       "    if (e.target) {\n",
       "        targ = e.target;\n",
       "    } else if (e.srcElement) {\n",
       "        targ = e.srcElement;\n",
       "    }\n",
       "    if (targ.nodeType === 3) {\n",
       "        // defeat Safari bug\n",
       "        targ = targ.parentNode;\n",
       "    }\n",
       "\n",
       "    // pageX,Y are the mouse positions relative to the document\n",
       "    var boundingRect = targ.getBoundingClientRect();\n",
       "    var x = e.pageX - (boundingRect.left + document.body.scrollLeft);\n",
       "    var y = e.pageY - (boundingRect.top + document.body.scrollTop);\n",
       "\n",
       "    return { x: x, y: y };\n",
       "};\n",
       "\n",
       "/*\n",
       " * return a copy of an object with only non-object keys\n",
       " * we need this to avoid circular references\n",
       " * http://stackoverflow.com/a/24161582/3208463\n",
       " */\n",
       "function simpleKeys(original) {\n",
       "    return Object.keys(original).reduce(function (obj, key) {\n",
       "        if (typeof original[key] !== 'object') {\n",
       "            obj[key] = original[key];\n",
       "        }\n",
       "        return obj;\n",
       "    }, {});\n",
       "}\n",
       "\n",
       "mpl.figure.prototype.mouse_event = function (event, name) {\n",
       "    var canvas_pos = mpl.findpos(event);\n",
       "\n",
       "    if (name === 'button_press') {\n",
       "        this.canvas.focus();\n",
       "        this.canvas_div.focus();\n",
       "    }\n",
       "\n",
       "    var x = canvas_pos.x * this.ratio;\n",
       "    var y = canvas_pos.y * this.ratio;\n",
       "\n",
       "    this.send_message(name, {\n",
       "        x: x,\n",
       "        y: y,\n",
       "        button: event.button,\n",
       "        step: event.step,\n",
       "        guiEvent: simpleKeys(event),\n",
       "    });\n",
       "\n",
       "    /* This prevents the web browser from automatically changing to\n",
       "     * the text insertion cursor when the button is pressed.  We want\n",
       "     * to control all of the cursor setting manually through the\n",
       "     * 'cursor' event from matplotlib */\n",
       "    event.preventDefault();\n",
       "    return false;\n",
       "};\n",
       "\n",
       "mpl.figure.prototype._key_event_extra = function (_event, _name) {\n",
       "    // Handle any extra behaviour associated with a key event\n",
       "};\n",
       "\n",
       "mpl.figure.prototype.key_event = function (event, name) {\n",
       "    // Prevent repeat events\n",
       "    if (name === 'key_press') {\n",
       "        if (event.which === this._key) {\n",
       "            return;\n",
       "        } else {\n",
       "            this._key = event.which;\n",
       "        }\n",
       "    }\n",
       "    if (name === 'key_release') {\n",
       "        this._key = null;\n",
       "    }\n",
       "\n",
       "    var value = '';\n",
       "    if (event.ctrlKey && event.which !== 17) {\n",
       "        value += 'ctrl+';\n",
       "    }\n",
       "    if (event.altKey && event.which !== 18) {\n",
       "        value += 'alt+';\n",
       "    }\n",
       "    if (event.shiftKey && event.which !== 16) {\n",
       "        value += 'shift+';\n",
       "    }\n",
       "\n",
       "    value += 'k';\n",
       "    value += event.which.toString();\n",
       "\n",
       "    this._key_event_extra(event, name);\n",
       "\n",
       "    this.send_message(name, { key: value, guiEvent: simpleKeys(event) });\n",
       "    return false;\n",
       "};\n",
       "\n",
       "mpl.figure.prototype.toolbar_button_onclick = function (name) {\n",
       "    if (name === 'download') {\n",
       "        this.handle_save(this, null);\n",
       "    } else {\n",
       "        this.send_message('toolbar_button', { name: name });\n",
       "    }\n",
       "};\n",
       "\n",
       "mpl.figure.prototype.toolbar_button_onmouseover = function (tooltip) {\n",
       "    this.message.textContent = tooltip;\n",
       "};\n",
       "mpl.toolbar_items = [[\"Home\", \"Reset original view\", \"fa fa-home icon-home\", \"home\"], [\"Back\", \"Back to previous view\", \"fa fa-arrow-left icon-arrow-left\", \"back\"], [\"Forward\", \"Forward to next view\", \"fa fa-arrow-right icon-arrow-right\", \"forward\"], [\"\", \"\", \"\", \"\"], [\"Pan\", \"Left button pans, Right button zooms\\nx/y fixes axis, CTRL fixes aspect\", \"fa fa-arrows icon-move\", \"pan\"], [\"Zoom\", \"Zoom to rectangle\\nx/y fixes axis, CTRL fixes aspect\", \"fa fa-square-o icon-check-empty\", \"zoom\"], [\"\", \"\", \"\", \"\"], [\"Download\", \"Download plot\", \"fa fa-floppy-o icon-save\", \"download\"]];\n",
       "\n",
       "mpl.extensions = [\"eps\", \"jpeg\", \"pdf\", \"png\", \"ps\", \"raw\", \"svg\", \"tif\"];\n",
       "\n",
       "mpl.default_extension = \"png\";/* global mpl */\n",
       "\n",
       "var comm_websocket_adapter = function (comm) {\n",
       "    // Create a \"websocket\"-like object which calls the given IPython comm\n",
       "    // object with the appropriate methods. Currently this is a non binary\n",
       "    // socket, so there is still some room for performance tuning.\n",
       "    var ws = {};\n",
       "\n",
       "    ws.close = function () {\n",
       "        comm.close();\n",
       "    };\n",
       "    ws.send = function (m) {\n",
       "        //console.log('sending', m);\n",
       "        comm.send(m);\n",
       "    };\n",
       "    // Register the callback with on_msg.\n",
       "    comm.on_msg(function (msg) {\n",
       "        //console.log('receiving', msg['content']['data'], msg);\n",
       "        // Pass the mpl event to the overridden (by mpl) onmessage function.\n",
       "        ws.onmessage(msg['content']['data']);\n",
       "    });\n",
       "    return ws;\n",
       "};\n",
       "\n",
       "mpl.mpl_figure_comm = function (comm, msg) {\n",
       "    // This is the function which gets called when the mpl process\n",
       "    // starts-up an IPython Comm through the \"matplotlib\" channel.\n",
       "\n",
       "    var id = msg.content.data.id;\n",
       "    // Get hold of the div created by the display call when the Comm\n",
       "    // socket was opened in Python.\n",
       "    var element = document.getElementById(id);\n",
       "    var ws_proxy = comm_websocket_adapter(comm);\n",
       "\n",
       "    function ondownload(figure, _format) {\n",
       "        window.open(figure.canvas.toDataURL());\n",
       "    }\n",
       "\n",
       "    var fig = new mpl.figure(id, ws_proxy, ondownload, element);\n",
       "\n",
       "    // Call onopen now - mpl needs it, as it is assuming we've passed it a real\n",
       "    // web socket which is closed, not our websocket->open comm proxy.\n",
       "    ws_proxy.onopen();\n",
       "\n",
       "    fig.parent_element = element;\n",
       "    fig.cell_info = mpl.find_output_cell(\"<div id='\" + id + \"'></div>\");\n",
       "    if (!fig.cell_info) {\n",
       "        console.error('Failed to find cell for figure', id, fig);\n",
       "        return;\n",
       "    }\n",
       "    fig.cell_info[0].output_area.element.one(\n",
       "        'cleared',\n",
       "        { fig: fig },\n",
       "        fig._remove_fig_handler\n",
       "    );\n",
       "};\n",
       "\n",
       "mpl.figure.prototype.handle_close = function (fig, msg) {\n",
       "    var width = fig.canvas.width / fig.ratio;\n",
       "    fig.cell_info[0].output_area.element.off(\n",
       "        'cleared',\n",
       "        fig._remove_fig_handler\n",
       "    );\n",
       "\n",
       "    // Update the output cell to use the data from the current canvas.\n",
       "    fig.push_to_output();\n",
       "    var dataURL = fig.canvas.toDataURL();\n",
       "    // Re-enable the keyboard manager in IPython - without this line, in FF,\n",
       "    // the notebook keyboard shortcuts fail.\n",
       "    IPython.keyboard_manager.enable();\n",
       "    fig.parent_element.innerHTML =\n",
       "        '<img src=\"' + dataURL + '\" width=\"' + width + '\">';\n",
       "    fig.close_ws(fig, msg);\n",
       "};\n",
       "\n",
       "mpl.figure.prototype.close_ws = function (fig, msg) {\n",
       "    fig.send_message('closing', msg);\n",
       "    // fig.ws.close()\n",
       "};\n",
       "\n",
       "mpl.figure.prototype.push_to_output = function (_remove_interactive) {\n",
       "    // Turn the data on the canvas into data in the output cell.\n",
       "    var width = this.canvas.width / this.ratio;\n",
       "    var dataURL = this.canvas.toDataURL();\n",
       "    this.cell_info[1]['text/html'] =\n",
       "        '<img src=\"' + dataURL + '\" width=\"' + width + '\">';\n",
       "};\n",
       "\n",
       "mpl.figure.prototype.updated_canvas_event = function () {\n",
       "    // Tell IPython that the notebook contents must change.\n",
       "    IPython.notebook.set_dirty(true);\n",
       "    this.send_message('ack', {});\n",
       "    var fig = this;\n",
       "    // Wait a second, then push the new image to the DOM so\n",
       "    // that it is saved nicely (might be nice to debounce this).\n",
       "    setTimeout(function () {\n",
       "        fig.push_to_output();\n",
       "    }, 1000);\n",
       "};\n",
       "\n",
       "mpl.figure.prototype._init_toolbar = function () {\n",
       "    var fig = this;\n",
       "\n",
       "    var toolbar = document.createElement('div');\n",
       "    toolbar.classList = 'btn-toolbar';\n",
       "    this.root.appendChild(toolbar);\n",
       "\n",
       "    function on_click_closure(name) {\n",
       "        return function (_event) {\n",
       "            return fig.toolbar_button_onclick(name);\n",
       "        };\n",
       "    }\n",
       "\n",
       "    function on_mouseover_closure(tooltip) {\n",
       "        return function (event) {\n",
       "            if (!event.currentTarget.disabled) {\n",
       "                return fig.toolbar_button_onmouseover(tooltip);\n",
       "            }\n",
       "        };\n",
       "    }\n",
       "\n",
       "    fig.buttons = {};\n",
       "    var buttonGroup = document.createElement('div');\n",
       "    buttonGroup.classList = 'btn-group';\n",
       "    var button;\n",
       "    for (var toolbar_ind in mpl.toolbar_items) {\n",
       "        var name = mpl.toolbar_items[toolbar_ind][0];\n",
       "        var tooltip = mpl.toolbar_items[toolbar_ind][1];\n",
       "        var image = mpl.toolbar_items[toolbar_ind][2];\n",
       "        var method_name = mpl.toolbar_items[toolbar_ind][3];\n",
       "\n",
       "        if (!name) {\n",
       "            /* Instead of a spacer, we start a new button group. */\n",
       "            if (buttonGroup.hasChildNodes()) {\n",
       "                toolbar.appendChild(buttonGroup);\n",
       "            }\n",
       "            buttonGroup = document.createElement('div');\n",
       "            buttonGroup.classList = 'btn-group';\n",
       "            continue;\n",
       "        }\n",
       "\n",
       "        button = fig.buttons[name] = document.createElement('button');\n",
       "        button.classList = 'btn btn-default';\n",
       "        button.href = '#';\n",
       "        button.title = name;\n",
       "        button.innerHTML = '<i class=\"fa ' + image + ' fa-lg\"></i>';\n",
       "        button.addEventListener('click', on_click_closure(method_name));\n",
       "        button.addEventListener('mouseover', on_mouseover_closure(tooltip));\n",
       "        buttonGroup.appendChild(button);\n",
       "    }\n",
       "\n",
       "    if (buttonGroup.hasChildNodes()) {\n",
       "        toolbar.appendChild(buttonGroup);\n",
       "    }\n",
       "\n",
       "    // Add the status bar.\n",
       "    var status_bar = document.createElement('span');\n",
       "    status_bar.classList = 'mpl-message pull-right';\n",
       "    toolbar.appendChild(status_bar);\n",
       "    this.message = status_bar;\n",
       "\n",
       "    // Add the close button to the window.\n",
       "    var buttongrp = document.createElement('div');\n",
       "    buttongrp.classList = 'btn-group inline pull-right';\n",
       "    button = document.createElement('button');\n",
       "    button.classList = 'btn btn-mini btn-primary';\n",
       "    button.href = '#';\n",
       "    button.title = 'Stop Interaction';\n",
       "    button.innerHTML = '<i class=\"fa fa-power-off icon-remove icon-large\"></i>';\n",
       "    button.addEventListener('click', function (_evt) {\n",
       "        fig.handle_close(fig, {});\n",
       "    });\n",
       "    button.addEventListener(\n",
       "        'mouseover',\n",
       "        on_mouseover_closure('Stop Interaction')\n",
       "    );\n",
       "    buttongrp.appendChild(button);\n",
       "    var titlebar = this.root.querySelector('.ui-dialog-titlebar');\n",
       "    titlebar.insertBefore(buttongrp, titlebar.firstChild);\n",
       "};\n",
       "\n",
       "mpl.figure.prototype._remove_fig_handler = function (event) {\n",
       "    var fig = event.data.fig;\n",
       "    fig.close_ws(fig, {});\n",
       "};\n",
       "\n",
       "mpl.figure.prototype._root_extra_style = function (el) {\n",
       "    el.style.boxSizing = 'content-box'; // override notebook setting of border-box.\n",
       "};\n",
       "\n",
       "mpl.figure.prototype._canvas_extra_style = function (el) {\n",
       "    // this is important to make the div 'focusable\n",
       "    el.setAttribute('tabindex', 0);\n",
       "    // reach out to IPython and tell the keyboard manager to turn it's self\n",
       "    // off when our div gets focus\n",
       "\n",
       "    // location in version 3\n",
       "    if (IPython.notebook.keyboard_manager) {\n",
       "        IPython.notebook.keyboard_manager.register_events(el);\n",
       "    } else {\n",
       "        // location in version 2\n",
       "        IPython.keyboard_manager.register_events(el);\n",
       "    }\n",
       "};\n",
       "\n",
       "mpl.figure.prototype._key_event_extra = function (event, _name) {\n",
       "    var manager = IPython.notebook.keyboard_manager;\n",
       "    if (!manager) {\n",
       "        manager = IPython.keyboard_manager;\n",
       "    }\n",
       "\n",
       "    // Check for shift+enter\n",
       "    if (event.shiftKey && event.which === 13) {\n",
       "        this.canvas_div.blur();\n",
       "        // select the cell after this one\n",
       "        var index = IPython.notebook.find_cell_index(this.cell_info[0]);\n",
       "        IPython.notebook.select(index + 1);\n",
       "    }\n",
       "};\n",
       "\n",
       "mpl.figure.prototype.handle_save = function (fig, _msg) {\n",
       "    fig.ondownload(fig, null);\n",
       "};\n",
       "\n",
       "mpl.find_output_cell = function (html_output) {\n",
       "    // Return the cell and output element which can be found *uniquely* in the notebook.\n",
       "    // Note - this is a bit hacky, but it is done because the \"notebook_saving.Notebook\"\n",
       "    // IPython event is triggered only after the cells have been serialised, which for\n",
       "    // our purposes (turning an active figure into a static one), is too late.\n",
       "    var cells = IPython.notebook.get_cells();\n",
       "    var ncells = cells.length;\n",
       "    for (var i = 0; i < ncells; i++) {\n",
       "        var cell = cells[i];\n",
       "        if (cell.cell_type === 'code') {\n",
       "            for (var j = 0; j < cell.output_area.outputs.length; j++) {\n",
       "                var data = cell.output_area.outputs[j];\n",
       "                if (data.data) {\n",
       "                    // IPython >= 3 moved mimebundle to data attribute of output\n",
       "                    data = data.data;\n",
       "                }\n",
       "                if (data['text/html'] === html_output) {\n",
       "                    return [cell, data, j];\n",
       "                }\n",
       "            }\n",
       "        }\n",
       "    }\n",
       "};\n",
       "\n",
       "// Register the function which deals with the matplotlib target/channel.\n",
       "// The kernel may be null if the page has been refreshed.\n",
       "if (IPython.notebook.kernel !== null) {\n",
       "    IPython.notebook.kernel.comm_manager.register_target(\n",
       "        'matplotlib',\n",
       "        mpl.mpl_figure_comm\n",
       "    );\n",
       "}\n"
      ],
      "text/plain": [
       "<IPython.core.display.Javascript object>"
      ]
     },
     "metadata": {},
     "output_type": "display_data"
    },
    {
     "data": {
      "text/html": [
       "<img src=\"data:image/png;base64,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\" width=\"640\">"
      ],
      "text/plain": [
       "<IPython.core.display.HTML object>"
      ]
     },
     "metadata": {},
     "output_type": "display_data"
    },
    {
     "data": {
      "text/plain": [
       "<AxesSubplot:>"
      ]
     },
     "execution_count": 367,
     "metadata": {},
     "output_type": "execute_result"
    }
   ],
   "source": [
    "corr.plot()"
   ]
  },
  {
   "cell_type": "markdown",
   "metadata": {},
   "source": [
    "### 用户自定义的移动窗口函数"
   ]
  },
  {
   "cell_type": "markdown",
   "metadata": {},
   "source": [
    "在`rolling`及其相关方法上使用`apply`提供了一种在移动窗口中**应用自己设计的数组函数的方法**， 唯一的要求是该函数*从每个数组中产生一个单值*"
   ]
  },
  {
   "cell_type": "markdown",
   "metadata": {},
   "source": [
    "使用`rolling(...).quantile(q)`计算样本分位数"
   ]
  },
  {
   "cell_type": "code",
   "execution_count": 368,
   "metadata": {
    "ExecuteTime": {
     "end_time": "2020-11-18T05:19:50.539817Z",
     "start_time": "2020-11-18T05:19:50.536721Z"
    }
   },
   "outputs": [],
   "source": [
    "from scipy.stats import percentileofscore"
   ]
  },
  {
   "cell_type": "code",
   "execution_count": 371,
   "metadata": {
    "ExecuteTime": {
     "end_time": "2020-11-18T05:20:21.183415Z",
     "start_time": "2020-11-18T05:20:20.834638Z"
    }
   },
   "outputs": [
    {
     "data": {
      "application/javascript": [
       "/* Put everything inside the global mpl namespace */\n",
       "/* global mpl */\n",
       "window.mpl = {};\n",
       "\n",
       "mpl.get_websocket_type = function () {\n",
       "    if (typeof WebSocket !== 'undefined') {\n",
       "        return WebSocket;\n",
       "    } else if (typeof MozWebSocket !== 'undefined') {\n",
       "        return MozWebSocket;\n",
       "    } else {\n",
       "        alert(\n",
       "            'Your browser does not have WebSocket support. ' +\n",
       "                'Please try Chrome, Safari or Firefox ≥ 6. ' +\n",
       "                'Firefox 4 and 5 are also supported but you ' +\n",
       "                'have to enable WebSockets in about:config.'\n",
       "        );\n",
       "    }\n",
       "};\n",
       "\n",
       "mpl.figure = function (figure_id, websocket, ondownload, parent_element) {\n",
       "    this.id = figure_id;\n",
       "\n",
       "    this.ws = websocket;\n",
       "\n",
       "    this.supports_binary = this.ws.binaryType !== undefined;\n",
       "\n",
       "    if (!this.supports_binary) {\n",
       "        var warnings = document.getElementById('mpl-warnings');\n",
       "        if (warnings) {\n",
       "            warnings.style.display = 'block';\n",
       "            warnings.textContent =\n",
       "                'This browser does not support binary websocket messages. ' +\n",
       "                'Performance may be slow.';\n",
       "        }\n",
       "    }\n",
       "\n",
       "    this.imageObj = new Image();\n",
       "\n",
       "    this.context = undefined;\n",
       "    this.message = undefined;\n",
       "    this.canvas = undefined;\n",
       "    this.rubberband_canvas = undefined;\n",
       "    this.rubberband_context = undefined;\n",
       "    this.format_dropdown = undefined;\n",
       "\n",
       "    this.image_mode = 'full';\n",
       "\n",
       "    this.root = document.createElement('div');\n",
       "    this.root.setAttribute('style', 'display: inline-block');\n",
       "    this._root_extra_style(this.root);\n",
       "\n",
       "    parent_element.appendChild(this.root);\n",
       "\n",
       "    this._init_header(this);\n",
       "    this._init_canvas(this);\n",
       "    this._init_toolbar(this);\n",
       "\n",
       "    var fig = this;\n",
       "\n",
       "    this.waiting = false;\n",
       "\n",
       "    this.ws.onopen = function () {\n",
       "        fig.send_message('supports_binary', { value: fig.supports_binary });\n",
       "        fig.send_message('send_image_mode', {});\n",
       "        if (fig.ratio !== 1) {\n",
       "            fig.send_message('set_dpi_ratio', { dpi_ratio: fig.ratio });\n",
       "        }\n",
       "        fig.send_message('refresh', {});\n",
       "    };\n",
       "\n",
       "    this.imageObj.onload = function () {\n",
       "        if (fig.image_mode === 'full') {\n",
       "            // Full images could contain transparency (where diff images\n",
       "            // almost always do), so we need to clear the canvas so that\n",
       "            // there is no ghosting.\n",
       "            fig.context.clearRect(0, 0, fig.canvas.width, fig.canvas.height);\n",
       "        }\n",
       "        fig.context.drawImage(fig.imageObj, 0, 0);\n",
       "    };\n",
       "\n",
       "    this.imageObj.onunload = function () {\n",
       "        fig.ws.close();\n",
       "    };\n",
       "\n",
       "    this.ws.onmessage = this._make_on_message_function(this);\n",
       "\n",
       "    this.ondownload = ondownload;\n",
       "};\n",
       "\n",
       "mpl.figure.prototype._init_header = function () {\n",
       "    var titlebar = document.createElement('div');\n",
       "    titlebar.classList =\n",
       "        'ui-dialog-titlebar ui-widget-header ui-corner-all ui-helper-clearfix';\n",
       "    var titletext = document.createElement('div');\n",
       "    titletext.classList = 'ui-dialog-title';\n",
       "    titletext.setAttribute(\n",
       "        'style',\n",
       "        'width: 100%; text-align: center; padding: 3px;'\n",
       "    );\n",
       "    titlebar.appendChild(titletext);\n",
       "    this.root.appendChild(titlebar);\n",
       "    this.header = titletext;\n",
       "};\n",
       "\n",
       "mpl.figure.prototype._canvas_extra_style = function (_canvas_div) {};\n",
       "\n",
       "mpl.figure.prototype._root_extra_style = function (_canvas_div) {};\n",
       "\n",
       "mpl.figure.prototype._init_canvas = function () {\n",
       "    var fig = this;\n",
       "\n",
       "    var canvas_div = (this.canvas_div = document.createElement('div'));\n",
       "    canvas_div.setAttribute(\n",
       "        'style',\n",
       "        'border: 1px solid #ddd;' +\n",
       "            'box-sizing: content-box;' +\n",
       "            'clear: both;' +\n",
       "            'min-height: 1px;' +\n",
       "            'min-width: 1px;' +\n",
       "            'outline: 0;' +\n",
       "            'overflow: hidden;' +\n",
       "            'position: relative;' +\n",
       "            'resize: both;'\n",
       "    );\n",
       "\n",
       "    function on_keyboard_event_closure(name) {\n",
       "        return function (event) {\n",
       "            return fig.key_event(event, name);\n",
       "        };\n",
       "    }\n",
       "\n",
       "    canvas_div.addEventListener(\n",
       "        'keydown',\n",
       "        on_keyboard_event_closure('key_press')\n",
       "    );\n",
       "    canvas_div.addEventListener(\n",
       "        'keyup',\n",
       "        on_keyboard_event_closure('key_release')\n",
       "    );\n",
       "\n",
       "    this._canvas_extra_style(canvas_div);\n",
       "    this.root.appendChild(canvas_div);\n",
       "\n",
       "    var canvas = (this.canvas = document.createElement('canvas'));\n",
       "    canvas.classList.add('mpl-canvas');\n",
       "    canvas.setAttribute('style', 'box-sizing: content-box;');\n",
       "\n",
       "    this.context = canvas.getContext('2d');\n",
       "\n",
       "    var backingStore =\n",
       "        this.context.backingStorePixelRatio ||\n",
       "        this.context.webkitBackingStorePixelRatio ||\n",
       "        this.context.mozBackingStorePixelRatio ||\n",
       "        this.context.msBackingStorePixelRatio ||\n",
       "        this.context.oBackingStorePixelRatio ||\n",
       "        this.context.backingStorePixelRatio ||\n",
       "        1;\n",
       "\n",
       "    this.ratio = (window.devicePixelRatio || 1) / backingStore;\n",
       "    if (this.ratio !== 1) {\n",
       "        fig.send_message('set_dpi_ratio', { dpi_ratio: this.ratio });\n",
       "    }\n",
       "\n",
       "    var rubberband_canvas = (this.rubberband_canvas = document.createElement(\n",
       "        'canvas'\n",
       "    ));\n",
       "    rubberband_canvas.setAttribute(\n",
       "        'style',\n",
       "        'box-sizing: content-box; position: absolute; left: 0; top: 0; z-index: 1;'\n",
       "    );\n",
       "\n",
       "    var resizeObserver = new ResizeObserver(function (entries) {\n",
       "        var nentries = entries.length;\n",
       "        for (var i = 0; i < nentries; i++) {\n",
       "            var entry = entries[i];\n",
       "            var width, height;\n",
       "            if (entry.contentBoxSize) {\n",
       "                if (entry.contentBoxSize instanceof Array) {\n",
       "                    // Chrome 84 implements new version of spec.\n",
       "                    width = entry.contentBoxSize[0].inlineSize;\n",
       "                    height = entry.contentBoxSize[0].blockSize;\n",
       "                } else {\n",
       "                    // Firefox implements old version of spec.\n",
       "                    width = entry.contentBoxSize.inlineSize;\n",
       "                    height = entry.contentBoxSize.blockSize;\n",
       "                }\n",
       "            } else {\n",
       "                // Chrome <84 implements even older version of spec.\n",
       "                width = entry.contentRect.width;\n",
       "                height = entry.contentRect.height;\n",
       "            }\n",
       "\n",
       "            // Keep the size of the canvas and rubber band canvas in sync with\n",
       "            // the canvas container.\n",
       "            if (entry.devicePixelContentBoxSize) {\n",
       "                // Chrome 84 implements new version of spec.\n",
       "                canvas.setAttribute(\n",
       "                    'width',\n",
       "                    entry.devicePixelContentBoxSize[0].inlineSize\n",
       "                );\n",
       "                canvas.setAttribute(\n",
       "                    'height',\n",
       "                    entry.devicePixelContentBoxSize[0].blockSize\n",
       "                );\n",
       "            } else {\n",
       "                canvas.setAttribute('width', width * fig.ratio);\n",
       "                canvas.setAttribute('height', height * fig.ratio);\n",
       "            }\n",
       "            canvas.setAttribute(\n",
       "                'style',\n",
       "                'width: ' + width + 'px; height: ' + height + 'px;'\n",
       "            );\n",
       "\n",
       "            rubberband_canvas.setAttribute('width', width);\n",
       "            rubberband_canvas.setAttribute('height', height);\n",
       "\n",
       "            // And update the size in Python. We ignore the initial 0/0 size\n",
       "            // that occurs as the element is placed into the DOM, which should\n",
       "            // otherwise not happen due to the minimum size styling.\n",
       "            if (width != 0 && height != 0) {\n",
       "                fig.request_resize(width, height);\n",
       "            }\n",
       "        }\n",
       "    });\n",
       "    resizeObserver.observe(canvas_div);\n",
       "\n",
       "    function on_mouse_event_closure(name) {\n",
       "        return function (event) {\n",
       "            return fig.mouse_event(event, name);\n",
       "        };\n",
       "    }\n",
       "\n",
       "    rubberband_canvas.addEventListener(\n",
       "        'mousedown',\n",
       "        on_mouse_event_closure('button_press')\n",
       "    );\n",
       "    rubberband_canvas.addEventListener(\n",
       "        'mouseup',\n",
       "        on_mouse_event_closure('button_release')\n",
       "    );\n",
       "    // Throttle sequential mouse events to 1 every 20ms.\n",
       "    rubberband_canvas.addEventListener(\n",
       "        'mousemove',\n",
       "        on_mouse_event_closure('motion_notify')\n",
       "    );\n",
       "\n",
       "    rubberband_canvas.addEventListener(\n",
       "        'mouseenter',\n",
       "        on_mouse_event_closure('figure_enter')\n",
       "    );\n",
       "    rubberband_canvas.addEventListener(\n",
       "        'mouseleave',\n",
       "        on_mouse_event_closure('figure_leave')\n",
       "    );\n",
       "\n",
       "    canvas_div.addEventListener('wheel', function (event) {\n",
       "        if (event.deltaY < 0) {\n",
       "            event.step = 1;\n",
       "        } else {\n",
       "            event.step = -1;\n",
       "        }\n",
       "        on_mouse_event_closure('scroll')(event);\n",
       "    });\n",
       "\n",
       "    canvas_div.appendChild(canvas);\n",
       "    canvas_div.appendChild(rubberband_canvas);\n",
       "\n",
       "    this.rubberband_context = rubberband_canvas.getContext('2d');\n",
       "    this.rubberband_context.strokeStyle = '#000000';\n",
       "\n",
       "    this._resize_canvas = function (width, height, forward) {\n",
       "        if (forward) {\n",
       "            canvas_div.style.width = width + 'px';\n",
       "            canvas_div.style.height = height + 'px';\n",
       "        }\n",
       "    };\n",
       "\n",
       "    // Disable right mouse context menu.\n",
       "    this.rubberband_canvas.addEventListener('contextmenu', function (_e) {\n",
       "        event.preventDefault();\n",
       "        return false;\n",
       "    });\n",
       "\n",
       "    function set_focus() {\n",
       "        canvas.focus();\n",
       "        canvas_div.focus();\n",
       "    }\n",
       "\n",
       "    window.setTimeout(set_focus, 100);\n",
       "};\n",
       "\n",
       "mpl.figure.prototype._init_toolbar = function () {\n",
       "    var fig = this;\n",
       "\n",
       "    var toolbar = document.createElement('div');\n",
       "    toolbar.classList = 'mpl-toolbar';\n",
       "    this.root.appendChild(toolbar);\n",
       "\n",
       "    function on_click_closure(name) {\n",
       "        return function (_event) {\n",
       "            return fig.toolbar_button_onclick(name);\n",
       "        };\n",
       "    }\n",
       "\n",
       "    function on_mouseover_closure(tooltip) {\n",
       "        return function (event) {\n",
       "            if (!event.currentTarget.disabled) {\n",
       "                return fig.toolbar_button_onmouseover(tooltip);\n",
       "            }\n",
       "        };\n",
       "    }\n",
       "\n",
       "    fig.buttons = {};\n",
       "    var buttonGroup = document.createElement('div');\n",
       "    buttonGroup.classList = 'mpl-button-group';\n",
       "    for (var toolbar_ind in mpl.toolbar_items) {\n",
       "        var name = mpl.toolbar_items[toolbar_ind][0];\n",
       "        var tooltip = mpl.toolbar_items[toolbar_ind][1];\n",
       "        var image = mpl.toolbar_items[toolbar_ind][2];\n",
       "        var method_name = mpl.toolbar_items[toolbar_ind][3];\n",
       "\n",
       "        if (!name) {\n",
       "            /* Instead of a spacer, we start a new button group. */\n",
       "            if (buttonGroup.hasChildNodes()) {\n",
       "                toolbar.appendChild(buttonGroup);\n",
       "            }\n",
       "            buttonGroup = document.createElement('div');\n",
       "            buttonGroup.classList = 'mpl-button-group';\n",
       "            continue;\n",
       "        }\n",
       "\n",
       "        var button = (fig.buttons[name] = document.createElement('button'));\n",
       "        button.classList = 'mpl-widget';\n",
       "        button.setAttribute('role', 'button');\n",
       "        button.setAttribute('aria-disabled', 'false');\n",
       "        button.addEventListener('click', on_click_closure(method_name));\n",
       "        button.addEventListener('mouseover', on_mouseover_closure(tooltip));\n",
       "\n",
       "        var icon_img = document.createElement('img');\n",
       "        icon_img.src = '_images/' + image + '.png';\n",
       "        icon_img.srcset = '_images/' + image + '_large.png 2x';\n",
       "        icon_img.alt = tooltip;\n",
       "        button.appendChild(icon_img);\n",
       "\n",
       "        buttonGroup.appendChild(button);\n",
       "    }\n",
       "\n",
       "    if (buttonGroup.hasChildNodes()) {\n",
       "        toolbar.appendChild(buttonGroup);\n",
       "    }\n",
       "\n",
       "    var fmt_picker = document.createElement('select');\n",
       "    fmt_picker.classList = 'mpl-widget';\n",
       "    toolbar.appendChild(fmt_picker);\n",
       "    this.format_dropdown = fmt_picker;\n",
       "\n",
       "    for (var ind in mpl.extensions) {\n",
       "        var fmt = mpl.extensions[ind];\n",
       "        var option = document.createElement('option');\n",
       "        option.selected = fmt === mpl.default_extension;\n",
       "        option.innerHTML = fmt;\n",
       "        fmt_picker.appendChild(option);\n",
       "    }\n",
       "\n",
       "    var status_bar = document.createElement('span');\n",
       "    status_bar.classList = 'mpl-message';\n",
       "    toolbar.appendChild(status_bar);\n",
       "    this.message = status_bar;\n",
       "};\n",
       "\n",
       "mpl.figure.prototype.request_resize = function (x_pixels, y_pixels) {\n",
       "    // Request matplotlib to resize the figure. Matplotlib will then trigger a resize in the client,\n",
       "    // which will in turn request a refresh of the image.\n",
       "    this.send_message('resize', { width: x_pixels, height: y_pixels });\n",
       "};\n",
       "\n",
       "mpl.figure.prototype.send_message = function (type, properties) {\n",
       "    properties['type'] = type;\n",
       "    properties['figure_id'] = this.id;\n",
       "    this.ws.send(JSON.stringify(properties));\n",
       "};\n",
       "\n",
       "mpl.figure.prototype.send_draw_message = function () {\n",
       "    if (!this.waiting) {\n",
       "        this.waiting = true;\n",
       "        this.ws.send(JSON.stringify({ type: 'draw', figure_id: this.id }));\n",
       "    }\n",
       "};\n",
       "\n",
       "mpl.figure.prototype.handle_save = function (fig, _msg) {\n",
       "    var format_dropdown = fig.format_dropdown;\n",
       "    var format = format_dropdown.options[format_dropdown.selectedIndex].value;\n",
       "    fig.ondownload(fig, format);\n",
       "};\n",
       "\n",
       "mpl.figure.prototype.handle_resize = function (fig, msg) {\n",
       "    var size = msg['size'];\n",
       "    if (size[0] !== fig.canvas.width || size[1] !== fig.canvas.height) {\n",
       "        fig._resize_canvas(size[0], size[1], msg['forward']);\n",
       "        fig.send_message('refresh', {});\n",
       "    }\n",
       "};\n",
       "\n",
       "mpl.figure.prototype.handle_rubberband = function (fig, msg) {\n",
       "    var x0 = msg['x0'] / fig.ratio;\n",
       "    var y0 = (fig.canvas.height - msg['y0']) / fig.ratio;\n",
       "    var x1 = msg['x1'] / fig.ratio;\n",
       "    var y1 = (fig.canvas.height - msg['y1']) / fig.ratio;\n",
       "    x0 = Math.floor(x0) + 0.5;\n",
       "    y0 = Math.floor(y0) + 0.5;\n",
       "    x1 = Math.floor(x1) + 0.5;\n",
       "    y1 = Math.floor(y1) + 0.5;\n",
       "    var min_x = Math.min(x0, x1);\n",
       "    var min_y = Math.min(y0, y1);\n",
       "    var width = Math.abs(x1 - x0);\n",
       "    var height = Math.abs(y1 - y0);\n",
       "\n",
       "    fig.rubberband_context.clearRect(\n",
       "        0,\n",
       "        0,\n",
       "        fig.canvas.width / fig.ratio,\n",
       "        fig.canvas.height / fig.ratio\n",
       "    );\n",
       "\n",
       "    fig.rubberband_context.strokeRect(min_x, min_y, width, height);\n",
       "};\n",
       "\n",
       "mpl.figure.prototype.handle_figure_label = function (fig, msg) {\n",
       "    // Updates the figure title.\n",
       "    fig.header.textContent = msg['label'];\n",
       "};\n",
       "\n",
       "mpl.figure.prototype.handle_cursor = function (fig, msg) {\n",
       "    var cursor = msg['cursor'];\n",
       "    switch (cursor) {\n",
       "        case 0:\n",
       "            cursor = 'pointer';\n",
       "            break;\n",
       "        case 1:\n",
       "            cursor = 'default';\n",
       "            break;\n",
       "        case 2:\n",
       "            cursor = 'crosshair';\n",
       "            break;\n",
       "        case 3:\n",
       "            cursor = 'move';\n",
       "            break;\n",
       "    }\n",
       "    fig.rubberband_canvas.style.cursor = cursor;\n",
       "};\n",
       "\n",
       "mpl.figure.prototype.handle_message = function (fig, msg) {\n",
       "    fig.message.textContent = msg['message'];\n",
       "};\n",
       "\n",
       "mpl.figure.prototype.handle_draw = function (fig, _msg) {\n",
       "    // Request the server to send over a new figure.\n",
       "    fig.send_draw_message();\n",
       "};\n",
       "\n",
       "mpl.figure.prototype.handle_image_mode = function (fig, msg) {\n",
       "    fig.image_mode = msg['mode'];\n",
       "};\n",
       "\n",
       "mpl.figure.prototype.handle_history_buttons = function (fig, msg) {\n",
       "    for (var key in msg) {\n",
       "        if (!(key in fig.buttons)) {\n",
       "            continue;\n",
       "        }\n",
       "        fig.buttons[key].disabled = !msg[key];\n",
       "        fig.buttons[key].setAttribute('aria-disabled', !msg[key]);\n",
       "    }\n",
       "};\n",
       "\n",
       "mpl.figure.prototype.handle_navigate_mode = function (fig, msg) {\n",
       "    if (msg['mode'] === 'PAN') {\n",
       "        fig.buttons['Pan'].classList.add('active');\n",
       "        fig.buttons['Zoom'].classList.remove('active');\n",
       "    } else if (msg['mode'] === 'ZOOM') {\n",
       "        fig.buttons['Pan'].classList.remove('active');\n",
       "        fig.buttons['Zoom'].classList.add('active');\n",
       "    } else {\n",
       "        fig.buttons['Pan'].classList.remove('active');\n",
       "        fig.buttons['Zoom'].classList.remove('active');\n",
       "    }\n",
       "};\n",
       "\n",
       "mpl.figure.prototype.updated_canvas_event = function () {\n",
       "    // Called whenever the canvas gets updated.\n",
       "    this.send_message('ack', {});\n",
       "};\n",
       "\n",
       "// A function to construct a web socket function for onmessage handling.\n",
       "// Called in the figure constructor.\n",
       "mpl.figure.prototype._make_on_message_function = function (fig) {\n",
       "    return function socket_on_message(evt) {\n",
       "        if (evt.data instanceof Blob) {\n",
       "            /* FIXME: We get \"Resource interpreted as Image but\n",
       "             * transferred with MIME type text/plain:\" errors on\n",
       "             * Chrome.  But how to set the MIME type?  It doesn't seem\n",
       "             * to be part of the websocket stream */\n",
       "            evt.data.type = 'image/png';\n",
       "\n",
       "            /* Free the memory for the previous frames */\n",
       "            if (fig.imageObj.src) {\n",
       "                (window.URL || window.webkitURL).revokeObjectURL(\n",
       "                    fig.imageObj.src\n",
       "                );\n",
       "            }\n",
       "\n",
       "            fig.imageObj.src = (window.URL || window.webkitURL).createObjectURL(\n",
       "                evt.data\n",
       "            );\n",
       "            fig.updated_canvas_event();\n",
       "            fig.waiting = false;\n",
       "            return;\n",
       "        } else if (\n",
       "            typeof evt.data === 'string' &&\n",
       "            evt.data.slice(0, 21) === 'data:image/png;base64'\n",
       "        ) {\n",
       "            fig.imageObj.src = evt.data;\n",
       "            fig.updated_canvas_event();\n",
       "            fig.waiting = false;\n",
       "            return;\n",
       "        }\n",
       "\n",
       "        var msg = JSON.parse(evt.data);\n",
       "        var msg_type = msg['type'];\n",
       "\n",
       "        // Call the  \"handle_{type}\" callback, which takes\n",
       "        // the figure and JSON message as its only arguments.\n",
       "        try {\n",
       "            var callback = fig['handle_' + msg_type];\n",
       "        } catch (e) {\n",
       "            console.log(\n",
       "                \"No handler for the '\" + msg_type + \"' message type: \",\n",
       "                msg\n",
       "            );\n",
       "            return;\n",
       "        }\n",
       "\n",
       "        if (callback) {\n",
       "            try {\n",
       "                // console.log(\"Handling '\" + msg_type + \"' message: \", msg);\n",
       "                callback(fig, msg);\n",
       "            } catch (e) {\n",
       "                console.log(\n",
       "                    \"Exception inside the 'handler_\" + msg_type + \"' callback:\",\n",
       "                    e,\n",
       "                    e.stack,\n",
       "                    msg\n",
       "                );\n",
       "            }\n",
       "        }\n",
       "    };\n",
       "};\n",
       "\n",
       "// from http://stackoverflow.com/questions/1114465/getting-mouse-location-in-canvas\n",
       "mpl.findpos = function (e) {\n",
       "    //this section is from http://www.quirksmode.org/js/events_properties.html\n",
       "    var targ;\n",
       "    if (!e) {\n",
       "        e = window.event;\n",
       "    }\n",
       "    if (e.target) {\n",
       "        targ = e.target;\n",
       "    } else if (e.srcElement) {\n",
       "        targ = e.srcElement;\n",
       "    }\n",
       "    if (targ.nodeType === 3) {\n",
       "        // defeat Safari bug\n",
       "        targ = targ.parentNode;\n",
       "    }\n",
       "\n",
       "    // pageX,Y are the mouse positions relative to the document\n",
       "    var boundingRect = targ.getBoundingClientRect();\n",
       "    var x = e.pageX - (boundingRect.left + document.body.scrollLeft);\n",
       "    var y = e.pageY - (boundingRect.top + document.body.scrollTop);\n",
       "\n",
       "    return { x: x, y: y };\n",
       "};\n",
       "\n",
       "/*\n",
       " * return a copy of an object with only non-object keys\n",
       " * we need this to avoid circular references\n",
       " * http://stackoverflow.com/a/24161582/3208463\n",
       " */\n",
       "function simpleKeys(original) {\n",
       "    return Object.keys(original).reduce(function (obj, key) {\n",
       "        if (typeof original[key] !== 'object') {\n",
       "            obj[key] = original[key];\n",
       "        }\n",
       "        return obj;\n",
       "    }, {});\n",
       "}\n",
       "\n",
       "mpl.figure.prototype.mouse_event = function (event, name) {\n",
       "    var canvas_pos = mpl.findpos(event);\n",
       "\n",
       "    if (name === 'button_press') {\n",
       "        this.canvas.focus();\n",
       "        this.canvas_div.focus();\n",
       "    }\n",
       "\n",
       "    var x = canvas_pos.x * this.ratio;\n",
       "    var y = canvas_pos.y * this.ratio;\n",
       "\n",
       "    this.send_message(name, {\n",
       "        x: x,\n",
       "        y: y,\n",
       "        button: event.button,\n",
       "        step: event.step,\n",
       "        guiEvent: simpleKeys(event),\n",
       "    });\n",
       "\n",
       "    /* This prevents the web browser from automatically changing to\n",
       "     * the text insertion cursor when the button is pressed.  We want\n",
       "     * to control all of the cursor setting manually through the\n",
       "     * 'cursor' event from matplotlib */\n",
       "    event.preventDefault();\n",
       "    return false;\n",
       "};\n",
       "\n",
       "mpl.figure.prototype._key_event_extra = function (_event, _name) {\n",
       "    // Handle any extra behaviour associated with a key event\n",
       "};\n",
       "\n",
       "mpl.figure.prototype.key_event = function (event, name) {\n",
       "    // Prevent repeat events\n",
       "    if (name === 'key_press') {\n",
       "        if (event.which === this._key) {\n",
       "            return;\n",
       "        } else {\n",
       "            this._key = event.which;\n",
       "        }\n",
       "    }\n",
       "    if (name === 'key_release') {\n",
       "        this._key = null;\n",
       "    }\n",
       "\n",
       "    var value = '';\n",
       "    if (event.ctrlKey && event.which !== 17) {\n",
       "        value += 'ctrl+';\n",
       "    }\n",
       "    if (event.altKey && event.which !== 18) {\n",
       "        value += 'alt+';\n",
       "    }\n",
       "    if (event.shiftKey && event.which !== 16) {\n",
       "        value += 'shift+';\n",
       "    }\n",
       "\n",
       "    value += 'k';\n",
       "    value += event.which.toString();\n",
       "\n",
       "    this._key_event_extra(event, name);\n",
       "\n",
       "    this.send_message(name, { key: value, guiEvent: simpleKeys(event) });\n",
       "    return false;\n",
       "};\n",
       "\n",
       "mpl.figure.prototype.toolbar_button_onclick = function (name) {\n",
       "    if (name === 'download') {\n",
       "        this.handle_save(this, null);\n",
       "    } else {\n",
       "        this.send_message('toolbar_button', { name: name });\n",
       "    }\n",
       "};\n",
       "\n",
       "mpl.figure.prototype.toolbar_button_onmouseover = function (tooltip) {\n",
       "    this.message.textContent = tooltip;\n",
       "};\n",
       "mpl.toolbar_items = [[\"Home\", \"Reset original view\", \"fa fa-home icon-home\", \"home\"], [\"Back\", \"Back to previous view\", \"fa fa-arrow-left icon-arrow-left\", \"back\"], [\"Forward\", \"Forward to next view\", \"fa fa-arrow-right icon-arrow-right\", \"forward\"], [\"\", \"\", \"\", \"\"], [\"Pan\", \"Left button pans, Right button zooms\\nx/y fixes axis, CTRL fixes aspect\", \"fa fa-arrows icon-move\", \"pan\"], [\"Zoom\", \"Zoom to rectangle\\nx/y fixes axis, CTRL fixes aspect\", \"fa fa-square-o icon-check-empty\", \"zoom\"], [\"\", \"\", \"\", \"\"], [\"Download\", \"Download plot\", \"fa fa-floppy-o icon-save\", \"download\"]];\n",
       "\n",
       "mpl.extensions = [\"eps\", \"jpeg\", \"pdf\", \"png\", \"ps\", \"raw\", \"svg\", \"tif\"];\n",
       "\n",
       "mpl.default_extension = \"png\";/* global mpl */\n",
       "\n",
       "var comm_websocket_adapter = function (comm) {\n",
       "    // Create a \"websocket\"-like object which calls the given IPython comm\n",
       "    // object with the appropriate methods. Currently this is a non binary\n",
       "    // socket, so there is still some room for performance tuning.\n",
       "    var ws = {};\n",
       "\n",
       "    ws.close = function () {\n",
       "        comm.close();\n",
       "    };\n",
       "    ws.send = function (m) {\n",
       "        //console.log('sending', m);\n",
       "        comm.send(m);\n",
       "    };\n",
       "    // Register the callback with on_msg.\n",
       "    comm.on_msg(function (msg) {\n",
       "        //console.log('receiving', msg['content']['data'], msg);\n",
       "        // Pass the mpl event to the overridden (by mpl) onmessage function.\n",
       "        ws.onmessage(msg['content']['data']);\n",
       "    });\n",
       "    return ws;\n",
       "};\n",
       "\n",
       "mpl.mpl_figure_comm = function (comm, msg) {\n",
       "    // This is the function which gets called when the mpl process\n",
       "    // starts-up an IPython Comm through the \"matplotlib\" channel.\n",
       "\n",
       "    var id = msg.content.data.id;\n",
       "    // Get hold of the div created by the display call when the Comm\n",
       "    // socket was opened in Python.\n",
       "    var element = document.getElementById(id);\n",
       "    var ws_proxy = comm_websocket_adapter(comm);\n",
       "\n",
       "    function ondownload(figure, _format) {\n",
       "        window.open(figure.canvas.toDataURL());\n",
       "    }\n",
       "\n",
       "    var fig = new mpl.figure(id, ws_proxy, ondownload, element);\n",
       "\n",
       "    // Call onopen now - mpl needs it, as it is assuming we've passed it a real\n",
       "    // web socket which is closed, not our websocket->open comm proxy.\n",
       "    ws_proxy.onopen();\n",
       "\n",
       "    fig.parent_element = element;\n",
       "    fig.cell_info = mpl.find_output_cell(\"<div id='\" + id + \"'></div>\");\n",
       "    if (!fig.cell_info) {\n",
       "        console.error('Failed to find cell for figure', id, fig);\n",
       "        return;\n",
       "    }\n",
       "    fig.cell_info[0].output_area.element.one(\n",
       "        'cleared',\n",
       "        { fig: fig },\n",
       "        fig._remove_fig_handler\n",
       "    );\n",
       "};\n",
       "\n",
       "mpl.figure.prototype.handle_close = function (fig, msg) {\n",
       "    var width = fig.canvas.width / fig.ratio;\n",
       "    fig.cell_info[0].output_area.element.off(\n",
       "        'cleared',\n",
       "        fig._remove_fig_handler\n",
       "    );\n",
       "\n",
       "    // Update the output cell to use the data from the current canvas.\n",
       "    fig.push_to_output();\n",
       "    var dataURL = fig.canvas.toDataURL();\n",
       "    // Re-enable the keyboard manager in IPython - without this line, in FF,\n",
       "    // the notebook keyboard shortcuts fail.\n",
       "    IPython.keyboard_manager.enable();\n",
       "    fig.parent_element.innerHTML =\n",
       "        '<img src=\"' + dataURL + '\" width=\"' + width + '\">';\n",
       "    fig.close_ws(fig, msg);\n",
       "};\n",
       "\n",
       "mpl.figure.prototype.close_ws = function (fig, msg) {\n",
       "    fig.send_message('closing', msg);\n",
       "    // fig.ws.close()\n",
       "};\n",
       "\n",
       "mpl.figure.prototype.push_to_output = function (_remove_interactive) {\n",
       "    // Turn the data on the canvas into data in the output cell.\n",
       "    var width = this.canvas.width / this.ratio;\n",
       "    var dataURL = this.canvas.toDataURL();\n",
       "    this.cell_info[1]['text/html'] =\n",
       "        '<img src=\"' + dataURL + '\" width=\"' + width + '\">';\n",
       "};\n",
       "\n",
       "mpl.figure.prototype.updated_canvas_event = function () {\n",
       "    // Tell IPython that the notebook contents must change.\n",
       "    IPython.notebook.set_dirty(true);\n",
       "    this.send_message('ack', {});\n",
       "    var fig = this;\n",
       "    // Wait a second, then push the new image to the DOM so\n",
       "    // that it is saved nicely (might be nice to debounce this).\n",
       "    setTimeout(function () {\n",
       "        fig.push_to_output();\n",
       "    }, 1000);\n",
       "};\n",
       "\n",
       "mpl.figure.prototype._init_toolbar = function () {\n",
       "    var fig = this;\n",
       "\n",
       "    var toolbar = document.createElement('div');\n",
       "    toolbar.classList = 'btn-toolbar';\n",
       "    this.root.appendChild(toolbar);\n",
       "\n",
       "    function on_click_closure(name) {\n",
       "        return function (_event) {\n",
       "            return fig.toolbar_button_onclick(name);\n",
       "        };\n",
       "    }\n",
       "\n",
       "    function on_mouseover_closure(tooltip) {\n",
       "        return function (event) {\n",
       "            if (!event.currentTarget.disabled) {\n",
       "                return fig.toolbar_button_onmouseover(tooltip);\n",
       "            }\n",
       "        };\n",
       "    }\n",
       "\n",
       "    fig.buttons = {};\n",
       "    var buttonGroup = document.createElement('div');\n",
       "    buttonGroup.classList = 'btn-group';\n",
       "    var button;\n",
       "    for (var toolbar_ind in mpl.toolbar_items) {\n",
       "        var name = mpl.toolbar_items[toolbar_ind][0];\n",
       "        var tooltip = mpl.toolbar_items[toolbar_ind][1];\n",
       "        var image = mpl.toolbar_items[toolbar_ind][2];\n",
       "        var method_name = mpl.toolbar_items[toolbar_ind][3];\n",
       "\n",
       "        if (!name) {\n",
       "            /* Instead of a spacer, we start a new button group. */\n",
       "            if (buttonGroup.hasChildNodes()) {\n",
       "                toolbar.appendChild(buttonGroup);\n",
       "            }\n",
       "            buttonGroup = document.createElement('div');\n",
       "            buttonGroup.classList = 'btn-group';\n",
       "            continue;\n",
       "        }\n",
       "\n",
       "        button = fig.buttons[name] = document.createElement('button');\n",
       "        button.classList = 'btn btn-default';\n",
       "        button.href = '#';\n",
       "        button.title = name;\n",
       "        button.innerHTML = '<i class=\"fa ' + image + ' fa-lg\"></i>';\n",
       "        button.addEventListener('click', on_click_closure(method_name));\n",
       "        button.addEventListener('mouseover', on_mouseover_closure(tooltip));\n",
       "        buttonGroup.appendChild(button);\n",
       "    }\n",
       "\n",
       "    if (buttonGroup.hasChildNodes()) {\n",
       "        toolbar.appendChild(buttonGroup);\n",
       "    }\n",
       "\n",
       "    // Add the status bar.\n",
       "    var status_bar = document.createElement('span');\n",
       "    status_bar.classList = 'mpl-message pull-right';\n",
       "    toolbar.appendChild(status_bar);\n",
       "    this.message = status_bar;\n",
       "\n",
       "    // Add the close button to the window.\n",
       "    var buttongrp = document.createElement('div');\n",
       "    buttongrp.classList = 'btn-group inline pull-right';\n",
       "    button = document.createElement('button');\n",
       "    button.classList = 'btn btn-mini btn-primary';\n",
       "    button.href = '#';\n",
       "    button.title = 'Stop Interaction';\n",
       "    button.innerHTML = '<i class=\"fa fa-power-off icon-remove icon-large\"></i>';\n",
       "    button.addEventListener('click', function (_evt) {\n",
       "        fig.handle_close(fig, {});\n",
       "    });\n",
       "    button.addEventListener(\n",
       "        'mouseover',\n",
       "        on_mouseover_closure('Stop Interaction')\n",
       "    );\n",
       "    buttongrp.appendChild(button);\n",
       "    var titlebar = this.root.querySelector('.ui-dialog-titlebar');\n",
       "    titlebar.insertBefore(buttongrp, titlebar.firstChild);\n",
       "};\n",
       "\n",
       "mpl.figure.prototype._remove_fig_handler = function (event) {\n",
       "    var fig = event.data.fig;\n",
       "    fig.close_ws(fig, {});\n",
       "};\n",
       "\n",
       "mpl.figure.prototype._root_extra_style = function (el) {\n",
       "    el.style.boxSizing = 'content-box'; // override notebook setting of border-box.\n",
       "};\n",
       "\n",
       "mpl.figure.prototype._canvas_extra_style = function (el) {\n",
       "    // this is important to make the div 'focusable\n",
       "    el.setAttribute('tabindex', 0);\n",
       "    // reach out to IPython and tell the keyboard manager to turn it's self\n",
       "    // off when our div gets focus\n",
       "\n",
       "    // location in version 3\n",
       "    if (IPython.notebook.keyboard_manager) {\n",
       "        IPython.notebook.keyboard_manager.register_events(el);\n",
       "    } else {\n",
       "        // location in version 2\n",
       "        IPython.keyboard_manager.register_events(el);\n",
       "    }\n",
       "};\n",
       "\n",
       "mpl.figure.prototype._key_event_extra = function (event, _name) {\n",
       "    var manager = IPython.notebook.keyboard_manager;\n",
       "    if (!manager) {\n",
       "        manager = IPython.keyboard_manager;\n",
       "    }\n",
       "\n",
       "    // Check for shift+enter\n",
       "    if (event.shiftKey && event.which === 13) {\n",
       "        this.canvas_div.blur();\n",
       "        // select the cell after this one\n",
       "        var index = IPython.notebook.find_cell_index(this.cell_info[0]);\n",
       "        IPython.notebook.select(index + 1);\n",
       "    }\n",
       "};\n",
       "\n",
       "mpl.figure.prototype.handle_save = function (fig, _msg) {\n",
       "    fig.ondownload(fig, null);\n",
       "};\n",
       "\n",
       "mpl.find_output_cell = function (html_output) {\n",
       "    // Return the cell and output element which can be found *uniquely* in the notebook.\n",
       "    // Note - this is a bit hacky, but it is done because the \"notebook_saving.Notebook\"\n",
       "    // IPython event is triggered only after the cells have been serialised, which for\n",
       "    // our purposes (turning an active figure into a static one), is too late.\n",
       "    var cells = IPython.notebook.get_cells();\n",
       "    var ncells = cells.length;\n",
       "    for (var i = 0; i < ncells; i++) {\n",
       "        var cell = cells[i];\n",
       "        if (cell.cell_type === 'code') {\n",
       "            for (var j = 0; j < cell.output_area.outputs.length; j++) {\n",
       "                var data = cell.output_area.outputs[j];\n",
       "                if (data.data) {\n",
       "                    // IPython >= 3 moved mimebundle to data attribute of output\n",
       "                    data = data.data;\n",
       "                }\n",
       "                if (data['text/html'] === html_output) {\n",
       "                    return [cell, data, j];\n",
       "                }\n",
       "            }\n",
       "        }\n",
       "    }\n",
       "};\n",
       "\n",
       "// Register the function which deals with the matplotlib target/channel.\n",
       "// The kernel may be null if the page has been refreshed.\n",
       "if (IPython.notebook.kernel !== null) {\n",
       "    IPython.notebook.kernel.comm_manager.register_target(\n",
       "        'matplotlib',\n",
       "        mpl.mpl_figure_comm\n",
       "    );\n",
       "}\n"
      ],
      "text/plain": [
       "<IPython.core.display.Javascript object>"
      ]
     },
     "metadata": {},
     "output_type": "display_data"
    },
    {
     "data": {
      "text/html": [
       "<img src=\"data:image/png;base64,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\" width=\"640\">"
      ],
      "text/plain": [
       "<IPython.core.display.HTML object>"
      ]
     },
     "metadata": {},
     "output_type": "display_data"
    },
    {
     "data": {
      "text/plain": [
       "<AxesSubplot:>"
      ]
     },
     "execution_count": 371,
     "metadata": {},
     "output_type": "execute_result"
    }
   ],
   "source": [
    "score_at_2percent = lambda x: percentileofscore(x, 0.02)\n",
    "result = result.AAPL.rolling(250).apply(score_at_2percent)\n",
    "result.plot()"
   ]
  }
 ],
 "metadata": {
  "kernelspec": {
   "display_name": "Python 3",
   "language": "python",
   "name": "python3"
  },
  "language_info": {
   "codemirror_mode": {
    "name": "ipython",
    "version": 3
   },
   "file_extension": ".py",
   "mimetype": "text/x-python",
   "name": "python",
   "nbconvert_exporter": "python",
   "pygments_lexer": "ipython3",
   "version": "3.8.3"
  },
  "toc": {
   "base_numbering": 1,
   "nav_menu": {},
   "number_sections": true,
   "sideBar": true,
   "skip_h1_title": false,
   "title_cell": "Table of Contents",
   "title_sidebar": "Contents",
   "toc_cell": false,
   "toc_position": {},
   "toc_section_display": true,
   "toc_window_display": false
  }
 },
 "nbformat": 4,
 "nbformat_minor": 4
}
