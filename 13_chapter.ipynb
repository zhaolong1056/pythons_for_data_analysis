{
 "cells": [
  {
   "cell_type": "code",
   "execution_count": 1,
   "metadata": {
    "ExecuteTime": {
     "end_time": "2020-11-19T00:26:26.075250Z",
     "start_time": "2020-11-19T00:26:25.463283Z"
    }
   },
   "outputs": [],
   "source": [
    "import pandas as pd\n",
    "from pandas import Series, DataFrame # 最常用的类"
   ]
  },
  {
   "cell_type": "code",
   "execution_count": 2,
   "metadata": {
    "ExecuteTime": {
     "end_time": "2020-11-19T00:26:32.851043Z",
     "start_time": "2020-11-19T00:26:32.449529Z"
    }
   },
   "outputs": [],
   "source": [
    "import matplotlib.pyplot as plt\n",
    "import numpy as np\n",
    "np.random.seed(12345)\n",
    "plt.rc('figure', figsize=(10, 6))\n",
    "PREVIOUS_MAX_ROWS = pd.options.display.max_rows\n",
    "pd.options.display.max_rows = 20\n",
    "np.set_printoptions(precision=4, suppress=True) # numpy 不要使用科学计数法，小数4位"
   ]
  },
  {
   "cell_type": "markdown",
   "metadata": {},
   "source": [
    "**使用那个库进行模型开发取决于应用**"
   ]
  },
  {
   "cell_type": "markdown",
   "metadata": {},
   "source": [
    "两个流行的**建模工具包**\n",
    "- `scikit-learn`\n",
    "- `statsmodels`"
   ]
  },
  {
   "cell_type": "markdown",
   "metadata": {},
   "source": [
    "## pandas与建模代码的组合"
   ]
  },
  {
   "cell_type": "markdown",
   "metadata": {},
   "source": [
    "**使用`pandas`用于数据的载入和数据清洗，之后切换到模型库去建立模型是一个常见的模型开发工作流**"
   ]
  },
  {
   "cell_type": "markdown",
   "metadata": {},
   "source": [
    "机器学习中，**特征工程**是模型开发的重要组成部分之一， 特征工程是指从原生数据集中**提取**可用于模型上下文的**有效信息**的数据转换过程和分析"
   ]
  },
  {
   "cell_type": "markdown",
   "metadata": {},
   "source": [
    "`pandas`和其他数据分析库的**结合点**通常是 **NumPy**， 要将DataFrame转换为NumPy数组，使用`.values`属性"
   ]
  },
  {
   "cell_type": "markdown",
   "metadata": {},
   "source": [
    "有些库**对pandas有本地化支持**，可以自动为你做一下工作\n",
    "- 将数据从DataFrame转换到NumPy中并将模型参数名附于输出表的列或Series上\n",
    "- 其他情况下，不得不手动去处理这些“**元数据管理**”操作"
   ]
  },
  {
   "cell_type": "code",
   "execution_count": 3,
   "metadata": {
    "ExecuteTime": {
     "end_time": "2020-11-19T00:52:32.048198Z",
     "start_time": "2020-11-19T00:52:32.029991Z"
    }
   },
   "outputs": [
    {
     "data": {
      "text/plain": [
       "array([[ 1.  ,  0.01, -1.5 ],\n",
       "       [ 2.  , -0.01,  0.  ],\n",
       "       [ 3.  ,  0.25,  3.6 ],\n",
       "       [ 4.  , -4.1 ,  1.3 ],\n",
       "       [ 5.  ,  0.  , -2.  ]])"
      ]
     },
     "execution_count": 3,
     "metadata": {},
     "output_type": "execute_result"
    }
   ],
   "source": [
    "import pandas as pd\n",
    "import numpy as np\n",
    "data = pd.DataFrame({\n",
    "    'x0': [1, 2, 3, 4, 5],\n",
    "    'x1': [0.01, -0.01, 0.25, -4.1, 0.],\n",
    "    'y': [-1.5, 0., 3.6, 1.3, -2.]})\n",
    "data\n",
    "\n",
    "data.values"
   ]
  },
  {
   "cell_type": "code",
   "execution_count": 4,
   "metadata": {
    "ExecuteTime": {
     "end_time": "2020-11-19T01:04:00.065636Z",
     "start_time": "2020-11-19T01:04:00.041718Z"
    }
   },
   "outputs": [
    {
     "data": {
      "text/plain": [
       "Index(['x0', 'x1', 'y'], dtype='object')"
      ]
     },
     "execution_count": 4,
     "metadata": {},
     "output_type": "execute_result"
    }
   ],
   "source": [
    "data.columns"
   ]
  },
  {
   "cell_type": "code",
   "execution_count": 5,
   "metadata": {
    "ExecuteTime": {
     "end_time": "2020-11-19T01:04:26.295291Z",
     "start_time": "2020-11-19T01:04:26.273695Z"
    }
   },
   "outputs": [
    {
     "data": {
      "text/html": [
       "<div>\n",
       "<style scoped>\n",
       "    .dataframe tbody tr th:only-of-type {\n",
       "        vertical-align: middle;\n",
       "    }\n",
       "\n",
       "    .dataframe tbody tr th {\n",
       "        vertical-align: top;\n",
       "    }\n",
       "\n",
       "    .dataframe thead th {\n",
       "        text-align: right;\n",
       "    }\n",
       "</style>\n",
       "<table border=\"1\" class=\"dataframe\">\n",
       "  <thead>\n",
       "    <tr style=\"text-align: right;\">\n",
       "      <th></th>\n",
       "      <th>x0</th>\n",
       "      <th>x1</th>\n",
       "      <th>y</th>\n",
       "    </tr>\n",
       "  </thead>\n",
       "  <tbody>\n",
       "    <tr>\n",
       "      <th>0</th>\n",
       "      <td>1.0</td>\n",
       "      <td>0.01</td>\n",
       "      <td>-1.5</td>\n",
       "    </tr>\n",
       "    <tr>\n",
       "      <th>1</th>\n",
       "      <td>2.0</td>\n",
       "      <td>-0.01</td>\n",
       "      <td>0.0</td>\n",
       "    </tr>\n",
       "    <tr>\n",
       "      <th>2</th>\n",
       "      <td>3.0</td>\n",
       "      <td>0.25</td>\n",
       "      <td>3.6</td>\n",
       "    </tr>\n",
       "    <tr>\n",
       "      <th>3</th>\n",
       "      <td>4.0</td>\n",
       "      <td>-4.10</td>\n",
       "      <td>1.3</td>\n",
       "    </tr>\n",
       "    <tr>\n",
       "      <th>4</th>\n",
       "      <td>5.0</td>\n",
       "      <td>0.00</td>\n",
       "      <td>-2.0</td>\n",
       "    </tr>\n",
       "  </tbody>\n",
       "</table>\n",
       "</div>"
      ],
      "text/plain": [
       "    x0    x1    y\n",
       "0  1.0  0.01 -1.5\n",
       "1  2.0 -0.01  0.0\n",
       "2  3.0  0.25  3.6\n",
       "3  4.0 -4.10  1.3\n",
       "4  5.0  0.00 -2.0"
      ]
     },
     "execution_count": 5,
     "metadata": {},
     "output_type": "execute_result"
    }
   ],
   "source": [
    "pd.DataFrame( data.values,  columns=data.columns )"
   ]
  },
  {
   "cell_type": "code",
   "execution_count": 6,
   "metadata": {
    "ExecuteTime": {
     "end_time": "2020-11-19T01:07:33.258167Z",
     "start_time": "2020-11-19T01:07:33.232414Z"
    }
   },
   "outputs": [
    {
     "data": {
      "text/html": [
       "<div>\n",
       "<style scoped>\n",
       "    .dataframe tbody tr th:only-of-type {\n",
       "        vertical-align: middle;\n",
       "    }\n",
       "\n",
       "    .dataframe tbody tr th {\n",
       "        vertical-align: top;\n",
       "    }\n",
       "\n",
       "    .dataframe thead th {\n",
       "        text-align: right;\n",
       "    }\n",
       "</style>\n",
       "<table border=\"1\" class=\"dataframe\">\n",
       "  <thead>\n",
       "    <tr style=\"text-align: right;\">\n",
       "      <th></th>\n",
       "      <th>one</th>\n",
       "      <th>two</th>\n",
       "      <th>three</th>\n",
       "    </tr>\n",
       "  </thead>\n",
       "  <tbody>\n",
       "    <tr>\n",
       "      <th>0</th>\n",
       "      <td>1.0</td>\n",
       "      <td>0.01</td>\n",
       "      <td>-1.5</td>\n",
       "    </tr>\n",
       "    <tr>\n",
       "      <th>1</th>\n",
       "      <td>2.0</td>\n",
       "      <td>-0.01</td>\n",
       "      <td>0.0</td>\n",
       "    </tr>\n",
       "    <tr>\n",
       "      <th>2</th>\n",
       "      <td>3.0</td>\n",
       "      <td>0.25</td>\n",
       "      <td>3.6</td>\n",
       "    </tr>\n",
       "    <tr>\n",
       "      <th>3</th>\n",
       "      <td>4.0</td>\n",
       "      <td>-4.10</td>\n",
       "      <td>1.3</td>\n",
       "    </tr>\n",
       "    <tr>\n",
       "      <th>4</th>\n",
       "      <td>5.0</td>\n",
       "      <td>0.00</td>\n",
       "      <td>-2.0</td>\n",
       "    </tr>\n",
       "  </tbody>\n",
       "</table>\n",
       "</div>"
      ],
      "text/plain": [
       "   one   two  three\n",
       "0  1.0  0.01   -1.5\n",
       "1  2.0 -0.01    0.0\n",
       "2  3.0  0.25    3.6\n",
       "3  4.0 -4.10    1.3\n",
       "4  5.0  0.00   -2.0"
      ]
     },
     "execution_count": 6,
     "metadata": {},
     "output_type": "execute_result"
    }
   ],
   "source": [
    "df2 = pd.DataFrame(data.values, columns=['one', 'two', 'three'])\n",
    "df2"
   ]
  },
  {
   "cell_type": "code",
   "execution_count": 9,
   "metadata": {
    "ExecuteTime": {
     "end_time": "2020-11-19T01:07:48.582687Z",
     "start_time": "2020-11-19T01:07:48.562290Z"
    }
   },
   "outputs": [
    {
     "data": {
      "text/plain": [
       "array([[ 1.  ,  0.01],\n",
       "       [ 2.  , -0.01],\n",
       "       [ 3.  ,  0.25],\n",
       "       [ 4.  , -4.1 ],\n",
       "       [ 5.  ,  0.  ]])"
      ]
     },
     "execution_count": 9,
     "metadata": {},
     "output_type": "execute_result"
    }
   ],
   "source": [
    "model_cols = ['x0', 'x1']\n",
    "data.loc[:, model_cols].values"
   ]
  },
  {
   "cell_type": "code",
   "execution_count": 13,
   "metadata": {
    "ExecuteTime": {
     "end_time": "2020-11-19T01:16:22.644293Z",
     "start_time": "2020-11-19T01:16:22.635206Z"
    }
   },
   "outputs": [
    {
     "data": {
      "text/plain": [
       "array([[ 1.  ,  0.01, -1.5 ],\n",
       "       [ 2.  , -0.01,  0.  ],\n",
       "       [ 3.  ,  0.25,  3.6 ],\n",
       "       [ 4.  , -4.1 ,  1.3 ],\n",
       "       [ 5.  ,  0.  , -2.  ]])"
      ]
     },
     "execution_count": 13,
     "metadata": {},
     "output_type": "execute_result"
    }
   ],
   "source": [
    "data.iloc[:, :-1].values"
   ]
  },
  {
   "cell_type": "code",
   "execution_count": 15,
   "metadata": {
    "ExecuteTime": {
     "end_time": "2020-11-19T01:16:56.961222Z",
     "start_time": "2020-11-19T01:16:56.952750Z"
    }
   },
   "outputs": [
    {
     "data": {
      "text/plain": [
       "array([[ 1.  ,  0.01],\n",
       "       [ 2.  , -0.01],\n",
       "       [ 3.  ,  0.25],\n",
       "       [ 4.  , -4.1 ],\n",
       "       [ 5.  ,  0.  ]])"
      ]
     },
     "execution_count": 15,
     "metadata": {},
     "output_type": "execute_result"
    }
   ],
   "source": [
    "data[['x0', 'x1']].values"
   ]
  },
  {
   "cell_type": "code",
   "execution_count": 21,
   "metadata": {
    "ExecuteTime": {
     "end_time": "2020-11-19T01:19:19.680458Z",
     "start_time": "2020-11-19T01:19:19.673116Z"
    }
   },
   "outputs": [
    {
     "data": {
      "text/plain": [
       "array([[ 1.  ,  0.01],\n",
       "       [ 2.  , -0.01],\n",
       "       [ 3.  ,  0.25],\n",
       "       [ 4.  , -4.1 ],\n",
       "       [ 5.  ,  0.  ]])"
      ]
     },
     "execution_count": 21,
     "metadata": {},
     "output_type": "execute_result"
    }
   ],
   "source": [
    "data.reindex(columns=['x0', 'x1']).values"
   ]
  },
  {
   "cell_type": "code",
   "execution_count": 10,
   "metadata": {
    "ExecuteTime": {
     "end_time": "2020-11-19T01:07:59.716252Z",
     "start_time": "2020-11-19T01:07:59.692167Z"
    }
   },
   "outputs": [
    {
     "data": {
      "text/html": [
       "<div>\n",
       "<style scoped>\n",
       "    .dataframe tbody tr th:only-of-type {\n",
       "        vertical-align: middle;\n",
       "    }\n",
       "\n",
       "    .dataframe tbody tr th {\n",
       "        vertical-align: top;\n",
       "    }\n",
       "\n",
       "    .dataframe thead th {\n",
       "        text-align: right;\n",
       "    }\n",
       "</style>\n",
       "<table border=\"1\" class=\"dataframe\">\n",
       "  <thead>\n",
       "    <tr style=\"text-align: right;\">\n",
       "      <th></th>\n",
       "      <th>x0</th>\n",
       "      <th>x1</th>\n",
       "      <th>y</th>\n",
       "      <th>category</th>\n",
       "    </tr>\n",
       "  </thead>\n",
       "  <tbody>\n",
       "    <tr>\n",
       "      <th>0</th>\n",
       "      <td>1</td>\n",
       "      <td>0.01</td>\n",
       "      <td>-1.5</td>\n",
       "      <td>a</td>\n",
       "    </tr>\n",
       "    <tr>\n",
       "      <th>1</th>\n",
       "      <td>2</td>\n",
       "      <td>-0.01</td>\n",
       "      <td>0.0</td>\n",
       "      <td>b</td>\n",
       "    </tr>\n",
       "    <tr>\n",
       "      <th>2</th>\n",
       "      <td>3</td>\n",
       "      <td>0.25</td>\n",
       "      <td>3.6</td>\n",
       "      <td>a</td>\n",
       "    </tr>\n",
       "    <tr>\n",
       "      <th>3</th>\n",
       "      <td>4</td>\n",
       "      <td>-4.10</td>\n",
       "      <td>1.3</td>\n",
       "      <td>a</td>\n",
       "    </tr>\n",
       "    <tr>\n",
       "      <th>4</th>\n",
       "      <td>5</td>\n",
       "      <td>0.00</td>\n",
       "      <td>-2.0</td>\n",
       "      <td>b</td>\n",
       "    </tr>\n",
       "  </tbody>\n",
       "</table>\n",
       "</div>"
      ],
      "text/plain": [
       "   x0    x1    y category\n",
       "0   1  0.01 -1.5        a\n",
       "1   2 -0.01  0.0        b\n",
       "2   3  0.25  3.6        a\n",
       "3   4 -4.10  1.3        a\n",
       "4   5  0.00 -2.0        b"
      ]
     },
     "execution_count": 10,
     "metadata": {},
     "output_type": "execute_result"
    }
   ],
   "source": [
    "data['category'] = pd.Categorical(['a', 'b', 'a', 'a', 'b'],\n",
    "                                  categories=['a', 'b'])\n",
    "data"
   ]
  },
  {
   "cell_type": "code",
   "execution_count": 22,
   "metadata": {
    "ExecuteTime": {
     "end_time": "2020-11-19T01:24:02.290185Z",
     "start_time": "2020-11-19T01:24:02.263378Z"
    }
   },
   "outputs": [
    {
     "data": {
      "text/html": [
       "<div>\n",
       "<style scoped>\n",
       "    .dataframe tbody tr th:only-of-type {\n",
       "        vertical-align: middle;\n",
       "    }\n",
       "\n",
       "    .dataframe tbody tr th {\n",
       "        vertical-align: top;\n",
       "    }\n",
       "\n",
       "    .dataframe thead th {\n",
       "        text-align: right;\n",
       "    }\n",
       "</style>\n",
       "<table border=\"1\" class=\"dataframe\">\n",
       "  <thead>\n",
       "    <tr style=\"text-align: right;\">\n",
       "      <th></th>\n",
       "      <th>category_a</th>\n",
       "      <th>category_b</th>\n",
       "    </tr>\n",
       "  </thead>\n",
       "  <tbody>\n",
       "    <tr>\n",
       "      <th>0</th>\n",
       "      <td>1</td>\n",
       "      <td>0</td>\n",
       "    </tr>\n",
       "    <tr>\n",
       "      <th>1</th>\n",
       "      <td>0</td>\n",
       "      <td>1</td>\n",
       "    </tr>\n",
       "    <tr>\n",
       "      <th>2</th>\n",
       "      <td>1</td>\n",
       "      <td>0</td>\n",
       "    </tr>\n",
       "    <tr>\n",
       "      <th>3</th>\n",
       "      <td>1</td>\n",
       "      <td>0</td>\n",
       "    </tr>\n",
       "    <tr>\n",
       "      <th>4</th>\n",
       "      <td>0</td>\n",
       "      <td>1</td>\n",
       "    </tr>\n",
       "  </tbody>\n",
       "</table>\n",
       "</div>"
      ],
      "text/plain": [
       "   category_a  category_b\n",
       "0           1           0\n",
       "1           0           1\n",
       "2           1           0\n",
       "3           1           0\n",
       "4           0           1"
      ]
     },
     "execution_count": 22,
     "metadata": {},
     "output_type": "execute_result"
    }
   ],
   "source": [
    "dummies = pd.get_dummies(data.category, prefix='category')\n",
    "dummies"
   ]
  },
  {
   "cell_type": "code",
   "execution_count": 24,
   "metadata": {
    "ExecuteTime": {
     "end_time": "2020-11-19T01:24:19.300121Z",
     "start_time": "2020-11-19T01:24:19.272367Z"
    }
   },
   "outputs": [
    {
     "data": {
      "text/html": [
       "<div>\n",
       "<style scoped>\n",
       "    .dataframe tbody tr th:only-of-type {\n",
       "        vertical-align: middle;\n",
       "    }\n",
       "\n",
       "    .dataframe tbody tr th {\n",
       "        vertical-align: top;\n",
       "    }\n",
       "\n",
       "    .dataframe thead th {\n",
       "        text-align: right;\n",
       "    }\n",
       "</style>\n",
       "<table border=\"1\" class=\"dataframe\">\n",
       "  <thead>\n",
       "    <tr style=\"text-align: right;\">\n",
       "      <th></th>\n",
       "      <th>x0</th>\n",
       "      <th>x1</th>\n",
       "      <th>y</th>\n",
       "      <th>category_a</th>\n",
       "      <th>category_b</th>\n",
       "    </tr>\n",
       "  </thead>\n",
       "  <tbody>\n",
       "    <tr>\n",
       "      <th>0</th>\n",
       "      <td>1</td>\n",
       "      <td>0.01</td>\n",
       "      <td>-1.5</td>\n",
       "      <td>1</td>\n",
       "      <td>0</td>\n",
       "    </tr>\n",
       "    <tr>\n",
       "      <th>1</th>\n",
       "      <td>2</td>\n",
       "      <td>-0.01</td>\n",
       "      <td>0.0</td>\n",
       "      <td>0</td>\n",
       "      <td>1</td>\n",
       "    </tr>\n",
       "    <tr>\n",
       "      <th>2</th>\n",
       "      <td>3</td>\n",
       "      <td>0.25</td>\n",
       "      <td>3.6</td>\n",
       "      <td>1</td>\n",
       "      <td>0</td>\n",
       "    </tr>\n",
       "    <tr>\n",
       "      <th>3</th>\n",
       "      <td>4</td>\n",
       "      <td>-4.10</td>\n",
       "      <td>1.3</td>\n",
       "      <td>1</td>\n",
       "      <td>0</td>\n",
       "    </tr>\n",
       "    <tr>\n",
       "      <th>4</th>\n",
       "      <td>5</td>\n",
       "      <td>0.00</td>\n",
       "      <td>-2.0</td>\n",
       "      <td>0</td>\n",
       "      <td>1</td>\n",
       "    </tr>\n",
       "  </tbody>\n",
       "</table>\n",
       "</div>"
      ],
      "text/plain": [
       "   x0    x1    y  category_a  category_b\n",
       "0   1  0.01 -1.5           1           0\n",
       "1   2 -0.01  0.0           0           1\n",
       "2   3  0.25  3.6           1           0\n",
       "3   4 -4.10  1.3           1           0\n",
       "4   5  0.00 -2.0           0           1"
      ]
     },
     "execution_count": 24,
     "metadata": {},
     "output_type": "execute_result"
    }
   ],
   "source": [
    "dummies = pd.get_dummies(data, prefix='category')\n",
    "dummies"
   ]
  },
  {
   "cell_type": "markdown",
   "metadata": {},
   "source": [
    "## 使用Patsy创建模型描述"
   ]
  },
  {
   "cell_type": "markdown",
   "metadata": {},
   "source": [
    "`Patsy`是一个用于**描述统计模型(尤其是线性模型 )** 的Python库， 使用一种**小型基于字符串的“公式语法”**，这种语法受到了R,S统计编程中公式语言的启示"
   ]
  },
  {
   "cell_type": "markdown",
   "metadata": {},
   "source": [
    "`Patsy`能够**很好的支持statsmodels中特定的线性模型**"
   ]
  },
  {
   "cell_type": "markdown",
   "metadata": {},
   "source": [
    "Pasty的**公式是特殊字符串语法**\n",
    "$$ yo \\text~ x0 + x1$$\n",
    "语法$a+b$并不是**加法**， 而是指**为模型而创建的设计矩阵中的名词列**"
   ]
  },
  {
   "cell_type": "markdown",
   "metadata": {},
   "source": [
    "`pasty.dmatrices`函数在数据集上，使用一个公式字符串，并为一个线性模型产生一个**设计矩阵**"
   ]
  },
  {
   "cell_type": "code",
   "execution_count": 25,
   "metadata": {
    "ExecuteTime": {
     "end_time": "2020-11-19T01:51:48.340180Z",
     "start_time": "2020-11-19T01:51:48.323899Z"
    }
   },
   "outputs": [
    {
     "data": {
      "text/html": [
       "<div>\n",
       "<style scoped>\n",
       "    .dataframe tbody tr th:only-of-type {\n",
       "        vertical-align: middle;\n",
       "    }\n",
       "\n",
       "    .dataframe tbody tr th {\n",
       "        vertical-align: top;\n",
       "    }\n",
       "\n",
       "    .dataframe thead th {\n",
       "        text-align: right;\n",
       "    }\n",
       "</style>\n",
       "<table border=\"1\" class=\"dataframe\">\n",
       "  <thead>\n",
       "    <tr style=\"text-align: right;\">\n",
       "      <th></th>\n",
       "      <th>x0</th>\n",
       "      <th>x1</th>\n",
       "      <th>y</th>\n",
       "    </tr>\n",
       "  </thead>\n",
       "  <tbody>\n",
       "    <tr>\n",
       "      <th>0</th>\n",
       "      <td>1</td>\n",
       "      <td>0.01</td>\n",
       "      <td>-1.5</td>\n",
       "    </tr>\n",
       "    <tr>\n",
       "      <th>1</th>\n",
       "      <td>2</td>\n",
       "      <td>-0.01</td>\n",
       "      <td>0.0</td>\n",
       "    </tr>\n",
       "    <tr>\n",
       "      <th>2</th>\n",
       "      <td>3</td>\n",
       "      <td>0.25</td>\n",
       "      <td>3.6</td>\n",
       "    </tr>\n",
       "    <tr>\n",
       "      <th>3</th>\n",
       "      <td>4</td>\n",
       "      <td>-4.10</td>\n",
       "      <td>1.3</td>\n",
       "    </tr>\n",
       "    <tr>\n",
       "      <th>4</th>\n",
       "      <td>5</td>\n",
       "      <td>0.00</td>\n",
       "      <td>-2.0</td>\n",
       "    </tr>\n",
       "  </tbody>\n",
       "</table>\n",
       "</div>"
      ],
      "text/plain": [
       "   x0    x1    y\n",
       "0   1  0.01 -1.5\n",
       "1   2 -0.01  0.0\n",
       "2   3  0.25  3.6\n",
       "3   4 -4.10  1.3\n",
       "4   5  0.00 -2.0"
      ]
     },
     "execution_count": 25,
     "metadata": {},
     "output_type": "execute_result"
    }
   ],
   "source": [
    "data = pd.DataFrame({\n",
    "    'x0': [1, 2, 3, 4, 5],\n",
    "    'x1': [0.01, -0.01, 0.25, -4.1, 0.],\n",
    "    'y': [-1.5, 0., 3.6, 1.3, -2.]})\n",
    "data"
   ]
  },
  {
   "cell_type": "code",
   "execution_count": 27,
   "metadata": {
    "ExecuteTime": {
     "end_time": "2020-11-19T01:52:13.905415Z",
     "start_time": "2020-11-19T01:52:13.852113Z"
    }
   },
   "outputs": [],
   "source": [
    "import patsy"
   ]
  },
  {
   "cell_type": "code",
   "execution_count": 28,
   "metadata": {
    "ExecuteTime": {
     "end_time": "2020-11-19T01:52:58.649990Z",
     "start_time": "2020-11-19T01:52:58.633469Z"
    }
   },
   "outputs": [
    {
     "data": {
      "text/plain": [
       "(DesignMatrix with shape (5, 1)\n",
       "      y\n",
       "   -1.5\n",
       "    0.0\n",
       "    3.6\n",
       "    1.3\n",
       "   -2.0\n",
       "   Terms:\n",
       "     'y' (column 0),\n",
       " DesignMatrix with shape (5, 3)\n",
       "   Intercept  x0     x1\n",
       "           1   1   0.01\n",
       "           1   2  -0.01\n",
       "           1   3   0.25\n",
       "           1   4  -4.10\n",
       "           1   5   0.00\n",
       "   Terms:\n",
       "     'Intercept' (column 0)\n",
       "     'x0' (column 1)\n",
       "     'x1' (column 2))"
      ]
     },
     "execution_count": 28,
     "metadata": {},
     "output_type": "execute_result"
    }
   ],
   "source": [
    "patsy.dmatrices( 'y ~ x0+x1', data)"
   ]
  },
  {
   "cell_type": "code",
   "execution_count": 36,
   "metadata": {
    "ExecuteTime": {
     "end_time": "2020-11-19T02:03:03.715555Z",
     "start_time": "2020-11-19T02:03:03.696930Z"
    }
   },
   "outputs": [],
   "source": [
    "y, X = patsy.dmatrices( 'y ~ x0+x1', data)"
   ]
  },
  {
   "cell_type": "code",
   "execution_count": 34,
   "metadata": {
    "ExecuteTime": {
     "end_time": "2020-11-19T01:56:54.528364Z",
     "start_time": "2020-11-19T01:56:54.513249Z"
    }
   },
   "outputs": [
    {
     "data": {
      "text/plain": [
       "(DesignMatrix with shape (5, 1)\n",
       "      y\n",
       "   -1.5\n",
       "    0.0\n",
       "    3.6\n",
       "    1.3\n",
       "   -2.0\n",
       "   Terms:\n",
       "     'y' (column 0),\n",
       " DesignMatrix with shape (5, 2)\n",
       "   x0     x1\n",
       "    1   0.01\n",
       "    2  -0.01\n",
       "    3   0.25\n",
       "    4  -4.10\n",
       "    5   0.00\n",
       "   Terms:\n",
       "     'x0' (column 0)\n",
       "     'x1' (column 1))"
      ]
     },
     "execution_count": 34,
     "metadata": {},
     "output_type": "execute_result"
    }
   ],
   "source": [
    "patsy.dmatrices( 'y ~ x0+x1+0', data) # 不要截距项 "
   ]
  },
  {
   "cell_type": "code",
   "execution_count": 37,
   "metadata": {
    "ExecuteTime": {
     "end_time": "2020-11-19T02:03:12.816436Z",
     "start_time": "2020-11-19T02:03:12.793314Z"
    }
   },
   "outputs": [
    {
     "name": "stderr",
     "output_type": "stream",
     "text": [
      "<ipython-input-37-cda31bad5b83>:1: FutureWarning: `rcond` parameter will change to the default of machine precision times ``max(M, N)`` where M and N are the input matrix dimensions.\n",
      "To use the future default and silence this warning we advise to pass `rcond=None`, to keep using the old, explicitly pass `rcond=-1`.\n",
      "  coef, resid, _, _ = np.linalg.lstsq( X, y )\n"
     ]
    }
   ],
   "source": [
    "coef, resid, _, _ = np.linalg.lstsq( X, y )"
   ]
  },
  {
   "cell_type": "code",
   "execution_count": 38,
   "metadata": {
    "ExecuteTime": {
     "end_time": "2020-11-19T02:03:22.752134Z",
     "start_time": "2020-11-19T02:03:22.745311Z"
    }
   },
   "outputs": [
    {
     "data": {
      "text/plain": [
       "array([[ 0.3129],\n",
       "       [-0.0791],\n",
       "       [-0.2655]])"
      ]
     },
     "execution_count": 38,
     "metadata": {},
     "output_type": "execute_result"
    }
   ],
   "source": [
    "coef"
   ]
  },
  {
   "cell_type": "code",
   "execution_count": 39,
   "metadata": {
    "ExecuteTime": {
     "end_time": "2020-11-19T02:03:27.207712Z",
     "start_time": "2020-11-19T02:03:27.199700Z"
    }
   },
   "outputs": [
    {
     "data": {
      "text/plain": [
       "array([19.6379])"
      ]
     },
     "execution_count": 39,
     "metadata": {},
     "output_type": "execute_result"
    }
   ],
   "source": [
    "resid"
   ]
  },
  {
   "cell_type": "code",
   "execution_count": 40,
   "metadata": {
    "ExecuteTime": {
     "end_time": "2020-11-19T02:21:18.808245Z",
     "start_time": "2020-11-19T02:21:18.798692Z"
    }
   },
   "outputs": [
    {
     "data": {
      "text/plain": [
       "Intercept    0.312910\n",
       "x0          -0.079106\n",
       "x1          -0.265464\n",
       "dtype: float64"
      ]
     },
     "execution_count": 40,
     "metadata": {},
     "output_type": "execute_result"
    }
   ],
   "source": [
    "coef = pd.Series(coef.squeeze(), index=X.design_info.column_names)\n",
    "coef"
   ]
  },
  {
   "cell_type": "markdown",
   "metadata": {},
   "source": [
    "### Patsy公式中数据转换"
   ]
  },
  {
   "cell_type": "markdown",
   "metadata": {},
   "source": [
    "可以将Python代码混合到你的Patsy公式中，在执行公式时，**Patsy库将尝试在封闭的作用域中寻找使用你使用的函数**"
   ]
  },
  {
   "cell_type": "code",
   "execution_count": 41,
   "metadata": {
    "ExecuteTime": {
     "end_time": "2020-11-19T02:23:35.986812Z",
     "start_time": "2020-11-19T02:23:35.948850Z"
    }
   },
   "outputs": [
    {
     "data": {
      "text/plain": [
       "DesignMatrix with shape (5, 3)\n",
       "  Intercept  x0  np.log(np.abs(x1) + 1)\n",
       "          1   1                 0.00995\n",
       "          1   2                 0.00995\n",
       "          1   3                 0.22314\n",
       "          1   4                 1.62924\n",
       "          1   5                 0.00000\n",
       "  Terms:\n",
       "    'Intercept' (column 0)\n",
       "    'x0' (column 1)\n",
       "    'np.log(np.abs(x1) + 1)' (column 2)"
      ]
     },
     "execution_count": 41,
     "metadata": {},
     "output_type": "execute_result"
    }
   ],
   "source": [
    "y, X = patsy.dmatrices('y ~ x0 + np.log(np.abs(x1) + 1)', data)\n",
    "X"
   ]
  },
  {
   "cell_type": "code",
   "execution_count": 42,
   "metadata": {
    "ExecuteTime": {
     "end_time": "2020-11-19T02:24:46.107319Z",
     "start_time": "2020-11-19T02:24:46.076339Z"
    }
   },
   "outputs": [
    {
     "data": {
      "text/plain": [
       "DesignMatrix with shape (5, 3)\n",
       "  Intercept  standardize(x0)  center(x1)\n",
       "          1         -1.41421        0.78\n",
       "          1         -0.70711        0.76\n",
       "          1          0.00000        1.02\n",
       "          1          0.70711       -3.33\n",
       "          1          1.41421        0.77\n",
       "  Terms:\n",
       "    'Intercept' (column 0)\n",
       "    'standardize(x0)' (column 1)\n",
       "    'center(x1)' (column 2)"
      ]
     },
     "execution_count": 42,
     "metadata": {},
     "output_type": "execute_result"
    }
   ],
   "source": [
    "y, X = patsy.dmatrices('y ~ standardize(x0) + center(x1)', data)\n",
    "X"
   ]
  },
  {
   "cell_type": "markdown",
   "metadata": {},
   "source": [
    "作为建模的一部分，可能会**在一个数据集上拟合一个模型，之后基于另一个模型评价该模型**， 这个过程中可以保留部分数据或者之后再加入新数据"
   ]
  },
  {
   "cell_type": "markdown",
   "metadata": {},
   "source": [
    "在应用像剧中和标准化这样的转换时，在**基于新数据使用模型或进行预测时要小心**，这些转换被称为**有状态的转换**，因为在形成新数据集时必须使用原数据集中的均值或标准差等统计值"
   ]
  },
  {
   "cell_type": "code",
   "execution_count": 43,
   "metadata": {
    "ExecuteTime": {
     "end_time": "2020-11-19T02:32:32.193904Z",
     "start_time": "2020-11-19T02:32:32.173892Z"
    }
   },
   "outputs": [
    {
     "data": {
      "text/html": [
       "<div>\n",
       "<style scoped>\n",
       "    .dataframe tbody tr th:only-of-type {\n",
       "        vertical-align: middle;\n",
       "    }\n",
       "\n",
       "    .dataframe tbody tr th {\n",
       "        vertical-align: top;\n",
       "    }\n",
       "\n",
       "    .dataframe thead th {\n",
       "        text-align: right;\n",
       "    }\n",
       "</style>\n",
       "<table border=\"1\" class=\"dataframe\">\n",
       "  <thead>\n",
       "    <tr style=\"text-align: right;\">\n",
       "      <th></th>\n",
       "      <th>x0</th>\n",
       "      <th>x1</th>\n",
       "      <th>y</th>\n",
       "    </tr>\n",
       "  </thead>\n",
       "  <tbody>\n",
       "    <tr>\n",
       "      <th>0</th>\n",
       "      <td>6</td>\n",
       "      <td>3.1</td>\n",
       "      <td>1</td>\n",
       "    </tr>\n",
       "    <tr>\n",
       "      <th>1</th>\n",
       "      <td>7</td>\n",
       "      <td>-0.5</td>\n",
       "      <td>2</td>\n",
       "    </tr>\n",
       "    <tr>\n",
       "      <th>2</th>\n",
       "      <td>8</td>\n",
       "      <td>0.0</td>\n",
       "      <td>3</td>\n",
       "    </tr>\n",
       "    <tr>\n",
       "      <th>3</th>\n",
       "      <td>9</td>\n",
       "      <td>2.3</td>\n",
       "      <td>4</td>\n",
       "    </tr>\n",
       "  </tbody>\n",
       "</table>\n",
       "</div>"
      ],
      "text/plain": [
       "   x0   x1  y\n",
       "0   6  3.1  1\n",
       "1   7 -0.5  2\n",
       "2   8  0.0  3\n",
       "3   9  2.3  4"
      ]
     },
     "execution_count": 43,
     "metadata": {},
     "output_type": "execute_result"
    }
   ],
   "source": [
    "new_data = pd.DataFrame({\n",
    "    'x0': [6, 7, 8, 9],\n",
    "    'x1': [3.1, -0.5, 0, 2.3],\n",
    "    'y': [1, 2, 3, 4]})\n",
    "new_data"
   ]
  },
  {
   "cell_type": "code",
   "execution_count": 44,
   "metadata": {
    "ExecuteTime": {
     "end_time": "2020-11-19T02:32:40.435337Z",
     "start_time": "2020-11-19T02:32:40.419944Z"
    }
   },
   "outputs": [
    {
     "data": {
      "text/plain": [
       "[DesignMatrix with shape (4, 3)\n",
       "   Intercept  standardize(x0)  center(x1)\n",
       "           1          2.12132        3.87\n",
       "           1          2.82843        0.27\n",
       "           1          3.53553        0.77\n",
       "           1          4.24264        3.07\n",
       "   Terms:\n",
       "     'Intercept' (column 0)\n",
       "     'standardize(x0)' (column 1)\n",
       "     'center(x1)' (column 2)]"
      ]
     },
     "execution_count": 44,
     "metadata": {},
     "output_type": "execute_result"
    }
   ],
   "source": [
    "new_X = patsy.build_design_matrices([X.design_info], new_data)\n",
    "new_X"
   ]
  },
  {
   "cell_type": "code",
   "execution_count": 45,
   "metadata": {
    "ExecuteTime": {
     "end_time": "2020-11-19T02:38:18.853067Z",
     "start_time": "2020-11-19T02:38:18.836154Z"
    }
   },
   "outputs": [
    {
     "data": {
      "text/plain": [
       "DesignMatrix with shape (5, 2)\n",
       "  Intercept  I(x0 + x1)\n",
       "          1        1.01\n",
       "          1        1.99\n",
       "          1        3.25\n",
       "          1       -0.10\n",
       "          1        5.00\n",
       "  Terms:\n",
       "    'Intercept' (column 0)\n",
       "    'I(x0 + x1)' (column 1)"
      ]
     },
     "execution_count": 45,
     "metadata": {},
     "output_type": "execute_result"
    }
   ],
   "source": [
    "y, X = patsy.dmatrices('y ~ I(x0 + x1)', data)\n",
    "X"
   ]
  },
  {
   "cell_type": "markdown",
   "metadata": {},
   "source": [
    "### 分类数据和Patsy"
   ]
  },
  {
   "cell_type": "markdown",
   "metadata": {},
   "source": [
    "当你在Patsy**公式中使用费数组名称列时，将会被默认转换为 虚拟变量**， 如果有拦截，其中一个级别将被排出以避免共线性"
   ]
  },
  {
   "cell_type": "code",
   "execution_count": 46,
   "metadata": {
    "ExecuteTime": {
     "end_time": "2020-11-19T02:43:43.419635Z",
     "start_time": "2020-11-19T02:43:43.401720Z"
    }
   },
   "outputs": [
    {
     "data": {
      "text/html": [
       "<div>\n",
       "<style scoped>\n",
       "    .dataframe tbody tr th:only-of-type {\n",
       "        vertical-align: middle;\n",
       "    }\n",
       "\n",
       "    .dataframe tbody tr th {\n",
       "        vertical-align: top;\n",
       "    }\n",
       "\n",
       "    .dataframe thead th {\n",
       "        text-align: right;\n",
       "    }\n",
       "</style>\n",
       "<table border=\"1\" class=\"dataframe\">\n",
       "  <thead>\n",
       "    <tr style=\"text-align: right;\">\n",
       "      <th></th>\n",
       "      <th>key1</th>\n",
       "      <th>key2</th>\n",
       "      <th>v1</th>\n",
       "      <th>v2</th>\n",
       "    </tr>\n",
       "  </thead>\n",
       "  <tbody>\n",
       "    <tr>\n",
       "      <th>0</th>\n",
       "      <td>a</td>\n",
       "      <td>0</td>\n",
       "      <td>1</td>\n",
       "      <td>-1.0</td>\n",
       "    </tr>\n",
       "    <tr>\n",
       "      <th>1</th>\n",
       "      <td>a</td>\n",
       "      <td>1</td>\n",
       "      <td>2</td>\n",
       "      <td>0.0</td>\n",
       "    </tr>\n",
       "    <tr>\n",
       "      <th>2</th>\n",
       "      <td>b</td>\n",
       "      <td>0</td>\n",
       "      <td>3</td>\n",
       "      <td>2.5</td>\n",
       "    </tr>\n",
       "    <tr>\n",
       "      <th>3</th>\n",
       "      <td>b</td>\n",
       "      <td>1</td>\n",
       "      <td>4</td>\n",
       "      <td>-0.5</td>\n",
       "    </tr>\n",
       "    <tr>\n",
       "      <th>4</th>\n",
       "      <td>a</td>\n",
       "      <td>0</td>\n",
       "      <td>5</td>\n",
       "      <td>4.0</td>\n",
       "    </tr>\n",
       "    <tr>\n",
       "      <th>5</th>\n",
       "      <td>b</td>\n",
       "      <td>1</td>\n",
       "      <td>6</td>\n",
       "      <td>-1.2</td>\n",
       "    </tr>\n",
       "    <tr>\n",
       "      <th>6</th>\n",
       "      <td>a</td>\n",
       "      <td>0</td>\n",
       "      <td>7</td>\n",
       "      <td>0.2</td>\n",
       "    </tr>\n",
       "    <tr>\n",
       "      <th>7</th>\n",
       "      <td>b</td>\n",
       "      <td>0</td>\n",
       "      <td>8</td>\n",
       "      <td>-1.7</td>\n",
       "    </tr>\n",
       "  </tbody>\n",
       "</table>\n",
       "</div>"
      ],
      "text/plain": [
       "  key1  key2  v1   v2\n",
       "0    a     0   1 -1.0\n",
       "1    a     1   2  0.0\n",
       "2    b     0   3  2.5\n",
       "3    b     1   4 -0.5\n",
       "4    a     0   5  4.0\n",
       "5    b     1   6 -1.2\n",
       "6    a     0   7  0.2\n",
       "7    b     0   8 -1.7"
      ]
     },
     "execution_count": 46,
     "metadata": {},
     "output_type": "execute_result"
    }
   ],
   "source": [
    "data = pd.DataFrame({\n",
    "    'key1': ['a', 'a', 'b', 'b', 'a', 'b', 'a', 'b'],\n",
    "    'key2': [0, 1, 0, 1, 0, 1, 0, 0],\n",
    "    'v1': [1, 2, 3, 4, 5, 6, 7, 8],\n",
    "    'v2': [-1, 0, 2.5, -0.5, 4.0, -1.2, 0.2, -1.7]\n",
    "})\n",
    "\n",
    "data"
   ]
  },
  {
   "cell_type": "code",
   "execution_count": 47,
   "metadata": {
    "ExecuteTime": {
     "end_time": "2020-11-19T02:44:19.367731Z",
     "start_time": "2020-11-19T02:44:19.353497Z"
    }
   },
   "outputs": [
    {
     "data": {
      "text/plain": [
       "DesignMatrix with shape (8, 2)\n",
       "  Intercept  key1[T.b]\n",
       "          1          0\n",
       "          1          0\n",
       "          1          1\n",
       "          1          1\n",
       "          1          0\n",
       "          1          1\n",
       "          1          0\n",
       "          1          1\n",
       "  Terms:\n",
       "    'Intercept' (column 0)\n",
       "    'key1' (column 1)"
      ]
     },
     "execution_count": 47,
     "metadata": {},
     "output_type": "execute_result"
    }
   ],
   "source": [
    "y,X = patsy.dmatrices( 'v2~key1', data )\n",
    "X"
   ]
  },
  {
   "cell_type": "code",
   "execution_count": 48,
   "metadata": {
    "ExecuteTime": {
     "end_time": "2020-11-19T02:44:46.761899Z",
     "start_time": "2020-11-19T02:44:46.746666Z"
    }
   },
   "outputs": [
    {
     "data": {
      "text/plain": [
       "DesignMatrix with shape (8, 2)\n",
       "  key1[a]  key1[b]\n",
       "        1        0\n",
       "        1        0\n",
       "        0        1\n",
       "        0        1\n",
       "        1        0\n",
       "        0        1\n",
       "        1        0\n",
       "        0        1\n",
       "  Terms:\n",
       "    'key1' (columns 0:2)"
      ]
     },
     "execution_count": 48,
     "metadata": {},
     "output_type": "execute_result"
    }
   ],
   "source": [
    "y,X = patsy.dmatrices( 'v2~key1+0', data )\n",
    "X"
   ]
  },
  {
   "cell_type": "code",
   "execution_count": 49,
   "metadata": {
    "ExecuteTime": {
     "end_time": "2020-11-19T02:48:04.197980Z",
     "start_time": "2020-11-19T02:48:04.181999Z"
    },
    "scrolled": true
   },
   "outputs": [
    {
     "data": {
      "text/plain": [
       "DesignMatrix with shape (8, 2)\n",
       "  Intercept  C(key2)[T.1]\n",
       "          1             0\n",
       "          1             1\n",
       "          1             0\n",
       "          1             1\n",
       "          1             0\n",
       "          1             1\n",
       "          1             0\n",
       "          1             0\n",
       "  Terms:\n",
       "    'Intercept' (column 0)\n",
       "    'C(key2)' (column 1)"
      ]
     },
     "execution_count": 49,
     "metadata": {},
     "output_type": "execute_result"
    }
   ],
   "source": [
    "y, X = patsy.dmatrices('v2 ~ C(key2)', data)\n",
    "X"
   ]
  },
  {
   "cell_type": "code",
   "execution_count": 50,
   "metadata": {
    "ExecuteTime": {
     "end_time": "2020-11-19T02:54:05.099476Z",
     "start_time": "2020-11-19T02:54:05.080045Z"
    }
   },
   "outputs": [
    {
     "data": {
      "text/html": [
       "<div>\n",
       "<style scoped>\n",
       "    .dataframe tbody tr th:only-of-type {\n",
       "        vertical-align: middle;\n",
       "    }\n",
       "\n",
       "    .dataframe tbody tr th {\n",
       "        vertical-align: top;\n",
       "    }\n",
       "\n",
       "    .dataframe thead th {\n",
       "        text-align: right;\n",
       "    }\n",
       "</style>\n",
       "<table border=\"1\" class=\"dataframe\">\n",
       "  <thead>\n",
       "    <tr style=\"text-align: right;\">\n",
       "      <th></th>\n",
       "      <th>key1</th>\n",
       "      <th>key2</th>\n",
       "      <th>v1</th>\n",
       "      <th>v2</th>\n",
       "    </tr>\n",
       "  </thead>\n",
       "  <tbody>\n",
       "    <tr>\n",
       "      <th>0</th>\n",
       "      <td>a</td>\n",
       "      <td>zero</td>\n",
       "      <td>1</td>\n",
       "      <td>-1.0</td>\n",
       "    </tr>\n",
       "    <tr>\n",
       "      <th>1</th>\n",
       "      <td>a</td>\n",
       "      <td>one</td>\n",
       "      <td>2</td>\n",
       "      <td>0.0</td>\n",
       "    </tr>\n",
       "    <tr>\n",
       "      <th>2</th>\n",
       "      <td>b</td>\n",
       "      <td>zero</td>\n",
       "      <td>3</td>\n",
       "      <td>2.5</td>\n",
       "    </tr>\n",
       "    <tr>\n",
       "      <th>3</th>\n",
       "      <td>b</td>\n",
       "      <td>one</td>\n",
       "      <td>4</td>\n",
       "      <td>-0.5</td>\n",
       "    </tr>\n",
       "    <tr>\n",
       "      <th>4</th>\n",
       "      <td>a</td>\n",
       "      <td>zero</td>\n",
       "      <td>5</td>\n",
       "      <td>4.0</td>\n",
       "    </tr>\n",
       "    <tr>\n",
       "      <th>5</th>\n",
       "      <td>b</td>\n",
       "      <td>one</td>\n",
       "      <td>6</td>\n",
       "      <td>-1.2</td>\n",
       "    </tr>\n",
       "    <tr>\n",
       "      <th>6</th>\n",
       "      <td>a</td>\n",
       "      <td>zero</td>\n",
       "      <td>7</td>\n",
       "      <td>0.2</td>\n",
       "    </tr>\n",
       "    <tr>\n",
       "      <th>7</th>\n",
       "      <td>b</td>\n",
       "      <td>zero</td>\n",
       "      <td>8</td>\n",
       "      <td>-1.7</td>\n",
       "    </tr>\n",
       "  </tbody>\n",
       "</table>\n",
       "</div>"
      ],
      "text/plain": [
       "  key1  key2  v1   v2\n",
       "0    a  zero   1 -1.0\n",
       "1    a   one   2  0.0\n",
       "2    b  zero   3  2.5\n",
       "3    b   one   4 -0.5\n",
       "4    a  zero   5  4.0\n",
       "5    b   one   6 -1.2\n",
       "6    a  zero   7  0.2\n",
       "7    b  zero   8 -1.7"
      ]
     },
     "execution_count": 50,
     "metadata": {},
     "output_type": "execute_result"
    }
   ],
   "source": [
    "data['key2'] = data['key2'].map({0: 'zero', 1: 'one'})\n",
    "data"
   ]
  },
  {
   "cell_type": "code",
   "execution_count": 51,
   "metadata": {
    "ExecuteTime": {
     "end_time": "2020-11-19T02:54:28.197852Z",
     "start_time": "2020-11-19T02:54:28.171109Z"
    }
   },
   "outputs": [
    {
     "data": {
      "text/plain": [
       "DesignMatrix with shape (8, 3)\n",
       "  Intercept  key1[T.b]  key2[T.zero]\n",
       "          1          0             1\n",
       "          1          0             0\n",
       "          1          1             1\n",
       "          1          1             0\n",
       "          1          0             1\n",
       "          1          1             0\n",
       "          1          0             1\n",
       "          1          1             1\n",
       "  Terms:\n",
       "    'Intercept' (column 0)\n",
       "    'key1' (column 1)\n",
       "    'key2' (column 2)"
      ]
     },
     "execution_count": 51,
     "metadata": {},
     "output_type": "execute_result"
    }
   ],
   "source": [
    "y, X = patsy.dmatrices('v2 ~ key1 + key2', data)\n",
    "X"
   ]
  },
  {
   "cell_type": "code",
   "execution_count": 52,
   "metadata": {
    "ExecuteTime": {
     "end_time": "2020-11-19T02:55:08.897643Z",
     "start_time": "2020-11-19T02:55:08.880112Z"
    }
   },
   "outputs": [
    {
     "data": {
      "text/plain": [
       "DesignMatrix with shape (8, 4)\n",
       "  Intercept  key1[T.b]  key2[T.zero]  key1[T.b]:key2[T.zero]\n",
       "          1          0             1                       0\n",
       "          1          0             0                       0\n",
       "          1          1             1                       1\n",
       "          1          1             0                       0\n",
       "          1          0             1                       0\n",
       "          1          1             0                       0\n",
       "          1          0             1                       0\n",
       "          1          1             1                       1\n",
       "  Terms:\n",
       "    'Intercept' (column 0)\n",
       "    'key1' (column 1)\n",
       "    'key2' (column 2)\n",
       "    'key1:key2' (column 3)"
      ]
     },
     "execution_count": 52,
     "metadata": {},
     "output_type": "execute_result"
    }
   ],
   "source": [
    "y, X = patsy.dmatrices('v2 ~ key1 + key2 + key1:key2', data)\n",
    "X"
   ]
  },
  {
   "cell_type": "markdown",
   "metadata": {},
   "source": [
    "##  statsmodels介绍"
   ]
  },
  {
   "cell_type": "markdown",
   "metadata": {},
   "source": [
    "`statsmodels`是一个Python库，用于**拟合多种统计模型，执行统计测试以及数据探索和可视化**， `statsmodels`包含更多的“经典”频率学派统计方法， 而贝叶斯方法和机器学习模型可在其他库中找到"
   ]
  },
  {
   "cell_type": "markdown",
   "metadata": {},
   "source": [
    "- 线性模型，广义线性模型和鲁棒性线性模型\n",
    "- 线性混合效应模型\n",
    "- 方差分析方法\n",
    "- 时间序列过程和状态空间模型\n",
    "- 广义的矩量法"
   ]
  },
  {
   "cell_type": "markdown",
   "metadata": {},
   "source": [
    "### 评估线性模型"
   ]
  },
  {
   "cell_type": "markdown",
   "metadata": {},
   "source": [
    "统计模型中有几种线性回归模型，从较基本的（如，普通最小二乘）到更复杂的（例如，迭代重新加权的最小二乘）"
   ]
  },
  {
   "cell_type": "markdown",
   "metadata": {},
   "source": [
    "`statsmodels`中的线性模型有两种不同的接口\n",
    "1. **基于数组的**\n",
    "2. **基于公式的**"
   ]
  },
  {
   "cell_type": "code",
   "execution_count": 54,
   "metadata": {
    "ExecuteTime": {
     "end_time": "2020-11-19T03:29:30.711317Z",
     "start_time": "2020-11-19T03:29:30.706828Z"
    }
   },
   "outputs": [],
   "source": [
    "import statsmodels.api as sm\n",
    "import statsmodels.formula.api as smf"
   ]
  },
  {
   "cell_type": "code",
   "execution_count": 67,
   "metadata": {
    "ExecuteTime": {
     "end_time": "2020-11-19T03:38:29.118781Z",
     "start_time": "2020-11-19T03:38:29.113291Z"
    }
   },
   "outputs": [],
   "source": [
    "def dnorm(mean, variance, size=1):\n",
    "    if isinstance(size, int):\n",
    "        size = size,\n",
    "    return mean + np.sqrt(variance) * np.random.randn(*size)"
   ]
  },
  {
   "cell_type": "code",
   "execution_count": 68,
   "metadata": {
    "ExecuteTime": {
     "end_time": "2020-11-19T03:38:30.672386Z",
     "start_time": "2020-11-19T03:38:30.656561Z"
    }
   },
   "outputs": [
    {
     "data": {
      "text/plain": [
       "array([[-0.1295, -0.9902,  0.7131],\n",
       "       [ 0.3029, -0.3558, -0.3595],\n",
       "       [-0.3285, -0.0207,  0.1957],\n",
       "       [-0.3515, -0.5876, -0.3652],\n",
       "       [ 1.2433, -0.3052, -0.7391],\n",
       "       [ 0.8813, -0.0229, -0.5218],\n",
       "       [ 0.0588,  0.6928, -1.6725],\n",
       "       [ 0.1782,  0.6204, -0.0968],\n",
       "       [ 0.4864, -0.3728, -0.4756],\n",
       "       [ 0.7883,  1.0004, -0.0839],\n",
       "       [ 0.637 , -0.3344,  0.9217],\n",
       "       [-0.8198,  0.289 ,  0.3855],\n",
       "       [ 0.1739,  0.5882, -0.3123],\n",
       "       [ 0.1448, -0.9925,  0.7842],\n",
       "       [ 0.8557, -0.6467, -0.0858],\n",
       "       [ 0.5606, -0.2548,  0.9044],\n",
       "       [-1.2659,  0.1394, -0.5356],\n",
       "       [-0.2352, -0.1223,  0.3815],\n",
       "       [ 1.0556,  0.4232,  0.7992],\n",
       "       [-0.2774, -1.0429, -0.1616],\n",
       "       [-0.3414, -1.4248, -0.2819],\n",
       "       [ 0.3017, -0.738 ,  0.2962],\n",
       "       [ 2.0548,  0.2236, -0.6082],\n",
       "       [-0.6459,  0.4441, -1.1539],\n",
       "       [-0.365 , -0.1737,  0.3956],\n",
       "       [ 0.0785, -0.088 ,  0.6469],\n",
       "       [ 0.1914,  0.0681,  0.7004],\n",
       "       [ 0.3313, -0.3836,  0.0575],\n",
       "       [ 0.0006, -0.2638, -0.2214],\n",
       "       [ 0.8499, -0.0108,  0.1378],\n",
       "       [-0.4513, -0.7742, -0.5659],\n",
       "       [-0.5257, -1.139 , -1.1014],\n",
       "       [-1.4991,  1.0339, -0.6655],\n",
       "       [-1.1768,  0.6255,  0.9086],\n",
       "       [-0.5444,  0.2896, -0.3644],\n",
       "       [ 0.3543,  0.3511, -1.5307],\n",
       "       [-0.8006,  0.8264, -0.6719],\n",
       "       [ 0.0758, -0.2786,  0.1501],\n",
       "       [-0.6726, -0.1906,  0.0006],\n",
       "       [ 0.2105,  0.3155,  0.0413],\n",
       "       [-1.4922, -0.5211, -0.8649],\n",
       "       [-0.1262,  0.8352, -0.0192],\n",
       "       [-0.9752,  0.3213,  0.5948],\n",
       "       [-0.6139, -0.4133, -0.4063],\n",
       "       [-0.8266,  0.1183,  0.6579],\n",
       "       [ 0.1811, -0.2477, -0.6849],\n",
       "       [ 0.2391, -0.1722,  0.2715],\n",
       "       [-0.4768, -0.0108, -0.1494],\n",
       "       [ 0.2095,  0.4303,  0.4059],\n",
       "       [ 0.8537,  0.4019, -0.2098],\n",
       "       [ 0.0442, -0.4789,  0.8817],\n",
       "       [ 0.156 ,  0.4542, -0.681 ],\n",
       "       [-0.0075, -0.1924, -0.1217],\n",
       "       [ 0.6355, -1.0611, -0.551 ],\n",
       "       [ 0.8394,  0.27  ,  0.2662],\n",
       "       [-0.5814, -0.989 , -0.7662],\n",
       "       [-0.9797, -0.2324, -0.1637],\n",
       "       [ 0.014 ,  0.6615, -0.3679],\n",
       "       [ 0.4796,  0.7716, -0.7972],\n",
       "       [-0.4178, -0.1567,  0.2938],\n",
       "       [ 0.5455, -0.2632, -0.6769],\n",
       "       [-0.0063, -0.0738,  0.5086],\n",
       "       [ 0.0316, -1.1667, -0.0991],\n",
       "       [ 0.4239,  1.3084,  1.2715],\n",
       "       [ 0.5395, -0.4914, -0.5611],\n",
       "       [-0.6045,  0.9108, -0.6185],\n",
       "       [-0.0149, -0.0699, -0.169 ],\n",
       "       [-1.4573,  0.7763,  0.3057],\n",
       "       [-0.4127,  1.2148, -0.2532],\n",
       "       [-0.7705,  0.4721,  0.2845],\n",
       "       [-0.8428,  1.407 ,  0.2527],\n",
       "       [ 0.6797, -0.4297, -0.0959],\n",
       "       [ 0.4577,  0.46  , -1.6178],\n",
       "       [ 0.4364, -0.5494,  0.1017],\n",
       "       [ 0.6334, -0.7677,  0.0484],\n",
       "       [-0.3182, -0.2977, -0.188 ],\n",
       "       [-0.3936, -0.5814, -0.8186],\n",
       "       [-0.5826, -0.5305, -0.5598],\n",
       "       [-0.4593,  0.2752, -0.1186],\n",
       "       [ 0.141 , -0.3528, -0.3122],\n",
       "       [ 0.0325, -0.3589, -0.073 ],\n",
       "       [-0.7322, -0.2357, -0.2218],\n",
       "       [ 0.5165, -0.586 ,  0.0283],\n",
       "       [ 0.2742,  1.11  , -0.5678],\n",
       "       [ 0.6392,  0.7652,  0.5634],\n",
       "       [ 1.1542,  0.8032, -0.7281],\n",
       "       [-0.6309, -0.6163, -1.6522],\n",
       "       [ 0.538 , -0.4014,  0.7218],\n",
       "       [-0.0832, -0.2503, -0.5484],\n",
       "       [ 0.5771, -0.1831,  0.2426],\n",
       "       [ 0.119 , -0.4644, -0.2764],\n",
       "       [ 1.3721, -0.4607,  0.2198],\n",
       "       [-0.0727,  0.5305, -0.778 ],\n",
       "       [ 1.2672,  0.1688,  0.3612],\n",
       "       [ 0.0187,  0.4561,  0.038 ],\n",
       "       [ 0.503 ,  0.5762, -0.1426],\n",
       "       [ 0.0747, -0.6457,  0.8536],\n",
       "       [-0.4734, -0.8939,  0.854 ],\n",
       "       [ 0.37  ,  0.82  , -0.2445],\n",
       "       [ 0.0966,  0.1596,  0.5477]])"
      ]
     },
     "execution_count": 68,
     "metadata": {},
     "output_type": "execute_result"
    }
   ],
   "source": [
    "np.random.seed(12345)\n",
    "N = 100\n",
    "X = np.c_[\n",
    "    \n",
    "    dnorm(0, 0.4, size=N),\n",
    "    dnorm(0, 0.4, size=N),\n",
    "    dnorm(0, 0.4, size=N)\n",
    "    \n",
    "]\n",
    "X "
   ]
  },
  {
   "cell_type": "code",
   "execution_count": 59,
   "metadata": {
    "ExecuteTime": {
     "end_time": "2020-11-19T03:33:27.351088Z",
     "start_time": "2020-11-19T03:33:27.345059Z"
    }
   },
   "outputs": [],
   "source": [
    "eps = dnorm(0, 0.1, size=N) "
   ]
  },
  {
   "cell_type": "code",
   "execution_count": 62,
   "metadata": {
    "ExecuteTime": {
     "end_time": "2020-11-19T03:34:58.702887Z",
     "start_time": "2020-11-19T03:34:58.696911Z"
    }
   },
   "outputs": [],
   "source": [
    "beta = [0.1, 0.3, 0.5]"
   ]
  },
  {
   "cell_type": "code",
   "execution_count": 60,
   "metadata": {
    "ExecuteTime": {
     "end_time": "2020-11-19T03:33:59.990990Z",
     "start_time": "2020-11-19T03:33:59.985350Z"
    }
   },
   "outputs": [],
   "source": [
    "y = np.dot(X, [0.1, 0.3, 0.5]) * eps"
   ]
  },
  {
   "cell_type": "code",
   "execution_count": 61,
   "metadata": {
    "ExecuteTime": {
     "end_time": "2020-11-19T03:34:28.664350Z",
     "start_time": "2020-11-19T03:34:28.657075Z"
    }
   },
   "outputs": [
    {
     "data": {
      "text/plain": [
       "array([ 0.0257,  0.1142, -0.007 ,  0.0431, -0.0405, -0.0107, -0.2605,\n",
       "       -0.1114,  0.0871, -0.051 ,  0.1405,  0.0577, -0.0014,  0.014 ,\n",
       "       -0.0138, -0.0594, -0.04  , -0.016 ,  0.4255, -0.1878,  0.0201,\n",
       "       -0.0095, -0.0209,  0.022 , -0.0321,  0.0316,  0.1606,  0.0237,\n",
       "        0.0086, -0.0341, -0.0184,  0.447 ,  0.0641,  0.4334,  0.0326,\n",
       "        0.1485, -0.0338,  0.0003, -0.0241,  0.044 , -0.156 , -0.0585,\n",
       "       -0.0851, -0.1858,  0.0085, -0.1493,  0.0218,  0.0214, -0.0062,\n",
       "       -0.0363, -0.0163,  0.0691, -0.0417, -0.1064,  0.1187, -0.2252,\n",
       "        0.0343, -0.0044,  0.0262,  0.0225, -0.0525,  0.0085, -0.1271,\n",
       "       -0.3843,  0.0311, -0.0398,  0.0545, -0.0779,  0.0772, -0.0103,\n",
       "       -0.3595,  0.0356, -0.3162, -0.0105, -0.0068,  0.0369,  0.0937,\n",
       "       -0.0167,  0.0094, -0.1703, -0.0252,  0.0154,  0.0319, -0.0236,\n",
       "        0.4024, -0.0002, -0.6177, -0.1472,  0.0876,  0.0217, -0.0089,\n",
       "        0.1352,  0.0191,  0.0967, -0.0182,  0.0063, -0.0531,  0.0471,\n",
       "       -0.0077,  0.0464])"
      ]
     },
     "execution_count": 61,
     "metadata": {},
     "output_type": "execute_result"
    }
   ],
   "source": [
    "y "
   ]
  },
  {
   "cell_type": "code",
   "execution_count": 69,
   "metadata": {
    "ExecuteTime": {
     "end_time": "2020-11-19T03:52:47.060528Z",
     "start_time": "2020-11-19T03:52:47.055471Z"
    }
   },
   "outputs": [],
   "source": [
    "x_mode  = sm.add_constant(X)"
   ]
  },
  {
   "cell_type": "code",
   "execution_count": 72,
   "metadata": {
    "ExecuteTime": {
     "end_time": "2020-11-19T03:53:16.199334Z",
     "start_time": "2020-11-19T03:53:16.186914Z"
    }
   },
   "outputs": [
    {
     "data": {
      "text/plain": [
       "array([[ 1.    , -0.1295, -0.9902,  0.7131],\n",
       "       [ 1.    ,  0.3029, -0.3558, -0.3595],\n",
       "       [ 1.    , -0.3285, -0.0207,  0.1957],\n",
       "       [ 1.    , -0.3515, -0.5876, -0.3652],\n",
       "       [ 1.    ,  1.2433, -0.3052, -0.7391]])"
      ]
     },
     "execution_count": 72,
     "metadata": {},
     "output_type": "execute_result"
    }
   ],
   "source": [
    "x_mode[:5]"
   ]
  },
  {
   "cell_type": "code",
   "execution_count": 75,
   "metadata": {
    "ExecuteTime": {
     "end_time": "2020-11-19T03:53:42.581461Z",
     "start_time": "2020-11-19T03:53:42.568204Z"
    }
   },
   "outputs": [],
   "source": [
    "model = sm.OLS(y,X)"
   ]
  },
  {
   "cell_type": "code",
   "execution_count": 78,
   "metadata": {
    "ExecuteTime": {
     "end_time": "2020-11-19T03:54:08.195380Z",
     "start_time": "2020-11-19T03:54:08.188780Z"
    }
   },
   "outputs": [
    {
     "data": {
      "text/plain": [
       "array([0.0225, 0.0014, 0.0578])"
      ]
     },
     "execution_count": 78,
     "metadata": {},
     "output_type": "execute_result"
    }
   ],
   "source": [
    "model.fit().params"
   ]
  },
  {
   "cell_type": "code",
   "execution_count": 80,
   "metadata": {
    "ExecuteTime": {
     "end_time": "2020-11-19T03:55:54.395538Z",
     "start_time": "2020-11-19T03:55:54.366989Z"
    }
   },
   "outputs": [
    {
     "data": {
      "text/html": [
       "<table class=\"simpletable\">\n",
       "<caption>OLS Regression Results</caption>\n",
       "<tr>\n",
       "  <th>Dep. Variable:</th>            <td>y</td>        <th>  R-squared (uncentered):</th>      <td>   0.074</td>\n",
       "</tr>\n",
       "<tr>\n",
       "  <th>Model:</th>                   <td>OLS</td>       <th>  Adj. R-squared (uncentered):</th> <td>   0.046</td>\n",
       "</tr>\n",
       "<tr>\n",
       "  <th>Method:</th>             <td>Least Squares</td>  <th>  F-statistic:       </th>          <td>   2.595</td>\n",
       "</tr>\n",
       "<tr>\n",
       "  <th>Date:</th>             <td>Thu, 19 Nov 2020</td> <th>  Prob (F-statistic):</th>           <td>0.0569</td> \n",
       "</tr>\n",
       "<tr>\n",
       "  <th>Time:</th>                 <td>11:55:54</td>     <th>  Log-Likelihood:    </th>          <td>  56.378</td>\n",
       "</tr>\n",
       "<tr>\n",
       "  <th>No. Observations:</th>      <td>   100</td>      <th>  AIC:               </th>          <td>  -106.8</td>\n",
       "</tr>\n",
       "<tr>\n",
       "  <th>Df Residuals:</th>          <td>    97</td>      <th>  BIC:               </th>          <td>  -98.94</td>\n",
       "</tr>\n",
       "<tr>\n",
       "  <th>Df Model:</th>              <td>     3</td>      <th>                     </th>              <td> </td>   \n",
       "</tr>\n",
       "<tr>\n",
       "  <th>Covariance Type:</th>      <td>nonrobust</td>    <th>                     </th>              <td> </td>   \n",
       "</tr>\n",
       "</table>\n",
       "<table class=\"simpletable\">\n",
       "<tr>\n",
       "   <td></td>     <th>coef</th>     <th>std err</th>      <th>t</th>      <th>P>|t|</th>  <th>[0.025</th>    <th>0.975]</th>  \n",
       "</tr>\n",
       "<tr>\n",
       "  <th>x1</th> <td>    0.0225</td> <td>    0.021</td> <td>    1.049</td> <td> 0.297</td> <td>   -0.020</td> <td>    0.065</td>\n",
       "</tr>\n",
       "<tr>\n",
       "  <th>x2</th> <td>    0.0014</td> <td>    0.023</td> <td>    0.063</td> <td> 0.950</td> <td>   -0.044</td> <td>    0.047</td>\n",
       "</tr>\n",
       "<tr>\n",
       "  <th>x3</th> <td>    0.0578</td> <td>    0.023</td> <td>    2.520</td> <td> 0.013</td> <td>    0.012</td> <td>    0.103</td>\n",
       "</tr>\n",
       "</table>\n",
       "<table class=\"simpletable\">\n",
       "<tr>\n",
       "  <th>Omnibus:</th>       <td>18.102</td> <th>  Durbin-Watson:     </th> <td>   1.797</td>\n",
       "</tr>\n",
       "<tr>\n",
       "  <th>Prob(Omnibus):</th> <td> 0.000</td> <th>  Jarque-Bera (JB):  </th> <td>  94.905</td>\n",
       "</tr>\n",
       "<tr>\n",
       "  <th>Skew:</th>          <td> 0.004</td> <th>  Prob(JB):          </th> <td>2.46e-21</td>\n",
       "</tr>\n",
       "<tr>\n",
       "  <th>Kurtosis:</th>      <td> 7.773</td> <th>  Cond. No.          </th> <td>    1.10</td>\n",
       "</tr>\n",
       "</table><br/><br/>Notes:<br/>[1] R² is computed without centering (uncentered) since the model does not contain a constant.<br/>[2] Standard Errors assume that the covariance matrix of the errors is correctly specified."
      ],
      "text/plain": [
       "<class 'statsmodels.iolib.summary.Summary'>\n",
       "\"\"\"\n",
       "                                 OLS Regression Results                                \n",
       "=======================================================================================\n",
       "Dep. Variable:                      y   R-squared (uncentered):                   0.074\n",
       "Model:                            OLS   Adj. R-squared (uncentered):              0.046\n",
       "Method:                 Least Squares   F-statistic:                              2.595\n",
       "Date:                Thu, 19 Nov 2020   Prob (F-statistic):                      0.0569\n",
       "Time:                        11:55:54   Log-Likelihood:                          56.378\n",
       "No. Observations:                 100   AIC:                                     -106.8\n",
       "Df Residuals:                      97   BIC:                                     -98.94\n",
       "Df Model:                           3                                                  \n",
       "Covariance Type:            nonrobust                                                  \n",
       "==============================================================================\n",
       "                 coef    std err          t      P>|t|      [0.025      0.975]\n",
       "------------------------------------------------------------------------------\n",
       "x1             0.0225      0.021      1.049      0.297      -0.020       0.065\n",
       "x2             0.0014      0.023      0.063      0.950      -0.044       0.047\n",
       "x3             0.0578      0.023      2.520      0.013       0.012       0.103\n",
       "==============================================================================\n",
       "Omnibus:                       18.102   Durbin-Watson:                   1.797\n",
       "Prob(Omnibus):                  0.000   Jarque-Bera (JB):               94.905\n",
       "Skew:                           0.004   Prob(JB):                     2.46e-21\n",
       "Kurtosis:                       7.773   Cond. No.                         1.10\n",
       "==============================================================================\n",
       "\n",
       "Notes:\n",
       "[1] R² is computed without centering (uncentered) since the model does not contain a constant.\n",
       "[2] Standard Errors assume that the covariance matrix of the errors is correctly specified.\n",
       "\"\"\""
      ]
     },
     "execution_count": 80,
     "metadata": {},
     "output_type": "execute_result"
    }
   ],
   "source": [
    "model.fit().summary()"
   ]
  },
  {
   "cell_type": "code",
   "execution_count": 81,
   "metadata": {
    "ExecuteTime": {
     "end_time": "2020-11-19T03:57:42.411597Z",
     "start_time": "2020-11-19T03:57:42.398472Z"
    }
   },
   "outputs": [
    {
     "data": {
      "text/html": [
       "<div>\n",
       "<style scoped>\n",
       "    .dataframe tbody tr th:only-of-type {\n",
       "        vertical-align: middle;\n",
       "    }\n",
       "\n",
       "    .dataframe tbody tr th {\n",
       "        vertical-align: top;\n",
       "    }\n",
       "\n",
       "    .dataframe thead th {\n",
       "        text-align: right;\n",
       "    }\n",
       "</style>\n",
       "<table border=\"1\" class=\"dataframe\">\n",
       "  <thead>\n",
       "    <tr style=\"text-align: right;\">\n",
       "      <th></th>\n",
       "      <th>col0</th>\n",
       "      <th>col1</th>\n",
       "      <th>col2</th>\n",
       "      <th>y</th>\n",
       "    </tr>\n",
       "  </thead>\n",
       "  <tbody>\n",
       "    <tr>\n",
       "      <th>0</th>\n",
       "      <td>-0.129468</td>\n",
       "      <td>-0.990209</td>\n",
       "      <td>0.713082</td>\n",
       "      <td>0.025710</td>\n",
       "    </tr>\n",
       "    <tr>\n",
       "      <th>1</th>\n",
       "      <td>0.302910</td>\n",
       "      <td>-0.355782</td>\n",
       "      <td>-0.359465</td>\n",
       "      <td>0.114244</td>\n",
       "    </tr>\n",
       "    <tr>\n",
       "      <th>2</th>\n",
       "      <td>-0.328522</td>\n",
       "      <td>-0.020659</td>\n",
       "      <td>0.195658</td>\n",
       "      <td>-0.007031</td>\n",
       "    </tr>\n",
       "    <tr>\n",
       "      <th>3</th>\n",
       "      <td>-0.351475</td>\n",
       "      <td>-0.587555</td>\n",
       "      <td>-0.365171</td>\n",
       "      <td>0.043087</td>\n",
       "    </tr>\n",
       "    <tr>\n",
       "      <th>4</th>\n",
       "      <td>1.243269</td>\n",
       "      <td>-0.305206</td>\n",
       "      <td>-0.739109</td>\n",
       "      <td>-0.040477</td>\n",
       "    </tr>\n",
       "  </tbody>\n",
       "</table>\n",
       "</div>"
      ],
      "text/plain": [
       "       col0      col1      col2         y\n",
       "0 -0.129468 -0.990209  0.713082  0.025710\n",
       "1  0.302910 -0.355782 -0.359465  0.114244\n",
       "2 -0.328522 -0.020659  0.195658 -0.007031\n",
       "3 -0.351475 -0.587555 -0.365171  0.043087\n",
       "4  1.243269 -0.305206 -0.739109 -0.040477"
      ]
     },
     "execution_count": 81,
     "metadata": {},
     "output_type": "execute_result"
    }
   ],
   "source": [
    "data = pd.DataFrame(X, columns=['col0', 'col1', 'col2'])\n",
    "data['y'] = y\n",
    "data[:5]"
   ]
  },
  {
   "cell_type": "code",
   "execution_count": 83,
   "metadata": {
    "ExecuteTime": {
     "end_time": "2020-11-19T03:58:06.046468Z",
     "start_time": "2020-11-19T03:58:06.009894Z"
    }
   },
   "outputs": [
    {
     "data": {
      "text/plain": [
       "Intercept   -0.015065\n",
       "col0         1.043712\n",
       "col1         0.062095\n",
       "col2         2.464623\n",
       "dtype: float64"
      ]
     },
     "execution_count": 83,
     "metadata": {},
     "output_type": "execute_result"
    }
   ],
   "source": [
    "results = smf.ols('y ~ col0 + col1 + col2', data=data).fit()\n",
    "results.params\n",
    "results.tvalues"
   ]
  },
  {
   "cell_type": "markdown",
   "metadata": {},
   "source": [
    "### 评估时间序列处理"
   ]
  },
  {
   "cell_type": "markdown",
   "metadata": {},
   "source": [
    "`statsmodels`中的另一类模型用于**时间序列分析**，其中包括**自回归模型，卡尔曼滤波和其他状态的空间参数，以及多变量自回归模型**"
   ]
  },
  {
   "cell_type": "code",
   "execution_count": 84,
   "metadata": {
    "ExecuteTime": {
     "end_time": "2020-11-19T04:08:43.702656Z",
     "start_time": "2020-11-19T04:08:43.693844Z"
    }
   },
   "outputs": [],
   "source": [
    "init_x = 4\n",
    "\n",
    "import random\n",
    "values = [init_x, init_x]\n",
    "N = 1000\n",
    "\n",
    "b0 = 0.8\n",
    "b1 = -0.4\n",
    "noise = dnorm(0, 0.1, N)\n",
    "for i in range(N):\n",
    "    new_x = values[-1] * b0 + values[-2] * b1 + noise[i]\n",
    "    values.append(new_x)"
   ]
  },
  {
   "cell_type": "code",
   "execution_count": 85,
   "metadata": {
    "ExecuteTime": {
     "end_time": "2020-11-19T04:12:00.621724Z",
     "start_time": "2020-11-19T04:12:00.588809Z"
    }
   },
   "outputs": [
    {
     "data": {
      "text/plain": [
       "[4,\n",
       " 4,\n",
       " 2.152523777752035,\n",
       " -0.32393996541078857,\n",
       " -1.2397719558149354,\n",
       " -0.9715996753389815,\n",
       " -0.16118465379544833,\n",
       " 0.3194575104761386,\n",
       " 0.7385035048026619,\n",
       " -0.25310599187150973,\n",
       " -0.7872278373809024,\n",
       " -0.6800016407228995,\n",
       " 0.10203863666923912,\n",
       " 0.6458097097082918,\n",
       " 0.43973486913794985,\n",
       " 0.22179001127225442,\n",
       " 0.09275453205781499,\n",
       " -0.15200457222244781,\n",
       " -0.04525697830633495,\n",
       " -0.09817758493656323,\n",
       " 0.6127294075449543,\n",
       " 0.9752106985440546,\n",
       " 0.5017355496159331,\n",
       " 0.23279905799896766,\n",
       " 0.6473629005975279,\n",
       " 0.38145641217990833,\n",
       " -0.24802662215445037,\n",
       " -0.24744014381637924,\n",
       " 0.31330744942782,\n",
       " -0.09607014293098726,\n",
       " -0.2477557196828938,\n",
       " -0.3863265250050961,\n",
       " -0.17719324959580113,\n",
       " -0.4602117274121091,\n",
       " -0.6688260465492446,\n",
       " 0.47564294572985005,\n",
       " 0.43006663646413656,\n",
       " -0.08389730298513823,\n",
       " -0.0379347901096814,\n",
       " -0.3628681369756984,\n",
       " -0.08074173433966625,\n",
       " 0.40354609765419075,\n",
       " 0.5664598890683412,\n",
       " 0.03575187506493488,\n",
       " -0.4851566606359389,\n",
       " 0.07580181765662425,\n",
       " 0.28478289140952945,\n",
       " 0.5721306735855378,\n",
       " 0.5452388840337798,\n",
       " 0.036805239929373706,\n",
       " -0.20607582556876983,\n",
       " -0.5387940306796574,\n",
       " -0.4025237062439559,\n",
       " -0.47272070205117256,\n",
       " 0.13213783826696704,\n",
       " 0.4953622489156626,\n",
       " 0.741781516991364,\n",
       " 0.7004182176544834,\n",
       " 0.12623809884680434,\n",
       " -0.45733165525921105,\n",
       " -0.6360877049538325,\n",
       " 0.06187602295304023,\n",
       " 0.4485401058866548,\n",
       " 0.37066879339731196,\n",
       " 0.437787339423938,\n",
       " -0.15695860089137348,\n",
       " -0.38396690714240683,\n",
       " 0.16873783112978233,\n",
       " -0.22081562604178706,\n",
       " -0.5687936004547766,\n",
       " 0.0259111594883652,\n",
       " 0.19867465111841415,\n",
       " -0.6258967524525302,\n",
       " -0.9071503341818417,\n",
       " 0.030455378995969173,\n",
       " 0.5371387773324053,\n",
       " 0.4653823300950895,\n",
       " -0.013999855827355828,\n",
       " -0.34771792324686257,\n",
       " -0.23892693605069634,\n",
       " -0.4657524581788155,\n",
       " 0.41019016775199163,\n",
       " 0.6929830500291843,\n",
       " 0.3300750662173224,\n",
       " -0.30309328081070386,\n",
       " -0.6830840079313378,\n",
       " 0.2743616431581764,\n",
       " 0.5161018523046105,\n",
       " 0.878226920026989,\n",
       " -0.0039832193499367285,\n",
       " -0.5993525543884416,\n",
       " -0.30303488381758303,\n",
       " 0.030852670971271506,\n",
       " 1.3878895086124239,\n",
       " 1.0172927403827823,\n",
       " 0.5287803239339705,\n",
       " -0.0992547917042966,\n",
       " -0.24945795365745738,\n",
       " -0.380469329999633,\n",
       " 0.21777716311399134,\n",
       " 0.27864678193641623,\n",
       " 0.27587580728068706,\n",
       " 0.40699289674040723,\n",
       " 0.3839084857338158,\n",
       " 0.25699089234864264,\n",
       " 0.04883057483976158,\n",
       " 0.3839685656242502,\n",
       " 0.4666609104684561,\n",
       " 0.3640952776094531,\n",
       " 0.16620926531694907,\n",
       " -0.21981688503320582,\n",
       " -0.421078664193336,\n",
       " 0.7556793119473697,\n",
       " 1.076405747395483,\n",
       " 0.25042333603554334,\n",
       " -0.5833684904233923,\n",
       " -0.9160985910890302,\n",
       " -0.7837428179280883,\n",
       " -0.6927219163899275,\n",
       " -0.09793464453002251,\n",
       " -0.30318255600884025,\n",
       " -0.4351003618194673,\n",
       " -0.3895262570260367,\n",
       " -0.3310730583700493,\n",
       " -0.11904031975703194,\n",
       " 0.11123470637154749,\n",
       " 0.22259769568315796,\n",
       " 0.5227877168711413,\n",
       " 0.7365892745119899,\n",
       " 0.649523415516157,\n",
       " -0.2585863445100847,\n",
       " -0.9573738072138953,\n",
       " -0.5684522329124526,\n",
       " 0.03722028786368335,\n",
       " 0.13126578714534431,\n",
       " 0.22591400038427709,\n",
       " 0.03780124799085091,\n",
       " -0.7648182561832286,\n",
       " -0.6059273682583329,\n",
       " -0.023874130241160557,\n",
       " 0.8139616603516127,\n",
       " 1.3154489005748504,\n",
       " 0.6491774665924558,\n",
       " 0.23422350570038075,\n",
       " -0.03149390668606155,\n",
       " 0.0794142877199611,\n",
       " -0.2597791258734852,\n",
       " -0.7137736420055603,\n",
       " -0.29471437075417883,\n",
       " 0.17648940638008653,\n",
       " -0.35637481361785567,\n",
       " -0.19599054066511012,\n",
       " -0.3021644531913593,\n",
       " -0.23280941183633647,\n",
       " 0.06365669395485613,\n",
       " -0.046682206057538506,\n",
       " -0.17700859601471694,\n",
       " 0.05542622068081146,\n",
       " -0.21898708072299045,\n",
       " 0.2428131032258749,\n",
       " -0.2751164267218162,\n",
       " -0.6055020901602692,\n",
       " -0.16616994685149442,\n",
       " -0.39020607405098784,\n",
       " -0.10095754210786051,\n",
       " 0.017361936699270747,\n",
       " -0.1624964749332159,\n",
       " -0.10328541773310779,\n",
       " -0.11826483005725517,\n",
       " 0.08385438749814426,\n",
       " 0.29521667798743984,\n",
       " 0.3819662601276173,\n",
       " 0.21328323844424452,\n",
       " -0.07776659425785191,\n",
       " -0.377397716338725,\n",
       " -0.21378456554587807,\n",
       " -0.1845730118652516,\n",
       " 0.06374318627767867,\n",
       " -0.16513657639825716,\n",
       " -0.18374280302572443,\n",
       " -0.694323702248416,\n",
       " -0.036714928498514154,\n",
       " 0.7266224648251473,\n",
       " 0.7624756865660068,\n",
       " 0.2349206223522959,\n",
       " 0.15562438130533784,\n",
       " 0.05703211246427746,\n",
       " -0.6087096090766337,\n",
       " -0.8142417845451893,\n",
       " -0.3825902294899999,\n",
       " 0.06033140545812305,\n",
       " 0.04979006129163199,\n",
       " -0.18677498654230093,\n",
       " 0.06656161472878158,\n",
       " -0.0689073805493888,\n",
       " 0.21433012820168407,\n",
       " 0.43620369053101243,\n",
       " 0.24529603448362142,\n",
       " 0.7492925128606548,\n",
       " 0.6814065082389407,\n",
       " 0.7164008976111947,\n",
       " 0.7003491574772843,\n",
       " 0.03280488689023897,\n",
       " -0.358762224368176,\n",
       " -0.8539463002456682,\n",
       " -0.3407783707383257,\n",
       " 0.15829075689675892,\n",
       " -0.16021288875445977,\n",
       " -0.3497923994734585,\n",
       " -0.17728122802719706,\n",
       " 0.5383112931232198,\n",
       " 0.19450453936328949,\n",
       " -0.2555709691479625,\n",
       " -0.5120638801263175,\n",
       " 0.07889864683088288,\n",
       " 0.42722817021152854,\n",
       " -0.1286612415733599,\n",
       " -0.209040554575728,\n",
       " 0.07514040473961708,\n",
       " 0.3162878105992152,\n",
       " 0.2974384583896937,\n",
       " 0.14680097273083864,\n",
       " -0.3972948403220842,\n",
       " -1.3092205669839097,\n",
       " -0.6877695746186626,\n",
       " 0.012734462938684542,\n",
       " 0.6956396612131259,\n",
       " 0.01796275976396189,\n",
       " 0.08065684200490508,\n",
       " 0.7090483982611805,\n",
       " 0.4586906734966019,\n",
       " -0.21641032255914616,\n",
       " -0.1427415775090531,\n",
       " -0.2342384925359708,\n",
       " -0.33656804787711964,\n",
       " -0.008329069401536077,\n",
       " 0.24110812356286995,\n",
       " 0.25587429219948243,\n",
       " 0.38318994172914,\n",
       " 0.18817978256723203,\n",
       " -0.22926651972041387,\n",
       " -0.2913384034157926,\n",
       " -0.5021915632901712,\n",
       " -0.4435774499015228,\n",
       " -0.2770932372683138,\n",
       " -0.19408830451057849,\n",
       " -0.003746123345894803,\n",
       " 0.12324082993615221,\n",
       " 0.24074607970067985,\n",
       " 0.1839458135949507,\n",
       " 0.13071517438363917,\n",
       " -0.2664622488641798,\n",
       " 0.05145034745003485,\n",
       " -0.018405629214412134,\n",
       " -0.31592545778484227,\n",
       " 0.33373409509525465,\n",
       " 0.10146995553271182,\n",
       " 0.1692117940443575,\n",
       " -0.18734152716418684,\n",
       " 0.509999931955207,\n",
       " 0.2243364626837795,\n",
       " 0.13793425791598712,\n",
       " 0.21780832731412716,\n",
       " 0.5900012221151391,\n",
       " 0.9985108817492514,\n",
       " 0.7345948803653328,\n",
       " 0.3483431729795732,\n",
       " 0.5104117156724031,\n",
       " -0.10706674661942411,\n",
       " -0.2602199713519806,\n",
       " -0.3358478756703378,\n",
       " -0.6191347128016624,\n",
       " -0.30153760023945253,\n",
       " -0.13602240179359884,\n",
       " -0.15165412982534565,\n",
       " -0.09715699669477362,\n",
       " 0.0829980474107388,\n",
       " 0.29605240744238137,\n",
       " -0.2689886127421637,\n",
       " -0.36867964014027144,\n",
       " -0.11104585783546587,\n",
       " -0.125613391428378,\n",
       " -0.1323188854184717,\n",
       " 0.01913401292807767,\n",
       " 0.10767492081694316,\n",
       " 0.4093636585118073,\n",
       " 0.19806173098032095,\n",
       " -0.17442544604254082,\n",
       " -0.31570887815385107,\n",
       " -0.23410255952390108,\n",
       " -0.40354659372865276,\n",
       " -0.005180029455596563,\n",
       " 0.6381757882882091,\n",
       " 0.6044272186248493,\n",
       " 0.012266920098658152,\n",
       " -0.5324726660970167,\n",
       " -0.30416929309063745,\n",
       " -0.07021373489970587,\n",
       " 0.1914201714853791,\n",
       " 0.2260116491591248,\n",
       " 0.02071239896987377,\n",
       " -0.21683675451293485,\n",
       " 0.05801015282476135,\n",
       " -0.029898993847192162,\n",
       " -0.23407784575112484,\n",
       " 0.10827323692465513,\n",
       " -0.1269457901192353,\n",
       " 0.4372492797400325,\n",
       " 0.44923925820999683,\n",
       " 0.09781874153301977,\n",
       " -0.6658837734991122,\n",
       " -0.2616129625241315,\n",
       " -0.21923047986521943,\n",
       " -0.39191100265223444,\n",
       " -0.3558832352684582,\n",
       " 0.33552792047970037,\n",
       " 0.09258122435676863,\n",
       " -0.3454303602215901,\n",
       " -0.07533027351497709,\n",
       " -0.07720449027251791,\n",
       " -0.19754740371607282,\n",
       " -0.34826127204125656,\n",
       " -0.08816374348912277,\n",
       " 0.09030944655729367,\n",
       " -0.18668682499564973,\n",
       " 0.08186557571869968,\n",
       " 0.14537621502308257,\n",
       " 0.3507554895023276,\n",
       " 0.8077389901356427,\n",
       " 0.5128694841848118,\n",
       " -0.3457724321618263,\n",
       " -0.201207351214637,\n",
       " -0.01812499039156771,\n",
       " 0.042533171434427024,\n",
       " 0.025918998935929475,\n",
       " 0.39427000568559695,\n",
       " 0.1680285191614829,\n",
       " 0.4165988477841178,\n",
       " 0.5254410810028631,\n",
       " 0.17547115599138416,\n",
       " 0.02578689525180429,\n",
       " 0.12246274823026952,\n",
       " -0.21034764622337618,\n",
       " -0.6177286239748788,\n",
       " -0.11365951084605147,\n",
       " -0.07155248324794855,\n",
       " -0.5158299161042452,\n",
       " -0.5027857750850254,\n",
       " -0.49906542547200156,\n",
       " 0.053053194914917806,\n",
       " -0.2655109389527102,\n",
       " -0.06169375031664101,\n",
       " 0.349412667875092,\n",
       " -0.1605297358917731,\n",
       " -0.3945510508538923,\n",
       " 0.1967741517863466,\n",
       " 0.03139095794228225,\n",
       " 0.5297816745578108,\n",
       " 0.8075555398041467,\n",
       " -0.037342465556103877,\n",
       " -0.3616664253722024,\n",
       " 0.16049164157606788,\n",
       " 0.26508836007873715,\n",
       " -0.06332822556327256,\n",
       " -1.0636447005675251,\n",
       " -0.7589589028152738,\n",
       " 0.22532500549192147,\n",
       " 0.3022320657707416,\n",
       " 0.30829168931341944,\n",
       " 0.25098240221542945,\n",
       " 0.26366358222651126,\n",
       " -0.2947892889449155,\n",
       " 0.30062102906562826,\n",
       " 0.19968374578457881,\n",
       " -0.01087161734801164,\n",
       " -0.5617159288503912,\n",
       " -0.44140401116365413,\n",
       " 0.004203629489780147,\n",
       " 0.8285752911026736,\n",
       " 0.5445649438019033,\n",
       " -0.4299673944673848,\n",
       " -0.5150990093357362,\n",
       " -0.29732896682464655,\n",
       " 0.018159091903042865,\n",
       " 0.008038051458770484,\n",
       " -0.12739913083887427,\n",
       " -0.36598943900229164,\n",
       " -0.31913075499504323,\n",
       " 0.27671746989250917,\n",
       " 0.21190027623221033,\n",
       " 0.33116348535137685,\n",
       " 0.07439132207013213,\n",
       " -0.022495047027681438,\n",
       " -0.35897270019831745,\n",
       " -0.03971753468874878,\n",
       " 0.0218825123280032,\n",
       " 0.13610302092153492,\n",
       " -0.17986643196783417,\n",
       " -0.6033884386865924,\n",
       " -0.3487487715060372,\n",
       " 0.26424134709946334,\n",
       " 0.09760321137879202,\n",
       " -0.02260129384741511,\n",
       " 0.28679222849224906,\n",
       " 0.03885779364911873,\n",
       " -0.09080565099455377,\n",
       " 0.12870642226365986,\n",
       " 0.3034662792942804,\n",
       " 0.24906586567528066,\n",
       " 0.14258136481310246,\n",
       " -0.06967352563081912,\n",
       " -0.11284324142905795,\n",
       " 0.32954405393496233,\n",
       " 0.049555815641649736,\n",
       " -0.17451517126323213,\n",
       " 0.0047321003560894526,\n",
       " 0.1188412998759663,\n",
       " 0.05628345662651597,\n",
       " 0.4708022920131214,\n",
       " -0.11524031890201675,\n",
       " -0.8089875614725872,\n",
       " -0.311058223573606,\n",
       " -0.16495667597521554,\n",
       " 0.6454026375277206,\n",
       " 0.31326502887674595,\n",
       " 0.15039115122138527,\n",
       " -0.03005931625690187,\n",
       " -0.5279640091714036,\n",
       " 0.08895969043116303,\n",
       " 0.2824700532258445,\n",
       " 0.4752769903156073,\n",
       " 0.12339129366626611,\n",
       " -0.3647914155034929,\n",
       " 0.01586941478919135,\n",
       " 0.17691359432134618,\n",
       " -0.0019770999415134882,\n",
       " -0.04303355089941337,\n",
       " -0.4756655425017814,\n",
       " 0.09768498623540484,\n",
       " 0.21251876142010892,\n",
       " 0.050543172478348886,\n",
       " -0.4441069834546722,\n",
       " -0.2324848194530115,\n",
       " -0.2740135136967602,\n",
       " -0.2851776465495841,\n",
       " 0.043812279084692915,\n",
       " 0.668257144153728,\n",
       " 0.7007427393660057,\n",
       " -0.2466170653823218,\n",
       " -0.5339916875083534,\n",
       " -0.5905285644862643,\n",
       " 0.14794129380689175,\n",
       " 0.2260329384780795,\n",
       " 0.17118123561419565,\n",
       " 0.06300939224600954,\n",
       " 0.28418968537197137,\n",
       " 0.4371657793340117,\n",
       " 0.08226788680002028,\n",
       " 0.4982530733156222,\n",
       " 0.159277938719588,\n",
       " -0.1266823445671042,\n",
       " -0.27902872635478904,\n",
       " -0.2928475052584637,\n",
       " -0.533174364324229,\n",
       " -0.14245784096982858,\n",
       " 0.06986258057958457,\n",
       " 0.23973893616264258,\n",
       " 0.13140640356375657,\n",
       " 0.01899121420260149,\n",
       " 0.7899140297700857,\n",
       " 0.37591317959592474,\n",
       " -0.17556195125285184,\n",
       " -0.9290275176308681,\n",
       " -0.8870369893242185,\n",
       " 0.5052798111221144,\n",
       " 1.2180293793780557,\n",
       " 0.9729988442197417,\n",
       " 0.13217950779266566,\n",
       " -0.12125269888340287,\n",
       " 0.4056684535992976,\n",
       " 0.06493171452363411,\n",
       " 0.10483842874099945,\n",
       " 0.3601481529435022,\n",
       " 0.7210103605686718,\n",
       " 0.19359683088722404,\n",
       " 0.016208623661328275,\n",
       " 0.47746142855680135,\n",
       " 0.012551332828590167,\n",
       " -0.18002542622842005,\n",
       " -0.49707178038746525,\n",
       " -0.4197350644163037,\n",
       " 0.021916361045102833,\n",
       " 0.18511486530397792,\n",
       " -0.07398934191278403,\n",
       " -0.03901473864638362,\n",
       " 0.4618388654600102,\n",
       " 0.28906119591886287,\n",
       " -0.2679687417005755,\n",
       " -0.2699509840009018,\n",
       " -0.6413101999284383,\n",
       " -0.5500204842470072,\n",
       " -0.011652271003792819,\n",
       " -0.16475954690197991,\n",
       " -0.2576354897628082,\n",
       " 0.23203514517295815,\n",
       " 0.18948034465571328,\n",
       " 0.5581038590040033,\n",
       " 0.4893991325599103,\n",
       " -0.32761127302868054,\n",
       " -0.7427340028823457,\n",
       " -0.25685292704898016,\n",
       " 0.36723547964007364,\n",
       " 0.4813469547734218,\n",
       " 0.5378664869522303,\n",
       " 0.28432450797114384,\n",
       " -0.5481866199138853,\n",
       " -0.3649395690231851,\n",
       " -0.044113584242312376,\n",
       " 0.31658764301445075,\n",
       " 0.24523953070730695,\n",
       " 0.32313885492218636,\n",
       " 0.2046382154105758,\n",
       " -0.12397595368338557,\n",
       " -0.22160888077309177,\n",
       " 0.0034131954134658526,\n",
       " 0.282558391281709,\n",
       " 0.8995414511439825,\n",
       " 0.9042395316210765,\n",
       " 0.06902254319204038,\n",
       " -0.3459011155284353,\n",
       " -0.24086416996864515,\n",
       " 0.0026711527280660896,\n",
       " -0.0028273298611633524,\n",
       " -0.5080703266071589,\n",
       " -0.8106341356397759,\n",
       " 0.029880156081586118,\n",
       " 0.5548246415331965,\n",
       " 0.33086129730207375,\n",
       " 0.3447864265153794,\n",
       " 0.2263350179717843,\n",
       " 0.09400062361998571,\n",
       " -0.19611480071600473,\n",
       " -0.0832874152936688,\n",
       " 0.36440364178783347,\n",
       " 0.6990201571480854,\n",
       " 0.748953691633331,\n",
       " 0.48105640464062127,\n",
       " -0.2116059194021671,\n",
       " -0.5345245512437526,\n",
       " -0.15639341355794953,\n",
       " 0.5574032155654232,\n",
       " 0.540772517823928,\n",
       " 0.29359560938280027,\n",
       " 0.019577219140018656,\n",
       " -0.9223911579658733,\n",
       " -1.2376580288098673,\n",
       " -0.2723720121904816,\n",
       " 0.45258868711348876,\n",
       " 0.0633984844253277,\n",
       " -0.008492581693861898,\n",
       " -0.5752087853183611,\n",
       " -0.778801530612728,\n",
       " -0.37662918933402423,\n",
       " 0.1693742874710334,\n",
       " 0.11438053744552776,\n",
       " -0.1364710690520518,\n",
       " 0.0758074152775457,\n",
       " 0.2525636551824515,\n",
       " -0.18677111378002972,\n",
       " 0.1998512298168365,\n",
       " 0.3188171807451737,\n",
       " -0.09502886782773953,\n",
       " -0.3776638871005542,\n",
       " -0.4598992901718922,\n",
       " 0.11168570739898318,\n",
       " -0.014652144854304328,\n",
       " 0.11118971747397265,\n",
       " 0.09213372859287389,\n",
       " -0.32780214729205237,\n",
       " -0.11889149150734285,\n",
       " -0.237020737972995,\n",
       " -0.5709104666194633,\n",
       " -0.37999298726249237,\n",
       " -0.10997921778318923,\n",
       " 0.5865435507450398,\n",
       " 0.08602555942689882,\n",
       " -0.33848792406445616,\n",
       " 0.008307702539385009,\n",
       " 0.8380578180647313,\n",
       " 0.8024369684516365,\n",
       " 0.39858058369288435,\n",
       " 0.19140623998751824,\n",
       " -0.16835847140639193,\n",
       " -0.44027112662610746,\n",
       " 0.2504627472834417,\n",
       " 0.28181930737861305,\n",
       " 0.6222941264769474,\n",
       " 0.5310290047530963,\n",
       " -0.037178107841151053,\n",
       " -0.6029814356766313,\n",
       " -0.8561318915223564,\n",
       " -0.8103102426891691,\n",
       " -0.4072504812584485,\n",
       " 0.3424894370084092,\n",
       " 0.15032514588941243,\n",
       " -0.16351342772001634,\n",
       " -0.35328529639376316,\n",
       " 0.29438232773900763,\n",
       " 0.11857238412362642,\n",
       " 0.05449211029500854,\n",
       " -0.41843966380028136,\n",
       " -0.23372365691371025,\n",
       " 0.48394972086786625,\n",
       " 0.7558935824037354,\n",
       " 0.5171501227704055,\n",
       " 0.31658180698482297,\n",
       " -0.011512285253905893,\n",
       " 0.022347628143639692,\n",
       " 0.45534392956176145,\n",
       " 0.6383889860454817,\n",
       " 0.533265753996581,\n",
       " -0.00832200650227835,\n",
       " -0.4032234143090457,\n",
       " -0.5568788322278014,\n",
       " 0.055895326311698745,\n",
       " 0.07104533318272252,\n",
       " 0.628529613632886,\n",
       " 0.8729284155791179,\n",
       " 0.5449776135496768,\n",
       " 0.12045808373400366,\n",
       " -0.043195982412593814,\n",
       " -0.523510799804692,\n",
       " -0.6132245947323577,\n",
       " -0.46041055742654724,\n",
       " -0.24376769757835484,\n",
       " -0.3101743488675909,\n",
       " -0.4874475423110297,\n",
       " -0.6870487122999676,\n",
       " -0.6666038418311397,\n",
       " -0.37812137577035254,\n",
       " 0.20596759554978503,\n",
       " 0.33510995017132805,\n",
       " 0.38129095714507455,\n",
       " 0.017643294728945658,\n",
       " -0.22711319807803554,\n",
       " -0.060054906345405196,\n",
       " 0.366994197662823,\n",
       " 0.3981768757231289,\n",
       " 0.19942133750319438,\n",
       " 0.022623102366948856,\n",
       " -0.24291682028331218,\n",
       " 0.18523781797049002,\n",
       " -0.058917972612722774,\n",
       " 0.3611938993300735,\n",
       " 0.574132033371171,\n",
       " 0.6033765653438689,\n",
       " 0.21279506580097168,\n",
       " 0.1294739609099758,\n",
       " -0.4656514474387458,\n",
       " -0.8324663919799886,\n",
       " -0.6461205471665314,\n",
       " -0.5419536967334043,\n",
       " -0.3331644673256608,\n",
       " -0.28011034991576156,\n",
       " -0.27522887103635996,\n",
       " -0.00400810812219439,\n",
       " -0.15459128105064057,\n",
       " -0.29184234451835867,\n",
       " -0.3496673131373581,\n",
       " 0.1274281853463498,\n",
       " 0.21670118553711526,\n",
       " 0.03428081335030911,\n",
       " -0.1005107519832024,\n",
       " -0.5358903616869146,\n",
       " -0.4658933150742,\n",
       " 0.10419083198408571,\n",
       " 0.34586434219060014,\n",
       " -0.05455371463755174,\n",
       " -0.8856840202901858,\n",
       " -0.8964059303989353,\n",
       " -0.46442183879873894,\n",
       " 0.14462907703218086,\n",
       " 0.42174574199447445,\n",
       " -0.05788123415705143,\n",
       " -0.13422221433557943,\n",
       " 0.5834223521968365,\n",
       " 0.3198782925664292,\n",
       " 0.45537227187192836,\n",
       " -0.07059981910264354,\n",
       " -0.03173822355005282,\n",
       " -0.36773645835090496,\n",
       " -0.28249311651634085,\n",
       " -0.3146808581608632,\n",
       " 0.366676516434403,\n",
       " 0.13037111555308178,\n",
       " 0.7174938073633453,\n",
       " 0.33547452057237626,\n",
       " 0.015426365993944584,\n",
       " -0.16589845780062185,\n",
       " -0.505690033425831,\n",
       " -0.1424587933748561,\n",
       " 0.5227712926449402,\n",
       " 0.16418905181598764,\n",
       " 0.21663299121405047,\n",
       " -0.1490436018132829,\n",
       " -0.7846343050502731,\n",
       " -0.6119603274152645,\n",
       " -0.07006652715643824,\n",
       " 0.3432635108213212,\n",
       " 0.24631781548832363,\n",
       " 0.7308836852341405,\n",
       " 0.5055304154664968,\n",
       " 0.39165124818490293,\n",
       " -0.08131760876329444,\n",
       " -0.2444993266818578,\n",
       " 0.008976448506014506,\n",
       " 0.20740249178194614,\n",
       " -0.36998274554185895,\n",
       " -0.21233929485118166,\n",
       " 0.5659230560097702,\n",
       " 0.36424870451282143,\n",
       " -0.02332343890620041,\n",
       " -0.17109356377466425,\n",
       " -0.21861598476365768,\n",
       " -0.07825587812558416,\n",
       " 0.19018382473862372,\n",
       " 0.3645835525160621,\n",
       " -0.3410850952189167,\n",
       " -0.06193984442059819,\n",
       " 0.5829189961085258,\n",
       " 0.38287359785890235,\n",
       " 0.0700281358955099,\n",
       " -0.08034416312144906,\n",
       " -0.10555026696475772,\n",
       " -0.5880912023311432,\n",
       " -0.54284773983108,\n",
       " 0.15749011163178123,\n",
       " 1.0337189146533328,\n",
       " 0.38873601569699284,\n",
       " 0.003206605702501128,\n",
       " -0.47813421662902944,\n",
       " -0.43707299574256997,\n",
       " -0.4742999171846661,\n",
       " -0.688803307879238,\n",
       " -0.702567565746496,\n",
       " -0.6336660348748538,\n",
       " -0.09778689465335735,\n",
       " 0.10338103560044978,\n",
       " -0.3344313509005357,\n",
       " -0.758755312884432,\n",
       " -0.8284076084292857,\n",
       " -0.29085381603321536,\n",
       " -0.04673712264839183,\n",
       " 0.1843795428462741,\n",
       " 0.08564190691400801,\n",
       " -0.14700363366615826,\n",
       " -0.5507316001173429,\n",
       " -0.013331738167166374,\n",
       " 0.013170991626577089,\n",
       " -0.23689721342543132,\n",
       " 0.05099659089406486,\n",
       " -0.058261338232355686,\n",
       " 0.03306151140196889,\n",
       " 0.31484597022578087,\n",
       " -0.08846115236002955,\n",
       " -0.059368314342311435,\n",
       " -0.7119643754923936,\n",
       " -0.30611077134566256,\n",
       " 0.21506601499423225,\n",
       " 0.4017712932673223,\n",
       " 0.017586765603898102,\n",
       " -0.4045310786670608,\n",
       " -0.43578005074577986,\n",
       " 0.5741850449586889,\n",
       " 0.2031387164406684,\n",
       " -0.278915030034922,\n",
       " -0.05735073637683086,\n",
       " -0.05948176232331806,\n",
       " -0.08179908769231103,\n",
       " 0.3813106350073593,\n",
       " 0.20603279291485802,\n",
       " 0.11644001256675396,\n",
       " -0.22092921673877655,\n",
       " -0.1797151183710725,\n",
       " -0.28298063444373667,\n",
       " 0.45507491515063525,\n",
       " 0.37738331062492664,\n",
       " -0.4712607351091128,\n",
       " -0.6634904865093054,\n",
       " -0.34795020688982237,\n",
       " -0.5569658102510081,\n",
       " -0.3029562068458183,\n",
       " 0.2410466654008284,\n",
       " 0.15932762742214165,\n",
       " 0.6105284180369334,\n",
       " 0.9492086960967336,\n",
       " 0.658756070309235,\n",
       " 0.0856683648023912,\n",
       " -0.5038950879917362,\n",
       " -0.5310147427693985,\n",
       " -0.4070688618788699,\n",
       " -0.11955506943457608,\n",
       " 0.05513516725972581,\n",
       " 0.4690727402999916,\n",
       " 0.0059458799750176095,\n",
       " -0.38301753346054157,\n",
       " -0.055046750492569185,\n",
       " 0.0885955992239456,\n",
       " 0.04413034104124531,\n",
       " 0.2913990077759535,\n",
       " 0.8341550558826879,\n",
       " 0.6708381233783018,\n",
       " 0.2886365879291672,\n",
       " -0.3938376601898174,\n",
       " -0.2642009267070792,\n",
       " 0.13283567514206354,\n",
       " 0.5721626018566807,\n",
       " 0.421942190032844,\n",
       " 0.28263861661501494,\n",
       " 0.10805079052662046,\n",
       " 0.02407689222901243,\n",
       " -0.24939744036378803,\n",
       " -0.306632780613225,\n",
       " -0.04510215099128098,\n",
       " 0.8641254751198509,\n",
       " 0.4314475443032507,\n",
       " 0.2685178883411721,\n",
       " 0.10733245629782763,\n",
       " 0.07427726848162734,\n",
       " -0.05496564545888897,\n",
       " 0.5288743519552072,\n",
       " 0.9183819931292927,\n",
       " 0.5655181615300725,\n",
       " -0.0742087477283741,\n",
       " -0.4788027873710999,\n",
       " -0.3387966353341269,\n",
       " 0.23866142561124312,\n",
       " 0.6207193981062338,\n",
       " 0.3472475610490975,\n",
       " -0.15885036064693,\n",
       " -0.41265899305166104,\n",
       " -0.6631862805101292,\n",
       " -0.7062989394117504,\n",
       " -0.49217731798676323,\n",
       " -0.07644668890343459,\n",
       " 0.1115088981703862,\n",
       " -0.02852779402502087,\n",
       " 0.0169561028001617,\n",
       " -0.5594987711291168,\n",
       " -0.7959860373967049,\n",
       " -0.4120599387431648,\n",
       " -0.21050509518558957,\n",
       " -0.3500601283626754,\n",
       " -0.012492426239034432,\n",
       " 0.23506974397959762,\n",
       " -0.20941907469316995,\n",
       " -0.47448527752211134,\n",
       " -0.45741445255944413,\n",
       " -0.6470949073070567,\n",
       " -0.12355316197529526,\n",
       " -0.41647068049323965,\n",
       " -0.017751616824794036,\n",
       " 0.2783324247411323,\n",
       " -0.08575382288289268,\n",
       " 0.09604501959885026,\n",
       " -0.06591886866915778,\n",
       " 0.013461273314097397,\n",
       " -0.28490311671498103,\n",
       " -0.3417058426561952,\n",
       " -0.26080989545489686,\n",
       " -0.20120007549294308,\n",
       " -0.8255736007927763,\n",
       " -0.4111731475550244,\n",
       " -0.15877305700918948,\n",
       " -0.1104067964608173,\n",
       " -0.2791583525350477,\n",
       " -0.6926132343402123,\n",
       " -0.4758409857860194,\n",
       " -0.2763495663275646,\n",
       " 0.6058444734375111,\n",
       " 0.42327455531045666,\n",
       " -0.11057763613882243,\n",
       " -0.41473971372015433,\n",
       " -0.31172983273535654,\n",
       " 0.2987298431975821,\n",
       " 0.6966195597230785,\n",
       " -0.21904336789938805,\n",
       " -0.3977085840904274,\n",
       " -0.7617400630798306,\n",
       " -0.2921967996083777,\n",
       " -0.36636992456286305,\n",
       " -0.12443333430377253,\n",
       " -0.3530913420600867,\n",
       " -0.322612722960118,\n",
       " -0.23477630135544258,\n",
       " 0.3349823600875832,\n",
       " -0.3455400626445225,\n",
       " -0.5909352586108484,\n",
       " 0.09909341901276686,\n",
       " 0.6831120175632328,\n",
       " 0.6986382880687148,\n",
       " 0.36931227912754955,\n",
       " 0.12721190094784796,\n",
       " 0.10660450857037633,\n",
       " 0.007800964178577445,\n",
       " -0.19383284810423135,\n",
       " -0.38612545169083445,\n",
       " -0.28356710335302643,\n",
       " -0.1999808614021367,\n",
       " -0.2717466326726511,\n",
       " -0.09784271119447502,\n",
       " -0.005504257875035515,\n",
       " -0.39314316437364905,\n",
       " -0.5750891073036175,\n",
       " -0.18733078480086324,\n",
       " -0.09208972419300629,\n",
       " 0.3105152795087109,\n",
       " 0.20417285912949767,\n",
       " 0.2006560383553887,\n",
       " 0.3066291755757953,\n",
       " 0.2854847067982082,\n",
       " 0.4230392545755787,\n",
       " -0.5080052288307386,\n",
       " -0.4310258995112461,\n",
       " -0.14981104782969315,\n",
       " -1.0223952609171525,\n",
       " -1.0662054329050648,\n",
       " -0.6607210390874372,\n",
       " -0.30633292829988445,\n",
       " 0.009495137273466046,\n",
       " -0.1897406308126981,\n",
       " -0.19437737938798202,\n",
       " -0.21827696895034873,\n",
       " 0.2868988946194655,\n",
       " 0.11506525778426177,\n",
       " -0.1409592251466929,\n",
       " -0.17569023245186416,\n",
       " -0.11724831564933268,\n",
       " 0.10101127117663708,\n",
       " 0.08595443549896942,\n",
       " -0.13900439874803164,\n",
       " -0.049594434238201604,\n",
       " -0.26539140770209374,\n",
       " -0.2472921765504589,\n",
       " 0.11175265809220018,\n",
       " -0.2082330650571188,\n",
       " -0.17421057484747549,\n",
       " 0.21794993869973134,\n",
       " 0.5854006180708446,\n",
       " 0.25544793017799416,\n",
       " 0.4405887925166684,\n",
       " 0.42675057943208716,\n",
       " 0.3594396229759157,\n",
       " 0.25218564552994394,\n",
       " -0.028028315093023934,\n",
       " 0.1103191163574359,\n",
       " -0.06119930993188488,\n",
       " 0.3228387864257021,\n",
       " 0.42376630215156763,\n",
       " 0.39113667478382685,\n",
       " 0.20451747847276003,\n",
       " 0.14722427891820683,\n",
       " 0.44062350226598623,\n",
       " 0.47544269839327924,\n",
       " 0.3413274161264866,\n",
       " -0.1592805157055881,\n",
       " -0.6551364772102125,\n",
       " -0.6301235068732698,\n",
       " 0.34441189450899035,\n",
       " 0.23664775559869533,\n",
       " 0.017337061040323565,\n",
       " -0.032565782082908355,\n",
       " 0.2653713797471094,\n",
       " -0.12102963620759716,\n",
       " -0.24851797349501792,\n",
       " 0.46821237672794325,\n",
       " 0.38190035993538274,\n",
       " 0.15137154398854313,\n",
       " 0.012472435773917559,\n",
       " -0.1404043874945132,\n",
       " -0.3412635836022508,\n",
       " 0.5620951182291967,\n",
       " 0.6549462020546651,\n",
       " 0.29577968743917576,\n",
       " -0.027266232682640872,\n",
       " 0.014856408477699617,\n",
       " -0.06486227583646065,\n",
       " -0.2814728725711227,\n",
       " -0.37635471963755374,\n",
       " 0.6765550241428375,\n",
       " 0.9850348892692791,\n",
       " 0.9961451009673362,\n",
       " 0.5732222761716111,\n",
       " 0.4629206041397194,\n",
       " 0.35224855941439115,\n",
       " -0.20985921391667509,\n",
       " 0.22123982428079703,\n",
       " 0.002372094969533556,\n",
       " -0.07072732492100964,\n",
       " 0.5595283813183791,\n",
       " ...]"
      ]
     },
     "execution_count": 85,
     "metadata": {},
     "output_type": "execute_result"
    }
   ],
   "source": [
    "values"
   ]
  },
  {
   "cell_type": "code",
   "execution_count": 86,
   "metadata": {
    "ExecuteTime": {
     "end_time": "2020-11-19T04:14:50.802168Z",
     "start_time": "2020-11-19T04:14:50.789770Z"
    }
   },
   "outputs": [
    {
     "name": "stderr",
     "output_type": "stream",
     "text": [
      "/home/zhaolong/miniconda3/lib/python3.8/site-packages/statsmodels/tsa/ar_model.py:791: FutureWarning: \n",
      "statsmodels.tsa.AR has been deprecated in favor of statsmodels.tsa.AutoReg and\n",
      "statsmodels.tsa.SARIMAX.\n",
      "\n",
      "AutoReg adds the ability to specify exogenous variables, include time trends,\n",
      "and add seasonal dummies. The AutoReg API differs from AR since the model is\n",
      "treated as immutable, and so the entire specification including the lag\n",
      "length must be specified when creating the model. This change is too\n",
      "substantial to incorporate into the existing AR api. The function\n",
      "ar_select_order performs lag length selection for AutoReg models.\n",
      "\n",
      "AutoReg only estimates parameters using conditional MLE (OLS). Use SARIMAX to\n",
      "estimate ARX and related models using full MLE via the Kalman Filter.\n",
      "\n",
      "To silence this warning and continue using AR until it is removed, use:\n",
      "\n",
      "import warnings\n",
      "warnings.filterwarnings('ignore', 'statsmodels.tsa.ar_model.AR', FutureWarning)\n",
      "\n",
      "  warnings.warn(AR_DEPRECATION_WARN, FutureWarning)\n"
     ]
    }
   ],
   "source": [
    "MAXLAGS = 5\n",
    "model = sm.tsa.AR(values)\n",
    "results = model.fit(MAXLAGS)"
   ]
  },
  {
   "cell_type": "code",
   "execution_count": 87,
   "metadata": {
    "ExecuteTime": {
     "end_time": "2020-11-19T04:14:59.420889Z",
     "start_time": "2020-11-19T04:14:59.403225Z"
    }
   },
   "outputs": [
    {
     "data": {
      "text/plain": [
       "array([ 0.002 ,  0.7857, -0.4179,  0.0121, -0.0169,  0.0353])"
      ]
     },
     "execution_count": 87,
     "metadata": {},
     "output_type": "execute_result"
    }
   ],
   "source": [
    "results.params"
   ]
  },
  {
   "cell_type": "markdown",
   "metadata": {},
   "source": [
    "## scikit-learn介绍"
   ]
  },
  {
   "cell_type": "markdown",
   "metadata": {},
   "source": [
    "`scikit-learn`是**使用最广泛且最受信任的通用Python机器学习库**，包含**广泛的标准监督和无监督的机器学习方法**，包括用于模型选择和评估，数据转换，数据加载和模型持久化的工具，这些模型可用于分类，聚类，预测和其他常见任务"
   ]
  },
  {
   "cell_type": "code",
   "execution_count": 90,
   "metadata": {
    "ExecuteTime": {
     "end_time": "2020-11-19T05:09:41.283927Z",
     "start_time": "2020-11-19T05:09:41.201472Z"
    }
   },
   "outputs": [],
   "source": [
    "train = pd.read_csv('pydata-book/datasets/titanic/train.csv')\n",
    "test = pd.read_csv('pydata-book/datasets/titanic/test.csv')"
   ]
  },
  {
   "cell_type": "code",
   "execution_count": 91,
   "metadata": {
    "ExecuteTime": {
     "end_time": "2020-11-19T05:09:43.087543Z",
     "start_time": "2020-11-19T05:09:43.051634Z"
    }
   },
   "outputs": [
    {
     "data": {
      "text/html": [
       "<div>\n",
       "<style scoped>\n",
       "    .dataframe tbody tr th:only-of-type {\n",
       "        vertical-align: middle;\n",
       "    }\n",
       "\n",
       "    .dataframe tbody tr th {\n",
       "        vertical-align: top;\n",
       "    }\n",
       "\n",
       "    .dataframe thead th {\n",
       "        text-align: right;\n",
       "    }\n",
       "</style>\n",
       "<table border=\"1\" class=\"dataframe\">\n",
       "  <thead>\n",
       "    <tr style=\"text-align: right;\">\n",
       "      <th></th>\n",
       "      <th>PassengerId</th>\n",
       "      <th>Survived</th>\n",
       "      <th>Pclass</th>\n",
       "      <th>Name</th>\n",
       "      <th>Sex</th>\n",
       "      <th>Age</th>\n",
       "      <th>SibSp</th>\n",
       "      <th>Parch</th>\n",
       "      <th>Ticket</th>\n",
       "      <th>Fare</th>\n",
       "      <th>Cabin</th>\n",
       "      <th>Embarked</th>\n",
       "    </tr>\n",
       "  </thead>\n",
       "  <tbody>\n",
       "    <tr>\n",
       "      <th>0</th>\n",
       "      <td>1</td>\n",
       "      <td>0</td>\n",
       "      <td>3</td>\n",
       "      <td>Braund, Mr. Owen Harris</td>\n",
       "      <td>male</td>\n",
       "      <td>22.0</td>\n",
       "      <td>1</td>\n",
       "      <td>0</td>\n",
       "      <td>A/5 21171</td>\n",
       "      <td>7.2500</td>\n",
       "      <td>NaN</td>\n",
       "      <td>S</td>\n",
       "    </tr>\n",
       "    <tr>\n",
       "      <th>1</th>\n",
       "      <td>2</td>\n",
       "      <td>1</td>\n",
       "      <td>1</td>\n",
       "      <td>Cumings, Mrs. John Bradley (Florence Briggs Th...</td>\n",
       "      <td>female</td>\n",
       "      <td>38.0</td>\n",
       "      <td>1</td>\n",
       "      <td>0</td>\n",
       "      <td>PC 17599</td>\n",
       "      <td>71.2833</td>\n",
       "      <td>C85</td>\n",
       "      <td>C</td>\n",
       "    </tr>\n",
       "    <tr>\n",
       "      <th>2</th>\n",
       "      <td>3</td>\n",
       "      <td>1</td>\n",
       "      <td>3</td>\n",
       "      <td>Heikkinen, Miss. Laina</td>\n",
       "      <td>female</td>\n",
       "      <td>26.0</td>\n",
       "      <td>0</td>\n",
       "      <td>0</td>\n",
       "      <td>STON/O2. 3101282</td>\n",
       "      <td>7.9250</td>\n",
       "      <td>NaN</td>\n",
       "      <td>S</td>\n",
       "    </tr>\n",
       "    <tr>\n",
       "      <th>3</th>\n",
       "      <td>4</td>\n",
       "      <td>1</td>\n",
       "      <td>1</td>\n",
       "      <td>Futrelle, Mrs. Jacques Heath (Lily May Peel)</td>\n",
       "      <td>female</td>\n",
       "      <td>35.0</td>\n",
       "      <td>1</td>\n",
       "      <td>0</td>\n",
       "      <td>113803</td>\n",
       "      <td>53.1000</td>\n",
       "      <td>C123</td>\n",
       "      <td>S</td>\n",
       "    </tr>\n",
       "    <tr>\n",
       "      <th>4</th>\n",
       "      <td>5</td>\n",
       "      <td>0</td>\n",
       "      <td>3</td>\n",
       "      <td>Allen, Mr. William Henry</td>\n",
       "      <td>male</td>\n",
       "      <td>35.0</td>\n",
       "      <td>0</td>\n",
       "      <td>0</td>\n",
       "      <td>373450</td>\n",
       "      <td>8.0500</td>\n",
       "      <td>NaN</td>\n",
       "      <td>S</td>\n",
       "    </tr>\n",
       "    <tr>\n",
       "      <th>...</th>\n",
       "      <td>...</td>\n",
       "      <td>...</td>\n",
       "      <td>...</td>\n",
       "      <td>...</td>\n",
       "      <td>...</td>\n",
       "      <td>...</td>\n",
       "      <td>...</td>\n",
       "      <td>...</td>\n",
       "      <td>...</td>\n",
       "      <td>...</td>\n",
       "      <td>...</td>\n",
       "      <td>...</td>\n",
       "    </tr>\n",
       "    <tr>\n",
       "      <th>886</th>\n",
       "      <td>887</td>\n",
       "      <td>0</td>\n",
       "      <td>2</td>\n",
       "      <td>Montvila, Rev. Juozas</td>\n",
       "      <td>male</td>\n",
       "      <td>27.0</td>\n",
       "      <td>0</td>\n",
       "      <td>0</td>\n",
       "      <td>211536</td>\n",
       "      <td>13.0000</td>\n",
       "      <td>NaN</td>\n",
       "      <td>S</td>\n",
       "    </tr>\n",
       "    <tr>\n",
       "      <th>887</th>\n",
       "      <td>888</td>\n",
       "      <td>1</td>\n",
       "      <td>1</td>\n",
       "      <td>Graham, Miss. Margaret Edith</td>\n",
       "      <td>female</td>\n",
       "      <td>19.0</td>\n",
       "      <td>0</td>\n",
       "      <td>0</td>\n",
       "      <td>112053</td>\n",
       "      <td>30.0000</td>\n",
       "      <td>B42</td>\n",
       "      <td>S</td>\n",
       "    </tr>\n",
       "    <tr>\n",
       "      <th>888</th>\n",
       "      <td>889</td>\n",
       "      <td>0</td>\n",
       "      <td>3</td>\n",
       "      <td>Johnston, Miss. Catherine Helen \"Carrie\"</td>\n",
       "      <td>female</td>\n",
       "      <td>NaN</td>\n",
       "      <td>1</td>\n",
       "      <td>2</td>\n",
       "      <td>W./C. 6607</td>\n",
       "      <td>23.4500</td>\n",
       "      <td>NaN</td>\n",
       "      <td>S</td>\n",
       "    </tr>\n",
       "    <tr>\n",
       "      <th>889</th>\n",
       "      <td>890</td>\n",
       "      <td>1</td>\n",
       "      <td>1</td>\n",
       "      <td>Behr, Mr. Karl Howell</td>\n",
       "      <td>male</td>\n",
       "      <td>26.0</td>\n",
       "      <td>0</td>\n",
       "      <td>0</td>\n",
       "      <td>111369</td>\n",
       "      <td>30.0000</td>\n",
       "      <td>C148</td>\n",
       "      <td>C</td>\n",
       "    </tr>\n",
       "    <tr>\n",
       "      <th>890</th>\n",
       "      <td>891</td>\n",
       "      <td>0</td>\n",
       "      <td>3</td>\n",
       "      <td>Dooley, Mr. Patrick</td>\n",
       "      <td>male</td>\n",
       "      <td>32.0</td>\n",
       "      <td>0</td>\n",
       "      <td>0</td>\n",
       "      <td>370376</td>\n",
       "      <td>7.7500</td>\n",
       "      <td>NaN</td>\n",
       "      <td>Q</td>\n",
       "    </tr>\n",
       "  </tbody>\n",
       "</table>\n",
       "<p>891 rows × 12 columns</p>\n",
       "</div>"
      ],
      "text/plain": [
       "     PassengerId  Survived  Pclass  \\\n",
       "0              1         0       3   \n",
       "1              2         1       1   \n",
       "2              3         1       3   \n",
       "3              4         1       1   \n",
       "4              5         0       3   \n",
       "..           ...       ...     ...   \n",
       "886          887         0       2   \n",
       "887          888         1       1   \n",
       "888          889         0       3   \n",
       "889          890         1       1   \n",
       "890          891         0       3   \n",
       "\n",
       "                                                  Name     Sex   Age  SibSp  \\\n",
       "0                              Braund, Mr. Owen Harris    male  22.0      1   \n",
       "1    Cumings, Mrs. John Bradley (Florence Briggs Th...  female  38.0      1   \n",
       "2                               Heikkinen, Miss. Laina  female  26.0      0   \n",
       "3         Futrelle, Mrs. Jacques Heath (Lily May Peel)  female  35.0      1   \n",
       "4                             Allen, Mr. William Henry    male  35.0      0   \n",
       "..                                                 ...     ...   ...    ...   \n",
       "886                              Montvila, Rev. Juozas    male  27.0      0   \n",
       "887                       Graham, Miss. Margaret Edith  female  19.0      0   \n",
       "888           Johnston, Miss. Catherine Helen \"Carrie\"  female   NaN      1   \n",
       "889                              Behr, Mr. Karl Howell    male  26.0      0   \n",
       "890                                Dooley, Mr. Patrick    male  32.0      0   \n",
       "\n",
       "     Parch            Ticket     Fare Cabin Embarked  \n",
       "0        0         A/5 21171   7.2500   NaN        S  \n",
       "1        0          PC 17599  71.2833   C85        C  \n",
       "2        0  STON/O2. 3101282   7.9250   NaN        S  \n",
       "3        0            113803  53.1000  C123        S  \n",
       "4        0            373450   8.0500   NaN        S  \n",
       "..     ...               ...      ...   ...      ...  \n",
       "886      0            211536  13.0000   NaN        S  \n",
       "887      0            112053  30.0000   B42        S  \n",
       "888      2        W./C. 6607  23.4500   NaN        S  \n",
       "889      0            111369  30.0000  C148        C  \n",
       "890      0            370376   7.7500   NaN        Q  \n",
       "\n",
       "[891 rows x 12 columns]"
      ]
     },
     "execution_count": 91,
     "metadata": {},
     "output_type": "execute_result"
    }
   ],
   "source": [
    "train"
   ]
  },
  {
   "cell_type": "code",
   "execution_count": 92,
   "metadata": {
    "ExecuteTime": {
     "end_time": "2020-11-19T05:09:51.507044Z",
     "start_time": "2020-11-19T05:09:51.466871Z"
    }
   },
   "outputs": [
    {
     "data": {
      "text/html": [
       "<div>\n",
       "<style scoped>\n",
       "    .dataframe tbody tr th:only-of-type {\n",
       "        vertical-align: middle;\n",
       "    }\n",
       "\n",
       "    .dataframe tbody tr th {\n",
       "        vertical-align: top;\n",
       "    }\n",
       "\n",
       "    .dataframe thead th {\n",
       "        text-align: right;\n",
       "    }\n",
       "</style>\n",
       "<table border=\"1\" class=\"dataframe\">\n",
       "  <thead>\n",
       "    <tr style=\"text-align: right;\">\n",
       "      <th></th>\n",
       "      <th>PassengerId</th>\n",
       "      <th>Pclass</th>\n",
       "      <th>Name</th>\n",
       "      <th>Sex</th>\n",
       "      <th>Age</th>\n",
       "      <th>SibSp</th>\n",
       "      <th>Parch</th>\n",
       "      <th>Ticket</th>\n",
       "      <th>Fare</th>\n",
       "      <th>Cabin</th>\n",
       "      <th>Embarked</th>\n",
       "    </tr>\n",
       "  </thead>\n",
       "  <tbody>\n",
       "    <tr>\n",
       "      <th>0</th>\n",
       "      <td>892</td>\n",
       "      <td>3</td>\n",
       "      <td>Kelly, Mr. James</td>\n",
       "      <td>male</td>\n",
       "      <td>34.5</td>\n",
       "      <td>0</td>\n",
       "      <td>0</td>\n",
       "      <td>330911</td>\n",
       "      <td>7.8292</td>\n",
       "      <td>NaN</td>\n",
       "      <td>Q</td>\n",
       "    </tr>\n",
       "    <tr>\n",
       "      <th>1</th>\n",
       "      <td>893</td>\n",
       "      <td>3</td>\n",
       "      <td>Wilkes, Mrs. James (Ellen Needs)</td>\n",
       "      <td>female</td>\n",
       "      <td>47.0</td>\n",
       "      <td>1</td>\n",
       "      <td>0</td>\n",
       "      <td>363272</td>\n",
       "      <td>7.0000</td>\n",
       "      <td>NaN</td>\n",
       "      <td>S</td>\n",
       "    </tr>\n",
       "    <tr>\n",
       "      <th>2</th>\n",
       "      <td>894</td>\n",
       "      <td>2</td>\n",
       "      <td>Myles, Mr. Thomas Francis</td>\n",
       "      <td>male</td>\n",
       "      <td>62.0</td>\n",
       "      <td>0</td>\n",
       "      <td>0</td>\n",
       "      <td>240276</td>\n",
       "      <td>9.6875</td>\n",
       "      <td>NaN</td>\n",
       "      <td>Q</td>\n",
       "    </tr>\n",
       "    <tr>\n",
       "      <th>3</th>\n",
       "      <td>895</td>\n",
       "      <td>3</td>\n",
       "      <td>Wirz, Mr. Albert</td>\n",
       "      <td>male</td>\n",
       "      <td>27.0</td>\n",
       "      <td>0</td>\n",
       "      <td>0</td>\n",
       "      <td>315154</td>\n",
       "      <td>8.6625</td>\n",
       "      <td>NaN</td>\n",
       "      <td>S</td>\n",
       "    </tr>\n",
       "    <tr>\n",
       "      <th>4</th>\n",
       "      <td>896</td>\n",
       "      <td>3</td>\n",
       "      <td>Hirvonen, Mrs. Alexander (Helga E Lindqvist)</td>\n",
       "      <td>female</td>\n",
       "      <td>22.0</td>\n",
       "      <td>1</td>\n",
       "      <td>1</td>\n",
       "      <td>3101298</td>\n",
       "      <td>12.2875</td>\n",
       "      <td>NaN</td>\n",
       "      <td>S</td>\n",
       "    </tr>\n",
       "    <tr>\n",
       "      <th>...</th>\n",
       "      <td>...</td>\n",
       "      <td>...</td>\n",
       "      <td>...</td>\n",
       "      <td>...</td>\n",
       "      <td>...</td>\n",
       "      <td>...</td>\n",
       "      <td>...</td>\n",
       "      <td>...</td>\n",
       "      <td>...</td>\n",
       "      <td>...</td>\n",
       "      <td>...</td>\n",
       "    </tr>\n",
       "    <tr>\n",
       "      <th>413</th>\n",
       "      <td>1305</td>\n",
       "      <td>3</td>\n",
       "      <td>Spector, Mr. Woolf</td>\n",
       "      <td>male</td>\n",
       "      <td>NaN</td>\n",
       "      <td>0</td>\n",
       "      <td>0</td>\n",
       "      <td>A.5. 3236</td>\n",
       "      <td>8.0500</td>\n",
       "      <td>NaN</td>\n",
       "      <td>S</td>\n",
       "    </tr>\n",
       "    <tr>\n",
       "      <th>414</th>\n",
       "      <td>1306</td>\n",
       "      <td>1</td>\n",
       "      <td>Oliva y Ocana, Dona. Fermina</td>\n",
       "      <td>female</td>\n",
       "      <td>39.0</td>\n",
       "      <td>0</td>\n",
       "      <td>0</td>\n",
       "      <td>PC 17758</td>\n",
       "      <td>108.9000</td>\n",
       "      <td>C105</td>\n",
       "      <td>C</td>\n",
       "    </tr>\n",
       "    <tr>\n",
       "      <th>415</th>\n",
       "      <td>1307</td>\n",
       "      <td>3</td>\n",
       "      <td>Saether, Mr. Simon Sivertsen</td>\n",
       "      <td>male</td>\n",
       "      <td>38.5</td>\n",
       "      <td>0</td>\n",
       "      <td>0</td>\n",
       "      <td>SOTON/O.Q. 3101262</td>\n",
       "      <td>7.2500</td>\n",
       "      <td>NaN</td>\n",
       "      <td>S</td>\n",
       "    </tr>\n",
       "    <tr>\n",
       "      <th>416</th>\n",
       "      <td>1308</td>\n",
       "      <td>3</td>\n",
       "      <td>Ware, Mr. Frederick</td>\n",
       "      <td>male</td>\n",
       "      <td>NaN</td>\n",
       "      <td>0</td>\n",
       "      <td>0</td>\n",
       "      <td>359309</td>\n",
       "      <td>8.0500</td>\n",
       "      <td>NaN</td>\n",
       "      <td>S</td>\n",
       "    </tr>\n",
       "    <tr>\n",
       "      <th>417</th>\n",
       "      <td>1309</td>\n",
       "      <td>3</td>\n",
       "      <td>Peter, Master. Michael J</td>\n",
       "      <td>male</td>\n",
       "      <td>NaN</td>\n",
       "      <td>1</td>\n",
       "      <td>1</td>\n",
       "      <td>2668</td>\n",
       "      <td>22.3583</td>\n",
       "      <td>NaN</td>\n",
       "      <td>C</td>\n",
       "    </tr>\n",
       "  </tbody>\n",
       "</table>\n",
       "<p>418 rows × 11 columns</p>\n",
       "</div>"
      ],
      "text/plain": [
       "     PassengerId  Pclass                                          Name  \\\n",
       "0            892       3                              Kelly, Mr. James   \n",
       "1            893       3              Wilkes, Mrs. James (Ellen Needs)   \n",
       "2            894       2                     Myles, Mr. Thomas Francis   \n",
       "3            895       3                              Wirz, Mr. Albert   \n",
       "4            896       3  Hirvonen, Mrs. Alexander (Helga E Lindqvist)   \n",
       "..           ...     ...                                           ...   \n",
       "413         1305       3                            Spector, Mr. Woolf   \n",
       "414         1306       1                  Oliva y Ocana, Dona. Fermina   \n",
       "415         1307       3                  Saether, Mr. Simon Sivertsen   \n",
       "416         1308       3                           Ware, Mr. Frederick   \n",
       "417         1309       3                      Peter, Master. Michael J   \n",
       "\n",
       "        Sex   Age  SibSp  Parch              Ticket      Fare Cabin Embarked  \n",
       "0      male  34.5      0      0              330911    7.8292   NaN        Q  \n",
       "1    female  47.0      1      0              363272    7.0000   NaN        S  \n",
       "2      male  62.0      0      0              240276    9.6875   NaN        Q  \n",
       "3      male  27.0      0      0              315154    8.6625   NaN        S  \n",
       "4    female  22.0      1      1             3101298   12.2875   NaN        S  \n",
       "..      ...   ...    ...    ...                 ...       ...   ...      ...  \n",
       "413    male   NaN      0      0           A.5. 3236    8.0500   NaN        S  \n",
       "414  female  39.0      0      0            PC 17758  108.9000  C105        C  \n",
       "415    male  38.5      0      0  SOTON/O.Q. 3101262    7.2500   NaN        S  \n",
       "416    male   NaN      0      0              359309    8.0500   NaN        S  \n",
       "417    male   NaN      1      1                2668   22.3583   NaN        C  \n",
       "\n",
       "[418 rows x 11 columns]"
      ]
     },
     "execution_count": 92,
     "metadata": {},
     "output_type": "execute_result"
    }
   ],
   "source": [
    "test"
   ]
  },
  {
   "cell_type": "code",
   "execution_count": 95,
   "metadata": {
    "ExecuteTime": {
     "end_time": "2020-11-19T05:11:01.225566Z",
     "start_time": "2020-11-19T05:11:01.218674Z"
    }
   },
   "outputs": [
    {
     "data": {
      "text/plain": [
       "Index(['Survived'], dtype='object')"
      ]
     },
     "execution_count": 95,
     "metadata": {},
     "output_type": "execute_result"
    }
   ],
   "source": [
    "train.columns.difference(test.columns)"
   ]
  },
  {
   "cell_type": "code",
   "execution_count": 100,
   "metadata": {
    "ExecuteTime": {
     "end_time": "2020-11-19T05:12:53.813143Z",
     "start_time": "2020-11-19T05:12:53.802683Z"
    }
   },
   "outputs": [
    {
     "data": {
      "text/plain": [
       "PassengerId      0\n",
       "Survived         0\n",
       "Pclass           0\n",
       "Name             0\n",
       "Sex              0\n",
       "Age            177\n",
       "SibSp            0\n",
       "Parch            0\n",
       "Ticket           0\n",
       "Fare             0\n",
       "Cabin          687\n",
       "Embarked         2\n",
       "dtype: int64"
      ]
     },
     "execution_count": 100,
     "metadata": {},
     "output_type": "execute_result"
    }
   ],
   "source": [
    "train.isnull().sum()"
   ]
  },
  {
   "cell_type": "code",
   "execution_count": 103,
   "metadata": {
    "ExecuteTime": {
     "end_time": "2020-11-19T05:13:29.444729Z",
     "start_time": "2020-11-19T05:13:29.433862Z"
    }
   },
   "outputs": [
    {
     "data": {
      "text/plain": [
       "PassengerId      0\n",
       "Pclass           0\n",
       "Name             0\n",
       "Sex              0\n",
       "Age             86\n",
       "SibSp            0\n",
       "Parch            0\n",
       "Ticket           0\n",
       "Fare             1\n",
       "Cabin          327\n",
       "Embarked         0\n",
       "dtype: int64"
      ]
     },
     "execution_count": 103,
     "metadata": {},
     "output_type": "execute_result"
    }
   ],
   "source": [
    "test.isna().sum()"
   ]
  },
  {
   "cell_type": "code",
   "execution_count": 106,
   "metadata": {
    "ExecuteTime": {
     "end_time": "2020-11-19T05:14:39.572046Z",
     "start_time": "2020-11-19T05:14:39.564022Z"
    }
   },
   "outputs": [
    {
     "data": {
      "text/plain": [
       "28.0"
      ]
     },
     "execution_count": 106,
     "metadata": {},
     "output_type": "execute_result"
    }
   ],
   "source": [
    "inmput_value = train['Age'].median();inmput_value"
   ]
  },
  {
   "cell_type": "code",
   "execution_count": 108,
   "metadata": {
    "ExecuteTime": {
     "end_time": "2020-11-19T05:15:12.414745Z",
     "start_time": "2020-11-19T05:15:12.410435Z"
    }
   },
   "outputs": [],
   "source": [
    "train['Age'] = train['Age'].fillna(inmput_value)"
   ]
  },
  {
   "cell_type": "code",
   "execution_count": 109,
   "metadata": {
    "ExecuteTime": {
     "end_time": "2020-11-19T05:15:30.572480Z",
     "start_time": "2020-11-19T05:15:30.567858Z"
    }
   },
   "outputs": [],
   "source": [
    "test['Age'] = test['Age'].fillna(inmput_value)"
   ]
  },
  {
   "cell_type": "code",
   "execution_count": 137,
   "metadata": {
    "ExecuteTime": {
     "end_time": "2020-11-19T05:30:15.925922Z",
     "start_time": "2020-11-19T05:30:15.918543Z"
    }
   },
   "outputs": [],
   "source": [
    "train['IsFemale'] = (train['Sex'] == 'female').astype(int)\n",
    "test['IsFemale'] = (test['Sex'] == 'female').astype(int)"
   ]
  },
  {
   "cell_type": "code",
   "execution_count": 138,
   "metadata": {
    "ExecuteTime": {
     "end_time": "2020-11-19T05:30:17.627285Z",
     "start_time": "2020-11-19T05:30:17.591592Z"
    }
   },
   "outputs": [
    {
     "data": {
      "text/html": [
       "<div>\n",
       "<style scoped>\n",
       "    .dataframe tbody tr th:only-of-type {\n",
       "        vertical-align: middle;\n",
       "    }\n",
       "\n",
       "    .dataframe tbody tr th {\n",
       "        vertical-align: top;\n",
       "    }\n",
       "\n",
       "    .dataframe thead th {\n",
       "        text-align: right;\n",
       "    }\n",
       "</style>\n",
       "<table border=\"1\" class=\"dataframe\">\n",
       "  <thead>\n",
       "    <tr style=\"text-align: right;\">\n",
       "      <th></th>\n",
       "      <th>PassengerId</th>\n",
       "      <th>Survived</th>\n",
       "      <th>Pclass</th>\n",
       "      <th>Name</th>\n",
       "      <th>Sex</th>\n",
       "      <th>Age</th>\n",
       "      <th>SibSp</th>\n",
       "      <th>Parch</th>\n",
       "      <th>Ticket</th>\n",
       "      <th>Fare</th>\n",
       "      <th>Cabin</th>\n",
       "      <th>Embarked</th>\n",
       "      <th>IsFemale</th>\n",
       "    </tr>\n",
       "  </thead>\n",
       "  <tbody>\n",
       "    <tr>\n",
       "      <th>0</th>\n",
       "      <td>1</td>\n",
       "      <td>0</td>\n",
       "      <td>3</td>\n",
       "      <td>Braund, Mr. Owen Harris</td>\n",
       "      <td>male</td>\n",
       "      <td>22.0</td>\n",
       "      <td>1</td>\n",
       "      <td>0</td>\n",
       "      <td>A/5 21171</td>\n",
       "      <td>7.2500</td>\n",
       "      <td>NaN</td>\n",
       "      <td>S</td>\n",
       "      <td>0</td>\n",
       "    </tr>\n",
       "    <tr>\n",
       "      <th>1</th>\n",
       "      <td>2</td>\n",
       "      <td>1</td>\n",
       "      <td>1</td>\n",
       "      <td>Cumings, Mrs. John Bradley (Florence Briggs Th...</td>\n",
       "      <td>female</td>\n",
       "      <td>38.0</td>\n",
       "      <td>1</td>\n",
       "      <td>0</td>\n",
       "      <td>PC 17599</td>\n",
       "      <td>71.2833</td>\n",
       "      <td>C85</td>\n",
       "      <td>C</td>\n",
       "      <td>1</td>\n",
       "    </tr>\n",
       "    <tr>\n",
       "      <th>2</th>\n",
       "      <td>3</td>\n",
       "      <td>1</td>\n",
       "      <td>3</td>\n",
       "      <td>Heikkinen, Miss. Laina</td>\n",
       "      <td>female</td>\n",
       "      <td>26.0</td>\n",
       "      <td>0</td>\n",
       "      <td>0</td>\n",
       "      <td>STON/O2. 3101282</td>\n",
       "      <td>7.9250</td>\n",
       "      <td>NaN</td>\n",
       "      <td>S</td>\n",
       "      <td>1</td>\n",
       "    </tr>\n",
       "    <tr>\n",
       "      <th>3</th>\n",
       "      <td>4</td>\n",
       "      <td>1</td>\n",
       "      <td>1</td>\n",
       "      <td>Futrelle, Mrs. Jacques Heath (Lily May Peel)</td>\n",
       "      <td>female</td>\n",
       "      <td>35.0</td>\n",
       "      <td>1</td>\n",
       "      <td>0</td>\n",
       "      <td>113803</td>\n",
       "      <td>53.1000</td>\n",
       "      <td>C123</td>\n",
       "      <td>S</td>\n",
       "      <td>1</td>\n",
       "    </tr>\n",
       "    <tr>\n",
       "      <th>4</th>\n",
       "      <td>5</td>\n",
       "      <td>0</td>\n",
       "      <td>3</td>\n",
       "      <td>Allen, Mr. William Henry</td>\n",
       "      <td>male</td>\n",
       "      <td>35.0</td>\n",
       "      <td>0</td>\n",
       "      <td>0</td>\n",
       "      <td>373450</td>\n",
       "      <td>8.0500</td>\n",
       "      <td>NaN</td>\n",
       "      <td>S</td>\n",
       "      <td>0</td>\n",
       "    </tr>\n",
       "    <tr>\n",
       "      <th>...</th>\n",
       "      <td>...</td>\n",
       "      <td>...</td>\n",
       "      <td>...</td>\n",
       "      <td>...</td>\n",
       "      <td>...</td>\n",
       "      <td>...</td>\n",
       "      <td>...</td>\n",
       "      <td>...</td>\n",
       "      <td>...</td>\n",
       "      <td>...</td>\n",
       "      <td>...</td>\n",
       "      <td>...</td>\n",
       "      <td>...</td>\n",
       "    </tr>\n",
       "    <tr>\n",
       "      <th>886</th>\n",
       "      <td>887</td>\n",
       "      <td>0</td>\n",
       "      <td>2</td>\n",
       "      <td>Montvila, Rev. Juozas</td>\n",
       "      <td>male</td>\n",
       "      <td>27.0</td>\n",
       "      <td>0</td>\n",
       "      <td>0</td>\n",
       "      <td>211536</td>\n",
       "      <td>13.0000</td>\n",
       "      <td>NaN</td>\n",
       "      <td>S</td>\n",
       "      <td>0</td>\n",
       "    </tr>\n",
       "    <tr>\n",
       "      <th>887</th>\n",
       "      <td>888</td>\n",
       "      <td>1</td>\n",
       "      <td>1</td>\n",
       "      <td>Graham, Miss. Margaret Edith</td>\n",
       "      <td>female</td>\n",
       "      <td>19.0</td>\n",
       "      <td>0</td>\n",
       "      <td>0</td>\n",
       "      <td>112053</td>\n",
       "      <td>30.0000</td>\n",
       "      <td>B42</td>\n",
       "      <td>S</td>\n",
       "      <td>1</td>\n",
       "    </tr>\n",
       "    <tr>\n",
       "      <th>888</th>\n",
       "      <td>889</td>\n",
       "      <td>0</td>\n",
       "      <td>3</td>\n",
       "      <td>Johnston, Miss. Catherine Helen \"Carrie\"</td>\n",
       "      <td>female</td>\n",
       "      <td>28.0</td>\n",
       "      <td>1</td>\n",
       "      <td>2</td>\n",
       "      <td>W./C. 6607</td>\n",
       "      <td>23.4500</td>\n",
       "      <td>NaN</td>\n",
       "      <td>S</td>\n",
       "      <td>1</td>\n",
       "    </tr>\n",
       "    <tr>\n",
       "      <th>889</th>\n",
       "      <td>890</td>\n",
       "      <td>1</td>\n",
       "      <td>1</td>\n",
       "      <td>Behr, Mr. Karl Howell</td>\n",
       "      <td>male</td>\n",
       "      <td>26.0</td>\n",
       "      <td>0</td>\n",
       "      <td>0</td>\n",
       "      <td>111369</td>\n",
       "      <td>30.0000</td>\n",
       "      <td>C148</td>\n",
       "      <td>C</td>\n",
       "      <td>0</td>\n",
       "    </tr>\n",
       "    <tr>\n",
       "      <th>890</th>\n",
       "      <td>891</td>\n",
       "      <td>0</td>\n",
       "      <td>3</td>\n",
       "      <td>Dooley, Mr. Patrick</td>\n",
       "      <td>male</td>\n",
       "      <td>32.0</td>\n",
       "      <td>0</td>\n",
       "      <td>0</td>\n",
       "      <td>370376</td>\n",
       "      <td>7.7500</td>\n",
       "      <td>NaN</td>\n",
       "      <td>Q</td>\n",
       "      <td>0</td>\n",
       "    </tr>\n",
       "  </tbody>\n",
       "</table>\n",
       "<p>891 rows × 13 columns</p>\n",
       "</div>"
      ],
      "text/plain": [
       "     PassengerId  Survived  Pclass  \\\n",
       "0              1         0       3   \n",
       "1              2         1       1   \n",
       "2              3         1       3   \n",
       "3              4         1       1   \n",
       "4              5         0       3   \n",
       "..           ...       ...     ...   \n",
       "886          887         0       2   \n",
       "887          888         1       1   \n",
       "888          889         0       3   \n",
       "889          890         1       1   \n",
       "890          891         0       3   \n",
       "\n",
       "                                                  Name     Sex   Age  SibSp  \\\n",
       "0                              Braund, Mr. Owen Harris    male  22.0      1   \n",
       "1    Cumings, Mrs. John Bradley (Florence Briggs Th...  female  38.0      1   \n",
       "2                               Heikkinen, Miss. Laina  female  26.0      0   \n",
       "3         Futrelle, Mrs. Jacques Heath (Lily May Peel)  female  35.0      1   \n",
       "4                             Allen, Mr. William Henry    male  35.0      0   \n",
       "..                                                 ...     ...   ...    ...   \n",
       "886                              Montvila, Rev. Juozas    male  27.0      0   \n",
       "887                       Graham, Miss. Margaret Edith  female  19.0      0   \n",
       "888           Johnston, Miss. Catherine Helen \"Carrie\"  female  28.0      1   \n",
       "889                              Behr, Mr. Karl Howell    male  26.0      0   \n",
       "890                                Dooley, Mr. Patrick    male  32.0      0   \n",
       "\n",
       "     Parch            Ticket     Fare Cabin Embarked  IsFemale  \n",
       "0        0         A/5 21171   7.2500   NaN        S         0  \n",
       "1        0          PC 17599  71.2833   C85        C         1  \n",
       "2        0  STON/O2. 3101282   7.9250   NaN        S         1  \n",
       "3        0            113803  53.1000  C123        S         1  \n",
       "4        0            373450   8.0500   NaN        S         0  \n",
       "..     ...               ...      ...   ...      ...       ...  \n",
       "886      0            211536  13.0000   NaN        S         0  \n",
       "887      0            112053  30.0000   B42        S         1  \n",
       "888      2        W./C. 6607  23.4500   NaN        S         1  \n",
       "889      0            111369  30.0000  C148        C         0  \n",
       "890      0            370376   7.7500   NaN        Q         0  \n",
       "\n",
       "[891 rows x 13 columns]"
      ]
     },
     "execution_count": 138,
     "metadata": {},
     "output_type": "execute_result"
    }
   ],
   "source": [
    "train"
   ]
  },
  {
   "cell_type": "code",
   "execution_count": 139,
   "metadata": {
    "ExecuteTime": {
     "end_time": "2020-11-19T05:30:22.224555Z",
     "start_time": "2020-11-19T05:30:22.220401Z"
    }
   },
   "outputs": [],
   "source": [
    "predictors = ['Pclass', 'IsFemale', 'Age']"
   ]
  },
  {
   "cell_type": "code",
   "execution_count": 140,
   "metadata": {
    "ExecuteTime": {
     "end_time": "2020-11-19T05:30:22.239136Z",
     "start_time": "2020-11-19T05:30:22.229689Z"
    }
   },
   "outputs": [],
   "source": [
    "X_train = train[predictors].values\n",
    "X_test = test[predictors].values\n"
   ]
  },
  {
   "cell_type": "code",
   "execution_count": 141,
   "metadata": {
    "ExecuteTime": {
     "end_time": "2020-11-19T05:30:22.249004Z",
     "start_time": "2020-11-19T05:30:22.243483Z"
    }
   },
   "outputs": [],
   "source": [
    "y_train = train['Survived'].values"
   ]
  },
  {
   "cell_type": "code",
   "execution_count": 142,
   "metadata": {
    "ExecuteTime": {
     "end_time": "2020-11-19T05:30:22.261420Z",
     "start_time": "2020-11-19T05:30:22.252527Z"
    }
   },
   "outputs": [
    {
     "data": {
      "text/plain": [
       "array([[ 3.,  0., 22.],\n",
       "       [ 1.,  1., 38.],\n",
       "       [ 3.,  1., 26.],\n",
       "       [ 1.,  1., 35.],\n",
       "       [ 3.,  0., 35.]])"
      ]
     },
     "execution_count": 142,
     "metadata": {},
     "output_type": "execute_result"
    }
   ],
   "source": [
    "X_train[:5]"
   ]
  },
  {
   "cell_type": "code",
   "execution_count": 143,
   "metadata": {
    "ExecuteTime": {
     "end_time": "2020-11-19T05:30:22.269089Z",
     "start_time": "2020-11-19T05:30:22.265651Z"
    }
   },
   "outputs": [],
   "source": [
    "from sklearn.linear_model import LogisticRegression\n",
    "model = LogisticRegression()"
   ]
  },
  {
   "cell_type": "code",
   "execution_count": 144,
   "metadata": {
    "ExecuteTime": {
     "end_time": "2020-11-19T05:30:22.300909Z",
     "start_time": "2020-11-19T05:30:22.272230Z"
    }
   },
   "outputs": [
    {
     "data": {
      "text/plain": [
       "LogisticRegression()"
      ]
     },
     "execution_count": 144,
     "metadata": {},
     "output_type": "execute_result"
    }
   ],
   "source": [
    "model.fit(X_train, y_train)"
   ]
  },
  {
   "cell_type": "code",
   "execution_count": 145,
   "metadata": {
    "ExecuteTime": {
     "end_time": "2020-11-19T05:30:22.316539Z",
     "start_time": "2020-11-19T05:30:22.303497Z"
    }
   },
   "outputs": [
    {
     "data": {
      "text/plain": [
       "array([0, 0, 0, 0, 1, 0, 1, 0, 1, 0])"
      ]
     },
     "execution_count": 145,
     "metadata": {},
     "output_type": "execute_result"
    }
   ],
   "source": [
    "y_predict = model.predict(X_test)\n",
    "y_predict[:10]"
   ]
  },
  {
   "cell_type": "code",
   "execution_count": 146,
   "metadata": {
    "ExecuteTime": {
     "end_time": "2020-11-19T05:35:54.564410Z",
     "start_time": "2020-11-19T05:35:54.255054Z"
    }
   },
   "outputs": [
    {
     "name": "stderr",
     "output_type": "stream",
     "text": [
      "/home/zhaolong/miniconda3/lib/python3.8/site-packages/sklearn/utils/validation.py:67: FutureWarning: Pass Cs=10 as keyword args. From version 0.25 passing these as positional arguments will result in an error\n",
      "  warnings.warn(\"Pass {} as keyword args. From version 0.25 \"\n"
     ]
    },
    {
     "data": {
      "text/plain": [
       "LogisticRegressionCV()"
      ]
     },
     "execution_count": 146,
     "metadata": {},
     "output_type": "execute_result"
    }
   ],
   "source": [
    "from sklearn.linear_model import LogisticRegressionCV\n",
    "model_cv = LogisticRegressionCV(10)\n",
    "model_cv.fit(X_train, y_train)"
   ]
  },
  {
   "cell_type": "code",
   "execution_count": 147,
   "metadata": {
    "ExecuteTime": {
     "end_time": "2020-11-19T05:36:02.530591Z",
     "start_time": "2020-11-19T05:36:02.452484Z"
    }
   },
   "outputs": [
    {
     "data": {
      "text/plain": [
       "array([0.7758, 0.7982, 0.7758, 0.7883])"
      ]
     },
     "execution_count": 147,
     "metadata": {},
     "output_type": "execute_result"
    }
   ],
   "source": [
    "from sklearn.model_selection import cross_val_score\n",
    "model = LogisticRegression(C=10)\n",
    "scores = cross_val_score(model, X_train, y_train, cv=4)\n",
    "scores"
   ]
  }
 ],
 "metadata": {
  "kernelspec": {
   "display_name": "Python 3",
   "language": "python",
   "name": "python3"
  },
  "language_info": {
   "codemirror_mode": {
    "name": "ipython",
    "version": 3
   },
   "file_extension": ".py",
   "mimetype": "text/x-python",
   "name": "python",
   "nbconvert_exporter": "python",
   "pygments_lexer": "ipython3",
   "version": "3.8.3"
  },
  "toc": {
   "base_numbering": 1,
   "nav_menu": {},
   "number_sections": true,
   "sideBar": true,
   "skip_h1_title": false,
   "title_cell": "Table of Contents",
   "title_sidebar": "Contents",
   "toc_cell": false,
   "toc_position": {},
   "toc_section_display": true,
   "toc_window_display": false
  }
 },
 "nbformat": 4,
 "nbformat_minor": 4
}
