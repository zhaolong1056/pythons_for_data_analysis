{
 "cells": [
  {
   "cell_type": "markdown",
   "metadata": {},
   "source": [
    "## Jupyter Notebook 基础"
   ]
  },
  {
   "cell_type": "code",
   "execution_count": 1,
   "metadata": {
    "ExecuteTime": {
     "end_time": "2020-11-09T09:25:51.264410Z",
     "start_time": "2020-11-09T09:25:51.029068Z"
    }
   },
   "outputs": [],
   "source": [
    "import numpy as np"
   ]
  },
  {
   "cell_type": "code",
   "execution_count": 2,
   "metadata": {
    "ExecuteTime": {
     "end_time": "2020-11-09T09:25:51.295148Z",
     "start_time": "2020-11-09T09:25:51.264410Z"
    }
   },
   "outputs": [
    {
     "data": {
      "text/plain": [
       "{0: -1.4747935570015256,\n",
       " 1: 1.0986132675842726,\n",
       " 2: -1.1277792533848985,\n",
       " 3: 0.04561324877598566,\n",
       " 4: 0.8625837355898405,\n",
       " 5: 0.9304193305294941,\n",
       " 6: 0.5868887136856928}"
      ]
     },
     "execution_count": 2,
     "metadata": {},
     "output_type": "execute_result"
    }
   ],
   "source": [
    "data = {i: np.random.randn() for i in range(7)}\n",
    "data"
   ]
  },
  {
   "cell_type": "code",
   "execution_count": 3,
   "metadata": {
    "ExecuteTime": {
     "end_time": "2020-11-09T09:25:51.342308Z",
     "start_time": "2020-11-09T09:25:51.299148Z"
    }
   },
   "outputs": [],
   "source": [
    "np.*load*?"
   ]
  },
  {
   "cell_type": "code",
   "execution_count": 4,
   "metadata": {
    "ExecuteTime": {
     "end_time": "2020-11-09T09:25:51.374322Z",
     "start_time": "2020-11-09T09:25:51.344311Z"
    }
   },
   "outputs": [],
   "source": [
    "%run ipython_script_test.py # 运行任意的Python文件，文件中的任意变量，函数引入了当前命名空间"
   ]
  },
  {
   "cell_type": "code",
   "execution_count": 5,
   "metadata": {
    "ExecuteTime": {
     "end_time": "2020-11-09T09:25:51.390320Z",
     "start_time": "2020-11-09T09:25:51.376324Z"
    }
   },
   "outputs": [
    {
     "data": {
      "text/plain": [
       "5"
      ]
     },
     "execution_count": 5,
     "metadata": {},
     "output_type": "execute_result"
    }
   ],
   "source": [
    "a"
   ]
  },
  {
   "cell_type": "code",
   "execution_count": 6,
   "metadata": {
    "ExecuteTime": {
     "end_time": "2020-11-09T09:25:51.406308Z",
     "start_time": "2020-11-09T09:25:51.393316Z"
    }
   },
   "outputs": [],
   "source": [
    "%run -i ipython_script_test.py  # 使用当前的命名空间中已有的变量"
   ]
  },
  {
   "cell_type": "code",
   "execution_count": 7,
   "metadata": {
    "ExecuteTime": {
     "end_time": "2020-11-09T09:25:51.422298Z",
     "start_time": "2020-11-09T09:25:51.408305Z"
    }
   },
   "outputs": [],
   "source": [
    "# %load ipython_script_test.py\n",
    "def f(x, y, z):\n",
    "\treturn (x + y) / 2\n",
    "\n",
    "\n",
    "a = 5\n",
    "b = 6\n",
    "c = 7.5\n",
    "\n",
    "\n",
    "result = f(a,b,c)"
   ]
  },
  {
   "cell_type": "code",
   "execution_count": 8,
   "metadata": {
    "ExecuteTime": {
     "end_time": "2020-11-09T09:25:51.438288Z",
     "start_time": "2020-11-09T09:25:51.424296Z"
    }
   },
   "outputs": [],
   "source": [
    "pat=%pwd"
   ]
  },
  {
   "cell_type": "code",
   "execution_count": 9,
   "metadata": {
    "ExecuteTime": {
     "end_time": "2020-11-09T09:25:51.454279Z",
     "start_time": "2020-11-09T09:25:51.440288Z"
    }
   },
   "outputs": [
    {
     "data": {
      "text/plain": [
       "'D:\\\\study_code\\\\data_analysis'"
      ]
     },
     "execution_count": 9,
     "metadata": {},
     "output_type": "execute_result"
    }
   ],
   "source": [
    "pat"
   ]
  },
  {
   "cell_type": "code",
   "execution_count": 10,
   "metadata": {
    "ExecuteTime": {
     "end_time": "2020-11-09T09:25:51.470272Z",
     "start_time": "2020-11-09T09:25:51.456278Z"
    }
   },
   "outputs": [
    {
     "data": {
      "text/plain": [
       "(100, 100)"
      ]
     },
     "execution_count": 10,
     "metadata": {},
     "output_type": "execute_result"
    }
   ],
   "source": [
    "a = np.random.randn(100, 100)\n",
    "a.shape"
   ]
  },
  {
   "cell_type": "code",
   "execution_count": 11,
   "metadata": {
    "ExecuteTime": {
     "end_time": "2020-11-09T09:25:51.502253Z",
     "start_time": "2020-11-09T09:25:51.472269Z"
    }
   },
   "outputs": [
    {
     "name": "stdout",
     "output_type": "stream",
     "text": [
      "Wall time: 8 ms\n"
     ]
    },
    {
     "data": {
      "text/plain": [
       "array([[  1.45045506, -28.6494221 , -17.02509841, ...,   4.61343683,\n",
       "         -6.29308402,   3.0115435 ],\n",
       "       [ 10.98359917,   6.24202792,  -9.38890702, ...,   3.5393304 ,\n",
       "         -9.39137661,   0.28664992],\n",
       "       [-11.88413018, -16.54015414,  -4.61336352, ...,   9.01267126,\n",
       "         -5.05304633,   5.51374912],\n",
       "       ...,\n",
       "       [ 10.67752035,  -4.63457478,  -0.33871081, ...,  -2.81128346,\n",
       "         -8.61617899,  -2.50696817],\n",
       "       [ -7.57817522,   6.69895717, -14.95153079, ...,  -3.66453928,\n",
       "          2.66134111,   1.4741417 ],\n",
       "       [  1.67993085,   3.226405  , -25.04084845, ...,   2.26111732,\n",
       "          6.56591739,   2.22861874]])"
      ]
     },
     "execution_count": 11,
     "metadata": {},
     "output_type": "execute_result"
    }
   ],
   "source": [
    "%time  np.dot(a, a)"
   ]
  },
  {
   "cell_type": "code",
   "execution_count": 12,
   "metadata": {
    "ExecuteTime": {
     "end_time": "2020-11-09T09:25:55.276263Z",
     "start_time": "2020-11-09T09:25:51.504250Z"
    }
   },
   "outputs": [
    {
     "name": "stdout",
     "output_type": "stream",
     "text": [
      "45.5 µs ± 3.88 µs per loop (mean ± std. dev. of 7 runs, 10000 loops each)\n"
     ]
    }
   ],
   "source": [
    "%timeit  np.dot(a, a)"
   ]
  },
  {
   "cell_type": "code",
   "execution_count": 13,
   "metadata": {
    "ExecuteTime": {
     "end_time": "2020-11-09T09:26:07.061356Z",
     "start_time": "2020-11-09T09:26:04.513425Z"
    }
   },
   "outputs": [],
   "source": [
    "%matplotlib inline"
   ]
  },
  {
   "cell_type": "code",
   "execution_count": 14,
   "metadata": {
    "ExecuteTime": {
     "end_time": "2020-11-09T09:26:27.535598Z",
     "start_time": "2020-11-09T09:26:27.528603Z"
    }
   },
   "outputs": [],
   "source": [
    "import matplotlib.pyplot as plt"
   ]
  },
  {
   "cell_type": "code",
   "execution_count": 16,
   "metadata": {
    "ExecuteTime": {
     "end_time": "2020-11-09T09:27:15.064324Z",
     "start_time": "2020-11-09T09:27:14.840378Z"
    }
   },
   "outputs": [
    {
     "data": {
      "text/plain": [
       "[<matplotlib.lines.Line2D at 0x1ec7e5caa30>]"
      ]
     },
     "execution_count": 16,
     "metadata": {},
     "output_type": "execute_result"
    },
    {
     "data": {
      "image/png": "[encoded data removed]",
      "text/plain": [
       "<Figure size 432x288 with 1 Axes>"
      ]
     },
     "metadata": {
      "needs_background": "light"
     },
     "output_type": "display_data"
    }
   ],
   "source": [
    "plt.plot(np.random.randn(50).cumsum())"
   ]
  },
  {
   "cell_type": "markdown",
   "metadata": {},
   "source": [
    "## Python基础"
   ]
  },
  {
   "cell_type": "code",
   "execution_count": 17,
   "metadata": {
    "ExecuteTime": {
     "end_time": "2020-11-09T09:32:28.743067Z",
     "start_time": "2020-11-09T09:32:28.736072Z"
    }
   },
   "outputs": [],
   "source": [
    "a=5;b=6;c=7 # Python中不以分号结尾，分好可以在一行内将多条语句进行分割"
   ]
  },
  {
   "cell_type": "markdown",
   "metadata": {},
   "source": [
    "- 组织代码使用**缩进**，而不是大括号\n",
    "    - 冒号表示代码块开始\n",
    "    - 同一级别连续的缩进表示同一个代码块\n",
    "    - 推荐使用四个空格作为缩进，而不是使用tab，因为不同的IDE中，tab对应的空格数量不同\n",
    "- 一切皆为对象；对象模型的一致性\n",
    "- 使用`#`作为注释符号\n",
    "    - 行内注释\n",
    "    - 整行注释"
   ]
  },
  {
   "cell_type": "markdown",
   "metadata": {},
   "source": [
    "- 函数和对象的方法\n",
    "    - 几乎所有的Python对象都有内置函数，称为 **方法**\n",
    "    - 可以访问到对象的内部\n",
    "- 变量和参数的传递\n",
    "    - 对一个变量名赋值时，本质上，**先创建赋值符号右边的对象，再将对象的引用交给变量名**\n",
    "    - 赋值也称为 **绑定**，将一个变量名绑定到了一个对象上\n",
    "    - 已被赋值的变量名也会被称为 绑定变量"
   ]
  },
  {
   "cell_type": "code",
   "execution_count": 22,
   "metadata": {
    "ExecuteTime": {
     "end_time": "2020-11-09T12:47:29.264785Z",
     "start_time": "2020-11-09T12:47:29.246793Z"
    }
   },
   "outputs": [],
   "source": [
    "my_list1 = [1, 2 ,3, 4]\n",
    "my_list2 = my_list1"
   ]
  },
  {
   "cell_type": "code",
   "execution_count": 23,
   "metadata": {
    "ExecuteTime": {
     "end_time": "2020-11-09T12:47:30.766602Z",
     "start_time": "2020-11-09T12:47:30.751607Z"
    }
   },
   "outputs": [
    {
     "data": {
      "text/plain": [
       "True"
      ]
     },
     "execution_count": 23,
     "metadata": {},
     "output_type": "execute_result"
    }
   ],
   "source": [
    "my_list1 is my_list2"
   ]
  },
  {
   "cell_type": "code",
   "execution_count": 24,
   "metadata": {
    "ExecuteTime": {
     "end_time": "2020-11-09T12:47:32.308387Z",
     "start_time": "2020-11-09T12:47:32.294295Z"
    }
   },
   "outputs": [
    {
     "data": {
      "text/plain": [
       "[1, 2, 3, 4, 5]"
      ]
     },
     "execution_count": 24,
     "metadata": {},
     "output_type": "execute_result"
    }
   ],
   "source": [
    "my_list2.append(5)\n",
    "my_list1"
   ]
  },
  {
   "cell_type": "code",
   "execution_count": 25,
   "metadata": {
    "ExecuteTime": {
     "end_time": "2020-11-09T12:55:09.419822Z",
     "start_time": "2020-11-09T12:55:09.404814Z"
    }
   },
   "outputs": [],
   "source": [
    "def append_element(some_list, element):\n",
    "    some_list.append(element)"
   ]
  },
  {
   "cell_type": "code",
   "execution_count": 26,
   "metadata": {
    "ExecuteTime": {
     "end_time": "2020-11-09T12:55:29.423240Z",
     "start_time": "2020-11-09T12:55:29.415257Z"
    }
   },
   "outputs": [],
   "source": [
    "data = [1,2, 3, 4]\n",
    "append_element(data, 10)"
   ]
  },
  {
   "cell_type": "code",
   "execution_count": 27,
   "metadata": {
    "ExecuteTime": {
     "end_time": "2020-11-09T12:55:34.136819Z",
     "start_time": "2020-11-09T12:55:34.127823Z"
    }
   },
   "outputs": [
    {
     "data": {
      "text/plain": [
       "[1, 2, 3, 4, 10]"
      ]
     },
     "execution_count": 27,
     "metadata": {},
     "output_type": "execute_result"
    }
   ],
   "source": [
    "data"
   ]
  },
  {
   "cell_type": "markdown",
   "metadata": {},
   "source": [
    "- Python中的**对象引用并不涉及类型**\n",
    "    - **变量对于对象而言只是特定命名空间中的名称**\n",
    "    - 变量是没有类型的，变量引用的对象是有类型的\n",
    "    - 所以变量可以引用任何对象\n",
    "- Python被认为是强类型语言\n",
    "    - **变量参与运算，就是引用的对象参数运算**\n",
    "    - 所有的对象都拥有一个指定的类型，**隐式转化只存在某些特定，明显的情况下**"
   ]
  },
  {
   "cell_type": "code",
   "execution_count": 28,
   "metadata": {
    "ExecuteTime": {
     "end_time": "2020-11-09T12:59:04.547390Z",
     "start_time": "2020-11-09T12:59:04.534396Z"
    }
   },
   "outputs": [
    {
     "data": {
      "text/plain": [
       "list"
      ]
     },
     "execution_count": 28,
     "metadata": {},
     "output_type": "execute_result"
    }
   ],
   "source": [
    "type(data)"
   ]
  },
  {
   "cell_type": "code",
   "execution_count": 29,
   "metadata": {
    "ExecuteTime": {
     "end_time": "2020-11-09T12:59:57.375126Z",
     "start_time": "2020-11-09T12:59:57.356134Z"
    }
   },
   "outputs": [
    {
     "data": {
      "text/plain": [
       "str"
      ]
     },
     "execution_count": 29,
     "metadata": {},
     "output_type": "execute_result"
    }
   ],
   "source": [
    "a = 'python'\n",
    "type(a)"
   ]
  },
  {
   "cell_type": "code",
   "execution_count": 30,
   "metadata": {
    "ExecuteTime": {
     "end_time": "2020-11-09T13:00:02.161337Z",
     "start_time": "2020-11-09T13:00:02.115360Z"
    }
   },
   "outputs": [
    {
     "ename": "TypeError",
     "evalue": "unsupported operand type(s) for +: 'int' and 'str'",
     "output_type": "error",
     "traceback": [
      "\u001b[1;31m---------------------------------------------------------------------------\u001b[0m",
      "\u001b[1;31mTypeError\u001b[0m                                 Traceback (most recent call last)",
      "\u001b[1;32mD:\\study_code\\data_analysis\\ipython_script_test.py\u001b[0m in \u001b[0;36m<module>\u001b[1;34m\u001b[0m\n\u001b[1;32m----> 1\u001b[1;33m \u001b[1;36m5\u001b[0m \u001b[1;33m+\u001b[0m \u001b[1;34m'5'\u001b[0m\u001b[1;33m\u001b[0m\u001b[1;33m\u001b[0m\u001b[0m\n\u001b[0m",
      "\u001b[1;31mTypeError\u001b[0m: unsupported operand type(s) for +: 'int' and 'str'"
     ]
    }
   ],
   "source": [
    "5 + '5'"
   ]
  },
  {
   "cell_type": "code",
   "execution_count": 31,
   "metadata": {
    "ExecuteTime": {
     "end_time": "2020-11-09T13:00:31.073705Z",
     "start_time": "2020-11-09T13:00:31.063697Z"
    }
   },
   "outputs": [
    {
     "data": {
      "text/plain": [
       "10.2"
      ]
     },
     "execution_count": 31,
     "metadata": {},
     "output_type": "execute_result"
    }
   ],
   "source": [
    "5 + 5.2 # 明显的转换"
   ]
  },
  {
   "cell_type": "markdown",
   "metadata": {},
   "source": [
    "- 了解对象的类型是非常重要的，写出可以处理多种不同输入的函数是非常有用的\n",
    "- 使用`isinstance`检查一个对象是否是特定类型的实例\n",
    "    - 参数可以是元组，表示检查对象的类型是否是元组存在的类型之一"
   ]
  },
  {
   "cell_type": "code",
   "execution_count": 32,
   "metadata": {
    "ExecuteTime": {
     "end_time": "2020-11-09T13:24:31.828975Z",
     "start_time": "2020-11-09T13:24:31.811984Z"
    }
   },
   "outputs": [
    {
     "data": {
      "text/plain": [
       "True"
      ]
     },
     "execution_count": 32,
     "metadata": {},
     "output_type": "execute_result"
    }
   ],
   "source": [
    "isinstance(data, list)"
   ]
  },
  {
   "cell_type": "code",
   "execution_count": 33,
   "metadata": {
    "ExecuteTime": {
     "end_time": "2020-11-09T13:24:42.462826Z",
     "start_time": "2020-11-09T13:24:42.450848Z"
    }
   },
   "outputs": [
    {
     "data": {
      "text/plain": [
       "True"
      ]
     },
     "execution_count": 33,
     "metadata": {},
     "output_type": "execute_result"
    }
   ],
   "source": [
    "isinstance(data, (list, tuple))"
   ]
  },
  {
   "cell_type": "markdown",
   "metadata": {},
   "source": [
    "- 鸭子类型\n",
    "    - 一个东西走起来像鸭子，叫起来像鸭子，那么它就是鸭子\n",
    "    - 通常情况下，我们并不关心某个对象的具体类型，而是关心它是否拥有某个特殊的方法或行为"
   ]
  },
  {
   "cell_type": "code",
   "execution_count": 34,
   "metadata": {
    "ExecuteTime": {
     "end_time": "2020-11-09T13:38:23.212573Z",
     "start_time": "2020-11-09T13:38:23.205580Z"
    }
   },
   "outputs": [],
   "source": [
    "def isiterable(obj):\n",
    "    try:\n",
    "        iter(obj)\n",
    "        return True\n",
    "    except TypeError:\n",
    "        return False"
   ]
  },
  {
   "cell_type": "code",
   "execution_count": 35,
   "metadata": {
    "ExecuteTime": {
     "end_time": "2020-11-09T13:38:38.294545Z",
     "start_time": "2020-11-09T13:38:38.287528Z"
    }
   },
   "outputs": [
    {
     "data": {
      "text/plain": [
       "True"
      ]
     },
     "execution_count": 35,
     "metadata": {},
     "output_type": "execute_result"
    }
   ],
   "source": [
    "isiterable('jia jin jin ')"
   ]
  },
  {
   "cell_type": "code",
   "execution_count": 36,
   "metadata": {
    "ExecuteTime": {
     "end_time": "2020-11-09T13:38:50.011449Z",
     "start_time": "2020-11-09T13:38:49.991455Z"
    }
   },
   "outputs": [
    {
     "data": {
      "text/plain": [
       "False"
      ]
     },
     "execution_count": 36,
     "metadata": {},
     "output_type": "execute_result"
    }
   ],
   "source": [
    "isiterable(123)"
   ]
  },
  {
   "cell_type": "markdown",
   "metadata": {},
   "source": [
    "- 模块： 以`.py`为后缀名并且包含Python代码文件\n",
    "- 在当前Python文件中引入其他模块(Python文件)定义的对象，使用`import`\n",
    "    - `from 模块 import 对象`\n",
    "    - `as` 对引入的对象重命名，防止和当前命名空间的对象重复"
   ]
  },
  {
   "cell_type": "markdown",
   "metadata": {},
   "source": [
    "- 大部分二元数学运算操作和比较运算和数学符号**是一样的**\n",
    "- `==` 和 `is`\n",
    "    - `is`: 检查两个变量是否 指向 同一个对象\n",
    "    - `==` 判断变量指向对象的值是否一样，而不是是否是同一个对象\n",
    "- None只有一个实例，`is`和`is not`常用来检查一个变量是否为`None`"
   ]
  },
  {
   "cell_type": "code",
   "execution_count": 37,
   "metadata": {
    "ExecuteTime": {
     "end_time": "2020-11-09T13:58:17.010260Z",
     "start_time": "2020-11-09T13:58:16.992255Z"
    }
   },
   "outputs": [],
   "source": [
    "a = [1,2,3]\n",
    "b = a\n",
    "c = list(a)"
   ]
  },
  {
   "cell_type": "code",
   "execution_count": 38,
   "metadata": {
    "ExecuteTime": {
     "end_time": "2020-11-09T13:58:25.532744Z",
     "start_time": "2020-11-09T13:58:25.524747Z"
    }
   },
   "outputs": [
    {
     "data": {
      "text/plain": [
       "(True, True)"
      ]
     },
     "execution_count": 38,
     "metadata": {},
     "output_type": "execute_result"
    }
   ],
   "source": [
    "a == b, a ==c"
   ]
  },
  {
   "cell_type": "code",
   "execution_count": 39,
   "metadata": {
    "ExecuteTime": {
     "end_time": "2020-11-09T13:58:31.976550Z",
     "start_time": "2020-11-09T13:58:31.955450Z"
    }
   },
   "outputs": [
    {
     "data": {
      "text/plain": [
       "(True, False)"
      ]
     },
     "execution_count": 39,
     "metadata": {},
     "output_type": "execute_result"
    }
   ],
   "source": [
    "a is b, a is c"
   ]
  },
  {
   "cell_type": "code",
   "execution_count": 40,
   "metadata": {
    "ExecuteTime": {
     "end_time": "2020-11-09T13:58:42.701412Z",
     "start_time": "2020-11-09T13:58:42.693417Z"
    }
   },
   "outputs": [
    {
     "data": {
      "text/plain": [
       "(2115237622336, 2115237622336, 2115241571392)"
      ]
     },
     "execution_count": 40,
     "metadata": {},
     "output_type": "execute_result"
    }
   ],
   "source": [
    "id(a), id(b), id(c)"
   ]
  },
  {
   "cell_type": "code",
   "execution_count": 41,
   "metadata": {
    "ExecuteTime": {
     "end_time": "2020-11-09T13:58:52.980972Z",
     "start_time": "2020-11-09T13:58:52.964977Z"
    }
   },
   "outputs": [
    {
     "data": {
      "text/plain": [
       "([1, 2, 3, 10], [1, 2, 3, 10], [1, 2, 3])"
      ]
     },
     "execution_count": 41,
     "metadata": {},
     "output_type": "execute_result"
    }
   ],
   "source": [
    "a.append(10)\n",
    "a,b,c"
   ]
  },
  {
   "cell_type": "code",
   "execution_count": 42,
   "metadata": {
    "ExecuteTime": {
     "end_time": "2020-11-09T14:00:13.614700Z",
     "start_time": "2020-11-09T14:00:13.607596Z"
    }
   },
   "outputs": [
    {
     "data": {
      "text/plain": [
       "NoneType"
      ]
     },
     "execution_count": 42,
     "metadata": {},
     "output_type": "execute_result"
    }
   ],
   "source": [
    "type(None)"
   ]
  },
  {
   "cell_type": "code",
   "execution_count": 43,
   "metadata": {
    "ExecuteTime": {
     "end_time": "2020-11-09T14:00:24.097172Z",
     "start_time": "2020-11-09T14:00:24.085163Z"
    }
   },
   "outputs": [
    {
     "data": {
      "text/plain": [
       "140703244064896"
      ]
     },
     "execution_count": 43,
     "metadata": {},
     "output_type": "execute_result"
    }
   ],
   "source": [
    "id(None)"
   ]
  },
  {
   "cell_type": "code",
   "execution_count": 45,
   "metadata": {
    "ExecuteTime": {
     "end_time": "2020-11-09T14:01:21.788102Z",
     "start_time": "2020-11-09T14:01:21.773112Z"
    }
   },
   "outputs": [
    {
     "data": {
      "text/plain": [
       "(140703244064896, 140703244064896)"
      ]
     },
     "execution_count": 45,
     "metadata": {},
     "output_type": "execute_result"
    }
   ],
   "source": [
    "e = None\n",
    "f = None\n",
    "id(e), id(f)"
   ]
  },
  {
   "cell_type": "markdown",
   "metadata": {},
   "source": [
    "- 可变对象和不可变对象\n",
    "    - 可变对象： 对象中包含的对象和值是可以被修改的\n",
    "        - Python中大部分对象，列表，字典，NumPy数组，大部分用户自定义的类型\n",
    "    - 不可变对象： 对象不可以被修改，当给变量赋新值时，就是**创建了新的对象**\n",
    "        - 数字，字符串，元组\n",
    "    - 修改行为往往有副作用"
   ]
  },
  {
   "cell_type": "code",
   "execution_count": 46,
   "metadata": {
    "ExecuteTime": {
     "end_time": "2020-11-10T00:00:45.358802Z",
     "start_time": "2020-11-10T00:00:45.343813Z"
    }
   },
   "outputs": [],
   "source": [
    "a_list = ['foo', 2, [4,5]]"
   ]
  },
  {
   "cell_type": "code",
   "execution_count": 47,
   "metadata": {
    "ExecuteTime": {
     "end_time": "2020-11-10T00:01:00.794851Z",
     "start_time": "2020-11-10T00:01:00.777864Z"
    }
   },
   "outputs": [
    {
     "data": {
      "text/plain": [
       "['foo', 2, (3, 4)]"
      ]
     },
     "execution_count": 47,
     "metadata": {},
     "output_type": "execute_result"
    }
   ],
   "source": [
    "a_list[2] = (3, 4)\n",
    "a_list"
   ]
  },
  {
   "cell_type": "code",
   "execution_count": 48,
   "metadata": {
    "ExecuteTime": {
     "end_time": "2020-11-10T00:01:40.644779Z",
     "start_time": "2020-11-10T00:01:40.625789Z"
    }
   },
   "outputs": [
    {
     "ename": "TypeError",
     "evalue": "'tuple' object does not support item assignment",
     "output_type": "error",
     "traceback": [
      "\u001b[1;31m---------------------------------------------------------------------------\u001b[0m",
      "\u001b[1;31mTypeError\u001b[0m                                 Traceback (most recent call last)",
      "\u001b[1;32mD:\\study_code\\data_analysis\\ipython_script_test.py\u001b[0m in \u001b[0;36m<module>\u001b[1;34m\u001b[0m\n\u001b[0;32m      1\u001b[0m \u001b[0ma_tuple\u001b[0m \u001b[1;33m=\u001b[0m \u001b[1;33m(\u001b[0m\u001b[1;36m3\u001b[0m\u001b[1;33m,\u001b[0m\u001b[1;36m4\u001b[0m\u001b[1;33m,\u001b[0m\u001b[1;33m(\u001b[0m\u001b[1;36m5\u001b[0m\u001b[1;33m,\u001b[0m\u001b[1;36m6\u001b[0m\u001b[1;33m)\u001b[0m\u001b[1;33m)\u001b[0m\u001b[1;33m\u001b[0m\u001b[1;33m\u001b[0m\u001b[0m\n\u001b[1;32m----> 2\u001b[1;33m \u001b[0ma_tuple\u001b[0m\u001b[1;33m[\u001b[0m\u001b[1;36m1\u001b[0m\u001b[1;33m]\u001b[0m \u001b[1;33m=\u001b[0m \u001b[1;34m'foo'\u001b[0m\u001b[1;33m\u001b[0m\u001b[1;33m\u001b[0m\u001b[0m\n\u001b[0m",
      "\u001b[1;31mTypeError\u001b[0m: 'tuple' object does not support item assignment"
     ]
    }
   ],
   "source": [
    "a_tuple = (3,4,(5,6))\n",
    "a_tuple[1] = 'foo'"
   ]
  },
  {
   "cell_type": "markdown",
   "metadata": {},
   "source": [
    "- 标量类型\n",
    "> Python标准库中拥有一个小的内建类型集合，用来处理数值数据，字符串，布尔型，以及时间和日期，这类“单值”类型有时被称为**标量类型**\n",
    "\n",
    "类型|说明\n",
    "--|--\n",
    "None|Python中的null值\n",
    "str|字符串类型，包含Unicode(UTF-8编码）字符串\n",
    "bytes | 原生的ASCII字节或者Unicode编码字节\n",
    "float | 双精度64位浮点数值，没有double类型\n",
    "bool | Trur，False\n",
    "int |任意精度无符号整数\n",
    "\n"
   ]
  },
  {
   "cell_type": "markdown",
   "metadata": {},
   "source": [
    "- 数值类型\n",
    "    - int，float\n",
    "    - int 可以存储任意大小的数字\n",
    "    - float 双精度64位值， 可以使用**科学计数法**表示\n",
    "    - **整数除法会把结果自动转换为 浮点数**"
   ]
  },
  {
   "cell_type": "code",
   "execution_count": 50,
   "metadata": {
    "ExecuteTime": {
     "end_time": "2020-11-10T00:13:31.132808Z",
     "start_time": "2020-11-10T00:13:31.124823Z"
    }
   },
   "outputs": [
    {
     "data": {
      "text/plain": [
       "1234567"
      ]
     },
     "execution_count": 50,
     "metadata": {},
     "output_type": "execute_result"
    }
   ],
   "source": [
    "ival = 1234567\n",
    "ival"
   ]
  },
  {
   "cell_type": "code",
   "execution_count": 52,
   "metadata": {
    "ExecuteTime": {
     "end_time": "2020-11-10T00:13:42.294949Z",
     "start_time": "2020-11-10T00:13:42.281850Z"
    }
   },
   "outputs": [
    {
     "data": {
      "text/plain": [
       "44387834035293131546568351288616021545530318946740045578810099075763730834843078502686743018503357430938949809"
      ]
     },
     "execution_count": 52,
     "metadata": {},
     "output_type": "execute_result"
    }
   ],
   "source": [
    "ival ** 18"
   ]
  },
  {
   "cell_type": "code",
   "execution_count": 54,
   "metadata": {
    "ExecuteTime": {
     "end_time": "2020-11-10T00:14:00.803718Z",
     "start_time": "2020-11-10T00:14:00.784653Z"
    }
   },
   "outputs": [
    {
     "data": {
      "text/plain": [
       "0.1234"
      ]
     },
     "execution_count": 54,
     "metadata": {},
     "output_type": "execute_result"
    }
   ],
   "source": [
    "fval = 0.1234\n",
    "fval "
   ]
  },
  {
   "cell_type": "code",
   "execution_count": 56,
   "metadata": {
    "ExecuteTime": {
     "end_time": "2020-11-10T00:14:16.603621Z",
     "start_time": "2020-11-10T00:14:16.586621Z"
    }
   },
   "outputs": [
    {
     "data": {
      "text/plain": [
       "1.23e-10"
      ]
     },
     "execution_count": 56,
     "metadata": {},
     "output_type": "execute_result"
    }
   ],
   "source": [
    "fval = 1.23e-10\n",
    "fval"
   ]
  },
  {
   "cell_type": "code",
   "execution_count": 57,
   "metadata": {
    "ExecuteTime": {
     "end_time": "2020-11-10T00:14:21.190108Z",
     "start_time": "2020-11-10T00:14:21.170122Z"
    }
   },
   "outputs": [
    {
     "data": {
      "text/plain": [
       "5.0"
      ]
     },
     "execution_count": 57,
     "metadata": {},
     "output_type": "execute_result"
    }
   ],
   "source": [
    "10/2"
   ]
  },
  {
   "cell_type": "markdown",
   "metadata": {},
   "source": [
    "- 字符串\n",
    "    - 使用**引用或者双引号**写一个字符串字面值\n",
    "    - 三个单引号或者三个双引号写**包含换行的多行字符串**\n",
    "    - 字符串是不可被修改的\n",
    "    - Pythond对象可以通过`str`函数转换成字符串\n",
    "    - 字符串是Unicode字符的序列，属于**序列**类型的一种，可以使用**索引和切片**\n",
    "    - `\\` 表示转义字符，表示特殊符号\n",
    "    - `+， *`产生新的字符串\n",
    "    - 字符串格式化产生新的字符串"
   ]
  },
  {
   "cell_type": "code",
   "execution_count": 58,
   "metadata": {
    "ExecuteTime": {
     "end_time": "2020-11-10T00:31:41.729146Z",
     "start_time": "2020-11-10T00:31:41.712161Z"
    }
   },
   "outputs": [],
   "source": [
    "a = 'one way of longer string'\n",
    "b = \"another way\""
   ]
  },
  {
   "cell_type": "code",
   "execution_count": 59,
   "metadata": {
    "ExecuteTime": {
     "end_time": "2020-11-10T00:32:05.564889Z",
     "start_time": "2020-11-10T00:32:05.551897Z"
    }
   },
   "outputs": [
    {
     "data": {
      "text/plain": [
       "'\\n\\none way of longer string\\nanother way\\n'"
      ]
     },
     "execution_count": 59,
     "metadata": {},
     "output_type": "execute_result"
    }
   ],
   "source": [
    "v = '''\n",
    "\n",
    "one way of longer string\n",
    "another way\n",
    "'''\n",
    "\n",
    "v"
   ]
  },
  {
   "cell_type": "code",
   "execution_count": 60,
   "metadata": {
    "ExecuteTime": {
     "end_time": "2020-11-10T00:32:21.606906Z",
     "start_time": "2020-11-10T00:32:21.599911Z"
    }
   },
   "outputs": [
    {
     "data": {
      "text/plain": [
       "4"
      ]
     },
     "execution_count": 60,
     "metadata": {},
     "output_type": "execute_result"
    }
   ],
   "source": [
    "v.count('\\n')"
   ]
  },
  {
   "cell_type": "code",
   "execution_count": 61,
   "metadata": {
    "ExecuteTime": {
     "end_time": "2020-11-10T00:32:35.868525Z",
     "start_time": "2020-11-10T00:32:35.855513Z"
    }
   },
   "outputs": [
    {
     "data": {
      "text/plain": [
       "'n'"
      ]
     },
     "execution_count": 61,
     "metadata": {},
     "output_type": "execute_result"
    }
   ],
   "source": [
    "a[1]"
   ]
  },
  {
   "cell_type": "code",
   "execution_count": 62,
   "metadata": {
    "ExecuteTime": {
     "end_time": "2020-11-10T00:32:44.728105Z",
     "start_time": "2020-11-10T00:32:44.711118Z"
    }
   },
   "outputs": [
    {
     "ename": "TypeError",
     "evalue": "'str' object does not support item assignment",
     "output_type": "error",
     "traceback": [
      "\u001b[1;31m---------------------------------------------------------------------------\u001b[0m",
      "\u001b[1;31mTypeError\u001b[0m                                 Traceback (most recent call last)",
      "\u001b[1;32mD:\\study_code\\data_analysis\\ipython_script_test.py\u001b[0m in \u001b[0;36m<module>\u001b[1;34m\u001b[0m\n\u001b[1;32m----> 1\u001b[1;33m \u001b[0ma\u001b[0m\u001b[1;33m[\u001b[0m\u001b[1;36m1\u001b[0m\u001b[1;33m]\u001b[0m \u001b[1;33m=\u001b[0m \u001b[1;34m'zh'\u001b[0m\u001b[1;33m\u001b[0m\u001b[1;33m\u001b[0m\u001b[0m\n\u001b[0m",
      "\u001b[1;31mTypeError\u001b[0m: 'str' object does not support item assignment"
     ]
    }
   ],
   "source": [
    "a[1] = 'zh'"
   ]
  },
  {
   "cell_type": "code",
   "execution_count": 64,
   "metadata": {
    "ExecuteTime": {
     "end_time": "2020-11-10T00:34:30.740460Z",
     "start_time": "2020-11-10T00:34:30.727470Z"
    }
   },
   "outputs": [],
   "source": [
    "from collections.abc import Sequence"
   ]
  },
  {
   "cell_type": "code",
   "execution_count": 65,
   "metadata": {
    "ExecuteTime": {
     "end_time": "2020-11-10T00:34:41.493796Z",
     "start_time": "2020-11-10T00:34:41.479793Z"
    }
   },
   "outputs": [
    {
     "data": {
      "text/plain": [
       "True"
      ]
     },
     "execution_count": 65,
     "metadata": {},
     "output_type": "execute_result"
    }
   ],
   "source": [
    "isinstance(a, Sequence)"
   ]
  },
  {
   "cell_type": "code",
   "execution_count": 66,
   "metadata": {
    "ExecuteTime": {
     "end_time": "2020-11-10T00:45:29.846719Z",
     "start_time": "2020-11-10T00:45:29.837723Z"
    }
   },
   "outputs": [
    {
     "data": {
      "text/plain": [
       "float"
      ]
     },
     "execution_count": 66,
     "metadata": {},
     "output_type": "execute_result"
    }
   ],
   "source": [
    "a = 5.6\n",
    "type(a)"
   ]
  },
  {
   "cell_type": "code",
   "execution_count": 67,
   "metadata": {
    "ExecuteTime": {
     "end_time": "2020-11-10T00:45:43.817795Z",
     "start_time": "2020-11-10T00:45:43.797806Z"
    }
   },
   "outputs": [
    {
     "data": {
      "text/plain": [
       "str"
      ]
     },
     "execution_count": 67,
     "metadata": {},
     "output_type": "execute_result"
    }
   ],
   "source": [
    "type(str(a))"
   ]
  },
  {
   "cell_type": "code",
   "execution_count": 70,
   "metadata": {
    "ExecuteTime": {
     "end_time": "2020-11-10T00:46:51.230183Z",
     "start_time": "2020-11-10T00:46:51.221190Z"
    }
   },
   "outputs": [
    {
     "name": "stdout",
     "output_type": "stream",
     "text": [
      "P\ty\tt\th\to\tn\t"
     ]
    }
   ],
   "source": [
    "s = 'Python'\n",
    "for c in s: print(c, end='\\t')"
   ]
  },
  {
   "cell_type": "code",
   "execution_count": 71,
   "metadata": {
    "ExecuteTime": {
     "end_time": "2020-11-10T01:02:20.089258Z",
     "start_time": "2020-11-10T01:02:20.072267Z"
    }
   },
   "outputs": [
    {
     "data": {
      "text/plain": [
       "'D:\\\\study_code\\\\data_analysis'"
      ]
     },
     "execution_count": 71,
     "metadata": {},
     "output_type": "execute_result"
    }
   ],
   "source": [
    "%pwd  # Escape Character 转义字符 \\\\--表示单\\"
   ]
  },
  {
   "cell_type": "code",
   "execution_count": 72,
   "metadata": {
    "ExecuteTime": {
     "end_time": "2020-11-10T01:06:23.306304Z",
     "start_time": "2020-11-10T01:06:23.298292Z"
    }
   },
   "outputs": [
    {
     "data": {
      "text/plain": [
       "'君不见长江之水天上来奔流到海不复回'"
      ]
     },
     "execution_count": 72,
     "metadata": {},
     "output_type": "execute_result"
    }
   ],
   "source": [
    "\"君不见长江之水天上来\"+\"奔流到海不复回\""
   ]
  },
  {
   "cell_type": "code",
   "execution_count": 76,
   "metadata": {
    "ExecuteTime": {
     "end_time": "2020-11-10T01:08:09.888538Z",
     "start_time": "2020-11-10T01:08:09.874548Z"
    }
   },
   "outputs": [
    {
     "data": {
      "text/plain": [
       "'{0: .2f}{1:s}are worth US${2:d}'"
      ]
     },
     "execution_count": 76,
     "metadata": {},
     "output_type": "execute_result"
    }
   ],
   "source": [
    "template = '{0: .2f}{1:s}are worth US${2:d}'\n",
    "template"
   ]
  },
  {
   "cell_type": "code",
   "execution_count": 77,
   "metadata": {
    "ExecuteTime": {
     "end_time": "2020-11-10T01:08:11.442398Z",
     "start_time": "2020-11-10T01:08:11.425409Z"
    }
   },
   "outputs": [
    {
     "data": {
      "text/plain": [
       "' 4.67羊皮卷are worth US$1'"
      ]
     },
     "execution_count": 77,
     "metadata": {},
     "output_type": "execute_result"
    }
   ],
   "source": [
    "template.format(4.6666, \"羊皮卷\", 1)"
   ]
  },
  {
   "cell_type": "markdown",
   "metadata": {},
   "source": [
    "- 字节与Unicode\n",
    "    - 在Python3中，Unicode成为了**字符串类型的一等类**，用于更好的兼容处理ADSCII和非ASCII文本\n",
    "    - 在Python2中，字符串完全是字节，没有显示的Unicode编码\n",
    "    \n",
    "    - Python3中，可以将Unicode字符串编码成**相应编码的字节**，通过指定相应的编码类型，encode\n",
    "    - 反之，通过解码将字节转换成Unicode字符串，需要使用正确的编码类型， decode\n",
    "    \n",
    "    - bytes 字节，表示ASCII字符 ，通过在字符串加前缀`b`构建\n",
    "        - 字节对象中，并不想让所有的数据都隐士解码为Unicode字符串\n",
    "        - **添加前缀的只能构建包含ASCII的字节**"
   ]
  },
  {
   "cell_type": "code",
   "execution_count": 79,
   "metadata": {
    "ExecuteTime": {
     "end_time": "2020-11-10T01:15:01.746943Z",
     "start_time": "2020-11-10T01:15:01.737962Z"
    }
   },
   "outputs": [
    {
     "data": {
      "text/plain": [
       "('中国', str)"
      ]
     },
     "execution_count": 79,
     "metadata": {},
     "output_type": "execute_result"
    }
   ],
   "source": [
    "val = \"中国\"\n",
    "val, type(val)"
   ]
  },
  {
   "cell_type": "code",
   "execution_count": 80,
   "metadata": {
    "ExecuteTime": {
     "end_time": "2020-11-10T01:15:32.322025Z",
     "start_time": "2020-11-10T01:15:32.307018Z"
    }
   },
   "outputs": [
    {
     "data": {
      "text/plain": [
       "(b'\\xe4\\xb8\\xad\\xe5\\x9b\\xbd', bytes)"
      ]
     },
     "execution_count": 80,
     "metadata": {},
     "output_type": "execute_result"
    }
   ],
   "source": [
    "val_utf8 = val.encode('utf-8')\n",
    "val_utf8, type(val_utf8)"
   ]
  },
  {
   "cell_type": "code",
   "execution_count": 82,
   "metadata": {
    "ExecuteTime": {
     "end_time": "2020-11-10T01:17:05.359715Z",
     "start_time": "2020-11-10T01:17:05.345709Z"
    }
   },
   "outputs": [
    {
     "data": {
      "text/plain": [
       "'中国'"
      ]
     },
     "execution_count": 82,
     "metadata": {},
     "output_type": "execute_result"
    }
   ],
   "source": [
    "val_utf8.decode() # 默认 utf8"
   ]
  },
  {
   "cell_type": "code",
   "execution_count": 81,
   "metadata": {
    "ExecuteTime": {
     "end_time": "2020-11-10T01:15:44.834021Z",
     "start_time": "2020-11-10T01:15:44.826028Z"
    }
   },
   "outputs": [
    {
     "ename": "SyntaxError",
     "evalue": "bytes can only contain ASCII literal characters. (<ipython-input-81-aedc7f43aacf>, line 1)",
     "output_type": "error",
     "traceback": [
      "\u001b[1;36m  File \u001b[1;32m\"<ipython-input-81-aedc7f43aacf>\"\u001b[1;36m, line \u001b[1;32m1\u001b[0m\n\u001b[1;33m    b'中国'\u001b[0m\n\u001b[1;37m    ^\u001b[0m\n\u001b[1;31mSyntaxError\u001b[0m\u001b[1;31m:\u001b[0m bytes can only contain ASCII literal characters.\n"
     ]
    }
   ],
   "source": [
    "b'中国'"
   ]
  },
  {
   "cell_type": "code",
   "execution_count": 83,
   "metadata": {
    "ExecuteTime": {
     "end_time": "2020-11-10T01:17:28.031023Z",
     "start_time": "2020-11-10T01:17:28.024029Z"
    }
   },
   "outputs": [
    {
     "data": {
      "text/plain": [
       "b'china'"
      ]
     },
     "execution_count": 83,
     "metadata": {},
     "output_type": "execute_result"
    }
   ],
   "source": [
    "b'china'"
   ]
  },
  {
   "cell_type": "code",
   "execution_count": 84,
   "metadata": {
    "ExecuteTime": {
     "end_time": "2020-11-10T01:17:37.043469Z",
     "start_time": "2020-11-10T01:17:37.024463Z"
    }
   },
   "outputs": [
    {
     "data": {
      "text/plain": [
       "b'\\xe4\\xb8\\xad\\xe5\\x9b\\xbd'"
      ]
     },
     "execution_count": 84,
     "metadata": {},
     "output_type": "execute_result"
    }
   ],
   "source": [
    "b'\\xe4\\xb8\\xad\\xe5\\x9b\\xbd'"
   ]
  },
  {
   "cell_type": "code",
   "execution_count": 86,
   "metadata": {
    "ExecuteTime": {
     "end_time": "2020-11-10T01:17:48.959917Z",
     "start_time": "2020-11-10T01:17:48.944907Z"
    }
   },
   "outputs": [
    {
     "data": {
      "text/plain": [
       "'中国'"
      ]
     },
     "execution_count": 86,
     "metadata": {},
     "output_type": "execute_result"
    }
   ],
   "source": [
    "b'\\xe4\\xb8\\xad\\xe5\\x9b\\xbd'.decode()"
   ]
  },
  {
   "cell_type": "markdown",
   "metadata": {},
   "source": [
    "- 布尔值\n",
    "    - True和False\n",
    "    - 比较运算符， 条件表达式 结果是布尔值\n",
    "    - 布尔值可以与 or and 关键字使用 逻辑运算"
   ]
  },
  {
   "cell_type": "markdown",
   "metadata": {},
   "source": [
    "- 类型转换\n",
    "    - str, bool, int. float即使数据类型，也可以将数据转换为这些类型的函数 **构造函数**"
   ]
  },
  {
   "cell_type": "code",
   "execution_count": 88,
   "metadata": {
    "ExecuteTime": {
     "end_time": "2020-11-10T01:23:43.059139Z",
     "start_time": "2020-11-10T01:23:43.050152Z"
    }
   },
   "outputs": [
    {
     "data": {
      "text/plain": [
       "(3.1414, float)"
      ]
     },
     "execution_count": 88,
     "metadata": {},
     "output_type": "execute_result"
    }
   ],
   "source": [
    "val = '3.1414'\n",
    "fval = float(val)\n",
    "fval, type(fval)"
   ]
  },
  {
   "cell_type": "code",
   "execution_count": 91,
   "metadata": {
    "ExecuteTime": {
     "end_time": "2020-11-10T01:24:44.037288Z",
     "start_time": "2020-11-10T01:24:44.023298Z"
    }
   },
   "outputs": [
    {
     "data": {
      "text/plain": [
       "(3, int)"
      ]
     },
     "execution_count": 91,
     "metadata": {},
     "output_type": "execute_result"
    }
   ],
   "source": [
    "ival = int(fval)\n",
    "ival, type(ival)"
   ]
  },
  {
   "cell_type": "code",
   "execution_count": 94,
   "metadata": {
    "ExecuteTime": {
     "end_time": "2020-11-10T01:25:23.396258Z",
     "start_time": "2020-11-10T01:25:23.383250Z"
    }
   },
   "outputs": [
    {
     "data": {
      "text/plain": [
       "3"
      ]
     },
     "execution_count": 94,
     "metadata": {},
     "output_type": "execute_result"
    }
   ],
   "source": [
    "int('3')"
   ]
  },
  {
   "cell_type": "markdown",
   "metadata": {},
   "source": [
    "- None\n",
    "    - 是Python的NULL值\n",
    "    - 如果一个函数没有显示返回，会隐式返回None\n",
    "    - 常用作函数参数的默认值\n",
    "    - None不仅是一个关键字，还是NoneType类型的唯一实例"
   ]
  },
  {
   "cell_type": "code",
   "execution_count": 95,
   "metadata": {
    "ExecuteTime": {
     "end_time": "2020-11-10T01:28:44.668626Z",
     "start_time": "2020-11-10T01:28:44.647625Z"
    }
   },
   "outputs": [
    {
     "data": {
      "text/plain": [
       "NoneType"
      ]
     },
     "execution_count": 95,
     "metadata": {},
     "output_type": "execute_result"
    }
   ],
   "source": [
    "type(None)"
   ]
  },
  {
   "cell_type": "markdown",
   "metadata": {},
   "source": [
    "- 时间和日期\n",
    "    - Python内建的datetime模块，提供了`datetime， data和time`类型\n",
    "    - `datatime`类型包含时间和日期，可以使用`date和time`方法**获取它的data和time对象**\n",
    "    - `strftime` 将`datatime`转换为字符串\n",
    "    - `strptime` 将字符串解析为`datatime`\n",
    "        - 参数是：格式化字符串\n",
    "    - `timedelta`类型：表示两个datatime类型的**差值**\n",
    "        - 通过两个datatime相减得到\n",
    "        - 可以和datatime做加法"
   ]
  },
  {
   "cell_type": "code",
   "execution_count": 96,
   "metadata": {
    "ExecuteTime": {
     "end_time": "2020-11-10T01:33:20.513571Z",
     "start_time": "2020-11-10T01:33:20.503589Z"
    }
   },
   "outputs": [],
   "source": [
    "from datetime  import date, time, datetime"
   ]
  },
  {
   "cell_type": "code",
   "execution_count": 97,
   "metadata": {
    "ExecuteTime": {
     "end_time": "2020-11-10T01:33:35.275613Z",
     "start_time": "2020-11-10T01:33:35.269615Z"
    }
   },
   "outputs": [
    {
     "data": {
      "text/plain": [
       "datetime.datetime(2020, 11, 10, 9, 33, 35, 270618)"
      ]
     },
     "execution_count": 97,
     "metadata": {},
     "output_type": "execute_result"
    }
   ],
   "source": [
    "datetime.now()"
   ]
  },
  {
   "cell_type": "code",
   "execution_count": 99,
   "metadata": {
    "ExecuteTime": {
     "end_time": "2020-11-10T01:34:16.073858Z",
     "start_time": "2020-11-10T01:34:16.063864Z"
    }
   },
   "outputs": [
    {
     "data": {
      "text/plain": [
       "datetime.date(2020, 11, 10)"
      ]
     },
     "execution_count": 99,
     "metadata": {},
     "output_type": "execute_result"
    }
   ],
   "source": [
    "datetime.now().date()"
   ]
  },
  {
   "cell_type": "code",
   "execution_count": 100,
   "metadata": {
    "ExecuteTime": {
     "end_time": "2020-11-10T01:34:26.315040Z",
     "start_time": "2020-11-10T01:34:26.295062Z"
    }
   },
   "outputs": [
    {
     "data": {
      "text/plain": [
       "datetime.time(9, 34, 26, 296053)"
      ]
     },
     "execution_count": 100,
     "metadata": {},
     "output_type": "execute_result"
    }
   ],
   "source": [
    "datetime.now().time()"
   ]
  },
  {
   "cell_type": "code",
   "execution_count": 103,
   "metadata": {
    "ExecuteTime": {
     "end_time": "2020-11-10T01:35:40.971714Z",
     "start_time": "2020-11-10T01:35:40.958703Z"
    }
   },
   "outputs": [
    {
     "data": {
      "text/plain": [
       "'2020-11-10'"
      ]
     },
     "execution_count": 103,
     "metadata": {},
     "output_type": "execute_result"
    }
   ],
   "source": [
    "datetime.now().strftime('%Y-%m-%d')"
   ]
  },
  {
   "cell_type": "code",
   "execution_count": 105,
   "metadata": {
    "ExecuteTime": {
     "end_time": "2020-11-10T01:38:05.236029Z",
     "start_time": "2020-11-10T01:38:05.229038Z"
    }
   },
   "outputs": [
    {
     "data": {
      "text/plain": [
       "datetime.datetime(1990, 1, 10, 0, 0)"
      ]
     },
     "execution_count": 105,
     "metadata": {},
     "output_type": "execute_result"
    }
   ],
   "source": [
    "dt = datetime(1990,1,10)\n",
    "dt"
   ]
  },
  {
   "cell_type": "code",
   "execution_count": 106,
   "metadata": {
    "ExecuteTime": {
     "end_time": "2020-11-10T01:38:24.052648Z",
     "start_time": "2020-11-10T01:38:24.045653Z"
    }
   },
   "outputs": [
    {
     "data": {
      "text/plain": [
       "datetime.timedelta"
      ]
     },
     "execution_count": 106,
     "metadata": {},
     "output_type": "execute_result"
    }
   ],
   "source": [
    "dla = datetime.now() -dt\n",
    "type(dla)"
   ]
  },
  {
   "cell_type": "code",
   "execution_count": 107,
   "metadata": {
    "ExecuteTime": {
     "end_time": "2020-11-10T01:38:28.240504Z",
     "start_time": "2020-11-10T01:38:28.221505Z"
    }
   },
   "outputs": [
    {
     "data": {
      "text/plain": [
       "datetime.timedelta(days=11262, seconds=34704, microseconds=46652)"
      ]
     },
     "execution_count": 107,
     "metadata": {},
     "output_type": "execute_result"
    }
   ],
   "source": [
    "dla"
   ]
  },
  {
   "cell_type": "code",
   "execution_count": 108,
   "metadata": {
    "ExecuteTime": {
     "end_time": "2020-11-10T01:40:40.951394Z",
     "start_time": "2020-11-10T01:40:40.933387Z"
    }
   },
   "outputs": [
    {
     "data": {
      "text/plain": [
       "datetime.datetime(2020, 11, 10, 9, 38, 24, 46652)"
      ]
     },
     "execution_count": 108,
     "metadata": {},
     "output_type": "execute_result"
    }
   ],
   "source": [
    "dt + dla"
   ]
  },
  {
   "cell_type": "markdown",
   "metadata": {},
   "source": [
    "- 控制流\n",
    "    - 通过一些条件逻辑，循环等内建关键字的方式实现的"
   ]
  },
  {
   "cell_type": "markdown",
   "metadata": {},
   "source": [
    "- if  elif else\n",
    "    -  if 是 控制流类型， 检查一个条件是否是True\n",
    "    - 一个if可以接多个elif代码块和一个else代码块\n",
    "        - 如果所有的elif条件均为假，执行eles代码块\n",
    "        - 如果某个条件为真，后面的elif和else代码块不执行\n",
    "    - 当使用and或or进行混合条件判断时，条件判断是从左到右的，并且在and或or两侧的条件会有**短路**现象"
   ]
  },
  {
   "cell_type": "code",
   "execution_count": 110,
   "metadata": {
    "ExecuteTime": {
     "end_time": "2020-11-10T01:47:15.946544Z",
     "start_time": "2020-11-10T01:47:15.940553Z"
    }
   },
   "outputs": [],
   "source": [
    "x = 3\n",
    "if x<0: print('It\"s negative')"
   ]
  },
  {
   "cell_type": "code",
   "execution_count": 111,
   "metadata": {
    "ExecuteTime": {
     "end_time": "2020-11-10T01:49:23.809055Z",
     "start_time": "2020-11-10T01:49:23.796049Z"
    }
   },
   "outputs": [
    {
     "name": "stdout",
     "output_type": "stream",
     "text": [
      "Positive out smaller than 5\n"
     ]
    }
   ],
   "source": [
    "if x < 0:\n",
    "    print('It\"s negative')\n",
    "elif x == 0:\n",
    "    print('Equal to Zero')\n",
    "elif 0<x<5:\n",
    "    print('Positive out smaller than 5')\n",
    "else:\n",
    "    print('Positive out larger than or queal to 5')"
   ]
  },
  {
   "cell_type": "code",
   "execution_count": 114,
   "metadata": {
    "ExecuteTime": {
     "end_time": "2020-11-10T02:11:38.350500Z",
     "start_time": "2020-11-10T02:11:38.344507Z"
    }
   },
   "outputs": [
    {
     "name": "stdout",
     "output_type": "stream",
     "text": [
      "<Made it>\n"
     ]
    }
   ],
   "source": [
    "a,b,c,d = 5,7,8,4\n",
    "if a<b or c>d:\n",
    "    print('<Made it>')"
   ]
  },
  {
   "cell_type": "code",
   "execution_count": 115,
   "metadata": {
    "ExecuteTime": {
     "end_time": "2020-11-10T02:13:15.296246Z",
     "start_time": "2020-11-10T02:13:15.280255Z"
    }
   },
   "outputs": [
    {
     "data": {
      "text/plain": [
       "True"
      ]
     },
     "execution_count": 115,
     "metadata": {},
     "output_type": "execute_result"
    }
   ],
   "source": [
    "4 > 3 >2 > 1  # 4>3 and 3 >2 and 2 >1"
   ]
  },
  {
   "cell_type": "markdown",
   "metadata": {},
   "source": [
    "- For循环\n",
    "    -  用于**遍历**一个集合或者一个迭代器\n",
    "    - `continue`： **跳过**当次循环，进入下一个循环\n",
    "    - `break`： 跳出当前的for循环\n",
    "    - 如果集合或者迭代器中的元素是一个序列，可以进行拆包"
   ]
  },
  {
   "cell_type": "code",
   "execution_count": 116,
   "metadata": {
    "ExecuteTime": {
     "end_time": "2020-11-10T02:17:17.809439Z",
     "start_time": "2020-11-10T02:17:17.791436Z"
    }
   },
   "outputs": [
    {
     "data": {
      "text/plain": [
       "12"
      ]
     },
     "execution_count": 116,
     "metadata": {},
     "output_type": "execute_result"
    }
   ],
   "source": [
    "sequence = [1,2,None,4, None,5]\n",
    "total = 0 \n",
    "for value in sequence:\n",
    "    if value is None:\n",
    "        continue\n",
    "    total += value\n",
    "total"
   ]
  },
  {
   "cell_type": "code",
   "execution_count": 117,
   "metadata": {
    "ExecuteTime": {
     "end_time": "2020-11-10T02:17:53.236640Z",
     "start_time": "2020-11-10T02:17:53.215551Z"
    }
   },
   "outputs": [
    {
     "data": {
      "text/plain": [
       "10"
      ]
     },
     "execution_count": 117,
     "metadata": {},
     "output_type": "execute_result"
    }
   ],
   "source": [
    "sequence = [1,2,3,4,5]\n",
    "total = 0 \n",
    "for value in sequence:\n",
    "    if value == 5:\n",
    "        break\n",
    "    total += value\n",
    "total"
   ]
  },
  {
   "cell_type": "code",
   "execution_count": 119,
   "metadata": {
    "ExecuteTime": {
     "end_time": "2020-11-10T02:21:20.981431Z",
     "start_time": "2020-11-10T02:21:20.966440Z"
    }
   },
   "outputs": [
    {
     "name": "stdout",
     "output_type": "stream",
     "text": [
      "(0, 0)\n",
      "(1, 0)\n",
      "(1, 1)\n",
      "(2, 0)\n",
      "(2, 1)\n",
      "(2, 2)\n",
      "(3, 0)\n",
      "(3, 1)\n",
      "(3, 2)\n",
      "(3, 3)\n"
     ]
    }
   ],
   "source": [
    "for i in range(4):\n",
    "    for j in range(4):\n",
    "        if i < j: break # 跳出内循环\n",
    "        print((i, j))"
   ]
  },
  {
   "cell_type": "markdown",
   "metadata": {},
   "source": [
    "- While 循环\n",
    "    - 会在条件符合时一直执行代码块，直到条件判断为False，或者显示以`break`结尾时才结束"
   ]
  },
  {
   "cell_type": "code",
   "execution_count": 121,
   "metadata": {
    "ExecuteTime": {
     "end_time": "2020-11-10T02:32:34.601834Z",
     "start_time": "2020-11-10T02:32:34.590841Z"
    }
   },
   "outputs": [
    {
     "data": {
      "text/plain": [
       "504"
      ]
     },
     "execution_count": 121,
     "metadata": {},
     "output_type": "execute_result"
    }
   ],
   "source": [
    "x = 256\n",
    "total = 0 \n",
    "while x > 0:\n",
    "    if total > 500: break \n",
    "    total += x \n",
    "    x = x // 2\n",
    "total"
   ]
  },
  {
   "cell_type": "markdown",
   "metadata": {},
   "source": [
    "- pass\n",
    "    - Python中的“什么都不做”语句\n",
    "    - 用于在代码段中表示不执行任何操作，或者作为**还没有实现的代码占位符**\n",
    "    - 之所以使用它，是因为Python使用了缩进进行分割代码"
   ]
  },
  {
   "cell_type": "markdown",
   "metadata": {},
   "source": [
    "- range\n",
    "    - range函数返回一个**迭代器**，生成一个**等差整数序列**\n",
    "    - 参数： 起始，结尾，步长(可以省略)\n",
    "    - 最常用就是 传入一个参数表示结尾 `range(10)`表示0-9的整数序列\n",
    "    - 产生的整数**不包含结尾**\n",
    "    - 常用于**根据序列的索引遍历序列**，`for i in range(len(seque))`\n",
    "    - 使用list可以将range产生的序列存储在list数据结构中\n",
    "    - range产生的序列是任意大小，但是**在任意给定的时间内的内存使用量是最小的**"
   ]
  },
  {
   "cell_type": "code",
   "execution_count": 122,
   "metadata": {
    "ExecuteTime": {
     "end_time": "2020-11-10T02:38:48.282898Z",
     "start_time": "2020-11-10T02:38:48.274904Z"
    }
   },
   "outputs": [
    {
     "data": {
      "text/plain": [
       "range(0, 10)"
      ]
     },
     "execution_count": 122,
     "metadata": {},
     "output_type": "execute_result"
    }
   ],
   "source": [
    "range(10)"
   ]
  },
  {
   "cell_type": "code",
   "execution_count": 123,
   "metadata": {
    "ExecuteTime": {
     "end_time": "2020-11-10T02:38:56.067692Z",
     "start_time": "2020-11-10T02:38:56.060700Z"
    }
   },
   "outputs": [
    {
     "data": {
      "text/plain": [
       "range"
      ]
     },
     "execution_count": 123,
     "metadata": {},
     "output_type": "execute_result"
    }
   ],
   "source": [
    "type(range(10))"
   ]
  },
  {
   "cell_type": "code",
   "execution_count": 124,
   "metadata": {
    "ExecuteTime": {
     "end_time": "2020-11-10T02:39:09.881508Z",
     "start_time": "2020-11-10T02:39:09.865505Z"
    }
   },
   "outputs": [
    {
     "data": {
      "text/plain": [
       "[0, 1, 2, 3, 4, 5, 6, 7, 8, 9]"
      ]
     },
     "execution_count": 124,
     "metadata": {},
     "output_type": "execute_result"
    }
   ],
   "source": [
    "list(range(10))"
   ]
  },
  {
   "cell_type": "code",
   "execution_count": 126,
   "metadata": {
    "ExecuteTime": {
     "end_time": "2020-11-10T02:39:30.485401Z",
     "start_time": "2020-11-10T02:39:30.477407Z"
    }
   },
   "outputs": [
    {
     "data": {
      "text/plain": [
       "[20, 18, 16, 14, 12, 10, 8, 6, 4, 2]"
      ]
     },
     "execution_count": 126,
     "metadata": {},
     "output_type": "execute_result"
    }
   ],
   "source": [
    "list(range(20,0,-2))"
   ]
  },
  {
   "cell_type": "code",
   "execution_count": 127,
   "metadata": {
    "ExecuteTime": {
     "end_time": "2020-11-10T02:40:17.117000Z",
     "start_time": "2020-11-10T02:40:17.101995Z"
    }
   },
   "outputs": [
    {
     "name": "stdout",
     "output_type": "stream",
     "text": [
      "0 ---> 1\n",
      "1 ---> 3\n",
      "2 ---> 5\n",
      "3 ---> 7\n",
      "4 ---> 9\n"
     ]
    }
   ],
   "source": [
    "seq = [1,3,5,7,9]\n",
    "for i in range(len(seq)):\n",
    "    print(i, '--->', seq[i])"
   ]
  },
  {
   "cell_type": "code",
   "execution_count": 128,
   "metadata": {
    "ExecuteTime": {
     "end_time": "2020-11-10T02:41:41.619422Z",
     "start_time": "2020-11-10T02:41:41.596420Z"
    }
   },
   "outputs": [
    {
     "data": {
      "text/plain": [
       "23331668"
      ]
     },
     "execution_count": 128,
     "metadata": {},
     "output_type": "execute_result"
    }
   ],
   "source": [
    "sum = 0\n",
    "for i in range(10000):\n",
    "    if i % 3 ==0 or i % 5 == 0:\n",
    "        sum += i \n",
    "sum "
   ]
  },
  {
   "cell_type": "markdown",
   "metadata": {},
   "source": [
    "- 三元表达式\n",
    "    - 将一个`if-else`代码块联合起来，**在一行代码或一个语句中生成数据**\n",
    "    - `if-else`代码块中，按照顺序逐个执行，因此，**三元表达式的if册和else测可能会包含计算消耗**，但是真分支会被采用"
   ]
  },
  {
   "cell_type": "code",
   "execution_count": null,
   "metadata": {},
   "outputs": [],
   "source": [
    "value = true-exor if condition else false-expr"
   ]
  },
  {
   "cell_type": "code",
   "execution_count": 131,
   "metadata": {
    "ExecuteTime": {
     "end_time": "2020-11-10T02:46:21.820181Z",
     "start_time": "2020-11-10T02:46:21.811185Z"
    }
   },
   "outputs": [
    {
     "data": {
      "text/plain": [
       "'None-negative'"
      ]
     },
     "execution_count": 131,
     "metadata": {},
     "output_type": "execute_result"
    }
   ],
   "source": [
    "x = 5\n",
    "'None-negative' if x > 0 else 'Nagative'"
   ]
  },
  {
   "cell_type": "code",
   "execution_count": 132,
   "metadata": {
    "ExecuteTime": {
     "end_time": "2020-11-10T02:48:48.438388Z",
     "start_time": "2020-11-10T02:48:48.428381Z"
    }
   },
   "outputs": [
    {
     "name": "stdout",
     "output_type": "stream",
     "text": [
      "做\n"
     ]
    }
   ],
   "source": [
    "x = 5\n",
    "print(\"做\") if x > 0 else print('不做')"
   ]
  }
 ],
 "metadata": {
  "kernelspec": {
   "display_name": "Python 3",
   "language": "python",
   "name": "python3"
  },
  "language_info": {
   "codemirror_mode": {
    "name": "ipython",
    "version": 3
   },
   "file_extension": ".py",
   "mimetype": "text/x-python",
   "name": "python",
   "nbconvert_exporter": "python",
   "pygments_lexer": "ipython3",
   "version": "3.8.3"
  },
  "toc": {
   "base_numbering": 1,
   "nav_menu": {},
   "number_sections": true,
   "sideBar": true,
   "skip_h1_title": false,
   "title_cell": "Table of Contents",
   "title_sidebar": "Contents",
   "toc_cell": false,
   "toc_position": {},
   "toc_section_display": true,
   "toc_window_display": false
  },
  "varInspector": {
   "cols": {
    "lenName": 16,
    "lenType": 16,
    "lenVar": 40
   },
   "kernels_config": {
    "python": {
     "delete_cmd_postfix": "",
     "delete_cmd_prefix": "del ",
     "library": "var_list.py",
     "varRefreshCmd": "print(var_dic_list())"
    },
    "r": {
     "delete_cmd_postfix": ") ",
     "delete_cmd_prefix": "rm(",
     "library": "var_list.r",
     "varRefreshCmd": "cat(var_dic_list()) "
    }
   },
   "oldHeight": 122,
   "position": {
    "height": "144px",
    "left": "996px",
    "right": "20px",
    "top": "120px",
    "width": "350px"
   },
   "types_to_exclude": [
    "module",
    "function",
    "builtin_function_or_method",
    "instance",
    "_Feature"
   ],
   "varInspector_section_display": "block",
   "window_display": false
  }
 },
 "nbformat": 4,
 "nbformat_minor": 4
}
